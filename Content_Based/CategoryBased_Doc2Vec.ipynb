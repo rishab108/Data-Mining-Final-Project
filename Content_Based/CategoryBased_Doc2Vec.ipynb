{
 "cells": [
  {
   "cell_type": "markdown",
   "metadata": {},
   "source": [
    "### Spark Initialization"
   ]
  },
  {
   "cell_type": "code",
   "execution_count": 1,
   "metadata": {
    "collapsed": true
   },
   "outputs": [],
   "source": [
    "import findspark\n",
    "findspark.init()"
   ]
  },
  {
   "cell_type": "code",
   "execution_count": 2,
   "metadata": {
    "collapsed": true
   },
   "outputs": [],
   "source": [
    "import sys\n",
    "import copy\n",
    "import csv\n",
    "import numpy as np\n",
    "\n",
    "from string import atoi\n",
    "from pyspark import SparkContext, SparkConf\n",
    "from pyspark.sql import SparkSession"
   ]
  },
  {
   "cell_type": "code",
   "execution_count": 3,
   "metadata": {
    "collapsed": true
   },
   "outputs": [],
   "source": [
    "conf = SparkConf().setAppName(\"ContentBased\")\n",
    "conf = conf.setMaster(\"local[*]\")"
   ]
  },
  {
   "cell_type": "code",
   "execution_count": 4,
   "metadata": {
    "collapsed": true
   },
   "outputs": [],
   "source": [
    "sc  = SparkContext(conf=conf)"
   ]
  },
  {
   "cell_type": "markdown",
   "metadata": {},
   "source": [
    "### Train, Test and Output Files"
   ]
  },
  {
   "cell_type": "code",
   "execution_count": null,
   "metadata": {
    "collapsed": true
   },
   "outputs": [],
   "source": [
    "train_file = \"/Users/lakshya/Desktop/INF-553/Project/pittsburgh_review_with_text_20_res_lemma_data_train.txt\"\n",
    "test_file = \"/Users/lakshya/Desktop/INF-553/Project/pittsburgh_review_with_text_20_res_lemma_data_test.txt\"\n",
    "category_file = \"/Users/lakshya/Desktop/INF-553/Project/pitts_bus_20_attributes_categories.txt\"\n",
    "train_output = '/Users/lakshya/Desktop/INF-553/Project/Pittsburgh_CategoryBased_Doc2Vec_train_predictions.txt'\n",
    "test_output = '/Users/lakshya/Desktop/INF-553/Project/Pittsburgh_CategoryBased_Doc2Vec_test_predictions.txt'"
   ]
  },
  {
   "cell_type": "markdown",
   "metadata": {},
   "source": [
    "### Load Train and Test Data"
   ]
  },
  {
   "cell_type": "code",
   "execution_count": 5,
   "metadata": {
    "collapsed": true
   },
   "outputs": [],
   "source": [
    "trainData = sc.textFile(train_file,use_unicode=False)\n",
    "testData = sc.textFile(test_file,use_unicode=False)"
   ]
  },
  {
   "cell_type": "code",
   "execution_count": 6,
   "metadata": {
    "collapsed": true
   },
   "outputs": [],
   "source": [
    "train_rdd = trainData.mapPartitions(lambda x: csv.reader(x)).map(lambda x: ((x[0], x[1]), float(x[2])))\n",
    "test_rdd = testData.mapPartitions(lambda x: csv.reader(x)).map(lambda x: ((x[0], x[1]), float(x[2])))"
   ]
  },
  {
   "cell_type": "markdown",
   "metadata": {},
   "source": [
    "Calculate average rating of users and products"
   ]
  },
  {
   "cell_type": "code",
   "execution_count": 7,
   "metadata": {
    "collapsed": true
   },
   "outputs": [],
   "source": [
    "avg_rating = train_rdd.map(lambda x: (x[0][0], x[1])).groupByKey().map(lambda x: (x[0], list(x[1]))).map(lambda x: (x[0], sum(x[1])/len(x[1])))\n",
    "prod_rating = train_rdd.map(lambda x: (x[0][1], x[1])).groupByKey().map(lambda x: (x[0], list(x[1]))).map(lambda x: (x[0], sum(x[1])/len(x[1])))"
   ]
  },
  {
   "cell_type": "code",
   "execution_count": 8,
   "metadata": {
    "collapsed": true
   },
   "outputs": [],
   "source": [
    "train_temp = trainData.mapPartitions(lambda x: csv.reader(x)).map(lambda x: ((x[0], x[1]), x[2]))"
   ]
  },
  {
   "cell_type": "markdown",
   "metadata": {},
   "source": [
    "### Load product category data"
   ]
  },
  {
   "cell_type": "code",
   "execution_count": 9,
   "metadata": {
    "collapsed": true
   },
   "outputs": [],
   "source": [
    "data = sc.textFile(category_file ,use_unicode=False)"
   ]
  },
  {
   "cell_type": "code",
   "execution_count": 10,
   "metadata": {},
   "outputs": [
    {
     "data": {
      "text/plain": [
       "['\"f2FfutZhb4F-m1Ob0EdYaw\",\"asian fusion caterers fast food chinese restaurants vegetarian food delivery services event planning  services food  alcohol_full_bar ambience_casual bikeparking businessacceptscreditcards businessparking_street caters goodforkids goodformeal_dinner hastv noiselevel_average restaurantsattire_casual restaurantsdelivery restaurantsgoodforgroups restaurantspricerange2_2 restaurantstableservice restaurantstakeout wheelchairaccessible \"',\n",
       " '\"qfcdMhm1Ff28JHVpHca20g\",\"pizza restaurants  businessacceptscreditcards restaurantsattire_casual restaurantspricerange2_2 restaurantstakeout \"',\n",
       " '\"wHUru-79ExNRanJtwZEYeA\",\"\"',\n",
       " '\"rreIYrzI9U052p7nN_qogA\",\"sushi bars food thai poke japanese restaurants   ambience_casual bikeparking businessacceptscreditcards caters goodforkids goodformeal_lunch goodformeal_dinner noiselevel_average restaurantsattire_casual restaurantspricerange2_2 restaurantstakeout \"',\n",
       " '\"eva56motCJcevOwKzyQO1g\",\"cafes hotels  travel swimming pools travel services hiking playgrounds local services skating rinks beaches visitor centers restaurants tennis community service/non-profit parks active life  bikeparking businessacceptscreditcards businessparking_street goodforkids wheelchairaccessible \"',\n",
       " '\"dUeEAGxEwMv1Tafj6yr1BA\",\"food cafes coffee  tea restaurants  \"']"
      ]
     },
     "execution_count": 10,
     "metadata": {},
     "output_type": "execute_result"
    }
   ],
   "source": [
    "data.take(6)"
   ]
  },
  {
   "cell_type": "code",
   "execution_count": 11,
   "metadata": {
    "collapsed": true
   },
   "outputs": [],
   "source": [
    "train_data = data.mapPartitions(lambda x: csv.reader(x)).map(lambda x: (x[0], x[1]))"
   ]
  },
  {
   "cell_type": "code",
   "execution_count": 12,
   "metadata": {},
   "outputs": [
    {
     "data": {
      "text/plain": [
       "[('f2FfutZhb4F-m1Ob0EdYaw',\n",
       "  'asian fusion caterers fast food chinese restaurants vegetarian food delivery services event planning  services food  alcohol_full_bar ambience_casual bikeparking businessacceptscreditcards businessparking_street caters goodforkids goodformeal_dinner hastv noiselevel_average restaurantsattire_casual restaurantsdelivery restaurantsgoodforgroups restaurantspricerange2_2 restaurantstableservice restaurantstakeout wheelchairaccessible '),\n",
       " ('qfcdMhm1Ff28JHVpHca20g',\n",
       "  'pizza restaurants  businessacceptscreditcards restaurantsattire_casual restaurantspricerange2_2 restaurantstakeout '),\n",
       " ('wHUru-79ExNRanJtwZEYeA', '')]"
      ]
     },
     "execution_count": 12,
     "metadata": {},
     "output_type": "execute_result"
    }
   ],
   "source": [
    "train_data.take(3)"
   ]
  },
  {
   "cell_type": "markdown",
   "metadata": {},
   "source": [
    "### Collect user data from train data (User, Product, Rating)"
   ]
  },
  {
   "cell_type": "code",
   "execution_count": 13,
   "metadata": {
    "collapsed": true
   },
   "outputs": [],
   "source": [
    "userReview = train_data.map(lambda x: (x[0][0], x[0][1], x[1][0][0]))"
   ]
  },
  {
   "cell_type": "code",
   "execution_count": 14,
   "metadata": {
    "collapsed": true
   },
   "outputs": [],
   "source": [
    "userReviewCollected = train_temp.map(lambda x: (x[0][0], x[0][1], x[1]))"
   ]
  },
  {
   "cell_type": "code",
   "execution_count": 15,
   "metadata": {},
   "outputs": [
    {
     "data": {
      "text/plain": [
       "[('1VVHf1BvtGC0aSCCIjQyiA', 'K5jY2W5Q3eNnwssV5UZtow', '4'),\n",
       " ('QYKexxaOJQlseGWmc6soRg', 'rzByiKaj-bLeLz-zKNBQdg', '2'),\n",
       " ('-ARdx8hOcEWlMDjzwLYZ_g', '3cbsPfoUUrysf-M8FI_0IA', '4'),\n",
       " ('2oTG2GrBpikkonRxQywI7Q', 'CFtZH4Skp9z3o4ToSywI4w', '4'),\n",
       " ('B7aR8VlLMGzaJ7NHC-jeMQ', 'RC8NJlX3X2Eo240PU5zJWA', '4')]"
      ]
     },
     "execution_count": 15,
     "metadata": {},
     "output_type": "execute_result"
    }
   ],
   "source": [
    "userReviewCollected.take(5)"
   ]
  },
  {
   "cell_type": "markdown",
   "metadata": {},
   "source": [
    "### Collect product data (Product, Category Text)"
   ]
  },
  {
   "cell_type": "code",
   "execution_count": 16,
   "metadata": {
    "collapsed": true
   },
   "outputs": [],
   "source": [
    "prodReview = train_data.map(lambda x: (x[0], x[1])).groupByKey().mapValues(list)"
   ]
  },
  {
   "cell_type": "code",
   "execution_count": 17,
   "metadata": {
    "collapsed": true
   },
   "outputs": [],
   "source": [
    "prodReviewCollected = prodReview.map(lambda x: (x[0], x[1][0].split(\" \")))"
   ]
  },
  {
   "cell_type": "code",
   "execution_count": 18,
   "metadata": {},
   "outputs": [
    {
     "data": {
      "text/plain": [
       "[('MvlQo4bev1eqp1q0HYOLHg',\n",
       "  ['professional',\n",
       "   'services',\n",
       "   'performing',\n",
       "   'arts',\n",
       "   'arts',\n",
       "   '',\n",
       "   'entertainment',\n",
       "   'fitness',\n",
       "   '',\n",
       "   'instruction',\n",
       "   'dance',\n",
       "   'studios',\n",
       "   'active',\n",
       "   'life',\n",
       "   'education',\n",
       "   '',\n",
       "   'bikeparking',\n",
       "   'businessparking_street',\n",
       "   'byappointmentonly',\n",
       "   'goodforkids',\n",
       "   'wheelchairaccessible',\n",
       "   '']),\n",
       " ('jemRU9DvmS0WGZuZ-k3jCQ',\n",
       "  ['desserts',\n",
       "   'food',\n",
       "   'shaved',\n",
       "   'ice',\n",
       "   'ice',\n",
       "   'cream',\n",
       "   '',\n",
       "   'frozen',\n",
       "   'yogurt',\n",
       "   '',\n",
       "   'bikeparking',\n",
       "   'businessacceptscreditcards',\n",
       "   'businessparking_lot',\n",
       "   'caters',\n",
       "   'restaurantspricerange2_1',\n",
       "   'restaurantstakeout',\n",
       "   '']),\n",
       " ('PuMpFTKS6gY_e31UP5YVnw',\n",
       "  ['restaurants',\n",
       "   'american_new',\n",
       "   '',\n",
       "   'bikeparking',\n",
       "   'businessacceptscreditcards',\n",
       "   'goodforkids',\n",
       "   'hastv',\n",
       "   'restaurantsattire_casual',\n",
       "   'restaurantsgoodforgroups',\n",
       "   'restaurantspricerange2_1',\n",
       "   'restaurantstakeout',\n",
       "   '']),\n",
       " ('5S8KaaAIjqo2bJcVlMNW5w',\n",
       "  ['chinese',\n",
       "   'restaurants',\n",
       "   '',\n",
       "   'businessacceptscreditcards',\n",
       "   'restaurantsattire_casual',\n",
       "   'restaurantsdelivery',\n",
       "   'restaurantsgoodforgroups',\n",
       "   'restaurantspricerange2_2',\n",
       "   'restaurantstableservice',\n",
       "   'restaurantstakeout',\n",
       "   '']),\n",
       " ('xZfPdAYeimiruXuGR4nSUA',\n",
       "  ['specialty',\n",
       "   'food',\n",
       "   'health',\n",
       "   'markets',\n",
       "   'vegetarian',\n",
       "   'food',\n",
       "   'restaurants',\n",
       "   '',\n",
       "   '',\n",
       "   'ambience_casual',\n",
       "   'bikeparking',\n",
       "   'businessacceptscreditcards',\n",
       "   'businessparking_street',\n",
       "   'businessparking_lot',\n",
       "   'goodforkids',\n",
       "   'goodformeal_lunch',\n",
       "   'goodformeal_dinner',\n",
       "   'noiselevel_average',\n",
       "   'outdoorseating',\n",
       "   'restaurantsattire_casual',\n",
       "   'restaurantsgoodforgroups',\n",
       "   'restaurantspricerange2_2',\n",
       "   'restaurantstakeout',\n",
       "   'wheelchairaccessible',\n",
       "   'wifi_free',\n",
       "   ''])]"
      ]
     },
     "execution_count": 18,
     "metadata": {},
     "output_type": "execute_result"
    }
   ],
   "source": [
    "prodReviewCollected.take(5)"
   ]
  },
  {
   "cell_type": "markdown",
   "metadata": {},
   "source": [
    "### Doc2Vec model creation"
   ]
  },
  {
   "cell_type": "code",
   "execution_count": 19,
   "metadata": {},
   "outputs": [
    {
     "name": "stderr",
     "output_type": "stream",
     "text": [
      "/Users/lakshya/anaconda/lib/python2.7/site-packages/cffi/model.py:525: UserWarning: 'point_conversion_form_t' has no values explicitly defined; guessing that it is equivalent to 'unsigned int'\n",
      "  % self._get_c_name())\n"
     ]
    }
   ],
   "source": [
    "from collections import namedtuple\n",
    "from gensim.models.doc2vec import Doc2Vec, TaggedDocument"
   ]
  },
  {
   "cell_type": "markdown",
   "metadata": {},
   "source": [
    "Convert user and product rdd to pandas dataframe"
   ]
  },
  {
   "cell_type": "code",
   "execution_count": 20,
   "metadata": {
    "collapsed": true
   },
   "outputs": [],
   "source": [
    "spark = SparkSession(sc)\n",
    "\n",
    "userPandas = userReviewCollected.toDF().toPandas()\n",
    "prodPandas = prodReviewCollected.toDF().toPandas()"
   ]
  },
  {
   "cell_type": "markdown",
   "metadata": {},
   "source": [
    "Create Doc2Vec model on product category text"
   ]
  },
  {
   "cell_type": "code",
   "execution_count": 21,
   "metadata": {
    "collapsed": true
   },
   "outputs": [],
   "source": [
    "documents = [TaggedDocument(doc, [i]) for i, doc in enumerate(prodPandas['_2'])]"
   ]
  },
  {
   "cell_type": "code",
   "execution_count": 23,
   "metadata": {},
   "outputs": [
    {
     "name": "stderr",
     "output_type": "stream",
     "text": [
      "/Users/lakshya/anaconda/lib/python2.7/site-packages/gensim/models/doc2vec.py:570: UserWarning: The parameter `size` is deprecated, will be removed in 4.0.0, use `vector_size` instead.\n",
      "  warnings.warn(\"The parameter `size` is deprecated, will be removed in 4.0.0, use `vector_size` instead.\")\n"
     ]
    }
   ],
   "source": [
    "model = Doc2Vec(documents, size = 2000, min_count = 1, workers=4)"
   ]
  },
  {
   "cell_type": "code",
   "execution_count": 24,
   "metadata": {
    "collapsed": true
   },
   "outputs": [],
   "source": [
    "feature_vectors = []\n",
    "for i in range(0, len(model.docvecs)):\n",
    "    feature_vectors.append(model.docvecs[i])"
   ]
  },
  {
   "cell_type": "code",
   "execution_count": 25,
   "metadata": {},
   "outputs": [
    {
     "data": {
      "text/plain": [
       "array([-0.00085623,  0.00538157, -0.01083877, ...,  0.00503241,\n",
       "        0.00432282,  0.00195231], dtype=float32)"
      ]
     },
     "execution_count": 25,
     "metadata": {},
     "output_type": "execute_result"
    }
   ],
   "source": [
    "feature_vectors[0]"
   ]
  },
  {
   "cell_type": "markdown",
   "metadata": {},
   "source": [
    "Add Doc2Vec vectors to product dataframe"
   ]
  },
  {
   "cell_type": "code",
   "execution_count": 26,
   "metadata": {
    "collapsed": true
   },
   "outputs": [],
   "source": [
    "prodPandas['Vector'] = feature_vectors"
   ]
  },
  {
   "cell_type": "code",
   "execution_count": 27,
   "metadata": {},
   "outputs": [
    {
     "data": {
      "text/html": [
       "<div>\n",
       "<style>\n",
       "    .dataframe thead tr:only-child th {\n",
       "        text-align: right;\n",
       "    }\n",
       "\n",
       "    .dataframe thead th {\n",
       "        text-align: left;\n",
       "    }\n",
       "\n",
       "    .dataframe tbody tr th {\n",
       "        vertical-align: top;\n",
       "    }\n",
       "</style>\n",
       "<table border=\"1\" class=\"dataframe\">\n",
       "  <thead>\n",
       "    <tr style=\"text-align: right;\">\n",
       "      <th></th>\n",
       "      <th>_1</th>\n",
       "      <th>_2</th>\n",
       "      <th>Vector</th>\n",
       "    </tr>\n",
       "  </thead>\n",
       "  <tbody>\n",
       "    <tr>\n",
       "      <th>0</th>\n",
       "      <td>MvlQo4bev1eqp1q0HYOLHg</td>\n",
       "      <td>[professional, services, performing, arts, art...</td>\n",
       "      <td>[-0.000856232, 0.00538157, -0.0108388, 0.00452...</td>\n",
       "    </tr>\n",
       "    <tr>\n",
       "      <th>1</th>\n",
       "      <td>jemRU9DvmS0WGZuZ-k3jCQ</td>\n",
       "      <td>[desserts, food, shaved, ice, ice, cream, , fr...</td>\n",
       "      <td>[-2.89002e-05, 0.000403871, -0.00141715, 0.000...</td>\n",
       "    </tr>\n",
       "    <tr>\n",
       "      <th>2</th>\n",
       "      <td>PuMpFTKS6gY_e31UP5YVnw</td>\n",
       "      <td>[restaurants, american_new, , bikeparking, bus...</td>\n",
       "      <td>[-0.000163175, 0.00180052, -0.0043844, 0.00192...</td>\n",
       "    </tr>\n",
       "    <tr>\n",
       "      <th>3</th>\n",
       "      <td>5S8KaaAIjqo2bJcVlMNW5w</td>\n",
       "      <td>[chinese, restaurants, , businessacceptscredit...</td>\n",
       "      <td>[0.000363107, 0.00188846, -0.00416163, 0.00189...</td>\n",
       "    </tr>\n",
       "    <tr>\n",
       "      <th>4</th>\n",
       "      <td>xZfPdAYeimiruXuGR4nSUA</td>\n",
       "      <td>[specialty, food, health, markets, vegetarian,...</td>\n",
       "      <td>[-0.000158673, 0.00144021, -0.00264549, 0.0011...</td>\n",
       "    </tr>\n",
       "    <tr>\n",
       "      <th>5</th>\n",
       "      <td>8A4ck_lvMLYZDrDt7w8GVA</td>\n",
       "      <td>[]</td>\n",
       "      <td>[7.38954e-05, -0.000146097, 0.0002251, 4.58524...</td>\n",
       "    </tr>\n",
       "    <tr>\n",
       "      <th>6</th>\n",
       "      <td>P2uPCEBP2VZsApnvEHCgag</td>\n",
       "      <td>[indian, restaurants, , , ambience_casual, bik...</td>\n",
       "      <td>[0.000347396, -0.00047828, 0.00065993, 0.00031...</td>\n",
       "    </tr>\n",
       "    <tr>\n",
       "      <th>7</th>\n",
       "      <td>DwmAsemahJywywhuqv5J1Q</td>\n",
       "      <td>[szechuan, restaurants, chinese, , , ambience_...</td>\n",
       "      <td>[0.000477173, 0.00033229, -0.00147382, 0.00099...</td>\n",
       "    </tr>\n",
       "    <tr>\n",
       "      <th>8</th>\n",
       "      <td>71ONxJtmDNDiJAtYHK-0RA</td>\n",
       "      <td>[american_traditional, restaurants, diners, br...</td>\n",
       "      <td>[-8.49649e-05, 0.00131307, -0.00303418, 0.0015...</td>\n",
       "    </tr>\n",
       "    <tr>\n",
       "      <th>9</th>\n",
       "      <td>_7uEyBADd8S14rp2Kzez5g</td>\n",
       "      <td>[bars, nightlife, dive, bars, beer, bar, , alc...</td>\n",
       "      <td>[-0.000241363, 0.000776163, -0.00173951, 0.000...</td>\n",
       "    </tr>\n",
       "    <tr>\n",
       "      <th>10</th>\n",
       "      <td>BsLyCu_lkEdkG42qmvZlnQ</td>\n",
       "      <td>[sushi, bars, pan, asian, chinese, restaurants...</td>\n",
       "      <td>[2.22455e-05, 0.00217082, -0.00435012, 0.00241...</td>\n",
       "    </tr>\n",
       "    <tr>\n",
       "      <th>11</th>\n",
       "      <td>h5XqYtEmRuQ6yI0IyG6oNQ</td>\n",
       "      <td>[food, bakeries, , businessacceptscreditcards,...</td>\n",
       "      <td>[8.93469e-05, -0.000301438, 0.000407832, 4.077...</td>\n",
       "    </tr>\n",
       "    <tr>\n",
       "      <th>12</th>\n",
       "      <td>7rqpu7hwyFTEBZOZoNv7iA</td>\n",
       "      <td>[barbeque, southern, restaurants, soul, food, ...</td>\n",
       "      <td>[-0.000459612, 0.00455742, -0.00917717, 0.0041...</td>\n",
       "    </tr>\n",
       "    <tr>\n",
       "      <th>13</th>\n",
       "      <td>LkPQmCF3k6iDqBLY7bsE5Q</td>\n",
       "      <td>[bars, nightlife, pubs, , alcohol_full_bar, am...</td>\n",
       "      <td>[-0.000202329, 0.0002438, -0.000985481, -0.000...</td>\n",
       "    </tr>\n",
       "    <tr>\n",
       "      <th>14</th>\n",
       "      <td>rKh_Nl5edIB9AevqnDmO6g</td>\n",
       "      <td>[sports, bars, restaurants, nightlife, fish, ,...</td>\n",
       "      <td>[-0.00046362, 0.00308779, -0.00695685, 0.00312...</td>\n",
       "    </tr>\n",
       "    <tr>\n",
       "      <th>15</th>\n",
       "      <td>lLALzZxsJfd45g_u9Huerg</td>\n",
       "      <td>[]</td>\n",
       "      <td>[7.28027e-05, -0.000238674, 3.47253e-05, 0.000...</td>\n",
       "    </tr>\n",
       "    <tr>\n",
       "      <th>16</th>\n",
       "      <td>CY5S01UNJIH5bXHE9Ex_9Q</td>\n",
       "      <td>[dance, clubs, nightlife, , agesallowed_21plus...</td>\n",
       "      <td>[-0.000160625, 0.00297299, -0.00671805, 0.0030...</td>\n",
       "    </tr>\n",
       "    <tr>\n",
       "      <th>17</th>\n",
       "      <td>Een2yret0IwJUpHLwcxtRg</td>\n",
       "      <td>[italian, food, cafes, pizza, desserts, sicili...</td>\n",
       "      <td>[-0.000342807, 0.00267512, -0.0059211, 0.00263...</td>\n",
       "    </tr>\n",
       "    <tr>\n",
       "      <th>18</th>\n",
       "      <td>tXec672NHkM8PFZZAsEXAw</td>\n",
       "      <td>[dance, clubs, bars, lounges, nightlife, , alc...</td>\n",
       "      <td>[-0.000350617, 0.00314839, -0.00633049, 0.0024...</td>\n",
       "    </tr>\n",
       "    <tr>\n",
       "      <th>19</th>\n",
       "      <td>1WBGs0wJYK68UJ2DwUAI_A</td>\n",
       "      <td>[food, beer, wine, , spirits, cocktail, bars, ...</td>\n",
       "      <td>[6.43376e-06, -0.000300695, 0.000578386, -0.00...</td>\n",
       "    </tr>\n",
       "    <tr>\n",
       "      <th>20</th>\n",
       "      <td>NW4mtw2cS1PeJQDK2J_wfQ</td>\n",
       "      <td>[sports, bars, american_traditional, restauran...</td>\n",
       "      <td>[-9.09333e-05, -0.000774077, 0.00119182, -0.00...</td>\n",
       "    </tr>\n",
       "    <tr>\n",
       "      <th>21</th>\n",
       "      <td>c0yPNU-BqS65u0vIKP7P0w</td>\n",
       "      <td>[american_new, restaurants, , , byobcorkage_ye...</td>\n",
       "      <td>[0.00056911, 0.000123278, -0.000519524, 0.0004...</td>\n",
       "    </tr>\n",
       "    <tr>\n",
       "      <th>22</th>\n",
       "      <td>vNlJsfKKp968CZWr8J5xDA</td>\n",
       "      <td>[caterers, restaurants, sandwiches, event, pla...</td>\n",
       "      <td>[0.000153234, -0.00177409, 0.00447591, -0.0022...</td>\n",
       "    </tr>\n",
       "    <tr>\n",
       "      <th>23</th>\n",
       "      <td>B10A-q2fskHqLx5miQpmOw</td>\n",
       "      <td>[chinese, grocery, international, grocery, foo...</td>\n",
       "      <td>[0.000107482, 0.00292156, -0.00636156, 0.00287...</td>\n",
       "    </tr>\n",
       "    <tr>\n",
       "      <th>24</th>\n",
       "      <td>oRKyGtUsN5IcRReN7ScUwQ</td>\n",
       "      <td>[pizza, italian, restaurants, burgers, , alcoh...</td>\n",
       "      <td>[3.70934e-05, 0.00080541, -0.00150176, 0.00061...</td>\n",
       "    </tr>\n",
       "    <tr>\n",
       "      <th>25</th>\n",
       "      <td>--cjBEbXMI2obtaRHNSFrA</td>\n",
       "      <td>[arts, , entertainment, venues, , event, space...</td>\n",
       "      <td>[-0.000954944, 0.003341, -0.00680493, 0.002037...</td>\n",
       "    </tr>\n",
       "    <tr>\n",
       "      <th>26</th>\n",
       "      <td>QXR-YnHgV0qDyuUTckYeGw</td>\n",
       "      <td>[restaurants, pubs, italian, bars, pizza, nigh...</td>\n",
       "      <td>[0.000121428, -0.00105284, 0.00257679, -0.0010...</td>\n",
       "    </tr>\n",
       "    <tr>\n",
       "      <th>27</th>\n",
       "      <td>PqBZ88vOqctCc0fRm2sXQg</td>\n",
       "      <td>[restaurants, american_new, american_tradition...</td>\n",
       "      <td>[9.57367e-05, 0.00119398, -0.00280318, 0.00160...</td>\n",
       "    </tr>\n",
       "    <tr>\n",
       "      <th>28</th>\n",
       "      <td>szGbmw_vq3kVU4SfK1x6Sw</td>\n",
       "      <td>[steakhouses, restaurants, , alcohol_full_bar,...</td>\n",
       "      <td>[-0.00035699, 0.00384681, -0.00851505, 0.00397...</td>\n",
       "    </tr>\n",
       "    <tr>\n",
       "      <th>29</th>\n",
       "      <td>YO8sWa0wYChH6DQWnE6NFg</td>\n",
       "      <td>[restaurants, breakfast, , brunch, , , ambienc...</td>\n",
       "      <td>[7.44329e-05, 0.00125922, -0.00259635, 0.00160...</td>\n",
       "    </tr>\n",
       "    <tr>\n",
       "      <th>...</th>\n",
       "      <td>...</td>\n",
       "      <td>...</td>\n",
       "      <td>...</td>\n",
       "    </tr>\n",
       "    <tr>\n",
       "      <th>3162</th>\n",
       "      <td>DSyBqO8U8INz9cjduM6DzQ</td>\n",
       "      <td>[beer, wine, , spirits, seafood, nightlife, re...</td>\n",
       "      <td>[0.000118317, -1.79742e-05, 0.000178828, -0.00...</td>\n",
       "    </tr>\n",
       "    <tr>\n",
       "      <th>3163</th>\n",
       "      <td>IdHIcxCFq84evujUVNcB5w</td>\n",
       "      <td>[cafeteria, restaurants, , , bikeparking, busi...</td>\n",
       "      <td>[8.28144e-05, 0.000642731, -0.00144319, 0.0006...</td>\n",
       "    </tr>\n",
       "    <tr>\n",
       "      <th>3164</th>\n",
       "      <td>TeFUk5xN5UwZTCRet2zP3w</td>\n",
       "      <td>[food, food, trucks, , , bikeparking, business...</td>\n",
       "      <td>[-0.00019105, 0.000129015, -0.000396485, -0.00...</td>\n",
       "    </tr>\n",
       "    <tr>\n",
       "      <th>3165</th>\n",
       "      <td>aSDQk0wjskLdQRFg2TBt_A</td>\n",
       "      <td>[restaurants, breakfast, , brunch, , , ambienc...</td>\n",
       "      <td>[-8.77384e-05, 0.00144071, -0.00266518, 0.0015...</td>\n",
       "    </tr>\n",
       "    <tr>\n",
       "      <th>3166</th>\n",
       "      <td>N9lSh3nbCirE5FP8DFXF1w</td>\n",
       "      <td>[food, fruits, , veggies, flowers, , gifts, gi...</td>\n",
       "      <td>[-0.000638581, 0.00630804, -0.0133367, 0.00585...</td>\n",
       "    </tr>\n",
       "    <tr>\n",
       "      <th>3167</th>\n",
       "      <td>0dRqzEG9-2QNnvJtdpdDZw</td>\n",
       "      <td>[food, sandwiches, breakfast, , brunch, soup, ...</td>\n",
       "      <td>[-0.00021803, 0.000685044, -0.00193566, 0.0010...</td>\n",
       "    </tr>\n",
       "    <tr>\n",
       "      <th>3168</th>\n",
       "      <td>zyRhwC9zs34LeYYfGc4gBA</td>\n",
       "      <td>[food, bakeries, , bikeparking, businessaccept...</td>\n",
       "      <td>[-0.000210238, -1.48467e-05, -0.000243082, 0.0...</td>\n",
       "    </tr>\n",
       "    <tr>\n",
       "      <th>3169</th>\n",
       "      <td>P4y-E70jg_ysjO8j2yVTxg</td>\n",
       "      <td>[beer, wine, , spirits, food, , businessaccept...</td>\n",
       "      <td>[-8.06706e-05, 0.00135975, -0.0031746, 0.00119...</td>\n",
       "    </tr>\n",
       "    <tr>\n",
       "      <th>3170</th>\n",
       "      <td>wnasanv4cj7tN6U00VfzOQ</td>\n",
       "      <td>[bars, american_traditional, nightlife, restau...</td>\n",
       "      <td>[-4.2416e-05, 0.000768141, -0.00189049, 0.0006...</td>\n",
       "    </tr>\n",
       "    <tr>\n",
       "      <th>3171</th>\n",
       "      <td>Iam7tYWhssw_rscSBkeRIQ</td>\n",
       "      <td>[italian, restaurants, pizza, , , ambience_div...</td>\n",
       "      <td>[-0.000150837, 4.70439e-05, -8.6497e-05, -9.96...</td>\n",
       "    </tr>\n",
       "    <tr>\n",
       "      <th>3172</th>\n",
       "      <td>4wwmiKihQAit3e1VwujfVw</td>\n",
       "      <td>[shopping, grocery, specialty, food, food, dru...</td>\n",
       "      <td>[-0.000288707, 0.00125676, -0.00275345, 0.0010...</td>\n",
       "    </tr>\n",
       "    <tr>\n",
       "      <th>3173</th>\n",
       "      <td>7I_xWHdCaH-CtZLQGkhsjg</td>\n",
       "      <td>[restaurants, food, coffee, , tea, delis, cafe...</td>\n",
       "      <td>[6.64871e-05, 0.00370898, -0.00776844, 0.00366...</td>\n",
       "    </tr>\n",
       "    <tr>\n",
       "      <th>3174</th>\n",
       "      <td>GD0XvS6HlCuDjtCDWiLkVQ</td>\n",
       "      <td>[vegetarian, food, coffee, , tea, restaurants,...</td>\n",
       "      <td>[0.000379652, 0.00177949, -0.00436533, 0.00252...</td>\n",
       "    </tr>\n",
       "    <tr>\n",
       "      <th>3175</th>\n",
       "      <td>8mcg3eCoh69WqaKKZZF98w</td>\n",
       "      <td>[american_traditional, fast, food, hot, dogs, ...</td>\n",
       "      <td>[0.000110327, 0.0012295, -0.0025222, 0.0012908...</td>\n",
       "    </tr>\n",
       "    <tr>\n",
       "      <th>3176</th>\n",
       "      <td>8ptBNZne8pV6X01pQBnpkQ</td>\n",
       "      <td>[restaurants, american_new, , , businessaccept...</td>\n",
       "      <td>[0.00051266, -0.00246027, 0.00473034, -0.00163...</td>\n",
       "    </tr>\n",
       "    <tr>\n",
       "      <th>3177</th>\n",
       "      <td>_7nELtYw3n2DzMN8252lhQ</td>\n",
       "      <td>[italian, restaurants, , alcohol_full_bar, amb...</td>\n",
       "      <td>[0.000212807, -0.000435299, 0.000511589, -0.00...</td>\n",
       "    </tr>\n",
       "    <tr>\n",
       "      <th>3178</th>\n",
       "      <td>kDqgPRL75KG4lBxJsYUJlw</td>\n",
       "      <td>[vegan, tacos, american_traditional, restauran...</td>\n",
       "      <td>[-0.000266984, 0.00307916, -0.006132, 0.002783...</td>\n",
       "    </tr>\n",
       "    <tr>\n",
       "      <th>3179</th>\n",
       "      <td>TsCq0UqOrKJ_ZJx7KKwKkA</td>\n",
       "      <td>[italian, pizza, restaurants, , , ambience_cas...</td>\n",
       "      <td>[4.02342e-05, -0.000100567, -2.29193e-05, 2.07...</td>\n",
       "    </tr>\n",
       "    <tr>\n",
       "      <th>3180</th>\n",
       "      <td>uujdZGu2hjCMj8AmZb4QEw</td>\n",
       "      <td>[]</td>\n",
       "      <td>[-0.000196128, -2.86704e-05, 0.000226066, -0.0...</td>\n",
       "    </tr>\n",
       "    <tr>\n",
       "      <th>3181</th>\n",
       "      <td>_FH3osvpPRnMv-K2u6ZM3w</td>\n",
       "      <td>[sandwiches, restaurants, , , ambience_casual,...</td>\n",
       "      <td>[-8.85258e-05, 0.000719337, -0.00187018, 0.001...</td>\n",
       "    </tr>\n",
       "    <tr>\n",
       "      <th>3182</th>\n",
       "      <td>Dz48AHU652_zg43sBPRb9w</td>\n",
       "      <td>[desserts, ice, cream, , frozen, yogurt, food,...</td>\n",
       "      <td>[2.54124e-05, 9.24918e-05, -0.000514991, 0.000...</td>\n",
       "    </tr>\n",
       "    <tr>\n",
       "      <th>3183</th>\n",
       "      <td>NV9ftiLhePO0bNE1z8y6qw</td>\n",
       "      <td>[ramen, restaurants, food, desserts, ice, crea...</td>\n",
       "      <td>[0.000455942, -0.000607412, 0.00150968, -6.945...</td>\n",
       "    </tr>\n",
       "    <tr>\n",
       "      <th>3184</th>\n",
       "      <td>nmBU1vK_3pkF08guLEoUjA</td>\n",
       "      <td>[restaurants, sandwiches, breakfast, , brunch,...</td>\n",
       "      <td>[0.000287572, 0.00117732, -0.00252378, 0.00155...</td>\n",
       "    </tr>\n",
       "    <tr>\n",
       "      <th>3185</th>\n",
       "      <td>_XlO-uEB3ZMA19Q8Ljbipw</td>\n",
       "      <td>[cafes, vegetarian, food, juice, bars, , smoot...</td>\n",
       "      <td>[-0.000515644, 0.00402152, -0.0085258, 0.00372...</td>\n",
       "    </tr>\n",
       "    <tr>\n",
       "      <th>3186</th>\n",
       "      <td>CwcDRtNgjgM4pLS4o63g6A</td>\n",
       "      <td>[bars, nightlife, sports, bars, , alcohol_full...</td>\n",
       "      <td>[-0.000380235, 0.00301922, -0.00624385, 0.0023...</td>\n",
       "    </tr>\n",
       "    <tr>\n",
       "      <th>3187</th>\n",
       "      <td>yPXc62YLqG93TmBHY0bhYg</td>\n",
       "      <td>[arts, , entertainment, vape, shops, shopping,...</td>\n",
       "      <td>[-0.000652112, 0.0102954, -0.0212452, 0.009522...</td>\n",
       "    </tr>\n",
       "    <tr>\n",
       "      <th>3188</th>\n",
       "      <td>yzk7eFQpQHnURDxHZZiXNg</td>\n",
       "      <td>[beer, wine, , spirits, food, , businessaccept...</td>\n",
       "      <td>[-0.000158838, 0.000797604, -0.00222604, 0.000...</td>\n",
       "    </tr>\n",
       "    <tr>\n",
       "      <th>3189</th>\n",
       "      <td>Q1WoqmmvoyWC3b6esLNyCQ</td>\n",
       "      <td>[sandwiches, restaurants, fast, food, , busine...</td>\n",
       "      <td>[3.87326e-05, 0.00173314, -0.00376818, 0.00188...</td>\n",
       "    </tr>\n",
       "    <tr>\n",
       "      <th>3190</th>\n",
       "      <td>vEtE2CTl3rrDpTC20RUisQ</td>\n",
       "      <td>[restaurants, chicken, wings, american_new, ch...</td>\n",
       "      <td>[1.84005e-05, 0.000414142, -0.000632673, 0.000...</td>\n",
       "    </tr>\n",
       "    <tr>\n",
       "      <th>3191</th>\n",
       "      <td>6iad9mskid9PdmjEguVZNA</td>\n",
       "      <td>[gas, stations, food, automotive, convenience,...</td>\n",
       "      <td>[-0.000276877, 0.00324457, -0.00707618, 0.0032...</td>\n",
       "    </tr>\n",
       "  </tbody>\n",
       "</table>\n",
       "<p>3192 rows × 3 columns</p>\n",
       "</div>"
      ],
      "text/plain": [
       "                          _1  \\\n",
       "0     MvlQo4bev1eqp1q0HYOLHg   \n",
       "1     jemRU9DvmS0WGZuZ-k3jCQ   \n",
       "2     PuMpFTKS6gY_e31UP5YVnw   \n",
       "3     5S8KaaAIjqo2bJcVlMNW5w   \n",
       "4     xZfPdAYeimiruXuGR4nSUA   \n",
       "5     8A4ck_lvMLYZDrDt7w8GVA   \n",
       "6     P2uPCEBP2VZsApnvEHCgag   \n",
       "7     DwmAsemahJywywhuqv5J1Q   \n",
       "8     71ONxJtmDNDiJAtYHK-0RA   \n",
       "9     _7uEyBADd8S14rp2Kzez5g   \n",
       "10    BsLyCu_lkEdkG42qmvZlnQ   \n",
       "11    h5XqYtEmRuQ6yI0IyG6oNQ   \n",
       "12    7rqpu7hwyFTEBZOZoNv7iA   \n",
       "13    LkPQmCF3k6iDqBLY7bsE5Q   \n",
       "14    rKh_Nl5edIB9AevqnDmO6g   \n",
       "15    lLALzZxsJfd45g_u9Huerg   \n",
       "16    CY5S01UNJIH5bXHE9Ex_9Q   \n",
       "17    Een2yret0IwJUpHLwcxtRg   \n",
       "18    tXec672NHkM8PFZZAsEXAw   \n",
       "19    1WBGs0wJYK68UJ2DwUAI_A   \n",
       "20    NW4mtw2cS1PeJQDK2J_wfQ   \n",
       "21    c0yPNU-BqS65u0vIKP7P0w   \n",
       "22    vNlJsfKKp968CZWr8J5xDA   \n",
       "23    B10A-q2fskHqLx5miQpmOw   \n",
       "24    oRKyGtUsN5IcRReN7ScUwQ   \n",
       "25    --cjBEbXMI2obtaRHNSFrA   \n",
       "26    QXR-YnHgV0qDyuUTckYeGw   \n",
       "27    PqBZ88vOqctCc0fRm2sXQg   \n",
       "28    szGbmw_vq3kVU4SfK1x6Sw   \n",
       "29    YO8sWa0wYChH6DQWnE6NFg   \n",
       "...                      ...   \n",
       "3162  DSyBqO8U8INz9cjduM6DzQ   \n",
       "3163  IdHIcxCFq84evujUVNcB5w   \n",
       "3164  TeFUk5xN5UwZTCRet2zP3w   \n",
       "3165  aSDQk0wjskLdQRFg2TBt_A   \n",
       "3166  N9lSh3nbCirE5FP8DFXF1w   \n",
       "3167  0dRqzEG9-2QNnvJtdpdDZw   \n",
       "3168  zyRhwC9zs34LeYYfGc4gBA   \n",
       "3169  P4y-E70jg_ysjO8j2yVTxg   \n",
       "3170  wnasanv4cj7tN6U00VfzOQ   \n",
       "3171  Iam7tYWhssw_rscSBkeRIQ   \n",
       "3172  4wwmiKihQAit3e1VwujfVw   \n",
       "3173  7I_xWHdCaH-CtZLQGkhsjg   \n",
       "3174  GD0XvS6HlCuDjtCDWiLkVQ   \n",
       "3175  8mcg3eCoh69WqaKKZZF98w   \n",
       "3176  8ptBNZne8pV6X01pQBnpkQ   \n",
       "3177  _7nELtYw3n2DzMN8252lhQ   \n",
       "3178  kDqgPRL75KG4lBxJsYUJlw   \n",
       "3179  TsCq0UqOrKJ_ZJx7KKwKkA   \n",
       "3180  uujdZGu2hjCMj8AmZb4QEw   \n",
       "3181  _FH3osvpPRnMv-K2u6ZM3w   \n",
       "3182  Dz48AHU652_zg43sBPRb9w   \n",
       "3183  NV9ftiLhePO0bNE1z8y6qw   \n",
       "3184  nmBU1vK_3pkF08guLEoUjA   \n",
       "3185  _XlO-uEB3ZMA19Q8Ljbipw   \n",
       "3186  CwcDRtNgjgM4pLS4o63g6A   \n",
       "3187  yPXc62YLqG93TmBHY0bhYg   \n",
       "3188  yzk7eFQpQHnURDxHZZiXNg   \n",
       "3189  Q1WoqmmvoyWC3b6esLNyCQ   \n",
       "3190  vEtE2CTl3rrDpTC20RUisQ   \n",
       "3191  6iad9mskid9PdmjEguVZNA   \n",
       "\n",
       "                                                     _2  \\\n",
       "0     [professional, services, performing, arts, art...   \n",
       "1     [desserts, food, shaved, ice, ice, cream, , fr...   \n",
       "2     [restaurants, american_new, , bikeparking, bus...   \n",
       "3     [chinese, restaurants, , businessacceptscredit...   \n",
       "4     [specialty, food, health, markets, vegetarian,...   \n",
       "5                                                    []   \n",
       "6     [indian, restaurants, , , ambience_casual, bik...   \n",
       "7     [szechuan, restaurants, chinese, , , ambience_...   \n",
       "8     [american_traditional, restaurants, diners, br...   \n",
       "9     [bars, nightlife, dive, bars, beer, bar, , alc...   \n",
       "10    [sushi, bars, pan, asian, chinese, restaurants...   \n",
       "11    [food, bakeries, , businessacceptscreditcards,...   \n",
       "12    [barbeque, southern, restaurants, soul, food, ...   \n",
       "13    [bars, nightlife, pubs, , alcohol_full_bar, am...   \n",
       "14    [sports, bars, restaurants, nightlife, fish, ,...   \n",
       "15                                                   []   \n",
       "16    [dance, clubs, nightlife, , agesallowed_21plus...   \n",
       "17    [italian, food, cafes, pizza, desserts, sicili...   \n",
       "18    [dance, clubs, bars, lounges, nightlife, , alc...   \n",
       "19    [food, beer, wine, , spirits, cocktail, bars, ...   \n",
       "20    [sports, bars, american_traditional, restauran...   \n",
       "21    [american_new, restaurants, , , byobcorkage_ye...   \n",
       "22    [caterers, restaurants, sandwiches, event, pla...   \n",
       "23    [chinese, grocery, international, grocery, foo...   \n",
       "24    [pizza, italian, restaurants, burgers, , alcoh...   \n",
       "25    [arts, , entertainment, venues, , event, space...   \n",
       "26    [restaurants, pubs, italian, bars, pizza, nigh...   \n",
       "27    [restaurants, american_new, american_tradition...   \n",
       "28    [steakhouses, restaurants, , alcohol_full_bar,...   \n",
       "29    [restaurants, breakfast, , brunch, , , ambienc...   \n",
       "...                                                 ...   \n",
       "3162  [beer, wine, , spirits, seafood, nightlife, re...   \n",
       "3163  [cafeteria, restaurants, , , bikeparking, busi...   \n",
       "3164  [food, food, trucks, , , bikeparking, business...   \n",
       "3165  [restaurants, breakfast, , brunch, , , ambienc...   \n",
       "3166  [food, fruits, , veggies, flowers, , gifts, gi...   \n",
       "3167  [food, sandwiches, breakfast, , brunch, soup, ...   \n",
       "3168  [food, bakeries, , bikeparking, businessaccept...   \n",
       "3169  [beer, wine, , spirits, food, , businessaccept...   \n",
       "3170  [bars, american_traditional, nightlife, restau...   \n",
       "3171  [italian, restaurants, pizza, , , ambience_div...   \n",
       "3172  [shopping, grocery, specialty, food, food, dru...   \n",
       "3173  [restaurants, food, coffee, , tea, delis, cafe...   \n",
       "3174  [vegetarian, food, coffee, , tea, restaurants,...   \n",
       "3175  [american_traditional, fast, food, hot, dogs, ...   \n",
       "3176  [restaurants, american_new, , , businessaccept...   \n",
       "3177  [italian, restaurants, , alcohol_full_bar, amb...   \n",
       "3178  [vegan, tacos, american_traditional, restauran...   \n",
       "3179  [italian, pizza, restaurants, , , ambience_cas...   \n",
       "3180                                                 []   \n",
       "3181  [sandwiches, restaurants, , , ambience_casual,...   \n",
       "3182  [desserts, ice, cream, , frozen, yogurt, food,...   \n",
       "3183  [ramen, restaurants, food, desserts, ice, crea...   \n",
       "3184  [restaurants, sandwiches, breakfast, , brunch,...   \n",
       "3185  [cafes, vegetarian, food, juice, bars, , smoot...   \n",
       "3186  [bars, nightlife, sports, bars, , alcohol_full...   \n",
       "3187  [arts, , entertainment, vape, shops, shopping,...   \n",
       "3188  [beer, wine, , spirits, food, , businessaccept...   \n",
       "3189  [sandwiches, restaurants, fast, food, , busine...   \n",
       "3190  [restaurants, chicken, wings, american_new, ch...   \n",
       "3191  [gas, stations, food, automotive, convenience,...   \n",
       "\n",
       "                                                 Vector  \n",
       "0     [-0.000856232, 0.00538157, -0.0108388, 0.00452...  \n",
       "1     [-2.89002e-05, 0.000403871, -0.00141715, 0.000...  \n",
       "2     [-0.000163175, 0.00180052, -0.0043844, 0.00192...  \n",
       "3     [0.000363107, 0.00188846, -0.00416163, 0.00189...  \n",
       "4     [-0.000158673, 0.00144021, -0.00264549, 0.0011...  \n",
       "5     [7.38954e-05, -0.000146097, 0.0002251, 4.58524...  \n",
       "6     [0.000347396, -0.00047828, 0.00065993, 0.00031...  \n",
       "7     [0.000477173, 0.00033229, -0.00147382, 0.00099...  \n",
       "8     [-8.49649e-05, 0.00131307, -0.00303418, 0.0015...  \n",
       "9     [-0.000241363, 0.000776163, -0.00173951, 0.000...  \n",
       "10    [2.22455e-05, 0.00217082, -0.00435012, 0.00241...  \n",
       "11    [8.93469e-05, -0.000301438, 0.000407832, 4.077...  \n",
       "12    [-0.000459612, 0.00455742, -0.00917717, 0.0041...  \n",
       "13    [-0.000202329, 0.0002438, -0.000985481, -0.000...  \n",
       "14    [-0.00046362, 0.00308779, -0.00695685, 0.00312...  \n",
       "15    [7.28027e-05, -0.000238674, 3.47253e-05, 0.000...  \n",
       "16    [-0.000160625, 0.00297299, -0.00671805, 0.0030...  \n",
       "17    [-0.000342807, 0.00267512, -0.0059211, 0.00263...  \n",
       "18    [-0.000350617, 0.00314839, -0.00633049, 0.0024...  \n",
       "19    [6.43376e-06, -0.000300695, 0.000578386, -0.00...  \n",
       "20    [-9.09333e-05, -0.000774077, 0.00119182, -0.00...  \n",
       "21    [0.00056911, 0.000123278, -0.000519524, 0.0004...  \n",
       "22    [0.000153234, -0.00177409, 0.00447591, -0.0022...  \n",
       "23    [0.000107482, 0.00292156, -0.00636156, 0.00287...  \n",
       "24    [3.70934e-05, 0.00080541, -0.00150176, 0.00061...  \n",
       "25    [-0.000954944, 0.003341, -0.00680493, 0.002037...  \n",
       "26    [0.000121428, -0.00105284, 0.00257679, -0.0010...  \n",
       "27    [9.57367e-05, 0.00119398, -0.00280318, 0.00160...  \n",
       "28    [-0.00035699, 0.00384681, -0.00851505, 0.00397...  \n",
       "29    [7.44329e-05, 0.00125922, -0.00259635, 0.00160...  \n",
       "...                                                 ...  \n",
       "3162  [0.000118317, -1.79742e-05, 0.000178828, -0.00...  \n",
       "3163  [8.28144e-05, 0.000642731, -0.00144319, 0.0006...  \n",
       "3164  [-0.00019105, 0.000129015, -0.000396485, -0.00...  \n",
       "3165  [-8.77384e-05, 0.00144071, -0.00266518, 0.0015...  \n",
       "3166  [-0.000638581, 0.00630804, -0.0133367, 0.00585...  \n",
       "3167  [-0.00021803, 0.000685044, -0.00193566, 0.0010...  \n",
       "3168  [-0.000210238, -1.48467e-05, -0.000243082, 0.0...  \n",
       "3169  [-8.06706e-05, 0.00135975, -0.0031746, 0.00119...  \n",
       "3170  [-4.2416e-05, 0.000768141, -0.00189049, 0.0006...  \n",
       "3171  [-0.000150837, 4.70439e-05, -8.6497e-05, -9.96...  \n",
       "3172  [-0.000288707, 0.00125676, -0.00275345, 0.0010...  \n",
       "3173  [6.64871e-05, 0.00370898, -0.00776844, 0.00366...  \n",
       "3174  [0.000379652, 0.00177949, -0.00436533, 0.00252...  \n",
       "3175  [0.000110327, 0.0012295, -0.0025222, 0.0012908...  \n",
       "3176  [0.00051266, -0.00246027, 0.00473034, -0.00163...  \n",
       "3177  [0.000212807, -0.000435299, 0.000511589, -0.00...  \n",
       "3178  [-0.000266984, 0.00307916, -0.006132, 0.002783...  \n",
       "3179  [4.02342e-05, -0.000100567, -2.29193e-05, 2.07...  \n",
       "3180  [-0.000196128, -2.86704e-05, 0.000226066, -0.0...  \n",
       "3181  [-8.85258e-05, 0.000719337, -0.00187018, 0.001...  \n",
       "3182  [2.54124e-05, 9.24918e-05, -0.000514991, 0.000...  \n",
       "3183  [0.000455942, -0.000607412, 0.00150968, -6.945...  \n",
       "3184  [0.000287572, 0.00117732, -0.00252378, 0.00155...  \n",
       "3185  [-0.000515644, 0.00402152, -0.0085258, 0.00372...  \n",
       "3186  [-0.000380235, 0.00301922, -0.00624385, 0.0023...  \n",
       "3187  [-0.000652112, 0.0102954, -0.0212452, 0.009522...  \n",
       "3188  [-0.000158838, 0.000797604, -0.00222604, 0.000...  \n",
       "3189  [3.87326e-05, 0.00173314, -0.00376818, 0.00188...  \n",
       "3190  [1.84005e-05, 0.000414142, -0.000632673, 0.000...  \n",
       "3191  [-0.000276877, 0.00324457, -0.00707618, 0.0032...  \n",
       "\n",
       "[3192 rows x 3 columns]"
      ]
     },
     "execution_count": 27,
     "metadata": {},
     "output_type": "execute_result"
    }
   ],
   "source": [
    "prodPandas"
   ]
  },
  {
   "cell_type": "markdown",
   "metadata": {},
   "source": [
    "Product category text not needed"
   ]
  },
  {
   "cell_type": "code",
   "execution_count": 28,
   "metadata": {
    "collapsed": true
   },
   "outputs": [],
   "source": [
    "del prodPandas['_2']"
   ]
  },
  {
   "cell_type": "markdown",
   "metadata": {},
   "source": [
    "### Weighted Linear Combination of product vectors for users"
   ]
  },
  {
   "cell_type": "code",
   "execution_count": 29,
   "metadata": {
    "collapsed": true
   },
   "outputs": [],
   "source": [
    "userPandas['Vector'] = [[] for _ in range(len(userPandas))]"
   ]
  },
  {
   "cell_type": "code",
   "execution_count": 30,
   "metadata": {
    "collapsed": true
   },
   "outputs": [],
   "source": [
    "userPandas['_3'] = userPandas['_3'].astype(float)"
   ]
  },
  {
   "cell_type": "code",
   "execution_count": 31,
   "metadata": {
    "collapsed": true
   },
   "outputs": [],
   "source": [
    "for index, row in userPandas.iterrows():\n",
    "    vector = np.array(prodPandas.loc[prodPandas['_1'] == row['_2'], 'Vector'].values[0])\n",
    "    rating = row['_3']\n",
    "    userPandas.at[index,'Vector'] = rating*vector"
   ]
  },
  {
   "cell_type": "code",
   "execution_count": 32,
   "metadata": {},
   "outputs": [
    {
     "data": {
      "text/html": [
       "<div>\n",
       "<style>\n",
       "    .dataframe thead tr:only-child th {\n",
       "        text-align: right;\n",
       "    }\n",
       "\n",
       "    .dataframe thead th {\n",
       "        text-align: left;\n",
       "    }\n",
       "\n",
       "    .dataframe tbody tr th {\n",
       "        vertical-align: top;\n",
       "    }\n",
       "</style>\n",
       "<table border=\"1\" class=\"dataframe\">\n",
       "  <thead>\n",
       "    <tr style=\"text-align: right;\">\n",
       "      <th></th>\n",
       "      <th>_1</th>\n",
       "      <th>_2</th>\n",
       "      <th>_3</th>\n",
       "      <th>Vector</th>\n",
       "    </tr>\n",
       "  </thead>\n",
       "  <tbody>\n",
       "    <tr>\n",
       "      <th>0</th>\n",
       "      <td>1VVHf1BvtGC0aSCCIjQyiA</td>\n",
       "      <td>K5jY2W5Q3eNnwssV5UZtow</td>\n",
       "      <td>4.0</td>\n",
       "      <td>[-0.00242437, 0.00754665, -0.0167179, 0.002002...</td>\n",
       "    </tr>\n",
       "    <tr>\n",
       "      <th>1</th>\n",
       "      <td>QYKexxaOJQlseGWmc6soRg</td>\n",
       "      <td>rzByiKaj-bLeLz-zKNBQdg</td>\n",
       "      <td>2.0</td>\n",
       "      <td>[-0.000144155, 0.00213548, -0.0044292, 0.00206...</td>\n",
       "    </tr>\n",
       "    <tr>\n",
       "      <th>2</th>\n",
       "      <td>-ARdx8hOcEWlMDjzwLYZ_g</td>\n",
       "      <td>3cbsPfoUUrysf-M8FI_0IA</td>\n",
       "      <td>4.0</td>\n",
       "      <td>[-0.000100993, 0.00992949, -0.022101, 0.009570...</td>\n",
       "    </tr>\n",
       "    <tr>\n",
       "      <th>3</th>\n",
       "      <td>2oTG2GrBpikkonRxQywI7Q</td>\n",
       "      <td>CFtZH4Skp9z3o4ToSywI4w</td>\n",
       "      <td>4.0</td>\n",
       "      <td>[0.000914383, -0.000350836, 0.000166445, -0.00...</td>\n",
       "    </tr>\n",
       "    <tr>\n",
       "      <th>4</th>\n",
       "      <td>B7aR8VlLMGzaJ7NHC-jeMQ</td>\n",
       "      <td>RC8NJlX3X2Eo240PU5zJWA</td>\n",
       "      <td>4.0</td>\n",
       "      <td>[-0.00165324, 0.00736487, -0.0145778, 0.005350...</td>\n",
       "    </tr>\n",
       "    <tr>\n",
       "      <th>5</th>\n",
       "      <td>UsmTxWbobLsI6WR1Db0W7A</td>\n",
       "      <td>hsDkxhc-_YYsVqAeQBJJjg</td>\n",
       "      <td>1.0</td>\n",
       "      <td>[0.000414565, -0.0018823, 0.00346436, -0.00137...</td>\n",
       "    </tr>\n",
       "    <tr>\n",
       "      <th>6</th>\n",
       "      <td>2jKzO_01d12oiu-2bOYcYg</td>\n",
       "      <td>5REYrZfsX3m4E3FTwovp5Q</td>\n",
       "      <td>4.0</td>\n",
       "      <td>[-0.00066343, 0.0314426, -0.0680979, 0.0304236...</td>\n",
       "    </tr>\n",
       "    <tr>\n",
       "      <th>7</th>\n",
       "      <td>57tf_RmT5o3BiFj2gpV-Jg</td>\n",
       "      <td>mc5Ha4QyQZvU7fzr-ubhhw</td>\n",
       "      <td>5.0</td>\n",
       "      <td>[-0.00173485, 0.0188769, -0.0431066, 0.0159233...</td>\n",
       "    </tr>\n",
       "    <tr>\n",
       "      <th>8</th>\n",
       "      <td>J9OSJ7Xl9wnS0tL709AIqA</td>\n",
       "      <td>dLc1d1zwd1Teu2QED5TmlA</td>\n",
       "      <td>4.0</td>\n",
       "      <td>[0.00201334, 0.00834269, -0.0175282, 0.0120538...</td>\n",
       "    </tr>\n",
       "    <tr>\n",
       "      <th>9</th>\n",
       "      <td>BTg_ajmMJKKpvH0P1mAUqA</td>\n",
       "      <td>oxig-TT9V2QttAvRqa5WNA</td>\n",
       "      <td>3.0</td>\n",
       "      <td>[-0.00121105, 0.0102232, -0.018733, 0.0066356,...</td>\n",
       "    </tr>\n",
       "    <tr>\n",
       "      <th>10</th>\n",
       "      <td>Ic6-gs1_FjrWGx6JIr95Mw</td>\n",
       "      <td>0PCBt3JKD6IooicImKNBzA</td>\n",
       "      <td>5.0</td>\n",
       "      <td>[-3.33156e-05, 0.00957318, -0.0222175, 0.01002...</td>\n",
       "    </tr>\n",
       "    <tr>\n",
       "      <th>11</th>\n",
       "      <td>M9MXoSsb193m1g0QmmUYBQ</td>\n",
       "      <td>y19xFolCozaRA-gGmHwkQA</td>\n",
       "      <td>5.0</td>\n",
       "      <td>[0.0021674, 0.0104534, -0.0200979, 0.0119408, ...</td>\n",
       "    </tr>\n",
       "    <tr>\n",
       "      <th>12</th>\n",
       "      <td>OcFwWG6Mmx66-BmAqLWwUQ</td>\n",
       "      <td>Yf9ehzxrEWiymvUME6pm1A</td>\n",
       "      <td>5.0</td>\n",
       "      <td>[-0.00151743, 0.0299376, -0.0630559, 0.0301913...</td>\n",
       "    </tr>\n",
       "    <tr>\n",
       "      <th>13</th>\n",
       "      <td>57tf_RmT5o3BiFj2gpV-Jg</td>\n",
       "      <td>xJTu-eNbVET4evm-eBVDzA</td>\n",
       "      <td>3.0</td>\n",
       "      <td>[0.0009966, 0.000625869, -0.000948731, 0.00066...</td>\n",
       "    </tr>\n",
       "    <tr>\n",
       "      <th>14</th>\n",
       "      <td>gciGZsXZH1xZjt5Taq5lFQ</td>\n",
       "      <td>yo6Ewp9hobvoHbIPXlpRzg</td>\n",
       "      <td>3.0</td>\n",
       "      <td>[5.59768e-05, -5.96406e-05, 0.000165344, 0.000...</td>\n",
       "    </tr>\n",
       "    <tr>\n",
       "      <th>15</th>\n",
       "      <td>d6JltKIeAbPj415bwSm7eA</td>\n",
       "      <td>4c19YWOjPmbFUK4-V2GEvg</td>\n",
       "      <td>4.0</td>\n",
       "      <td>[0.0014863, 0.0101195, -0.0206416, 0.0108117, ...</td>\n",
       "    </tr>\n",
       "    <tr>\n",
       "      <th>16</th>\n",
       "      <td>EpZFiJxo6RO8a6QwDwC7TQ</td>\n",
       "      <td>e2zO5THDYoDOcyXcWnQv5w</td>\n",
       "      <td>4.0</td>\n",
       "      <td>[0.00115834, -0.0061044, 0.0126262, -0.0045002...</td>\n",
       "    </tr>\n",
       "    <tr>\n",
       "      <th>17</th>\n",
       "      <td>dsX3MiQiTy3OVI8MKn0I4w</td>\n",
       "      <td>nMV7Sn15I87tDlHJiSE92A</td>\n",
       "      <td>5.0</td>\n",
       "      <td>[0.0016203, 0.0111893, -0.0222932, 0.011334, 0...</td>\n",
       "    </tr>\n",
       "    <tr>\n",
       "      <th>18</th>\n",
       "      <td>lxt4LomsbAjBvk5POhDTEw</td>\n",
       "      <td>MIoaKihbI0po8kIV6cIckw</td>\n",
       "      <td>5.0</td>\n",
       "      <td>[-0.0056912, 0.0502613, -0.102821, 0.0457908, ...</td>\n",
       "    </tr>\n",
       "    <tr>\n",
       "      <th>19</th>\n",
       "      <td>Q9DAJCpeKdzS6WuMvWOX4w</td>\n",
       "      <td>bhVReN50h-lLfgIWA5Ovgg</td>\n",
       "      <td>4.0</td>\n",
       "      <td>[-0.00115736, 0.0140002, -0.029238, 0.0138917,...</td>\n",
       "    </tr>\n",
       "    <tr>\n",
       "      <th>20</th>\n",
       "      <td>Lfv4hefW1VbvaC2gatTFWA</td>\n",
       "      <td>xcmmTXhuMx2fZF2Bt69F4w</td>\n",
       "      <td>4.0</td>\n",
       "      <td>[-0.000799426, 0.0151681, -0.0320293, 0.014175...</td>\n",
       "    </tr>\n",
       "    <tr>\n",
       "      <th>21</th>\n",
       "      <td>CYTpi63Tv_UTjsaTMCZUvg</td>\n",
       "      <td>tHLJ1pDaaHptb-EbFM2q_A</td>\n",
       "      <td>2.0</td>\n",
       "      <td>[0.000424921, 0.00184719, -0.00338126, 0.00192...</td>\n",
       "    </tr>\n",
       "    <tr>\n",
       "      <th>22</th>\n",
       "      <td>vZlTKZOzFG2VNHBgUEF4CQ</td>\n",
       "      <td>LqEZNMIsJOWUWSxdHHCBig</td>\n",
       "      <td>4.0</td>\n",
       "      <td>[-0.000669848, 0.00658471, -0.0132375, 0.00439...</td>\n",
       "    </tr>\n",
       "    <tr>\n",
       "      <th>23</th>\n",
       "      <td>135DbbQnr3BEkQbBzZ9T1A</td>\n",
       "      <td>pewbZXifFrGqYqdNiXi5sQ</td>\n",
       "      <td>5.0</td>\n",
       "      <td>[-0.00221249, 0.00442347, -0.00921146, 0.00200...</td>\n",
       "    </tr>\n",
       "    <tr>\n",
       "      <th>24</th>\n",
       "      <td>67ci-zI-Z6ABxAxTJRsd_Q</td>\n",
       "      <td>Ul6JwluSTm12PVDIqnNaTg</td>\n",
       "      <td>4.0</td>\n",
       "      <td>[-0.00110918, 0.0232924, -0.0496558, 0.0221882...</td>\n",
       "    </tr>\n",
       "    <tr>\n",
       "      <th>25</th>\n",
       "      <td>hg71CGHy9bwpgY8cGVVg4w</td>\n",
       "      <td>1jymoHpH5rlo76tzPPO3QQ</td>\n",
       "      <td>5.0</td>\n",
       "      <td>[0.000896358, -0.00623051, 0.0153969, -0.00493...</td>\n",
       "    </tr>\n",
       "    <tr>\n",
       "      <th>26</th>\n",
       "      <td>3ew6BEeK14K6x6Omt5gbig</td>\n",
       "      <td>TY_kMmCM_3JSs14NFUvO_g</td>\n",
       "      <td>4.0</td>\n",
       "      <td>[0.000475631, 0.00393841, -0.00999465, 0.00365...</td>\n",
       "    </tr>\n",
       "    <tr>\n",
       "      <th>27</th>\n",
       "      <td>maHYYbhATZnQ3_ggjfvkmQ</td>\n",
       "      <td>VXKIx4WUGw3jNad0BOcFYQ</td>\n",
       "      <td>4.0</td>\n",
       "      <td>[0.000967618, 0.00258055, -0.00691433, 0.00269...</td>\n",
       "    </tr>\n",
       "    <tr>\n",
       "      <th>28</th>\n",
       "      <td>UdbvIleQQfqiFBFxD1Ckug</td>\n",
       "      <td>dLc1d1zwd1Teu2QED5TmlA</td>\n",
       "      <td>5.0</td>\n",
       "      <td>[0.00251668, 0.0104284, -0.0219103, 0.0150672,...</td>\n",
       "    </tr>\n",
       "    <tr>\n",
       "      <th>29</th>\n",
       "      <td>Nwjm4o1s82JTTAM1Xtvs0w</td>\n",
       "      <td>Z9FR2A7RzBf1nxwRdlccJQ</td>\n",
       "      <td>3.0</td>\n",
       "      <td>[0.000300006, 0.000833271, -0.00381491, 0.0008...</td>\n",
       "    </tr>\n",
       "    <tr>\n",
       "      <th>...</th>\n",
       "      <td>...</td>\n",
       "      <td>...</td>\n",
       "      <td>...</td>\n",
       "      <td>...</td>\n",
       "    </tr>\n",
       "    <tr>\n",
       "      <th>40861</th>\n",
       "      <td>LzZPZDlXiEv9adPzdN4gzw</td>\n",
       "      <td>R0DxkEWJfJYBxkeEds9v6w</td>\n",
       "      <td>4.0</td>\n",
       "      <td>[-0.000695325, -0.00170435, 0.00401357, -0.003...</td>\n",
       "    </tr>\n",
       "    <tr>\n",
       "      <th>40862</th>\n",
       "      <td>-2OB54nQ6FsGLUM-R1KXnA</td>\n",
       "      <td>SHiJlYdxQmJur3i-gLf9MQ</td>\n",
       "      <td>3.0</td>\n",
       "      <td>[0.00110494, 0.00162231, -0.00468143, 0.002617...</td>\n",
       "    </tr>\n",
       "    <tr>\n",
       "      <th>40863</th>\n",
       "      <td>pW_XkS9BfbnAQ_JMxNA-8w</td>\n",
       "      <td>SvCjBtbN1cKElDKPTw9dOA</td>\n",
       "      <td>4.0</td>\n",
       "      <td>[0.00025298, 0.0181241, -0.0396636, 0.0186286,...</td>\n",
       "    </tr>\n",
       "    <tr>\n",
       "      <th>40864</th>\n",
       "      <td>yVMvS4Q7JTxHALm8CTwSZQ</td>\n",
       "      <td>KTPRYqiFdLowAUEAnN7e3g</td>\n",
       "      <td>2.0</td>\n",
       "      <td>[-0.000306181, -0.00163988, 0.00336982, -0.001...</td>\n",
       "    </tr>\n",
       "    <tr>\n",
       "      <th>40865</th>\n",
       "      <td>-ARdx8hOcEWlMDjzwLYZ_g</td>\n",
       "      <td>KTPRYqiFdLowAUEAnN7e3g</td>\n",
       "      <td>4.0</td>\n",
       "      <td>[-0.000612362, -0.00327975, 0.00673964, -0.003...</td>\n",
       "    </tr>\n",
       "    <tr>\n",
       "      <th>40866</th>\n",
       "      <td>PSZZB1mfoJGSx7YxqoQmfg</td>\n",
       "      <td>P8nY22PirIp-d1GpDn7qnA</td>\n",
       "      <td>4.0</td>\n",
       "      <td>[0.00105301, -0.00506939, 0.0118435, -0.004993...</td>\n",
       "    </tr>\n",
       "    <tr>\n",
       "      <th>40867</th>\n",
       "      <td>H7pj7sbXY3N-WSEwa-JfpA</td>\n",
       "      <td>jppxrDQLXr4Nk8cV7IGlcw</td>\n",
       "      <td>4.0</td>\n",
       "      <td>[0.000646375, -0.00285109, 0.00846844, -0.0025...</td>\n",
       "    </tr>\n",
       "    <tr>\n",
       "      <th>40868</th>\n",
       "      <td>bu1mtWwxuayzV6b3VScWLw</td>\n",
       "      <td>SHiJlYdxQmJur3i-gLf9MQ</td>\n",
       "      <td>4.0</td>\n",
       "      <td>[0.00147325, 0.00216308, -0.0062419, 0.0034901...</td>\n",
       "    </tr>\n",
       "    <tr>\n",
       "      <th>40869</th>\n",
       "      <td>u3N9QIK4auz7CHnnOS3j7A</td>\n",
       "      <td>lKom12WnYEjH5FFemK3M1Q</td>\n",
       "      <td>3.0</td>\n",
       "      <td>[-2.25747e-05, 0.00270819, -0.00582711, 0.0016...</td>\n",
       "    </tr>\n",
       "    <tr>\n",
       "      <th>40870</th>\n",
       "      <td>K-nJvlZKQOHp1R5CkHh0Eg</td>\n",
       "      <td>7pd9NLLoZ4Dy9tKZX2WP0A</td>\n",
       "      <td>5.0</td>\n",
       "      <td>[-0.00405446, 0.0408821, -0.0867217, 0.0378854...</td>\n",
       "    </tr>\n",
       "    <tr>\n",
       "      <th>40871</th>\n",
       "      <td>E8w6O_CXuluNeo4K1JMIbQ</td>\n",
       "      <td>q-BIBN88JkOXaK2FIlPpuQ</td>\n",
       "      <td>3.0</td>\n",
       "      <td>[0.000454853, -0.00471301, 0.00915262, -0.0051...</td>\n",
       "    </tr>\n",
       "    <tr>\n",
       "      <th>40872</th>\n",
       "      <td>r98FaAOAoJDCPp384XpcYA</td>\n",
       "      <td>CbyXUOpH2TgFox46Be2LVQ</td>\n",
       "      <td>5.0</td>\n",
       "      <td>[-0.00115883, 0.00708619, -0.0136895, 0.007276...</td>\n",
       "    </tr>\n",
       "    <tr>\n",
       "      <th>40873</th>\n",
       "      <td>V7uS5US4oTf-S9u36HJQCQ</td>\n",
       "      <td>Tp2jd64iH0v-vjEu2OWjyw</td>\n",
       "      <td>4.0</td>\n",
       "      <td>[0.00161779, -0.0165433, 0.0315499, -0.012915,...</td>\n",
       "    </tr>\n",
       "    <tr>\n",
       "      <th>40874</th>\n",
       "      <td>fBO-AauqOjPX2UBp9RgeQQ</td>\n",
       "      <td>QbuWKli8fme4O84t99UfSg</td>\n",
       "      <td>3.0</td>\n",
       "      <td>[2.91721e-05, 0.00221661, -0.00531227, 0.00302...</td>\n",
       "    </tr>\n",
       "    <tr>\n",
       "      <th>40875</th>\n",
       "      <td>HgeE8guC565OELCyWLmY6w</td>\n",
       "      <td>aGUqC-fzPOheLb44DcwRLw</td>\n",
       "      <td>3.0</td>\n",
       "      <td>[-0.00103564, -0.00202842, 0.0069122, -0.00417...</td>\n",
       "    </tr>\n",
       "    <tr>\n",
       "      <th>40876</th>\n",
       "      <td>cCke3VtFLtqgzkgYSrSE2g</td>\n",
       "      <td>Iam7tYWhssw_rscSBkeRIQ</td>\n",
       "      <td>5.0</td>\n",
       "      <td>[-0.000754187, 0.000235219, -0.000432485, -0.0...</td>\n",
       "    </tr>\n",
       "    <tr>\n",
       "      <th>40877</th>\n",
       "      <td>iJp3Wu-pYl7osiYqz1Gv7A</td>\n",
       "      <td>NtpdFakRhkqtQ85PIraSJA</td>\n",
       "      <td>4.0</td>\n",
       "      <td>[-0.00242138, 0.0172924, -0.0374659, 0.0133804...</td>\n",
       "    </tr>\n",
       "    <tr>\n",
       "      <th>40878</th>\n",
       "      <td>_oNthTV94Evx9qGkJOTXLQ</td>\n",
       "      <td>YgO2v1VNtbPA7zgp0szJXA</td>\n",
       "      <td>2.0</td>\n",
       "      <td>[-0.000502826, 0.00293375, -0.0064659, 0.00279...</td>\n",
       "    </tr>\n",
       "    <tr>\n",
       "      <th>40879</th>\n",
       "      <td>c8qFkI_VusWo0xZvkjfBWQ</td>\n",
       "      <td>j37Z4LIXTH9j6KOq9aX8DQ</td>\n",
       "      <td>5.0</td>\n",
       "      <td>[-0.00550573, 0.034388, -0.0707668, 0.0257376,...</td>\n",
       "    </tr>\n",
       "    <tr>\n",
       "      <th>40880</th>\n",
       "      <td>owsX5JI9cHzkCiTvuVGhVA</td>\n",
       "      <td>Z9FR2A7RzBf1nxwRdlccJQ</td>\n",
       "      <td>2.0</td>\n",
       "      <td>[0.000200004, 0.000555514, -0.00254327, 0.0005...</td>\n",
       "    </tr>\n",
       "    <tr>\n",
       "      <th>40881</th>\n",
       "      <td>6Ki3bAL0wx9ymbdJqbSWMA</td>\n",
       "      <td>3D6Uck9QSdxZKFstf5DGlg</td>\n",
       "      <td>4.0</td>\n",
       "      <td>[-0.000864816, -0.000495281, 0.00181524, 0.000...</td>\n",
       "    </tr>\n",
       "    <tr>\n",
       "      <th>40882</th>\n",
       "      <td>PuPWzbQJ6P_tax-holDgSQ</td>\n",
       "      <td>TFdLM8R_7Pf1xVeBNKl0hg</td>\n",
       "      <td>5.0</td>\n",
       "      <td>[-0.00169507, 0.0107929, -0.0212638, 0.0064177...</td>\n",
       "    </tr>\n",
       "    <tr>\n",
       "      <th>40883</th>\n",
       "      <td>tfs-CSaJuQtnEsdBm7fVnw</td>\n",
       "      <td>Z1XXRz6n1XGauj88W2LL_w</td>\n",
       "      <td>5.0</td>\n",
       "      <td>[-0.00262337, 0.0381767, -0.0787997, 0.0349992...</td>\n",
       "    </tr>\n",
       "    <tr>\n",
       "      <th>40884</th>\n",
       "      <td>-Q4bjWlbxmb1yKP4U7OODg</td>\n",
       "      <td>eVCaX_hbNVFjM-XXahovYA</td>\n",
       "      <td>4.0</td>\n",
       "      <td>[-0.00281468, 0.012679, -0.0289187, 0.0107459,...</td>\n",
       "    </tr>\n",
       "    <tr>\n",
       "      <th>40885</th>\n",
       "      <td>0N9bSCmoJMoGmR0EldzjQg</td>\n",
       "      <td>23gakZ_NlN3K0SqOBybwug</td>\n",
       "      <td>3.0</td>\n",
       "      <td>[5.94143e-05, 0.00800102, -0.0183964, 0.007787...</td>\n",
       "    </tr>\n",
       "    <tr>\n",
       "      <th>40886</th>\n",
       "      <td>HT97z29oIH7aA8UxlGHeGg</td>\n",
       "      <td>xcmmTXhuMx2fZF2Bt69F4w</td>\n",
       "      <td>2.0</td>\n",
       "      <td>[-0.000399713, 0.00758403, -0.0160147, 0.00708...</td>\n",
       "    </tr>\n",
       "    <tr>\n",
       "      <th>40887</th>\n",
       "      <td>q8KqAeTX26wyIO5Z1x3dTw</td>\n",
       "      <td>GjX2WgchvvS-JAWBmzkLyQ</td>\n",
       "      <td>4.0</td>\n",
       "      <td>[-0.000116876, 0.0137879, -0.0302772, 0.013392...</td>\n",
       "    </tr>\n",
       "    <tr>\n",
       "      <th>40888</th>\n",
       "      <td>ftUrNSpxUr8eWCyOlsZVgg</td>\n",
       "      <td>rXULENMtBohv3485zqG0XA</td>\n",
       "      <td>4.0</td>\n",
       "      <td>[0.00135972, 0.00206353, -0.00586466, 0.002929...</td>\n",
       "    </tr>\n",
       "    <tr>\n",
       "      <th>40889</th>\n",
       "      <td>ZbJ_IVVjY-k2y4-g273qKg</td>\n",
       "      <td>OFdMlXxtkU_nUh8jJ4W6GA</td>\n",
       "      <td>5.0</td>\n",
       "      <td>[9.94377e-05, 0.0103121, -0.0209119, 0.0101641...</td>\n",
       "    </tr>\n",
       "    <tr>\n",
       "      <th>40890</th>\n",
       "      <td>KWdoZnUajpwM-srjb6i_lg</td>\n",
       "      <td>O1ird5yRyuDFnOmYu90OoA</td>\n",
       "      <td>4.0</td>\n",
       "      <td>[-0.0020152, 0.0213036, -0.0457575, 0.018793, ...</td>\n",
       "    </tr>\n",
       "  </tbody>\n",
       "</table>\n",
       "<p>40891 rows × 4 columns</p>\n",
       "</div>"
      ],
      "text/plain": [
       "                           _1                      _2   _3  \\\n",
       "0      1VVHf1BvtGC0aSCCIjQyiA  K5jY2W5Q3eNnwssV5UZtow  4.0   \n",
       "1      QYKexxaOJQlseGWmc6soRg  rzByiKaj-bLeLz-zKNBQdg  2.0   \n",
       "2      -ARdx8hOcEWlMDjzwLYZ_g  3cbsPfoUUrysf-M8FI_0IA  4.0   \n",
       "3      2oTG2GrBpikkonRxQywI7Q  CFtZH4Skp9z3o4ToSywI4w  4.0   \n",
       "4      B7aR8VlLMGzaJ7NHC-jeMQ  RC8NJlX3X2Eo240PU5zJWA  4.0   \n",
       "5      UsmTxWbobLsI6WR1Db0W7A  hsDkxhc-_YYsVqAeQBJJjg  1.0   \n",
       "6      2jKzO_01d12oiu-2bOYcYg  5REYrZfsX3m4E3FTwovp5Q  4.0   \n",
       "7      57tf_RmT5o3BiFj2gpV-Jg  mc5Ha4QyQZvU7fzr-ubhhw  5.0   \n",
       "8      J9OSJ7Xl9wnS0tL709AIqA  dLc1d1zwd1Teu2QED5TmlA  4.0   \n",
       "9      BTg_ajmMJKKpvH0P1mAUqA  oxig-TT9V2QttAvRqa5WNA  3.0   \n",
       "10     Ic6-gs1_FjrWGx6JIr95Mw  0PCBt3JKD6IooicImKNBzA  5.0   \n",
       "11     M9MXoSsb193m1g0QmmUYBQ  y19xFolCozaRA-gGmHwkQA  5.0   \n",
       "12     OcFwWG6Mmx66-BmAqLWwUQ  Yf9ehzxrEWiymvUME6pm1A  5.0   \n",
       "13     57tf_RmT5o3BiFj2gpV-Jg  xJTu-eNbVET4evm-eBVDzA  3.0   \n",
       "14     gciGZsXZH1xZjt5Taq5lFQ  yo6Ewp9hobvoHbIPXlpRzg  3.0   \n",
       "15     d6JltKIeAbPj415bwSm7eA  4c19YWOjPmbFUK4-V2GEvg  4.0   \n",
       "16     EpZFiJxo6RO8a6QwDwC7TQ  e2zO5THDYoDOcyXcWnQv5w  4.0   \n",
       "17     dsX3MiQiTy3OVI8MKn0I4w  nMV7Sn15I87tDlHJiSE92A  5.0   \n",
       "18     lxt4LomsbAjBvk5POhDTEw  MIoaKihbI0po8kIV6cIckw  5.0   \n",
       "19     Q9DAJCpeKdzS6WuMvWOX4w  bhVReN50h-lLfgIWA5Ovgg  4.0   \n",
       "20     Lfv4hefW1VbvaC2gatTFWA  xcmmTXhuMx2fZF2Bt69F4w  4.0   \n",
       "21     CYTpi63Tv_UTjsaTMCZUvg  tHLJ1pDaaHptb-EbFM2q_A  2.0   \n",
       "22     vZlTKZOzFG2VNHBgUEF4CQ  LqEZNMIsJOWUWSxdHHCBig  4.0   \n",
       "23     135DbbQnr3BEkQbBzZ9T1A  pewbZXifFrGqYqdNiXi5sQ  5.0   \n",
       "24     67ci-zI-Z6ABxAxTJRsd_Q  Ul6JwluSTm12PVDIqnNaTg  4.0   \n",
       "25     hg71CGHy9bwpgY8cGVVg4w  1jymoHpH5rlo76tzPPO3QQ  5.0   \n",
       "26     3ew6BEeK14K6x6Omt5gbig  TY_kMmCM_3JSs14NFUvO_g  4.0   \n",
       "27     maHYYbhATZnQ3_ggjfvkmQ  VXKIx4WUGw3jNad0BOcFYQ  4.0   \n",
       "28     UdbvIleQQfqiFBFxD1Ckug  dLc1d1zwd1Teu2QED5TmlA  5.0   \n",
       "29     Nwjm4o1s82JTTAM1Xtvs0w  Z9FR2A7RzBf1nxwRdlccJQ  3.0   \n",
       "...                       ...                     ...  ...   \n",
       "40861  LzZPZDlXiEv9adPzdN4gzw  R0DxkEWJfJYBxkeEds9v6w  4.0   \n",
       "40862  -2OB54nQ6FsGLUM-R1KXnA  SHiJlYdxQmJur3i-gLf9MQ  3.0   \n",
       "40863  pW_XkS9BfbnAQ_JMxNA-8w  SvCjBtbN1cKElDKPTw9dOA  4.0   \n",
       "40864  yVMvS4Q7JTxHALm8CTwSZQ  KTPRYqiFdLowAUEAnN7e3g  2.0   \n",
       "40865  -ARdx8hOcEWlMDjzwLYZ_g  KTPRYqiFdLowAUEAnN7e3g  4.0   \n",
       "40866  PSZZB1mfoJGSx7YxqoQmfg  P8nY22PirIp-d1GpDn7qnA  4.0   \n",
       "40867  H7pj7sbXY3N-WSEwa-JfpA  jppxrDQLXr4Nk8cV7IGlcw  4.0   \n",
       "40868  bu1mtWwxuayzV6b3VScWLw  SHiJlYdxQmJur3i-gLf9MQ  4.0   \n",
       "40869  u3N9QIK4auz7CHnnOS3j7A  lKom12WnYEjH5FFemK3M1Q  3.0   \n",
       "40870  K-nJvlZKQOHp1R5CkHh0Eg  7pd9NLLoZ4Dy9tKZX2WP0A  5.0   \n",
       "40871  E8w6O_CXuluNeo4K1JMIbQ  q-BIBN88JkOXaK2FIlPpuQ  3.0   \n",
       "40872  r98FaAOAoJDCPp384XpcYA  CbyXUOpH2TgFox46Be2LVQ  5.0   \n",
       "40873  V7uS5US4oTf-S9u36HJQCQ  Tp2jd64iH0v-vjEu2OWjyw  4.0   \n",
       "40874  fBO-AauqOjPX2UBp9RgeQQ  QbuWKli8fme4O84t99UfSg  3.0   \n",
       "40875  HgeE8guC565OELCyWLmY6w  aGUqC-fzPOheLb44DcwRLw  3.0   \n",
       "40876  cCke3VtFLtqgzkgYSrSE2g  Iam7tYWhssw_rscSBkeRIQ  5.0   \n",
       "40877  iJp3Wu-pYl7osiYqz1Gv7A  NtpdFakRhkqtQ85PIraSJA  4.0   \n",
       "40878  _oNthTV94Evx9qGkJOTXLQ  YgO2v1VNtbPA7zgp0szJXA  2.0   \n",
       "40879  c8qFkI_VusWo0xZvkjfBWQ  j37Z4LIXTH9j6KOq9aX8DQ  5.0   \n",
       "40880  owsX5JI9cHzkCiTvuVGhVA  Z9FR2A7RzBf1nxwRdlccJQ  2.0   \n",
       "40881  6Ki3bAL0wx9ymbdJqbSWMA  3D6Uck9QSdxZKFstf5DGlg  4.0   \n",
       "40882  PuPWzbQJ6P_tax-holDgSQ  TFdLM8R_7Pf1xVeBNKl0hg  5.0   \n",
       "40883  tfs-CSaJuQtnEsdBm7fVnw  Z1XXRz6n1XGauj88W2LL_w  5.0   \n",
       "40884  -Q4bjWlbxmb1yKP4U7OODg  eVCaX_hbNVFjM-XXahovYA  4.0   \n",
       "40885  0N9bSCmoJMoGmR0EldzjQg  23gakZ_NlN3K0SqOBybwug  3.0   \n",
       "40886  HT97z29oIH7aA8UxlGHeGg  xcmmTXhuMx2fZF2Bt69F4w  2.0   \n",
       "40887  q8KqAeTX26wyIO5Z1x3dTw  GjX2WgchvvS-JAWBmzkLyQ  4.0   \n",
       "40888  ftUrNSpxUr8eWCyOlsZVgg  rXULENMtBohv3485zqG0XA  4.0   \n",
       "40889  ZbJ_IVVjY-k2y4-g273qKg  OFdMlXxtkU_nUh8jJ4W6GA  5.0   \n",
       "40890  KWdoZnUajpwM-srjb6i_lg  O1ird5yRyuDFnOmYu90OoA  4.0   \n",
       "\n",
       "                                                  Vector  \n",
       "0      [-0.00242437, 0.00754665, -0.0167179, 0.002002...  \n",
       "1      [-0.000144155, 0.00213548, -0.0044292, 0.00206...  \n",
       "2      [-0.000100993, 0.00992949, -0.022101, 0.009570...  \n",
       "3      [0.000914383, -0.000350836, 0.000166445, -0.00...  \n",
       "4      [-0.00165324, 0.00736487, -0.0145778, 0.005350...  \n",
       "5      [0.000414565, -0.0018823, 0.00346436, -0.00137...  \n",
       "6      [-0.00066343, 0.0314426, -0.0680979, 0.0304236...  \n",
       "7      [-0.00173485, 0.0188769, -0.0431066, 0.0159233...  \n",
       "8      [0.00201334, 0.00834269, -0.0175282, 0.0120538...  \n",
       "9      [-0.00121105, 0.0102232, -0.018733, 0.0066356,...  \n",
       "10     [-3.33156e-05, 0.00957318, -0.0222175, 0.01002...  \n",
       "11     [0.0021674, 0.0104534, -0.0200979, 0.0119408, ...  \n",
       "12     [-0.00151743, 0.0299376, -0.0630559, 0.0301913...  \n",
       "13     [0.0009966, 0.000625869, -0.000948731, 0.00066...  \n",
       "14     [5.59768e-05, -5.96406e-05, 0.000165344, 0.000...  \n",
       "15     [0.0014863, 0.0101195, -0.0206416, 0.0108117, ...  \n",
       "16     [0.00115834, -0.0061044, 0.0126262, -0.0045002...  \n",
       "17     [0.0016203, 0.0111893, -0.0222932, 0.011334, 0...  \n",
       "18     [-0.0056912, 0.0502613, -0.102821, 0.0457908, ...  \n",
       "19     [-0.00115736, 0.0140002, -0.029238, 0.0138917,...  \n",
       "20     [-0.000799426, 0.0151681, -0.0320293, 0.014175...  \n",
       "21     [0.000424921, 0.00184719, -0.00338126, 0.00192...  \n",
       "22     [-0.000669848, 0.00658471, -0.0132375, 0.00439...  \n",
       "23     [-0.00221249, 0.00442347, -0.00921146, 0.00200...  \n",
       "24     [-0.00110918, 0.0232924, -0.0496558, 0.0221882...  \n",
       "25     [0.000896358, -0.00623051, 0.0153969, -0.00493...  \n",
       "26     [0.000475631, 0.00393841, -0.00999465, 0.00365...  \n",
       "27     [0.000967618, 0.00258055, -0.00691433, 0.00269...  \n",
       "28     [0.00251668, 0.0104284, -0.0219103, 0.0150672,...  \n",
       "29     [0.000300006, 0.000833271, -0.00381491, 0.0008...  \n",
       "...                                                  ...  \n",
       "40861  [-0.000695325, -0.00170435, 0.00401357, -0.003...  \n",
       "40862  [0.00110494, 0.00162231, -0.00468143, 0.002617...  \n",
       "40863  [0.00025298, 0.0181241, -0.0396636, 0.0186286,...  \n",
       "40864  [-0.000306181, -0.00163988, 0.00336982, -0.001...  \n",
       "40865  [-0.000612362, -0.00327975, 0.00673964, -0.003...  \n",
       "40866  [0.00105301, -0.00506939, 0.0118435, -0.004993...  \n",
       "40867  [0.000646375, -0.00285109, 0.00846844, -0.0025...  \n",
       "40868  [0.00147325, 0.00216308, -0.0062419, 0.0034901...  \n",
       "40869  [-2.25747e-05, 0.00270819, -0.00582711, 0.0016...  \n",
       "40870  [-0.00405446, 0.0408821, -0.0867217, 0.0378854...  \n",
       "40871  [0.000454853, -0.00471301, 0.00915262, -0.0051...  \n",
       "40872  [-0.00115883, 0.00708619, -0.0136895, 0.007276...  \n",
       "40873  [0.00161779, -0.0165433, 0.0315499, -0.012915,...  \n",
       "40874  [2.91721e-05, 0.00221661, -0.00531227, 0.00302...  \n",
       "40875  [-0.00103564, -0.00202842, 0.0069122, -0.00417...  \n",
       "40876  [-0.000754187, 0.000235219, -0.000432485, -0.0...  \n",
       "40877  [-0.00242138, 0.0172924, -0.0374659, 0.0133804...  \n",
       "40878  [-0.000502826, 0.00293375, -0.0064659, 0.00279...  \n",
       "40879  [-0.00550573, 0.034388, -0.0707668, 0.0257376,...  \n",
       "40880  [0.000200004, 0.000555514, -0.00254327, 0.0005...  \n",
       "40881  [-0.000864816, -0.000495281, 0.00181524, 0.000...  \n",
       "40882  [-0.00169507, 0.0107929, -0.0212638, 0.0064177...  \n",
       "40883  [-0.00262337, 0.0381767, -0.0787997, 0.0349992...  \n",
       "40884  [-0.00281468, 0.012679, -0.0289187, 0.0107459,...  \n",
       "40885  [5.94143e-05, 0.00800102, -0.0183964, 0.007787...  \n",
       "40886  [-0.000399713, 0.00758403, -0.0160147, 0.00708...  \n",
       "40887  [-0.000116876, 0.0137879, -0.0302772, 0.013392...  \n",
       "40888  [0.00135972, 0.00206353, -0.00586466, 0.002929...  \n",
       "40889  [9.94377e-05, 0.0103121, -0.0209119, 0.0101641...  \n",
       "40890  [-0.0020152, 0.0213036, -0.0457575, 0.018793, ...  \n",
       "\n",
       "[40891 rows x 4 columns]"
      ]
     },
     "execution_count": 32,
     "metadata": {},
     "output_type": "execute_result"
    }
   ],
   "source": [
    "userPandas"
   ]
  },
  {
   "cell_type": "markdown",
   "metadata": {},
   "source": [
    "Product and rating column not needed"
   ]
  },
  {
   "cell_type": "code",
   "execution_count": 33,
   "metadata": {
    "collapsed": true
   },
   "outputs": [],
   "source": [
    "del userPandas['_2']\n",
    "del userPandas['_3']"
   ]
  },
  {
   "cell_type": "markdown",
   "metadata": {},
   "source": [
    "Linear combination of feature vectors"
   ]
  },
  {
   "cell_type": "code",
   "execution_count": 34,
   "metadata": {
    "collapsed": true
   },
   "outputs": [],
   "source": [
    "userPandas = userPandas.groupby(['_1']).sum()"
   ]
  },
  {
   "cell_type": "markdown",
   "metadata": {},
   "source": [
    "Normalize the user feature vectors"
   ]
  },
  {
   "cell_type": "code",
   "execution_count": 35,
   "metadata": {},
   "outputs": [
    {
     "name": "stderr",
     "output_type": "stream",
     "text": [
      "/Users/lakshya/anaconda/lib/python2.7/site-packages/sklearn/utils/fixes.py:313: FutureWarning: numpy not_equal will not check object identity in the future. The comparison did not return the same result as suggested by the identity (`is`)) and will change.\n",
      "  _nan_object_mask = _nan_object_array != _nan_object_array\n"
     ]
    }
   ],
   "source": [
    "from sklearn.preprocessing import Normalizer"
   ]
  },
  {
   "cell_type": "code",
   "execution_count": 36,
   "metadata": {
    "collapsed": true
   },
   "outputs": [],
   "source": [
    "for index, row in userPandas.iterrows():\n",
    "    vector = np.array(row['Vector']).reshape(1, -1)\n",
    "    transformer = Normalizer().fit(vector)\n",
    "    userPandas.at[index,'Vector'] = transformer.transform(vector)"
   ]
  },
  {
   "cell_type": "code",
   "execution_count": 37,
   "metadata": {},
   "outputs": [
    {
     "data": {
      "text/html": [
       "<div>\n",
       "<style>\n",
       "    .dataframe thead tr:only-child th {\n",
       "        text-align: right;\n",
       "    }\n",
       "\n",
       "    .dataframe thead th {\n",
       "        text-align: left;\n",
       "    }\n",
       "\n",
       "    .dataframe tbody tr th {\n",
       "        vertical-align: top;\n",
       "    }\n",
       "</style>\n",
       "<table border=\"1\" class=\"dataframe\">\n",
       "  <thead>\n",
       "    <tr style=\"text-align: right;\">\n",
       "      <th></th>\n",
       "      <th>Vector</th>\n",
       "    </tr>\n",
       "    <tr>\n",
       "      <th>_1</th>\n",
       "      <th></th>\n",
       "    </tr>\n",
       "  </thead>\n",
       "  <tbody>\n",
       "    <tr>\n",
       "      <th>-0-hVEpwWEcJLJoGq3rE3g</th>\n",
       "      <td>[[-0.00245415, 0.0305672, -0.0653684, 0.028703...</td>\n",
       "    </tr>\n",
       "    <tr>\n",
       "      <th>-2OB54nQ6FsGLUM-R1KXnA</th>\n",
       "      <td>[[-0.000673377, 0.0304585, -0.064962, 0.029555...</td>\n",
       "    </tr>\n",
       "    <tr>\n",
       "      <th>-ARdx8hOcEWlMDjzwLYZ_g</th>\n",
       "      <td>[[-0.00203685, 0.0304457, -0.0655553, 0.028676...</td>\n",
       "    </tr>\n",
       "    <tr>\n",
       "      <th>-Pk25bOBsvemFaWKDBVBzA</th>\n",
       "      <td>[[-0.00168887, 0.0288449, -0.063727, 0.0295085...</td>\n",
       "    </tr>\n",
       "    <tr>\n",
       "      <th>-Q2wBtscwW6JOqlBndji4A</th>\n",
       "      <td>[[-0.00139252, 0.03028, -0.0642732, 0.0291131,...</td>\n",
       "    </tr>\n",
       "    <tr>\n",
       "      <th>-Q4bjWlbxmb1yKP4U7OODg</th>\n",
       "      <td>[[-0.00230569, 0.030761, -0.0644459, 0.0291208...</td>\n",
       "    </tr>\n",
       "    <tr>\n",
       "      <th>-SDx-d5jppC4OBBosLVpYw</th>\n",
       "      <td>[[0.000319544, 0.0292179, -0.064431, 0.0308398...</td>\n",
       "    </tr>\n",
       "    <tr>\n",
       "      <th>-XgVXGJnOnW0kQEol6O3Pg</th>\n",
       "      <td>[[-0.00222631, 0.0305794, -0.0658329, 0.028066...</td>\n",
       "    </tr>\n",
       "    <tr>\n",
       "      <th>-Y6tXYPYqeVy37-L5p0rMw</th>\n",
       "      <td>[[-0.00158423, 0.0302251, -0.0655342, 0.028769...</td>\n",
       "    </tr>\n",
       "    <tr>\n",
       "      <th>-a873HRQxWRRobMNT4xOKg</th>\n",
       "      <td>[[-0.00032737, 0.0296394, -0.0644398, 0.031123...</td>\n",
       "    </tr>\n",
       "    <tr>\n",
       "      <th>-c_t-8ORqOZBuKE-jdY8aQ</th>\n",
       "      <td>[[-0.00112784, 0.0305787, -0.0642475, 0.029311...</td>\n",
       "    </tr>\n",
       "    <tr>\n",
       "      <th>-dV2GaHNJHhDYbrmu48ZDQ</th>\n",
       "      <td>[[-0.00179278, 0.0303826, -0.0653745, 0.029065...</td>\n",
       "    </tr>\n",
       "    <tr>\n",
       "      <th>-hietrA8M58asfpyJkCyiA</th>\n",
       "      <td>[[-0.00158865, 0.0304817, -0.0648886, 0.028670...</td>\n",
       "    </tr>\n",
       "    <tr>\n",
       "      <th>-hnBzgVoRoqLrGVSxO0ilg</th>\n",
       "      <td>[[-0.00176155, 0.030508, -0.0654781, 0.0293154...</td>\n",
       "    </tr>\n",
       "    <tr>\n",
       "      <th>-kE5zO-54cQUmcG6zvfZtA</th>\n",
       "      <td>[[-0.00313143, 0.0320052, -0.0656604, 0.027400...</td>\n",
       "    </tr>\n",
       "    <tr>\n",
       "      <th>-sv8-a09Psq5CMzmg6E4OQ</th>\n",
       "      <td>[[-0.00111528, 0.0296905, -0.0651624, 0.029699...</td>\n",
       "    </tr>\n",
       "    <tr>\n",
       "      <th>-t9kQSbZ0Hnehu-L8GmSZA</th>\n",
       "      <td>[[-0.00210427, 0.0302123, -0.0648658, 0.028851...</td>\n",
       "    </tr>\n",
       "    <tr>\n",
       "      <th>-x8cmjyJoeBQhC9XySyUzQ</th>\n",
       "      <td>[[-0.000991225, 0.0304166, -0.0643232, 0.02971...</td>\n",
       "    </tr>\n",
       "    <tr>\n",
       "      <th>-zoKnhRd4Knnj_P-qO0GPQ</th>\n",
       "      <td>[[-0.00175146, 0.0304634, -0.0648349, 0.028737...</td>\n",
       "    </tr>\n",
       "    <tr>\n",
       "      <th>0-zHvlwR7ZmVeasLRGwpag</th>\n",
       "      <td>[[-0.00293023, 0.0306532, -0.0644876, 0.027844...</td>\n",
       "    </tr>\n",
       "    <tr>\n",
       "      <th>01bmnye5yXRyDZ5Je6tnKg</th>\n",
       "      <td>[[-0.00178128, 0.0303539, -0.0650282, 0.028774...</td>\n",
       "    </tr>\n",
       "    <tr>\n",
       "      <th>04Yay6wY_leHMTxLV7h4WA</th>\n",
       "      <td>[[-0.00263109, 0.030281, -0.0653513, 0.0285254...</td>\n",
       "    </tr>\n",
       "    <tr>\n",
       "      <th>0BxF-X_WBAoL6Zk46RzhYQ</th>\n",
       "      <td>[[-0.00144114, 0.0302984, -0.065617, 0.0290117...</td>\n",
       "    </tr>\n",
       "    <tr>\n",
       "      <th>0EhPIlDozxGKpbbHRr6vZg</th>\n",
       "      <td>[[-0.00161008, 0.0300376, -0.0645265, 0.029300...</td>\n",
       "    </tr>\n",
       "    <tr>\n",
       "      <th>0JIiQelaItruoV6F9pWHvw</th>\n",
       "      <td>[[-0.00185923, 0.0305361, -0.0639984, 0.028906...</td>\n",
       "    </tr>\n",
       "    <tr>\n",
       "      <th>0KhRPd66BZGHCtsb9mGh_g</th>\n",
       "      <td>[[-0.00253479, 0.0305718, -0.065713, 0.0275972...</td>\n",
       "    </tr>\n",
       "    <tr>\n",
       "      <th>0KihFGLcS_O2sb7XaCUZ-w</th>\n",
       "      <td>[[-0.00133655, 0.030034, -0.0653028, 0.0289156...</td>\n",
       "    </tr>\n",
       "    <tr>\n",
       "      <th>0N91KZHstHSnKwJVRa2p2g</th>\n",
       "      <td>[[0.00241414, 0.0286595, -0.0622392, 0.032058,...</td>\n",
       "    </tr>\n",
       "    <tr>\n",
       "      <th>0N9bSCmoJMoGmR0EldzjQg</th>\n",
       "      <td>[[-0.000715887, 0.0299195, -0.0652053, 0.03001...</td>\n",
       "    </tr>\n",
       "    <tr>\n",
       "      <th>0Pj91NFPtXWeIDaLp2kuyw</th>\n",
       "      <td>[[-0.00258663, 0.0302936, -0.0658322, 0.027303...</td>\n",
       "    </tr>\n",
       "    <tr>\n",
       "      <th>...</th>\n",
       "      <td>...</td>\n",
       "    </tr>\n",
       "    <tr>\n",
       "      <th>yQsX1CXh8rhpcm9Hg3L94A</th>\n",
       "      <td>[[-0.00110262, 0.0299511, -0.0658252, 0.029262...</td>\n",
       "    </tr>\n",
       "    <tr>\n",
       "      <th>yR2Ck_FztBOWA66oV16OEw</th>\n",
       "      <td>[[-0.00113093, 0.029078, -0.0646523, 0.0301801...</td>\n",
       "    </tr>\n",
       "    <tr>\n",
       "      <th>yVMvS4Q7JTxHALm8CTwSZQ</th>\n",
       "      <td>[[-0.00194508, 0.0302472, -0.0648201, 0.028962...</td>\n",
       "    </tr>\n",
       "    <tr>\n",
       "      <th>y_XgW02VKRwDKGhHq17yuA</th>\n",
       "      <td>[[-0.00210827, 0.030366, -0.0661697, 0.0288243...</td>\n",
       "    </tr>\n",
       "    <tr>\n",
       "      <th>yaBIVHDxaUBN2YHQ8-YiuQ</th>\n",
       "      <td>[[-0.00140386, 0.0306067, -0.0645029, 0.029508...</td>\n",
       "    </tr>\n",
       "    <tr>\n",
       "      <th>yeQ_7p0DoGcHtRC71mE60w</th>\n",
       "      <td>[[0.000612261, 0.0298877, -0.0634961, 0.031399...</td>\n",
       "    </tr>\n",
       "    <tr>\n",
       "      <th>yfK0Od09W_D5jzXBzRgnlA</th>\n",
       "      <td>[[-0.00288435, 0.0307537, -0.0652333, 0.027352...</td>\n",
       "    </tr>\n",
       "    <tr>\n",
       "      <th>yo0a5UXcvWt_WxPF_lgiag</th>\n",
       "      <td>[[-0.00487962, 0.0314591, -0.0658983, 0.020340...</td>\n",
       "    </tr>\n",
       "    <tr>\n",
       "      <th>yuSuzAo5BcJLono1klyY8w</th>\n",
       "      <td>[[-0.00193165, 0.0305277, -0.0650868, 0.029985...</td>\n",
       "    </tr>\n",
       "    <tr>\n",
       "      <th>yvGd8gLYJX5UH-I2CUzUQw</th>\n",
       "      <td>[[-0.00159681, 0.0304013, -0.0649321, 0.029503...</td>\n",
       "    </tr>\n",
       "    <tr>\n",
       "      <th>yyGp1_3i_zhfpBVIY4Xaww</th>\n",
       "      <td>[[-0.000587091, 0.0296853, -0.064468, 0.029351...</td>\n",
       "    </tr>\n",
       "    <tr>\n",
       "      <th>z2YVGKKcup6mjQmDQ6arEg</th>\n",
       "      <td>[[-0.000817656, 0.0305454, -0.0644593, 0.02965...</td>\n",
       "    </tr>\n",
       "    <tr>\n",
       "      <th>z4MQzyewTRzSoStg0NwL-w</th>\n",
       "      <td>[[-0.00102191, 0.0300765, -0.064595, 0.0295807...</td>\n",
       "    </tr>\n",
       "    <tr>\n",
       "      <th>zATgdMp_5gL4kYPu7aVdUg</th>\n",
       "      <td>[[-0.00173333, 0.0302271, -0.0647632, 0.029233...</td>\n",
       "    </tr>\n",
       "    <tr>\n",
       "      <th>zAzCOnCSS1DiceIWXKQQWw</th>\n",
       "      <td>[[-0.00314143, 0.0314849, -0.0660613, 0.027030...</td>\n",
       "    </tr>\n",
       "    <tr>\n",
       "      <th>zC70QZxr3nhQP3TKF3uTjA</th>\n",
       "      <td>[[-0.00280444, 0.0307418, -0.0641311, 0.027663...</td>\n",
       "    </tr>\n",
       "    <tr>\n",
       "      <th>zCNkLqHEImSxUlhljSXKEg</th>\n",
       "      <td>[[-0.00161661, 0.030799, -0.0654642, 0.0284612...</td>\n",
       "    </tr>\n",
       "    <tr>\n",
       "      <th>zFCuveEe6M-ijY1iy23IJg</th>\n",
       "      <td>[[-0.0014178, 0.0300836, -0.0646357, 0.0296826...</td>\n",
       "    </tr>\n",
       "    <tr>\n",
       "      <th>zPwZQEVmFg9cbmsEwLpA6g</th>\n",
       "      <td>[[-0.00198437, 0.0310104, -0.0649962, 0.028394...</td>\n",
       "    </tr>\n",
       "    <tr>\n",
       "      <th>zTCC1-ITmJvo14PxINcw6g</th>\n",
       "      <td>[[-0.00114798, 0.0305271, -0.0654383, 0.028889...</td>\n",
       "    </tr>\n",
       "    <tr>\n",
       "      <th>zTCwJg0hPY_cb3vWY0XMbg</th>\n",
       "      <td>[[-0.00260525, 0.0301061, -0.0660463, 0.028148...</td>\n",
       "    </tr>\n",
       "    <tr>\n",
       "      <th>zUQVfRIwoDJb_-8qiWUNwA</th>\n",
       "      <td>[[-0.00181543, 0.0307909, -0.0650874, 0.028673...</td>\n",
       "    </tr>\n",
       "    <tr>\n",
       "      <th>z_ueJdSU51z4RTU9Fg5Ikg</th>\n",
       "      <td>[[-0.00278746, 0.0307877, -0.064197, 0.0280569...</td>\n",
       "    </tr>\n",
       "    <tr>\n",
       "      <th>zaNUeZZ-Xm21o3fZ0CUbXA</th>\n",
       "      <td>[[-0.00057382, 0.029664, -0.0644439, 0.0304675...</td>\n",
       "    </tr>\n",
       "    <tr>\n",
       "      <th>zg6LAy9gGLVH9JtcYP9gJg</th>\n",
       "      <td>[[0.000530754, 0.0288714, -0.064515, 0.0299431...</td>\n",
       "    </tr>\n",
       "    <tr>\n",
       "      <th>zg6lm7DLKJArzFxLDILhwQ</th>\n",
       "      <td>[[-0.00041809, 0.0289157, -0.0643433, 0.030629...</td>\n",
       "    </tr>\n",
       "    <tr>\n",
       "      <th>zg84sSf8RSC4bKfSHO6rpA</th>\n",
       "      <td>[[-0.0020549, 0.0306604, -0.0634839, 0.0295293...</td>\n",
       "    </tr>\n",
       "    <tr>\n",
       "      <th>zgo6ehbfeMOcsG9bgofMNg</th>\n",
       "      <td>[[-0.000990863, 0.030344, -0.0646295, 0.029756...</td>\n",
       "    </tr>\n",
       "    <tr>\n",
       "      <th>zh8-XfjqlwAxf--RS4azzg</th>\n",
       "      <td>[[-0.000939537, 0.0302139, -0.063676, 0.029707...</td>\n",
       "    </tr>\n",
       "    <tr>\n",
       "      <th>zokgpfAn1onJ1DppA1DTDw</th>\n",
       "      <td>[[-0.00130096, 0.0293319, -0.0663256, 0.029036...</td>\n",
       "    </tr>\n",
       "  </tbody>\n",
       "</table>\n",
       "<p>987 rows × 1 columns</p>\n",
       "</div>"
      ],
      "text/plain": [
       "                                                                   Vector\n",
       "_1                                                                       \n",
       "-0-hVEpwWEcJLJoGq3rE3g  [[-0.00245415, 0.0305672, -0.0653684, 0.028703...\n",
       "-2OB54nQ6FsGLUM-R1KXnA  [[-0.000673377, 0.0304585, -0.064962, 0.029555...\n",
       "-ARdx8hOcEWlMDjzwLYZ_g  [[-0.00203685, 0.0304457, -0.0655553, 0.028676...\n",
       "-Pk25bOBsvemFaWKDBVBzA  [[-0.00168887, 0.0288449, -0.063727, 0.0295085...\n",
       "-Q2wBtscwW6JOqlBndji4A  [[-0.00139252, 0.03028, -0.0642732, 0.0291131,...\n",
       "-Q4bjWlbxmb1yKP4U7OODg  [[-0.00230569, 0.030761, -0.0644459, 0.0291208...\n",
       "-SDx-d5jppC4OBBosLVpYw  [[0.000319544, 0.0292179, -0.064431, 0.0308398...\n",
       "-XgVXGJnOnW0kQEol6O3Pg  [[-0.00222631, 0.0305794, -0.0658329, 0.028066...\n",
       "-Y6tXYPYqeVy37-L5p0rMw  [[-0.00158423, 0.0302251, -0.0655342, 0.028769...\n",
       "-a873HRQxWRRobMNT4xOKg  [[-0.00032737, 0.0296394, -0.0644398, 0.031123...\n",
       "-c_t-8ORqOZBuKE-jdY8aQ  [[-0.00112784, 0.0305787, -0.0642475, 0.029311...\n",
       "-dV2GaHNJHhDYbrmu48ZDQ  [[-0.00179278, 0.0303826, -0.0653745, 0.029065...\n",
       "-hietrA8M58asfpyJkCyiA  [[-0.00158865, 0.0304817, -0.0648886, 0.028670...\n",
       "-hnBzgVoRoqLrGVSxO0ilg  [[-0.00176155, 0.030508, -0.0654781, 0.0293154...\n",
       "-kE5zO-54cQUmcG6zvfZtA  [[-0.00313143, 0.0320052, -0.0656604, 0.027400...\n",
       "-sv8-a09Psq5CMzmg6E4OQ  [[-0.00111528, 0.0296905, -0.0651624, 0.029699...\n",
       "-t9kQSbZ0Hnehu-L8GmSZA  [[-0.00210427, 0.0302123, -0.0648658, 0.028851...\n",
       "-x8cmjyJoeBQhC9XySyUzQ  [[-0.000991225, 0.0304166, -0.0643232, 0.02971...\n",
       "-zoKnhRd4Knnj_P-qO0GPQ  [[-0.00175146, 0.0304634, -0.0648349, 0.028737...\n",
       "0-zHvlwR7ZmVeasLRGwpag  [[-0.00293023, 0.0306532, -0.0644876, 0.027844...\n",
       "01bmnye5yXRyDZ5Je6tnKg  [[-0.00178128, 0.0303539, -0.0650282, 0.028774...\n",
       "04Yay6wY_leHMTxLV7h4WA  [[-0.00263109, 0.030281, -0.0653513, 0.0285254...\n",
       "0BxF-X_WBAoL6Zk46RzhYQ  [[-0.00144114, 0.0302984, -0.065617, 0.0290117...\n",
       "0EhPIlDozxGKpbbHRr6vZg  [[-0.00161008, 0.0300376, -0.0645265, 0.029300...\n",
       "0JIiQelaItruoV6F9pWHvw  [[-0.00185923, 0.0305361, -0.0639984, 0.028906...\n",
       "0KhRPd66BZGHCtsb9mGh_g  [[-0.00253479, 0.0305718, -0.065713, 0.0275972...\n",
       "0KihFGLcS_O2sb7XaCUZ-w  [[-0.00133655, 0.030034, -0.0653028, 0.0289156...\n",
       "0N91KZHstHSnKwJVRa2p2g  [[0.00241414, 0.0286595, -0.0622392, 0.032058,...\n",
       "0N9bSCmoJMoGmR0EldzjQg  [[-0.000715887, 0.0299195, -0.0652053, 0.03001...\n",
       "0Pj91NFPtXWeIDaLp2kuyw  [[-0.00258663, 0.0302936, -0.0658322, 0.027303...\n",
       "...                                                                   ...\n",
       "yQsX1CXh8rhpcm9Hg3L94A  [[-0.00110262, 0.0299511, -0.0658252, 0.029262...\n",
       "yR2Ck_FztBOWA66oV16OEw  [[-0.00113093, 0.029078, -0.0646523, 0.0301801...\n",
       "yVMvS4Q7JTxHALm8CTwSZQ  [[-0.00194508, 0.0302472, -0.0648201, 0.028962...\n",
       "y_XgW02VKRwDKGhHq17yuA  [[-0.00210827, 0.030366, -0.0661697, 0.0288243...\n",
       "yaBIVHDxaUBN2YHQ8-YiuQ  [[-0.00140386, 0.0306067, -0.0645029, 0.029508...\n",
       "yeQ_7p0DoGcHtRC71mE60w  [[0.000612261, 0.0298877, -0.0634961, 0.031399...\n",
       "yfK0Od09W_D5jzXBzRgnlA  [[-0.00288435, 0.0307537, -0.0652333, 0.027352...\n",
       "yo0a5UXcvWt_WxPF_lgiag  [[-0.00487962, 0.0314591, -0.0658983, 0.020340...\n",
       "yuSuzAo5BcJLono1klyY8w  [[-0.00193165, 0.0305277, -0.0650868, 0.029985...\n",
       "yvGd8gLYJX5UH-I2CUzUQw  [[-0.00159681, 0.0304013, -0.0649321, 0.029503...\n",
       "yyGp1_3i_zhfpBVIY4Xaww  [[-0.000587091, 0.0296853, -0.064468, 0.029351...\n",
       "z2YVGKKcup6mjQmDQ6arEg  [[-0.000817656, 0.0305454, -0.0644593, 0.02965...\n",
       "z4MQzyewTRzSoStg0NwL-w  [[-0.00102191, 0.0300765, -0.064595, 0.0295807...\n",
       "zATgdMp_5gL4kYPu7aVdUg  [[-0.00173333, 0.0302271, -0.0647632, 0.029233...\n",
       "zAzCOnCSS1DiceIWXKQQWw  [[-0.00314143, 0.0314849, -0.0660613, 0.027030...\n",
       "zC70QZxr3nhQP3TKF3uTjA  [[-0.00280444, 0.0307418, -0.0641311, 0.027663...\n",
       "zCNkLqHEImSxUlhljSXKEg  [[-0.00161661, 0.030799, -0.0654642, 0.0284612...\n",
       "zFCuveEe6M-ijY1iy23IJg  [[-0.0014178, 0.0300836, -0.0646357, 0.0296826...\n",
       "zPwZQEVmFg9cbmsEwLpA6g  [[-0.00198437, 0.0310104, -0.0649962, 0.028394...\n",
       "zTCC1-ITmJvo14PxINcw6g  [[-0.00114798, 0.0305271, -0.0654383, 0.028889...\n",
       "zTCwJg0hPY_cb3vWY0XMbg  [[-0.00260525, 0.0301061, -0.0660463, 0.028148...\n",
       "zUQVfRIwoDJb_-8qiWUNwA  [[-0.00181543, 0.0307909, -0.0650874, 0.028673...\n",
       "z_ueJdSU51z4RTU9Fg5Ikg  [[-0.00278746, 0.0307877, -0.064197, 0.0280569...\n",
       "zaNUeZZ-Xm21o3fZ0CUbXA  [[-0.00057382, 0.029664, -0.0644439, 0.0304675...\n",
       "zg6LAy9gGLVH9JtcYP9gJg  [[0.000530754, 0.0288714, -0.064515, 0.0299431...\n",
       "zg6lm7DLKJArzFxLDILhwQ  [[-0.00041809, 0.0289157, -0.0643433, 0.030629...\n",
       "zg84sSf8RSC4bKfSHO6rpA  [[-0.0020549, 0.0306604, -0.0634839, 0.0295293...\n",
       "zgo6ehbfeMOcsG9bgofMNg  [[-0.000990863, 0.030344, -0.0646295, 0.029756...\n",
       "zh8-XfjqlwAxf--RS4azzg  [[-0.000939537, 0.0302139, -0.063676, 0.029707...\n",
       "zokgpfAn1onJ1DppA1DTDw  [[-0.00130096, 0.0293319, -0.0663256, 0.029036...\n",
       "\n",
       "[987 rows x 1 columns]"
      ]
     },
     "execution_count": 37,
     "metadata": {},
     "output_type": "execute_result"
    }
   ],
   "source": [
    "userPandas"
   ]
  },
  {
   "cell_type": "markdown",
   "metadata": {},
   "source": [
    "### Create user numpy matrix from feature vectors"
   ]
  },
  {
   "cell_type": "code",
   "execution_count": 38,
   "metadata": {
    "collapsed": true
   },
   "outputs": [],
   "source": [
    "user_matrix = np.zeros((len(userPandas), len(feature_vectors[0])))\n",
    "idx = 0\n",
    "for index, row in userPandas.iterrows():\n",
    "    vector = np.array(row['Vector'])[0]\n",
    "    user_matrix[idx] = vector\n",
    "    idx += 1\n",
    "    "
   ]
  },
  {
   "cell_type": "code",
   "execution_count": 39,
   "metadata": {},
   "outputs": [
    {
     "data": {
      "text/plain": [
       "array([[-0.00245415,  0.03056724, -0.06536841, ...,  0.03531742,\n",
       "         0.02023615,  0.01173127],\n",
       "       [-0.00067338,  0.0304585 , -0.06496196, ...,  0.03746143,\n",
       "         0.01873488,  0.0129635 ],\n",
       "       [-0.00203685,  0.0304457 , -0.06555529, ...,  0.03631432,\n",
       "         0.02002098,  0.01249701],\n",
       "       ..., \n",
       "       [-0.00099086,  0.03034398, -0.0646295 , ...,  0.03657493,\n",
       "         0.01936147,  0.01279344],\n",
       "       [-0.00093954,  0.03021389, -0.06367598, ...,  0.03595189,\n",
       "         0.0209174 ,  0.01259169],\n",
       "       [-0.00130096,  0.0293319 , -0.06632555, ...,  0.03771533,\n",
       "         0.01979822,  0.01212249]])"
      ]
     },
     "execution_count": 39,
     "metadata": {},
     "output_type": "execute_result"
    }
   ],
   "source": [
    "user_matrix"
   ]
  },
  {
   "cell_type": "markdown",
   "metadata": {},
   "source": [
    "### Create product numpy matrix from feature vectors"
   ]
  },
  {
   "cell_type": "code",
   "execution_count": 40,
   "metadata": {
    "collapsed": true
   },
   "outputs": [],
   "source": [
    "prod_matrix = np.zeros((len(prodPandas), len(feature_vectors[0])))\n",
    "idx = 0\n",
    "for index, row in prodPandas.iterrows():\n",
    "    vector = np.array(row['Vector'])\n",
    "    prod_matrix[idx] = vector\n",
    "    idx += 1"
   ]
  },
  {
   "cell_type": "code",
   "execution_count": 41,
   "metadata": {},
   "outputs": [
    {
     "data": {
      "text/plain": [
       "array([[ -8.56231956e-04,   5.38157299e-03,  -1.08387684e-02, ...,\n",
       "          5.03240945e-03,   4.32281988e-03,   1.95230707e-03],\n",
       "       [ -2.89001764e-05,   4.03870712e-04,  -1.41715200e-03, ...,\n",
       "          3.96555522e-04,   9.71130969e-04,   7.93375875e-05],\n",
       "       [ -1.63175224e-04,   1.80052058e-03,  -4.38439846e-03, ...,\n",
       "          2.38867849e-03,   1.59371505e-03,   8.70974327e-04],\n",
       "       ..., \n",
       "       [  3.87326363e-05,   1.73313823e-03,  -3.76818259e-03, ...,\n",
       "          2.37870100e-03,   8.65979062e-04,   7.98312365e-04],\n",
       "       [  1.84004639e-05,   4.14141599e-04,  -6.32672687e-04, ...,\n",
       "          4.20163851e-04,   5.75383456e-06,   1.51280532e-04],\n",
       "       [ -2.76877458e-04,   3.24457232e-03,  -7.07618147e-03, ...,\n",
       "          3.53280222e-03,   2.35253829e-03,   1.37208391e-03]])"
      ]
     },
     "execution_count": 41,
     "metadata": {},
     "output_type": "execute_result"
    }
   ],
   "source": [
    "prod_matrix"
   ]
  },
  {
   "cell_type": "markdown",
   "metadata": {},
   "source": [
    "### Compute cosine similarity by taking dot product"
   ]
  },
  {
   "cell_type": "code",
   "execution_count": 42,
   "metadata": {
    "collapsed": true
   },
   "outputs": [],
   "source": [
    "similarity_matrix = np.dot(user_matrix, prod_matrix.T)"
   ]
  },
  {
   "cell_type": "code",
   "execution_count": 43,
   "metadata": {},
   "outputs": [
    {
     "data": {
      "text/plain": [
       "(987, 3192)"
      ]
     },
     "execution_count": 43,
     "metadata": {},
     "output_type": "execute_result"
    }
   ],
   "source": [
    "similarity_matrix.shape"
   ]
  },
  {
   "cell_type": "markdown",
   "metadata": {},
   "source": [
    "### Flatten similarity matrix to relate with user and products"
   ]
  },
  {
   "cell_type": "code",
   "execution_count": 44,
   "metadata": {
    "collapsed": true
   },
   "outputs": [],
   "source": [
    "prod = prodPandas['_1'].values\n",
    "user = userPandas.index.values"
   ]
  },
  {
   "cell_type": "code",
   "execution_count": 45,
   "metadata": {
    "collapsed": true
   },
   "outputs": [],
   "source": [
    "zf = similarity_matrix.flatten()\n",
    "xr = np.repeat(user, prod.size)\n",
    "yt = np.tile(prod, user.size)\n",
    "d = np.stack((xr, yt, zf), axis=-1)"
   ]
  },
  {
   "cell_type": "code",
   "execution_count": 46,
   "metadata": {},
   "outputs": [
    {
     "data": {
      "text/plain": [
       "(3150504, 3)"
      ]
     },
     "execution_count": 46,
     "metadata": {},
     "output_type": "execute_result"
    }
   ],
   "source": [
    "d.shape"
   ]
  },
  {
   "cell_type": "markdown",
   "metadata": {},
   "source": [
    "### Convert similarity matrix to RDD"
   ]
  },
  {
   "cell_type": "code",
   "execution_count": 47,
   "metadata": {
    "collapsed": true
   },
   "outputs": [],
   "source": [
    "similarity_rdd = sc.parallelize(d)"
   ]
  },
  {
   "cell_type": "code",
   "execution_count": 48,
   "metadata": {},
   "outputs": [
    {
     "data": {
      "text/plain": [
       "[array([u'-0-hVEpwWEcJLJoGq3rE3g', u'MvlQo4bev1eqp1q0HYOLHg',\n",
       "        0.17232228536323602], dtype=object),\n",
       " array([u'-0-hVEpwWEcJLJoGq3rE3g', u'jemRU9DvmS0WGZuZ-k3jCQ',\n",
       "        0.018671802356957642], dtype=object),\n",
       " array([u'-0-hVEpwWEcJLJoGq3rE3g', u'PuMpFTKS6gY_e31UP5YVnw',\n",
       "        0.0672202220904829], dtype=object),\n",
       " array([u'-0-hVEpwWEcJLJoGq3rE3g', u'5S8KaaAIjqo2bJcVlMNW5w',\n",
       "        0.06444113264958053], dtype=object),\n",
       " array([u'-0-hVEpwWEcJLJoGq3rE3g', u'xZfPdAYeimiruXuGR4nSUA',\n",
       "        0.04287442882346724], dtype=object)]"
      ]
     },
     "execution_count": 48,
     "metadata": {},
     "output_type": "execute_result"
    }
   ],
   "source": [
    "similarity_rdd.take(5)"
   ]
  },
  {
   "cell_type": "markdown",
   "metadata": {},
   "source": [
    "### Use Train and Test Data for predictions"
   ]
  },
  {
   "cell_type": "code",
   "execution_count": 49,
   "metadata": {},
   "outputs": [
    {
     "data": {
      "text/plain": [
       "['1VVHf1BvtGC0aSCCIjQyiA,K5jY2W5Q3eNnwssV5UZtow,4,2016-11-16,2,2,2,past sunday one several time ive spirit its always eccentric fun time first music performance second hang recent visit sundays bingo bango spirit know pizza good drink also awesome last time get chard margarita time get tomatillo margarita hot ciders its always pleasant surprise see whats menu food drink drink little pricey drawback one coolest things spirit atmosphere its always super strange positive way really never know expect bingo bango definitely family appropriate its fun activity friends maybe even date doesnt mind something ordinary',\n",
       " 'QYKexxaOJQlseGWmc6soRg,rzByiKaj-bLeLz-zKNBQdg,2,2015-04-13,0,0,0,old cramp build lot enough employees staff keep demand cause long wait time',\n",
       " '-ARdx8hOcEWlMDjzwLYZ_g,3cbsPfoUUrysf-M8FI_0IA,4,2014-03-24,6,4,3,live long world without donut menu dont know group nine din three varieties donuts include lemon lavender chocolate espresso zeppolli amaze pepper donut concoction ever make donut order come five donut hole theyre big hole one two enough cant believe say thats even little true youll want entire order save room best yet come choose omelette day entr\\xc3\\xa9e couldnt tell goat cheese creamy goats cheese salad nice addition potatoes delightful touch underdone seat downstairs pretty frigid awesome space nonetheless warm joint bite its five star way cant wait visit e2 dinner serve donuts right',\n",
       " '2oTG2GrBpikkonRxQywI7Q,CFtZH4Skp9z3o4ToSywI4w,4,2015-04-02,0,0,0,month try place try years ago im actually quite surprise place get earlier review sample veggie burger goodness place event attend couple years ago become close top list try finally go friend couple weeks ago try veggie burger call hippie something another burger feel like tony tiger fry good beer good fry good venue wait staff pretty great around good yummy experience',\n",
       " 'B7aR8VlLMGzaJ7NHC-jeMQ,RC8NJlX3X2Eo240PU5zJWA,4,2013-02-16,1,0,0,food good find service tad slow italian place area would go first italian good yes excellent meatballs']"
      ]
     },
     "execution_count": 49,
     "metadata": {},
     "output_type": "execute_result"
    }
   ],
   "source": [
    "trainData.take(5)"
   ]
  },
  {
   "cell_type": "markdown",
   "metadata": {},
   "source": [
    "Create key on (user, product)"
   ]
  },
  {
   "cell_type": "code",
   "execution_count": 50,
   "metadata": {
    "collapsed": true
   },
   "outputs": [],
   "source": [
    "train_rdd = trainData.mapPartitions(lambda x: csv.reader(x)).map(lambda x: ((x[0], x[1]), float(x[2])))\n",
    "test_rdd = testData.mapPartitions(lambda x: csv.reader(x)).map(lambda x: ((x[0], x[1]), float(x[2])))"
   ]
  },
  {
   "cell_type": "code",
   "execution_count": 51,
   "metadata": {
    "collapsed": true
   },
   "outputs": [],
   "source": [
    "similarity_rdd = similarity_rdd.map(lambda x: ((x[0], x[1]), float(x[2])))"
   ]
  },
  {
   "cell_type": "code",
   "execution_count": 52,
   "metadata": {},
   "outputs": [
    {
     "data": {
      "text/plain": [
       "[((u'-0-hVEpwWEcJLJoGq3rE3g', u'MvlQo4bev1eqp1q0HYOLHg'), 0.17232228536323602),\n",
       " ((u'-0-hVEpwWEcJLJoGq3rE3g', u'jemRU9DvmS0WGZuZ-k3jCQ'),\n",
       "  0.018671802356957642),\n",
       " ((u'-0-hVEpwWEcJLJoGq3rE3g', u'PuMpFTKS6gY_e31UP5YVnw'), 0.0672202220904829),\n",
       " ((u'-0-hVEpwWEcJLJoGq3rE3g', u'5S8KaaAIjqo2bJcVlMNW5w'), 0.06444113264958053),\n",
       " ((u'-0-hVEpwWEcJLJoGq3rE3g', u'xZfPdAYeimiruXuGR4nSUA'), 0.04287442882346724)]"
      ]
     },
     "execution_count": 52,
     "metadata": {},
     "output_type": "execute_result"
    }
   ],
   "source": [
    "similarity_rdd.take(5)"
   ]
  },
  {
   "cell_type": "markdown",
   "metadata": {},
   "source": [
    "Join similarity matrix with train and test RDD to take only similarity values for training and testing"
   ]
  },
  {
   "cell_type": "code",
   "execution_count": 53,
   "metadata": {
    "collapsed": true
   },
   "outputs": [],
   "source": [
    "train = similarity_rdd.join(train_rdd)\n",
    "test = similarity_rdd.join(test_rdd)"
   ]
  },
  {
   "cell_type": "code",
   "execution_count": 55,
   "metadata": {},
   "outputs": [
    {
     "data": {
      "text/plain": [
       "[((u'nzl2KyGKLtV7j8QEfOhC-w', u'TU2oECyx4VhCnzRzGzOlTg'),\n",
       "  (0.027502951296124227, 4.0)),\n",
       " ((u'JeIVRtZiwUnSP9qR4AmfEQ', u'WZDQqw960DaMWDyPbtRFtA'),\n",
       "  (-0.08572004246191142, 4.0)),\n",
       " ((u'g3V76Ja0XgWS1rqx0gxL_A', u'a384anuGRsOe5IXclb3cNQ'),\n",
       "  (0.02305033882924474, 4.0)),\n",
       " ((u'3FjdHwnoz-vfw6hBBtckqg', u'cNCXUYQd3kFR_AyfjTejQQ'),\n",
       "  (0.09674220146375062, 4.0)),\n",
       " ((u'3DltS5Wr9MOntnc8StBFBA', u'GjX2WgchvvS-JAWBmzkLyQ'),\n",
       "  (0.11785955303588883, 5.0))]"
      ]
     },
     "execution_count": 55,
     "metadata": {},
     "output_type": "execute_result"
    }
   ],
   "source": [
    "test.take(5)"
   ]
  },
  {
   "cell_type": "markdown",
   "metadata": {},
   "source": [
    "Convert RDD to List"
   ]
  },
  {
   "cell_type": "code",
   "execution_count": 56,
   "metadata": {
    "collapsed": true
   },
   "outputs": [],
   "source": [
    "train_ratings = train.collect()\n",
    "test_ratings = test.collect()"
   ]
  },
  {
   "cell_type": "markdown",
   "metadata": {},
   "source": [
    "### Training Regressor on similarity values"
   ]
  },
  {
   "cell_type": "code",
   "execution_count": 58,
   "metadata": {
    "collapsed": true
   },
   "outputs": [],
   "source": [
    "from sklearn.ensemble import RandomForestRegressor\n",
    "from sklearn.ensemble import AdaBoostRegressor\n",
    "from sklearn.ensemble import GradientBoostingRegressor\n",
    "from sklearn.linear_model import LinearRegression\n",
    "from sklearn.datasets import make_regression\n",
    "from sklearn.metrics import mean_squared_error\n",
    "from sklearn.model_selection import train_test_split\n",
    "from sklearn.model_selection import GridSearchCV\n",
    "from sklearn.svm import SVR"
   ]
  },
  {
   "cell_type": "markdown",
   "metadata": {},
   "source": [
    "Convert data to numpy array for regressor"
   ]
  },
  {
   "cell_type": "code",
   "execution_count": 59,
   "metadata": {
    "collapsed": true
   },
   "outputs": [],
   "source": [
    "X_train = []\n",
    "y_train = []\n",
    "for ratings in train_ratings:\n",
    "    X_train.append(ratings[1][0])\n",
    "    y_train.append(ratings[1][1])\n",
    "\n",
    "X_train = np.array(X_train)\n",
    "X_train = X_train.reshape(-1,1)"
   ]
  },
  {
   "cell_type": "code",
   "execution_count": 60,
   "metadata": {
    "collapsed": true
   },
   "outputs": [],
   "source": [
    "X_test = []\n",
    "y_test = []\n",
    "for ratings in test_ratings:\n",
    "    X_test.append(ratings[1][0])\n",
    "    y_test.append(ratings[1][1])\n",
    "\n",
    "X_test = np.array(X_test)\n",
    "X_test = X_test.reshape(-1,1)"
   ]
  },
  {
   "cell_type": "code",
   "execution_count": 61,
   "metadata": {},
   "outputs": [
    {
     "data": {
      "text/plain": [
       "(10002, 1)"
      ]
     },
     "execution_count": 61,
     "metadata": {},
     "output_type": "execute_result"
    }
   ],
   "source": [
    "X_test.shape"
   ]
  },
  {
   "cell_type": "markdown",
   "metadata": {},
   "source": [
    "Train regressor on training data and make prediction on Test data<br>\n",
    "Computed Mean Squared Error on predicted values"
   ]
  },
  {
   "cell_type": "code",
   "execution_count": 65,
   "metadata": {},
   "outputs": [
    {
     "name": "stdout",
     "output_type": "stream",
     "text": [
      "Training:\n",
      "0.99518396347\n",
      "Result:\n",
      "1.02815442246\n"
     ]
    }
   ],
   "source": [
    "forest = RandomForestRegressor(max_depth=8, n_estimators=20)\n",
    "\n",
    "rs = GradientBoostingRegressor(loss='ls', learning_rate=0.005, n_estimators=10000)\n",
    "\n",
    "reg = LinearRegression()\n",
    "\n",
    "rs.fit(X_train, y_train)\n",
    "\n",
    "from sklearn.metrics import classification_report\n",
    "from sklearn.metrics import confusion_matrix\n",
    "\n",
    "expected = y_test\n",
    "predicted = rs.predict(X_test)\n",
    "\n",
    "train_expected = y_train\n",
    "train_predicted = rs.predict(X_train)\n",
    "\n",
    "print(\"Training:\\n%s\" % np.sqrt(mean_squared_error(train_expected, train_predicted)))\n",
    "print(\"Result:\\n%s\" % np.sqrt(mean_squared_error(expected, predicted)))"
   ]
  },
  {
   "cell_type": "markdown",
   "metadata": {},
   "source": [
    "### Computed Ratings on missing values"
   ]
  },
  {
   "cell_type": "code",
   "execution_count": 66,
   "metadata": {
    "collapsed": true
   },
   "outputs": [],
   "source": [
    "missing_test = test_rdd.subtractByKey(test)"
   ]
  },
  {
   "cell_type": "code",
   "execution_count": 67,
   "metadata": {
    "collapsed": true
   },
   "outputs": [],
   "source": [
    "missing_ratings_user = missing_test.map(lambda x: ((x[0][0]), (x[0][1], x[1]))).join(avg_rating).map(lambda x: ((x[0], x[1][0][0]), (x[1][1], x[1][0][1])))"
   ]
  },
  {
   "cell_type": "code",
   "execution_count": 68,
   "metadata": {},
   "outputs": [
    {
     "data": {
      "text/plain": [
       "[]"
      ]
     },
     "execution_count": 68,
     "metadata": {},
     "output_type": "execute_result"
    }
   ],
   "source": [
    "missing_ratings_user.take(5)"
   ]
  },
  {
   "cell_type": "markdown",
   "metadata": {},
   "source": [
    "Make predictions on test data using the trained regressor"
   ]
  },
  {
   "cell_type": "code",
   "execution_count": 69,
   "metadata": {
    "collapsed": true
   },
   "outputs": [],
   "source": [
    "predictions = test.map(lambda x: ((x[0]), (rs.predict(np.array(x[1][0]).reshape(1,-1))[0], x[1][1])))"
   ]
  },
  {
   "cell_type": "code",
   "execution_count": 70,
   "metadata": {
    "collapsed": true
   },
   "outputs": [],
   "source": [
    "final_predictions = predictions.union(missing_ratings_user)"
   ]
  },
  {
   "cell_type": "code",
   "execution_count": 73,
   "metadata": {},
   "outputs": [
    {
     "data": {
      "text/plain": [
       "12356"
      ]
     },
     "execution_count": 73,
     "metadata": {},
     "output_type": "execute_result"
    }
   ],
   "source": [
    "final_predictions.count()"
   ]
  },
  {
   "cell_type": "code",
   "execution_count": 74,
   "metadata": {
    "collapsed": true
   },
   "outputs": [],
   "source": [
    "mse = final_predictions.map(lambda x: (x[1][0]-x[1][1])**2)"
   ]
  },
  {
   "cell_type": "code",
   "execution_count": 75,
   "metadata": {},
   "outputs": [
    {
     "data": {
      "text/plain": [
       "1.0243836702939397"
      ]
     },
     "execution_count": 75,
     "metadata": {},
     "output_type": "execute_result"
    }
   ],
   "source": [
    "np.sqrt(mse.mean())"
   ]
  },
  {
   "cell_type": "code",
   "execution_count": 71,
   "metadata": {
    "collapsed": true
   },
   "outputs": [],
   "source": [
    "final_predictions = final_predictions.collect()"
   ]
  },
  {
   "cell_type": "markdown",
   "metadata": {},
   "source": [
    "### Save predictions file"
   ]
  },
  {
   "cell_type": "code",
   "execution_count": 72,
   "metadata": {
    "collapsed": true
   },
   "outputs": [],
   "source": [
    "with open(test_output, 'w') as f:\n",
    "    for item in final_predictions:\n",
    "        f.write(str(item[0][0])+\",\"+str(item[0][1])+\",\"+str(item[1][0])+\"\\n\")"
   ]
  },
  {
   "cell_type": "markdown",
   "metadata": {},
   "source": [
    "### Making predictions on training data"
   ]
  },
  {
   "cell_type": "code",
   "execution_count": 73,
   "metadata": {
    "collapsed": true
   },
   "outputs": [],
   "source": [
    "train_predict = train.map(lambda x: ((x[0]), (rs.predict(np.array(x[1][0]).reshape(1,-1))[0], x[1][1])))"
   ]
  },
  {
   "cell_type": "code",
   "execution_count": 74,
   "metadata": {},
   "outputs": [
    {
     "data": {
      "text/plain": [
       "[((u'hHqH_E9FCI_B6WubV0jPYA', u'ZNdV9ytExuxPTXSN8i2xhw'),\n",
       "  (3.7550129729655866, 3.0)),\n",
       " ((u'V0pP_PQnWdtyKpF-pifiaw', u'Fpm3WvqtrAg2ueh_4pz7iA'),\n",
       "  (4.1039943778403458, 4.0)),\n",
       " ((u'IKnLl7SbuP0u6HS34jwHhw', u'guQww9yGHP7rRTea6zTnDg'),\n",
       "  (4.1952673960789406, 3.0)),\n",
       " ((u'4r33dXcE1oYZxjONrhxTiA', u'9gNko6cFCMZbvy1zhJ7-Xg'),\n",
       "  (3.7982065041427675, 5.0)),\n",
       " ((u'Rem81Xoev05aqeA-mFbM4A', u'1LUaZFVMEjodl1tbAGF3sQ'),\n",
       "  (3.6527998084084974, 4.0))]"
      ]
     },
     "execution_count": 74,
     "metadata": {},
     "output_type": "execute_result"
    }
   ],
   "source": [
    "train_predict.take(5)"
   ]
  },
  {
   "cell_type": "code",
   "execution_count": 166,
   "metadata": {
    "collapsed": true
   },
   "outputs": [],
   "source": [
    "train_predictions = train_predict.map(lambda x: (x[1][0]-x[1][1])**2)"
   ]
  },
  {
   "cell_type": "code",
   "execution_count": 167,
   "metadata": {},
   "outputs": [
    {
     "data": {
      "text/plain": [
       "1.03320310263514"
      ]
     },
     "execution_count": 167,
     "metadata": {},
     "output_type": "execute_result"
    }
   ],
   "source": [
    "np.sqrt(train_predictions.mean())"
   ]
  },
  {
   "cell_type": "code",
   "execution_count": 76,
   "metadata": {
    "collapsed": true
   },
   "outputs": [],
   "source": [
    "train_predict = train_predict.collect()"
   ]
  },
  {
   "cell_type": "code",
   "execution_count": 77,
   "metadata": {
    "collapsed": true
   },
   "outputs": [],
   "source": [
    "with open(train_output, 'w') as f:\n",
    "    for item in train_predict:\n",
    "        f.write(str(item[0][0])+\",\"+str(item[0][1])+\",\"+str(item[1][0])+\"\\n\")"
   ]
  }
 ],
 "metadata": {
  "kernelspec": {
   "display_name": "Python 2",
   "language": "python",
   "name": "python2"
  },
  "language_info": {
   "codemirror_mode": {
    "name": "ipython",
    "version": 2
   },
   "file_extension": ".py",
   "mimetype": "text/x-python",
   "name": "python",
   "nbconvert_exporter": "python",
   "pygments_lexer": "ipython2",
   "version": "2.7.6"
  }
 },
 "nbformat": 4,
 "nbformat_minor": 1
}
