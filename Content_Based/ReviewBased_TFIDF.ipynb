{
 "cells": [
  {
   "cell_type": "markdown",
   "metadata": {},
   "source": [
    "### Spark Initialization"
   ]
  },
  {
   "cell_type": "code",
   "execution_count": 1,
   "metadata": {
    "collapsed": true
   },
   "outputs": [],
   "source": [
    "import findspark\n",
    "findspark.init()"
   ]
  },
  {
   "cell_type": "code",
   "execution_count": 2,
   "metadata": {
    "collapsed": true
   },
   "outputs": [],
   "source": [
    "import sys\n",
    "import copy\n",
    "import csv\n",
    "\n",
    "from string import atoi\n",
    "from pyspark import SparkContext, SparkConf\n",
    "from pyspark.sql import SparkSession"
   ]
  },
  {
   "cell_type": "code",
   "execution_count": 3,
   "metadata": {
    "collapsed": true
   },
   "outputs": [],
   "source": [
    "import numpy as np"
   ]
  },
  {
   "cell_type": "code",
   "execution_count": 4,
   "metadata": {
    "collapsed": true
   },
   "outputs": [],
   "source": [
    "conf = SparkConf().setAppName(\"ContentBased\")\n",
    "conf = conf.setMaster(\"local[*]\")"
   ]
  },
  {
   "cell_type": "code",
   "execution_count": 5,
   "metadata": {
    "collapsed": true
   },
   "outputs": [],
   "source": [
    "sc  = SparkContext(conf=conf)"
   ]
  },
  {
   "cell_type": "markdown",
   "metadata": {},
   "source": [
    "### Train, Test and Output Files"
   ]
  },
  {
   "cell_type": "code",
   "execution_count": 6,
   "metadata": {
    "collapsed": true
   },
   "outputs": [],
   "source": [
    "train_file = \"/Users/lakshya/Desktop/INF-553/Project/pittsburgh_review_with_text_20_res_lemma_data_train.txt\"\n",
    "test_file = \"/Users/lakshya/Desktop/INF-553/Project/pittsburgh_review_with_text_20_res_lemma_data_test.txt\"\n",
    "train_output = '/Users/lakshya/Desktop/INF-553/Project/Pittsburgh_ReviewBased_TFIDF_train_predictions.txt'\n",
    "test_output = '/Users/lakshya/Desktop/INF-553/Project/Pittsburgh_ReviewBased_TFIDF_test_predictions.txt'"
   ]
  },
  {
   "cell_type": "markdown",
   "metadata": {},
   "source": [
    "### Load Train and Test Data"
   ]
  },
  {
   "cell_type": "code",
   "execution_count": 7,
   "metadata": {
    "collapsed": true
   },
   "outputs": [],
   "source": [
    "trainData = sc.textFile(train_file,use_unicode=False)\n",
    "testData = sc.textFile(test_file,use_unicode=False)"
   ]
  },
  {
   "cell_type": "code",
   "execution_count": 8,
   "metadata": {
    "collapsed": true
   },
   "outputs": [],
   "source": [
    "train_rdd = trainData.mapPartitions(lambda x: csv.reader(x)).map(lambda x: ((x[0], x[1]), float(x[2])))\n",
    "test_rdd = testData.mapPartitions(lambda x: csv.reader(x)).map(lambda x: ((x[0], x[1]), float(x[2])))"
   ]
  },
  {
   "cell_type": "code",
   "execution_count": 9,
   "metadata": {
    "collapsed": true
   },
   "outputs": [],
   "source": [
    "avg_rating = train_rdd.map(lambda x: (x[0][0], x[1])).groupByKey().map(lambda x: (x[0], list(x[1]))).map(lambda x: (x[0], sum(x[1])/len(x[1])))\n",
    "prod_rating = train_rdd.map(lambda x: (x[0][1], x[1])).groupByKey().map(lambda x: (x[0], list(x[1]))).map(lambda x: (x[0], sum(x[1])/len(x[1])))"
   ]
  },
  {
   "cell_type": "code",
   "execution_count": 10,
   "metadata": {
    "collapsed": true
   },
   "outputs": [],
   "source": [
    "train_temp = trainData.mapPartitions(lambda x: csv.reader(x)).map(lambda x: ((x[0], x[1]), 1))"
   ]
  },
  {
   "cell_type": "markdown",
   "metadata": {},
   "source": [
    "### Load review data"
   ]
  },
  {
   "cell_type": "code",
   "execution_count": 11,
   "metadata": {
    "collapsed": true
   },
   "outputs": [],
   "source": [
    "data = sc.textFile(train_file,use_unicode=False)"
   ]
  },
  {
   "cell_type": "code",
   "execution_count": 12,
   "metadata": {},
   "outputs": [
    {
     "data": {
      "text/plain": [
       "['1VVHf1BvtGC0aSCCIjQyiA,K5jY2W5Q3eNnwssV5UZtow,4,2016-11-16,2,2,2,past sunday one several time ive spirit its always eccentric fun time first music performance second hang recent visit sundays bingo bango spirit know pizza good drink also awesome last time get chard margarita time get tomatillo margarita hot ciders its always pleasant surprise see whats menu food drink drink little pricey drawback one coolest things spirit atmosphere its always super strange positive way really never know expect bingo bango definitely family appropriate its fun activity friends maybe even date doesnt mind something ordinary',\n",
       " 'QYKexxaOJQlseGWmc6soRg,rzByiKaj-bLeLz-zKNBQdg,2,2015-04-13,0,0,0,old cramp build lot enough employees staff keep demand cause long wait time',\n",
       " '-ARdx8hOcEWlMDjzwLYZ_g,3cbsPfoUUrysf-M8FI_0IA,4,2014-03-24,6,4,3,live long world without donut menu dont know group nine din three varieties donuts include lemon lavender chocolate espresso zeppolli amaze pepper donut concoction ever make donut order come five donut hole theyre big hole one two enough cant believe say thats even little true youll want entire order save room best yet come choose omelette day entr\\xc3\\xa9e couldnt tell goat cheese creamy goats cheese salad nice addition potatoes delightful touch underdone seat downstairs pretty frigid awesome space nonetheless warm joint bite its five star way cant wait visit e2 dinner serve donuts right',\n",
       " '2oTG2GrBpikkonRxQywI7Q,CFtZH4Skp9z3o4ToSywI4w,4,2015-04-02,0,0,0,month try place try years ago im actually quite surprise place get earlier review sample veggie burger goodness place event attend couple years ago become close top list try finally go friend couple weeks ago try veggie burger call hippie something another burger feel like tony tiger fry good beer good fry good venue wait staff pretty great around good yummy experience',\n",
       " 'B7aR8VlLMGzaJ7NHC-jeMQ,RC8NJlX3X2Eo240PU5zJWA,4,2013-02-16,1,0,0,food good find service tad slow italian place area would go first italian good yes excellent meatballs',\n",
       " 'UsmTxWbobLsI6WR1Db0W7A,hsDkxhc-_YYsVqAeQBJJjg,1,2013-02-26,7,4,2,really guy endorse place triple d put reputation line segment big jims wasnt impress food service worse order half veggie hoagy bowl vegetable soup friend ross order small pizza bowl wed soup sip pretty good rooney pale ale best part meal little later soup come cup tell bartender order bowl oops fight cold nice hot bowl vegetable soup would hit spot still wait soup come pizza look good tons cheese pepperoni veggie hoagy order wrong order half give whole hoagy biggie ill take half home midnight snack still sign soup pretty unremarkable hoagy lot flavorless lettuce green pepper onion huge unchewable chunk carrots worse cold kind hop eggplant roast red pepper grill zucchini know real veggie hoagy flavor texture oh well live learn still soup finally bartender finish watch tv saw beer ask soup apologize say forget say ross guess must make good hourly wage hes work good tip finally soup deliver push away lousy hoagy dive soup blow spoonful soup ross say dont its cold damn half eat hoagy full bowl soup sit ask check pay leave never big jim never guy lose point call']"
      ]
     },
     "execution_count": 12,
     "metadata": {},
     "output_type": "execute_result"
    }
   ],
   "source": [
    "data.take(6)"
   ]
  },
  {
   "cell_type": "code",
   "execution_count": 13,
   "metadata": {
    "collapsed": true
   },
   "outputs": [],
   "source": [
    "train_data = data.mapPartitions(lambda x: csv.reader(x)).map(lambda x: ((x[0], x[1]), (x[2],x[7]))).join(train_temp)"
   ]
  },
  {
   "cell_type": "code",
   "execution_count": 14,
   "metadata": {},
   "outputs": [
    {
     "data": {
      "text/plain": [
       "[(('3egcdazws_x1wW35jgXfNw', 'gae9LAyt7Qvf_OgAkWASxA'),\n",
       "  (('4',\n",
       "    'family always love buca di beppo location food great service always excellent however wait time food delivery final bill keep us remember come return experience buca di beppo wonderful love family style din make reservations years occasion price isnt bad receive well discount coupons everywhere look know say family return'),\n",
       "   1)),\n",
       " (('4wp4XI9AxKNqJima-xahlg', '7O_mNtg37-1sMvQ5xmA8Dw'),\n",
       "  (('4',\n",
       "    'appreciate whole vibe old reclaim wood chocolate color wall beautiful crystal chandeliers almost like shouldnt go together go well hear serve lunch want check along something sweet course go roast beef sandwich fresh load good stuff definitely need mayo thats totally give know condiment obsession love bun wasnt hard bite downstairs like sweet treat wonderland glitter lot glitter know theres edible glitter its home base im totally okay past glitter delicious look treat every nook corner cake cookies bon bons even ice cream sandwich its really oasis opulence come desserts try like glaze donut croissant love glaze donut happy see wasnt massive couldnt finish upstairs spacious seat even cute little balcony find rack brain people know need cute space bridal shower baby shower would perfect spot small party like one things sure youll treat something sweet'),\n",
       "   1)),\n",
       " (('BxDsaVNeWxc5mNyA1HtSHQ', 'oeW0vIYd3rUnAPgmD4fEFg'),\n",
       "  (('5',\n",
       "    'wonderful breakfast morning get sausage cheddar omelette girlfriend get banana creme crepe strawberries wonderful proportion size great price meals delicious well staff friendly atmosphere great many great look items menu tough choose definitely go back try food'),\n",
       "   1))]"
      ]
     },
     "execution_count": 14,
     "metadata": {},
     "output_type": "execute_result"
    }
   ],
   "source": [
    "train_data.take(3)"
   ]
  },
  {
   "cell_type": "markdown",
   "metadata": {},
   "source": [
    "### Collect user data from train data (User, Product, Rating)"
   ]
  },
  {
   "cell_type": "code",
   "execution_count": 15,
   "metadata": {
    "collapsed": true
   },
   "outputs": [],
   "source": [
    "userReview = train_data.map(lambda x: (x[0][0], x[0][1], x[1][0][0]))"
   ]
  },
  {
   "cell_type": "code",
   "execution_count": 16,
   "metadata": {
    "collapsed": true
   },
   "outputs": [],
   "source": [
    "userReviewCollected = userReview.map(lambda x: (x[0], x[1], x[2]))"
   ]
  },
  {
   "cell_type": "code",
   "execution_count": 17,
   "metadata": {},
   "outputs": [
    {
     "data": {
      "text/plain": [
       "[('3egcdazws_x1wW35jgXfNw', 'gae9LAyt7Qvf_OgAkWASxA', '4'),\n",
       " ('4wp4XI9AxKNqJima-xahlg', '7O_mNtg37-1sMvQ5xmA8Dw', '4'),\n",
       " ('BxDsaVNeWxc5mNyA1HtSHQ', 'oeW0vIYd3rUnAPgmD4fEFg', '5'),\n",
       " ('BBg_86FEejn3dNzj0JOR9Q', 'XItYW5ul3OW_AqpT2nDbBQ', '4'),\n",
       " ('z2YVGKKcup6mjQmDQ6arEg', 'RqmORv3974ZDC6Zh4nSQwg', '5')]"
      ]
     },
     "execution_count": 17,
     "metadata": {},
     "output_type": "execute_result"
    }
   ],
   "source": [
    "userReviewCollected.take(5)"
   ]
  },
  {
   "cell_type": "markdown",
   "metadata": {},
   "source": [
    "### Collect product data (Product, Review Text)"
   ]
  },
  {
   "cell_type": "code",
   "execution_count": 18,
   "metadata": {
    "collapsed": true
   },
   "outputs": [],
   "source": [
    "prodReview = train_data.map(lambda x: (x[0][1], x[1][0][1])).groupByKey().mapValues(list)"
   ]
  },
  {
   "cell_type": "code",
   "execution_count": 19,
   "metadata": {
    "collapsed": true
   },
   "outputs": [],
   "source": [
    "prodReviewCollected = prodReview.map(lambda x: (x[0], \" \".join(x[1])))"
   ]
  },
  {
   "cell_type": "code",
   "execution_count": 20,
   "metadata": {},
   "outputs": [
    {
     "data": {
      "text/plain": [
       "[('5REYrZfsX3m4E3FTwovp5Q',\n",
       "  'try first time last night pretty good one thing really annoy restaurant see review verde entire restaurant fill reservations can not even seat walk 2 people restaurant empty really avocado corn ceviche mojo criollo nigiri avocado crab delicious mojo criollo favorite everything taste super fresh flavorful serve good size date share wine meh would think place thats like tapas wine bar wine would better order frontera sauvignon blanc often buy liquor store slo wine hm lame hate pay 9 glass wine restaurant easily buy 10 liquor store seem justify least slo bottle service good nice time would come back absolutely love tacos havent try anything else menu taco addiction simply put food delicious however portion extremely small order leave place full youll spend pretty penny wouldnt recommend place youre big eater would terrific spot go show light snack drink food nicely present tapas style really nothing remarkable dont go dinner often would impress presentation fancy cocktails small way expensive get even entrees serve little bigger tapas size nothing great many better ethnic restaurants city atmosphere hip trendy dress impress go sit night didnt look busy apparently table open party 4 outside even though saw empty table inside ambiance sit outside pretty nice service pretty slow border inattentive food portion small overprice apps get chip salsa 2 kinds serviche best sauce red smoky good serviche 2 ways disappointment x2 small portion tacos small cheaper good flavor probably give 2 5 star never go back pop last night show friend grab quick bite beverage contemporary atmosphere crowd wednesday even expect sit bar immediately greet bartender service timely throughout stay order asian tuna tartare upon waitress recommendation delightful great mix textures flavor bite overprice id say downtown expect wife numerous time love every time love come happy hour order almost everything happy hour menu almost everything get pack tons flavor favorite items tuna tartare fire ice blt taco drink wise love caipirinha last time 5 happy hour last night go seviche first time call first case would need reservation 8 30 problem walk literally pick table want order pork empanadas hangar steak do tacos beef cheek chicken pork empanada ridiculously insanely wonderful would eat entire massive plate size next time might atmosphere fun light play lot 90s music its uptight atmosphere super dressy bar walk drink surprisingly bite rowdy seem like late run work event waiter nice also face also friendly feel customers everyone smile say hello like local bar something like love perfect pittsburgh summer night spend sit sidewalk patio sip margarita atmosphere great service friendly attentive impeccable green share plantain chip assortment salsas delicious fish tacos amaze friend order crispy tofu its blend flavor us declare favorite dish come first time last night impress right downtown indoor outdoor seat suggest make reservation drink strong suggest check yelp get free glass sangria start fire ice seviche ahi tuna jimmy roll jimmy roll good would recommend everyone husband special two soft shell crab tacos 14 love order three tacos 15 baja fish braise beef cheesesteak good cheesesteak favorite really enjoy food go back fish look fresh decor ambiance youd expect financial district could love concept mix match ceviche restaurant nothing notably bad also nothing id call notably great get conch scallop oyster ceviche use ice fire standard lemony ceviche toppings oyster ice fire pretty innovative flavor fail amaze everything bite lemoned spice main complaint place get sushi roll nothing couldnt get generic japanese restaurant across town price pretty steep consider lackluster flavor im completely honest experience wont return like less strongly flavor raw seafood dish beginner raw fish consider train wheel upbeat lively spot friends happy hour even grub hot spot totally excellent meet girls ladies night liveliness however small bite cramp energy nice forget pork empanadas beef brisket tacos soooo good honestly pretty much order every time go im creature habit sometimes hey love something im commit thats weather nice outdoor seat right pittsburgh weather bipolar love small portion opportunity try waitress suggest salmon main course take suggestion try bring food disappear 30 minutes upon return inform us back salmon dinner huge turnoff couldnt even order drink find place reward check tasty house sangria ok especially since would check regardless 8 30 reservations saturday get table open hip cuban style restaurant waitress greet us quickly supply sangrias within 5 minutes inquire ready say need minute leave attend much bigger party quickly greet another server explain would help take care bachelorette party describe menu ceviche make informative however leave original waitress appear party table wrap guess go party little hardy decide want try fire ice seviche salmon kind shutter say people dont choose f ok love get suggestions servers say like crab ahi tuna well go crab fabulous love balance heat citrus herbs cool definitely winner drink decide next manhattan feature wigle whisky holy almost much main meal good punch couldnt blow whole budget cocktails could next get trio tacos husband go bbq short rib tacos play mix match get one bbq short rib baja fish one blt really enjoy bbq short rib taco small amount fill shell shell stand good inch fill end kind disappoint baja fish really tasty little dry need aioli slaw something good flavor need boost last taco blt far favorite fill top pickle veg romaine pork belly boat sit top call boat big strip bite size cut think way better cut price tacos bad since short rib one skimpy husband still quite hungry talk get dessert ha yea like someone really need talk dessert order flourless chocolate cake good enjoy bite pricey size unfortunately leave hungry hand satisfy cant complain sure back sample dish review happy hour its definitely mix heres skinny service 5 star bar bar table several large group service areas good prompt friendly drink 2 star happy hour special 5 margaritas sangria mojitos small weak switch captain coke still weak 8 apiece food 3 star sample shrimp tostadas happy hour menu tasty tiny four small tostadas slightly one bite meals go table look good albeit little skimpy well park make less ideal happy hour spot end spend 50 9 park 8 cocktails weak 5 sangria 4 bite food 5 tip might worth try dinner spot seviche starter crabcakes dinner everything taste good think problem portion really small dont think share friend carne asada great warmer months sit table sidewalks penn ave fantastic seviche awesome happy hour great people watch strong drink enjoyable patrons young professional post show crowd order jimmy roll could eat rest life good say last week symphony wednesday sit outside place fairly empty yet service painfully slow mention starve order chip salsa didnt receive receive main food take forever boo refill question poor service usual basis unless youre bar din two friends friday night make reservations 5 30 could take advantage happy hour specials 5 margaritas 4 glass wine sound appeal order pan con chihuahua yaki onigiri starters 5 happy hour enjoy tapas friend really dislike yaki onigiri think smoke shrimp mousse different taste people either really like dislike order fish taco veggie taco entree fish taco excellent veggie taco okay flavor couldnt even chew mushroom cook important note pick still manage enjoy rest taco service excellent decor energetic would definitely go would highly recommend make reservations especially cold months year additional outdoor seat space pretty limit spring cuban roll nigiri roll excellent happy hour specials booze phenomenal well cant go wrong 3 do equis lagers top server dale phenomenal cater every need even change tvs basketball game friends request talk excellent service also everyone else party really seem enjoy grass feed beef tacos pork empanada various ceviches would recommend restaurant anyone whos look place eat downtown also make sure ask dale hes best place own operate guy sonoma grill street go open weekend impress little small side electric atmosphere music lively space open vibrant really capture feel cuba south beach new night spot also best look people save friends make better environment tapas quite tasty havent eat entrees apps indication think entrees fine never ever felt uncomfortable walk restaurant without order come show friend last fri night around 10pm cultural district gallery crawl suggest place since seem interest different strong rat yelp offer free glass sangria check walk fairly busy seem understaffed host seat us since plan order drink tapas friend suggest sit bar agree walk seat guy look like manager owner walk pretty promptly hand us food drink menus peruse 10 min wed decide order set menus guy whod hand us come take order weirdness start say well id like claim free sangria since check yelp realize guy purportedly take order disappear give friend confuse look tell guy walk right say well joke perhaps start order well unacceptable establishment point realize werent sit bar actually sit chefs table structure similarly bar friend hadnt know lead us sit happen know chefs table b c id read one nobody include guy wait us bother tell us simple fact suggest may want move elsewhere werent plan order entrees instead ignore us point felt weird enough get decide leave without ado im sure profile peons didnt look wealthy enough sit chefs table place understaffed decide blow anyone show slightest degree indecisiveness either way treatment receive quite frankly unacceptable management think its okay ignore customers make feel uncomfortable wont many leave long mention revenue p leave head harris grill shadyside spend cool 50 tip drink food come friday even without reservations take outdoor seat nice weather good usually check yelp reminders write review later time reward free glass sangria little bite sweet side wont complain since its free since arrive around 6 30 order items happy hour menu like seviche happy hour menu friends try baja fish taco like blt taco pork belly interest tasty chicken quesadilla good though special also mojo nigiri fish good combination didnt work well good experience overall come eat everything blt taco best thing ever love fire ice ceviche much please come try foods people nice drink tasty hear best music ever well ive never fan tapas style restaurants free sangria upon check entice go seviche give try unfortunately im still fan style waitress helpful explain seviche go detail different section menu extremely helpful go order seasonal seviche salmon definitely interest wasnt impress think nice flavor seem overprice amount food get one main issue tapas understand point order multiple plat share plat small portion typically expensive nice low key spot take date girls super yummy lite apps watch weight drink refresh check spot yelpers p staff super nice recently din towner friends two three us really get tacos mind like order tacos special star show fact might threaten overshadow signature dish restaurant various type ceviche try man tacos tasty special favorite involve pork belly friends hubby really rave fish taco theyre decently size trio tacos appetizer set right good appetite would definitely come back seviche list restaurants try unfortunately pretty tear write review want love quite yet first things first its nice atmosphere good music outdoor seat warmer months first time try tapas know go portion go pretty small thankfully wasnt hungry need quick food fix quick place friend within 25 minutes would say sit meal want mind couldnt find menu waitress say seasonal item come realize lot restaurants like change menus always throw end order pork empanadas get two check yelp get free sangria even though pork empanadas basically size 1 egg roll delicious sangria hand weak way could see give another chance happy hour nice time order cuban shrimp fire ice ceviche crab meat protein mussels cuban shrimp great get 4 though devour 10 lol jerk sauce great excellent spice friend recommend fire ice main reason bobby stop cool experience ceviche great next time likely order without habaneros im weakling eye nose water rest meal hehehe mussels prepare nicely small plat course since tapas meat mussels tiny luckily mussels compliment nice sauce toast make tiny mussels sidney server excellent job recommendations first sit host kind explain entire concept us also give recommendations seviche salsa lessons mondays 930pm hear dj super cool 3 0 5 asian tartare 0 5 cuban sushi roll 0 5 0 5 peruvian poke gluten free dinner menu tapas share good drink fun atmosphere time im city go restaurant like chip salsa get 3 fresh salsa choices plantain chip corn tortilla chip yum salsa dance nights its great happy hour place everything fresh tasty love ive surprisingly id never go seviche dinner decide go valentines day dinner year seviche serve mostly ceviche sushi tapas word small plat high price restaurant decorate cool color modern decor music make feel like youre dominican definitely nice atmosphere dinner husband opt la carte menu since also prix fixe menu v day could sample regular offer seviche menu order crab beets oranges preparation tuna preparation tapas order beef arape asian tuna tartare get do tacos blt fish order pork shoulder large plate yes sound like insane feast small plat small without go detail dish favorite night beef arape beef cheek comfort savory aspects tomato onions chimichurri provide refresh contrast common denominator dish fresh element cut richness every one plat would imagine visit seviche summertime would give much nicer experience latin music fresh flavor definitely would come back food fit weather tear review give 5 star amaze food 1 star terrible service crispy tofu taco absolutely amaze honestly dont know whether ive good mix flavor grill shallots pickle carrots korean bbq sauce avocado basically favorite things favorite food taco however service pretty terrible seat wait wait long food long time get service afterwards ask look dessert menu come like 20 minutes later wait 40 minutes one come see want dessert drink also deliver table next shame beautiful night al fresco din ruin neglect basically 5 star food 1 star service hmmm think already review place maybe mental review fail put actual word think food drink place fantastic ceviche ive always fresh flavorful recently try sushi really good tapas also tasty think prefer ceviche sushi usually get mojito go recently colada mojito coconut minty quite enjoy waitress recommend try drunken sailor im mojito fan decide give shoot good taste bud bite confuse flavor good werent remind anything maybe good thing consult friends decide taste like coca cola basil flavor sound weird well try think youll pleasantly surprise overall think great place dinner grab drink menu tapas portion keep mind order may need order expect feel full content great place go downtown happy hour dinner night food serve style youre able try assortment dish best drink far call caipirinha its version margarita try say three time fast environment inside describe word colorful also outdoor seat summer get people watch its great way kick back long day remember go appetizers dinner bill run quickly probably spend weeks worth grocery money one night smart worth yes din first time friday night mix review report guess preface say first night new menu point time kink work know new menu entirely familiar ceviche want try unfortunately new menu contain 2 ceviche appetizers salmon scallop ceviche good enough split three people choose 2 tacos entr\\xc3\\xa9e barbacoa baja fish barbacoa suppose make lamb however substitute pull pork lamb still decide try anyways pull pork awful taste like pork ingredients high quality tasty though salsa verde crema radish marinate onions avocado baja fish taco good would know good would get two tempura fry fish chipotle tartar sauce romaine cucumber pico drink excellent banana mojito mix berry capirhina well make apple basil mojito one din partner able sneak sip delicious overall experience good one kink need work new menu id try seviche definitely back cocktails future pork empanada amaze mom daughter get bistec wonderful tender delicious beef cuban sushi roll asian tartare ginger tataki also good sangria day ok well definitely go back perfect place stop theater come seviche friday night 5 00 pm without reservation seem unheard luckily couple cancel reservation last minute friend enjoy happy hour drink order great regular mojito hh 5 reg 10 happy hour mojitos 5 maybe 8 flavor choose mojito good would totally come back happy hour feature friend two glass hh 4 glass also seem like great price 5 tapas look great well seviche budget regular price happy hour pretty fantastic would encourage poor graduate students check food yummy dont go empty stomach tapas small serve really hungry happy hour still expensive though drink tasty strong downside little expensive upside pretty good food drink its block condo plus great dinner last night seviche course go ceviche gf huge fresh raw fish fan love south american prepare foods need give shoot try tradito fire ice sofrito mango preparations felt 3 try fire ice traditional delicious ceviche flavor alittle spice nothing crazy great overall fresh cold base tradito little plain taste like ahi tuna olive oil spice sofrito mango preparation great aswell serve tartar style plantain chip dip would recommend also fruity underestimate much would enjoy 2 20 tacos nail choices one carnitas amaze tender moist enough spice tortilla toast nice aswell enjoy bbq short rib taco aswell would go back stick small offer like ceviche tacos none entrees really capture interest also enjoy pisco sour red sangria one better ive ive mean try seviche know its previously rat best burgh happy hour course start happy hour cocktails mojito classico berry caipirinha move onto seviche triple choose fire ice corn avocado asian tartare ask chef choose best fish prepare accordingly choose barramundi crab tuna highlight definitely asian tartare delish mojo criollo sushi much mojo like grass feed beef tacos tasty corn goat cheese croquettas waiter rest service excellent im sure seviche bring anything new menu friendly staff proximity house may need give seviche another go eat past thursday even fiance dinner decide stop head show us fairly dress upon enter restaurant greet door host reservations hard time find us spot promise take long time show table reservation later even take us table compliment bow tie wear server whenever make table sit high top table middle restaurant bar front back since happy hour decide get drink special fiance order sangria go mojito server leave check yelp pleasantly surprise check offer free sangria perfect since already order one inside restaurant bright vibrant yet also comfort think also give quite latin feel imagine base upon food go dinner fiance decide split bunch different small plat also roll sushi could try bunch different items beyond sushi roll also go shrimp seviche happy hour menu triple seviche bar could pick preparation seafood go shrimp avocado corn seviche bahamian conch traditional seviche ahi tuna fire ice seviche first item come sushi roll exactly sure since fiance one order delicious top something crispy sauce ponzu perhaps base delicious almost do sushi roll rest items come favorite bunch fire ice ahi tuna great taste cold temperature go heat pepper come back end quite good though end enjoy bottom line would head back future especially happy hour love vibe place also everything eat food would 5 star portion size dont get lot food money actually end eat full pizza later night however know might case whenever walk still mighty impress seviche excellent drink great place salsa dance great time wasnt busy affect dance awesome place last night one best meals ive pittsburgh long time start beef cheek empanada could eat entire dinner free check yelp glass sangria since happy hour choose two tacos dinner baja fish mahi mahi blt baja fish delicious authentic fish taco ive mexico baja blt pork belly pickle cherry tomatoes new favorite combo perfect flavor profile savory salty sour sweet base moms satisfaction choices well seem seviche good everything kitchen waiter tony incredible friendly attentive knowledgeable menu owners restaurants intend try even completely pack bar full indoor outdoor table impressive tuesday wait additional drink time plat come impressive immediate fan seviche absolutely back eat drink way rest menu id seviche couple time enjoy come plan birthday dinner decide try seviche seviche incredibly helpful dinner plan even change group size 20 35 28 close day get amaze job keep separate tabs large group food fast yummy siblings dont live surprise bottle wine dessert call ahead time seviches manager kindly take care execute really well great birthday dinner fantastic experience seviche thank seviche great attempt reservations two place seviche one will take us earlier 10pm make reservation 8pm saturday try arrive little early grab drink high top table available us back restaurant initially think great since quieter front minutes seviche turn music great music volume con remember shout part conversation make laugh waitress trainee along hand awesome think could friends end night order verde wine good little carbonation could taste grapes second food fire ice ceviche asian tartare tres quesos corn goat cheese croquettas beef tacos fry donut dessert think good nice dish communal enhance eat social experience im sure would come starve though give many dish fill us however seviche fun vibe definitely back seviche recently become one favorite happy hour spot downtown ive never trouble get table spot bar its good option spontaneous drink bite coworkers happy hour run 4 6 feature specials certain win cocktails 5 well 5 tapas believe selection discount beers well usually order tapas share love pretty much everything try several seviche options full flavor taste extremely fresh regular menu also tuna tartare its delicious combination caper onion wasabi aioli well jimmy roll tempura fry nori crab avocado cucumber spicy aioli also tasty fresh everyone always prompt attentive well round experience hopefully ill back soon dinner really try like place several time previously come lunch dinner happy hour first food great plus price pretty high quality quantity food one favorite dish paella however paella horrible come little metal pan make whole dish taste like metal wasnt much meat friend come happy hour get two dish happy hour special pineapple seviche salmon comida de la familia scallop tapas also order mojitos disappoint mojitos plain didnt like note usually go mojito drink friend couldnt drink ask waiter add flavor food pretty bad portion small didnt eat much food however pineapple seviche salmon highlight meal really like flavor waiter super friendly nice overall would really think come back much bill come could go elsewhere good food walk full pleasantly surprise much enjoy seviche fellow yelp reviewers spot regard restaurant pittsburgh work every couple weeks usually try eat somewhere different time base location hotel stay seviche within close proximity courtyard hotel also block away theater ticket see cat musical dinner reservation 6 30 arrive little bite early could check happy hour elizabeth josh man bar awesome job make feel welcome order much talk sangria 5 happy hour free base first check seviche thru yelp tasty must admit check dinner reservation since din alone ask could sit chefs table enjoy watch food prep seat immediately approach server ask ever din familar concept preparation namesake dish yes number seviche options choose also option add protein signature seviche fire ice opt black bean corn fresh jumbo lump crab meat opportunity watch prep dish dish serve ample portion plaintain tortilla chip dish awesome everything fresh flavorful could easily order another portion also order green salad artfully prepare serve mix green tomatoes walnuts d balsamic drizzle balsalmic dress server recommend try junior roll choose entree roll essence sushi roll batter deep fry slice coin top mixture avocado crab top sriracha drizzle sriracha aioli ponzu junior roll really good great recommendation opportunity sit chefs table give opportunity see behind put great food huge shout dwayne handle cold prep service also instrumental help others seem bite new keep track order grill items etc patient give direction never lose track task hand dwayne rock typically dont visit restaurant twice pittsburgh case seviche might make exception highly recommend place tapas small plate choices great yummy cocktails pretty decor great music nice place stop work happy hour summer food die dont make often pretty pricey food absolutely amaze every time go definitely unique restaurant incredible flavor love friend come friday even around 8pm relatively empty consider time host inform us show happen say youre look nice place eat lesser crowd weekend its probably good idea go around 8 decide take seat chefs table watch food get cook part wonder go popular fire ice seviche octopus escabeche pork empanada salmon aji papaya chef special trey fry rice papaya pineapple pork despite popularity wasnt biggest fan fire ice seviche prickly pear granita throw take away flavor rest seviche friend however love personal preference come play one octopus escabeche pretty good individual item well prepare avocado puree basically guac octopus red im sure work amazingly together though friend love one maybe im picky pork empanada flavor great quite like pesto empanada ball shape dumpling shape take away bite fry aspect hop salmon far one best ive ever salmon perfectly cook actually ask lightly sear salmon kind idea sear ahi tuna salmon something would go back without doubt dish quite hearty orange puree rice something light afterward wouldve nice ali papaya crab one favorites perfect salmon light tangy refresh malanga chip great touch last least fry rice one best fusion fry rice ive love addition papaya dish pork perfectly char end friend without doubt food coma ing ready pass issue take dessert menu cave forget name exactly get deep fry butternut squash donut apple butter raspberry preserve one bite forget full die look back drink menu seem though online pdf little date dont clear recollection exactly drink drink fantastic though see picture get one fresh strawberries ton mmm also get free check sangria good first time eat big y group restaurant its definitely get want try others nola square sonoma poros perle excellent cocktails happy hour seviche sushi specials seviche one favorite place go downtown name would suggest seviche feature item menu never disappoint fire ice seviche way go youve never try red onion jalape\\xc3\\xb1o prickly pear would also suggest asian tuna tartare tartare serve rice coin ponzu pretty little lotus chip its great want share appetizers dont want anything heavy tacos also delicious favorite thing seviche would cocktails recently caprese martini incredibly refresh wouldnt think drink inspire salad garnish basil leaf grape tomato mozzarella ball would good almost like really light bloody mary alcohol would recommend anyone try place havent already'),\n",
       " ('HWrbZS1mxVRj2Y2VwMmDMg',\n",
       "  'oh man word can not describe excite bakeshop its name dulcinea cool owner baker super cool friendly passionate bake experience bake several businesses open shop include stint head pastry chef casbah im glad open bakeshop though im sure im one feel way kind place expect creative seasonally inspire twist favorite pastries things make scratch quality ingredients really taste difference slice cheesecake dulce de leche make scratch best piece cheesecake far back remember felt like die go heaven also two slice delicious sausage pepper quiche ask one shop close soon owner super nice give extra slice extra glad try crust perfectly do super crispy buttery fill flavorful good texture plus love high crust fill ratio since crust favorite part definitely back lot lot delightful dangerous bakery mere 10 block place'),\n",
       " ('MvlQo4bev1eqp1q0HYOLHg',\n",
       "  'first dance class probably decade probably havent exercise year adult hip hop amaze move pittsburgh its really great find place exercise still keep dance skills definitely back studio scream one word loud clear swag definitely welcome interest place seem real feel catch eye studio many trophies success achievement display windows walk place daily enjoy watch dancers age various type dance hurry stop window watch interest dancers get jealous dancers can not dance two leave feet amaze dance move see place place pittsburgh go want improve groove even get fit everyone super chill friendly dance wavy though must say body roll sway etc id like try zumba one days fun place bring little kid learn things class age dance'),\n",
       " ('X9Bql7RrPU5Mab5-hJsI8A',\n",
       "  '2nd visit promise first time order feature burger spicy cow burger side fry season beef arugula tomato pickle jalape\\xc3\\xb1o slice pepper jack fry jalape\\xc3\\xb1os frank red hot something call ask want cook medium burger look perfect come fry bite underdone otherwise pretty tasty messy fry werent salt lightly like dont like nicely crisp fry arent hot thats oh well may give another try sure lot options burgers cook order medium pink middle juicy well season patty toast brioche bun hold burger together nicely fry fry salty nice cheese ale sauce delicious love espresso milkshake didnt get fountain drink sit know sauce bar mention offer us surely would check happy great burger place close reasonably price high quality come people register always warmly greet give menu explain things work also patient need time read menu one new coke machine mutual options also multiple sauce options choose thai ketchup spicy honey mustard good take number get table bring food everyone friendly mom really like cheesy cheeseburger its high quality beef moist juicy great flavor husband like plain burger cousin like burger salad fry good regular fry enough two people right sign app get free cheesy cheeseburger code send order chocolate peanut butter milkshake love creamy delicious lot delicious peanut butter husband order chocolate malt ball milkshake really enjoy weve several time love poor service fact service numerous employees stand around scratch asses one time wait customers go back place try place really put layout difficult order since menu post anywhere need wait line get menu try decide employees fellow customers glare try greek burger fry busy wait 35 minutes food little confuse find place wait tell allow sit table since order go like variety condiments available super happy quality food get home although greek burger veggie find greasy also huge mess eat fry warm also greasy old grease best cook think make better veggie burger save 35 minutes time finally try place weird system order sure walk register grab menu step back read others thing order special chance get regular burger fry burger cook well nothing special fry solid though its fit right burgatory 5 guy burgers price range cheap pricey wouldnt go way stop need could eat first visit l plan return try menu offer easy order process feature plenty good choices depend eat preferences burger menu feature angus beef 10 beef options seafood spicy thai shrimp burger catch interest veggie chicken turkey selections burgers serve toast brioche bun unable decide burger could select feature burger month price point angus burgers range 5 99 10 99 omg menu options 3 pack slider chicken tender basket sandwich gourmet dog salads side sweet potato regular fry love try sauce bar allow one step away traditional toppings normally offer servers extremely attentive apologetic burger undercooked graciously offer another menu item wait burger cook like atmosphere convenience eat better quality burger disappoint milkshake sweet make soft serve ice cream seldom treat milkshake usually prefer good old fashion shake lump try burger 21 finally walk approximately 8 30pm greet immediately seat order black blue burger since love blue cheese crumble burgers come 10 minutes later look really good taste good look fry look taste similar mcdonalds fry werent special pretty solid make dip one many sauce place sauce bar include rajun cajun sauce honey mustard chipotle mayo thai ketchup ranch dress even marshmallow sauce addition regular ketchup mustard like thai honey mustard rajun cajun favorite fry come big cup plenty big enough size even though get small onto burger come ketchup mustard lettuce tomato pickle blue cheese crumble bacon cook perfect like flavorful every bite really enjoy even burgatory place blow five guy away waitress friendly fast even waitress come talk negative super hot inside maybe air condition wasnt work turn later night couldnt imagine like heavy lunch dinner crowd bill come 11 75 leave waitress 3 00 definitely return recommend place others place great oreo shake delicious menu creative extensive separate menu dedicate gluten free high top table booths soda fountain type bar sit lot french fry dip sauce include cajun thai ketchup honey mustard etc option order ff basket half regular fry half sweet potato soda machine allow customize kind soda flavor get order bacon cheesy good fry thin cut well salt price reasonable quality food'),\n",
       " ('owO2UkNKk9qrWWd_PTYLDA',\n",
       "  'feel like ive random experience place regulars rowdys bbq 51 decide try place take former hair stylists salon though area 51 alien theme bright color order near close time hour prior woman take order extremely pleasant process quick food ready 15 minutes live 1 minute away choose pork bbq sandwich bean side bbq brisket mac cheese regular oppose spicy sandwich werent label look nearly identical taste test tell apart bbq sauce slightly tangy sweet could do pork thats preference fault pork warm actually taste amaze buttery good smoky flavor problem actual composition sandwich bottom bun soak fat juice pork inedible make sandwich moot point smoke bean glob thick mash bean look homemade point sauce thick gritty salty enjoyable mac cheese also mushy flavorless toddler happy cornbread sweet dry though highlight dinner well probably give another try every place entitle day review place much favorable experience')]"
      ]
     },
     "execution_count": 20,
     "metadata": {},
     "output_type": "execute_result"
    }
   ],
   "source": [
    "prodReviewCollected.take(5)"
   ]
  },
  {
   "cell_type": "markdown",
   "metadata": {},
   "source": [
    "### TF-IDF vector creation"
   ]
  },
  {
   "cell_type": "code",
   "execution_count": 21,
   "metadata": {},
   "outputs": [
    {
     "name": "stderr",
     "output_type": "stream",
     "text": [
      "/Users/lakshya/anaconda/lib/python2.7/site-packages/sklearn/utils/fixes.py:313: FutureWarning: numpy not_equal will not check object identity in the future. The comparison did not return the same result as suggested by the identity (`is`)) and will change.\n",
      "  _nan_object_mask = _nan_object_array != _nan_object_array\n"
     ]
    }
   ],
   "source": [
    "from sklearn.feature_extraction.text import TfidfVectorizer\n",
    "from sklearn.metrics.pairwise import linear_kernel"
   ]
  },
  {
   "cell_type": "code",
   "execution_count": 22,
   "metadata": {
    "collapsed": true
   },
   "outputs": [],
   "source": [
    "tf = TfidfVectorizer(analyzer='word',ngram_range=(1,1),min_df=0, norm='l2')"
   ]
  },
  {
   "cell_type": "markdown",
   "metadata": {},
   "source": [
    "Convert user and product rdd to pandas dataframe"
   ]
  },
  {
   "cell_type": "code",
   "execution_count": 23,
   "metadata": {
    "collapsed": true
   },
   "outputs": [],
   "source": [
    "spark = SparkSession(sc)\n",
    "\n",
    "userPandas = userReviewCollected.toDF().toPandas()\n",
    "prodPandas = prodReviewCollected.toDF().toPandas()"
   ]
  },
  {
   "cell_type": "markdown",
   "metadata": {},
   "source": [
    "Create TF-IDF vectors on product review text"
   ]
  },
  {
   "cell_type": "code",
   "execution_count": 24,
   "metadata": {
    "collapsed": true
   },
   "outputs": [],
   "source": [
    "tfidf_prod = tf.fit_transform(prodPandas['_2'])"
   ]
  },
  {
   "cell_type": "code",
   "execution_count": 25,
   "metadata": {},
   "outputs": [
    {
     "data": {
      "text/plain": [
       "(3098, 26685)"
      ]
     },
     "execution_count": 25,
     "metadata": {},
     "output_type": "execute_result"
    }
   ],
   "source": [
    "tfidf_prod.shape"
   ]
  },
  {
   "cell_type": "markdown",
   "metadata": {},
   "source": [
    "Add TF-IDF vectors to product dataframe"
   ]
  },
  {
   "cell_type": "code",
   "execution_count": 26,
   "metadata": {
    "collapsed": true
   },
   "outputs": [],
   "source": [
    "prodPandas['Vector'] = tfidf_prod.toarray().tolist()"
   ]
  },
  {
   "cell_type": "code",
   "execution_count": 27,
   "metadata": {},
   "outputs": [
    {
     "data": {
      "text/html": [
       "<div>\n",
       "<style>\n",
       "    .dataframe thead tr:only-child th {\n",
       "        text-align: right;\n",
       "    }\n",
       "\n",
       "    .dataframe thead th {\n",
       "        text-align: left;\n",
       "    }\n",
       "\n",
       "    .dataframe tbody tr th {\n",
       "        vertical-align: top;\n",
       "    }\n",
       "</style>\n",
       "<table border=\"1\" class=\"dataframe\">\n",
       "  <thead>\n",
       "    <tr style=\"text-align: right;\">\n",
       "      <th></th>\n",
       "      <th>_1</th>\n",
       "      <th>_2</th>\n",
       "      <th>Vector</th>\n",
       "    </tr>\n",
       "  </thead>\n",
       "  <tbody>\n",
       "    <tr>\n",
       "      <th>0</th>\n",
       "      <td>5REYrZfsX3m4E3FTwovp5Q</td>\n",
       "      <td>try first time last night pretty good one thin...</td>\n",
       "      <td>[0.0048004686407, 0.0, 0.0, 0.0, 0.0, 0.0, 0.0...</td>\n",
       "    </tr>\n",
       "    <tr>\n",
       "      <th>1</th>\n",
       "      <td>HWrbZS1mxVRj2Y2VwMmDMg</td>\n",
       "      <td>oh man word can not describe excite bakeshop i...</td>\n",
       "      <td>[0.0, 0.0, 0.0, 0.0, 0.0, 0.0, 0.0, 0.0, 0.0, ...</td>\n",
       "    </tr>\n",
       "    <tr>\n",
       "      <th>2</th>\n",
       "      <td>MvlQo4bev1eqp1q0HYOLHg</td>\n",
       "      <td>first dance class probably decade probably hav...</td>\n",
       "      <td>[0.0, 0.0, 0.0, 0.0, 0.0, 0.0, 0.0, 0.0, 0.0, ...</td>\n",
       "    </tr>\n",
       "    <tr>\n",
       "      <th>3</th>\n",
       "      <td>X9Bql7RrPU5Mab5-hJsI8A</td>\n",
       "      <td>2nd visit promise first time order feature bur...</td>\n",
       "      <td>[0.0224731737297, 0.0, 0.0, 0.0, 0.0, 0.0, 0.0...</td>\n",
       "    </tr>\n",
       "    <tr>\n",
       "      <th>4</th>\n",
       "      <td>owO2UkNKk9qrWWd_PTYLDA</td>\n",
       "      <td>feel like ive random experience place regulars...</td>\n",
       "      <td>[0.0, 0.0, 0.0, 0.0, 0.0, 0.0, 0.0, 0.0, 0.0, ...</td>\n",
       "    </tr>\n",
       "  </tbody>\n",
       "</table>\n",
       "</div>"
      ],
      "text/plain": [
       "                       _1                                                 _2  \\\n",
       "0  5REYrZfsX3m4E3FTwovp5Q  try first time last night pretty good one thin...   \n",
       "1  HWrbZS1mxVRj2Y2VwMmDMg  oh man word can not describe excite bakeshop i...   \n",
       "2  MvlQo4bev1eqp1q0HYOLHg  first dance class probably decade probably hav...   \n",
       "3  X9Bql7RrPU5Mab5-hJsI8A  2nd visit promise first time order feature bur...   \n",
       "4  owO2UkNKk9qrWWd_PTYLDA  feel like ive random experience place regulars...   \n",
       "\n",
       "                                              Vector  \n",
       "0  [0.0048004686407, 0.0, 0.0, 0.0, 0.0, 0.0, 0.0...  \n",
       "1  [0.0, 0.0, 0.0, 0.0, 0.0, 0.0, 0.0, 0.0, 0.0, ...  \n",
       "2  [0.0, 0.0, 0.0, 0.0, 0.0, 0.0, 0.0, 0.0, 0.0, ...  \n",
       "3  [0.0224731737297, 0.0, 0.0, 0.0, 0.0, 0.0, 0.0...  \n",
       "4  [0.0, 0.0, 0.0, 0.0, 0.0, 0.0, 0.0, 0.0, 0.0, ...  "
      ]
     },
     "execution_count": 27,
     "metadata": {},
     "output_type": "execute_result"
    }
   ],
   "source": [
    "prodPandas.head()"
   ]
  },
  {
   "cell_type": "markdown",
   "metadata": {},
   "source": [
    "Product category text not needed"
   ]
  },
  {
   "cell_type": "code",
   "execution_count": 28,
   "metadata": {
    "collapsed": true
   },
   "outputs": [],
   "source": [
    "del prodPandas['_2']"
   ]
  },
  {
   "cell_type": "markdown",
   "metadata": {},
   "source": [
    "### Weighted Linear Combination of product vectors for users"
   ]
  },
  {
   "cell_type": "code",
   "execution_count": 29,
   "metadata": {
    "collapsed": true
   },
   "outputs": [],
   "source": [
    "userPandas['Vector'] = [[] for _ in range(len(userPandas))]"
   ]
  },
  {
   "cell_type": "code",
   "execution_count": 30,
   "metadata": {
    "collapsed": true
   },
   "outputs": [],
   "source": [
    "userPandas['_3'] = userPandas['_3'].astype(float)"
   ]
  },
  {
   "cell_type": "code",
   "execution_count": 31,
   "metadata": {
    "collapsed": true
   },
   "outputs": [],
   "source": [
    "for index, row in userPandas.iterrows():\n",
    "    vector = np.array(prodPandas.loc[prodPandas['_1'] == row['_2'], 'Vector'].values[0])\n",
    "    rating = row['_3']\n",
    "    userPandas.at[index,'Vector'] = rating*vector"
   ]
  },
  {
   "cell_type": "code",
   "execution_count": 32,
   "metadata": {},
   "outputs": [
    {
     "data": {
      "text/html": [
       "<div>\n",
       "<style>\n",
       "    .dataframe thead tr:only-child th {\n",
       "        text-align: right;\n",
       "    }\n",
       "\n",
       "    .dataframe thead th {\n",
       "        text-align: left;\n",
       "    }\n",
       "\n",
       "    .dataframe tbody tr th {\n",
       "        vertical-align: top;\n",
       "    }\n",
       "</style>\n",
       "<table border=\"1\" class=\"dataframe\">\n",
       "  <thead>\n",
       "    <tr style=\"text-align: right;\">\n",
       "      <th></th>\n",
       "      <th>_1</th>\n",
       "      <th>_2</th>\n",
       "      <th>_3</th>\n",
       "      <th>Vector</th>\n",
       "    </tr>\n",
       "  </thead>\n",
       "  <tbody>\n",
       "    <tr>\n",
       "      <th>0</th>\n",
       "      <td>3egcdazws_x1wW35jgXfNw</td>\n",
       "      <td>gae9LAyt7Qvf_OgAkWASxA</td>\n",
       "      <td>4.0</td>\n",
       "      <td>[0.0, 0.0, 0.0, 0.0, 0.0, 0.0, 0.0, 0.0, 0.0, ...</td>\n",
       "    </tr>\n",
       "    <tr>\n",
       "      <th>1</th>\n",
       "      <td>4wp4XI9AxKNqJima-xahlg</td>\n",
       "      <td>7O_mNtg37-1sMvQ5xmA8Dw</td>\n",
       "      <td>4.0</td>\n",
       "      <td>[0.0, 0.0, 0.0, 0.0, 0.0, 0.0, 0.0, 0.0, 0.0, ...</td>\n",
       "    </tr>\n",
       "    <tr>\n",
       "      <th>2</th>\n",
       "      <td>BxDsaVNeWxc5mNyA1HtSHQ</td>\n",
       "      <td>oeW0vIYd3rUnAPgmD4fEFg</td>\n",
       "      <td>5.0</td>\n",
       "      <td>[0.0444835542224, 0.0264260403666, 0.0, 0.0, 0...</td>\n",
       "    </tr>\n",
       "    <tr>\n",
       "      <th>3</th>\n",
       "      <td>BBg_86FEejn3dNzj0JOR9Q</td>\n",
       "      <td>XItYW5ul3OW_AqpT2nDbBQ</td>\n",
       "      <td>4.0</td>\n",
       "      <td>[0.022492077401, 0.0, 0.0, 0.0, 0.0, 0.0, 0.0,...</td>\n",
       "    </tr>\n",
       "    <tr>\n",
       "      <th>4</th>\n",
       "      <td>z2YVGKKcup6mjQmDQ6arEg</td>\n",
       "      <td>RqmORv3974ZDC6Zh4nSQwg</td>\n",
       "      <td>5.0</td>\n",
       "      <td>[0.0783406184889, 0.0, 0.0, 0.0, 0.0, 0.0, 0.0...</td>\n",
       "    </tr>\n",
       "  </tbody>\n",
       "</table>\n",
       "</div>"
      ],
      "text/plain": [
       "                       _1                      _2   _3  \\\n",
       "0  3egcdazws_x1wW35jgXfNw  gae9LAyt7Qvf_OgAkWASxA  4.0   \n",
       "1  4wp4XI9AxKNqJima-xahlg  7O_mNtg37-1sMvQ5xmA8Dw  4.0   \n",
       "2  BxDsaVNeWxc5mNyA1HtSHQ  oeW0vIYd3rUnAPgmD4fEFg  5.0   \n",
       "3  BBg_86FEejn3dNzj0JOR9Q  XItYW5ul3OW_AqpT2nDbBQ  4.0   \n",
       "4  z2YVGKKcup6mjQmDQ6arEg  RqmORv3974ZDC6Zh4nSQwg  5.0   \n",
       "\n",
       "                                              Vector  \n",
       "0  [0.0, 0.0, 0.0, 0.0, 0.0, 0.0, 0.0, 0.0, 0.0, ...  \n",
       "1  [0.0, 0.0, 0.0, 0.0, 0.0, 0.0, 0.0, 0.0, 0.0, ...  \n",
       "2  [0.0444835542224, 0.0264260403666, 0.0, 0.0, 0...  \n",
       "3  [0.022492077401, 0.0, 0.0, 0.0, 0.0, 0.0, 0.0,...  \n",
       "4  [0.0783406184889, 0.0, 0.0, 0.0, 0.0, 0.0, 0.0...  "
      ]
     },
     "execution_count": 32,
     "metadata": {},
     "output_type": "execute_result"
    }
   ],
   "source": [
    "userPandas.head()"
   ]
  },
  {
   "cell_type": "markdown",
   "metadata": {},
   "source": [
    "Product and rating column not needed"
   ]
  },
  {
   "cell_type": "code",
   "execution_count": 33,
   "metadata": {
    "collapsed": true
   },
   "outputs": [],
   "source": [
    "del userPandas['_2']\n",
    "del userPandas['_3']"
   ]
  },
  {
   "cell_type": "markdown",
   "metadata": {},
   "source": [
    "Linear combination of feature vectors"
   ]
  },
  {
   "cell_type": "code",
   "execution_count": 34,
   "metadata": {
    "collapsed": true
   },
   "outputs": [],
   "source": [
    "userPandas = userPandas.groupby(['_1']).sum()"
   ]
  },
  {
   "cell_type": "markdown",
   "metadata": {},
   "source": [
    "Normalize the user feature vectors"
   ]
  },
  {
   "cell_type": "code",
   "execution_count": 35,
   "metadata": {
    "collapsed": true
   },
   "outputs": [],
   "source": [
    "from sklearn.preprocessing import Normalizer"
   ]
  },
  {
   "cell_type": "code",
   "execution_count": 36,
   "metadata": {
    "collapsed": true
   },
   "outputs": [],
   "source": [
    "for index, row in userPandas.iterrows():\n",
    "    vector = np.array(row['Vector']).reshape(1, -1)\n",
    "    transformer = Normalizer().fit(vector)\n",
    "    userPandas.at[index,'Vector'] = transformer.transform(vector)"
   ]
  },
  {
   "cell_type": "code",
   "execution_count": 37,
   "metadata": {},
   "outputs": [
    {
     "data": {
      "text/html": [
       "<div>\n",
       "<style>\n",
       "    .dataframe thead tr:only-child th {\n",
       "        text-align: right;\n",
       "    }\n",
       "\n",
       "    .dataframe thead th {\n",
       "        text-align: left;\n",
       "    }\n",
       "\n",
       "    .dataframe tbody tr th {\n",
       "        vertical-align: top;\n",
       "    }\n",
       "</style>\n",
       "<table border=\"1\" class=\"dataframe\">\n",
       "  <thead>\n",
       "    <tr style=\"text-align: right;\">\n",
       "      <th></th>\n",
       "      <th>Vector</th>\n",
       "    </tr>\n",
       "    <tr>\n",
       "      <th>_1</th>\n",
       "      <th></th>\n",
       "    </tr>\n",
       "  </thead>\n",
       "  <tbody>\n",
       "    <tr>\n",
       "      <th>-0-hVEpwWEcJLJoGq3rE3g</th>\n",
       "      <td>[[0.00707135105417, 0.000361628795416, 0.0, 0....</td>\n",
       "    </tr>\n",
       "    <tr>\n",
       "      <th>-2OB54nQ6FsGLUM-R1KXnA</th>\n",
       "      <td>[[0.0081805485151, 0.000732556578107, 0.0, 0.0...</td>\n",
       "    </tr>\n",
       "    <tr>\n",
       "      <th>-ARdx8hOcEWlMDjzwLYZ_g</th>\n",
       "      <td>[[0.00891272247392, 0.00101404014352, 0.0, 0.0...</td>\n",
       "    </tr>\n",
       "    <tr>\n",
       "      <th>-Pk25bOBsvemFaWKDBVBzA</th>\n",
       "      <td>[[0.00582838200541, 0.0, 0.0, 0.0, 0.0, 0.0, 0...</td>\n",
       "    </tr>\n",
       "    <tr>\n",
       "      <th>-Q2wBtscwW6JOqlBndji4A</th>\n",
       "      <td>[[0.00646852989731, 0.0, 0.0, 0.0, 0.001247097...</td>\n",
       "    </tr>\n",
       "  </tbody>\n",
       "</table>\n",
       "</div>"
      ],
      "text/plain": [
       "                                                                   Vector\n",
       "_1                                                                       \n",
       "-0-hVEpwWEcJLJoGq3rE3g  [[0.00707135105417, 0.000361628795416, 0.0, 0....\n",
       "-2OB54nQ6FsGLUM-R1KXnA  [[0.0081805485151, 0.000732556578107, 0.0, 0.0...\n",
       "-ARdx8hOcEWlMDjzwLYZ_g  [[0.00891272247392, 0.00101404014352, 0.0, 0.0...\n",
       "-Pk25bOBsvemFaWKDBVBzA  [[0.00582838200541, 0.0, 0.0, 0.0, 0.0, 0.0, 0...\n",
       "-Q2wBtscwW6JOqlBndji4A  [[0.00646852989731, 0.0, 0.0, 0.0, 0.001247097..."
      ]
     },
     "execution_count": 37,
     "metadata": {},
     "output_type": "execute_result"
    }
   ],
   "source": [
    "userPandas.head()"
   ]
  },
  {
   "cell_type": "markdown",
   "metadata": {},
   "source": [
    "### Create user numpy matrix from feature vectors"
   ]
  },
  {
   "cell_type": "code",
   "execution_count": 38,
   "metadata": {
    "collapsed": true
   },
   "outputs": [],
   "source": [
    "user_matrix = np.zeros((len(userPandas), tfidf_prod.shape[1]))\n",
    "idx = 0\n",
    "for index, row in userPandas.iterrows():\n",
    "    vector = np.array(row['Vector'])[0]\n",
    "    user_matrix[idx] = vector\n",
    "    idx += 1\n",
    "    "
   ]
  },
  {
   "cell_type": "code",
   "execution_count": 39,
   "metadata": {},
   "outputs": [
    {
     "data": {
      "text/plain": [
       "array([[ 0.00707135,  0.00036163,  0.        , ...,  0.        ,\n",
       "         0.        ,  0.        ],\n",
       "       [ 0.00818055,  0.00073256,  0.        , ...,  0.        ,\n",
       "         0.        ,  0.00038655],\n",
       "       [ 0.00891272,  0.00101404,  0.        , ...,  0.        ,\n",
       "         0.0003156 ,  0.        ],\n",
       "       ..., \n",
       "       [ 0.0110992 ,  0.        ,  0.        , ...,  0.        ,\n",
       "         0.        ,  0.        ],\n",
       "       [ 0.0069594 ,  0.00076676,  0.        , ...,  0.        ,\n",
       "         0.        ,  0.0004189 ],\n",
       "       [ 0.0060828 ,  0.00035974,  0.        , ...,  0.        ,\n",
       "         0.        ,  0.        ]])"
      ]
     },
     "execution_count": 39,
     "metadata": {},
     "output_type": "execute_result"
    }
   ],
   "source": [
    "user_matrix"
   ]
  },
  {
   "cell_type": "markdown",
   "metadata": {},
   "source": [
    "### Create product numpy matrix from feature vectors"
   ]
  },
  {
   "cell_type": "code",
   "execution_count": 40,
   "metadata": {
    "collapsed": true
   },
   "outputs": [],
   "source": [
    "prod_matrix = np.zeros((len(prodPandas), tfidf_prod.shape[1]))\n",
    "idx = 0\n",
    "for index, row in prodPandas.iterrows():\n",
    "    vector = np.array(row['Vector'])\n",
    "    prod_matrix[idx] = vector\n",
    "    idx += 1"
   ]
  },
  {
   "cell_type": "code",
   "execution_count": 41,
   "metadata": {},
   "outputs": [
    {
     "data": {
      "text/plain": [
       "array([[ 0.00480047,  0.        ,  0.        , ...,  0.        ,\n",
       "         0.        ,  0.        ],\n",
       "       [ 0.        ,  0.        ,  0.        , ...,  0.        ,\n",
       "         0.        ,  0.        ],\n",
       "       [ 0.        ,  0.        ,  0.        , ...,  0.        ,\n",
       "         0.        ,  0.        ],\n",
       "       ..., \n",
       "       [ 0.        ,  0.        ,  0.        , ...,  0.        ,\n",
       "         0.        ,  0.        ],\n",
       "       [ 0.        ,  0.        ,  0.        , ...,  0.        ,\n",
       "         0.        ,  0.        ],\n",
       "       [ 0.        ,  0.        ,  0.        , ...,  0.        ,\n",
       "         0.        ,  0.        ]])"
      ]
     },
     "execution_count": 41,
     "metadata": {},
     "output_type": "execute_result"
    }
   ],
   "source": [
    "prod_matrix"
   ]
  },
  {
   "cell_type": "markdown",
   "metadata": {},
   "source": [
    "### Compute cosine similarity by taking dot product"
   ]
  },
  {
   "cell_type": "code",
   "execution_count": 42,
   "metadata": {
    "collapsed": true
   },
   "outputs": [],
   "source": [
    "similarity_matrix = np.dot(user_matrix, prod_matrix.T)"
   ]
  },
  {
   "cell_type": "code",
   "execution_count": 43,
   "metadata": {},
   "outputs": [
    {
     "data": {
      "text/plain": [
       "(987, 3098)"
      ]
     },
     "execution_count": 43,
     "metadata": {},
     "output_type": "execute_result"
    }
   ],
   "source": [
    "similarity_matrix.shape"
   ]
  },
  {
   "cell_type": "markdown",
   "metadata": {},
   "source": [
    "### Flatten similarity matrix to relate with user and products"
   ]
  },
  {
   "cell_type": "code",
   "execution_count": 44,
   "metadata": {
    "collapsed": true
   },
   "outputs": [],
   "source": [
    "prod = prodPandas['_1'].values\n",
    "user = userPandas.index.values"
   ]
  },
  {
   "cell_type": "code",
   "execution_count": 45,
   "metadata": {
    "collapsed": true
   },
   "outputs": [],
   "source": [
    "zf = similarity_matrix.flatten()\n",
    "xr = np.repeat(user, prod.size)\n",
    "yt = np.tile(prod, user.size)\n",
    "d = np.stack((xr, yt, zf), axis=-1)"
   ]
  },
  {
   "cell_type": "code",
   "execution_count": 46,
   "metadata": {},
   "outputs": [
    {
     "data": {
      "text/plain": [
       "(3057726, 3)"
      ]
     },
     "execution_count": 46,
     "metadata": {},
     "output_type": "execute_result"
    }
   ],
   "source": [
    "d.shape"
   ]
  },
  {
   "cell_type": "markdown",
   "metadata": {},
   "source": [
    "### Convert similarity matrix to RDD"
   ]
  },
  {
   "cell_type": "code",
   "execution_count": 47,
   "metadata": {
    "collapsed": true
   },
   "outputs": [],
   "source": [
    "similarity_rdd = sc.parallelize(d)"
   ]
  },
  {
   "cell_type": "code",
   "execution_count": 48,
   "metadata": {},
   "outputs": [
    {
     "data": {
      "text/plain": [
       "[array([u'-0-hVEpwWEcJLJoGq3rE3g', u'5REYrZfsX3m4E3FTwovp5Q',\n",
       "        0.47567194032152077], dtype=object),\n",
       " array([u'-0-hVEpwWEcJLJoGq3rE3g', u'HWrbZS1mxVRj2Y2VwMmDMg',\n",
       "        0.18905336787947438], dtype=object),\n",
       " array([u'-0-hVEpwWEcJLJoGq3rE3g', u'MvlQo4bev1eqp1q0HYOLHg',\n",
       "        0.13765104745595919], dtype=object),\n",
       " array([u'-0-hVEpwWEcJLJoGq3rE3g', u'X9Bql7RrPU5Mab5-hJsI8A',\n",
       "        0.40540105082096445], dtype=object),\n",
       " array([u'-0-hVEpwWEcJLJoGq3rE3g', u'owO2UkNKk9qrWWd_PTYLDA',\n",
       "        0.22314458296277775], dtype=object)]"
      ]
     },
     "execution_count": 48,
     "metadata": {},
     "output_type": "execute_result"
    }
   ],
   "source": [
    "similarity_rdd.take(5)"
   ]
  },
  {
   "cell_type": "markdown",
   "metadata": {},
   "source": [
    "### Use Train and Test Data for predictions"
   ]
  },
  {
   "cell_type": "code",
   "execution_count": 49,
   "metadata": {},
   "outputs": [
    {
     "data": {
      "text/plain": [
       "['1VVHf1BvtGC0aSCCIjQyiA,K5jY2W5Q3eNnwssV5UZtow,4,2016-11-16,2,2,2,past sunday one several time ive spirit its always eccentric fun time first music performance second hang recent visit sundays bingo bango spirit know pizza good drink also awesome last time get chard margarita time get tomatillo margarita hot ciders its always pleasant surprise see whats menu food drink drink little pricey drawback one coolest things spirit atmosphere its always super strange positive way really never know expect bingo bango definitely family appropriate its fun activity friends maybe even date doesnt mind something ordinary',\n",
       " 'QYKexxaOJQlseGWmc6soRg,rzByiKaj-bLeLz-zKNBQdg,2,2015-04-13,0,0,0,old cramp build lot enough employees staff keep demand cause long wait time',\n",
       " '-ARdx8hOcEWlMDjzwLYZ_g,3cbsPfoUUrysf-M8FI_0IA,4,2014-03-24,6,4,3,live long world without donut menu dont know group nine din three varieties donuts include lemon lavender chocolate espresso zeppolli amaze pepper donut concoction ever make donut order come five donut hole theyre big hole one two enough cant believe say thats even little true youll want entire order save room best yet come choose omelette day entr\\xc3\\xa9e couldnt tell goat cheese creamy goats cheese salad nice addition potatoes delightful touch underdone seat downstairs pretty frigid awesome space nonetheless warm joint bite its five star way cant wait visit e2 dinner serve donuts right',\n",
       " '2oTG2GrBpikkonRxQywI7Q,CFtZH4Skp9z3o4ToSywI4w,4,2015-04-02,0,0,0,month try place try years ago im actually quite surprise place get earlier review sample veggie burger goodness place event attend couple years ago become close top list try finally go friend couple weeks ago try veggie burger call hippie something another burger feel like tony tiger fry good beer good fry good venue wait staff pretty great around good yummy experience',\n",
       " 'B7aR8VlLMGzaJ7NHC-jeMQ,RC8NJlX3X2Eo240PU5zJWA,4,2013-02-16,1,0,0,food good find service tad slow italian place area would go first italian good yes excellent meatballs']"
      ]
     },
     "execution_count": 49,
     "metadata": {},
     "output_type": "execute_result"
    }
   ],
   "source": [
    "trainData.take(5)"
   ]
  },
  {
   "cell_type": "markdown",
   "metadata": {},
   "source": [
    "Create key on (user, product)"
   ]
  },
  {
   "cell_type": "code",
   "execution_count": 50,
   "metadata": {
    "collapsed": true
   },
   "outputs": [],
   "source": [
    "train_rdd = trainData.mapPartitions(lambda x: csv.reader(x)).map(lambda x: ((x[0], x[1]), float(x[2])))\n",
    "test_rdd = testData.mapPartitions(lambda x: csv.reader(x)).map(lambda x: ((x[0], x[1]), float(x[2])))"
   ]
  },
  {
   "cell_type": "code",
   "execution_count": 51,
   "metadata": {
    "collapsed": true
   },
   "outputs": [],
   "source": [
    "similarity_rdd = similarity_rdd.map(lambda x: ((x[0], x[1]), float(x[2])))"
   ]
  },
  {
   "cell_type": "code",
   "execution_count": 52,
   "metadata": {},
   "outputs": [
    {
     "data": {
      "text/plain": [
       "[((u'-0-hVEpwWEcJLJoGq3rE3g', u'5REYrZfsX3m4E3FTwovp5Q'), 0.47567194032152077),\n",
       " ((u'-0-hVEpwWEcJLJoGq3rE3g', u'HWrbZS1mxVRj2Y2VwMmDMg'), 0.18905336787947438),\n",
       " ((u'-0-hVEpwWEcJLJoGq3rE3g', u'MvlQo4bev1eqp1q0HYOLHg'), 0.13765104745595919),\n",
       " ((u'-0-hVEpwWEcJLJoGq3rE3g', u'X9Bql7RrPU5Mab5-hJsI8A'), 0.40540105082096445),\n",
       " ((u'-0-hVEpwWEcJLJoGq3rE3g', u'owO2UkNKk9qrWWd_PTYLDA'), 0.22314458296277775)]"
      ]
     },
     "execution_count": 52,
     "metadata": {},
     "output_type": "execute_result"
    }
   ],
   "source": [
    "similarity_rdd.take(5)"
   ]
  },
  {
   "cell_type": "markdown",
   "metadata": {},
   "source": [
    "Join similarity matrix with train and test RDD to take only similarity values for training and testing"
   ]
  },
  {
   "cell_type": "code",
   "execution_count": 53,
   "metadata": {
    "collapsed": true
   },
   "outputs": [],
   "source": [
    "train = similarity_rdd.join(train_rdd)\n",
    "test = similarity_rdd.join(test_rdd)"
   ]
  },
  {
   "cell_type": "code",
   "execution_count": 54,
   "metadata": {},
   "outputs": [
    {
     "data": {
      "text/plain": [
       "[((u'hHqH_E9FCI_B6WubV0jPYA', u'ZNdV9ytExuxPTXSN8i2xhw'),\n",
       "  (0.5484030300391493, 3.0)),\n",
       " ((u'V0pP_PQnWdtyKpF-pifiaw', u'Fpm3WvqtrAg2ueh_4pz7iA'),\n",
       "  (0.6575895407217334, 4.0)),\n",
       " ((u'IKnLl7SbuP0u6HS34jwHhw', u'guQww9yGHP7rRTea6zTnDg'),\n",
       "  (0.4790185445032895, 3.0)),\n",
       " ((u'4r33dXcE1oYZxjONrhxTiA', u'9gNko6cFCMZbvy1zhJ7-Xg'),\n",
       "  (0.4673522425623029, 5.0)),\n",
       " ((u'Rem81Xoev05aqeA-mFbM4A', u'1LUaZFVMEjodl1tbAGF3sQ'),\n",
       "  (0.3369241166739786, 4.0))]"
      ]
     },
     "execution_count": 54,
     "metadata": {},
     "output_type": "execute_result"
    }
   ],
   "source": [
    "train.take(5)"
   ]
  },
  {
   "cell_type": "markdown",
   "metadata": {},
   "source": [
    "Convert RDD to List"
   ]
  },
  {
   "cell_type": "code",
   "execution_count": 55,
   "metadata": {
    "collapsed": true
   },
   "outputs": [],
   "source": [
    "train_ratings = train.collect()\n",
    "test_ratings = test.collect()"
   ]
  },
  {
   "cell_type": "markdown",
   "metadata": {},
   "source": [
    "### Training Regressor on similarity values"
   ]
  },
  {
   "cell_type": "code",
   "execution_count": 56,
   "metadata": {
    "collapsed": true
   },
   "outputs": [],
   "source": [
    "from sklearn.ensemble import RandomForestRegressor\n",
    "from sklearn.ensemble import AdaBoostRegressor\n",
    "from sklearn.ensemble import GradientBoostingRegressor\n",
    "from sklearn.linear_model import LinearRegression\n",
    "from sklearn.datasets import make_regression\n",
    "from sklearn.metrics import mean_squared_error\n",
    "from sklearn.model_selection import train_test_split\n",
    "from sklearn.model_selection import GridSearchCV\n",
    "from sklearn.svm import SVR"
   ]
  },
  {
   "cell_type": "markdown",
   "metadata": {},
   "source": [
    "Convert data to numpy array for regressor"
   ]
  },
  {
   "cell_type": "code",
   "execution_count": 57,
   "metadata": {
    "collapsed": true
   },
   "outputs": [],
   "source": [
    "X_train = []\n",
    "y_train = []\n",
    "for ratings in train_ratings:\n",
    "    X_train.append(ratings[1][0])\n",
    "    y_train.append(ratings[1][1])\n",
    "\n",
    "X_train = np.array(X_train)\n",
    "X_train = X_train.reshape(-1,1)"
   ]
  },
  {
   "cell_type": "code",
   "execution_count": 58,
   "metadata": {
    "collapsed": true
   },
   "outputs": [],
   "source": [
    "X_test = []\n",
    "y_test = []\n",
    "for ratings in test_ratings:\n",
    "    X_test.append(ratings[1][0])\n",
    "    y_test.append(ratings[1][1])\n",
    "\n",
    "X_test = np.array(X_test)\n",
    "X_test = X_test.reshape(-1,1)"
   ]
  },
  {
   "cell_type": "code",
   "execution_count": 59,
   "metadata": {},
   "outputs": [
    {
     "data": {
      "text/plain": [
       "(9890, 1)"
      ]
     },
     "execution_count": 59,
     "metadata": {},
     "output_type": "execute_result"
    }
   ],
   "source": [
    "X_test.shape"
   ]
  },
  {
   "cell_type": "markdown",
   "metadata": {},
   "source": [
    "Train regressor on training data and make prediction on Test data<br>\n",
    "Computed Mean Squared Error on predicted values"
   ]
  },
  {
   "cell_type": "code",
   "execution_count": 60,
   "metadata": {},
   "outputs": [
    {
     "name": "stdout",
     "output_type": "stream",
     "text": [
      "Training:\n",
      "1.03137059321\n",
      "Result:\n",
      "1.03775086639\n"
     ]
    }
   ],
   "source": [
    "forest = RandomForestRegressor(max_depth=1, n_estimators=50)\n",
    "\n",
    "rs = GradientBoostingRegressor(loss='ls', learning_rate=0.005, n_estimators=20)\n",
    "\n",
    "reg = LinearRegression()\n",
    "\n",
    "rs.fit(X_train, y_train)\n",
    "\n",
    "from sklearn.metrics import classification_report\n",
    "from sklearn.metrics import confusion_matrix\n",
    "\n",
    "expected = y_test\n",
    "predicted = rs.predict(X_test)\n",
    "\n",
    "train_expected = y_train\n",
    "train_predicted = rs.predict(X_train)\n",
    "\n",
    "print(\"Training:\\n%s\" % np.sqrt(mean_squared_error(train_expected, train_predicted)))\n",
    "print(\"Result:\\n%s\" % np.sqrt(mean_squared_error(expected, predicted)))"
   ]
  },
  {
   "cell_type": "markdown",
   "metadata": {
    "collapsed": true
   },
   "source": [
    "### Computed Ratings on missing values"
   ]
  },
  {
   "cell_type": "code",
   "execution_count": 61,
   "metadata": {
    "collapsed": true
   },
   "outputs": [],
   "source": [
    "missing_test = test_rdd.subtractByKey(test)"
   ]
  },
  {
   "cell_type": "code",
   "execution_count": 62,
   "metadata": {
    "collapsed": true
   },
   "outputs": [],
   "source": [
    "missing_ratings_user = missing_test.map(lambda x: ((x[0][0]), (x[0][1], x[1]))).join(avg_rating).map(lambda x: ((x[0], x[1][0][0]), (x[1][1], x[1][0][1])))"
   ]
  },
  {
   "cell_type": "code",
   "execution_count": 63,
   "metadata": {},
   "outputs": [
    {
     "data": {
      "text/plain": [
       "[(('70sSlkooEgL_TEjWDQbr3A', 'afXMX5llxcMFzbaPaBBm6A'), (3.12, 4.0)),\n",
       " (('pr8_C12oHakeNB4ZPp_dig', '3ZcxnR9YkDVRqqkDJMRWBg'), (4.2, 5.0)),\n",
       " (('dz8CFWEWuR_4S1zlZhWCMQ', 'rKh_Nl5edIB9AevqnDmO6g'),\n",
       "  (3.7291666666666665, 3.0)),\n",
       " (('dz8CFWEWuR_4S1zlZhWCMQ', '_VYUU5HPLYasd-xdKLimNA'),\n",
       "  (3.7291666666666665, 3.0)),\n",
       " (('z4MQzyewTRzSoStg0NwL-w', 'lvZOJWiwNymeBhOAgoy11w'),\n",
       "  (3.911764705882353, 4.0))]"
      ]
     },
     "execution_count": 63,
     "metadata": {},
     "output_type": "execute_result"
    }
   ],
   "source": [
    "missing_ratings_user.take(5)"
   ]
  },
  {
   "cell_type": "code",
   "execution_count": 64,
   "metadata": {
    "collapsed": true
   },
   "outputs": [],
   "source": [
    "predictions = test.map(lambda x: ((x[0]), (rs.predict(np.array(x[1][0]).reshape(1,-1))[0], x[1][1])))"
   ]
  },
  {
   "cell_type": "code",
   "execution_count": 65,
   "metadata": {
    "collapsed": true
   },
   "outputs": [],
   "source": [
    "final_predictions = predictions.union(missing_ratings_user)"
   ]
  },
  {
   "cell_type": "code",
   "execution_count": 73,
   "metadata": {},
   "outputs": [
    {
     "data": {
      "text/plain": [
       "10002"
      ]
     },
     "execution_count": 73,
     "metadata": {},
     "output_type": "execute_result"
    }
   ],
   "source": [
    "final_predictions.count()"
   ]
  },
  {
   "cell_type": "code",
   "execution_count": 74,
   "metadata": {
    "collapsed": true
   },
   "outputs": [],
   "source": [
    "mse = final_predictions.map(lambda x: (x[1][0]-x[1][1])**2)"
   ]
  },
  {
   "cell_type": "code",
   "execution_count": 75,
   "metadata": {},
   "outputs": [
    {
     "data": {
      "text/plain": [
       "1.0382404089064161"
      ]
     },
     "execution_count": 75,
     "metadata": {},
     "output_type": "execute_result"
    }
   ],
   "source": [
    "np.sqrt(mse.mean())"
   ]
  },
  {
   "cell_type": "code",
   "execution_count": 66,
   "metadata": {
    "collapsed": true
   },
   "outputs": [],
   "source": [
    "final_predictions = final_predictions.collect()"
   ]
  },
  {
   "cell_type": "markdown",
   "metadata": {},
   "source": [
    "### Save predictions file"
   ]
  },
  {
   "cell_type": "code",
   "execution_count": 67,
   "metadata": {
    "collapsed": true
   },
   "outputs": [],
   "source": [
    "with open(test_output, 'w') as f:\n",
    "    for item in final_predictions:\n",
    "        f.write(str(item[0][0])+\",\"+str(item[0][1])+\",\"+str(item[1][0])+\"\\n\")"
   ]
  },
  {
   "cell_type": "markdown",
   "metadata": {},
   "source": [
    "### Making predictions on training data"
   ]
  },
  {
   "cell_type": "code",
   "execution_count": 68,
   "metadata": {
    "collapsed": true
   },
   "outputs": [],
   "source": [
    "train_predict = train.map(lambda x: ((x[0]), (rs.predict(np.array(x[1][0]).reshape(1,-1))[0], x[1][1])))"
   ]
  },
  {
   "cell_type": "code",
   "execution_count": 81,
   "metadata": {},
   "outputs": [
    {
     "data": {
      "text/plain": [
       "[((u'cCke3VtFLtqgzkgYSrSE2g', u'BMR_AsSBzTQHqW-SQabI4w'),\n",
       "  (3.8266873834325938, 4.0)),\n",
       " ((u'YE54kKTuqJJPNYWIKIpOEQ', u'RvwZqjdkZ_pER0moPXLZAQ'),\n",
       "  (3.8386699757233549, 3.0)),\n",
       " ((u'4wp4XI9AxKNqJima-xahlg', u'ziJsGjXvidzZWC1I0-SOSg'),\n",
       "  (3.8386699757233549, 3.0)),\n",
       " ((u'U92V-gp13uMZL-sl_naTHA', u'zi6cB_bkswWPLD2k3IVtyg'),\n",
       "  (3.8266873834325938, 4.0)),\n",
       " ((u'rZQCd47n7OwPd71igVX6Og', u'IfHkboQZGPZkKpqHZCW4ag'),\n",
       "  (3.8306061915479983, 1.0))]"
      ]
     },
     "execution_count": 81,
     "metadata": {},
     "output_type": "execute_result"
    }
   ],
   "source": [
    "train_predict.take(5)"
   ]
  },
  {
   "cell_type": "code",
   "execution_count": 82,
   "metadata": {
    "collapsed": true
   },
   "outputs": [],
   "source": [
    "train_predictions = train_predict.map(lambda x: (x[1][0]-x[1][1])**2)"
   ]
  },
  {
   "cell_type": "code",
   "execution_count": null,
   "metadata": {
    "collapsed": true
   },
   "outputs": [],
   "source": [
    "np.sqrt(train_predictions.mean())"
   ]
  },
  {
   "cell_type": "code",
   "execution_count": 69,
   "metadata": {
    "collapsed": true
   },
   "outputs": [],
   "source": [
    "train_predict = train_predict.collect()"
   ]
  },
  {
   "cell_type": "code",
   "execution_count": 70,
   "metadata": {
    "collapsed": true
   },
   "outputs": [],
   "source": [
    "with open(train_output, 'w') as f:\n",
    "    for item in train_predict:\n",
    "        f.write(str(item[0][0])+\",\"+str(item[0][1])+\",\"+str(item[1][0])+\"\\n\")"
   ]
  }
 ],
 "metadata": {
  "kernelspec": {
   "display_name": "Python 2",
   "language": "python",
   "name": "python2"
  },
  "language_info": {
   "codemirror_mode": {
    "name": "ipython",
    "version": 2
   },
   "file_extension": ".py",
   "mimetype": "text/x-python",
   "name": "python",
   "nbconvert_exporter": "python",
   "pygments_lexer": "ipython2",
   "version": "2.7.6"
  }
 },
 "nbformat": 4,
 "nbformat_minor": 1
}
