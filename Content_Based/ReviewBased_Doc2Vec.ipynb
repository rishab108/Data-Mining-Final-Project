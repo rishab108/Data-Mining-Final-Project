{
 "cells": [
  {
   "cell_type": "markdown",
   "metadata": {},
   "source": [
    "### Spark Initialization"
   ]
  },
  {
   "cell_type": "code",
   "execution_count": 1,
   "metadata": {
    "collapsed": true
   },
   "outputs": [],
   "source": [
    "import findspark\n",
    "findspark.init()"
   ]
  },
  {
   "cell_type": "code",
   "execution_count": 2,
   "metadata": {
    "collapsed": true
   },
   "outputs": [],
   "source": [
    "import sys\n",
    "import copy\n",
    "import csv\n",
    "\n",
    "from string import atoi\n",
    "from pyspark import SparkContext, SparkConf\n",
    "from pyspark.sql import SparkSession"
   ]
  },
  {
   "cell_type": "code",
   "execution_count": 3,
   "metadata": {
    "collapsed": true
   },
   "outputs": [],
   "source": [
    "import numpy as np"
   ]
  },
  {
   "cell_type": "code",
   "execution_count": 4,
   "metadata": {
    "collapsed": true
   },
   "outputs": [],
   "source": [
    "conf = SparkConf().setAppName(\"ContentBased\")\n",
    "conf = conf.setMaster(\"local[*]\")"
   ]
  },
  {
   "cell_type": "code",
   "execution_count": 5,
   "metadata": {
    "collapsed": true
   },
   "outputs": [],
   "source": [
    "sc  = SparkContext(conf=conf)"
   ]
  },
  {
   "cell_type": "markdown",
   "metadata": {},
   "source": [
    "### Train, Test and Output files"
   ]
  },
  {
   "cell_type": "code",
   "execution_count": null,
   "metadata": {
    "collapsed": true
   },
   "outputs": [],
   "source": [
    "train_file = \"/Users/lakshya/Desktop/INF-553/Project/pittsburgh_review_with_text_20_res_lemma_data_train.txt\"\n",
    "test_file = \"/Users/lakshya/Desktop/INF-553/Project/pittsburgh_review_with_text_20_res_lemma_data_test.txt\"\n",
    "train_output = '/Users/lakshya/Desktop/INF-553/Project/Pittsburgh_ReviewBased_Doc2Vec_train_predictions.txt'\n",
    "test_output = '/Users/lakshya/Desktop/INF-553/Project/Pittsburgh_ReviewBased_Doc2Vec_test_predictions.txt'"
   ]
  },
  {
   "cell_type": "markdown",
   "metadata": {},
   "source": [
    "### Load Train and Test Data"
   ]
  },
  {
   "cell_type": "code",
   "execution_count": 6,
   "metadata": {
    "collapsed": true
   },
   "outputs": [],
   "source": [
    "trainData = sc.textFile(train_file,use_unicode=False)\n",
    "testData = sc.textFile(test_file,use_unicode=False)"
   ]
  },
  {
   "cell_type": "code",
   "execution_count": 7,
   "metadata": {
    "collapsed": true
   },
   "outputs": [],
   "source": [
    "train_rdd = trainData.mapPartitions(lambda x: csv.reader(x)).map(lambda x: ((x[0], x[1]), float(x[2])))\n",
    "test_rdd = testData.mapPartitions(lambda x: csv.reader(x)).map(lambda x: ((x[0], x[1]), float(x[2])))"
   ]
  },
  {
   "cell_type": "code",
   "execution_count": 8,
   "metadata": {
    "collapsed": true
   },
   "outputs": [],
   "source": [
    "avg_rating = train_rdd.map(lambda x: (x[0][0], x[1])).groupByKey().map(lambda x: (x[0], list(x[1]))).map(lambda x: (x[0], sum(x[1])/len(x[1])))\n",
    "prod_rating = train_rdd.map(lambda x: (x[0][1], x[1])).groupByKey().map(lambda x: (x[0], list(x[1]))).map(lambda x: (x[0], sum(x[1])/len(x[1])))"
   ]
  },
  {
   "cell_type": "code",
   "execution_count": 9,
   "metadata": {
    "collapsed": true
   },
   "outputs": [],
   "source": [
    "train_temp = trainData.mapPartitions(lambda x: csv.reader(x)).map(lambda x: ((x[0], x[1]), 1))"
   ]
  },
  {
   "cell_type": "markdown",
   "metadata": {},
   "source": [
    "### Load review data"
   ]
  },
  {
   "cell_type": "code",
   "execution_count": 10,
   "metadata": {
    "collapsed": true
   },
   "outputs": [],
   "source": [
    "data = sc.textFile(train_file,use_unicode=False)"
   ]
  },
  {
   "cell_type": "code",
   "execution_count": 11,
   "metadata": {},
   "outputs": [
    {
     "data": {
      "text/plain": [
       "['1VVHf1BvtGC0aSCCIjQyiA,K5jY2W5Q3eNnwssV5UZtow,4,2016-11-16,2,2,2,past sunday one several time ive spirit its always eccentric fun time first music performance second hang recent visit sundays bingo bango spirit know pizza good drink also awesome last time get chard margarita time get tomatillo margarita hot ciders its always pleasant surprise see whats menu food drink drink little pricey drawback one coolest things spirit atmosphere its always super strange positive way really never know expect bingo bango definitely family appropriate its fun activity friends maybe even date doesnt mind something ordinary',\n",
       " 'QYKexxaOJQlseGWmc6soRg,rzByiKaj-bLeLz-zKNBQdg,2,2015-04-13,0,0,0,old cramp build lot enough employees staff keep demand cause long wait time',\n",
       " '-ARdx8hOcEWlMDjzwLYZ_g,3cbsPfoUUrysf-M8FI_0IA,4,2014-03-24,6,4,3,live long world without donut menu dont know group nine din three varieties donuts include lemon lavender chocolate espresso zeppolli amaze pepper donut concoction ever make donut order come five donut hole theyre big hole one two enough cant believe say thats even little true youll want entire order save room best yet come choose omelette day entr\\xc3\\xa9e couldnt tell goat cheese creamy goats cheese salad nice addition potatoes delightful touch underdone seat downstairs pretty frigid awesome space nonetheless warm joint bite its five star way cant wait visit e2 dinner serve donuts right',\n",
       " '2oTG2GrBpikkonRxQywI7Q,CFtZH4Skp9z3o4ToSywI4w,4,2015-04-02,0,0,0,month try place try years ago im actually quite surprise place get earlier review sample veggie burger goodness place event attend couple years ago become close top list try finally go friend couple weeks ago try veggie burger call hippie something another burger feel like tony tiger fry good beer good fry good venue wait staff pretty great around good yummy experience',\n",
       " 'B7aR8VlLMGzaJ7NHC-jeMQ,RC8NJlX3X2Eo240PU5zJWA,4,2013-02-16,1,0,0,food good find service tad slow italian place area would go first italian good yes excellent meatballs',\n",
       " 'UsmTxWbobLsI6WR1Db0W7A,hsDkxhc-_YYsVqAeQBJJjg,1,2013-02-26,7,4,2,really guy endorse place triple d put reputation line segment big jims wasnt impress food service worse order half veggie hoagy bowl vegetable soup friend ross order small pizza bowl wed soup sip pretty good rooney pale ale best part meal little later soup come cup tell bartender order bowl oops fight cold nice hot bowl vegetable soup would hit spot still wait soup come pizza look good tons cheese pepperoni veggie hoagy order wrong order half give whole hoagy biggie ill take half home midnight snack still sign soup pretty unremarkable hoagy lot flavorless lettuce green pepper onion huge unchewable chunk carrots worse cold kind hop eggplant roast red pepper grill zucchini know real veggie hoagy flavor texture oh well live learn still soup finally bartender finish watch tv saw beer ask soup apologize say forget say ross guess must make good hourly wage hes work good tip finally soup deliver push away lousy hoagy dive soup blow spoonful soup ross say dont its cold damn half eat hoagy full bowl soup sit ask check pay leave never big jim never guy lose point call']"
      ]
     },
     "execution_count": 11,
     "metadata": {},
     "output_type": "execute_result"
    }
   ],
   "source": [
    "data.take(6)"
   ]
  },
  {
   "cell_type": "code",
   "execution_count": 12,
   "metadata": {
    "collapsed": true
   },
   "outputs": [],
   "source": [
    "train_data = data.mapPartitions(lambda x: csv.reader(x)).map(lambda x: ((x[0], x[1]), (x[2],x[7]))).join(train_temp)"
   ]
  },
  {
   "cell_type": "code",
   "execution_count": 13,
   "metadata": {},
   "outputs": [
    {
     "data": {
      "text/plain": [
       "[(('3egcdazws_x1wW35jgXfNw', 'gae9LAyt7Qvf_OgAkWASxA'),\n",
       "  (('4',\n",
       "    'family always love buca di beppo location food great service always excellent however wait time food delivery final bill keep us remember come return experience buca di beppo wonderful love family style din make reservations years occasion price isnt bad receive well discount coupons everywhere look know say family return'),\n",
       "   1)),\n",
       " (('4wp4XI9AxKNqJima-xahlg', '7O_mNtg37-1sMvQ5xmA8Dw'),\n",
       "  (('4',\n",
       "    'appreciate whole vibe old reclaim wood chocolate color wall beautiful crystal chandeliers almost like shouldnt go together go well hear serve lunch want check along something sweet course go roast beef sandwich fresh load good stuff definitely need mayo thats totally give know condiment obsession love bun wasnt hard bite downstairs like sweet treat wonderland glitter lot glitter know theres edible glitter its home base im totally okay past glitter delicious look treat every nook corner cake cookies bon bons even ice cream sandwich its really oasis opulence come desserts try like glaze donut croissant love glaze donut happy see wasnt massive couldnt finish upstairs spacious seat even cute little balcony find rack brain people know need cute space bridal shower baby shower would perfect spot small party like one things sure youll treat something sweet'),\n",
       "   1)),\n",
       " (('BxDsaVNeWxc5mNyA1HtSHQ', 'oeW0vIYd3rUnAPgmD4fEFg'),\n",
       "  (('5',\n",
       "    'wonderful breakfast morning get sausage cheddar omelette girlfriend get banana creme crepe strawberries wonderful proportion size great price meals delicious well staff friendly atmosphere great many great look items menu tough choose definitely go back try food'),\n",
       "   1))]"
      ]
     },
     "execution_count": 13,
     "metadata": {},
     "output_type": "execute_result"
    }
   ],
   "source": [
    "train_data.take(3)"
   ]
  },
  {
   "cell_type": "markdown",
   "metadata": {},
   "source": [
    "### Collect user data from train data (User, Product, Rating)"
   ]
  },
  {
   "cell_type": "code",
   "execution_count": 14,
   "metadata": {
    "collapsed": true
   },
   "outputs": [],
   "source": [
    "userReview = train_data.map(lambda x: (x[0][0], x[0][1], x[1][0][0]))"
   ]
  },
  {
   "cell_type": "code",
   "execution_count": 15,
   "metadata": {
    "collapsed": true
   },
   "outputs": [],
   "source": [
    "userReviewCollected = userReview.map(lambda x: (x[0], x[1], x[2]))"
   ]
  },
  {
   "cell_type": "code",
   "execution_count": 16,
   "metadata": {},
   "outputs": [
    {
     "data": {
      "text/plain": [
       "[('3egcdazws_x1wW35jgXfNw', 'gae9LAyt7Qvf_OgAkWASxA', '4'),\n",
       " ('4wp4XI9AxKNqJima-xahlg', '7O_mNtg37-1sMvQ5xmA8Dw', '4'),\n",
       " ('BxDsaVNeWxc5mNyA1HtSHQ', 'oeW0vIYd3rUnAPgmD4fEFg', '5'),\n",
       " ('BBg_86FEejn3dNzj0JOR9Q', 'XItYW5ul3OW_AqpT2nDbBQ', '4'),\n",
       " ('z2YVGKKcup6mjQmDQ6arEg', 'RqmORv3974ZDC6Zh4nSQwg', '5')]"
      ]
     },
     "execution_count": 16,
     "metadata": {},
     "output_type": "execute_result"
    }
   ],
   "source": [
    "userReviewCollected.take(5)"
   ]
  },
  {
   "cell_type": "markdown",
   "metadata": {},
   "source": [
    "### Collect product data (Product, Review Text)"
   ]
  },
  {
   "cell_type": "code",
   "execution_count": 17,
   "metadata": {
    "collapsed": true
   },
   "outputs": [],
   "source": [
    "prodReview = train_data.map(lambda x: (x[0][1], x[1][0][1])).groupByKey().mapValues(list)"
   ]
  },
  {
   "cell_type": "code",
   "execution_count": 18,
   "metadata": {
    "collapsed": true
   },
   "outputs": [],
   "source": [
    "prodReviewCollected = prodReview.map(lambda x: (x[0], x[1][0].split(\" \")))"
   ]
  },
  {
   "cell_type": "code",
   "execution_count": 19,
   "metadata": {},
   "outputs": [
    {
     "data": {
      "text/plain": [
       "[('5REYrZfsX3m4E3FTwovp5Q',\n",
       "  ['try',\n",
       "   'first',\n",
       "   'time',\n",
       "   'last',\n",
       "   'night',\n",
       "   'pretty',\n",
       "   'good',\n",
       "   'one',\n",
       "   'thing',\n",
       "   'really',\n",
       "   'annoy',\n",
       "   'restaurant',\n",
       "   'see',\n",
       "   'review',\n",
       "   'verde',\n",
       "   'entire',\n",
       "   'restaurant',\n",
       "   'fill',\n",
       "   'reservations',\n",
       "   'can',\n",
       "   'not',\n",
       "   'even',\n",
       "   'seat',\n",
       "   'walk',\n",
       "   '2',\n",
       "   'people',\n",
       "   'restaurant',\n",
       "   'empty',\n",
       "   'really',\n",
       "   'avocado',\n",
       "   'corn',\n",
       "   'ceviche',\n",
       "   'mojo',\n",
       "   'criollo',\n",
       "   'nigiri',\n",
       "   'avocado',\n",
       "   'crab',\n",
       "   'delicious',\n",
       "   'mojo',\n",
       "   'criollo',\n",
       "   'favorite',\n",
       "   'everything',\n",
       "   'taste',\n",
       "   'super',\n",
       "   'fresh',\n",
       "   'flavorful',\n",
       "   'serve',\n",
       "   'good',\n",
       "   'size',\n",
       "   'date',\n",
       "   'share',\n",
       "   'wine',\n",
       "   'meh',\n",
       "   'would',\n",
       "   'think',\n",
       "   'place',\n",
       "   'thats',\n",
       "   'like',\n",
       "   'tapas',\n",
       "   'wine',\n",
       "   'bar',\n",
       "   'wine',\n",
       "   'would',\n",
       "   'better',\n",
       "   'order',\n",
       "   'frontera',\n",
       "   'sauvignon',\n",
       "   'blanc',\n",
       "   'often',\n",
       "   'buy',\n",
       "   'liquor',\n",
       "   'store',\n",
       "   'slo',\n",
       "   'wine',\n",
       "   'hm',\n",
       "   'lame',\n",
       "   'hate',\n",
       "   'pay',\n",
       "   '9',\n",
       "   'glass',\n",
       "   'wine',\n",
       "   'restaurant',\n",
       "   'easily',\n",
       "   'buy',\n",
       "   '10',\n",
       "   'liquor',\n",
       "   'store',\n",
       "   'seem',\n",
       "   'justify',\n",
       "   'least',\n",
       "   'slo',\n",
       "   'bottle',\n",
       "   'service',\n",
       "   'good',\n",
       "   'nice',\n",
       "   'time',\n",
       "   'would',\n",
       "   'come',\n",
       "   'back']),\n",
       " ('HWrbZS1mxVRj2Y2VwMmDMg',\n",
       "  ['oh',\n",
       "   'man',\n",
       "   'word',\n",
       "   'can',\n",
       "   'not',\n",
       "   'describe',\n",
       "   'excite',\n",
       "   'bakeshop',\n",
       "   'its',\n",
       "   'name',\n",
       "   'dulcinea',\n",
       "   'cool',\n",
       "   'owner',\n",
       "   'baker',\n",
       "   'super',\n",
       "   'cool',\n",
       "   'friendly',\n",
       "   'passionate',\n",
       "   'bake',\n",
       "   'experience',\n",
       "   'bake',\n",
       "   'several',\n",
       "   'businesses',\n",
       "   'open',\n",
       "   'shop',\n",
       "   'include',\n",
       "   'stint',\n",
       "   'head',\n",
       "   'pastry',\n",
       "   'chef',\n",
       "   'casbah',\n",
       "   'im',\n",
       "   'glad',\n",
       "   'open',\n",
       "   'bakeshop',\n",
       "   'though',\n",
       "   'im',\n",
       "   'sure',\n",
       "   'im',\n",
       "   'one',\n",
       "   'feel',\n",
       "   'way',\n",
       "   'kind',\n",
       "   'place',\n",
       "   'expect',\n",
       "   'creative',\n",
       "   'seasonally',\n",
       "   'inspire',\n",
       "   'twist',\n",
       "   'favorite',\n",
       "   'pastries',\n",
       "   'things',\n",
       "   'make',\n",
       "   'scratch',\n",
       "   'quality',\n",
       "   'ingredients',\n",
       "   'really',\n",
       "   'taste',\n",
       "   'difference',\n",
       "   'slice',\n",
       "   'cheesecake',\n",
       "   'dulce',\n",
       "   'de',\n",
       "   'leche',\n",
       "   'make',\n",
       "   'scratch',\n",
       "   'best',\n",
       "   'piece',\n",
       "   'cheesecake',\n",
       "   'far',\n",
       "   'back',\n",
       "   'remember',\n",
       "   'felt',\n",
       "   'like',\n",
       "   'die',\n",
       "   'go',\n",
       "   'heaven',\n",
       "   'also',\n",
       "   'two',\n",
       "   'slice',\n",
       "   'delicious',\n",
       "   'sausage',\n",
       "   'pepper',\n",
       "   'quiche',\n",
       "   'ask',\n",
       "   'one',\n",
       "   'shop',\n",
       "   'close',\n",
       "   'soon',\n",
       "   'owner',\n",
       "   'super',\n",
       "   'nice',\n",
       "   'give',\n",
       "   'extra',\n",
       "   'slice',\n",
       "   'extra',\n",
       "   'glad',\n",
       "   'try',\n",
       "   'crust',\n",
       "   'perfectly',\n",
       "   'do',\n",
       "   'super',\n",
       "   'crispy',\n",
       "   'buttery',\n",
       "   'fill',\n",
       "   'flavorful',\n",
       "   'good',\n",
       "   'texture',\n",
       "   'plus',\n",
       "   'love',\n",
       "   'high',\n",
       "   'crust',\n",
       "   'fill',\n",
       "   'ratio',\n",
       "   'since',\n",
       "   'crust',\n",
       "   'favorite',\n",
       "   'part',\n",
       "   'definitely',\n",
       "   'back',\n",
       "   'lot',\n",
       "   'lot',\n",
       "   'delightful',\n",
       "   'dangerous',\n",
       "   'bakery',\n",
       "   'mere',\n",
       "   '10',\n",
       "   'block',\n",
       "   'place']),\n",
       " ('MvlQo4bev1eqp1q0HYOLHg',\n",
       "  ['first',\n",
       "   'dance',\n",
       "   'class',\n",
       "   'probably',\n",
       "   'decade',\n",
       "   'probably',\n",
       "   'havent',\n",
       "   'exercise',\n",
       "   'year',\n",
       "   'adult',\n",
       "   'hip',\n",
       "   'hop',\n",
       "   'amaze',\n",
       "   'move',\n",
       "   'pittsburgh',\n",
       "   'its',\n",
       "   'really',\n",
       "   'great',\n",
       "   'find',\n",
       "   'place',\n",
       "   'exercise',\n",
       "   'still',\n",
       "   'keep',\n",
       "   'dance',\n",
       "   'skills',\n",
       "   'definitely',\n",
       "   'back']),\n",
       " ('X9Bql7RrPU5Mab5-hJsI8A',\n",
       "  ['2nd',\n",
       "   'visit',\n",
       "   'promise',\n",
       "   'first',\n",
       "   'time',\n",
       "   'order',\n",
       "   'feature',\n",
       "   'burger',\n",
       "   'spicy',\n",
       "   'cow',\n",
       "   'burger',\n",
       "   'side',\n",
       "   'fry',\n",
       "   'season',\n",
       "   'beef',\n",
       "   'arugula',\n",
       "   'tomato',\n",
       "   'pickle',\n",
       "   'jalape\\xc3\\xb1o',\n",
       "   'slice',\n",
       "   'pepper',\n",
       "   'jack',\n",
       "   'fry',\n",
       "   'jalape\\xc3\\xb1os',\n",
       "   'frank',\n",
       "   'red',\n",
       "   'hot',\n",
       "   'something',\n",
       "   'call',\n",
       "   'ask',\n",
       "   'want',\n",
       "   'cook',\n",
       "   'medium',\n",
       "   'burger',\n",
       "   'look',\n",
       "   'perfect',\n",
       "   'come',\n",
       "   'fry',\n",
       "   'bite',\n",
       "   'underdone',\n",
       "   'otherwise',\n",
       "   'pretty',\n",
       "   'tasty',\n",
       "   'messy',\n",
       "   'fry',\n",
       "   'werent',\n",
       "   'salt',\n",
       "   'lightly',\n",
       "   'like',\n",
       "   'dont',\n",
       "   'like',\n",
       "   'nicely',\n",
       "   'crisp',\n",
       "   'fry',\n",
       "   'arent',\n",
       "   'hot',\n",
       "   'thats',\n",
       "   'oh',\n",
       "   'well',\n",
       "   'may',\n",
       "   'give',\n",
       "   'another',\n",
       "   'try',\n",
       "   'sure',\n",
       "   'lot',\n",
       "   'options']),\n",
       " ('owO2UkNKk9qrWWd_PTYLDA',\n",
       "  ['feel',\n",
       "   'like',\n",
       "   'ive',\n",
       "   'random',\n",
       "   'experience',\n",
       "   'place',\n",
       "   'regulars',\n",
       "   'rowdys',\n",
       "   'bbq',\n",
       "   '51',\n",
       "   'decide',\n",
       "   'try',\n",
       "   'place',\n",
       "   'take',\n",
       "   'former',\n",
       "   'hair',\n",
       "   'stylists',\n",
       "   'salon',\n",
       "   'though',\n",
       "   'area',\n",
       "   '51',\n",
       "   'alien',\n",
       "   'theme',\n",
       "   'bright',\n",
       "   'color',\n",
       "   'order',\n",
       "   'near',\n",
       "   'close',\n",
       "   'time',\n",
       "   'hour',\n",
       "   'prior',\n",
       "   'woman',\n",
       "   'take',\n",
       "   'order',\n",
       "   'extremely',\n",
       "   'pleasant',\n",
       "   'process',\n",
       "   'quick',\n",
       "   'food',\n",
       "   'ready',\n",
       "   '15',\n",
       "   'minutes',\n",
       "   'live',\n",
       "   '1',\n",
       "   'minute',\n",
       "   'away',\n",
       "   'choose',\n",
       "   'pork',\n",
       "   'bbq',\n",
       "   'sandwich',\n",
       "   'bean',\n",
       "   'side',\n",
       "   'bbq',\n",
       "   'brisket',\n",
       "   'mac',\n",
       "   'cheese',\n",
       "   'regular',\n",
       "   'oppose',\n",
       "   'spicy',\n",
       "   'sandwich',\n",
       "   'werent',\n",
       "   'label',\n",
       "   'look',\n",
       "   'nearly',\n",
       "   'identical',\n",
       "   'taste',\n",
       "   'test',\n",
       "   'tell',\n",
       "   'apart',\n",
       "   'bbq',\n",
       "   'sauce',\n",
       "   'slightly',\n",
       "   'tangy',\n",
       "   'sweet',\n",
       "   'could',\n",
       "   'do',\n",
       "   'pork',\n",
       "   'thats',\n",
       "   'preference',\n",
       "   'fault',\n",
       "   'pork',\n",
       "   'warm',\n",
       "   'actually',\n",
       "   'taste',\n",
       "   'amaze',\n",
       "   'buttery',\n",
       "   'good',\n",
       "   'smoky',\n",
       "   'flavor',\n",
       "   'problem',\n",
       "   'actual',\n",
       "   'composition',\n",
       "   'sandwich',\n",
       "   'bottom',\n",
       "   'bun',\n",
       "   'soak',\n",
       "   'fat',\n",
       "   'juice',\n",
       "   'pork',\n",
       "   'inedible',\n",
       "   'make',\n",
       "   'sandwich',\n",
       "   'moot',\n",
       "   'point',\n",
       "   'smoke',\n",
       "   'bean',\n",
       "   'glob',\n",
       "   'thick',\n",
       "   'mash',\n",
       "   'bean',\n",
       "   'look',\n",
       "   'homemade',\n",
       "   'point',\n",
       "   'sauce',\n",
       "   'thick',\n",
       "   'gritty',\n",
       "   'salty',\n",
       "   'enjoyable',\n",
       "   'mac',\n",
       "   'cheese',\n",
       "   'also',\n",
       "   'mushy',\n",
       "   'flavorless',\n",
       "   'toddler',\n",
       "   'happy',\n",
       "   'cornbread',\n",
       "   'sweet',\n",
       "   'dry',\n",
       "   'though',\n",
       "   'highlight',\n",
       "   'dinner',\n",
       "   'well',\n",
       "   'probably',\n",
       "   'give',\n",
       "   'another',\n",
       "   'try',\n",
       "   'every',\n",
       "   'place',\n",
       "   'entitle',\n",
       "   'day',\n",
       "   'review',\n",
       "   'place',\n",
       "   'much',\n",
       "   'favorable',\n",
       "   'experience'])]"
      ]
     },
     "execution_count": 19,
     "metadata": {},
     "output_type": "execute_result"
    }
   ],
   "source": [
    "prodReviewCollected.take(5)"
   ]
  },
  {
   "cell_type": "markdown",
   "metadata": {},
   "source": [
    "### Doc2Vec model creation"
   ]
  },
  {
   "cell_type": "code",
   "execution_count": 20,
   "metadata": {},
   "outputs": [
    {
     "name": "stderr",
     "output_type": "stream",
     "text": [
      "/Users/lakshya/anaconda/lib/python2.7/site-packages/cffi/model.py:525: UserWarning: 'point_conversion_form_t' has no values explicitly defined; guessing that it is equivalent to 'unsigned int'\n",
      "  % self._get_c_name())\n"
     ]
    }
   ],
   "source": [
    "from collections import namedtuple\n",
    "from gensim.models.doc2vec import Doc2Vec, TaggedDocument"
   ]
  },
  {
   "cell_type": "markdown",
   "metadata": {},
   "source": [
    "Convert user and product rdd to pandas dataframe"
   ]
  },
  {
   "cell_type": "code",
   "execution_count": 21,
   "metadata": {
    "collapsed": true
   },
   "outputs": [],
   "source": [
    "spark = SparkSession(sc)\n",
    "\n",
    "userPandas = userReviewCollected.toDF().toPandas()\n",
    "prodPandas = prodReviewCollected.toDF().toPandas()"
   ]
  },
  {
   "cell_type": "markdown",
   "metadata": {},
   "source": [
    "Create Doc2Vec model on product category text"
   ]
  },
  {
   "cell_type": "code",
   "execution_count": 22,
   "metadata": {
    "collapsed": true
   },
   "outputs": [],
   "source": [
    "documents = [TaggedDocument(doc, [i]) for i, doc in enumerate(prodPandas['_2'])]"
   ]
  },
  {
   "cell_type": "code",
   "execution_count": 26,
   "metadata": {
    "collapsed": true
   },
   "outputs": [],
   "source": [
    "model = Doc2Vec(documents, size = 3000, min_count = 1, workers=4)"
   ]
  },
  {
   "cell_type": "code",
   "execution_count": 27,
   "metadata": {
    "collapsed": true
   },
   "outputs": [],
   "source": [
    "feature_vectors = []\n",
    "for i in range(0, len(model.docvecs)):\n",
    "    feature_vectors.append(model.docvecs[i])"
   ]
  },
  {
   "cell_type": "markdown",
   "metadata": {},
   "source": [
    "Add Doc2Vec vectors to product dataframe"
   ]
  },
  {
   "cell_type": "code",
   "execution_count": 28,
   "metadata": {
    "collapsed": true
   },
   "outputs": [],
   "source": [
    "prodPandas['Vector'] = feature_vectors"
   ]
  },
  {
   "cell_type": "code",
   "execution_count": 29,
   "metadata": {},
   "outputs": [
    {
     "data": {
      "text/html": [
       "<div>\n",
       "<style>\n",
       "    .dataframe thead tr:only-child th {\n",
       "        text-align: right;\n",
       "    }\n",
       "\n",
       "    .dataframe thead th {\n",
       "        text-align: left;\n",
       "    }\n",
       "\n",
       "    .dataframe tbody tr th {\n",
       "        vertical-align: top;\n",
       "    }\n",
       "</style>\n",
       "<table border=\"1\" class=\"dataframe\">\n",
       "  <thead>\n",
       "    <tr style=\"text-align: right;\">\n",
       "      <th></th>\n",
       "      <th>_1</th>\n",
       "      <th>_2</th>\n",
       "      <th>Vector</th>\n",
       "    </tr>\n",
       "  </thead>\n",
       "  <tbody>\n",
       "    <tr>\n",
       "      <th>0</th>\n",
       "      <td>5REYrZfsX3m4E3FTwovp5Q</td>\n",
       "      <td>[try, first, time, last, night, pretty, good, ...</td>\n",
       "      <td>[0.0205016, -0.00644905, -0.0154693, -0.008487...</td>\n",
       "    </tr>\n",
       "    <tr>\n",
       "      <th>1</th>\n",
       "      <td>HWrbZS1mxVRj2Y2VwMmDMg</td>\n",
       "      <td>[oh, man, word, can, not, describe, excite, ba...</td>\n",
       "      <td>[0.0250453, -0.00734597, -0.0195707, -0.010632...</td>\n",
       "    </tr>\n",
       "    <tr>\n",
       "      <th>2</th>\n",
       "      <td>MvlQo4bev1eqp1q0HYOLHg</td>\n",
       "      <td>[first, dance, class, probably, decade, probab...</td>\n",
       "      <td>[0.00621634, -0.00210196, -0.00474029, -0.0025...</td>\n",
       "    </tr>\n",
       "    <tr>\n",
       "      <th>3</th>\n",
       "      <td>X9Bql7RrPU5Mab5-hJsI8A</td>\n",
       "      <td>[2nd, visit, promise, first, time, order, feat...</td>\n",
       "      <td>[0.00829221, -0.00161553, -0.00683834, -0.0037...</td>\n",
       "    </tr>\n",
       "    <tr>\n",
       "      <th>4</th>\n",
       "      <td>owO2UkNKk9qrWWd_PTYLDA</td>\n",
       "      <td>[feel, like, ive, random, experience, place, r...</td>\n",
       "      <td>[0.0334839, -0.00856758, -0.0266369, -0.014285...</td>\n",
       "    </tr>\n",
       "    <tr>\n",
       "      <th>5</th>\n",
       "      <td>rc9SfYli96cnlPDMyJ7hyA</td>\n",
       "      <td>[go, lunch, friends, group, 7, round, table, b...</td>\n",
       "      <td>[0.00490008, -0.000952024, -0.00394094, -0.002...</td>\n",
       "    </tr>\n",
       "    <tr>\n",
       "      <th>6</th>\n",
       "      <td>94VxE6XLTrXmz4yXWEJbAg</td>\n",
       "      <td>[come, instead, ds, need, buy, case, beer, the...</td>\n",
       "      <td>[0.00617516, -0.00202224, -0.00465858, -0.0025...</td>\n",
       "    </tr>\n",
       "    <tr>\n",
       "      <th>7</th>\n",
       "      <td>anfgvbiobw4M0Wnvx_os3Q</td>\n",
       "      <td>[its, good, place, try, ive, never, wow, prett...</td>\n",
       "      <td>[0.0115594, -0.0034133, -0.00886636, -0.004637...</td>\n",
       "    </tr>\n",
       "    <tr>\n",
       "      <th>8</th>\n",
       "      <td>vLGYQ96AjKV5zpW0q3795g</td>\n",
       "      <td>[breakfast, pizza, checkgood, pizza, accent, e...</td>\n",
       "      <td>[0.00988138, -0.002731, -0.00778469, -0.004043...</td>\n",
       "    </tr>\n",
       "    <tr>\n",
       "      <th>9</th>\n",
       "      <td>7l-CCyNnvT86GMR5EtYjog</td>\n",
       "      <td>[jamaican, tacos, tonight, die, cant, speak, a...</td>\n",
       "      <td>[0.00716874, -0.00213457, -0.00553517, -0.0029...</td>\n",
       "    </tr>\n",
       "    <tr>\n",
       "      <th>10</th>\n",
       "      <td>rEuSmPPblKIcOzazlBwTcw</td>\n",
       "      <td>[picture, post, wrong, location, starbucks, lo...</td>\n",
       "      <td>[0.00955082, -0.00300462, -0.00718736, -0.0038...</td>\n",
       "    </tr>\n",
       "    <tr>\n",
       "      <th>11</th>\n",
       "      <td>V459sWYN02lwHgLnkNGRzg</td>\n",
       "      <td>[buy, large, delicious, cheap, gyro, man, nice...</td>\n",
       "      <td>[0.00345669, -0.000871251, -0.00287248, -0.001...</td>\n",
       "    </tr>\n",
       "    <tr>\n",
       "      <th>12</th>\n",
       "      <td>mNMVqHsgJq6YErFPfaUlig</td>\n",
       "      <td>[ever, since, work, build, cafe, shut, lose, a...</td>\n",
       "      <td>[0.0275673, -0.00756823, -0.0218, -0.0117932, ...</td>\n",
       "    </tr>\n",
       "    <tr>\n",
       "      <th>13</th>\n",
       "      <td>keOzwoc28Iac5mA8FD93uA</td>\n",
       "      <td>[keep, see, yelp, new, business, finally, oppo...</td>\n",
       "      <td>[0.0521841, -0.0129609, -0.041999, -0.0226226,...</td>\n",
       "    </tr>\n",
       "    <tr>\n",
       "      <th>14</th>\n",
       "      <td>ejmq3qW34yxiEmNHQkov7A</td>\n",
       "      <td>[place, initially, remind, hugely, bar, champa...</td>\n",
       "      <td>[0.01342, -0.00426729, -0.0104198, -0.00564175...</td>\n",
       "    </tr>\n",
       "    <tr>\n",
       "      <th>15</th>\n",
       "      <td>xZfPdAYeimiruXuGR4nSUA</td>\n",
       "      <td>[great, selection, products, consider, size, w...</td>\n",
       "      <td>[0.0100565, -0.00323569, -0.00763298, -0.00408...</td>\n",
       "    </tr>\n",
       "    <tr>\n",
       "      <th>16</th>\n",
       "      <td>T-4MZRvKlF3VLDcjCqqFEg</td>\n",
       "      <td>[amaze, food, must, try, tempura, shrimp, also...</td>\n",
       "      <td>[0.00664185, -0.00210756, -0.00506252, -0.0027...</td>\n",
       "    </tr>\n",
       "    <tr>\n",
       "      <th>17</th>\n",
       "      <td>NQN-ERs976mbnP6rkMwKtQ</td>\n",
       "      <td>[twice, change, say, yay, whilst, park, may, f...</td>\n",
       "      <td>[0.0215629, -0.0066132, -0.0165656, -0.0090465...</td>\n",
       "    </tr>\n",
       "    <tr>\n",
       "      <th>18</th>\n",
       "      <td>e5i0_FVBlNfUZpJay2MH-Q</td>\n",
       "      <td>[best, hookah, lounge, pittsburgh, always, cle...</td>\n",
       "      <td>[0.00330777, -0.000947368, -0.002259, -0.00109...</td>\n",
       "    </tr>\n",
       "    <tr>\n",
       "      <th>19</th>\n",
       "      <td>N7iOez1IbRc8wErxJLt5CQ</td>\n",
       "      <td>[former, waiter, son, former, waitress, know, ...</td>\n",
       "      <td>[0.0224799, -0.00678722, -0.0172555, -0.009360...</td>\n",
       "    </tr>\n",
       "    <tr>\n",
       "      <th>20</th>\n",
       "      <td>DwmAsemahJywywhuqv5J1Q</td>\n",
       "      <td>[favorite, chinese, place, pittsburgh, im, chi...</td>\n",
       "      <td>[0.0173678, -0.0047932, -0.013484, -0.00718156...</td>\n",
       "    </tr>\n",
       "    <tr>\n",
       "      <th>21</th>\n",
       "      <td>2dNjePYVp2AVei4ZoSDaaA</td>\n",
       "      <td>[sigh, think, place, potential, go, weekday, h...</td>\n",
       "      <td>[0.036477, -0.0114679, -0.0277241, -0.0152042,...</td>\n",
       "    </tr>\n",
       "    <tr>\n",
       "      <th>22</th>\n",
       "      <td>bnscF25BWatvO1Z-j87NXQ</td>\n",
       "      <td>[decent, size, store, tons, selection, even, d...</td>\n",
       "      <td>[0.00288817, -0.000741122, -0.00235416, -0.001...</td>\n",
       "    </tr>\n",
       "    <tr>\n",
       "      <th>23</th>\n",
       "      <td>pVZdH35B95NKyXNA9rnW0w</td>\n",
       "      <td>[awesome, place, browse, really, cool, local, ...</td>\n",
       "      <td>[0.0257309, -0.00789044, -0.0195347, -0.010752...</td>\n",
       "    </tr>\n",
       "    <tr>\n",
       "      <th>24</th>\n",
       "      <td>VNOosvcE6HN_dqSTqRicXQ</td>\n",
       "      <td>[hide, gem, pittsburgh, need, challenge, imper...</td>\n",
       "      <td>[0.0290145, -0.00843836, -0.0225007, -0.012273...</td>\n",
       "    </tr>\n",
       "    <tr>\n",
       "      <th>25</th>\n",
       "      <td>h5XqYtEmRuQ6yI0IyG6oNQ</td>\n",
       "      <td>[youre, way, home, work, think, dinner, youre,...</td>\n",
       "      <td>[0.00745756, -0.00212541, -0.00592463, -0.0029...</td>\n",
       "    </tr>\n",
       "    <tr>\n",
       "      <th>26</th>\n",
       "      <td>gURBE4EKkytlOMuIqJHG8Q</td>\n",
       "      <td>[cant, say, much, interior, establishment, fil...</td>\n",
       "      <td>[0.00360711, -0.000822748, -0.0028989, -0.0013...</td>\n",
       "    </tr>\n",
       "    <tr>\n",
       "      <th>27</th>\n",
       "      <td>2BF45Gr_FiubZqfP-JgaRQ</td>\n",
       "      <td>[mostly, fan, convenience, free, food, happy, ...</td>\n",
       "      <td>[0.0046307, -0.00149033, -0.00360985, -0.00182...</td>\n",
       "    </tr>\n",
       "    <tr>\n",
       "      <th>28</th>\n",
       "      <td>0YA3RpY5KXcezPXcjdfOGQ</td>\n",
       "      <td>[even, open, go, go, tonight, monday, dinner, ...</td>\n",
       "      <td>[0.00284996, -0.00116002, -0.00233759, -0.0011...</td>\n",
       "    </tr>\n",
       "    <tr>\n",
       "      <th>29</th>\n",
       "      <td>8L8QlR4XJeAblTKCqoDP0A</td>\n",
       "      <td>[go, lunch, today, mom, daughter, food, stand,...</td>\n",
       "      <td>[0.0037527, -0.00109025, -0.00287377, -0.00165...</td>\n",
       "    </tr>\n",
       "    <tr>\n",
       "      <th>...</th>\n",
       "      <td>...</td>\n",
       "      <td>...</td>\n",
       "      <td>...</td>\n",
       "    </tr>\n",
       "    <tr>\n",
       "      <th>3068</th>\n",
       "      <td>LNAI2hGXzAFq_9KFwpdshg</td>\n",
       "      <td>[cant, get, ticket, steeler, home, game, best,...</td>\n",
       "      <td>[0.0069667, -0.00233696, -0.00519907, -0.00287...</td>\n",
       "    </tr>\n",
       "    <tr>\n",
       "      <th>3069</th>\n",
       "      <td>nKUohp6mCtnZl1ZoNvySkw</td>\n",
       "      <td>[like, typical, aldi, store, youd, find, anywh...</td>\n",
       "      <td>[0.0116055, -0.00333165, -0.00898241, -0.00489...</td>\n",
       "    </tr>\n",
       "    <tr>\n",
       "      <th>3070</th>\n",
       "      <td>Quh8Fjutyw15B6ZGZEf2gA</td>\n",
       "      <td>[much, want, like, give, place, one, even, two...</td>\n",
       "      <td>[0.00703076, -0.00237781, -0.00519217, -0.0028...</td>\n",
       "    </tr>\n",
       "    <tr>\n",
       "      <th>3071</th>\n",
       "      <td>yhoCIkTwHihWejVqGYZ4rw</td>\n",
       "      <td>[pretty, darn, good, order, hot, ham, sandwich...</td>\n",
       "      <td>[0.00668963, -0.000978365, -0.00570325, -0.003...</td>\n",
       "    </tr>\n",
       "    <tr>\n",
       "      <th>3072</th>\n",
       "      <td>KsWGy-WuTUm5ve5lFUOCfg</td>\n",
       "      <td>[come, think, mf, full, fledge, museum, theres...</td>\n",
       "      <td>[0.0160136, -0.00493323, -0.0122545, -0.006836...</td>\n",
       "    </tr>\n",
       "    <tr>\n",
       "      <th>3073</th>\n",
       "      <td>dHgbL5EAEawIcqk6aXe2Ow</td>\n",
       "      <td>[ive, pgh, 7, years, never, urge, visit, peter...</td>\n",
       "      <td>[0.0251879, -0.00693105, -0.0195808, -0.010519...</td>\n",
       "    </tr>\n",
       "    <tr>\n",
       "      <th>3074</th>\n",
       "      <td>S6dARuOrrOXd4xSiTHti8g</td>\n",
       "      <td>[finally, come, last, night, recommendation, f...</td>\n",
       "      <td>[0.0121761, -0.00300357, -0.00976077, -0.00527...</td>\n",
       "    </tr>\n",
       "    <tr>\n",
       "      <th>3075</th>\n",
       "      <td>P6N8qIUlu2IEKr1_pdg00Q</td>\n",
       "      <td>[live, south, side, plenty, pizza, options, ne...</td>\n",
       "      <td>[0.0152154, -0.0040314, -0.0119606, -0.0064627...</td>\n",
       "    </tr>\n",
       "    <tr>\n",
       "      <th>3076</th>\n",
       "      <td>7ifZDDd4-ROT-puhUo0btw</td>\n",
       "      <td>[aldi, bottom, dollar, like, long, lose, sibli...</td>\n",
       "      <td>[0.0190399, -0.00573641, -0.0147308, -0.007763...</td>\n",
       "    </tr>\n",
       "    <tr>\n",
       "      <th>3077</th>\n",
       "      <td>vLxpEHKZFzv8LYY5eeGjTg</td>\n",
       "      <td>[trust, one, although, place, look, like, comp...</td>\n",
       "      <td>[0.0069052, -0.00194559, -0.00525905, -0.00277...</td>\n",
       "    </tr>\n",
       "    <tr>\n",
       "      <th>3078</th>\n",
       "      <td>8cyyRk-cqecyB1ctnRsR1A</td>\n",
       "      <td>[skip, go, downtown, nice, dinner, come, intim...</td>\n",
       "      <td>[0.0154655, -0.00440906, -0.0121376, -0.006617...</td>\n",
       "    </tr>\n",
       "    <tr>\n",
       "      <th>3079</th>\n",
       "      <td>-8ILwSisSrTzcyy_Z0o9oA</td>\n",
       "      <td>[honestly, go, novelty, go, back, great, produ...</td>\n",
       "      <td>[0.00608555, -0.00246608, -0.00427951, -0.0025...</td>\n",
       "    </tr>\n",
       "    <tr>\n",
       "      <th>3080</th>\n",
       "      <td>MrlNl43mM8Y259tKzMj4Mw</td>\n",
       "      <td>[location, hit, miss, mostly, miss, stop, occa...</td>\n",
       "      <td>[0.007086, -0.00235126, -0.00538512, -0.002893...</td>\n",
       "    </tr>\n",
       "    <tr>\n",
       "      <th>3081</th>\n",
       "      <td>KgI1lkFzsx3Fj1vzzKjNIQ</td>\n",
       "      <td>[great, selection, spirit, excellent, vodkas, ...</td>\n",
       "      <td>[0.0150991, -0.0047398, -0.01132, -0.00619598,...</td>\n",
       "    </tr>\n",
       "    <tr>\n",
       "      <th>3082</th>\n",
       "      <td>iR7KBgAHgt1O2acHhfIviw</td>\n",
       "      <td>[its, taco, bell, much, write, place, cheep, f...</td>\n",
       "      <td>[0.00532218, -0.00173014, -0.00407665, -0.0022...</td>\n",
       "    </tr>\n",
       "    <tr>\n",
       "      <th>3083</th>\n",
       "      <td>yc1IZG2BL4WCYBHk5noj5g</td>\n",
       "      <td>[starbucks, one, ornate, locations, visit, enj...</td>\n",
       "      <td>[0.0101181, -0.0029356, -0.00759581, -0.004299...</td>\n",
       "    </tr>\n",
       "    <tr>\n",
       "      <th>3084</th>\n",
       "      <td>A-IqLvBfU5Gr_b9HVLETTw</td>\n",
       "      <td>[pizza, parma, many, characteristics, like, pi...</td>\n",
       "      <td>[0.0164364, -0.00413822, -0.013302, -0.0069615...</td>\n",
       "    </tr>\n",
       "    <tr>\n",
       "      <th>3085</th>\n",
       "      <td>ocZv9DHZaf9tkJyzxL5tbg</td>\n",
       "      <td>[let, start, positive, lot, cute, italian, byo...</td>\n",
       "      <td>[0.0181441, -0.00501708, -0.0145183, -0.007653...</td>\n",
       "    </tr>\n",
       "    <tr>\n",
       "      <th>3086</th>\n",
       "      <td>qLy2F9EzCsFYIKd40OJvZA</td>\n",
       "      <td>[go, red, busy, night, pink, concert, despite,...</td>\n",
       "      <td>[0.0745048, -0.0214149, -0.0577012, -0.0313166...</td>\n",
       "    </tr>\n",
       "    <tr>\n",
       "      <th>3087</th>\n",
       "      <td>zpIybGTZ0RqArG8BOX0ALQ</td>\n",
       "      <td>[pretty, standard, italian, american, joint, k...</td>\n",
       "      <td>[0.0129932, -0.00319964, -0.0102426, -0.005631...</td>\n",
       "    </tr>\n",
       "    <tr>\n",
       "      <th>3088</th>\n",
       "      <td>WjJmjrfHJ5QKOTrKkChmtw</td>\n",
       "      <td>[small, cafe, n, side, one, cafes, area, its, ...</td>\n",
       "      <td>[0.0100967, -0.00288123, -0.0074279, -0.003974...</td>\n",
       "    </tr>\n",
       "    <tr>\n",
       "      <th>3089</th>\n",
       "      <td>vEtE2CTl3rrDpTC20RUisQ</td>\n",
       "      <td>[place, sort, remind, buffalo, wild, wing, far...</td>\n",
       "      <td>[0.0106798, -0.00263879, -0.0083444, -0.004449...</td>\n",
       "    </tr>\n",
       "    <tr>\n",
       "      <th>3090</th>\n",
       "      <td>NG5qynmV0kzxQMFJG7mhEw</td>\n",
       "      <td>[use, order, place, time, last, 3, order, garb...</td>\n",
       "      <td>[0.00362257, -0.00136752, -0.00279201, -0.0013...</td>\n",
       "    </tr>\n",
       "    <tr>\n",
       "      <th>3091</th>\n",
       "      <td>gHngt6zpP683GKe1i23LUg</td>\n",
       "      <td>[brunch, one, best, pittsburgh, atmosphere, am...</td>\n",
       "      <td>[0.0081452, -0.00276596, -0.00571017, -0.00313...</td>\n",
       "    </tr>\n",
       "    <tr>\n",
       "      <th>3092</th>\n",
       "      <td>gFyntTks-Qd5CjDU8_2Kog</td>\n",
       "      <td>[come, downtown, pittsburgh, annually, convent...</td>\n",
       "      <td>[0.00722028, -0.00201427, -0.00546725, -0.0029...</td>\n",
       "    </tr>\n",
       "    <tr>\n",
       "      <th>3093</th>\n",
       "      <td>hTZGMEKTtaY0wwB-czFxxA</td>\n",
       "      <td>[good, cheap, sushi, go, sushi, crave, always,...</td>\n",
       "      <td>[0.00534323, -0.000903323, -0.00456157, -0.002...</td>\n",
       "    </tr>\n",
       "    <tr>\n",
       "      <th>3094</th>\n",
       "      <td>bShze6_dNGwamcNPJgZILg</td>\n",
       "      <td>[get, ta, say, skeptical, ballet, get, free, t...</td>\n",
       "      <td>[0.0222694, -0.0070214, -0.0168661, -0.0093746...</td>\n",
       "    </tr>\n",
       "    <tr>\n",
       "      <th>3095</th>\n",
       "      <td>TCL-2Mi_mZyHjEO9haiD2A</td>\n",
       "      <td>[divey, dive, bar, cheap, drink, bar, food, ca...</td>\n",
       "      <td>[0.00924581, -0.00292712, -0.00688633, -0.0037...</td>\n",
       "    </tr>\n",
       "    <tr>\n",
       "      <th>3096</th>\n",
       "      <td>W7gGZgcgzv-LFvk-s5csXg</td>\n",
       "      <td>[still, crappy, place, get, donuts, way, overp...</td>\n",
       "      <td>[0.00585718, -0.00165173, -0.00448581, -0.0025...</td>\n",
       "    </tr>\n",
       "    <tr>\n",
       "      <th>3097</th>\n",
       "      <td>99SN6hku1PToQ2E3-4h8CA</td>\n",
       "      <td>[favorite, coffee, shop, walnut, st, folks, re...</td>\n",
       "      <td>[0.0112337, -0.00315765, -0.00867992, -0.00480...</td>\n",
       "    </tr>\n",
       "  </tbody>\n",
       "</table>\n",
       "<p>3098 rows × 3 columns</p>\n",
       "</div>"
      ],
      "text/plain": [
       "                          _1  \\\n",
       "0     5REYrZfsX3m4E3FTwovp5Q   \n",
       "1     HWrbZS1mxVRj2Y2VwMmDMg   \n",
       "2     MvlQo4bev1eqp1q0HYOLHg   \n",
       "3     X9Bql7RrPU5Mab5-hJsI8A   \n",
       "4     owO2UkNKk9qrWWd_PTYLDA   \n",
       "5     rc9SfYli96cnlPDMyJ7hyA   \n",
       "6     94VxE6XLTrXmz4yXWEJbAg   \n",
       "7     anfgvbiobw4M0Wnvx_os3Q   \n",
       "8     vLGYQ96AjKV5zpW0q3795g   \n",
       "9     7l-CCyNnvT86GMR5EtYjog   \n",
       "10    rEuSmPPblKIcOzazlBwTcw   \n",
       "11    V459sWYN02lwHgLnkNGRzg   \n",
       "12    mNMVqHsgJq6YErFPfaUlig   \n",
       "13    keOzwoc28Iac5mA8FD93uA   \n",
       "14    ejmq3qW34yxiEmNHQkov7A   \n",
       "15    xZfPdAYeimiruXuGR4nSUA   \n",
       "16    T-4MZRvKlF3VLDcjCqqFEg   \n",
       "17    NQN-ERs976mbnP6rkMwKtQ   \n",
       "18    e5i0_FVBlNfUZpJay2MH-Q   \n",
       "19    N7iOez1IbRc8wErxJLt5CQ   \n",
       "20    DwmAsemahJywywhuqv5J1Q   \n",
       "21    2dNjePYVp2AVei4ZoSDaaA   \n",
       "22    bnscF25BWatvO1Z-j87NXQ   \n",
       "23    pVZdH35B95NKyXNA9rnW0w   \n",
       "24    VNOosvcE6HN_dqSTqRicXQ   \n",
       "25    h5XqYtEmRuQ6yI0IyG6oNQ   \n",
       "26    gURBE4EKkytlOMuIqJHG8Q   \n",
       "27    2BF45Gr_FiubZqfP-JgaRQ   \n",
       "28    0YA3RpY5KXcezPXcjdfOGQ   \n",
       "29    8L8QlR4XJeAblTKCqoDP0A   \n",
       "...                      ...   \n",
       "3068  LNAI2hGXzAFq_9KFwpdshg   \n",
       "3069  nKUohp6mCtnZl1ZoNvySkw   \n",
       "3070  Quh8Fjutyw15B6ZGZEf2gA   \n",
       "3071  yhoCIkTwHihWejVqGYZ4rw   \n",
       "3072  KsWGy-WuTUm5ve5lFUOCfg   \n",
       "3073  dHgbL5EAEawIcqk6aXe2Ow   \n",
       "3074  S6dARuOrrOXd4xSiTHti8g   \n",
       "3075  P6N8qIUlu2IEKr1_pdg00Q   \n",
       "3076  7ifZDDd4-ROT-puhUo0btw   \n",
       "3077  vLxpEHKZFzv8LYY5eeGjTg   \n",
       "3078  8cyyRk-cqecyB1ctnRsR1A   \n",
       "3079  -8ILwSisSrTzcyy_Z0o9oA   \n",
       "3080  MrlNl43mM8Y259tKzMj4Mw   \n",
       "3081  KgI1lkFzsx3Fj1vzzKjNIQ   \n",
       "3082  iR7KBgAHgt1O2acHhfIviw   \n",
       "3083  yc1IZG2BL4WCYBHk5noj5g   \n",
       "3084  A-IqLvBfU5Gr_b9HVLETTw   \n",
       "3085  ocZv9DHZaf9tkJyzxL5tbg   \n",
       "3086  qLy2F9EzCsFYIKd40OJvZA   \n",
       "3087  zpIybGTZ0RqArG8BOX0ALQ   \n",
       "3088  WjJmjrfHJ5QKOTrKkChmtw   \n",
       "3089  vEtE2CTl3rrDpTC20RUisQ   \n",
       "3090  NG5qynmV0kzxQMFJG7mhEw   \n",
       "3091  gHngt6zpP683GKe1i23LUg   \n",
       "3092  gFyntTks-Qd5CjDU8_2Kog   \n",
       "3093  hTZGMEKTtaY0wwB-czFxxA   \n",
       "3094  bShze6_dNGwamcNPJgZILg   \n",
       "3095  TCL-2Mi_mZyHjEO9haiD2A   \n",
       "3096  W7gGZgcgzv-LFvk-s5csXg   \n",
       "3097  99SN6hku1PToQ2E3-4h8CA   \n",
       "\n",
       "                                                     _2  \\\n",
       "0     [try, first, time, last, night, pretty, good, ...   \n",
       "1     [oh, man, word, can, not, describe, excite, ba...   \n",
       "2     [first, dance, class, probably, decade, probab...   \n",
       "3     [2nd, visit, promise, first, time, order, feat...   \n",
       "4     [feel, like, ive, random, experience, place, r...   \n",
       "5     [go, lunch, friends, group, 7, round, table, b...   \n",
       "6     [come, instead, ds, need, buy, case, beer, the...   \n",
       "7     [its, good, place, try, ive, never, wow, prett...   \n",
       "8     [breakfast, pizza, checkgood, pizza, accent, e...   \n",
       "9     [jamaican, tacos, tonight, die, cant, speak, a...   \n",
       "10    [picture, post, wrong, location, starbucks, lo...   \n",
       "11    [buy, large, delicious, cheap, gyro, man, nice...   \n",
       "12    [ever, since, work, build, cafe, shut, lose, a...   \n",
       "13    [keep, see, yelp, new, business, finally, oppo...   \n",
       "14    [place, initially, remind, hugely, bar, champa...   \n",
       "15    [great, selection, products, consider, size, w...   \n",
       "16    [amaze, food, must, try, tempura, shrimp, also...   \n",
       "17    [twice, change, say, yay, whilst, park, may, f...   \n",
       "18    [best, hookah, lounge, pittsburgh, always, cle...   \n",
       "19    [former, waiter, son, former, waitress, know, ...   \n",
       "20    [favorite, chinese, place, pittsburgh, im, chi...   \n",
       "21    [sigh, think, place, potential, go, weekday, h...   \n",
       "22    [decent, size, store, tons, selection, even, d...   \n",
       "23    [awesome, place, browse, really, cool, local, ...   \n",
       "24    [hide, gem, pittsburgh, need, challenge, imper...   \n",
       "25    [youre, way, home, work, think, dinner, youre,...   \n",
       "26    [cant, say, much, interior, establishment, fil...   \n",
       "27    [mostly, fan, convenience, free, food, happy, ...   \n",
       "28    [even, open, go, go, tonight, monday, dinner, ...   \n",
       "29    [go, lunch, today, mom, daughter, food, stand,...   \n",
       "...                                                 ...   \n",
       "3068  [cant, get, ticket, steeler, home, game, best,...   \n",
       "3069  [like, typical, aldi, store, youd, find, anywh...   \n",
       "3070  [much, want, like, give, place, one, even, two...   \n",
       "3071  [pretty, darn, good, order, hot, ham, sandwich...   \n",
       "3072  [come, think, mf, full, fledge, museum, theres...   \n",
       "3073  [ive, pgh, 7, years, never, urge, visit, peter...   \n",
       "3074  [finally, come, last, night, recommendation, f...   \n",
       "3075  [live, south, side, plenty, pizza, options, ne...   \n",
       "3076  [aldi, bottom, dollar, like, long, lose, sibli...   \n",
       "3077  [trust, one, although, place, look, like, comp...   \n",
       "3078  [skip, go, downtown, nice, dinner, come, intim...   \n",
       "3079  [honestly, go, novelty, go, back, great, produ...   \n",
       "3080  [location, hit, miss, mostly, miss, stop, occa...   \n",
       "3081  [great, selection, spirit, excellent, vodkas, ...   \n",
       "3082  [its, taco, bell, much, write, place, cheep, f...   \n",
       "3083  [starbucks, one, ornate, locations, visit, enj...   \n",
       "3084  [pizza, parma, many, characteristics, like, pi...   \n",
       "3085  [let, start, positive, lot, cute, italian, byo...   \n",
       "3086  [go, red, busy, night, pink, concert, despite,...   \n",
       "3087  [pretty, standard, italian, american, joint, k...   \n",
       "3088  [small, cafe, n, side, one, cafes, area, its, ...   \n",
       "3089  [place, sort, remind, buffalo, wild, wing, far...   \n",
       "3090  [use, order, place, time, last, 3, order, garb...   \n",
       "3091  [brunch, one, best, pittsburgh, atmosphere, am...   \n",
       "3092  [come, downtown, pittsburgh, annually, convent...   \n",
       "3093  [good, cheap, sushi, go, sushi, crave, always,...   \n",
       "3094  [get, ta, say, skeptical, ballet, get, free, t...   \n",
       "3095  [divey, dive, bar, cheap, drink, bar, food, ca...   \n",
       "3096  [still, crappy, place, get, donuts, way, overp...   \n",
       "3097  [favorite, coffee, shop, walnut, st, folks, re...   \n",
       "\n",
       "                                                 Vector  \n",
       "0     [0.0205016, -0.00644905, -0.0154693, -0.008487...  \n",
       "1     [0.0250453, -0.00734597, -0.0195707, -0.010632...  \n",
       "2     [0.00621634, -0.00210196, -0.00474029, -0.0025...  \n",
       "3     [0.00829221, -0.00161553, -0.00683834, -0.0037...  \n",
       "4     [0.0334839, -0.00856758, -0.0266369, -0.014285...  \n",
       "5     [0.00490008, -0.000952024, -0.00394094, -0.002...  \n",
       "6     [0.00617516, -0.00202224, -0.00465858, -0.0025...  \n",
       "7     [0.0115594, -0.0034133, -0.00886636, -0.004637...  \n",
       "8     [0.00988138, -0.002731, -0.00778469, -0.004043...  \n",
       "9     [0.00716874, -0.00213457, -0.00553517, -0.0029...  \n",
       "10    [0.00955082, -0.00300462, -0.00718736, -0.0038...  \n",
       "11    [0.00345669, -0.000871251, -0.00287248, -0.001...  \n",
       "12    [0.0275673, -0.00756823, -0.0218, -0.0117932, ...  \n",
       "13    [0.0521841, -0.0129609, -0.041999, -0.0226226,...  \n",
       "14    [0.01342, -0.00426729, -0.0104198, -0.00564175...  \n",
       "15    [0.0100565, -0.00323569, -0.00763298, -0.00408...  \n",
       "16    [0.00664185, -0.00210756, -0.00506252, -0.0027...  \n",
       "17    [0.0215629, -0.0066132, -0.0165656, -0.0090465...  \n",
       "18    [0.00330777, -0.000947368, -0.002259, -0.00109...  \n",
       "19    [0.0224799, -0.00678722, -0.0172555, -0.009360...  \n",
       "20    [0.0173678, -0.0047932, -0.013484, -0.00718156...  \n",
       "21    [0.036477, -0.0114679, -0.0277241, -0.0152042,...  \n",
       "22    [0.00288817, -0.000741122, -0.00235416, -0.001...  \n",
       "23    [0.0257309, -0.00789044, -0.0195347, -0.010752...  \n",
       "24    [0.0290145, -0.00843836, -0.0225007, -0.012273...  \n",
       "25    [0.00745756, -0.00212541, -0.00592463, -0.0029...  \n",
       "26    [0.00360711, -0.000822748, -0.0028989, -0.0013...  \n",
       "27    [0.0046307, -0.00149033, -0.00360985, -0.00182...  \n",
       "28    [0.00284996, -0.00116002, -0.00233759, -0.0011...  \n",
       "29    [0.0037527, -0.00109025, -0.00287377, -0.00165...  \n",
       "...                                                 ...  \n",
       "3068  [0.0069667, -0.00233696, -0.00519907, -0.00287...  \n",
       "3069  [0.0116055, -0.00333165, -0.00898241, -0.00489...  \n",
       "3070  [0.00703076, -0.00237781, -0.00519217, -0.0028...  \n",
       "3071  [0.00668963, -0.000978365, -0.00570325, -0.003...  \n",
       "3072  [0.0160136, -0.00493323, -0.0122545, -0.006836...  \n",
       "3073  [0.0251879, -0.00693105, -0.0195808, -0.010519...  \n",
       "3074  [0.0121761, -0.00300357, -0.00976077, -0.00527...  \n",
       "3075  [0.0152154, -0.0040314, -0.0119606, -0.0064627...  \n",
       "3076  [0.0190399, -0.00573641, -0.0147308, -0.007763...  \n",
       "3077  [0.0069052, -0.00194559, -0.00525905, -0.00277...  \n",
       "3078  [0.0154655, -0.00440906, -0.0121376, -0.006617...  \n",
       "3079  [0.00608555, -0.00246608, -0.00427951, -0.0025...  \n",
       "3080  [0.007086, -0.00235126, -0.00538512, -0.002893...  \n",
       "3081  [0.0150991, -0.0047398, -0.01132, -0.00619598,...  \n",
       "3082  [0.00532218, -0.00173014, -0.00407665, -0.0022...  \n",
       "3083  [0.0101181, -0.0029356, -0.00759581, -0.004299...  \n",
       "3084  [0.0164364, -0.00413822, -0.013302, -0.0069615...  \n",
       "3085  [0.0181441, -0.00501708, -0.0145183, -0.007653...  \n",
       "3086  [0.0745048, -0.0214149, -0.0577012, -0.0313166...  \n",
       "3087  [0.0129932, -0.00319964, -0.0102426, -0.005631...  \n",
       "3088  [0.0100967, -0.00288123, -0.0074279, -0.003974...  \n",
       "3089  [0.0106798, -0.00263879, -0.0083444, -0.004449...  \n",
       "3090  [0.00362257, -0.00136752, -0.00279201, -0.0013...  \n",
       "3091  [0.0081452, -0.00276596, -0.00571017, -0.00313...  \n",
       "3092  [0.00722028, -0.00201427, -0.00546725, -0.0029...  \n",
       "3093  [0.00534323, -0.000903323, -0.00456157, -0.002...  \n",
       "3094  [0.0222694, -0.0070214, -0.0168661, -0.0093746...  \n",
       "3095  [0.00924581, -0.00292712, -0.00688633, -0.0037...  \n",
       "3096  [0.00585718, -0.00165173, -0.00448581, -0.0025...  \n",
       "3097  [0.0112337, -0.00315765, -0.00867992, -0.00480...  \n",
       "\n",
       "[3098 rows x 3 columns]"
      ]
     },
     "execution_count": 29,
     "metadata": {},
     "output_type": "execute_result"
    }
   ],
   "source": [
    "prodPandas"
   ]
  },
  {
   "cell_type": "markdown",
   "metadata": {},
   "source": [
    "Product category text not needed"
   ]
  },
  {
   "cell_type": "code",
   "execution_count": 30,
   "metadata": {
    "collapsed": true
   },
   "outputs": [],
   "source": [
    "del prodPandas['_2']"
   ]
  },
  {
   "cell_type": "markdown",
   "metadata": {},
   "source": [
    "### Weighted Linear Combination of product vectors for users"
   ]
  },
  {
   "cell_type": "code",
   "execution_count": 31,
   "metadata": {
    "collapsed": true
   },
   "outputs": [],
   "source": [
    "userPandas['Vector'] = [[] for _ in range(len(userPandas))]"
   ]
  },
  {
   "cell_type": "code",
   "execution_count": 32,
   "metadata": {
    "collapsed": true
   },
   "outputs": [],
   "source": [
    "userPandas['_3'] = userPandas['_3'].astype(float)"
   ]
  },
  {
   "cell_type": "code",
   "execution_count": 33,
   "metadata": {
    "collapsed": true
   },
   "outputs": [],
   "source": [
    "for index, row in userPandas.iterrows():\n",
    "    vector = np.array(prodPandas.loc[prodPandas['_1'] == row['_2'], 'Vector'].values[0])\n",
    "    rating = row['_3']\n",
    "    userPandas.at[index,'Vector'] = rating*vector"
   ]
  },
  {
   "cell_type": "code",
   "execution_count": 34,
   "metadata": {},
   "outputs": [
    {
     "data": {
      "text/html": [
       "<div>\n",
       "<style>\n",
       "    .dataframe thead tr:only-child th {\n",
       "        text-align: right;\n",
       "    }\n",
       "\n",
       "    .dataframe thead th {\n",
       "        text-align: left;\n",
       "    }\n",
       "\n",
       "    .dataframe tbody tr th {\n",
       "        vertical-align: top;\n",
       "    }\n",
       "</style>\n",
       "<table border=\"1\" class=\"dataframe\">\n",
       "  <thead>\n",
       "    <tr style=\"text-align: right;\">\n",
       "      <th></th>\n",
       "      <th>_1</th>\n",
       "      <th>_2</th>\n",
       "      <th>_3</th>\n",
       "      <th>Vector</th>\n",
       "    </tr>\n",
       "  </thead>\n",
       "  <tbody>\n",
       "    <tr>\n",
       "      <th>0</th>\n",
       "      <td>3egcdazws_x1wW35jgXfNw</td>\n",
       "      <td>gae9LAyt7Qvf_OgAkWASxA</td>\n",
       "      <td>4.0</td>\n",
       "      <td>[0.0349865, -0.0106697, -0.0254736, -0.014482,...</td>\n",
       "    </tr>\n",
       "    <tr>\n",
       "      <th>1</th>\n",
       "      <td>4wp4XI9AxKNqJima-xahlg</td>\n",
       "      <td>7O_mNtg37-1sMvQ5xmA8Dw</td>\n",
       "      <td>4.0</td>\n",
       "      <td>[0.138538, -0.0387583, -0.109732, -0.0595934, ...</td>\n",
       "    </tr>\n",
       "    <tr>\n",
       "      <th>2</th>\n",
       "      <td>BxDsaVNeWxc5mNyA1HtSHQ</td>\n",
       "      <td>oeW0vIYd3rUnAPgmD4fEFg</td>\n",
       "      <td>5.0</td>\n",
       "      <td>[0.0379545, -0.0111202, -0.0294376, -0.0158777...</td>\n",
       "    </tr>\n",
       "    <tr>\n",
       "      <th>3</th>\n",
       "      <td>BBg_86FEejn3dNzj0JOR9Q</td>\n",
       "      <td>XItYW5ul3OW_AqpT2nDbBQ</td>\n",
       "      <td>4.0</td>\n",
       "      <td>[0.00327241, -0.00115248, -0.00201679, -0.0014...</td>\n",
       "    </tr>\n",
       "    <tr>\n",
       "      <th>4</th>\n",
       "      <td>z2YVGKKcup6mjQmDQ6arEg</td>\n",
       "      <td>RqmORv3974ZDC6Zh4nSQwg</td>\n",
       "      <td>5.0</td>\n",
       "      <td>[0.0394794, -0.010021, -0.029873, -0.0161998, ...</td>\n",
       "    </tr>\n",
       "    <tr>\n",
       "      <th>5</th>\n",
       "      <td>kb36ZHxGLdPU5p63Mj5u4w</td>\n",
       "      <td>mBycrsguRPhI0xtFBzsz_w</td>\n",
       "      <td>4.0</td>\n",
       "      <td>[0.100866, -0.0314715, -0.0761508, -0.0424768,...</td>\n",
       "    </tr>\n",
       "    <tr>\n",
       "      <th>6</th>\n",
       "      <td>TkFcPIHDPx43OqnqZ_ElPQ</td>\n",
       "      <td>SmkYLXEYhzwUZdS6TAevHg</td>\n",
       "      <td>4.0</td>\n",
       "      <td>[0.0292667, -0.0106207, -0.0210769, -0.0114245...</td>\n",
       "    </tr>\n",
       "    <tr>\n",
       "      <th>7</th>\n",
       "      <td>cUUCMncwWZm57s95iUX1Gg</td>\n",
       "      <td>dW79jPJVpzlTKGF-1JAsaw</td>\n",
       "      <td>3.0</td>\n",
       "      <td>[0.0240211, -0.00689577, -0.0188331, -0.010171...</td>\n",
       "    </tr>\n",
       "    <tr>\n",
       "      <th>8</th>\n",
       "      <td>JVJOfFqPmZEvkRznzF8w-w</td>\n",
       "      <td>yZ_wpRr4Svw8YRZ9voCgIw</td>\n",
       "      <td>4.0</td>\n",
       "      <td>[0.0852398, -0.0250814, -0.0657066, -0.035448,...</td>\n",
       "    </tr>\n",
       "    <tr>\n",
       "      <th>9</th>\n",
       "      <td>Q0Bs5ObN4w2U5WHs2gLsPA</td>\n",
       "      <td>MsFj3NTvmhYNYS8Ef8HwFA</td>\n",
       "      <td>2.0</td>\n",
       "      <td>[0.0129259, -0.00435273, -0.00969217, -0.00527...</td>\n",
       "    </tr>\n",
       "    <tr>\n",
       "      <th>10</th>\n",
       "      <td>2JjI8DCyrpabtg36iL5lrw</td>\n",
       "      <td>YN8pgoAGNfk8J3LKmSVJ2w</td>\n",
       "      <td>3.0</td>\n",
       "      <td>[0.0392042, -0.0114455, -0.0306347, -0.0162629...</td>\n",
       "    </tr>\n",
       "    <tr>\n",
       "      <th>11</th>\n",
       "      <td>3z1EttCePzDn9OZbudD5VA</td>\n",
       "      <td>hDD6-yk1yuuRIvfdtHsISg</td>\n",
       "      <td>2.0</td>\n",
       "      <td>[0.0175407, -0.00493128, -0.0140336, -0.007674...</td>\n",
       "    </tr>\n",
       "    <tr>\n",
       "      <th>12</th>\n",
       "      <td>M9MXoSsb193m1g0QmmUYBQ</td>\n",
       "      <td>y19xFolCozaRA-gGmHwkQA</td>\n",
       "      <td>5.0</td>\n",
       "      <td>[0.0858689, -0.0249692, -0.0665434, -0.0368275...</td>\n",
       "    </tr>\n",
       "    <tr>\n",
       "      <th>13</th>\n",
       "      <td>YE54kKTuqJJPNYWIKIpOEQ</td>\n",
       "      <td>z2RiCl_iU-8bM4Lj1zNL8g</td>\n",
       "      <td>4.0</td>\n",
       "      <td>[0.0227818, -0.00639849, -0.0169191, -0.008711...</td>\n",
       "    </tr>\n",
       "    <tr>\n",
       "      <th>14</th>\n",
       "      <td>rs3pq6wRmaSIADCInQXp9g</td>\n",
       "      <td>eC-duRpbiVsCD14oGYiDOA</td>\n",
       "      <td>4.0</td>\n",
       "      <td>[0.0909464, -0.0254342, -0.0703948, -0.0383577...</td>\n",
       "    </tr>\n",
       "    <tr>\n",
       "      <th>15</th>\n",
       "      <td>i3lHb48oSkgrjFuA1t4ApA</td>\n",
       "      <td>1M6tA3TqxcpptHW0_hP9Kw</td>\n",
       "      <td>5.0</td>\n",
       "      <td>[0.0706918, -0.0236451, -0.0530834, -0.0297687...</td>\n",
       "    </tr>\n",
       "    <tr>\n",
       "      <th>16</th>\n",
       "      <td>kPhhm_zcIsNYYtQthLX92g</td>\n",
       "      <td>wtfWKqj6B_hFCb2AZhxGlA</td>\n",
       "      <td>5.0</td>\n",
       "      <td>[0.00480884, -0.0016119, -0.00261074, -0.00233...</td>\n",
       "    </tr>\n",
       "    <tr>\n",
       "      <th>17</th>\n",
       "      <td>IOYbJgL67pkodqDGr1rIXg</td>\n",
       "      <td>qIyj7PNUSA1B6_rOkc8nIQ</td>\n",
       "      <td>4.0</td>\n",
       "      <td>[0.0213621, -0.00417516, -0.018074, -0.0093190...</td>\n",
       "    </tr>\n",
       "    <tr>\n",
       "      <th>18</th>\n",
       "      <td>OQBMu7x0V4Oz3iFv3x0i5Q</td>\n",
       "      <td>VSNUFYBQ_wOFmRXZ8SeQ4w</td>\n",
       "      <td>4.0</td>\n",
       "      <td>[0.0240302, -0.00594771, -0.0190384, -0.010551...</td>\n",
       "    </tr>\n",
       "    <tr>\n",
       "      <th>19</th>\n",
       "      <td>aoJ7B4HPlugEf4R4QPLbog</td>\n",
       "      <td>Voeq7aGDmCGMjE_SQiHwRA</td>\n",
       "      <td>4.0</td>\n",
       "      <td>[0.0408046, -0.0114803, -0.0323144, -0.016593,...</td>\n",
       "    </tr>\n",
       "    <tr>\n",
       "      <th>20</th>\n",
       "      <td>Mrudkq5duCOoiuhL61ZBcQ</td>\n",
       "      <td>q0n4I-zqiI47xispOqc1lA</td>\n",
       "      <td>4.0</td>\n",
       "      <td>[0.0333768, -0.00928028, -0.0261201, -0.01418,...</td>\n",
       "    </tr>\n",
       "    <tr>\n",
       "      <th>21</th>\n",
       "      <td>X0ThBT2nXkeEFzd7RSuy6Q</td>\n",
       "      <td>LbeJgPgKKHw5qH0f02NHEQ</td>\n",
       "      <td>3.0</td>\n",
       "      <td>[0.0077116, -0.00130052, -0.00711525, -0.00397...</td>\n",
       "    </tr>\n",
       "    <tr>\n",
       "      <th>22</th>\n",
       "      <td>X0ThBT2nXkeEFzd7RSuy6Q</td>\n",
       "      <td>_ucDskZqK5w1QHkoA_nlRw</td>\n",
       "      <td>5.0</td>\n",
       "      <td>[0.0676572, -0.0225537, -0.0503003, -0.028579,...</td>\n",
       "    </tr>\n",
       "    <tr>\n",
       "      <th>23</th>\n",
       "      <td>21W8iTZGWdCk1utgudcToQ</td>\n",
       "      <td>p_2Q6ebOtBOHCpBrvb78lg</td>\n",
       "      <td>4.0</td>\n",
       "      <td>[0.0636823, -0.016129, -0.0510815, -0.0269802,...</td>\n",
       "    </tr>\n",
       "    <tr>\n",
       "      <th>24</th>\n",
       "      <td>qDgApqioN9qReeLiNytQqw</td>\n",
       "      <td>JALpYzMTlwiIcp1s9R4QIw</td>\n",
       "      <td>3.0</td>\n",
       "      <td>[0.0917181, -0.0275947, -0.0697849, -0.0374219...</td>\n",
       "    </tr>\n",
       "    <tr>\n",
       "      <th>25</th>\n",
       "      <td>V0pP_PQnWdtyKpF-pifiaw</td>\n",
       "      <td>Fpm3WvqtrAg2ueh_4pz7iA</td>\n",
       "      <td>4.0</td>\n",
       "      <td>[0.0631521, -0.0217007, -0.0455982, -0.0257955...</td>\n",
       "    </tr>\n",
       "    <tr>\n",
       "      <th>26</th>\n",
       "      <td>8AwcaBJjiMpQ__FPxktwwQ</td>\n",
       "      <td>rDE-HMwWZ76RXM0LhzJ5VQ</td>\n",
       "      <td>5.0</td>\n",
       "      <td>[0.1531, -0.0476679, -0.117371, -0.064108, -0....</td>\n",
       "    </tr>\n",
       "    <tr>\n",
       "      <th>27</th>\n",
       "      <td>d0D7L-vfQDIADolnPAcb9A</td>\n",
       "      <td>8edTRAKWTzd0B_sfb8ekeQ</td>\n",
       "      <td>4.0</td>\n",
       "      <td>[0.066665, -0.020417, -0.0519872, -0.028647, -...</td>\n",
       "    </tr>\n",
       "    <tr>\n",
       "      <th>28</th>\n",
       "      <td>Kw5RHGNWA3ByBPzMv5oaRg</td>\n",
       "      <td>OFdMlXxtkU_nUh8jJ4W6GA</td>\n",
       "      <td>5.0</td>\n",
       "      <td>[0.0707871, -0.0224884, -0.0533613, -0.0292062...</td>\n",
       "    </tr>\n",
       "    <tr>\n",
       "      <th>29</th>\n",
       "      <td>QbdMp3irBF5u5Y9IOOC0iQ</td>\n",
       "      <td>TokSC1vjqUZtncgYG8lLKA</td>\n",
       "      <td>5.0</td>\n",
       "      <td>[0.00054161, -0.00161352, 0.00134368, -0.00022...</td>\n",
       "    </tr>\n",
       "    <tr>\n",
       "      <th>...</th>\n",
       "      <td>...</td>\n",
       "      <td>...</td>\n",
       "      <td>...</td>\n",
       "      <td>...</td>\n",
       "    </tr>\n",
       "    <tr>\n",
       "      <th>40861</th>\n",
       "      <td>CtUsYYsJFd5QvMVJUOsTAw</td>\n",
       "      <td>Voeq7aGDmCGMjE_SQiHwRA</td>\n",
       "      <td>4.0</td>\n",
       "      <td>[0.0408046, -0.0114803, -0.0323144, -0.016593,...</td>\n",
       "    </tr>\n",
       "    <tr>\n",
       "      <th>40862</th>\n",
       "      <td>1u80DXuswfp7hFW2NN9B-Q</td>\n",
       "      <td>rXULENMtBohv3485zqG0XA</td>\n",
       "      <td>3.0</td>\n",
       "      <td>[0.0134873, -0.00337769, -0.0103865, -0.005911...</td>\n",
       "    </tr>\n",
       "    <tr>\n",
       "      <th>40863</th>\n",
       "      <td>135DbbQnr3BEkQbBzZ9T1A</td>\n",
       "      <td>hDRjIbbseWN7ZSVZy2t2fA</td>\n",
       "      <td>3.0</td>\n",
       "      <td>[0.0709266, -0.0185385, -0.0563127, -0.0299881...</td>\n",
       "    </tr>\n",
       "    <tr>\n",
       "      <th>40864</th>\n",
       "      <td>135DbbQnr3BEkQbBzZ9T1A</td>\n",
       "      <td>TqL0ytKAucWdW2mR7EbayA</td>\n",
       "      <td>4.0</td>\n",
       "      <td>[0.0469263, -0.0138019, -0.0369568, -0.019849,...</td>\n",
       "    </tr>\n",
       "    <tr>\n",
       "      <th>40865</th>\n",
       "      <td>bleyhN--91eJmPyJpXr9Mw</td>\n",
       "      <td>jqBUVAWJRJ6QIGXVuhdVvw</td>\n",
       "      <td>3.0</td>\n",
       "      <td>[0.073815, -0.0238156, -0.0556117, -0.031591, ...</td>\n",
       "    </tr>\n",
       "    <tr>\n",
       "      <th>40866</th>\n",
       "      <td>N5D3uC7LMyyBbdKoP1iarw</td>\n",
       "      <td>hcFSc0OHgZJybnjQBrL_8Q</td>\n",
       "      <td>3.0</td>\n",
       "      <td>[0.00939157, -0.00297718, -0.00643033, -0.0038...</td>\n",
       "    </tr>\n",
       "    <tr>\n",
       "      <th>40867</th>\n",
       "      <td>X2AiYF7z32_0Oitl4aYXwg</td>\n",
       "      <td>JrrY4v21k7_qYxIidhi-aw</td>\n",
       "      <td>4.0</td>\n",
       "      <td>[0.0196696, -0.00696141, -0.0143299, -0.008311...</td>\n",
       "    </tr>\n",
       "    <tr>\n",
       "      <th>40868</th>\n",
       "      <td>67IMqiMGTTlobnDMEWszmw</td>\n",
       "      <td>F8ZdHw7rhyp3FRqQpqQNTg</td>\n",
       "      <td>4.0</td>\n",
       "      <td>[0.0254562, -0.00740992, -0.0191071, -0.010470...</td>\n",
       "    </tr>\n",
       "    <tr>\n",
       "      <th>40869</th>\n",
       "      <td>V7uS5US4oTf-S9u36HJQCQ</td>\n",
       "      <td>iY35AnV-Rf4nY81qkiMLag</td>\n",
       "      <td>3.0</td>\n",
       "      <td>[0.0377592, -0.0115988, -0.0289635, -0.0154142...</td>\n",
       "    </tr>\n",
       "    <tr>\n",
       "      <th>40870</th>\n",
       "      <td>a0-Lv095eNh5r5ghtl7d4g</td>\n",
       "      <td>-wXyBph4d0IQlQrS8H1rDw</td>\n",
       "      <td>2.0</td>\n",
       "      <td>[0.0369503, -0.0111827, -0.0281125, -0.0155039...</td>\n",
       "    </tr>\n",
       "    <tr>\n",
       "      <th>40871</th>\n",
       "      <td>xhmBgIT3xHgojioDq_c_fg</td>\n",
       "      <td>PBmMvDows5HWIqrEVvNfQQ</td>\n",
       "      <td>2.0</td>\n",
       "      <td>[0.0247048, -0.00727072, -0.0188775, -0.010229...</td>\n",
       "    </tr>\n",
       "    <tr>\n",
       "      <th>40872</th>\n",
       "      <td>6Ki3bAL0wx9ymbdJqbSWMA</td>\n",
       "      <td>pHDLRIG2Xu1_1mkGAbyEmw</td>\n",
       "      <td>3.0</td>\n",
       "      <td>[0.0531626, -0.0157875, -0.0408916, -0.0216745...</td>\n",
       "    </tr>\n",
       "    <tr>\n",
       "      <th>40873</th>\n",
       "      <td>YPyrFh8AImi-sgLDbt1-8A</td>\n",
       "      <td>Ph7iO3to0eyvZKqQ1kJ4PA</td>\n",
       "      <td>4.0</td>\n",
       "      <td>[0.222506, -0.0675589, -0.170424, -0.0926936, ...</td>\n",
       "    </tr>\n",
       "    <tr>\n",
       "      <th>40874</th>\n",
       "      <td>-2OB54nQ6FsGLUM-R1KXnA</td>\n",
       "      <td>j3IEZP4nQAt7fkxmerLMbA</td>\n",
       "      <td>4.0</td>\n",
       "      <td>[0.0878936, -0.0263013, -0.0668723, -0.0366019...</td>\n",
       "    </tr>\n",
       "    <tr>\n",
       "      <th>40875</th>\n",
       "      <td>LUlKtaM3nXd-E4N4uOk_fQ</td>\n",
       "      <td>SZ8wQ0u11V3gCkOI8JEVCQ</td>\n",
       "      <td>3.0</td>\n",
       "      <td>[0.0678371, -0.0196763, -0.0543924, -0.0293938...</td>\n",
       "    </tr>\n",
       "    <tr>\n",
       "      <th>40876</th>\n",
       "      <td>rCWrxuRC8_pfagpchtHp6A</td>\n",
       "      <td>QqbZA4r5g1vCbOxOAKJgWg</td>\n",
       "      <td>5.0</td>\n",
       "      <td>[0.0416937, -0.0121123, -0.0324507, -0.0176429...</td>\n",
       "    </tr>\n",
       "    <tr>\n",
       "      <th>40877</th>\n",
       "      <td>135DbbQnr3BEkQbBzZ9T1A</td>\n",
       "      <td>X2X3n0PutSNonQQj2cjsCw</td>\n",
       "      <td>4.0</td>\n",
       "      <td>[0.116197, -0.0360797, -0.0901159, -0.0490627,...</td>\n",
       "    </tr>\n",
       "    <tr>\n",
       "      <th>40878</th>\n",
       "      <td>7quhEJUhx4K3TTqJTj6Q3g</td>\n",
       "      <td>NAeUcNL3Uk73Cp5iC25TMg</td>\n",
       "      <td>4.0</td>\n",
       "      <td>[0.208201, -0.0685887, -0.155627, -0.0861897, ...</td>\n",
       "    </tr>\n",
       "    <tr>\n",
       "      <th>40879</th>\n",
       "      <td>FQzMahuwloL7r44Gl_lNNA</td>\n",
       "      <td>vpwyL6NHm-pTWJ5IeJb9yw</td>\n",
       "      <td>4.0</td>\n",
       "      <td>[0.00177933, -0.000869901, -0.00025406, -0.000...</td>\n",
       "    </tr>\n",
       "    <tr>\n",
       "      <th>40880</th>\n",
       "      <td>8AwcaBJjiMpQ__FPxktwwQ</td>\n",
       "      <td>X47pt6a4ID4aM2ONYdSW8Q</td>\n",
       "      <td>4.0</td>\n",
       "      <td>[0.0636634, -0.0192984, -0.0483655, -0.0272346...</td>\n",
       "    </tr>\n",
       "    <tr>\n",
       "      <th>40881</th>\n",
       "      <td>g3V76Ja0XgWS1rqx0gxL_A</td>\n",
       "      <td>Iam7tYWhssw_rscSBkeRIQ</td>\n",
       "      <td>3.0</td>\n",
       "      <td>[0.0847665, -0.0226211, -0.0664866, -0.0353711...</td>\n",
       "    </tr>\n",
       "    <tr>\n",
       "      <th>40882</th>\n",
       "      <td>hnVXeRIxCf6CQc1wcRx3tg</td>\n",
       "      <td>bCa0CY4F74N5lCEVOquKkg</td>\n",
       "      <td>3.0</td>\n",
       "      <td>[0.0207693, -0.00558846, -0.0160695, -0.008954...</td>\n",
       "    </tr>\n",
       "    <tr>\n",
       "      <th>40883</th>\n",
       "      <td>tmvYYqXiz3I235x-SSOeTw</td>\n",
       "      <td>6XQKCJO-52pjQssVCrw06A</td>\n",
       "      <td>5.0</td>\n",
       "      <td>[0.139887, -0.0412575, -0.107297, -0.0587132, ...</td>\n",
       "    </tr>\n",
       "    <tr>\n",
       "      <th>40884</th>\n",
       "      <td>OWtzJMlqA7cY559O80nqQg</td>\n",
       "      <td>YhBigRwAFdRPIQxWDjZOrQ</td>\n",
       "      <td>4.0</td>\n",
       "      <td>[0.00312324, 0.000893107, -0.0024383, -0.00116...</td>\n",
       "    </tr>\n",
       "    <tr>\n",
       "      <th>40885</th>\n",
       "      <td>M3My5CtVoToHpDH0HcbhmA</td>\n",
       "      <td>ZYof0WYlilJ3pgWNSgmYKQ</td>\n",
       "      <td>5.0</td>\n",
       "      <td>[0.0417321, -0.0118092, -0.0338788, -0.017286,...</td>\n",
       "    </tr>\n",
       "    <tr>\n",
       "      <th>40886</th>\n",
       "      <td>DeXKbQYNx52OlOizobOLJw</td>\n",
       "      <td>X_XFv1Ct6cznxQy9u8Yzxw</td>\n",
       "      <td>4.0</td>\n",
       "      <td>[0.140945, -0.041467, -0.1088, -0.0592356, -0....</td>\n",
       "    </tr>\n",
       "    <tr>\n",
       "      <th>40887</th>\n",
       "      <td>7sAkIM47_LE99Hyg5lwdrg</td>\n",
       "      <td>yPcAdikNrXEsfbHNBQUjkQ</td>\n",
       "      <td>5.0</td>\n",
       "      <td>[0.0714271, -0.0246368, -0.0531592, -0.029328,...</td>\n",
       "    </tr>\n",
       "    <tr>\n",
       "      <th>40888</th>\n",
       "      <td>bkr_Mo4Ns_k5TB4ei6VELw</td>\n",
       "      <td>oS96aJIHFWcFAlGHKKXjaw</td>\n",
       "      <td>5.0</td>\n",
       "      <td>[0.067249, -0.020963, -0.0513628, -0.0285888, ...</td>\n",
       "    </tr>\n",
       "    <tr>\n",
       "      <th>40889</th>\n",
       "      <td>cCke3VtFLtqgzkgYSrSE2g</td>\n",
       "      <td>TFdLM8R_7Pf1xVeBNKl0hg</td>\n",
       "      <td>5.0</td>\n",
       "      <td>[0.0665898, -0.0215808, -0.0496064, -0.0280531...</td>\n",
       "    </tr>\n",
       "    <tr>\n",
       "      <th>40890</th>\n",
       "      <td>zgo6ehbfeMOcsG9bgofMNg</td>\n",
       "      <td>LotwXDcHQmt4usltEvw_PQ</td>\n",
       "      <td>4.0</td>\n",
       "      <td>[0.129629, -0.0411024, -0.0974863, -0.0539137,...</td>\n",
       "    </tr>\n",
       "  </tbody>\n",
       "</table>\n",
       "<p>40891 rows × 4 columns</p>\n",
       "</div>"
      ],
      "text/plain": [
       "                           _1                      _2   _3  \\\n",
       "0      3egcdazws_x1wW35jgXfNw  gae9LAyt7Qvf_OgAkWASxA  4.0   \n",
       "1      4wp4XI9AxKNqJima-xahlg  7O_mNtg37-1sMvQ5xmA8Dw  4.0   \n",
       "2      BxDsaVNeWxc5mNyA1HtSHQ  oeW0vIYd3rUnAPgmD4fEFg  5.0   \n",
       "3      BBg_86FEejn3dNzj0JOR9Q  XItYW5ul3OW_AqpT2nDbBQ  4.0   \n",
       "4      z2YVGKKcup6mjQmDQ6arEg  RqmORv3974ZDC6Zh4nSQwg  5.0   \n",
       "5      kb36ZHxGLdPU5p63Mj5u4w  mBycrsguRPhI0xtFBzsz_w  4.0   \n",
       "6      TkFcPIHDPx43OqnqZ_ElPQ  SmkYLXEYhzwUZdS6TAevHg  4.0   \n",
       "7      cUUCMncwWZm57s95iUX1Gg  dW79jPJVpzlTKGF-1JAsaw  3.0   \n",
       "8      JVJOfFqPmZEvkRznzF8w-w  yZ_wpRr4Svw8YRZ9voCgIw  4.0   \n",
       "9      Q0Bs5ObN4w2U5WHs2gLsPA  MsFj3NTvmhYNYS8Ef8HwFA  2.0   \n",
       "10     2JjI8DCyrpabtg36iL5lrw  YN8pgoAGNfk8J3LKmSVJ2w  3.0   \n",
       "11     3z1EttCePzDn9OZbudD5VA  hDD6-yk1yuuRIvfdtHsISg  2.0   \n",
       "12     M9MXoSsb193m1g0QmmUYBQ  y19xFolCozaRA-gGmHwkQA  5.0   \n",
       "13     YE54kKTuqJJPNYWIKIpOEQ  z2RiCl_iU-8bM4Lj1zNL8g  4.0   \n",
       "14     rs3pq6wRmaSIADCInQXp9g  eC-duRpbiVsCD14oGYiDOA  4.0   \n",
       "15     i3lHb48oSkgrjFuA1t4ApA  1M6tA3TqxcpptHW0_hP9Kw  5.0   \n",
       "16     kPhhm_zcIsNYYtQthLX92g  wtfWKqj6B_hFCb2AZhxGlA  5.0   \n",
       "17     IOYbJgL67pkodqDGr1rIXg  qIyj7PNUSA1B6_rOkc8nIQ  4.0   \n",
       "18     OQBMu7x0V4Oz3iFv3x0i5Q  VSNUFYBQ_wOFmRXZ8SeQ4w  4.0   \n",
       "19     aoJ7B4HPlugEf4R4QPLbog  Voeq7aGDmCGMjE_SQiHwRA  4.0   \n",
       "20     Mrudkq5duCOoiuhL61ZBcQ  q0n4I-zqiI47xispOqc1lA  4.0   \n",
       "21     X0ThBT2nXkeEFzd7RSuy6Q  LbeJgPgKKHw5qH0f02NHEQ  3.0   \n",
       "22     X0ThBT2nXkeEFzd7RSuy6Q  _ucDskZqK5w1QHkoA_nlRw  5.0   \n",
       "23     21W8iTZGWdCk1utgudcToQ  p_2Q6ebOtBOHCpBrvb78lg  4.0   \n",
       "24     qDgApqioN9qReeLiNytQqw  JALpYzMTlwiIcp1s9R4QIw  3.0   \n",
       "25     V0pP_PQnWdtyKpF-pifiaw  Fpm3WvqtrAg2ueh_4pz7iA  4.0   \n",
       "26     8AwcaBJjiMpQ__FPxktwwQ  rDE-HMwWZ76RXM0LhzJ5VQ  5.0   \n",
       "27     d0D7L-vfQDIADolnPAcb9A  8edTRAKWTzd0B_sfb8ekeQ  4.0   \n",
       "28     Kw5RHGNWA3ByBPzMv5oaRg  OFdMlXxtkU_nUh8jJ4W6GA  5.0   \n",
       "29     QbdMp3irBF5u5Y9IOOC0iQ  TokSC1vjqUZtncgYG8lLKA  5.0   \n",
       "...                       ...                     ...  ...   \n",
       "40861  CtUsYYsJFd5QvMVJUOsTAw  Voeq7aGDmCGMjE_SQiHwRA  4.0   \n",
       "40862  1u80DXuswfp7hFW2NN9B-Q  rXULENMtBohv3485zqG0XA  3.0   \n",
       "40863  135DbbQnr3BEkQbBzZ9T1A  hDRjIbbseWN7ZSVZy2t2fA  3.0   \n",
       "40864  135DbbQnr3BEkQbBzZ9T1A  TqL0ytKAucWdW2mR7EbayA  4.0   \n",
       "40865  bleyhN--91eJmPyJpXr9Mw  jqBUVAWJRJ6QIGXVuhdVvw  3.0   \n",
       "40866  N5D3uC7LMyyBbdKoP1iarw  hcFSc0OHgZJybnjQBrL_8Q  3.0   \n",
       "40867  X2AiYF7z32_0Oitl4aYXwg  JrrY4v21k7_qYxIidhi-aw  4.0   \n",
       "40868  67IMqiMGTTlobnDMEWszmw  F8ZdHw7rhyp3FRqQpqQNTg  4.0   \n",
       "40869  V7uS5US4oTf-S9u36HJQCQ  iY35AnV-Rf4nY81qkiMLag  3.0   \n",
       "40870  a0-Lv095eNh5r5ghtl7d4g  -wXyBph4d0IQlQrS8H1rDw  2.0   \n",
       "40871  xhmBgIT3xHgojioDq_c_fg  PBmMvDows5HWIqrEVvNfQQ  2.0   \n",
       "40872  6Ki3bAL0wx9ymbdJqbSWMA  pHDLRIG2Xu1_1mkGAbyEmw  3.0   \n",
       "40873  YPyrFh8AImi-sgLDbt1-8A  Ph7iO3to0eyvZKqQ1kJ4PA  4.0   \n",
       "40874  -2OB54nQ6FsGLUM-R1KXnA  j3IEZP4nQAt7fkxmerLMbA  4.0   \n",
       "40875  LUlKtaM3nXd-E4N4uOk_fQ  SZ8wQ0u11V3gCkOI8JEVCQ  3.0   \n",
       "40876  rCWrxuRC8_pfagpchtHp6A  QqbZA4r5g1vCbOxOAKJgWg  5.0   \n",
       "40877  135DbbQnr3BEkQbBzZ9T1A  X2X3n0PutSNonQQj2cjsCw  4.0   \n",
       "40878  7quhEJUhx4K3TTqJTj6Q3g  NAeUcNL3Uk73Cp5iC25TMg  4.0   \n",
       "40879  FQzMahuwloL7r44Gl_lNNA  vpwyL6NHm-pTWJ5IeJb9yw  4.0   \n",
       "40880  8AwcaBJjiMpQ__FPxktwwQ  X47pt6a4ID4aM2ONYdSW8Q  4.0   \n",
       "40881  g3V76Ja0XgWS1rqx0gxL_A  Iam7tYWhssw_rscSBkeRIQ  3.0   \n",
       "40882  hnVXeRIxCf6CQc1wcRx3tg  bCa0CY4F74N5lCEVOquKkg  3.0   \n",
       "40883  tmvYYqXiz3I235x-SSOeTw  6XQKCJO-52pjQssVCrw06A  5.0   \n",
       "40884  OWtzJMlqA7cY559O80nqQg  YhBigRwAFdRPIQxWDjZOrQ  4.0   \n",
       "40885  M3My5CtVoToHpDH0HcbhmA  ZYof0WYlilJ3pgWNSgmYKQ  5.0   \n",
       "40886  DeXKbQYNx52OlOizobOLJw  X_XFv1Ct6cznxQy9u8Yzxw  4.0   \n",
       "40887  7sAkIM47_LE99Hyg5lwdrg  yPcAdikNrXEsfbHNBQUjkQ  5.0   \n",
       "40888  bkr_Mo4Ns_k5TB4ei6VELw  oS96aJIHFWcFAlGHKKXjaw  5.0   \n",
       "40889  cCke3VtFLtqgzkgYSrSE2g  TFdLM8R_7Pf1xVeBNKl0hg  5.0   \n",
       "40890  zgo6ehbfeMOcsG9bgofMNg  LotwXDcHQmt4usltEvw_PQ  4.0   \n",
       "\n",
       "                                                  Vector  \n",
       "0      [0.0349865, -0.0106697, -0.0254736, -0.014482,...  \n",
       "1      [0.138538, -0.0387583, -0.109732, -0.0595934, ...  \n",
       "2      [0.0379545, -0.0111202, -0.0294376, -0.0158777...  \n",
       "3      [0.00327241, -0.00115248, -0.00201679, -0.0014...  \n",
       "4      [0.0394794, -0.010021, -0.029873, -0.0161998, ...  \n",
       "5      [0.100866, -0.0314715, -0.0761508, -0.0424768,...  \n",
       "6      [0.0292667, -0.0106207, -0.0210769, -0.0114245...  \n",
       "7      [0.0240211, -0.00689577, -0.0188331, -0.010171...  \n",
       "8      [0.0852398, -0.0250814, -0.0657066, -0.035448,...  \n",
       "9      [0.0129259, -0.00435273, -0.00969217, -0.00527...  \n",
       "10     [0.0392042, -0.0114455, -0.0306347, -0.0162629...  \n",
       "11     [0.0175407, -0.00493128, -0.0140336, -0.007674...  \n",
       "12     [0.0858689, -0.0249692, -0.0665434, -0.0368275...  \n",
       "13     [0.0227818, -0.00639849, -0.0169191, -0.008711...  \n",
       "14     [0.0909464, -0.0254342, -0.0703948, -0.0383577...  \n",
       "15     [0.0706918, -0.0236451, -0.0530834, -0.0297687...  \n",
       "16     [0.00480884, -0.0016119, -0.00261074, -0.00233...  \n",
       "17     [0.0213621, -0.00417516, -0.018074, -0.0093190...  \n",
       "18     [0.0240302, -0.00594771, -0.0190384, -0.010551...  \n",
       "19     [0.0408046, -0.0114803, -0.0323144, -0.016593,...  \n",
       "20     [0.0333768, -0.00928028, -0.0261201, -0.01418,...  \n",
       "21     [0.0077116, -0.00130052, -0.00711525, -0.00397...  \n",
       "22     [0.0676572, -0.0225537, -0.0503003, -0.028579,...  \n",
       "23     [0.0636823, -0.016129, -0.0510815, -0.0269802,...  \n",
       "24     [0.0917181, -0.0275947, -0.0697849, -0.0374219...  \n",
       "25     [0.0631521, -0.0217007, -0.0455982, -0.0257955...  \n",
       "26     [0.1531, -0.0476679, -0.117371, -0.064108, -0....  \n",
       "27     [0.066665, -0.020417, -0.0519872, -0.028647, -...  \n",
       "28     [0.0707871, -0.0224884, -0.0533613, -0.0292062...  \n",
       "29     [0.00054161, -0.00161352, 0.00134368, -0.00022...  \n",
       "...                                                  ...  \n",
       "40861  [0.0408046, -0.0114803, -0.0323144, -0.016593,...  \n",
       "40862  [0.0134873, -0.00337769, -0.0103865, -0.005911...  \n",
       "40863  [0.0709266, -0.0185385, -0.0563127, -0.0299881...  \n",
       "40864  [0.0469263, -0.0138019, -0.0369568, -0.019849,...  \n",
       "40865  [0.073815, -0.0238156, -0.0556117, -0.031591, ...  \n",
       "40866  [0.00939157, -0.00297718, -0.00643033, -0.0038...  \n",
       "40867  [0.0196696, -0.00696141, -0.0143299, -0.008311...  \n",
       "40868  [0.0254562, -0.00740992, -0.0191071, -0.010470...  \n",
       "40869  [0.0377592, -0.0115988, -0.0289635, -0.0154142...  \n",
       "40870  [0.0369503, -0.0111827, -0.0281125, -0.0155039...  \n",
       "40871  [0.0247048, -0.00727072, -0.0188775, -0.010229...  \n",
       "40872  [0.0531626, -0.0157875, -0.0408916, -0.0216745...  \n",
       "40873  [0.222506, -0.0675589, -0.170424, -0.0926936, ...  \n",
       "40874  [0.0878936, -0.0263013, -0.0668723, -0.0366019...  \n",
       "40875  [0.0678371, -0.0196763, -0.0543924, -0.0293938...  \n",
       "40876  [0.0416937, -0.0121123, -0.0324507, -0.0176429...  \n",
       "40877  [0.116197, -0.0360797, -0.0901159, -0.0490627,...  \n",
       "40878  [0.208201, -0.0685887, -0.155627, -0.0861897, ...  \n",
       "40879  [0.00177933, -0.000869901, -0.00025406, -0.000...  \n",
       "40880  [0.0636634, -0.0192984, -0.0483655, -0.0272346...  \n",
       "40881  [0.0847665, -0.0226211, -0.0664866, -0.0353711...  \n",
       "40882  [0.0207693, -0.00558846, -0.0160695, -0.008954...  \n",
       "40883  [0.139887, -0.0412575, -0.107297, -0.0587132, ...  \n",
       "40884  [0.00312324, 0.000893107, -0.0024383, -0.00116...  \n",
       "40885  [0.0417321, -0.0118092, -0.0338788, -0.017286,...  \n",
       "40886  [0.140945, -0.041467, -0.1088, -0.0592356, -0....  \n",
       "40887  [0.0714271, -0.0246368, -0.0531592, -0.029328,...  \n",
       "40888  [0.067249, -0.020963, -0.0513628, -0.0285888, ...  \n",
       "40889  [0.0665898, -0.0215808, -0.0496064, -0.0280531...  \n",
       "40890  [0.129629, -0.0411024, -0.0974863, -0.0539137,...  \n",
       "\n",
       "[40891 rows x 4 columns]"
      ]
     },
     "execution_count": 34,
     "metadata": {},
     "output_type": "execute_result"
    }
   ],
   "source": [
    "userPandas"
   ]
  },
  {
   "cell_type": "markdown",
   "metadata": {},
   "source": [
    "Product and rating column not needed"
   ]
  },
  {
   "cell_type": "code",
   "execution_count": 35,
   "metadata": {
    "collapsed": true
   },
   "outputs": [],
   "source": [
    "del userPandas['_2']\n",
    "del userPandas['_3']"
   ]
  },
  {
   "cell_type": "markdown",
   "metadata": {},
   "source": [
    "Linear combination of feature vectors"
   ]
  },
  {
   "cell_type": "code",
   "execution_count": 36,
   "metadata": {
    "collapsed": true
   },
   "outputs": [],
   "source": [
    "userPandas = userPandas.groupby(['_1']).sum()"
   ]
  },
  {
   "cell_type": "markdown",
   "metadata": {},
   "source": [
    "Normalize the user feature vectors"
   ]
  },
  {
   "cell_type": "code",
   "execution_count": 37,
   "metadata": {},
   "outputs": [
    {
     "name": "stderr",
     "output_type": "stream",
     "text": [
      "/Users/lakshya/anaconda/lib/python2.7/site-packages/sklearn/utils/fixes.py:313: FutureWarning: numpy not_equal will not check object identity in the future. The comparison did not return the same result as suggested by the identity (`is`)) and will change.\n",
      "  _nan_object_mask = _nan_object_array != _nan_object_array\n"
     ]
    }
   ],
   "source": [
    "from sklearn.preprocessing import Normalizer"
   ]
  },
  {
   "cell_type": "code",
   "execution_count": 38,
   "metadata": {
    "collapsed": true
   },
   "outputs": [],
   "source": [
    "for index, row in userPandas.iterrows():\n",
    "    vector = np.array(row['Vector']).reshape(1, -1)\n",
    "    transformer = Normalizer().fit(vector)\n",
    "    userPandas.at[index,'Vector'] = transformer.transform(vector)"
   ]
  },
  {
   "cell_type": "code",
   "execution_count": 39,
   "metadata": {},
   "outputs": [
    {
     "data": {
      "text/html": [
       "<div>\n",
       "<style>\n",
       "    .dataframe thead tr:only-child th {\n",
       "        text-align: right;\n",
       "    }\n",
       "\n",
       "    .dataframe thead th {\n",
       "        text-align: left;\n",
       "    }\n",
       "\n",
       "    .dataframe tbody tr th {\n",
       "        vertical-align: top;\n",
       "    }\n",
       "</style>\n",
       "<table border=\"1\" class=\"dataframe\">\n",
       "  <thead>\n",
       "    <tr style=\"text-align: right;\">\n",
       "      <th></th>\n",
       "      <th>Vector</th>\n",
       "    </tr>\n",
       "    <tr>\n",
       "      <th>_1</th>\n",
       "      <th></th>\n",
       "    </tr>\n",
       "  </thead>\n",
       "  <tbody>\n",
       "    <tr>\n",
       "      <th>-0-hVEpwWEcJLJoGq3rE3g</th>\n",
       "      <td>[[0.0361696, -0.0106016, -0.0278118, -0.015141...</td>\n",
       "    </tr>\n",
       "    <tr>\n",
       "      <th>-2OB54nQ6FsGLUM-R1KXnA</th>\n",
       "      <td>[[0.0362862, -0.0106815, -0.0278889, -0.015098...</td>\n",
       "    </tr>\n",
       "    <tr>\n",
       "      <th>-ARdx8hOcEWlMDjzwLYZ_g</th>\n",
       "      <td>[[0.0361009, -0.0106476, -0.0278246, -0.015111...</td>\n",
       "    </tr>\n",
       "    <tr>\n",
       "      <th>-Pk25bOBsvemFaWKDBVBzA</th>\n",
       "      <td>[[0.0363492, -0.0108974, -0.0277772, -0.015049...</td>\n",
       "    </tr>\n",
       "    <tr>\n",
       "      <th>-Q2wBtscwW6JOqlBndji4A</th>\n",
       "      <td>[[0.0361955, -0.0107154, -0.0277945, -0.015060...</td>\n",
       "    </tr>\n",
       "    <tr>\n",
       "      <th>-Q4bjWlbxmb1yKP4U7OODg</th>\n",
       "      <td>[[0.0363478, -0.0107216, -0.0278263, -0.015063...</td>\n",
       "    </tr>\n",
       "    <tr>\n",
       "      <th>-SDx-d5jppC4OBBosLVpYw</th>\n",
       "      <td>[[0.0360146, -0.0103094, -0.0279749, -0.015155...</td>\n",
       "    </tr>\n",
       "    <tr>\n",
       "      <th>-XgVXGJnOnW0kQEol6O3Pg</th>\n",
       "      <td>[[0.0362197, -0.0106756, -0.027751, -0.0151491...</td>\n",
       "    </tr>\n",
       "    <tr>\n",
       "      <th>-Y6tXYPYqeVy37-L5p0rMw</th>\n",
       "      <td>[[0.0360319, -0.0105734, -0.0278866, -0.01509,...</td>\n",
       "    </tr>\n",
       "    <tr>\n",
       "      <th>-a873HRQxWRRobMNT4xOKg</th>\n",
       "      <td>[[0.0359095, -0.0102367, -0.0279689, -0.015127...</td>\n",
       "    </tr>\n",
       "    <tr>\n",
       "      <th>-c_t-8ORqOZBuKE-jdY8aQ</th>\n",
       "      <td>[[0.0359851, -0.0105629, -0.0279179, -0.015118...</td>\n",
       "    </tr>\n",
       "    <tr>\n",
       "      <th>-dV2GaHNJHhDYbrmu48ZDQ</th>\n",
       "      <td>[[0.0360961, -0.0105179, -0.0279333, -0.015114...</td>\n",
       "    </tr>\n",
       "    <tr>\n",
       "      <th>-hietrA8M58asfpyJkCyiA</th>\n",
       "      <td>[[0.0362613, -0.0107112, -0.0278534, -0.015144...</td>\n",
       "    </tr>\n",
       "    <tr>\n",
       "      <th>-hnBzgVoRoqLrGVSxO0ilg</th>\n",
       "      <td>[[0.0360754, -0.0106475, -0.0278389, -0.015124...</td>\n",
       "    </tr>\n",
       "    <tr>\n",
       "      <th>-kE5zO-54cQUmcG6zvfZtA</th>\n",
       "      <td>[[0.0362637, -0.0108959, -0.0278447, -0.015131...</td>\n",
       "    </tr>\n",
       "    <tr>\n",
       "      <th>-sv8-a09Psq5CMzmg6E4OQ</th>\n",
       "      <td>[[0.0361926, -0.0106236, -0.0279757, -0.015112...</td>\n",
       "    </tr>\n",
       "    <tr>\n",
       "      <th>-t9kQSbZ0Hnehu-L8GmSZA</th>\n",
       "      <td>[[0.0360853, -0.0103707, -0.0279364, -0.015125...</td>\n",
       "    </tr>\n",
       "    <tr>\n",
       "      <th>-x8cmjyJoeBQhC9XySyUzQ</th>\n",
       "      <td>[[0.0364592, -0.011295, -0.0276649, -0.0151017...</td>\n",
       "    </tr>\n",
       "    <tr>\n",
       "      <th>-zoKnhRd4Knnj_P-qO0GPQ</th>\n",
       "      <td>[[0.0360969, -0.0104023, -0.0278612, -0.015159...</td>\n",
       "    </tr>\n",
       "    <tr>\n",
       "      <th>0-zHvlwR7ZmVeasLRGwpag</th>\n",
       "      <td>[[0.0359573, -0.0102586, -0.0279014, -0.015140...</td>\n",
       "    </tr>\n",
       "    <tr>\n",
       "      <th>01bmnye5yXRyDZ5Je6tnKg</th>\n",
       "      <td>[[0.0361487, -0.0105317, -0.0279055, -0.015154...</td>\n",
       "    </tr>\n",
       "    <tr>\n",
       "      <th>04Yay6wY_leHMTxLV7h4WA</th>\n",
       "      <td>[[0.0360954, -0.010268, -0.0279855, -0.0151645...</td>\n",
       "    </tr>\n",
       "    <tr>\n",
       "      <th>0BxF-X_WBAoL6Zk46RzhYQ</th>\n",
       "      <td>[[0.0360642, -0.0106957, -0.0278231, -0.015095...</td>\n",
       "    </tr>\n",
       "    <tr>\n",
       "      <th>0EhPIlDozxGKpbbHRr6vZg</th>\n",
       "      <td>[[0.0359921, -0.0103034, -0.0279362, -0.015142...</td>\n",
       "    </tr>\n",
       "    <tr>\n",
       "      <th>0JIiQelaItruoV6F9pWHvw</th>\n",
       "      <td>[[0.0362842, -0.0109173, -0.0278014, -0.015149...</td>\n",
       "    </tr>\n",
       "    <tr>\n",
       "      <th>0KhRPd66BZGHCtsb9mGh_g</th>\n",
       "      <td>[[0.036371, -0.0108901, -0.0278108, -0.0151298...</td>\n",
       "    </tr>\n",
       "    <tr>\n",
       "      <th>0KihFGLcS_O2sb7XaCUZ-w</th>\n",
       "      <td>[[0.0360784, -0.0105532, -0.0279452, -0.015148...</td>\n",
       "    </tr>\n",
       "    <tr>\n",
       "      <th>0N91KZHstHSnKwJVRa2p2g</th>\n",
       "      <td>[[0.0361188, -0.0104911, -0.0278986, -0.015078...</td>\n",
       "    </tr>\n",
       "    <tr>\n",
       "      <th>0N9bSCmoJMoGmR0EldzjQg</th>\n",
       "      <td>[[0.0360428, -0.0104771, -0.0278837, -0.015102...</td>\n",
       "    </tr>\n",
       "    <tr>\n",
       "      <th>0Pj91NFPtXWeIDaLp2kuyw</th>\n",
       "      <td>[[0.0361649, -0.0104679, -0.0279603, -0.015115...</td>\n",
       "    </tr>\n",
       "    <tr>\n",
       "      <th>...</th>\n",
       "      <td>...</td>\n",
       "    </tr>\n",
       "    <tr>\n",
       "      <th>yQsX1CXh8rhpcm9Hg3L94A</th>\n",
       "      <td>[[0.0360833, -0.0107138, -0.0278477, -0.015045...</td>\n",
       "    </tr>\n",
       "    <tr>\n",
       "      <th>yR2Ck_FztBOWA66oV16OEw</th>\n",
       "      <td>[[0.0357327, -0.00999976, -0.0279221, -0.01508...</td>\n",
       "    </tr>\n",
       "    <tr>\n",
       "      <th>yVMvS4Q7JTxHALm8CTwSZQ</th>\n",
       "      <td>[[0.0362585, -0.010451, -0.0279354, -0.0151345...</td>\n",
       "    </tr>\n",
       "    <tr>\n",
       "      <th>y_XgW02VKRwDKGhHq17yuA</th>\n",
       "      <td>[[0.0365081, -0.0110785, -0.0277268, -0.015149...</td>\n",
       "    </tr>\n",
       "    <tr>\n",
       "      <th>yaBIVHDxaUBN2YHQ8-YiuQ</th>\n",
       "      <td>[[0.0360435, -0.0104496, -0.0279089, -0.015168...</td>\n",
       "    </tr>\n",
       "    <tr>\n",
       "      <th>yeQ_7p0DoGcHtRC71mE60w</th>\n",
       "      <td>[[0.0361809, -0.0106063, -0.0278124, -0.015092...</td>\n",
       "    </tr>\n",
       "    <tr>\n",
       "      <th>yfK0Od09W_D5jzXBzRgnlA</th>\n",
       "      <td>[[0.0362539, -0.0107857, -0.0278716, -0.015162...</td>\n",
       "    </tr>\n",
       "    <tr>\n",
       "      <th>yo0a5UXcvWt_WxPF_lgiag</th>\n",
       "      <td>[[0.0360779, -0.0107056, -0.0278797, -0.015119...</td>\n",
       "    </tr>\n",
       "    <tr>\n",
       "      <th>yuSuzAo5BcJLono1klyY8w</th>\n",
       "      <td>[[0.0361104, -0.0107534, -0.0278122, -0.015128...</td>\n",
       "    </tr>\n",
       "    <tr>\n",
       "      <th>yvGd8gLYJX5UH-I2CUzUQw</th>\n",
       "      <td>[[0.0360435, -0.0107675, -0.0278037, -0.015076...</td>\n",
       "    </tr>\n",
       "    <tr>\n",
       "      <th>yyGp1_3i_zhfpBVIY4Xaww</th>\n",
       "      <td>[[0.0359884, -0.01022, -0.0280174, -0.015063, ...</td>\n",
       "    </tr>\n",
       "    <tr>\n",
       "      <th>z2YVGKKcup6mjQmDQ6arEg</th>\n",
       "      <td>[[0.0360492, -0.0105092, -0.0278619, -0.015097...</td>\n",
       "    </tr>\n",
       "    <tr>\n",
       "      <th>z4MQzyewTRzSoStg0NwL-w</th>\n",
       "      <td>[[0.0360174, -0.010475, -0.0278675, -0.0151392...</td>\n",
       "    </tr>\n",
       "    <tr>\n",
       "      <th>zATgdMp_5gL4kYPu7aVdUg</th>\n",
       "      <td>[[0.0362816, -0.0109759, -0.0278171, -0.015146...</td>\n",
       "    </tr>\n",
       "    <tr>\n",
       "      <th>zAzCOnCSS1DiceIWXKQQWw</th>\n",
       "      <td>[[0.036142, -0.0105597, -0.0279671, -0.0152013...</td>\n",
       "    </tr>\n",
       "    <tr>\n",
       "      <th>zC70QZxr3nhQP3TKF3uTjA</th>\n",
       "      <td>[[0.0361975, -0.0108166, -0.0278696, -0.015151...</td>\n",
       "    </tr>\n",
       "    <tr>\n",
       "      <th>zCNkLqHEImSxUlhljSXKEg</th>\n",
       "      <td>[[0.0359072, -0.0103783, -0.0278721, -0.014962...</td>\n",
       "    </tr>\n",
       "    <tr>\n",
       "      <th>zFCuveEe6M-ijY1iy23IJg</th>\n",
       "      <td>[[0.0360422, -0.0105592, -0.0278694, -0.015156...</td>\n",
       "    </tr>\n",
       "    <tr>\n",
       "      <th>zPwZQEVmFg9cbmsEwLpA6g</th>\n",
       "      <td>[[0.036159, -0.0107367, -0.0278311, -0.0151589...</td>\n",
       "    </tr>\n",
       "    <tr>\n",
       "      <th>zTCC1-ITmJvo14PxINcw6g</th>\n",
       "      <td>[[0.035868, -0.0104382, -0.027793, -0.0151351,...</td>\n",
       "    </tr>\n",
       "    <tr>\n",
       "      <th>zTCwJg0hPY_cb3vWY0XMbg</th>\n",
       "      <td>[[0.0361941, -0.0109759, -0.0276677, -0.015069...</td>\n",
       "    </tr>\n",
       "    <tr>\n",
       "      <th>zUQVfRIwoDJb_-8qiWUNwA</th>\n",
       "      <td>[[0.036373, -0.0109468, -0.0278157, -0.0150896...</td>\n",
       "    </tr>\n",
       "    <tr>\n",
       "      <th>z_ueJdSU51z4RTU9Fg5Ikg</th>\n",
       "      <td>[[0.0360619, -0.0107926, -0.0278208, -0.015157...</td>\n",
       "    </tr>\n",
       "    <tr>\n",
       "      <th>zaNUeZZ-Xm21o3fZ0CUbXA</th>\n",
       "      <td>[[0.0360824, -0.0107633, -0.0277944, -0.015146...</td>\n",
       "    </tr>\n",
       "    <tr>\n",
       "      <th>zg6LAy9gGLVH9JtcYP9gJg</th>\n",
       "      <td>[[0.0360664, -0.0106343, -0.0278372, -0.015088...</td>\n",
       "    </tr>\n",
       "    <tr>\n",
       "      <th>zg6lm7DLKJArzFxLDILhwQ</th>\n",
       "      <td>[[0.035924, -0.0105046, -0.0277859, -0.0151036...</td>\n",
       "    </tr>\n",
       "    <tr>\n",
       "      <th>zg84sSf8RSC4bKfSHO6rpA</th>\n",
       "      <td>[[0.03651, -0.0112785, -0.0278016, -0.0151428,...</td>\n",
       "    </tr>\n",
       "    <tr>\n",
       "      <th>zgo6ehbfeMOcsG9bgofMNg</th>\n",
       "      <td>[[0.0359693, -0.0103257, -0.0279109, -0.015112...</td>\n",
       "    </tr>\n",
       "    <tr>\n",
       "      <th>zh8-XfjqlwAxf--RS4azzg</th>\n",
       "      <td>[[0.036124, -0.0106435, -0.0279052, -0.0151361...</td>\n",
       "    </tr>\n",
       "    <tr>\n",
       "      <th>zokgpfAn1onJ1DppA1DTDw</th>\n",
       "      <td>[[0.0359662, -0.0101693, -0.0279368, -0.015050...</td>\n",
       "    </tr>\n",
       "  </tbody>\n",
       "</table>\n",
       "<p>987 rows × 1 columns</p>\n",
       "</div>"
      ],
      "text/plain": [
       "                                                                   Vector\n",
       "_1                                                                       \n",
       "-0-hVEpwWEcJLJoGq3rE3g  [[0.0361696, -0.0106016, -0.0278118, -0.015141...\n",
       "-2OB54nQ6FsGLUM-R1KXnA  [[0.0362862, -0.0106815, -0.0278889, -0.015098...\n",
       "-ARdx8hOcEWlMDjzwLYZ_g  [[0.0361009, -0.0106476, -0.0278246, -0.015111...\n",
       "-Pk25bOBsvemFaWKDBVBzA  [[0.0363492, -0.0108974, -0.0277772, -0.015049...\n",
       "-Q2wBtscwW6JOqlBndji4A  [[0.0361955, -0.0107154, -0.0277945, -0.015060...\n",
       "-Q4bjWlbxmb1yKP4U7OODg  [[0.0363478, -0.0107216, -0.0278263, -0.015063...\n",
       "-SDx-d5jppC4OBBosLVpYw  [[0.0360146, -0.0103094, -0.0279749, -0.015155...\n",
       "-XgVXGJnOnW0kQEol6O3Pg  [[0.0362197, -0.0106756, -0.027751, -0.0151491...\n",
       "-Y6tXYPYqeVy37-L5p0rMw  [[0.0360319, -0.0105734, -0.0278866, -0.01509,...\n",
       "-a873HRQxWRRobMNT4xOKg  [[0.0359095, -0.0102367, -0.0279689, -0.015127...\n",
       "-c_t-8ORqOZBuKE-jdY8aQ  [[0.0359851, -0.0105629, -0.0279179, -0.015118...\n",
       "-dV2GaHNJHhDYbrmu48ZDQ  [[0.0360961, -0.0105179, -0.0279333, -0.015114...\n",
       "-hietrA8M58asfpyJkCyiA  [[0.0362613, -0.0107112, -0.0278534, -0.015144...\n",
       "-hnBzgVoRoqLrGVSxO0ilg  [[0.0360754, -0.0106475, -0.0278389, -0.015124...\n",
       "-kE5zO-54cQUmcG6zvfZtA  [[0.0362637, -0.0108959, -0.0278447, -0.015131...\n",
       "-sv8-a09Psq5CMzmg6E4OQ  [[0.0361926, -0.0106236, -0.0279757, -0.015112...\n",
       "-t9kQSbZ0Hnehu-L8GmSZA  [[0.0360853, -0.0103707, -0.0279364, -0.015125...\n",
       "-x8cmjyJoeBQhC9XySyUzQ  [[0.0364592, -0.011295, -0.0276649, -0.0151017...\n",
       "-zoKnhRd4Knnj_P-qO0GPQ  [[0.0360969, -0.0104023, -0.0278612, -0.015159...\n",
       "0-zHvlwR7ZmVeasLRGwpag  [[0.0359573, -0.0102586, -0.0279014, -0.015140...\n",
       "01bmnye5yXRyDZ5Je6tnKg  [[0.0361487, -0.0105317, -0.0279055, -0.015154...\n",
       "04Yay6wY_leHMTxLV7h4WA  [[0.0360954, -0.010268, -0.0279855, -0.0151645...\n",
       "0BxF-X_WBAoL6Zk46RzhYQ  [[0.0360642, -0.0106957, -0.0278231, -0.015095...\n",
       "0EhPIlDozxGKpbbHRr6vZg  [[0.0359921, -0.0103034, -0.0279362, -0.015142...\n",
       "0JIiQelaItruoV6F9pWHvw  [[0.0362842, -0.0109173, -0.0278014, -0.015149...\n",
       "0KhRPd66BZGHCtsb9mGh_g  [[0.036371, -0.0108901, -0.0278108, -0.0151298...\n",
       "0KihFGLcS_O2sb7XaCUZ-w  [[0.0360784, -0.0105532, -0.0279452, -0.015148...\n",
       "0N91KZHstHSnKwJVRa2p2g  [[0.0361188, -0.0104911, -0.0278986, -0.015078...\n",
       "0N9bSCmoJMoGmR0EldzjQg  [[0.0360428, -0.0104771, -0.0278837, -0.015102...\n",
       "0Pj91NFPtXWeIDaLp2kuyw  [[0.0361649, -0.0104679, -0.0279603, -0.015115...\n",
       "...                                                                   ...\n",
       "yQsX1CXh8rhpcm9Hg3L94A  [[0.0360833, -0.0107138, -0.0278477, -0.015045...\n",
       "yR2Ck_FztBOWA66oV16OEw  [[0.0357327, -0.00999976, -0.0279221, -0.01508...\n",
       "yVMvS4Q7JTxHALm8CTwSZQ  [[0.0362585, -0.010451, -0.0279354, -0.0151345...\n",
       "y_XgW02VKRwDKGhHq17yuA  [[0.0365081, -0.0110785, -0.0277268, -0.015149...\n",
       "yaBIVHDxaUBN2YHQ8-YiuQ  [[0.0360435, -0.0104496, -0.0279089, -0.015168...\n",
       "yeQ_7p0DoGcHtRC71mE60w  [[0.0361809, -0.0106063, -0.0278124, -0.015092...\n",
       "yfK0Od09W_D5jzXBzRgnlA  [[0.0362539, -0.0107857, -0.0278716, -0.015162...\n",
       "yo0a5UXcvWt_WxPF_lgiag  [[0.0360779, -0.0107056, -0.0278797, -0.015119...\n",
       "yuSuzAo5BcJLono1klyY8w  [[0.0361104, -0.0107534, -0.0278122, -0.015128...\n",
       "yvGd8gLYJX5UH-I2CUzUQw  [[0.0360435, -0.0107675, -0.0278037, -0.015076...\n",
       "yyGp1_3i_zhfpBVIY4Xaww  [[0.0359884, -0.01022, -0.0280174, -0.015063, ...\n",
       "z2YVGKKcup6mjQmDQ6arEg  [[0.0360492, -0.0105092, -0.0278619, -0.015097...\n",
       "z4MQzyewTRzSoStg0NwL-w  [[0.0360174, -0.010475, -0.0278675, -0.0151392...\n",
       "zATgdMp_5gL4kYPu7aVdUg  [[0.0362816, -0.0109759, -0.0278171, -0.015146...\n",
       "zAzCOnCSS1DiceIWXKQQWw  [[0.036142, -0.0105597, -0.0279671, -0.0152013...\n",
       "zC70QZxr3nhQP3TKF3uTjA  [[0.0361975, -0.0108166, -0.0278696, -0.015151...\n",
       "zCNkLqHEImSxUlhljSXKEg  [[0.0359072, -0.0103783, -0.0278721, -0.014962...\n",
       "zFCuveEe6M-ijY1iy23IJg  [[0.0360422, -0.0105592, -0.0278694, -0.015156...\n",
       "zPwZQEVmFg9cbmsEwLpA6g  [[0.036159, -0.0107367, -0.0278311, -0.0151589...\n",
       "zTCC1-ITmJvo14PxINcw6g  [[0.035868, -0.0104382, -0.027793, -0.0151351,...\n",
       "zTCwJg0hPY_cb3vWY0XMbg  [[0.0361941, -0.0109759, -0.0276677, -0.015069...\n",
       "zUQVfRIwoDJb_-8qiWUNwA  [[0.036373, -0.0109468, -0.0278157, -0.0150896...\n",
       "z_ueJdSU51z4RTU9Fg5Ikg  [[0.0360619, -0.0107926, -0.0278208, -0.015157...\n",
       "zaNUeZZ-Xm21o3fZ0CUbXA  [[0.0360824, -0.0107633, -0.0277944, -0.015146...\n",
       "zg6LAy9gGLVH9JtcYP9gJg  [[0.0360664, -0.0106343, -0.0278372, -0.015088...\n",
       "zg6lm7DLKJArzFxLDILhwQ  [[0.035924, -0.0105046, -0.0277859, -0.0151036...\n",
       "zg84sSf8RSC4bKfSHO6rpA  [[0.03651, -0.0112785, -0.0278016, -0.0151428,...\n",
       "zgo6ehbfeMOcsG9bgofMNg  [[0.0359693, -0.0103257, -0.0279109, -0.015112...\n",
       "zh8-XfjqlwAxf--RS4azzg  [[0.036124, -0.0106435, -0.0279052, -0.0151361...\n",
       "zokgpfAn1onJ1DppA1DTDw  [[0.0359662, -0.0101693, -0.0279368, -0.015050...\n",
       "\n",
       "[987 rows x 1 columns]"
      ]
     },
     "execution_count": 39,
     "metadata": {},
     "output_type": "execute_result"
    }
   ],
   "source": [
    "userPandas"
   ]
  },
  {
   "cell_type": "markdown",
   "metadata": {},
   "source": [
    "### Create user numpy matrix from feature vectors"
   ]
  },
  {
   "cell_type": "code",
   "execution_count": 41,
   "metadata": {
    "collapsed": true
   },
   "outputs": [],
   "source": [
    "user_matrix = np.zeros((len(userPandas), len(feature_vectors[0])))\n",
    "idx = 0\n",
    "for index, row in userPandas.iterrows():\n",
    "    vector = np.array(row['Vector'])[0]\n",
    "    user_matrix[idx] = vector\n",
    "    idx += 1\n",
    "    "
   ]
  },
  {
   "cell_type": "code",
   "execution_count": 42,
   "metadata": {},
   "outputs": [
    {
     "data": {
      "text/plain": [
       "array([[  3.61696221e-02,  -1.06016286e-02,  -2.78117526e-02, ...,\n",
       "         -3.76913790e-03,  -1.75396490e-05,   3.06606255e-02],\n",
       "       [  3.62862274e-02,  -1.06814979e-02,  -2.78889313e-02, ...,\n",
       "         -3.69135523e-03,  -7.47819286e-05,   3.06509361e-02],\n",
       "       [  3.61008830e-02,  -1.06476303e-02,  -2.78246421e-02, ...,\n",
       "         -3.72381089e-03,   2.14886095e-05,   3.06694750e-02],\n",
       "       ..., \n",
       "       [  3.59692872e-02,  -1.03257420e-02,  -2.79108584e-02, ...,\n",
       "         -3.65439383e-03,   4.39439231e-04,   3.08899973e-02],\n",
       "       [  3.61240320e-02,  -1.06435344e-02,  -2.79051680e-02, ...,\n",
       "         -3.73188732e-03,   8.95461108e-06,   3.05845160e-02],\n",
       "       [  3.59661616e-02,  -1.01692686e-02,  -2.79367883e-02, ...,\n",
       "         -3.79038579e-03,   7.52814580e-04,   3.10796779e-02]])"
      ]
     },
     "execution_count": 42,
     "metadata": {},
     "output_type": "execute_result"
    }
   ],
   "source": [
    "user_matrix"
   ]
  },
  {
   "cell_type": "markdown",
   "metadata": {},
   "source": [
    "### Create product numpy matrix from feature vectors"
   ]
  },
  {
   "cell_type": "code",
   "execution_count": 43,
   "metadata": {
    "collapsed": true
   },
   "outputs": [],
   "source": [
    "prod_matrix = np.zeros((len(prodPandas), len(feature_vectors[0])))\n",
    "idx = 0\n",
    "for index, row in prodPandas.iterrows():\n",
    "    vector = np.array(row['Vector'])\n",
    "    prod_matrix[idx] = vector\n",
    "    idx += 1"
   ]
  },
  {
   "cell_type": "code",
   "execution_count": 44,
   "metadata": {},
   "outputs": [
    {
     "data": {
      "text/plain": [
       "array([[  2.05016192e-02,  -6.44904654e-03,  -1.54693164e-02, ...,\n",
       "         -2.04841513e-03,  -5.43475966e-04,   1.67470761e-02],\n",
       "       [  2.50453204e-02,  -7.34597305e-03,  -1.95707120e-02, ...,\n",
       "         -2.71955272e-03,   6.84636107e-05,   2.13790480e-02],\n",
       "       [  6.21634116e-03,  -2.10195687e-03,  -4.74029174e-03, ...,\n",
       "         -6.91560621e-04,  -2.74897699e-04,   5.17081236e-03],\n",
       "       ..., \n",
       "       [  9.24581010e-03,  -2.92712334e-03,  -6.88633136e-03, ...,\n",
       "         -1.01360527e-03,  -3.39465652e-04,   7.64718931e-03],\n",
       "       [  5.85718034e-03,  -1.65172527e-03,  -4.48580924e-03, ...,\n",
       "         -7.36568589e-04,   2.33735365e-04,   5.13249310e-03],\n",
       "       [  1.12336557e-02,  -3.15764849e-03,  -8.67991522e-03, ...,\n",
       "         -1.27841369e-03,  -2.52891594e-04,   9.25785489e-03]])"
      ]
     },
     "execution_count": 44,
     "metadata": {},
     "output_type": "execute_result"
    }
   ],
   "source": [
    "prod_matrix"
   ]
  },
  {
   "cell_type": "markdown",
   "metadata": {},
   "source": [
    "### Compute cosine similarity by taking dot product"
   ]
  },
  {
   "cell_type": "code",
   "execution_count": 45,
   "metadata": {
    "collapsed": true
   },
   "outputs": [],
   "source": [
    "similarity_matrix = np.dot(user_matrix, prod_matrix.T)"
   ]
  },
  {
   "cell_type": "code",
   "execution_count": 46,
   "metadata": {},
   "outputs": [
    {
     "data": {
      "text/plain": [
       "(987, 3098)"
      ]
     },
     "execution_count": 46,
     "metadata": {},
     "output_type": "execute_result"
    }
   ],
   "source": [
    "similarity_matrix.shape"
   ]
  },
  {
   "cell_type": "markdown",
   "metadata": {},
   "source": [
    "### Flatten similarity matrix to related with user and products"
   ]
  },
  {
   "cell_type": "code",
   "execution_count": 47,
   "metadata": {
    "collapsed": true
   },
   "outputs": [],
   "source": [
    "prod = prodPandas['_1'].values\n",
    "user = userPandas.index.values"
   ]
  },
  {
   "cell_type": "code",
   "execution_count": 48,
   "metadata": {
    "collapsed": true
   },
   "outputs": [],
   "source": [
    "zf = similarity_matrix.flatten()\n",
    "xr = np.repeat(user, prod.size)\n",
    "yt = np.tile(prod, user.size)\n",
    "d = np.stack((xr, yt, zf), axis=-1)"
   ]
  },
  {
   "cell_type": "code",
   "execution_count": 49,
   "metadata": {},
   "outputs": [
    {
     "data": {
      "text/plain": [
       "(3057726, 3)"
      ]
     },
     "execution_count": 49,
     "metadata": {},
     "output_type": "execute_result"
    }
   ],
   "source": [
    "d.shape"
   ]
  },
  {
   "cell_type": "markdown",
   "metadata": {},
   "source": [
    "### Convert similarity matrix to RDD"
   ]
  },
  {
   "cell_type": "code",
   "execution_count": 50,
   "metadata": {
    "collapsed": true
   },
   "outputs": [],
   "source": [
    "similarity_rdd = sc.parallelize(d)"
   ]
  },
  {
   "cell_type": "code",
   "execution_count": 51,
   "metadata": {},
   "outputs": [
    {
     "data": {
      "text/plain": [
       "[array([u'-0-hVEpwWEcJLJoGq3rE3g', u'5REYrZfsX3m4E3FTwovp5Q',\n",
       "        0.5584845063387178], dtype=object),\n",
       " array([u'-0-hVEpwWEcJLJoGq3rE3g', u'HWrbZS1mxVRj2Y2VwMmDMg',\n",
       "        0.6976263497454933], dtype=object),\n",
       " array([u'-0-hVEpwWEcJLJoGq3rE3g', u'MvlQo4bev1eqp1q0HYOLHg',\n",
       "        0.16895888751936397], dtype=object),\n",
       " array([u'-0-hVEpwWEcJLJoGq3rE3g', u'X9Bql7RrPU5Mab5-hJsI8A',\n",
       "        0.2425728577085518], dtype=object),\n",
       " array([u'-0-hVEpwWEcJLJoGq3rE3g', u'owO2UkNKk9qrWWd_PTYLDA',\n",
       "        0.9567172341532354], dtype=object)]"
      ]
     },
     "execution_count": 51,
     "metadata": {},
     "output_type": "execute_result"
    }
   ],
   "source": [
    "similarity_rdd.take(5)"
   ]
  },
  {
   "cell_type": "markdown",
   "metadata": {},
   "source": [
    "### Use and Test Data for predictions"
   ]
  },
  {
   "cell_type": "code",
   "execution_count": 52,
   "metadata": {},
   "outputs": [
    {
     "data": {
      "text/plain": [
       "['1VVHf1BvtGC0aSCCIjQyiA,K5jY2W5Q3eNnwssV5UZtow,4,2016-11-16,2,2,2,past sunday one several time ive spirit its always eccentric fun time first music performance second hang recent visit sundays bingo bango spirit know pizza good drink also awesome last time get chard margarita time get tomatillo margarita hot ciders its always pleasant surprise see whats menu food drink drink little pricey drawback one coolest things spirit atmosphere its always super strange positive way really never know expect bingo bango definitely family appropriate its fun activity friends maybe even date doesnt mind something ordinary',\n",
       " 'QYKexxaOJQlseGWmc6soRg,rzByiKaj-bLeLz-zKNBQdg,2,2015-04-13,0,0,0,old cramp build lot enough employees staff keep demand cause long wait time',\n",
       " '-ARdx8hOcEWlMDjzwLYZ_g,3cbsPfoUUrysf-M8FI_0IA,4,2014-03-24,6,4,3,live long world without donut menu dont know group nine din three varieties donuts include lemon lavender chocolate espresso zeppolli amaze pepper donut concoction ever make donut order come five donut hole theyre big hole one two enough cant believe say thats even little true youll want entire order save room best yet come choose omelette day entr\\xc3\\xa9e couldnt tell goat cheese creamy goats cheese salad nice addition potatoes delightful touch underdone seat downstairs pretty frigid awesome space nonetheless warm joint bite its five star way cant wait visit e2 dinner serve donuts right',\n",
       " '2oTG2GrBpikkonRxQywI7Q,CFtZH4Skp9z3o4ToSywI4w,4,2015-04-02,0,0,0,month try place try years ago im actually quite surprise place get earlier review sample veggie burger goodness place event attend couple years ago become close top list try finally go friend couple weeks ago try veggie burger call hippie something another burger feel like tony tiger fry good beer good fry good venue wait staff pretty great around good yummy experience',\n",
       " 'B7aR8VlLMGzaJ7NHC-jeMQ,RC8NJlX3X2Eo240PU5zJWA,4,2013-02-16,1,0,0,food good find service tad slow italian place area would go first italian good yes excellent meatballs']"
      ]
     },
     "execution_count": 52,
     "metadata": {},
     "output_type": "execute_result"
    }
   ],
   "source": [
    "trainData.take(5)"
   ]
  },
  {
   "cell_type": "markdown",
   "metadata": {},
   "source": [
    "Create key on (user, product)"
   ]
  },
  {
   "cell_type": "code",
   "execution_count": 53,
   "metadata": {
    "collapsed": true
   },
   "outputs": [],
   "source": [
    "train_rdd = trainData.mapPartitions(lambda x: csv.reader(x)).map(lambda x: ((x[0], x[1]), float(x[2])))\n",
    "test_rdd = testData.mapPartitions(lambda x: csv.reader(x)).map(lambda x: ((x[0], x[1]), float(x[2])))"
   ]
  },
  {
   "cell_type": "code",
   "execution_count": 54,
   "metadata": {
    "collapsed": true
   },
   "outputs": [],
   "source": [
    "similarity_rdd = similarity_rdd.map(lambda x: ((x[0], x[1]), float(x[2])))"
   ]
  },
  {
   "cell_type": "code",
   "execution_count": 55,
   "metadata": {},
   "outputs": [
    {
     "data": {
      "text/plain": [
       "[((u'-0-hVEpwWEcJLJoGq3rE3g', u'5REYrZfsX3m4E3FTwovp5Q'), 0.5584845063387178),\n",
       " ((u'-0-hVEpwWEcJLJoGq3rE3g', u'HWrbZS1mxVRj2Y2VwMmDMg'), 0.6976263497454933),\n",
       " ((u'-0-hVEpwWEcJLJoGq3rE3g', u'MvlQo4bev1eqp1q0HYOLHg'), 0.16895888751936397),\n",
       " ((u'-0-hVEpwWEcJLJoGq3rE3g', u'X9Bql7RrPU5Mab5-hJsI8A'), 0.2425728577085518),\n",
       " ((u'-0-hVEpwWEcJLJoGq3rE3g', u'owO2UkNKk9qrWWd_PTYLDA'), 0.9567172341532354)]"
      ]
     },
     "execution_count": 55,
     "metadata": {},
     "output_type": "execute_result"
    }
   ],
   "source": [
    "similarity_rdd.take(5)"
   ]
  },
  {
   "cell_type": "markdown",
   "metadata": {},
   "source": [
    "Join similarity matrix with train and test RDD to take only similarity values for training and testing"
   ]
  },
  {
   "cell_type": "code",
   "execution_count": 56,
   "metadata": {
    "collapsed": true
   },
   "outputs": [],
   "source": [
    "train = similarity_rdd.join(train_rdd)\n",
    "test = similarity_rdd.join(test_rdd)"
   ]
  },
  {
   "cell_type": "code",
   "execution_count": 57,
   "metadata": {},
   "outputs": [
    {
     "data": {
      "text/plain": [
       "[((u'hHqH_E9FCI_B6WubV0jPYA', u'ZNdV9ytExuxPTXSN8i2xhw'),\n",
       "  (0.5929494120589855, 3.0)),\n",
       " ((u'V0pP_PQnWdtyKpF-pifiaw', u'Fpm3WvqtrAg2ueh_4pz7iA'),\n",
       "  (0.4222360846859405, 4.0)),\n",
       " ((u'IKnLl7SbuP0u6HS34jwHhw', u'guQww9yGHP7rRTea6zTnDg'),\n",
       "  (0.7562312611012413, 3.0)),\n",
       " ((u'4r33dXcE1oYZxjONrhxTiA', u'9gNko6cFCMZbvy1zhJ7-Xg'),\n",
       "  (0.503761942458243, 5.0)),\n",
       " ((u'Rem81Xoev05aqeA-mFbM4A', u'1LUaZFVMEjodl1tbAGF3sQ'),\n",
       "  (0.6223480746300942, 4.0))]"
      ]
     },
     "execution_count": 57,
     "metadata": {},
     "output_type": "execute_result"
    }
   ],
   "source": [
    "train.take(5)"
   ]
  },
  {
   "cell_type": "markdown",
   "metadata": {},
   "source": [
    "Convert RDD to List"
   ]
  },
  {
   "cell_type": "code",
   "execution_count": 58,
   "metadata": {
    "collapsed": true
   },
   "outputs": [],
   "source": [
    "train_ratings = train.collect()\n",
    "test_ratings = test.collect()"
   ]
  },
  {
   "cell_type": "markdown",
   "metadata": {},
   "source": [
    "### Training Regressor on similarity values"
   ]
  },
  {
   "cell_type": "code",
   "execution_count": 62,
   "metadata": {
    "collapsed": true
   },
   "outputs": [],
   "source": [
    "from sklearn.ensemble import RandomForestRegressor\n",
    "from sklearn.ensemble import AdaBoostRegressor\n",
    "from sklearn.ensemble import GradientBoostingRegressor\n",
    "from sklearn.linear_model import LinearRegression\n",
    "from sklearn.datasets import make_regression\n",
    "from sklearn.metrics import mean_squared_error\n",
    "from sklearn.model_selection import train_test_split\n",
    "from sklearn.model_selection import GridSearchCV\n",
    "from sklearn.svm import SVR"
   ]
  },
  {
   "cell_type": "markdown",
   "metadata": {},
   "source": [
    "Convert data to numpy array for regressor"
   ]
  },
  {
   "cell_type": "code",
   "execution_count": 63,
   "metadata": {
    "collapsed": true
   },
   "outputs": [],
   "source": [
    "X_train = []\n",
    "y_train = []\n",
    "for ratings in train_ratings:\n",
    "    X_train.append(ratings[1][0])\n",
    "    y_train.append(ratings[1][1])\n",
    "\n",
    "X_train = np.array(X_train)\n",
    "X_train = X_train.reshape(-1,1)"
   ]
  },
  {
   "cell_type": "code",
   "execution_count": 64,
   "metadata": {
    "collapsed": true
   },
   "outputs": [],
   "source": [
    "X_test = []\n",
    "y_test = []\n",
    "for ratings in test_ratings:\n",
    "    X_test.append(ratings[1][0])\n",
    "    y_test.append(ratings[1][1])\n",
    "\n",
    "X_test = np.array(X_test)\n",
    "X_test = X_test.reshape(-1,1)"
   ]
  },
  {
   "cell_type": "code",
   "execution_count": 65,
   "metadata": {},
   "outputs": [
    {
     "data": {
      "text/plain": [
       "(9890, 1)"
      ]
     },
     "execution_count": 65,
     "metadata": {},
     "output_type": "execute_result"
    }
   ],
   "source": [
    "X_test.shape"
   ]
  },
  {
   "cell_type": "markdown",
   "metadata": {},
   "source": [
    "Train regressor on training data and make prediction on Test data<br>\n",
    "Computed Mean Squared Error on predicted values"
   ]
  },
  {
   "cell_type": "code",
   "execution_count": 79,
   "metadata": {},
   "outputs": [
    {
     "ename": "KeyboardInterrupt",
     "evalue": "",
     "output_type": "error",
     "traceback": [
      "\u001b[0;31m---------------------------------------------------------------------------\u001b[0m",
      "\u001b[0;31mKeyboardInterrupt\u001b[0m                         Traceback (most recent call last)",
      "\u001b[0;32m<ipython-input-79-9a89af0091b0>\u001b[0m in \u001b[0;36m<module>\u001b[0;34m()\u001b[0m\n\u001b[1;32m      5\u001b[0m \u001b[0mreg\u001b[0m \u001b[0;34m=\u001b[0m \u001b[0mLinearRegression\u001b[0m\u001b[0;34m(\u001b[0m\u001b[0;34m)\u001b[0m\u001b[0;34m\u001b[0m\u001b[0m\n\u001b[1;32m      6\u001b[0m \u001b[0;34m\u001b[0m\u001b[0m\n\u001b[0;32m----> 7\u001b[0;31m \u001b[0mrs\u001b[0m\u001b[0;34m.\u001b[0m\u001b[0mfit\u001b[0m\u001b[0;34m(\u001b[0m\u001b[0mX_train\u001b[0m\u001b[0;34m,\u001b[0m \u001b[0my_train\u001b[0m\u001b[0;34m)\u001b[0m\u001b[0;34m\u001b[0m\u001b[0m\n\u001b[0m\u001b[1;32m      8\u001b[0m \u001b[0;34m\u001b[0m\u001b[0m\n\u001b[1;32m      9\u001b[0m \u001b[0;32mfrom\u001b[0m \u001b[0msklearn\u001b[0m\u001b[0;34m.\u001b[0m\u001b[0mmetrics\u001b[0m \u001b[0;32mimport\u001b[0m \u001b[0mclassification_report\u001b[0m\u001b[0;34m\u001b[0m\u001b[0m\n",
      "\u001b[0;32m/Users/lakshya/anaconda/lib/python2.7/site-packages/sklearn/ensemble/gradient_boosting.pyc\u001b[0m in \u001b[0;36mfit\u001b[0;34m(self, X, y, sample_weight, monitor)\u001b[0m\n\u001b[1;32m   1463\u001b[0m         n_stages = self._fit_stages(X, y, y_pred, sample_weight, self._rng,\n\u001b[1;32m   1464\u001b[0m                                     \u001b[0mX_val\u001b[0m\u001b[0;34m,\u001b[0m \u001b[0my_val\u001b[0m\u001b[0;34m,\u001b[0m \u001b[0msample_weight_val\u001b[0m\u001b[0;34m,\u001b[0m\u001b[0;34m\u001b[0m\u001b[0m\n\u001b[0;32m-> 1465\u001b[0;31m                                     begin_at_stage, monitor, X_idx_sorted)\n\u001b[0m\u001b[1;32m   1466\u001b[0m \u001b[0;34m\u001b[0m\u001b[0m\n\u001b[1;32m   1467\u001b[0m         \u001b[0;31m# change shape of arrays after fit (early-stopping or additional ests)\u001b[0m\u001b[0;34m\u001b[0m\u001b[0;34m\u001b[0m\u001b[0m\n",
      "\u001b[0;32m/Users/lakshya/anaconda/lib/python2.7/site-packages/sklearn/ensemble/gradient_boosting.pyc\u001b[0m in \u001b[0;36m_fit_stages\u001b[0;34m(self, X, y, y_pred, sample_weight, random_state, X_val, y_val, sample_weight_val, begin_at_stage, monitor, X_idx_sorted)\u001b[0m\n\u001b[1;32m   1527\u001b[0m             y_pred = self._fit_stage(i, X, y, y_pred, sample_weight,\n\u001b[1;32m   1528\u001b[0m                                      \u001b[0msample_mask\u001b[0m\u001b[0;34m,\u001b[0m \u001b[0mrandom_state\u001b[0m\u001b[0;34m,\u001b[0m \u001b[0mX_idx_sorted\u001b[0m\u001b[0;34m,\u001b[0m\u001b[0;34m\u001b[0m\u001b[0m\n\u001b[0;32m-> 1529\u001b[0;31m                                      X_csc, X_csr)\n\u001b[0m\u001b[1;32m   1530\u001b[0m \u001b[0;34m\u001b[0m\u001b[0m\n\u001b[1;32m   1531\u001b[0m             \u001b[0;31m# track deviance (= loss)\u001b[0m\u001b[0;34m\u001b[0m\u001b[0;34m\u001b[0m\u001b[0m\n",
      "\u001b[0;32m/Users/lakshya/anaconda/lib/python2.7/site-packages/sklearn/ensemble/gradient_boosting.pyc\u001b[0m in \u001b[0;36m_fit_stage\u001b[0;34m(self, i, X, y, y_pred, sample_weight, sample_mask, random_state, X_idx_sorted, X_csc, X_csr)\u001b[0m\n\u001b[1;32m   1192\u001b[0m             \u001b[0mX\u001b[0m \u001b[0;34m=\u001b[0m \u001b[0mX_csr\u001b[0m \u001b[0;32mif\u001b[0m \u001b[0mX_csr\u001b[0m \u001b[0;32mis\u001b[0m \u001b[0;32mnot\u001b[0m \u001b[0mNone\u001b[0m \u001b[0;32melse\u001b[0m \u001b[0mX\u001b[0m\u001b[0;34m\u001b[0m\u001b[0m\n\u001b[1;32m   1193\u001b[0m             tree.fit(X, residual, sample_weight=sample_weight,\n\u001b[0;32m-> 1194\u001b[0;31m                      check_input=False, X_idx_sorted=X_idx_sorted)\n\u001b[0m\u001b[1;32m   1195\u001b[0m \u001b[0;34m\u001b[0m\u001b[0m\n\u001b[1;32m   1196\u001b[0m             \u001b[0;31m# update tree leaves\u001b[0m\u001b[0;34m\u001b[0m\u001b[0;34m\u001b[0m\u001b[0m\n",
      "\u001b[0;32m/Users/lakshya/anaconda/lib/python2.7/site-packages/sklearn/tree/tree.pyc\u001b[0m in \u001b[0;36mfit\u001b[0;34m(self, X, y, sample_weight, check_input, X_idx_sorted)\u001b[0m\n\u001b[1;32m   1137\u001b[0m             \u001b[0msample_weight\u001b[0m\u001b[0;34m=\u001b[0m\u001b[0msample_weight\u001b[0m\u001b[0;34m,\u001b[0m\u001b[0;34m\u001b[0m\u001b[0m\n\u001b[1;32m   1138\u001b[0m             \u001b[0mcheck_input\u001b[0m\u001b[0;34m=\u001b[0m\u001b[0mcheck_input\u001b[0m\u001b[0;34m,\u001b[0m\u001b[0;34m\u001b[0m\u001b[0m\n\u001b[0;32m-> 1139\u001b[0;31m             X_idx_sorted=X_idx_sorted)\n\u001b[0m\u001b[1;32m   1140\u001b[0m         \u001b[0;32mreturn\u001b[0m \u001b[0mself\u001b[0m\u001b[0;34m\u001b[0m\u001b[0m\n\u001b[1;32m   1141\u001b[0m \u001b[0;34m\u001b[0m\u001b[0m\n",
      "\u001b[0;32m/Users/lakshya/anaconda/lib/python2.7/site-packages/sklearn/tree/tree.pyc\u001b[0m in \u001b[0;36mfit\u001b[0;34m(self, X, y, sample_weight, check_input, X_idx_sorted)\u001b[0m\n\u001b[1;32m    363\u001b[0m                                            min_impurity_split)\n\u001b[1;32m    364\u001b[0m \u001b[0;34m\u001b[0m\u001b[0m\n\u001b[0;32m--> 365\u001b[0;31m         \u001b[0mbuilder\u001b[0m\u001b[0;34m.\u001b[0m\u001b[0mbuild\u001b[0m\u001b[0;34m(\u001b[0m\u001b[0mself\u001b[0m\u001b[0;34m.\u001b[0m\u001b[0mtree_\u001b[0m\u001b[0;34m,\u001b[0m \u001b[0mX\u001b[0m\u001b[0;34m,\u001b[0m \u001b[0my\u001b[0m\u001b[0;34m,\u001b[0m \u001b[0msample_weight\u001b[0m\u001b[0;34m,\u001b[0m \u001b[0mX_idx_sorted\u001b[0m\u001b[0;34m)\u001b[0m\u001b[0;34m\u001b[0m\u001b[0m\n\u001b[0m\u001b[1;32m    366\u001b[0m \u001b[0;34m\u001b[0m\u001b[0m\n\u001b[1;32m    367\u001b[0m         \u001b[0;32mif\u001b[0m \u001b[0mself\u001b[0m\u001b[0;34m.\u001b[0m\u001b[0mn_outputs_\u001b[0m \u001b[0;34m==\u001b[0m \u001b[0;36m1\u001b[0m\u001b[0;34m:\u001b[0m\u001b[0;34m\u001b[0m\u001b[0m\n",
      "\u001b[0;31mKeyboardInterrupt\u001b[0m: "
     ]
    }
   ],
   "source": [
    "forest = RandomForestRegressor(max_depth=1, n_estimators=20)\n",
    "\n",
    "rs = GradientBoostingRegressor(loss='ls', learning_rate=0.005, n_estimators=10000)\n",
    "\n",
    "reg = LinearRegression()\n",
    "\n",
    "forest.fit(X_train, y_train)\n",
    "\n",
    "from sklearn.metrics import classification_report\n",
    "from sklearn.metrics import confusion_matrix\n",
    "\n",
    "expected = y_test\n",
    "predicted = forest.predict(X_test)\n",
    "\n",
    "train_expected = y_train\n",
    "train_predicted = forest.predict(X_train)\n",
    "\n",
    "print(\"Training:\\n%s\" % np.sqrt(mean_squared_error(train_expected, train_predicted)))\n",
    "print(\"Result:\\n%s\" % np.sqrt(mean_squared_error(expected, predicted)))"
   ]
  },
  {
   "cell_type": "markdown",
   "metadata": {
    "collapsed": true
   },
   "source": [
    "### Computed Ratings on missing values"
   ]
  },
  {
   "cell_type": "code",
   "execution_count": 67,
   "metadata": {
    "collapsed": true
   },
   "outputs": [],
   "source": [
    "missing_test = test_rdd.subtractByKey(test)"
   ]
  },
  {
   "cell_type": "code",
   "execution_count": 68,
   "metadata": {
    "collapsed": true
   },
   "outputs": [],
   "source": [
    "missing_ratings_user = missing_test.map(lambda x: ((x[0][0]), (x[0][1], x[1]))).join(avg_rating).map(lambda x: ((x[0], x[1][0][0]), (x[1][1], x[1][0][1])))"
   ]
  },
  {
   "cell_type": "code",
   "execution_count": 69,
   "metadata": {},
   "outputs": [
    {
     "data": {
      "text/plain": [
       "[(('70sSlkooEgL_TEjWDQbr3A', 'afXMX5llxcMFzbaPaBBm6A'), (3.12, 4.0)),\n",
       " (('pr8_C12oHakeNB4ZPp_dig', '3ZcxnR9YkDVRqqkDJMRWBg'), (4.2, 5.0)),\n",
       " (('dz8CFWEWuR_4S1zlZhWCMQ', 'rKh_Nl5edIB9AevqnDmO6g'),\n",
       "  (3.7291666666666665, 3.0)),\n",
       " (('dz8CFWEWuR_4S1zlZhWCMQ', '_VYUU5HPLYasd-xdKLimNA'),\n",
       "  (3.7291666666666665, 3.0)),\n",
       " (('z4MQzyewTRzSoStg0NwL-w', 'lvZOJWiwNymeBhOAgoy11w'),\n",
       "  (3.911764705882353, 4.0))]"
      ]
     },
     "execution_count": 69,
     "metadata": {},
     "output_type": "execute_result"
    }
   ],
   "source": [
    "missing_ratings_user.take(5)"
   ]
  },
  {
   "cell_type": "code",
   "execution_count": 70,
   "metadata": {
    "collapsed": true
   },
   "outputs": [],
   "source": [
    "predictions = test.map(lambda x: ((x[0]), (rs.predict(np.array(x[1][0]).reshape(1,-1))[0], x[1][1])))"
   ]
  },
  {
   "cell_type": "code",
   "execution_count": 71,
   "metadata": {
    "collapsed": true
   },
   "outputs": [],
   "source": [
    "final_predictions = predictions.union(missing_ratings_user)"
   ]
  },
  {
   "cell_type": "code",
   "execution_count": 159,
   "metadata": {},
   "outputs": [
    {
     "data": {
      "text/plain": [
       "12496"
      ]
     },
     "execution_count": 159,
     "metadata": {},
     "output_type": "execute_result"
    }
   ],
   "source": [
    "final_predictions.count()"
   ]
  },
  {
   "cell_type": "code",
   "execution_count": 160,
   "metadata": {
    "collapsed": true
   },
   "outputs": [],
   "source": [
    "mse = final_predictions.map(lambda x: (x[1][0]-x[1][1])**2)"
   ]
  },
  {
   "cell_type": "code",
   "execution_count": 161,
   "metadata": {},
   "outputs": [
    {
     "data": {
      "text/plain": [
       "1.0299156039052781"
      ]
     },
     "execution_count": 161,
     "metadata": {},
     "output_type": "execute_result"
    }
   ],
   "source": [
    "np.sqrt(mse.mean())"
   ]
  },
  {
   "cell_type": "code",
   "execution_count": 72,
   "metadata": {
    "collapsed": true
   },
   "outputs": [],
   "source": [
    "final_predictions = final_predictions.collect()"
   ]
  },
  {
   "cell_type": "markdown",
   "metadata": {},
   "source": [
    "### Save predictions file"
   ]
  },
  {
   "cell_type": "code",
   "execution_count": 73,
   "metadata": {
    "collapsed": true
   },
   "outputs": [],
   "source": [
    "with open(test_output, 'w') as f:\n",
    "    for item in final_predictions:\n",
    "        f.write(str(item[0][0])+\",\"+str(item[0][1])+\",\"+str(item[1][0])+\"\\n\")"
   ]
  },
  {
   "cell_type": "markdown",
   "metadata": {},
   "source": [
    "### Making predictions on training data"
   ]
  },
  {
   "cell_type": "code",
   "execution_count": 74,
   "metadata": {
    "collapsed": true
   },
   "outputs": [],
   "source": [
    "train_predict = train.map(lambda x: ((x[0]), (rs.predict(np.array(x[1][0]).reshape(1,-1))[0], x[1][1])))"
   ]
  },
  {
   "cell_type": "code",
   "execution_count": 75,
   "metadata": {},
   "outputs": [
    {
     "data": {
      "text/plain": [
       "[((u'hHqH_E9FCI_B6WubV0jPYA', u'ZNdV9ytExuxPTXSN8i2xhw'),\n",
       "  (3.8043756446421129, 3.0)),\n",
       " ((u'V0pP_PQnWdtyKpF-pifiaw', u'Fpm3WvqtrAg2ueh_4pz7iA'),\n",
       "  (3.8790432749793768, 4.0)),\n",
       " ((u'IKnLl7SbuP0u6HS34jwHhw', u'guQww9yGHP7rRTea6zTnDg'),\n",
       "  (3.8445359178337113, 3.0)),\n",
       " ((u'4r33dXcE1oYZxjONrhxTiA', u'9gNko6cFCMZbvy1zhJ7-Xg'),\n",
       "  (3.9274325671063925, 5.0)),\n",
       " ((u'Rem81Xoev05aqeA-mFbM4A', u'1LUaZFVMEjodl1tbAGF3sQ'),\n",
       "  (3.7981318019342316, 4.0))]"
      ]
     },
     "execution_count": 75,
     "metadata": {},
     "output_type": "execute_result"
    }
   ],
   "source": [
    "train_predict.take(5)"
   ]
  },
  {
   "cell_type": "code",
   "execution_count": 166,
   "metadata": {
    "collapsed": true
   },
   "outputs": [],
   "source": [
    "train_predictions = train_predict.map(lambda x: (x[1][0]-x[1][1])**2)"
   ]
  },
  {
   "cell_type": "code",
   "execution_count": 167,
   "metadata": {},
   "outputs": [
    {
     "data": {
      "text/plain": [
       "1.03320310263514"
      ]
     },
     "execution_count": 167,
     "metadata": {},
     "output_type": "execute_result"
    }
   ],
   "source": [
    "np.sqrt(train_predictions.mean())"
   ]
  },
  {
   "cell_type": "code",
   "execution_count": 76,
   "metadata": {
    "collapsed": true
   },
   "outputs": [],
   "source": [
    "train_predict = train_predict.collect()"
   ]
  },
  {
   "cell_type": "code",
   "execution_count": 77,
   "metadata": {
    "collapsed": true
   },
   "outputs": [],
   "source": [
    "with open(train_output, 'w') as f:\n",
    "    for item in train_predict:\n",
    "        f.write(str(item[0][0])+\",\"+str(item[0][1])+\",\"+str(item[1][0])+\"\\n\")"
   ]
  },
  {
   "cell_type": "code",
   "execution_count": null,
   "metadata": {
    "collapsed": true
   },
   "outputs": [],
   "source": []
  }
 ],
 "metadata": {
  "kernelspec": {
   "display_name": "Python 2",
   "language": "python",
   "name": "python2"
  },
  "language_info": {
   "codemirror_mode": {
    "name": "ipython",
    "version": 2
   },
   "file_extension": ".py",
   "mimetype": "text/x-python",
   "name": "python",
   "nbconvert_exporter": "python",
   "pygments_lexer": "ipython2",
   "version": "2.7.6"
  }
 },
 "nbformat": 4,
 "nbformat_minor": 1
}
