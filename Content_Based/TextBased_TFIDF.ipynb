{
 "cells": [
  {
   "cell_type": "markdown",
   "metadata": {},
   "source": [
    "### Spark Initialization"
   ]
  },
  {
   "cell_type": "code",
   "execution_count": 1,
   "metadata": {
    "collapsed": true
   },
   "outputs": [],
   "source": [
    "import findspark\n",
    "findspark.init()"
   ]
  },
  {
   "cell_type": "code",
   "execution_count": 2,
   "metadata": {
    "collapsed": true
   },
   "outputs": [],
   "source": [
    "import sys\n",
    "import copy\n",
    "import csv\n",
    "\n",
    "from string import atoi\n",
    "from pyspark import SparkContext, SparkConf\n",
    "from pyspark.sql import SparkSession"
   ]
  },
  {
   "cell_type": "code",
   "execution_count": 3,
   "metadata": {
    "collapsed": true
   },
   "outputs": [],
   "source": [
    "import numpy as np"
   ]
  },
  {
   "cell_type": "code",
   "execution_count": 4,
   "metadata": {
    "collapsed": true
   },
   "outputs": [],
   "source": [
    "conf = SparkConf().setAppName(\"ContentBased\")\n",
    "conf = conf.setMaster(\"local[*]\")"
   ]
  },
  {
   "cell_type": "code",
   "execution_count": 5,
   "metadata": {
    "collapsed": true
   },
   "outputs": [],
   "source": [
    "sc  = SparkContext(conf=conf)"
   ]
  },
  {
   "cell_type": "markdown",
   "metadata": {},
   "source": [
    "### Train, Test and Output files"
   ]
  },
  {
   "cell_type": "code",
   "execution_count": 6,
   "metadata": {
    "collapsed": true
   },
   "outputs": [],
   "source": [
    "train_file = \"/Users/lakshya/Desktop/INF-553/Project/pittsburgh_review_with_text_20_res_lemma_data_train.txt\"\n",
    "test_file = \"/Users/lakshya/Desktop/INF-553/Project/pittsburgh_review_with_text_20_res_lemma_data_test.txt\"\n",
    "train_output = '/Users/lakshya/Desktop/INF-553/Project/Pittsburgh_TextBased_TFIDF_train_predictions.txt'\n",
    "test_output = '/Users/lakshya/Desktop/INF-553/Project/Pittsburgh_TextBased_TFIDF_test_predictions.txt'"
   ]
  },
  {
   "cell_type": "markdown",
   "metadata": {},
   "source": [
    "### Load Train and Test Data"
   ]
  },
  {
   "cell_type": "code",
   "execution_count": 7,
   "metadata": {
    "collapsed": true
   },
   "outputs": [],
   "source": [
    "trainData = sc.textFile(train_file,use_unicode=False)\n",
    "testData = sc.textFile(test_file,use_unicode=False)"
   ]
  },
  {
   "cell_type": "code",
   "execution_count": 8,
   "metadata": {
    "collapsed": true
   },
   "outputs": [],
   "source": [
    "train_rdd = trainData.mapPartitions(lambda x: csv.reader(x)).map(lambda x: ((x[0], x[1]), float(x[2])))\n",
    "test_rdd = testData.mapPartitions(lambda x: csv.reader(x)).map(lambda x: ((x[0], x[1]), float(x[2])))"
   ]
  },
  {
   "cell_type": "code",
   "execution_count": 9,
   "metadata": {
    "collapsed": true
   },
   "outputs": [],
   "source": [
    "avg_rating = train_rdd.map(lambda x: (x[0][0], x[1])).groupByKey().map(lambda x: (x[0], list(x[1]))).map(lambda x: (x[0], sum(x[1])/len(x[1])))\n",
    "prod_rating = train_rdd.map(lambda x: (x[0][1], x[1])).groupByKey().map(lambda x: (x[0], list(x[1]))).map(lambda x: (x[0], sum(x[1])/len(x[1])))"
   ]
  },
  {
   "cell_type": "code",
   "execution_count": 10,
   "metadata": {
    "collapsed": true
   },
   "outputs": [],
   "source": [
    "avg_rating = avg_rating.map(lambda x: ((x[0]), x[1]))"
   ]
  },
  {
   "cell_type": "code",
   "execution_count": 11,
   "metadata": {},
   "outputs": [
    {
     "data": {
      "text/plain": [
       "[('AKqMnr1bEFIZDG_zQzX8sA', 3.45),\n",
       " ('S1cjSFKcS5NVc3o1MkfpwA', 3.574074074074074),\n",
       " ('bSvNU2vABlaBi1ooF4KNJg', 3.3684210526315788),\n",
       " ('8ye6-7YYMsp0YizCLyrxcA', 4.184210526315789),\n",
       " ('oIN1CjzbCCol4kPueU9WzQ', 3.5555555555555554)]"
      ]
     },
     "execution_count": 11,
     "metadata": {},
     "output_type": "execute_result"
    }
   ],
   "source": [
    "avg_rating.take(5)"
   ]
  },
  {
   "cell_type": "code",
   "execution_count": 12,
   "metadata": {
    "collapsed": true
   },
   "outputs": [],
   "source": [
    "train_temp = trainData.mapPartitions(lambda x: csv.reader(x)).map(lambda x: ((x[0], x[1]), 1))"
   ]
  },
  {
   "cell_type": "markdown",
   "metadata": {},
   "source": [
    "### Load review data"
   ]
  },
  {
   "cell_type": "code",
   "execution_count": 13,
   "metadata": {
    "collapsed": true
   },
   "outputs": [],
   "source": [
    "data = sc.textFile(train_file,use_unicode=False)"
   ]
  },
  {
   "cell_type": "code",
   "execution_count": 14,
   "metadata": {},
   "outputs": [
    {
     "data": {
      "text/plain": [
       "['1VVHf1BvtGC0aSCCIjQyiA,K5jY2W5Q3eNnwssV5UZtow,4,2016-11-16,2,2,2,past sunday one several time ive spirit its always eccentric fun time first music performance second hang recent visit sundays bingo bango spirit know pizza good drink also awesome last time get chard margarita time get tomatillo margarita hot ciders its always pleasant surprise see whats menu food drink drink little pricey drawback one coolest things spirit atmosphere its always super strange positive way really never know expect bingo bango definitely family appropriate its fun activity friends maybe even date doesnt mind something ordinary',\n",
       " 'QYKexxaOJQlseGWmc6soRg,rzByiKaj-bLeLz-zKNBQdg,2,2015-04-13,0,0,0,old cramp build lot enough employees staff keep demand cause long wait time',\n",
       " '-ARdx8hOcEWlMDjzwLYZ_g,3cbsPfoUUrysf-M8FI_0IA,4,2014-03-24,6,4,3,live long world without donut menu dont know group nine din three varieties donuts include lemon lavender chocolate espresso zeppolli amaze pepper donut concoction ever make donut order come five donut hole theyre big hole one two enough cant believe say thats even little true youll want entire order save room best yet come choose omelette day entr\\xc3\\xa9e couldnt tell goat cheese creamy goats cheese salad nice addition potatoes delightful touch underdone seat downstairs pretty frigid awesome space nonetheless warm joint bite its five star way cant wait visit e2 dinner serve donuts right',\n",
       " '2oTG2GrBpikkonRxQywI7Q,CFtZH4Skp9z3o4ToSywI4w,4,2015-04-02,0,0,0,month try place try years ago im actually quite surprise place get earlier review sample veggie burger goodness place event attend couple years ago become close top list try finally go friend couple weeks ago try veggie burger call hippie something another burger feel like tony tiger fry good beer good fry good venue wait staff pretty great around good yummy experience',\n",
       " 'B7aR8VlLMGzaJ7NHC-jeMQ,RC8NJlX3X2Eo240PU5zJWA,4,2013-02-16,1,0,0,food good find service tad slow italian place area would go first italian good yes excellent meatballs',\n",
       " 'UsmTxWbobLsI6WR1Db0W7A,hsDkxhc-_YYsVqAeQBJJjg,1,2013-02-26,7,4,2,really guy endorse place triple d put reputation line segment big jims wasnt impress food service worse order half veggie hoagy bowl vegetable soup friend ross order small pizza bowl wed soup sip pretty good rooney pale ale best part meal little later soup come cup tell bartender order bowl oops fight cold nice hot bowl vegetable soup would hit spot still wait soup come pizza look good tons cheese pepperoni veggie hoagy order wrong order half give whole hoagy biggie ill take half home midnight snack still sign soup pretty unremarkable hoagy lot flavorless lettuce green pepper onion huge unchewable chunk carrots worse cold kind hop eggplant roast red pepper grill zucchini know real veggie hoagy flavor texture oh well live learn still soup finally bartender finish watch tv saw beer ask soup apologize say forget say ross guess must make good hourly wage hes work good tip finally soup deliver push away lousy hoagy dive soup blow spoonful soup ross say dont its cold damn half eat hoagy full bowl soup sit ask check pay leave never big jim never guy lose point call']"
      ]
     },
     "execution_count": 14,
     "metadata": {},
     "output_type": "execute_result"
    }
   ],
   "source": [
    "data.take(6)"
   ]
  },
  {
   "cell_type": "code",
   "execution_count": 15,
   "metadata": {
    "collapsed": true
   },
   "outputs": [],
   "source": [
    "train_data = data.mapPartitions(lambda x: csv.reader(x)).map(lambda x: ((x[0], x[1]), x[7])).join(train_temp)"
   ]
  },
  {
   "cell_type": "code",
   "execution_count": 16,
   "metadata": {
    "collapsed": true
   },
   "outputs": [],
   "source": [
    "train_data = train_data.map(lambda x: (x[0][0], x[0][1], x[1][0]))"
   ]
  },
  {
   "cell_type": "markdown",
   "metadata": {},
   "source": [
    "### Collect user data from train data (User, Review)"
   ]
  },
  {
   "cell_type": "code",
   "execution_count": 17,
   "metadata": {
    "collapsed": true
   },
   "outputs": [],
   "source": [
    "userReview = train_data.map(lambda x: (x[0], x[2])).groupByKey().mapValues(list)"
   ]
  },
  {
   "cell_type": "code",
   "execution_count": 18,
   "metadata": {
    "collapsed": true
   },
   "outputs": [],
   "source": [
    "userReviewCollected = userReview.map(lambda x: (x[0], \" \".join(x[1])))"
   ]
  },
  {
   "cell_type": "code",
   "execution_count": 19,
   "metadata": {},
   "outputs": [
    {
     "data": {
      "text/plain": [
       "[('AKqMnr1bEFIZDG_zQzX8sA',\n",
       "  'place breathe fresh air find hot dog fantastic buns toppings fresh homemade fresh cut french fry hot crispy staff pleasant friendly chicago dog plain dog relish ketchup right point fry yummmmmm little small inside serve purpose mood fresh fry great hot dog get sure definitely go back typical hibachi fair best worst middle road steak do perfectly veggies really mushy overcook rice little bland also first time go restaurant saw television show travel channel think go wasnt disappoint local restaurant pittsburgh want great steak great atmosphere favor definitely go place im fan chain restaurants always look locally own restaraunt locally own thumb definitely worth trip bread sandwich fantastic price reasonable its quaint little spot grab bite like b\\xc3\\xa1nh m\\xc3\\xac favor stop sure wish place still open find close try go must unreasonable rule university place pretty good food eat many time mostly close im go bite overprice make lose star always clean staff friendly nothing better try always like food youre area capital grille great steaks pay prepare always go hungry treat could give place star would staff fantastic omg everyone favor remove pizza menu clearly place noooo idea make pizza fake meatballs greasy doughy base around terrible go time first review definately loud inside tuesday order pretzels cheese salmon pittsburgh steak salad wiener schnitzel everyone like portion large everything hot price little high waitress pretty absent food deliver service definitely couldve better overall three star night think would try little everything since first time order pork belly slider beef noodle soup pork crab soup dumplings everything fantastic pork belly slider moist flavorful dry stretch imagination beef noodle soup burst flavor fall apart beef soup dumplings yes please overall amaze top friendly attentive staff make sure well take care leave full plan wait little bite busy time well worth every minute penny yet another example wish could give half star would give 3 5 star pics show soup always hot good steak stick also really good place always pack lunch week get early 4 time far keep go back unless something change always go soup try something price point also crazy price notice menu note owners please get garlic chip soup thank cant believe never write review place love go wing im pitt want wing hand place havent honestly try anything else beer wing lol hey give time maybe remember order good wing always always always ask xtra crispy hmmmmmmm im get hungry wing yes yes yes go enjoy one pittsburgh staple sandwich large fill bread always fresh get egg little bias love primanti bros everything clean fresh pleasant great experience location go enjoy always take time go original also time gon na go middle road star pricey establishment say least didnt time try food beer price high look menu food follow suit price post update menu bartender say open 7 months third menu might go back try food better review pleasantly surprise place food good service impeccable clean really appear care patrons definitely back try service amaze friendly also helpful sit bar scott wait great service veal parm sandwich want also try meatballs veal parm sandwich nothing short fantastic meatballs little piece heaven soft meatballs hard freeze kind great recipe sauce also worth note awesome well favor treat big jims thank later fellow yelpers make burger homemade fry fry fantastic anytime get homemade fry its definite plus burger good also ill back try items menu little pricey reason four star three items barbecue rib cornbread mac cheese first foremost cornbread completely amaze blow away mac cheese also good barbecue rib great flavor be pretty fatty price also reasonable would definitely come back check go review one brisket sandwich slider 5 star way brisket tender moist flavorful definately would order crab fritter little dark think go taste burn deep fry long however pretty good lack crab meat way deserve 3 1 2 star go smoke wing bbq flavor oh boy mistake take one bite flat wing way describe flavor except taste like feet dont know feet actually taste like try one bite another one thing wing big zero star crowd mix age style comfortable take everything account ill go back wont wing far worst place ever breakfast im sure positive rat come stay away stay far away clean oh hell clean hate leave review like'),\n",
       " ('hg71CGHy9bwpgY8cGVVg4w',\n",
       "  'wife come lunch walk buy chocolate moose look say chocolate get ta go store huge sort candy handmade huge selection kinds great totally delicious truffles order 15 different truffles everyone totally delicious would definitely go also would highly recommend place need sugar candy rush wife stop pittsburgh im big breakfast fan always go nice egg bacon potato sandwich roll bite hurry go take te service excellent staff extremely friendly nice new york friendly new york even close pittsburgh food come quickly wife think price w bite high wife say probably get wrong bill bad maybe sandwich ws ok anything special talk service staff would give 5 star food 2 3 tell better eat time pancakes totally amaze next time im pittsburgh ill definitely give another shoot eat instead take first time ever giant eagle supermarket home depot next door wife move pittsburg need items store average size maybe little small side compare new york supermarkets use pick items need hold us days check store bust cashier fast friendly good experience compare reviewers sure price compare chain around pittsburgh compare ny price fine area decide go giant eagle time one bigger supermarkets int area need pretty quickly price ok customer service fast friendly crowd could wait register would go back giant eagle starbucks locate steel build 2nd floor plenty seat baristas friendly order green tea lemonade ice drink make fast taste great go busy flash see get busy baristas would get overwhelm great experience area would go go outback night son son get 7 crowd mob wait 5 minutes seat bad waitress come say would us minute come back take drink order bring hot bread order sirloin salad bake potato french onion soup french onion soup salad good steak cook right waitress friendly service good would go back location would recommend others wife go franktuary night dinner wife talk franktuary weeks great review get staff friendly helpful great attitudes 2 regular dog yellow mustard order fry fry ok bite salty taste dog ok would say anything special area really mood hot dog would probably go find price reasonable service fast friendly wife pittsburgh look house stop pamelas breakfast many really good review yelp 2 egg easy bacon home fry toast hot chocolate egg cook right end bacon good home fry good weird taste hot chocolate ok taste like swiss miss service excellent fast friendly say ws disappoint see many 5 star review food 2 3 star service excellent definitely worth 5 star would say would go back least egg bacon look though people eat pancakes wife go night dinner seem middle nowhere first glance park however gravel park lot plenty park across street walk restaurant big open space lot table place empty get good us cod french fry salad french onion soup soup really good salad th cod great portion big take half home find price reasonable food great service super fast waitress friendly would highly recommend hog head grill area definitely go auntie annes malls virtually stop today go apple store mood pretzel walk pull pip hot pretzels oven staff fast friendly less 2 minutes auntie annes far best tastiest pretzels anywhere ross park mall auntie annes pretzels must say since move pittsburgh aviary definitely one favorite place daughters go day get yearly membership plan go many time year much see aviary daughters feed bird really cool ton different bird see could spend hours room watch daughters main area flamingos least hour get luck get around feed time must see event staff excellent knowledgable many around everywhere question would definitely say visit national aviary must see pittsburgh ritas definitely one favorites come italian ice daughter go ritas day cup half lemon half pina colada ice delicious definitely would go complaint selection ice minimal generally like chocolate cappuccino neither menu hope get better selection flavor wife go dinner night bake cod french fry house salad place pretty big plenty seat waitress friendly service excellent cod really good salad well good price good overall extremely happy ritters negative aspect take cash wife know advance luckily us cash establishment however atm front entrance definitely would recommend ritters diner sure go don diner definitely one pittsburghs hide gems least middle service fast staff super friendly egg bacon english muffin home fry totally delicious definitely best diner anywhere around wife go bring food us several time first time super impress service high quality food would say worth trip anywhere food good definitely regular wont able keep away far best diner anywhere around hand wife go last night dinner place pretty crowd still seat right away burger cheese bacon pickle fry waitress fast friendly hamburger delicious maybe best ever really good price reasonable fair would recommend stackd area wife one specialty shake actually really good would definitely go back daughters decide go carnegie history museum walk around hours hours see fantastic display want art museum see history museum decide stay bite see art section carnegie art museum great tons tons see everything ancient contemporary art admission include art history museum since attach walk back forth convenient say least definitely go back art museum get see small portion buy one year family membership great go many time year want also good science center yet go highly recommend carnegie art history museum sure definitely go go mon aimee chocolat day store pretty big excellent selection staff friendly helpful get dark chocolate cover orange peel dark chocolate liquor fill candy candy excellent would definitely go complaint would price seem way high side would still go back great selection candy top notch also carry lot local vendors make pittsburgh big starbucks lot seat staff incredibly friendly helpful new york even think much nicer people new york baristas bring new mean friendly nice totally amaze service drink make perfectly definitely back next door up store saw starbucks drink starbucks strip mall end pretty big inside lot seat vent coffee frap whip cream baristas friendly get drink quickly drink make perfectly happy would recommend starbucks location overall service drink good wife go night dinner sore review yelp decide give shoot chicken pot pie salad place small side enough seat maybe 15 20 people top go front counter pay want call pick ready food ok salad nothing special chicken pot pie cold least ok say ask guy better chicken pot pie sirloin pot pie say sirloin maybe ill go back try instead price excellent meal inexpensive guy behind counter friendly helpful menu would probably try give place 2nd shoot price inexpensive love museum say would go months finally time favorite prohabition section really great definitely worth see also love actual heinz ketchup products section really cool realize heinz make lot products love pyramid ketchup bottle put together make one huge ketchup bottle wife yearly family membership go find 5 floor memorabilia super interest would definitely go know definitely miss things area definitely suggest heinz history museum great bakery schorr bakery perrysville ave bake location delicious items make fresh main location happen drive decide stop actually better selection later day one perrysville ave main location unless get early run best items fast bakery perry hwy still great selection choose would definitely come would recommend locations 1000 definitely best bakers around bake goods bake fresh day price incredibly cheap totally delicious area pass definitely worth stop grab delicious pastries doughnuts like walgreens convenient generally shop center virtually every day either up starbucks big huge store well lay friendly cashier several time always someone help find something cant find find price fine service excellent one thing like walgreens cvs use apple pay son dinner last night filet sole french fry huge salad bar sole delicious salad soup fruit bar really great could come salad bar would completely happy service really good fast friendly place pretty big clean price reasonable overall inexpensive consider get eatn park pretty big chain pittsburg area 2nd one disappoint yet area recommend eatn park food service really good wife go proper brick oven tap room tuesday night dinner halibut special try wife margherita pizza also beer tap pretty good sorry remember name daughter sour beer tap hat really good think sour service good waiter extremely friendly give us great service fish ok note special try wife margherita pizza totally delicious would go back definitely get pizza overall would recommend go proper pizza beer service great pizza beer area definitely worth stop go mineos pizza house night dinner pizza seem highly recommend instead chicken parm ziti house salad garlic bread basically pizzeria order front sit wait call salad pretty good well garlic bread th chicken parm ok bite dry thrill chicken parm good would go back mineos regular diner however go back try pizza seem get rave review go back update review let everyone know pizza staff friendly service fast unfortunately experience give 3 star food great wife two friends go see west side story suite say big fan ballet venue beutiful design layout perfect acoustics staff amaze super friendly helpful music great dancers well like songs remember love west side story movie kid overall fun nice day friends say big fan ballet ill give 3 star big fan chipotle inexpensive healthy alternative mcdonalds wendys bowl go white rice chicken green pepper onions tomatoes sour cream lettuce food delicious definitely go back near staff fast friendly place clean store plenty seat dont seem need seem busy ever case love chipotle definitely go wish get earlier late check wife stay one night hotel beautiful room big fantastic 19th floor amaze view pittsburgh staff extremely friendly helpful would definitely stay westin area home depot getgo literally around corner much say self serve gas station 5 minutes line price station convenient time area decide need coffee desperately venti cappuccino extra wet baristas friendly nice drink come fast drink make perfectly well would recommend starbucks absolutely huge store tons tons liquor wine choose go bottle wine gift christmas party large selection know start several workers around helpful knowledgable products get really nice australian cabernet sauvignon super sale well place crowd cashier move pretty quickly time would definitely recommend fine wine good spirit logo place wine liquor need sure back wife kid move pittsburg new york around 12 midnight starve wife decide go micro diner house salad pot roast diner also share french onion soup daughter start negative aspect french onion soup terrible salad great pot roast mash potatoes tons delicious gravy say probably best pot roast ever gravy amaze service fantastic price resonable sure go back definitely 5 star would highly recommend wife go peterson events center day sons 2018 graduation high school first time peterson center believe normally concert panthers play well big stadium lot seat small graduation e 55 kid graduate class center nice seat pretty comfortable overall happy venue would go something come family go burgatory monday night dinner seat right away waitress friendly attentive need bacon hamburger extra pickle fry grand dads secret grand dads secret vanilla shake old grand dad hamburger really good shake ok service overall excellent would definitely go back daughters week ago museum huge ton see definitely really see one day get family yearly package worth also include art museum well go anytime want many time want year natural history museum many many years carnegie definitely one favorites daughters walk around hours see amaze exhibit sure go real soon see miss spend time exhibit highly recommend carnegie museum natural history definitely must see pittsburgh many many mcdonalds past far worst go unless go drive want 2 hamburgers extra extra pickle fry salt many mcdonalds area never issue pull drive window girl tell ask extra extra pickle put lot pickle would 30 cent charge 2 extra pickle totally absurd one mcdonalds ever charge extra pickle even offer fill container pickle free charge drive busy staff slow never go mcdonalds worst customer service ever best popcorn ever strip district candy place happen park across pittsburgh popcorn company store do candy store intrigue popcorn herd really good person behind counter super friendly helpful offer free taste many popcorns want try try end buy small bag chunky chocolate caramel popcorn crunchy caramel popcorn plain delicious well love chocolate caramel best walk store smell alone drive crazy make want try sample definitely want buy popcorn definitely best popcorn ever sure back mood popcorn place want go area decide need freeze yogurt get combination vanilla raspberry yogurt although descent selection toppings strawberries come fruit generally get mix fruit yogurt ask girl fruit say right spoil fast many yogurt place never even dead summer yogurt ok nothing special since strawberries bite disapointed start probably would go back near saw fruit would turn around walk many yogurt place around good selection fruit matter time year wife bring back sandwich allegheny sandwich shoppe day lunch reuben sandwich rye never comment store service sandwich good probably would go near bye best reuben pittsburgh good write update go pittsburgh bros place eat sure nice new yorker state see real friendly service actually wife get seat immediately place lay nice table large get nice large table upstairs view whole restaurant service totally freakin super amaze roast beef provolone corona wash waiter super super super friendly probably among best service ever restaurant anywhere sandwich delicious among best roast beef eat would highly recommend primate brothers anyone visit pittsburg definitely must goto review delivery night order large cheese pie cerasoli pizzeria also ask dozen garlic knot say delivery fast pizza still hot pizza ok nothing special would say would order pizza cerasoli pizzeria also call order pizza could barely understand gentleman answer phone thick accent delivery guy really nice come fast bad pizza nothing special wife pittsburg look house buy decide stay downtown time choose renaissance hotel place beautiful room location great right int heart city room great view river bridge stay one night unfortunately staff super friendly helpful negative park need car want go day hotel charge think 32 park need car next day checkout garage across street 7 go overall would highly recommend renaissance anyone stay pittsburg want stay int city go week ago decide get take order chicken parm side salad spaghetti call order tell 40 minutes minimum go around errands come back 20 25 minutes order go lady behind counter nice friendly system take good walk lady behind counter get another person person come take credit card take credit card disappear back come food receipt process time walk time walk least 10 minutes food already ready come sit get cold get payment thru tell least 40 minutes less 25 would come 40 minute mark would sit 15 minutes get ice cold 10 minute ride home well food say good part meal salad chicken part good like taste also ice cold besides spaghetti cold sauce good well think would ever go take system take need lot desire well know estimate food prep time also notice many negative review probably would go back ever recommend bravo take go people ahead yelpers remark one person behind counter line move slow acai tropical bowl acai bowl good price ok service slow person friendly work fast could definitely need staff help move line quicker happy find dominos deliver pittsburgh always love dominos live new york would get every week two order 2 medium pizzas black olives extra sauce pizza exactly new york make happy love dominos delivery service good pizza arrive hot definitely order really like dominos also like convenience home delivery hot daughters go yesterday visit carnegie museum food think carry boars head meats definitely favorite full line soup salads sandwich choose matzo ball soup pastrami rye mustard matzo ball soup really good would definitely get pastrami sandwich among best service fantastic staff fast friendly two complaints 1 price bite higher delis 2 portion pastrami sandwich way little many delis generally get 3x amount meat sandwich food think good would go recommend go know pay price wise get less even know expensive worth visit food really good service well really good wife come delucas next door saw pastries biscottis store pull pastries look totally delicious would definitely go back try items get biscotti sample pack 7 12 package staff super friendly extremely helpful selection pretty good definitely go back get home eat 4 even know biscottis totally delicious would definitely recommend sweet lilly sure regular area need grocery items stop aldi right near store smaller side pretty good selection reasonable price buy cereals strawberries blueberries items lot cheaper regular supermarket store clean cashier fast ad friendly place pack line cashier go thru line rather quickly note supply bag sort like costco buy paper plastic bag 7 10 cents bring take shop items loose find aldi great price descent selection would definitely go wife pittsburgh look buy house stop benjamins diner bacon cheeseburger lettuce tomato home fry corona beer tap sorry remember name good hamburger among best ever totally delicious home fry equally good service excellent fast friendly would definitely recommend benjamins burger need would hesitate go back mood pizza decide stop kind pizza place expect walk pizza slice anywhere see carry sit restaurant serve slice pizza small large pies get small pie black olives go gentleman behind counter say special small pie one top pizza excellent really good taste service excellent guy friendly would definitely go maybe even try regular italian food review look really good definitely would recommend pelegrinos least pizza need last week dozen bagels woman behind counter nice friendly helpful well price ok bagels good well say best ever best area would definitely go back brueggers int eh future wife dinner night cod mash potatoes gravy huge salad bar cod delicious salad soup fruit bar really great could come salad bar would completely happy service great fast friendly place pretty big clean area recommend eatn park food service really good wife go last week dinner one night filet mignon french fry house salad new york would say price ok pittsburgh steak way price service fast friendly food good great think would go back find price high food ok nothing special go today wife friends vegan style start bowl lentil soup delicious house salad also good onto potato latkes also good place little small side lot customers fit one time manage party 4 seat immediately server nice friendly food overall good also fresh admit generally kind food would go would recommend b52 cafe int h area wife pick sandwich us north shore deli wife actually bring back sandwich 2x lean pastrami rye mustard north shore boars head meats favorite sandwich amaze would definetly recommend north shore deli definitely go self point food amaze go self update list area decide give jersey try even know bad review order regular size 13 original italian mustard hero good best ok service fast friendly place clean would probably go back try another style sandwich think price bite high compare subway go grandpa joes day jam pack candy sweets remember years past store bite cramp shelve stuff everywhere staff extremely friendly helpful tons different candy choose like blast past plenty specials price fair would definitely go sweet tooth like highly recommend grandpa joes candy shop stop yesterday way back errands vicinity go pick items store general fine everything look find price lot items much higher giant eagle one nice thing first supermarket boars head meats would go back would watch price daughter take longhorn steakhouse father day wait 30 minutes call ahead seat seat waitress come right take drink order bring bread drink start french onion soup salad finally sirloin mash potatoes onion soup ok nothing specialthe sale good freshthe mash potatoes taste like mix real mash potatoes eat bite sirloin cook right taste fine service excellent waitress great would say probably would go back outback much better around wife go tesseras last night dinner special trout salad home fry trout really good home fry probably best ever far food give tesseras 5 star waitress really nice move fast could unfortunately place mob 2 duty probably twice normal amount table also rib special night apologetic say short staff crazy busy besides would definitely go rib night would also recommend tesseras food delicious wine good spirit own state typically bigger others inventory better selections one smaller store best selection around complain go get australian wine gift staff friendly short time would go buy see lollipops years internet finally move pittsburgh actually find see store store excellent variety see products buy couple lollipops piece dark chocolate lollipops best anywhere many flavor choose partial chocolate lollipop staff friendly extremely helpful love see highly recommend many gift need definitely go area decide stop quick bite eat sore huge line drive decide go instead probably big mistake would stay drive thru line 2nd line walk take literally 10 minutes get take order shame guy terrible customer service extremely slow seem take drive order first walk ins employees work drive window inside one cashier order two hamburgers extra pickle large fry positive thing say order correct food every mcdonalds would go mcdonalds unless saw line drive thru ridiculous wait almost 20 minutes order get food fast food place really good time market square yesterday live concert go sit relax market square large assortment restaurants around cant go wrong market square several time really nice place visit spend time always love trader joes new york one right near house excite saw trader joes mcnight rd go bite smaller ones new york still descent selection get things leave cashier fast friendly would definitely go 2nd primate bros last weeks time wife order go rush head home angus sirloin sandwich coleslaw side sandwich good service think price bite high service food good huge fan would probably go future much say mcdonalds pretty much service 2 hamburgers extra pickle large fry salt unsweetened ice tea new yorker whole life first time ketchup mustard hamburgers actually like mustard use drive window cashier nice friendly order correct food fine big fan mcdonalds rush want fast food fine would go back area least expensive fast food get last night dinner wife stop fudge farm shake fudge place pretty big plenty room sit stand even swing service excellent people behind counter friendly extremely helpful coffee shake totally delicious woman behind counter say spend think 20 00 get 20 00 worth fudge free amaze deal three shake order come 23 00 get 20 00 worth fudge free 1 pound free fudge get rocky road chocolate coffee wife pick one fudge amaze among best fudge ever would highly recommend fudge best int area sure go back go nadines breakfast wife sit counter place pack waitress come write menus ask want drink 2 egg easy bacon home fry white toast food ok nothing special home fry lack taste egg cook correctly taste fine one nice thing park lot long busy pay park staff friendly service fast unfortunately thrill food really nothing special choices diners breakfast food would say would go back least breakfast wife go luke wholeys night dinner saw great review decide give shoot place pretty big size mob seat immediately good sign waiter bring water menus immediately come back drink order broil cod french fry french onion soup soup pretty good complaint almost cheese little soup cod ok nothing write home service excellent waiter friendly service bite slow properly mob would properly go less crowd would try something else go get dinner son decide stop subway order 2 footlong toast blt heros staff friendly fast helpful sandwich delicious price good 5 minutes could complain anything would definitely go subway go wingharts last night dinner margherita pizza share french fry daughter waitress super friendly service excellent pizza great fry would recommend wingharts int eh area would go try burgers suppose amaze go sheetz day gas far gas station go similar price ok self serve also car wash inside sell hamburgers fry try food car wash comment far gas go issue pump gas leave wife pittsburg look house buy block biddles escape open house escape seem cool little local coffee house lot locals hot green tea honey delicious unfortunately order anything exotic get house block new go place coffee tea staff fast friendly service excellent wife broker sit upstairs nice area decide stop giant eagle mcknight rd like giant eagle good selection items price fair store huge staff friendly helpful end get go ok price good would say giant eagle probably favorite local supermarkets would definitely come back area happen area need general items supermarket generally go giant eagle mcknight rd area stop giant eagle definitely one quarter size regular giant eagle selection considerably less much worse selection stock good selection vegetables fruit also store lay terribly staff friendly checkout quick probably almost empty customer wise would go back giant eagle unless totally desperate go night diner wife friend place pretty big lot seat get around 5 30 seat immediately waitress extremely friendly helpful pot roast mash potatoes food ok would say nothing special probably would go back atleast pot roast might try hamburger first two time sandwich deli north avenue wife pick go time lean pastrami rye mustard deli north avenue boars head meats favorite sandwich amaze would definetly recommend deli go two time think probably best deli around two time go order reuben rye totally amaze probably best ever say without doubt staff amaze friendly fast highly recommend deli north avenue sandwich need sure go wife go andrews steak house casino diner decide little gamble wife strictly slot person go directly crap table start 20 hour later walk away 150 00 overall really happy win say smoke horrendous eye hurt bad like texas hold em crap wife stay long choose crap might go future biggest negative smoke terrible thing like never casino cruise ship comp drink gamble rivers comp liquor drink offer free soda water self serve turn smoke love wife bring back sandwich peppis bacon cheeseburger lettuce tomato expect regular size hamburger bun instead get huge hero hamburger hero good best ever fry bite greasy good would order would try something else specialize steak give 3 star try update judge service anything location say pick food look bunch house real estate broker decide take lunch say know perfect place go time great say outgo come try new food herd go turkish kebab house think ohhhh nothing ill eat order chicken kebab wrap wow really really good totally amaze price also great 8 chicken kebab wrap big could barely finish service fast friendly place clean would highly recommend place food service excellent would definetly come future'),\n",
       " ('S1cjSFKcS5NVc3o1MkfpwA',\n",
       "  'would think vegan friendly hipster restaurant would one best place pittsburgh fee hangover seriously go hungover love get super stuff burrito put mash potatoes burritos along hearty bean scramble egg cheese yummy salsa stomach thank youre wait coffee 10 fill burrito bottomless cup coffee think great deal addition regular menu also daily specials theme brunch cant wait go back try things menu its great full service restaurant get oodles vegetarian items restaurant change management past month go last night order extensive szechuan menu back page wow never good chinese food life pork belly spicy delicious spicy oppose 2 pepper sign chengdu chicken total winner chongqing dumplings little bowl 7 delicate dumplings stuff light pork fill douse kick chili garlic sauce clearly im one whos become fan recently place pack monday even heed pepper warn order back page become every saturday sunday tienda delicious take food quesadillas tamales whatever else owners friend happen make highly recommend stop pick lunch call ahead find whats available pleasantly surprise arrive im pin day guy open restaurant addition delicious weekend lunch spot tienda also boast large selection spice pepper mexican basics cheaper price equivalent store illustrious strip district first thing charm tram kitchen tablecloths exactly like tablecloths saw little hole wall restaurants throughout vietnam decor similar youd get vietnam dont like decor probably never go vietnam term food service quick food pip hot quite delicious expect fresh herbs pho complex broth make definitely head back cheap tasty hole wall pub chip shop open anticipate south side open 2013 possibly 2012 worth wait really cant go wrong everything ive order watch others order baps sandwich pies fish chip outstanding problem easily order way much food youre careful need side fry bap youre try mushy peas actually taste like fresh peas its best take order go many seat seat exist arent comfortable condiments counter shake stick include dread staple pub food malt vinegar service quick pleasant lunchtime also open late night carson street munchies post bar crawl enjoy chicken latino great addition lunch spot strip owner super nice happy talk home country peru portion large never make mistake order quarter chicken 2 side plus others say chicken quite tasty look forward try burritos husband spicy food aficionado would happily return little plastic containers green sauce waiter warn its spicy hes kid dab check next time youre strip restaurant big enough group paint remind warmer enjoy tater tot yes bar tater tot menu need say note avoid uber crowd south side bar midnight friday saturday youre either drink see get good service however head marios happy hour youll get good crowd good price decent draft selection tasty apps insanity wing rival bar neighborhood ahem fatheads level spiciness nachos make dinner 2 stay happy hour price still pretty reasonable bartenders still pretty nice its great place watch pen game college basketball game overall its good weeknight bar classic hardwood everywhere nice bathrooms tater tot place ultimate two star crave cheap gyro downtown night pittsburgh place go unfortunately mike tonys close 6pm wont get good service get freeze french fry toss deep fryer serve disappointingly small portion scrounge around bottle ketchup hot sauce however gyro meat freshly cut spit stuff sandwich good deal 4 30 overall arent many cheap place open night downtown go youre strand cant stand think another sammys corn beef sandwich otherwise hold one downtowns great lunch spot get take ali baba order bunch la carte items way much food note website menu price raise 50 cents item theyre still rather reasonable also appreciate give us whole bag pita bread take home whole heartedly recommend baba ghanoush muhammara chunky texture make wonder grandma walnuts back mortar pestle im look forward go back try dish atmosphere inside restaurant look modern nice spot romantic dinner overall ali baba go become regular take night house id recommend pick couple large containers dip next party trip burgatory get bad start give 45 60 minutes wait table monday night youre way water work its like youre go change mind hop back car wander soulless shop plaza least 45 minutes give table understand wait friday saturday night monday night place clearly popular good needle say stomach growl sky high expectations time sit love restaurant attempt simplify meat order ask color want meat red pink slightly pink ask pink get brown its lot worse misunderstand medium rare mean thats biggest gripe everyone table ask different color wind blah brown aside actual burger cook level shake lovely beer selection vary toppings outstanding claim burger place burgers right end back ill insist red wont go way wander around water work aimlessly another hour life tessaros wingharts closer better reason worth go ogle scenery its one tourist event dont discourage towners visit everyone love drink beer fabulous church however place locals food snooty price head bloomfield bridge tavern want good pierogies beer isnt bad suffer insufferable waitstaff drink head penn brewery good pittsburgh brewery overall walk look around get beer bar must take greener pasture time add accolades pretzel shop pretzels wonderful one cheapest tasty lunch around pick pretzel sandwich head park bench nice day chow caveats though 1 tend run reserve pretzels call advance though 2 close way early open till least 7pm preferably midnight cant imagine post bar business could carson st youd better get pretzel crave 3pm youll luck 3 dont sell chip youre type person think sandwich chip make take time stock chip elsewhere others say lot bake goods include rice krispie treat seasonal cookies personally recommend side pretzels happen joint happy hour beyond ive walk huge windows downtown amaze many people drink inside friday night finally make inside disappoint use mojito mix seemingly popular mojito least freshly mash mint martinis generous pay price enjoy measly 1 happy hour week dont blame better happy hour youre already make money hand fist fun place hang expect spend lot money stick around atmosphere probably best downtown bar crowd surely older side unfortunately still allow smoke place big airy enough its much issue overall definitely head back bossa nova another night nice atmosphere ill stick one drink time carson street deli great south side business year owner run wednesday night beer taste place learn every new brewery get distribute pittsburgh learn like new type beer dont miss annual stout float taste also constantly rotate tap selection least one tap always devote east end place south side get east end growlers fill dont growler good price great variety choose six pack aside beer wednesday nights carson street deli always dependable sandwich large grease its one healthiest lunch options youre south side get sandwich deli meats breadworks bread e godfather wont disappoint add bonus one cleanest well light bar south side place go mom new significant its hard go wrong reasonable price swank atmosphere delicious food restaurant heartily recommend malaysian beef rendang seem like dish hit miss especially generic chinese thai categories ill definitely go back rendang get extra bonus hard find malaysian food menu stagioni officially move bloomfield south side great addition south side din scene sound bloomfield review things change better still amaze make order mozzarella still regularly rotate menu feature seasonal items separate bar area din area walk directly bar area turn another quieter room reach din room wednesday night lightly crowd make quiet romantic even waitstaff attentive encourage husband split main course along mozarella 2 small pastas plenty food 2 gnocchis delicious little pillow dough would return heart beat mushroom pasta equally home make lack little excitement main course duck breast also perfectly cook well make cocktails tip diverse fill meal well 100 far stagioni doesnt appear attract crowd bloomfield give quality food relatively reasonable price dont expect quiet last long heres hop revive brunch south side location urban tap solid 3 star good addition south side think stick around long time pros awesome lamb open late generous draft selection include local breweries well design space great people watch friendly servicecons price draft list waitress could know beer urban tap open months ago already make list place go good food good beer good service good atmosphere tough combination come place also seem toe line well restaurant sport bar kitchen open late often end late dinner weekday even overall im pleasantly surprise food urban tap its fine din its many step average bar food like top combinations include tzatziki sauce lamb burger avocado pineapple relish chicken sandwich salads stuff interest green generous toppings chevre spinach salad candy pecans pancetta winner generous portion make price reasonable though havent try expensive entrees south side establishments beware friday saturday nights inevitably loud crazy bar crappy service ive double wide twice brunch twice theyve mix side dish one plat table fun atmosphere innovative breakfast items make huevos rancheros double wide benedict big winners special emphasis big omelets huge items werent punchy flavor hop breakfast burrito lot items menu want try vegetarian friendly customer im super happy see interest veggie items like seitan wing lentil veggie burger tofu scramble avocado club overall double wide good brunch location lay back line door good food its probably even better summer large outdoor patio area chicago style pizza delicious chunk season tomatoes gooey cheese nestle inside pizzas quite tasty well delivery quick easy cant speak authenticity chicago pizzas ill return many time little chicagos yummy box good description place dont know else get substantial korean inspire bento box 7 place chinese take korean bento box its great alternative want take bet would good lunch spot wouldnt head sit dinner overall surprise treat take food stop lunch saturday one table fill theres sign counter say wait time may 5 minutes grab menus sit hear smell cook kitchen area back minutes waiter come take drink order follow another waiter minutes later take food order unfortunately mutton egg chow mein spicy sauce chicken curry momos dumplings flavorful ginger dip sauce vegetable traditional nepalese stew food pretty hearty comfort food pleasantly spicy fill plenty fresh vegetables everest surprisingly large strip mall restaurant 51 atmosphere pretty spartan awkward would happy go back takeout bring bottle wine byob reasonable night small group almost everything menu 10 perhaps get popular fill many table bustle fun place go palomino great happy hour every day 5 7 happy hour its great place get drink head theater catch flick harris downtown bar service hit miss youre hurry want enjoy delicious appetizers reasonable drink youll grand time recommend calamari bar area lot windows look hustle bustle city well comfy leather chair relax warn bar quite crowd friday night havent dinner yet din room nice atmosphere soft light good crowd its cold even youre near one subway stop town hop go gateway center emerge beckon warmth palomino close re open hours questionable great deal happy hour extensive wine list serve reasonable comfort food call ahead library new favorite bar food dinner spot south side delicious apps sweet potato fry jalapeno aioli dip plus good selection draft beers win choose smash happy hour low key atmosphere its easy let night slip away drink table near bar unfortunately ive winter hear deck stupendous look forward enjoy next summer its often south side find good food dont dress library welcome addition favorite primanti brothers restaurant oakland location top lunch climb second half level look grill sandwich get slap together primanti brothers restaurants get great heap sandwich slaw fry serve delicious fall apart white bread location adjacent university pittsburgh get add bonus good beer specials help wash sandwich place review death ill make point 1 decent quirky vegetarian food vegetarian friendly ive never anything bad anything blow sock good 2 authentic anything desire thai curry burrito gobblerito menu enough say 3 dark eye adjust 4 good draft list happy hour 5 get drink margaritas without realize careful dont go way romantic dinner want good eat drink atmosphere happen oakland mean stop enjoy best cupcakes pittsburgh ice isnt sickeningly sweet finish one dont feel sick stomach want another one luckily 2 50 price tag keep stomach check cant wait go back always take friends see cute little storefront indulge cupcakes problem sell recommend vanilla vanilla disappoint mom move desert food area whitehall along come california taco shop wide assortment tacos tostadas burritos enchiladas come choose meat skip generic grill chicken branch get carnitas marinate pork chunk delicious youre truly adventurous get lengua tongue tripas tripe bottom line big burritos stuff brim flavorful well cook meat cheap price friendly service casual atmosphere spicy homemade hot sauce crema yum youre unfamiliar mexican dish wikipedia article print throughout restaurant explain everything taco carnitas california burrito casual joint thats great addition bleak stretch 51 envision many fill cheap lunch future stop lunch brand spank new hello bistro remind panera character grease order counter take number card food deliver table bonus bus table youre do eat quite crowd lunch today turnover quick always table available impress find fry bite greasy great deal 2 large paper bag see late night snack do salads real winner big bowl overflow fresh veggies meat combination imagine cheat like pick one standards its tad expensive side casual fast food probably one healthiest lunch options south side stick salads overall make nice addition south side lunch options easy quick dinner option want burger salad tin style ceiling expose brick general decor also take step average lunch fare seitan sub alongside philly cheese steaks talk fusion cook seriously guy make good sub bring quarter play arcade game wait sandwich pizza its fun crowd penn ave unblurred live closer id go lot often dont miss take gander graffiti exterior wall spray paint previous unblurred event great spot breakfast love sit window drink coffee wait long time delicious home fry recover hangover service isnt quickest food good classic reasonable diner food nice location bar old hardwood behemoth span long restaurant feel history eat also table outside specials every sunday morning also fine lunch spot good standby joint south side youre whiskey aficionado heaven beer selection also quite respectable slant towards bottle english beers also cask beer tap east end brew company always solid choice others say dinner portion huge fish chip could fee meals real highlight spot soccer mean football game website tell upcoming match its one place pittsburgh youll hear chant usa usa usa usa score match small unassuming restaurant near south side work serve tremendous breakfast fare delicious frittatas top broil age provolone thick slice cinnamon french toast everything winner theyre also big fan breadworks bread dish serve alongside thick slice toast bread drip butter serve sandwich fine look prix fixe dinner save another time another review price yo ritas definitely good get add fact its around corner its even bigger winner simple menu restaurant smash chef lot fresh ingredients lot specials 90 tacos tacos pretty sizable problem youll want order 3 try different varieties chip dont want order 3 hand best place mexican inspire food city hope start open lunch head even chow delicious tacos nice warm escape strip cold day make good hot vietnamese soup real star place hoagies get outside restaurant though delicious grill chicken stuff sub perfectly pickle onions jalapenos toppings ive day place earn follow outdoor sandwich service folks work dont best grasp english sure get kick try pronounce vietnamese word reviewers state penn avenue fish company best fish city bear mind also expensive fish city go fish need something perfect want something special im make sushi home never skimp sushi also casual order counter lunchtime business price higher normal fast food lunch option quality top notch like fish tacos 2 tacos make generous lunch convenient take chinese place bomb judge chinese take depend quality hot sour soup soup lovely big chunk tofu little mushroom float throughout though id prefer exotic mushroom throw overall place quick service throw lot big chunk fresh vegetables whens last time vegetable fry rice chunk bell pepper broccoli pea pod onion kung pao chicken could spicier next time ill ask allentown neighborhood 1 china house major detractor id concern safety head night delivery however youll get basics quickly happy order want attitude order pizza place go cheap price questionable neighborhood greasiest pizza ive long time its definitely cheap walk star attraction paisanos man work behind counter grill group origins clearly arent pittsburgh natives didnt take personally heckle everyone stop allentown meet interest character guy one youre crave big greasy pizza head paisanos tough skin intact reasonable restaurant great service wasnt blow away quality food quantity right place two us order two starters entree leave full id equate food middle eastern comfort food little bland little drab fill every time leave satisfy also still corkage fee though supply stemware open bottle absolutely qualms overall good standby place eat weeknight would good place introduce less adventurous friends eat middle eastern food helpful waitstaff reliable food hide gem downtown breakfast options talk owner learn cafe use lawrenceville locate downtown 2013 lawrencevilles loss downtowns gain large space soften lot green table 2 accent art deco lamps larger high top table fit 4 people isnt good place big group food cook order wait serve fresh slice baguette jam butter tide individual breakfast serve pip hot quite tasty husband especially enjoy huevos rancheros fresh roast vegetables spicy sauce home cook bean big fan super fluffy greek omelette lastly serve big cup la prima coffee want hearty vegetarian breakfast go convention center place go aside review mention surly owner cook im happy report hire waitress friendly find owner bite gruff friendly delicious starters go 3 people share 4 generous appetizers wonderful even especially enjoy lebanese style hummus meatballs welcome back never go last location real mccoy didnt seat inside honestly kinda dingy look spite good review new location still doesnt seat clean shiny re open closer neck woods carson street check see fuss make damn good hoagie love pepper relish tip regularly run roll meats since re open make sure get early spite say open till 7pm probably still stand line line move quickly enjoy people watch walk pittsburgh life love establishment contractors businessmen tattoo artists order original standard toppings others say fast food damn dream jerk shrimp next decade small restaurant cook back waitress host front wouldnt surprise theyre family wasnt impress main dish jerk shrimp appetizer think brown sauce little heavy oily unfortunately didnt save room jamaican rum cake would love try also quite items include fish ginger beer overall its charm restaurant friendly staff obviously try best fall short speed keep ingredients stock taste thats whats important go friday night adjacent bar close 9pm offer soda disappoint enjoy margarita go dinner mexican food especially odd location carson st overall say experience taco loco okay like salsas come tortilla chip chip bite stale green sauce chocolate mole tasty nothing write home ill go back lunch tacos dinner quiet entrees seem overprice save grace sheer quantity food serve plate go dinner go hungry six pack hot dog go together pittsburgh like coffee donuts place right walk mt washington need unpretentious dive bar place unwind beers eat hot dog wide selection place fit bill every time price reasonable take lounge couch drink inside take incline venture little main drag find gem bar marco embury necessarily bad thing bar restaurant completely revamp first floor open paint everything white its spectacular space second floor dead unused cavern self small tasty food menu highlight nibble crest duck charcuterie interest small wine list cocktail list also interest could use explanation one din companion impress bar marco manhattan could remedied simply list basic ingredients 4 weeks open paper menu list 3 red win one substitution website similarly date sit emburys old dig tough competition bar marco promise love concept food wine cocktails space point lack something execution im look forward return finish touch hope earn another star great little restaurant get crowd excellent mother daughter brunch thoroughly enjoy food find serve large delicious especially 4 cheese omelet decent service crowd food coffee werent sacrifice im look forward another delicious breakfast its little expensive typical breakfast choice give food quality quantity price reasonable tip arrive promptly saturday morning 9am open plenty table open darling gem 50s restaurant allentown its spic span inside coca cola paraphernalia shake stick its also best deal town two items 1 diner cheeseburger french fry 2 99 50 cents want fix generous portion food freshly cook way way better mcdonalds also stand stuff 6 sub 2 friday saturday deli meat specials else get assortment meats cheese 2 99 pound seriously must land o lakes american crap cheese special 3 89 pound every friday saturday ill eat provolone swiss hot pepper cheese cheaper make friday lunch spot deli save buy lunch doesnt keep come back friendly service unassuming place north side close mattress factory walk door hit wall smokiness rib kind know serious place owner mr wilson quiet man word 2 choices rib chicken rib come small plate large plate full rack add side soda 1 go small group fill silly rib side good sauce small plate rib fill lunch others say decor nothing write home table business take definitely return tooties gourmet health food tooties sell 2 type meat spicy italian beef sausage get either sandwich mix sandwich dense meaty make fact 4 italian beef cost subway footlong get 12 tooties also invest bottle tums actual storefront tiny counter much plan take sandwich bag eat street home others say sandwich good counter balance hot dog gyros pizza get elsewhere south side far ive sandwich 2 fill lunch im look forward enjoy late night drink food stop youre hungry fill juicy beef sandwich wont regret jack jack great drink price large mix drink pitchers shots lot smoke sneak past refrigerator go back room jack nightcap night drink south side also serve holiday dinners thanksgiving christmas whomever walk everybody go jack dress code snootiness though bouncer card friday saturday nights hes mainly keep peace classic pittsburgh establishment see walk life morning night dont miss jack south side bar crawl though neon light youd try actually miss original primanti brothers though favorite best one see wide variety pittsburghers eat lunch last time sit bar surround general contractors guy suit its nice bar surprisingly large area eat inside sandwich come quick cheap expect wonder primanti brothers sandwich hinge great white bread vinegary coleslaw hand cut fry stack high recommend sweet sausage sandwich though its definitely one messiest kind place youre serve coffee anything else placemat menu temperature control questionable sausage omelette feature meat market ham freshly slice tinfoil cover bake ham behind counter youll watch breakfast cook behind counter dont ask waitress detail shed tell anyways favorite part olearys decor its long narrow restaurant one side wall completely take street art requisite south side tin ceiling theres always tune play mini boombox real drawback olearys regulars eye bite funny first walk door turn pretty harmless though place good huge gooey sandwich another reviewer say may like youre drink lunchtime bring appetite split one two people'),\n",
       " ('eYnS0WVYYykN_gRuMUzoOw',\n",
       "  'stop pittsburgh home garden show quick drink couldve turn meal place cool mean decor design lot eye catchers around room get seat table near bar felt like top party next us room design its loud best ambiance conversations wait server finally come ask want drink decent cocktail menu friend get dirty pickle dose good give late night snack menu 4 pm wasnt sure happy hour werent tell cocktails plus service dud fabulous options dinner near decide move hear talk cant say im run back something miss oh goodness love brunch twice join line outside greet right doors open seat right away ambiance clean simple little smaller size service always smile prompt time ive get ham egg benedict hefty portion chive hollandaise sauce scrumptious ive bite waffle equally scrumptious say potato gratin must order size every single time specials everyday always make mouth water like place keep coffee come feel like could spend hours catch friend back cant wait try dinner point enjoy great experience theater even stun outside love theaters intimate set really dont think would bad seat house find chair pretty uncomfortable like others state live park garage right next even think may bite difficult make easy excellent experience watch talented cast back look quick bite eat lulus good decent asian food great fast lunch near craig st five star meal mean dish full flavor come hungry portion huge ambiance youd expect affordable college student spot casual excite try id really give 2 5 star could ambiance low cost bar furniture modern art wall its bad its clean simple style doesnt mix well rest brand seem like art may local artists great also gentleman play guitar nice service good waiter excellent job give us low menu drink lead us problem area try two things recommend mac cheese shrimp say deep fry italian roll recommendations since menu seriously board things could simple make extreme way deep fry italian roll good feel gain weight good none less hungry sure would enjoy much normal day mac cheese come ugh runny watery noodles couldve cook longer 4 dollar addition add shrimp ridiculous tiny tiny shrimp bum want love place like great beer selection may come back beverage two wont eat anytime soon try something else cant fox chapel nice local low key bar restaurant part really love tell last experience im sure go back ambiance really cool theres its unique experience old church drink beer say enjoy beers put much love food its also one convenient place go city park lot anyway waiter pretty bad attitude food take forever wait 1 1 2 hours finally get dinner 9 pm mine decent another member party order hot sandwich straight cold politely ask hot sandwich order waiter unhappily take back say remake well remake sudden come back minute later clearly microwave still cold middle continue meals point hungry cost food ridiculous super slow service way longer want need ready leave many better place eat drink pittsburgh days church brew work keep level competition area id head elsewhere spend money food service worth today trip carnegie museums head street lunch ive hear mix review anxious check porch start soft pretzels appetizer oh goodness delicious serve mustard beer cheese fry soft pretzels day dream days come next share bianca pizza delicious ive similar pizzas fig jam take another level enjoy glass white sangria nice refresh nothing spectacular service prompt enjoyable ambiance nice yet casual favorite enjoy walk whim pittsburgh home garden show boy im glad greet host explain concept floor something different werent mood meatballs tapas 2nd floor go mezzo four us share artisan italian cheese plat well bread basket start come along someone explain different type cheese bread front us lot impress server know exactly one well present enjoy try cheese test memory next come dinner order quattro fromaggi marghertia pizzas great follow delicious start arent typical pizza joint pizzas full flavor perfect crust full service presentation knowledge menu point ambiance one kind pittsburgh three theme can not wait go try next two floor stumble upon place visit strip go look around wasnt sure taste leave manger owner presume ask taste anything respond happily give us true taste offer boy glad everyone olive oil vinegars good didnt leave empty hand cant wait use products kitchen dont necessarily anything bad say awm dont think its mean 5 star establishment since great review decide give shoot sit bar bartender wasnt rude wasnt friendly decide bottle wine friend decide wine cocktail say good menu like al carte menu cheese meats grill cheese wine good didnt get snack home place sell things keep home weekly basis hard spend money youre look change scenery low key ambiance place enjoy glass wine spot though small kind seem werent regular dont fit common among place lawrenceville oh art wall definitely different bite depress underwhelmed its overprice chinese food isnt even good get hawaiian chicken pretty much chicken tender top sauce everyone party admit meal bland get better cheaper chinese food without white table cloths high price enjoy ambiance service thats get 2 star regardless wont go back good beer time go last time saw mouse run across floor eat tell thats normal havent back better subway jimmy johns doesnt accept debit credit card day age ill make sandwich home mention love big burrito group confirm still want subscribe email list send free lunch entree respond decide use coupon try one restaurants havent yet yum decide go piccola gusta option could try bite everything go arugula salad gnocchi sword fish sandwich outstanding unfortunately large dark hair salad notice immediately thank goodness waiter take care promptly lot time would let ruin experience try hard let anyway finish meal carrot gob yum service okay seem kind forget us bite odd one point fork entrees front us guess always expect something little far service something like hair accident happen food make place hand long isnt hair sit cover indoor porch area cute lunch honestly seem though segregate people appearance sit inside go use restroom work service casbah could easily 5 star maybe next time come easter brunch expect lot ive grow everyone area talk great fancy le mont well ill tell much never go price brunch buffett terrible service gentleman leave empty drink try figure buffet station food cold buffet even best part cheesecake delicious view gorgeous well get free mt washington lookouts maybe regular meals better desire even try excite try hype move everyone keep say love tai pei last night order take leave us disappoint fianc\\xc3\\xa9 get amaze chicken get sesame chicken also order crab ragoons chicken meals leave us want something far flavor mine need bite sauce make dry crab ragoons fantastic cant say much service since take portion size huge make price bite bearable youre get lunch dinner meal im excite lunch theres much leave say maybe go back try sushi see great experience last weekend its radar always seem forget go around 5 30 think could beat dinner rush since dont make reservations boy assumption full house tell 70 minute wait offer hold wine byob would call ready make ok time eat time tell wait would order prosciutto rucola pizza butternut squash tortellini crust sauce cheese ratio perfect homemade noddles still daydream everything full flavor fresh finish meal split peanut butter chocolate gelato rotate menu amaze waiter nice attentive decor simple tho small inside dont feel like youre top table next back whoa take us long enough get recommend make reservations far advance weekend want decent shoot eat normal dinner hour luckily finally remember reservations 7 get early anticipate would grab drink bar ready us sweet server barely polite never tell us name lucky excite get cocktail beverages extensive list good appetizer order cheese plate runner explain cheese yum wait 45 min hour later acknowledgment food way pleasant server hungry food able ask come scallop hanger steak satisfy meals delicious thank goodness wait opt dessert fear wed wait another hour decor ambiance cool interest wild game its intimate pretty dark make sure phone charge flash light hype service pretty disappoint 2 hours couldve another couple time know long wait food definitely bring us back heres thing want love tender lot aspects would scream name cozy unique atmosphere cool decorative accent waiter helpful especially pick one many options cocktails get moneys worth drink delicious strong pittsburgh restaurant week limit menu get sweetbread scallop honestly dont remember desert good great ive better thats problem end day would go back eat probably give another shoot full menu would go back drink cheer say its fill niche pittsburgh come bbq food isnt necessarily favorite type food open try fianc\\xc3\\xa9 go yelp elite event get try various cocktails food love type food try devil egg dont even think menu piece pork shoulder brisket end bread pudding tender season perfection leave us want try event need food full try 1 2 fry chicken side mac cheese share yum love mac cheese come warm super cheesy creamy chicken good well bread crispy light southern fry chicken get close cocktails wiggle whiskey inspire use bitter make well unique components ambiance causal share table red checker detail service fine one girl seem rather miserable one else work negative seem little overprice food love cocktails wish theyd appetizer menu would defiantly munch friend green tomatoes pickle adult beverages also prepare come nice smokey smell cigarettes smoker great type food im sure fianc\\xc3\\xa9 beg come back really like shady grove its simple low cost relax even outdoor seat people watch shadyside summertime go meal summer salad salads huge wouldnt leave hungry bed lettuce delicious toppings ive things like sandwich always tend gravitate toward salads big full flavor also fabulous happy hour specials take advantage care beverage wine wednesday always hit never ever issue service many time visit always friendly attentive always go simple meal area im tell get summer salad its good crave reason end twice one week different group people place fantastic place downtown cheap eat drink lay back vibe awesome happy hour specials food bar food concentration gourmet grill cheese its pretty good first time fry pretty cold disappoint service always quick reliable wouldve happier burger five guy though youre look chill hangout grab beers dozen tap go want good meal lot place area better cheer love place glad make reservation its smaller side pretty poplar get greet take outdoor paradise its true folks outdoor garden din area make feel like near butler street shrimp pad thai favorite great portion full flavor appreciate ask much heat youd like well im someone doesnt like things spicy service bite slow didnt stop us enjoy also help byob werent wait drink can not wait go back its favorite asian restaurant around cant believe havent review yet love its wonderful market aspinwall community many specialty food items include dietary restrictions make food super good sandwich side things ive try completely satisfy dont even bother go panera get real fresh sandwich orzo roast veggie pasta salad favorite oh first visit owner welcome us neighborhood give us brownie try know hook always friendly service something new try oh always sample stuff intrigue work yum gosh im happy yelp lead place gorgeous saturday afternoon decide check arsenal cider house its butler st house would never expect greet someone sample area welcome find first visit try multiple cider options bone dry semi sweet definitely something everyone pick pear cider sell growlers glass buy growler head outside courtyard area winery like bench chair table umbrellas work lucky us food truck day blowfish bbq food amaze thats another review music go start soon get go would love enjoy live music well enjoy sunny afternoon sip hard cider sun back soon one word underwhelmed fellow pittsburghers stop impress cool ambiance let get back really matter ill say ambiance cool its connect hotel monaco little portion hotel get see look unique artsy fun commoner play along well bite loud like new pittsburgh restaurants service okay wasnt exactly service smile terrible job explain sell meals question entail food um pay much mediocre american food oh its new restaurant downtown interest ambiance bread taste stale defiantly fresh crab shell cheese bland lack flavor nice big chunk crab cheesey flavor goodness lastly scottish salmon okay bite undercooked like ask id like prepare due theater showtime eat move needle say excellent restaurants pittsburgh wont back maybe drink bar look like could much better experience far favorite brunch buffet ever come father day reservations weeks crowd pleaser everyone get seat booth right next water beautiful view meal holy buffet though anything everything want pancake waffle french toast station meat station dessert station entree station oyster station favorite fresh doughnut station doughnuts come fresh folks also like make small versions desserts encourage try one also omelet station im sure im forget could go food many delicious things waiter great explain things favorite things offer think buffet 27 person well worth its beautiful old train station plenty uniqueness build like buffet brunch best one around back hope soon live road cornerstone main reason many visit first fabulous happy hour specials every single day drink food live area minimal night life many byob restaurants nice ive eat bar lunch dinner point lunch ive salmon sandwich actually good ive steak salad also equally good try plenty appetizers none anything write home bread always come cold look entrees price top add salad 2 opinion try charge fine din price local mediocre place eat say ambiance doesnt give high dollar feel either ive never issue service its always dead 8 pm even small place bottom line great happy hour deal decent overprice food ill back since its block way enjoy id say its worth travel aspinwall dozens better place buck good place go look casual decent meal along beers pride variety grill cheese sandwich end take idea make better version home fianc\\xc3\\xa9 get two different ones waiter say popular half sandwich cheesy capresey wang chung tonight like say decent mind blow make sound sandwich really disappoint didnt even taste gouda wang chung regardless sandwich come choice fry regular old bay season sweet potato cup tomato soup sweet potato fry good im hard impress french fry though soup bite smokey taste bud fianc\\xc3\\xa9 enjoy ambiance remind college bar restaurant may its actual basement theres lot tv simplicity space actual bar area small cool ton draft beers notice lot people try im still surprise place book night reservations saturday theyre literally tons better place around decide go play ear luckily wait bar 25 minutes seat complaints service plain ok meal run back wouldnt say go back visit twice one time eat one time drink must say prefer drink eat aspinwall need bar like its lay back sport bar thats notch higher dive its clear still work kink thats expect brand new place service always welcome drink fair price food pretty standard bar food nothing ordinary its perfect youre drink beer watch game one 12 tvs four star residents aspinwall make trip town hope develop drink specials entertainment future experience time come place walk its kind cluster host seem stress maybe due un organization shes barely pleasant time wait someone come table get drink result switch server first time server tell us original server stress take table second time barely pay attention us lead dad go right bar sit order drink wait 20 offer cause server change things get go turn pretty good time food delicious fresh cod sandwich huge could share someone last time order lobster bisque fry appetizer stand good dad say mussels equally good werent rocky service itd four go patience especially youre hungry thirsty think two visit enough'),\n",
       " ('A0ssDikuj0SQr9mVqnh91Q',\n",
       "  'sit bar good drink bunch beer options rum course fish tacos quesadillas good seem like solid choice happy hour due deck much need area need options ill come refresh review try dinner go lunch crave taco hard shell stale wasnt impress rest salsa come flavor seem tomatoes booooring tasteless probably go back see bad day stale hard taco shell flavorless salsa mexican joint seem like blasphemy sad face flesh mussels white wine seem everyone order least one serve need find go fresh broth delicious would prefer garlic im bite obsess staff friendly attentive show pack things smooth run time able provide good customer service delicious dessert tiramisu yum ill back cant wait good bar good bar food mention good bar food simply cant say wing make good wing also waffle fry thats always bonus theres beer options specials good consistent every time ive go appreciate place deliver consistently must say wing de lish ladies youre go find love life certainly good time rarely eat chinese menu items appeal hot sour soup steam dumplings im usually weary try new place someone suggest chinese yelp local place since move pa well steam dumplings superb sauce sweet delicious enough flavor might want drink seriously havent yet ones watch next time order may hot sour good black pepper flake im use its tasty since place discover week ago ive order 3 time its clear like yum unfriendly disengage associate ask black widow cake one could answer like locally own wont come back location much say quality coffee drink snack poor staff place legit chorizo tacos spicy perfect even rice amaze definitely come back next time ill hungrier 2 tacos simply allow eat much would like take credit card tip cash like others say wish would find sooner even though outside doesnt seem like its real real offer cupcake wine love never find anywhere local small restaurant busy mean food fresh staff friendly see like work im f town amount people know name remember like order make realize pick well sit bar red pepper hummos finish bite spicy delicious eye woman eat rib look great plate empty look back clearly like meal love area pittsburgh choices far ive yet disappoint ive go limit seat offer outside seat really great summer ill im town next ive give place 3 try time hop im go like outside space ambiance tell cant get past mediocre food choices beer ive say im beer drinker usually find something except another stop brew tour take brother visit even beer lover didnt even want try anything offer thats wont try love place get picky annoy food choices possible without annoy one staff first pick things love second watch cook its quite cool watch rookie mistake didnt realize put sauce choice side ensure select marinate meat dont need sauce salty user error good thing buck unlisted time make mistake get something else yum atmosphere fun definitely would hang downside want eat vegetarian order vegetarian saucy ball mushy crispy hop hop crisper outside make better texture sort squish apart even word would definitely go back try meatballs however opinion youre vegetarian perhaps best option place eat rest vegetarian meal delicious order side broccoli get saucy ball pesto want actually shots stuff good great experience really enjoy atmosphere meat eaters meatball lovers place listen people real hes attentive professional drink food impeccable come try love every time go eat thing egg white veggie omelet delicious cold door open agree previous post dont expect small place pittsburgh additionally love open late hours weekend yum go place breakfast havent simply must its consistent delicious staple week usually get thing really branch always happy non beer drinker mission take brother visit many local breweries possible east end last stop 3 day tour happy wife try almost every beer walk away growler bigger hop really like well best part non beer drinker ginger ale really need try cleanse palette remarkable its gem really glad end tons beer options great tvs watch sport even gluten free beer options like black leather couch front comfy offer seat outside gluten free dinner menu tapas share good drink fun atmosphere time im city go restaurant like chip salsa get 3 fresh salsa choices plantain chip corn tortilla chip yum salsa dance nights its great happy hour place everything fresh tasty love ive everything eat delicious everything bad meal least 10 time past month yum burgers good although reason 2 us think need onion ring portabello fry appetizer addition burgers leave full next time know order much food good want eat everything stomach can not handle can not wait go back burgers yum walk space perfect its small intimate set exactly would imagine eat remarkable food go brunch first order bloody marys arrive drink didnt youre use see think quickly maybe thats gon na taste good take sip realize ornament fun real deal love menu small mean go excellent choices simply can not go wrong right bake house say can not wait go dinner downside sooner someone really push go age ago kudos restaurant really pittsburgh right make 6 pack many beer options open late love place consistently slow always understaffed ingredients often sure standard locations one solid c time make reservations online yelp 8 15pm first time available arrive sign say private party mention wait bar hop finish party get us seat 8 15p big deal head bar drink pretzel app decent pretzel good signature drink options load beer choices seat 8 45pm order yard burger really good id skip fry someone else party order keilbasa pierogi supper fine someone else order big bowski really like sandwich didnt care soup didnt eat fry much food saw everyone mainly order grill cheese appreciate bread thick cut thing dont feel like eat id vote yard burger everyday really tasty three star wait know isnt control shouldnt able book reservation time couldnt accommodate go update never issue car wash much thorough others area vet affordable restrooms park lot always clean free debris make order food fresh quick chicken caesar salad extra meat fill affordable healthier option fast food chain')]"
      ]
     },
     "execution_count": 19,
     "metadata": {},
     "output_type": "execute_result"
    }
   ],
   "source": [
    "userReviewCollected.take(5)"
   ]
  },
  {
   "cell_type": "markdown",
   "metadata": {},
   "source": [
    "### Collect product data from train data (Product, Review)"
   ]
  },
  {
   "cell_type": "code",
   "execution_count": 20,
   "metadata": {
    "collapsed": true
   },
   "outputs": [],
   "source": [
    "prodReview = train_data.map(lambda x: (x[1], x[2])).groupByKey().mapValues(list)"
   ]
  },
  {
   "cell_type": "code",
   "execution_count": 21,
   "metadata": {
    "collapsed": true
   },
   "outputs": [],
   "source": [
    "prodReviewCollected = prodReview.map(lambda x: (x[0], \" \".join(x[1])))"
   ]
  },
  {
   "cell_type": "code",
   "execution_count": 22,
   "metadata": {},
   "outputs": [
    {
     "data": {
      "text/plain": [
       "[('5REYrZfsX3m4E3FTwovp5Q',\n",
       "  'try first time last night pretty good one thing really annoy restaurant see review verde entire restaurant fill reservations can not even seat walk 2 people restaurant empty really avocado corn ceviche mojo criollo nigiri avocado crab delicious mojo criollo favorite everything taste super fresh flavorful serve good size date share wine meh would think place thats like tapas wine bar wine would better order frontera sauvignon blanc often buy liquor store slo wine hm lame hate pay 9 glass wine restaurant easily buy 10 liquor store seem justify least slo bottle service good nice time would come back absolutely love tacos havent try anything else menu taco addiction simply put food delicious however portion extremely small order leave place full youll spend pretty penny wouldnt recommend place youre big eater would terrific spot go show light snack drink food nicely present tapas style really nothing remarkable dont go dinner often would impress presentation fancy cocktails small way expensive get even entrees serve little bigger tapas size nothing great many better ethnic restaurants city atmosphere hip trendy dress impress go sit night didnt look busy apparently table open party 4 outside even though saw empty table inside ambiance sit outside pretty nice service pretty slow border inattentive food portion small overprice apps get chip salsa 2 kinds serviche best sauce red smoky good serviche 2 ways disappointment x2 small portion tacos small cheaper good flavor probably give 2 5 star never go back pop last night show friend grab quick bite beverage contemporary atmosphere crowd wednesday even expect sit bar immediately greet bartender service timely throughout stay order asian tuna tartare upon waitress recommendation delightful great mix textures flavor bite overprice id say downtown expect wife numerous time love every time love come happy hour order almost everything happy hour menu almost everything get pack tons flavor favorite items tuna tartare fire ice blt taco drink wise love caipirinha last time 5 happy hour last night go seviche first time call first case would need reservation 8 30 problem walk literally pick table want order pork empanadas hangar steak do tacos beef cheek chicken pork empanada ridiculously insanely wonderful would eat entire massive plate size next time might atmosphere fun light play lot 90s music its uptight atmosphere super dressy bar walk drink surprisingly bite rowdy seem like late run work event waiter nice also face also friendly feel customers everyone smile say hello like local bar something like love perfect pittsburgh summer night spend sit sidewalk patio sip margarita atmosphere great service friendly attentive impeccable green share plantain chip assortment salsas delicious fish tacos amaze friend order crispy tofu its blend flavor us declare favorite dish come first time last night impress right downtown indoor outdoor seat suggest make reservation drink strong suggest check yelp get free glass sangria start fire ice seviche ahi tuna jimmy roll jimmy roll good would recommend everyone husband special two soft shell crab tacos 14 love order three tacos 15 baja fish braise beef cheesesteak good cheesesteak favorite really enjoy food go back fish look fresh decor ambiance youd expect financial district could love concept mix match ceviche restaurant nothing notably bad also nothing id call notably great get conch scallop oyster ceviche use ice fire standard lemony ceviche toppings oyster ice fire pretty innovative flavor fail amaze everything bite lemoned spice main complaint place get sushi roll nothing couldnt get generic japanese restaurant across town price pretty steep consider lackluster flavor im completely honest experience wont return like less strongly flavor raw seafood dish beginner raw fish consider train wheel upbeat lively spot friends happy hour even grub hot spot totally excellent meet girls ladies night liveliness however small bite cramp energy nice forget pork empanadas beef brisket tacos soooo good honestly pretty much order every time go im creature habit sometimes hey love something im commit thats weather nice outdoor seat right pittsburgh weather bipolar love small portion opportunity try waitress suggest salmon main course take suggestion try bring food disappear 30 minutes upon return inform us back salmon dinner huge turnoff couldnt even order drink find place reward check tasty house sangria ok especially since would check regardless 8 30 reservations saturday get table open hip cuban style restaurant waitress greet us quickly supply sangrias within 5 minutes inquire ready say need minute leave attend much bigger party quickly greet another server explain would help take care bachelorette party describe menu ceviche make informative however leave original waitress appear party table wrap guess go party little hardy decide want try fire ice seviche salmon kind shutter say people dont choose f ok love get suggestions servers say like crab ahi tuna well go crab fabulous love balance heat citrus herbs cool definitely winner drink decide next manhattan feature wigle whisky holy almost much main meal good punch couldnt blow whole budget cocktails could next get trio tacos husband go bbq short rib tacos play mix match get one bbq short rib baja fish one blt really enjoy bbq short rib taco small amount fill shell shell stand good inch fill end kind disappoint baja fish really tasty little dry need aioli slaw something good flavor need boost last taco blt far favorite fill top pickle veg romaine pork belly boat sit top call boat big strip bite size cut think way better cut price tacos bad since short rib one skimpy husband still quite hungry talk get dessert ha yea like someone really need talk dessert order flourless chocolate cake good enjoy bite pricey size unfortunately leave hungry hand satisfy cant complain sure back sample dish review happy hour its definitely mix heres skinny service 5 star bar bar table several large group service areas good prompt friendly drink 2 star happy hour special 5 margaritas sangria mojitos small weak switch captain coke still weak 8 apiece food 3 star sample shrimp tostadas happy hour menu tasty tiny four small tostadas slightly one bite meals go table look good albeit little skimpy well park make less ideal happy hour spot end spend 50 9 park 8 cocktails weak 5 sangria 4 bite food 5 tip might worth try dinner spot seviche starter crabcakes dinner everything taste good think problem portion really small dont think share friend carne asada great warmer months sit table sidewalks penn ave fantastic seviche awesome happy hour great people watch strong drink enjoyable patrons young professional post show crowd order jimmy roll could eat rest life good say last week symphony wednesday sit outside place fairly empty yet service painfully slow mention starve order chip salsa didnt receive receive main food take forever boo refill question poor service usual basis unless youre bar din two friends friday night make reservations 5 30 could take advantage happy hour specials 5 margaritas 4 glass wine sound appeal order pan con chihuahua yaki onigiri starters 5 happy hour enjoy tapas friend really dislike yaki onigiri think smoke shrimp mousse different taste people either really like dislike order fish taco veggie taco entree fish taco excellent veggie taco okay flavor couldnt even chew mushroom cook important note pick still manage enjoy rest taco service excellent decor energetic would definitely go would highly recommend make reservations especially cold months year additional outdoor seat space pretty limit spring cuban roll nigiri roll excellent happy hour specials booze phenomenal well cant go wrong 3 do equis lagers top server dale phenomenal cater every need even change tvs basketball game friends request talk excellent service also everyone else party really seem enjoy grass feed beef tacos pork empanada various ceviches would recommend restaurant anyone whos look place eat downtown also make sure ask dale hes best place own operate guy sonoma grill street go open weekend impress little small side electric atmosphere music lively space open vibrant really capture feel cuba south beach new night spot also best look people save friends make better environment tapas quite tasty havent eat entrees apps indication think entrees fine never ever felt uncomfortable walk restaurant without order come show friend last fri night around 10pm cultural district gallery crawl suggest place since seem interest different strong rat yelp offer free glass sangria check walk fairly busy seem understaffed host seat us since plan order drink tapas friend suggest sit bar agree walk seat guy look like manager owner walk pretty promptly hand us food drink menus peruse 10 min wed decide order set menus guy whod hand us come take order weirdness start say well id like claim free sangria since check yelp realize guy purportedly take order disappear give friend confuse look tell guy walk right say well joke perhaps start order well unacceptable establishment point realize werent sit bar actually sit chefs table structure similarly bar friend hadnt know lead us sit happen know chefs table b c id read one nobody include guy wait us bother tell us simple fact suggest may want move elsewhere werent plan order entrees instead ignore us point felt weird enough get decide leave without ado im sure profile peons didnt look wealthy enough sit chefs table place understaffed decide blow anyone show slightest degree indecisiveness either way treatment receive quite frankly unacceptable management think its okay ignore customers make feel uncomfortable wont many leave long mention revenue p leave head harris grill shadyside spend cool 50 tip drink food come friday even without reservations take outdoor seat nice weather good usually check yelp reminders write review later time reward free glass sangria little bite sweet side wont complain since its free since arrive around 6 30 order items happy hour menu like seviche happy hour menu friends try baja fish taco like blt taco pork belly interest tasty chicken quesadilla good though special also mojo nigiri fish good combination didnt work well good experience overall come eat everything blt taco best thing ever love fire ice ceviche much please come try foods people nice drink tasty hear best music ever well ive never fan tapas style restaurants free sangria upon check entice go seviche give try unfortunately im still fan style waitress helpful explain seviche go detail different section menu extremely helpful go order seasonal seviche salmon definitely interest wasnt impress think nice flavor seem overprice amount food get one main issue tapas understand point order multiple plat share plat small portion typically expensive nice low key spot take date girls super yummy lite apps watch weight drink refresh check spot yelpers p staff super nice recently din towner friends two three us really get tacos mind like order tacos special star show fact might threaten overshadow signature dish restaurant various type ceviche try man tacos tasty special favorite involve pork belly friends hubby really rave fish taco theyre decently size trio tacos appetizer set right good appetite would definitely come back seviche list restaurants try unfortunately pretty tear write review want love quite yet first things first its nice atmosphere good music outdoor seat warmer months first time try tapas know go portion go pretty small thankfully wasnt hungry need quick food fix quick place friend within 25 minutes would say sit meal want mind couldnt find menu waitress say seasonal item come realize lot restaurants like change menus always throw end order pork empanadas get two check yelp get free sangria even though pork empanadas basically size 1 egg roll delicious sangria hand weak way could see give another chance happy hour nice time order cuban shrimp fire ice ceviche crab meat protein mussels cuban shrimp great get 4 though devour 10 lol jerk sauce great excellent spice friend recommend fire ice main reason bobby stop cool experience ceviche great next time likely order without habaneros im weakling eye nose water rest meal hehehe mussels prepare nicely small plat course since tapas meat mussels tiny luckily mussels compliment nice sauce toast make tiny mussels sidney server excellent job recommendations first sit host kind explain entire concept us also give recommendations seviche salsa lessons mondays 930pm hear dj super cool 3 0 5 asian tartare 0 5 cuban sushi roll 0 5 0 5 peruvian poke gluten free dinner menu tapas share good drink fun atmosphere time im city go restaurant like chip salsa get 3 fresh salsa choices plantain chip corn tortilla chip yum salsa dance nights its great happy hour place everything fresh tasty love ive surprisingly id never go seviche dinner decide go valentines day dinner year seviche serve mostly ceviche sushi tapas word small plat high price restaurant decorate cool color modern decor music make feel like youre dominican definitely nice atmosphere dinner husband opt la carte menu since also prix fixe menu v day could sample regular offer seviche menu order crab beets oranges preparation tuna preparation tapas order beef arape asian tuna tartare get do tacos blt fish order pork shoulder large plate yes sound like insane feast small plat small without go detail dish favorite night beef arape beef cheek comfort savory aspects tomato onions chimichurri provide refresh contrast common denominator dish fresh element cut richness every one plat would imagine visit seviche summertime would give much nicer experience latin music fresh flavor definitely would come back food fit weather tear review give 5 star amaze food 1 star terrible service crispy tofu taco absolutely amaze honestly dont know whether ive good mix flavor grill shallots pickle carrots korean bbq sauce avocado basically favorite things favorite food taco however service pretty terrible seat wait wait long food long time get service afterwards ask look dessert menu come like 20 minutes later wait 40 minutes one come see want dessert drink also deliver table next shame beautiful night al fresco din ruin neglect basically 5 star food 1 star service hmmm think already review place maybe mental review fail put actual word think food drink place fantastic ceviche ive always fresh flavorful recently try sushi really good tapas also tasty think prefer ceviche sushi usually get mojito go recently colada mojito coconut minty quite enjoy waitress recommend try drunken sailor im mojito fan decide give shoot good taste bud bite confuse flavor good werent remind anything maybe good thing consult friends decide taste like coca cola basil flavor sound weird well try think youll pleasantly surprise overall think great place dinner grab drink menu tapas portion keep mind order may need order expect feel full content great place go downtown happy hour dinner night food serve style youre able try assortment dish best drink far call caipirinha its version margarita try say three time fast environment inside describe word colorful also outdoor seat summer get people watch its great way kick back long day remember go appetizers dinner bill run quickly probably spend weeks worth grocery money one night smart worth yes din first time friday night mix review report guess preface say first night new menu point time kink work know new menu entirely familiar ceviche want try unfortunately new menu contain 2 ceviche appetizers salmon scallop ceviche good enough split three people choose 2 tacos entr\\xc3\\xa9e barbacoa baja fish barbacoa suppose make lamb however substitute pull pork lamb still decide try anyways pull pork awful taste like pork ingredients high quality tasty though salsa verde crema radish marinate onions avocado baja fish taco good would know good would get two tempura fry fish chipotle tartar sauce romaine cucumber pico drink excellent banana mojito mix berry capirhina well make apple basil mojito one din partner able sneak sip delicious overall experience good one kink need work new menu id try seviche definitely back cocktails future pork empanada amaze mom daughter get bistec wonderful tender delicious beef cuban sushi roll asian tartare ginger tataki also good sangria day ok well definitely go back perfect place stop theater come seviche friday night 5 00 pm without reservation seem unheard luckily couple cancel reservation last minute friend enjoy happy hour drink order great regular mojito hh 5 reg 10 happy hour mojitos 5 maybe 8 flavor choose mojito good would totally come back happy hour feature friend two glass hh 4 glass also seem like great price 5 tapas look great well seviche budget regular price happy hour pretty fantastic would encourage poor graduate students check food yummy dont go empty stomach tapas small serve really hungry happy hour still expensive though drink tasty strong downside little expensive upside pretty good food drink its block condo plus great dinner last night seviche course go ceviche gf huge fresh raw fish fan love south american prepare foods need give shoot try tradito fire ice sofrito mango preparations felt 3 try fire ice traditional delicious ceviche flavor alittle spice nothing crazy great overall fresh cold base tradito little plain taste like ahi tuna olive oil spice sofrito mango preparation great aswell serve tartar style plantain chip dip would recommend also fruity underestimate much would enjoy 2 20 tacos nail choices one carnitas amaze tender moist enough spice tortilla toast nice aswell enjoy bbq short rib taco aswell would go back stick small offer like ceviche tacos none entrees really capture interest also enjoy pisco sour red sangria one better ive ive mean try seviche know its previously rat best burgh happy hour course start happy hour cocktails mojito classico berry caipirinha move onto seviche triple choose fire ice corn avocado asian tartare ask chef choose best fish prepare accordingly choose barramundi crab tuna highlight definitely asian tartare delish mojo criollo sushi much mojo like grass feed beef tacos tasty corn goat cheese croquettas waiter rest service excellent im sure seviche bring anything new menu friendly staff proximity house may need give seviche another go eat past thursday even fiance dinner decide stop head show us fairly dress upon enter restaurant greet door host reservations hard time find us spot promise take long time show table reservation later even take us table compliment bow tie wear server whenever make table sit high top table middle restaurant bar front back since happy hour decide get drink special fiance order sangria go mojito server leave check yelp pleasantly surprise check offer free sangria perfect since already order one inside restaurant bright vibrant yet also comfort think also give quite latin feel imagine base upon food go dinner fiance decide split bunch different small plat also roll sushi could try bunch different items beyond sushi roll also go shrimp seviche happy hour menu triple seviche bar could pick preparation seafood go shrimp avocado corn seviche bahamian conch traditional seviche ahi tuna fire ice seviche first item come sushi roll exactly sure since fiance one order delicious top something crispy sauce ponzu perhaps base delicious almost do sushi roll rest items come favorite bunch fire ice ahi tuna great taste cold temperature go heat pepper come back end quite good though end enjoy bottom line would head back future especially happy hour love vibe place also everything eat food would 5 star portion size dont get lot food money actually end eat full pizza later night however know might case whenever walk still mighty impress seviche excellent drink great place salsa dance great time wasnt busy affect dance awesome place last night one best meals ive pittsburgh long time start beef cheek empanada could eat entire dinner free check yelp glass sangria since happy hour choose two tacos dinner baja fish mahi mahi blt baja fish delicious authentic fish taco ive mexico baja blt pork belly pickle cherry tomatoes new favorite combo perfect flavor profile savory salty sour sweet base moms satisfaction choices well seem seviche good everything kitchen waiter tony incredible friendly attentive knowledgeable menu owners restaurants intend try even completely pack bar full indoor outdoor table impressive tuesday wait additional drink time plat come impressive immediate fan seviche absolutely back eat drink way rest menu id seviche couple time enjoy come plan birthday dinner decide try seviche seviche incredibly helpful dinner plan even change group size 20 35 28 close day get amaze job keep separate tabs large group food fast yummy siblings dont live surprise bottle wine dessert call ahead time seviches manager kindly take care execute really well great birthday dinner fantastic experience seviche thank seviche great attempt reservations two place seviche one will take us earlier 10pm make reservation 8pm saturday try arrive little early grab drink high top table available us back restaurant initially think great since quieter front minutes seviche turn music great music volume con remember shout part conversation make laugh waitress trainee along hand awesome think could friends end night order verde wine good little carbonation could taste grapes second food fire ice ceviche asian tartare tres quesos corn goat cheese croquettas beef tacos fry donut dessert think good nice dish communal enhance eat social experience im sure would come starve though give many dish fill us however seviche fun vibe definitely back seviche recently become one favorite happy hour spot downtown ive never trouble get table spot bar its good option spontaneous drink bite coworkers happy hour run 4 6 feature specials certain win cocktails 5 well 5 tapas believe selection discount beers well usually order tapas share love pretty much everything try several seviche options full flavor taste extremely fresh regular menu also tuna tartare its delicious combination caper onion wasabi aioli well jimmy roll tempura fry nori crab avocado cucumber spicy aioli also tasty fresh everyone always prompt attentive well round experience hopefully ill back soon dinner really try like place several time previously come lunch dinner happy hour first food great plus price pretty high quality quantity food one favorite dish paella however paella horrible come little metal pan make whole dish taste like metal wasnt much meat friend come happy hour get two dish happy hour special pineapple seviche salmon comida de la familia scallop tapas also order mojitos disappoint mojitos plain didnt like note usually go mojito drink friend couldnt drink ask waiter add flavor food pretty bad portion small didnt eat much food however pineapple seviche salmon highlight meal really like flavor waiter super friendly nice overall would really think come back much bill come could go elsewhere good food walk full pleasantly surprise much enjoy seviche fellow yelp reviewers spot regard restaurant pittsburgh work every couple weeks usually try eat somewhere different time base location hotel stay seviche within close proximity courtyard hotel also block away theater ticket see cat musical dinner reservation 6 30 arrive little bite early could check happy hour elizabeth josh man bar awesome job make feel welcome order much talk sangria 5 happy hour free base first check seviche thru yelp tasty must admit check dinner reservation since din alone ask could sit chefs table enjoy watch food prep seat immediately approach server ask ever din familar concept preparation namesake dish yes number seviche options choose also option add protein signature seviche fire ice opt black bean corn fresh jumbo lump crab meat opportunity watch prep dish dish serve ample portion plaintain tortilla chip dish awesome everything fresh flavorful could easily order another portion also order green salad artfully prepare serve mix green tomatoes walnuts d balsamic drizzle balsalmic dress server recommend try junior roll choose entree roll essence sushi roll batter deep fry slice coin top mixture avocado crab top sriracha drizzle sriracha aioli ponzu junior roll really good great recommendation opportunity sit chefs table give opportunity see behind put great food huge shout dwayne handle cold prep service also instrumental help others seem bite new keep track order grill items etc patient give direction never lose track task hand dwayne rock typically dont visit restaurant twice pittsburgh case seviche might make exception highly recommend place tapas small plate choices great yummy cocktails pretty decor great music nice place stop work happy hour summer food die dont make often pretty pricey food absolutely amaze every time go definitely unique restaurant incredible flavor love friend come friday even around 8pm relatively empty consider time host inform us show happen say youre look nice place eat lesser crowd weekend its probably good idea go around 8 decide take seat chefs table watch food get cook part wonder go popular fire ice seviche octopus escabeche pork empanada salmon aji papaya chef special trey fry rice papaya pineapple pork despite popularity wasnt biggest fan fire ice seviche prickly pear granita throw take away flavor rest seviche friend however love personal preference come play one octopus escabeche pretty good individual item well prepare avocado puree basically guac octopus red im sure work amazingly together though friend love one maybe im picky pork empanada flavor great quite like pesto empanada ball shape dumpling shape take away bite fry aspect hop salmon far one best ive ever salmon perfectly cook actually ask lightly sear salmon kind idea sear ahi tuna salmon something would go back without doubt dish quite hearty orange puree rice something light afterward wouldve nice ali papaya crab one favorites perfect salmon light tangy refresh malanga chip great touch last least fry rice one best fusion fry rice ive love addition papaya dish pork perfectly char end friend without doubt food coma ing ready pass issue take dessert menu cave forget name exactly get deep fry butternut squash donut apple butter raspberry preserve one bite forget full die look back drink menu seem though online pdf little date dont clear recollection exactly drink drink fantastic though see picture get one fresh strawberries ton mmm also get free check sangria good first time eat big y group restaurant its definitely get want try others nola square sonoma poros perle excellent cocktails happy hour seviche sushi specials seviche one favorite place go downtown name would suggest seviche feature item menu never disappoint fire ice seviche way go youve never try red onion jalape\\xc3\\xb1o prickly pear would also suggest asian tuna tartare tartare serve rice coin ponzu pretty little lotus chip its great want share appetizers dont want anything heavy tacos also delicious favorite thing seviche would cocktails recently caprese martini incredibly refresh wouldnt think drink inspire salad garnish basil leaf grape tomato mozzarella ball would good almost like really light bloody mary alcohol would recommend anyone try place havent already'),\n",
       " ('HWrbZS1mxVRj2Y2VwMmDMg',\n",
       "  'oh man word can not describe excite bakeshop its name dulcinea cool owner baker super cool friendly passionate bake experience bake several businesses open shop include stint head pastry chef casbah im glad open bakeshop though im sure im one feel way kind place expect creative seasonally inspire twist favorite pastries things make scratch quality ingredients really taste difference slice cheesecake dulce de leche make scratch best piece cheesecake far back remember felt like die go heaven also two slice delicious sausage pepper quiche ask one shop close soon owner super nice give extra slice extra glad try crust perfectly do super crispy buttery fill flavorful good texture plus love high crust fill ratio since crust favorite part definitely back lot lot delightful dangerous bakery mere 10 block place'),\n",
       " ('MvlQo4bev1eqp1q0HYOLHg',\n",
       "  'first dance class probably decade probably havent exercise year adult hip hop amaze move pittsburgh its really great find place exercise still keep dance skills definitely back studio scream one word loud clear swag definitely welcome interest place seem real feel catch eye studio many trophies success achievement display windows walk place daily enjoy watch dancers age various type dance hurry stop window watch interest dancers get jealous dancers can not dance two leave feet amaze dance move see place place pittsburgh go want improve groove even get fit everyone super chill friendly dance wavy though must say body roll sway etc id like try zumba one days fun place bring little kid learn things class age dance'),\n",
       " ('X9Bql7RrPU5Mab5-hJsI8A',\n",
       "  '2nd visit promise first time order feature burger spicy cow burger side fry season beef arugula tomato pickle jalape\\xc3\\xb1o slice pepper jack fry jalape\\xc3\\xb1os frank red hot something call ask want cook medium burger look perfect come fry bite underdone otherwise pretty tasty messy fry werent salt lightly like dont like nicely crisp fry arent hot thats oh well may give another try sure lot options burgers cook order medium pink middle juicy well season patty toast brioche bun hold burger together nicely fry fry salty nice cheese ale sauce delicious love espresso milkshake didnt get fountain drink sit know sauce bar mention offer us surely would check happy great burger place close reasonably price high quality come people register always warmly greet give menu explain things work also patient need time read menu one new coke machine mutual options also multiple sauce options choose thai ketchup spicy honey mustard good take number get table bring food everyone friendly mom really like cheesy cheeseburger its high quality beef moist juicy great flavor husband like plain burger cousin like burger salad fry good regular fry enough two people right sign app get free cheesy cheeseburger code send order chocolate peanut butter milkshake love creamy delicious lot delicious peanut butter husband order chocolate malt ball milkshake really enjoy weve several time love poor service fact service numerous employees stand around scratch asses one time wait customers go back place try place really put layout difficult order since menu post anywhere need wait line get menu try decide employees fellow customers glare try greek burger fry busy wait 35 minutes food little confuse find place wait tell allow sit table since order go like variety condiments available super happy quality food get home although greek burger veggie find greasy also huge mess eat fry warm also greasy old grease best cook think make better veggie burger save 35 minutes time finally try place weird system order sure walk register grab menu step back read others thing order special chance get regular burger fry burger cook well nothing special fry solid though its fit right burgatory 5 guy burgers price range cheap pricey wouldnt go way stop need could eat first visit l plan return try menu offer easy order process feature plenty good choices depend eat preferences burger menu feature angus beef 10 beef options seafood spicy thai shrimp burger catch interest veggie chicken turkey selections burgers serve toast brioche bun unable decide burger could select feature burger month price point angus burgers range 5 99 10 99 omg menu options 3 pack slider chicken tender basket sandwich gourmet dog salads side sweet potato regular fry love try sauce bar allow one step away traditional toppings normally offer servers extremely attentive apologetic burger undercooked graciously offer another menu item wait burger cook like atmosphere convenience eat better quality burger disappoint milkshake sweet make soft serve ice cream seldom treat milkshake usually prefer good old fashion shake lump try burger 21 finally walk approximately 8 30pm greet immediately seat order black blue burger since love blue cheese crumble burgers come 10 minutes later look really good taste good look fry look taste similar mcdonalds fry werent special pretty solid make dip one many sauce place sauce bar include rajun cajun sauce honey mustard chipotle mayo thai ketchup ranch dress even marshmallow sauce addition regular ketchup mustard like thai honey mustard rajun cajun favorite fry come big cup plenty big enough size even though get small onto burger come ketchup mustard lettuce tomato pickle blue cheese crumble bacon cook perfect like flavorful every bite really enjoy even burgatory place blow five guy away waitress friendly fast even waitress come talk negative super hot inside maybe air condition wasnt work turn later night couldnt imagine like heavy lunch dinner crowd bill come 11 75 leave waitress 3 00 definitely return recommend place others place great oreo shake delicious menu creative extensive separate menu dedicate gluten free high top table booths soda fountain type bar sit lot french fry dip sauce include cajun thai ketchup honey mustard etc option order ff basket half regular fry half sweet potato soda machine allow customize kind soda flavor get order bacon cheesy good fry thin cut well salt price reasonable quality food'),\n",
       " ('owO2UkNKk9qrWWd_PTYLDA',\n",
       "  'feel like ive random experience place regulars rowdys bbq 51 decide try place take former hair stylists salon though area 51 alien theme bright color order near close time hour prior woman take order extremely pleasant process quick food ready 15 minutes live 1 minute away choose pork bbq sandwich bean side bbq brisket mac cheese regular oppose spicy sandwich werent label look nearly identical taste test tell apart bbq sauce slightly tangy sweet could do pork thats preference fault pork warm actually taste amaze buttery good smoky flavor problem actual composition sandwich bottom bun soak fat juice pork inedible make sandwich moot point smoke bean glob thick mash bean look homemade point sauce thick gritty salty enjoyable mac cheese also mushy flavorless toddler happy cornbread sweet dry though highlight dinner well probably give another try every place entitle day review place much favorable experience')]"
      ]
     },
     "execution_count": 22,
     "metadata": {},
     "output_type": "execute_result"
    }
   ],
   "source": [
    "prodReviewCollected.take(5)"
   ]
  },
  {
   "cell_type": "markdown",
   "metadata": {},
   "source": [
    "### TF-IDF vector creation"
   ]
  },
  {
   "cell_type": "code",
   "execution_count": 23,
   "metadata": {},
   "outputs": [
    {
     "name": "stderr",
     "output_type": "stream",
     "text": [
      "/Users/lakshya/anaconda/lib/python2.7/site-packages/sklearn/utils/fixes.py:313: FutureWarning: numpy not_equal will not check object identity in the future. The comparison did not return the same result as suggested by the identity (`is`)) and will change.\n",
      "  _nan_object_mask = _nan_object_array != _nan_object_array\n"
     ]
    }
   ],
   "source": [
    "from sklearn.feature_extraction.text import TfidfVectorizer\n",
    "from sklearn.metrics.pairwise import linear_kernel"
   ]
  },
  {
   "cell_type": "code",
   "execution_count": 24,
   "metadata": {
    "collapsed": true
   },
   "outputs": [],
   "source": [
    "tf = TfidfVectorizer(analyzer='word',ngram_range=(1,1),min_df=0, norm='l2')"
   ]
  },
  {
   "cell_type": "markdown",
   "metadata": {},
   "source": [
    "Convert user and product rdd to pandas dataframe"
   ]
  },
  {
   "cell_type": "code",
   "execution_count": 25,
   "metadata": {
    "collapsed": true
   },
   "outputs": [],
   "source": [
    "spark = SparkSession(sc)\n",
    "\n",
    "userPandas = userReviewCollected.toDF().toPandas()\n",
    "prodPandas = prodReviewCollected.toDF().toPandas()"
   ]
  },
  {
   "cell_type": "markdown",
   "metadata": {},
   "source": [
    "Create TF-IDF vectors on user review text"
   ]
  },
  {
   "cell_type": "code",
   "execution_count": 26,
   "metadata": {
    "collapsed": true
   },
   "outputs": [],
   "source": [
    "tfidf_user = tf.fit_transform(userPandas['_2'])"
   ]
  },
  {
   "cell_type": "code",
   "execution_count": 27,
   "metadata": {},
   "outputs": [
    {
     "data": {
      "text/plain": [
       "(987, 26685)"
      ]
     },
     "execution_count": 27,
     "metadata": {},
     "output_type": "execute_result"
    }
   ],
   "source": [
    "tfidf_user.shape"
   ]
  },
  {
   "cell_type": "markdown",
   "metadata": {},
   "source": [
    "Create TF-IDF vectors on product review text"
   ]
  },
  {
   "cell_type": "code",
   "execution_count": 28,
   "metadata": {
    "collapsed": true
   },
   "outputs": [],
   "source": [
    "tfidf_prod = tf.fit_transform(prodPandas['_2'])"
   ]
  },
  {
   "cell_type": "code",
   "execution_count": 29,
   "metadata": {},
   "outputs": [
    {
     "data": {
      "text/plain": [
       "(3098, 26685)"
      ]
     },
     "execution_count": 29,
     "metadata": {},
     "output_type": "execute_result"
    }
   ],
   "source": [
    "tfidf_prod.shape"
   ]
  },
  {
   "cell_type": "markdown",
   "metadata": {},
   "source": [
    "Add TF-IDF vectors to product dataframe"
   ]
  },
  {
   "cell_type": "code",
   "execution_count": 30,
   "metadata": {
    "collapsed": true
   },
   "outputs": [],
   "source": [
    "prodPandas['Vector'] = tfidf_prod.toarray().tolist()"
   ]
  },
  {
   "cell_type": "code",
   "execution_count": 31,
   "metadata": {},
   "outputs": [
    {
     "data": {
      "text/html": [
       "<div>\n",
       "<style>\n",
       "    .dataframe thead tr:only-child th {\n",
       "        text-align: right;\n",
       "    }\n",
       "\n",
       "    .dataframe thead th {\n",
       "        text-align: left;\n",
       "    }\n",
       "\n",
       "    .dataframe tbody tr th {\n",
       "        vertical-align: top;\n",
       "    }\n",
       "</style>\n",
       "<table border=\"1\" class=\"dataframe\">\n",
       "  <thead>\n",
       "    <tr style=\"text-align: right;\">\n",
       "      <th></th>\n",
       "      <th>_1</th>\n",
       "      <th>_2</th>\n",
       "      <th>Vector</th>\n",
       "    </tr>\n",
       "  </thead>\n",
       "  <tbody>\n",
       "    <tr>\n",
       "      <th>0</th>\n",
       "      <td>5REYrZfsX3m4E3FTwovp5Q</td>\n",
       "      <td>try first time last night pretty good one thin...</td>\n",
       "      <td>[0.0048004686407, 0.0, 0.0, 0.0, 0.0, 0.0, 0.0...</td>\n",
       "    </tr>\n",
       "    <tr>\n",
       "      <th>1</th>\n",
       "      <td>HWrbZS1mxVRj2Y2VwMmDMg</td>\n",
       "      <td>oh man word can not describe excite bakeshop i...</td>\n",
       "      <td>[0.0, 0.0, 0.0, 0.0, 0.0, 0.0, 0.0, 0.0, 0.0, ...</td>\n",
       "    </tr>\n",
       "    <tr>\n",
       "      <th>2</th>\n",
       "      <td>MvlQo4bev1eqp1q0HYOLHg</td>\n",
       "      <td>first dance class probably decade probably hav...</td>\n",
       "      <td>[0.0, 0.0, 0.0, 0.0, 0.0, 0.0, 0.0, 0.0, 0.0, ...</td>\n",
       "    </tr>\n",
       "    <tr>\n",
       "      <th>3</th>\n",
       "      <td>X9Bql7RrPU5Mab5-hJsI8A</td>\n",
       "      <td>2nd visit promise first time order feature bur...</td>\n",
       "      <td>[0.0224731737297, 0.0, 0.0, 0.0, 0.0, 0.0, 0.0...</td>\n",
       "    </tr>\n",
       "    <tr>\n",
       "      <th>4</th>\n",
       "      <td>owO2UkNKk9qrWWd_PTYLDA</td>\n",
       "      <td>feel like ive random experience place regulars...</td>\n",
       "      <td>[0.0, 0.0, 0.0, 0.0, 0.0, 0.0, 0.0, 0.0, 0.0, ...</td>\n",
       "    </tr>\n",
       "  </tbody>\n",
       "</table>\n",
       "</div>"
      ],
      "text/plain": [
       "                       _1                                                 _2  \\\n",
       "0  5REYrZfsX3m4E3FTwovp5Q  try first time last night pretty good one thin...   \n",
       "1  HWrbZS1mxVRj2Y2VwMmDMg  oh man word can not describe excite bakeshop i...   \n",
       "2  MvlQo4bev1eqp1q0HYOLHg  first dance class probably decade probably hav...   \n",
       "3  X9Bql7RrPU5Mab5-hJsI8A  2nd visit promise first time order feature bur...   \n",
       "4  owO2UkNKk9qrWWd_PTYLDA  feel like ive random experience place regulars...   \n",
       "\n",
       "                                              Vector  \n",
       "0  [0.0048004686407, 0.0, 0.0, 0.0, 0.0, 0.0, 0.0...  \n",
       "1  [0.0, 0.0, 0.0, 0.0, 0.0, 0.0, 0.0, 0.0, 0.0, ...  \n",
       "2  [0.0, 0.0, 0.0, 0.0, 0.0, 0.0, 0.0, 0.0, 0.0, ...  \n",
       "3  [0.0224731737297, 0.0, 0.0, 0.0, 0.0, 0.0, 0.0...  \n",
       "4  [0.0, 0.0, 0.0, 0.0, 0.0, 0.0, 0.0, 0.0, 0.0, ...  "
      ]
     },
     "execution_count": 31,
     "metadata": {},
     "output_type": "execute_result"
    }
   ],
   "source": [
    "prodPandas.head()"
   ]
  },
  {
   "cell_type": "markdown",
   "metadata": {},
   "source": [
    "Add TF-IDF vectors to user dataframe"
   ]
  },
  {
   "cell_type": "code",
   "execution_count": 32,
   "metadata": {
    "collapsed": true
   },
   "outputs": [],
   "source": [
    "userPandas['Vector'] = tfidf_user.toarray().tolist()"
   ]
  },
  {
   "cell_type": "code",
   "execution_count": 33,
   "metadata": {},
   "outputs": [
    {
     "data": {
      "text/html": [
       "<div>\n",
       "<style>\n",
       "    .dataframe thead tr:only-child th {\n",
       "        text-align: right;\n",
       "    }\n",
       "\n",
       "    .dataframe thead th {\n",
       "        text-align: left;\n",
       "    }\n",
       "\n",
       "    .dataframe tbody tr th {\n",
       "        vertical-align: top;\n",
       "    }\n",
       "</style>\n",
       "<table border=\"1\" class=\"dataframe\">\n",
       "  <thead>\n",
       "    <tr style=\"text-align: right;\">\n",
       "      <th></th>\n",
       "      <th>_1</th>\n",
       "      <th>_2</th>\n",
       "      <th>Vector</th>\n",
       "    </tr>\n",
       "  </thead>\n",
       "  <tbody>\n",
       "    <tr>\n",
       "      <th>0</th>\n",
       "      <td>AKqMnr1bEFIZDG_zQzX8sA</td>\n",
       "      <td>place breathe fresh air find hot dog fantastic...</td>\n",
       "      <td>[0.0, 0.0, 0.0, 0.0, 0.0, 0.0, 0.0, 0.0, 0.0, ...</td>\n",
       "    </tr>\n",
       "    <tr>\n",
       "      <th>1</th>\n",
       "      <td>hg71CGHy9bwpgY8cGVVg4w</td>\n",
       "      <td>wife come lunch walk buy chocolate moose look ...</td>\n",
       "      <td>[0.031725336392, 0.0, 0.0, 0.0, 0.0, 0.0, 0.0,...</td>\n",
       "    </tr>\n",
       "    <tr>\n",
       "      <th>2</th>\n",
       "      <td>S1cjSFKcS5NVc3o1MkfpwA</td>\n",
       "      <td>would think vegan friendly hipster restaurant ...</td>\n",
       "      <td>[0.0, 0.0, 0.0, 0.0, 0.0, 0.0, 0.0, 0.0, 0.0, ...</td>\n",
       "    </tr>\n",
       "    <tr>\n",
       "      <th>3</th>\n",
       "      <td>eYnS0WVYYykN_gRuMUzoOw</td>\n",
       "      <td>stop pittsburgh home garden show quick drink c...</td>\n",
       "      <td>[0.0, 0.0, 0.0, 0.0, 0.0, 0.0, 0.0, 0.0, 0.0, ...</td>\n",
       "    </tr>\n",
       "    <tr>\n",
       "      <th>4</th>\n",
       "      <td>A0ssDikuj0SQr9mVqnh91Q</td>\n",
       "      <td>sit bar good drink bunch beer options rum cour...</td>\n",
       "      <td>[0.0, 0.0, 0.0, 0.0, 0.0, 0.0, 0.0, 0.0, 0.0, ...</td>\n",
       "    </tr>\n",
       "  </tbody>\n",
       "</table>\n",
       "</div>"
      ],
      "text/plain": [
       "                       _1                                                 _2  \\\n",
       "0  AKqMnr1bEFIZDG_zQzX8sA  place breathe fresh air find hot dog fantastic...   \n",
       "1  hg71CGHy9bwpgY8cGVVg4w  wife come lunch walk buy chocolate moose look ...   \n",
       "2  S1cjSFKcS5NVc3o1MkfpwA  would think vegan friendly hipster restaurant ...   \n",
       "3  eYnS0WVYYykN_gRuMUzoOw  stop pittsburgh home garden show quick drink c...   \n",
       "4  A0ssDikuj0SQr9mVqnh91Q  sit bar good drink bunch beer options rum cour...   \n",
       "\n",
       "                                              Vector  \n",
       "0  [0.0, 0.0, 0.0, 0.0, 0.0, 0.0, 0.0, 0.0, 0.0, ...  \n",
       "1  [0.031725336392, 0.0, 0.0, 0.0, 0.0, 0.0, 0.0,...  \n",
       "2  [0.0, 0.0, 0.0, 0.0, 0.0, 0.0, 0.0, 0.0, 0.0, ...  \n",
       "3  [0.0, 0.0, 0.0, 0.0, 0.0, 0.0, 0.0, 0.0, 0.0, ...  \n",
       "4  [0.0, 0.0, 0.0, 0.0, 0.0, 0.0, 0.0, 0.0, 0.0, ...  "
      ]
     },
     "execution_count": 33,
     "metadata": {},
     "output_type": "execute_result"
    }
   ],
   "source": [
    "userPandas.head()"
   ]
  },
  {
   "cell_type": "markdown",
   "metadata": {},
   "source": [
    "Review text not needed"
   ]
  },
  {
   "cell_type": "code",
   "execution_count": 34,
   "metadata": {
    "collapsed": true
   },
   "outputs": [],
   "source": [
    "del prodPandas['_2']\n",
    "del userPandas['_2']"
   ]
  },
  {
   "cell_type": "markdown",
   "metadata": {},
   "source": [
    "### Create user numpy matrix from feature vectors"
   ]
  },
  {
   "cell_type": "code",
   "execution_count": 35,
   "metadata": {
    "collapsed": true
   },
   "outputs": [],
   "source": [
    "user_matrix = np.zeros((len(userPandas), tfidf_prod.shape[1]))\n",
    "idx = 0\n",
    "for index, row in userPandas.iterrows():\n",
    "    vector = np.array(row['Vector'])\n",
    "    user_matrix[idx] = vector\n",
    "    idx += 1"
   ]
  },
  {
   "cell_type": "code",
   "execution_count": 36,
   "metadata": {},
   "outputs": [
    {
     "data": {
      "text/plain": [
       "array([[ 0.        ,  0.        ,  0.        , ...,  0.        ,\n",
       "         0.        ,  0.        ],\n",
       "       [ 0.03172534,  0.        ,  0.        , ...,  0.        ,\n",
       "         0.        ,  0.        ],\n",
       "       [ 0.        ,  0.        ,  0.        , ...,  0.        ,\n",
       "         0.        ,  0.        ],\n",
       "       ..., \n",
       "       [ 0.        ,  0.        ,  0.        , ...,  0.        ,\n",
       "         0.        ,  0.        ],\n",
       "       [ 0.        ,  0.        ,  0.        , ...,  0.        ,\n",
       "         0.        ,  0.        ],\n",
       "       [ 0.        ,  0.        ,  0.        , ...,  0.        ,\n",
       "         0.        ,  0.        ]])"
      ]
     },
     "execution_count": 36,
     "metadata": {},
     "output_type": "execute_result"
    }
   ],
   "source": [
    "user_matrix"
   ]
  },
  {
   "cell_type": "markdown",
   "metadata": {},
   "source": [
    "### Create product numpy matrix from feature vectors"
   ]
  },
  {
   "cell_type": "code",
   "execution_count": 37,
   "metadata": {
    "collapsed": true
   },
   "outputs": [],
   "source": [
    "prod_matrix = np.zeros((len(prodPandas), tfidf_prod.shape[1]))\n",
    "idx = 0\n",
    "for index, row in prodPandas.iterrows():\n",
    "    vector = np.array(row['Vector'])\n",
    "    prod_matrix[idx] = vector\n",
    "    idx += 1"
   ]
  },
  {
   "cell_type": "code",
   "execution_count": 38,
   "metadata": {},
   "outputs": [
    {
     "data": {
      "text/plain": [
       "array([[ 0.00480047,  0.        ,  0.        , ...,  0.        ,\n",
       "         0.        ,  0.        ],\n",
       "       [ 0.        ,  0.        ,  0.        , ...,  0.        ,\n",
       "         0.        ,  0.        ],\n",
       "       [ 0.        ,  0.        ,  0.        , ...,  0.        ,\n",
       "         0.        ,  0.        ],\n",
       "       ..., \n",
       "       [ 0.        ,  0.        ,  0.        , ...,  0.        ,\n",
       "         0.        ,  0.        ],\n",
       "       [ 0.        ,  0.        ,  0.        , ...,  0.        ,\n",
       "         0.        ,  0.        ],\n",
       "       [ 0.        ,  0.        ,  0.        , ...,  0.        ,\n",
       "         0.        ,  0.        ]])"
      ]
     },
     "execution_count": 38,
     "metadata": {},
     "output_type": "execute_result"
    }
   ],
   "source": [
    "prod_matrix"
   ]
  },
  {
   "cell_type": "markdown",
   "metadata": {},
   "source": [
    "### Compute cosine similarity by taking dot product"
   ]
  },
  {
   "cell_type": "code",
   "execution_count": 39,
   "metadata": {
    "collapsed": true
   },
   "outputs": [],
   "source": [
    "similarity_matrix = np.dot(user_matrix, prod_matrix.T)"
   ]
  },
  {
   "cell_type": "code",
   "execution_count": 40,
   "metadata": {},
   "outputs": [
    {
     "data": {
      "text/plain": [
       "(987, 3098)"
      ]
     },
     "execution_count": 40,
     "metadata": {},
     "output_type": "execute_result"
    }
   ],
   "source": [
    "similarity_matrix.shape"
   ]
  },
  {
   "cell_type": "markdown",
   "metadata": {},
   "source": [
    "### Flatten similarity matrix to relate with user and products"
   ]
  },
  {
   "cell_type": "code",
   "execution_count": 41,
   "metadata": {
    "collapsed": true
   },
   "outputs": [],
   "source": [
    "prod = prodPandas['_1'].values\n",
    "user = userPandas['_1'].values"
   ]
  },
  {
   "cell_type": "code",
   "execution_count": 42,
   "metadata": {
    "collapsed": true
   },
   "outputs": [],
   "source": [
    "zf = similarity_matrix.flatten()\n",
    "xr = np.repeat(user, prod.size)\n",
    "yt = np.tile(prod, user.size)\n",
    "d = np.stack((xr, yt, zf), axis=-1)"
   ]
  },
  {
   "cell_type": "code",
   "execution_count": 43,
   "metadata": {},
   "outputs": [
    {
     "data": {
      "text/plain": [
       "(3057726, 3)"
      ]
     },
     "execution_count": 43,
     "metadata": {},
     "output_type": "execute_result"
    }
   ],
   "source": [
    "d.shape"
   ]
  },
  {
   "cell_type": "markdown",
   "metadata": {},
   "source": [
    "### Convert similarity matrix to RDD"
   ]
  },
  {
   "cell_type": "code",
   "execution_count": 44,
   "metadata": {
    "collapsed": true
   },
   "outputs": [],
   "source": [
    "similarity_rdd = sc.parallelize(d)"
   ]
  },
  {
   "cell_type": "code",
   "execution_count": 45,
   "metadata": {},
   "outputs": [
    {
     "data": {
      "text/plain": [
       "[array([u'AKqMnr1bEFIZDG_zQzX8sA', u'5REYrZfsX3m4E3FTwovp5Q',\n",
       "        0.2687392953363509], dtype=object),\n",
       " array([u'AKqMnr1bEFIZDG_zQzX8sA', u'HWrbZS1mxVRj2Y2VwMmDMg',\n",
       "        0.10418909020180221], dtype=object),\n",
       " array([u'AKqMnr1bEFIZDG_zQzX8sA', u'MvlQo4bev1eqp1q0HYOLHg',\n",
       "        0.09500990959959338], dtype=object),\n",
       " array([u'AKqMnr1bEFIZDG_zQzX8sA', u'X9Bql7RrPU5Mab5-hJsI8A',\n",
       "        0.24884022230440347], dtype=object),\n",
       " array([u'AKqMnr1bEFIZDG_zQzX8sA', u'owO2UkNKk9qrWWd_PTYLDA',\n",
       "        0.15894637714087928], dtype=object)]"
      ]
     },
     "execution_count": 45,
     "metadata": {},
     "output_type": "execute_result"
    }
   ],
   "source": [
    "similarity_rdd.take(5)"
   ]
  },
  {
   "cell_type": "markdown",
   "metadata": {},
   "source": [
    "### Use Train and Test Data for predictions"
   ]
  },
  {
   "cell_type": "code",
   "execution_count": 46,
   "metadata": {},
   "outputs": [
    {
     "data": {
      "text/plain": [
       "['1VVHf1BvtGC0aSCCIjQyiA,K5jY2W5Q3eNnwssV5UZtow,4,2016-11-16,2,2,2,past sunday one several time ive spirit its always eccentric fun time first music performance second hang recent visit sundays bingo bango spirit know pizza good drink also awesome last time get chard margarita time get tomatillo margarita hot ciders its always pleasant surprise see whats menu food drink drink little pricey drawback one coolest things spirit atmosphere its always super strange positive way really never know expect bingo bango definitely family appropriate its fun activity friends maybe even date doesnt mind something ordinary',\n",
       " 'QYKexxaOJQlseGWmc6soRg,rzByiKaj-bLeLz-zKNBQdg,2,2015-04-13,0,0,0,old cramp build lot enough employees staff keep demand cause long wait time',\n",
       " '-ARdx8hOcEWlMDjzwLYZ_g,3cbsPfoUUrysf-M8FI_0IA,4,2014-03-24,6,4,3,live long world without donut menu dont know group nine din three varieties donuts include lemon lavender chocolate espresso zeppolli amaze pepper donut concoction ever make donut order come five donut hole theyre big hole one two enough cant believe say thats even little true youll want entire order save room best yet come choose omelette day entr\\xc3\\xa9e couldnt tell goat cheese creamy goats cheese salad nice addition potatoes delightful touch underdone seat downstairs pretty frigid awesome space nonetheless warm joint bite its five star way cant wait visit e2 dinner serve donuts right',\n",
       " '2oTG2GrBpikkonRxQywI7Q,CFtZH4Skp9z3o4ToSywI4w,4,2015-04-02,0,0,0,month try place try years ago im actually quite surprise place get earlier review sample veggie burger goodness place event attend couple years ago become close top list try finally go friend couple weeks ago try veggie burger call hippie something another burger feel like tony tiger fry good beer good fry good venue wait staff pretty great around good yummy experience',\n",
       " 'B7aR8VlLMGzaJ7NHC-jeMQ,RC8NJlX3X2Eo240PU5zJWA,4,2013-02-16,1,0,0,food good find service tad slow italian place area would go first italian good yes excellent meatballs']"
      ]
     },
     "execution_count": 46,
     "metadata": {},
     "output_type": "execute_result"
    }
   ],
   "source": [
    "trainData.take(5)"
   ]
  },
  {
   "cell_type": "markdown",
   "metadata": {},
   "source": [
    "Create key on (user, product)"
   ]
  },
  {
   "cell_type": "code",
   "execution_count": 47,
   "metadata": {
    "collapsed": true
   },
   "outputs": [],
   "source": [
    "similarity_rdd = similarity_rdd.map(lambda x: ((x[0], x[1]), float(x[2])))"
   ]
  },
  {
   "cell_type": "code",
   "execution_count": 48,
   "metadata": {},
   "outputs": [
    {
     "data": {
      "text/plain": [
       "[((u'AKqMnr1bEFIZDG_zQzX8sA', u'5REYrZfsX3m4E3FTwovp5Q'), 0.2687392953363509),\n",
       " ((u'AKqMnr1bEFIZDG_zQzX8sA', u'HWrbZS1mxVRj2Y2VwMmDMg'), 0.10418909020180221),\n",
       " ((u'AKqMnr1bEFIZDG_zQzX8sA', u'MvlQo4bev1eqp1q0HYOLHg'), 0.09500990959959338),\n",
       " ((u'AKqMnr1bEFIZDG_zQzX8sA', u'X9Bql7RrPU5Mab5-hJsI8A'), 0.24884022230440347),\n",
       " ((u'AKqMnr1bEFIZDG_zQzX8sA', u'owO2UkNKk9qrWWd_PTYLDA'), 0.15894637714087928)]"
      ]
     },
     "execution_count": 48,
     "metadata": {},
     "output_type": "execute_result"
    }
   ],
   "source": [
    "similarity_rdd.take(5)"
   ]
  },
  {
   "cell_type": "markdown",
   "metadata": {},
   "source": [
    "Join similarity matrix with train and test RDD to take only similarity values for training and testing"
   ]
  },
  {
   "cell_type": "code",
   "execution_count": 49,
   "metadata": {
    "collapsed": true
   },
   "outputs": [],
   "source": [
    "train = similarity_rdd.join(train_rdd)\n",
    "test = similarity_rdd.join(test_rdd)"
   ]
  },
  {
   "cell_type": "code",
   "execution_count": 50,
   "metadata": {},
   "outputs": [
    {
     "data": {
      "text/plain": [
       "[((u'nzl2KyGKLtV7j8QEfOhC-w', u'TU2oECyx4VhCnzRzGzOlTg'),\n",
       "  (0.12674026709190792, 4.0)),\n",
       " ((u'JeIVRtZiwUnSP9qR4AmfEQ', u'WZDQqw960DaMWDyPbtRFtA'),\n",
       "  (0.3785895597715922, 4.0)),\n",
       " ((u'g3V76Ja0XgWS1rqx0gxL_A', u'a384anuGRsOe5IXclb3cNQ'),\n",
       "  (0.20300787250682253, 4.0)),\n",
       " ((u'3DltS5Wr9MOntnc8StBFBA', u'GjX2WgchvvS-JAWBmzkLyQ'),\n",
       "  (0.22445823160425513, 5.0)),\n",
       " ((u'GMKoemATfrXg1deaXxt2jA', u'gldPX9ANF5Nic0N7igu2og'),\n",
       "  (0.34381705401172574, 5.0))]"
      ]
     },
     "execution_count": 50,
     "metadata": {},
     "output_type": "execute_result"
    }
   ],
   "source": [
    "test.take(5)"
   ]
  },
  {
   "cell_type": "markdown",
   "metadata": {},
   "source": [
    "Convert RDD to List"
   ]
  },
  {
   "cell_type": "code",
   "execution_count": 51,
   "metadata": {
    "collapsed": true
   },
   "outputs": [],
   "source": [
    "train_ratings = train.collect()\n",
    "test_ratings = test.collect()"
   ]
  },
  {
   "cell_type": "markdown",
   "metadata": {},
   "source": [
    "### Training Regressor on similarity values"
   ]
  },
  {
   "cell_type": "code",
   "execution_count": 52,
   "metadata": {
    "collapsed": true
   },
   "outputs": [],
   "source": [
    "from sklearn.ensemble import RandomForestRegressor\n",
    "from sklearn.ensemble import AdaBoostRegressor\n",
    "from sklearn.ensemble import GradientBoostingRegressor\n",
    "from sklearn.linear_model import LinearRegression\n",
    "from sklearn.datasets import make_regression\n",
    "from sklearn.metrics import mean_squared_error\n",
    "from sklearn.model_selection import train_test_split\n",
    "from sklearn.model_selection import GridSearchCV\n",
    "from sklearn.svm import SVR"
   ]
  },
  {
   "cell_type": "markdown",
   "metadata": {},
   "source": [
    "Convert data to numpy array for regressor"
   ]
  },
  {
   "cell_type": "code",
   "execution_count": 53,
   "metadata": {
    "collapsed": true
   },
   "outputs": [],
   "source": [
    "X_train = []\n",
    "y_train = []\n",
    "for ratings in train_ratings:\n",
    "    X_train.append(ratings[1][0])\n",
    "    y_train.append(ratings[1][1])\n",
    "\n",
    "X_train = np.array(X_train)\n",
    "X_train = X_train.reshape(-1,1)"
   ]
  },
  {
   "cell_type": "code",
   "execution_count": 54,
   "metadata": {
    "collapsed": true
   },
   "outputs": [],
   "source": [
    "X_test = []\n",
    "y_test = []\n",
    "for ratings in test_ratings:\n",
    "    X_test.append(ratings[1][0])\n",
    "    y_test.append(ratings[1][1])\n",
    "\n",
    "X_test = np.array(X_test)\n",
    "X_test = X_test.reshape(-1,1)"
   ]
  },
  {
   "cell_type": "code",
   "execution_count": 55,
   "metadata": {},
   "outputs": [
    {
     "data": {
      "text/plain": [
       "array([[ 0.12674027],\n",
       "       [ 0.37858956],\n",
       "       [ 0.20300787],\n",
       "       ..., \n",
       "       [ 0.25466329],\n",
       "       [ 0.18442728],\n",
       "       [ 0.29656706]])"
      ]
     },
     "execution_count": 55,
     "metadata": {},
     "output_type": "execute_result"
    }
   ],
   "source": [
    "X_test"
   ]
  },
  {
   "cell_type": "markdown",
   "metadata": {},
   "source": [
    "Train regressor on training data and make prediction on Test data<br>\n",
    "Computed Mean Squared Error on predicted values"
   ]
  },
  {
   "cell_type": "code",
   "execution_count": 56,
   "metadata": {},
   "outputs": [
    {
     "name": "stdout",
     "output_type": "stream",
     "text": [
      "Training:\n",
      "1.03204199666\n",
      "Result:\n",
      "1.03786353237\n"
     ]
    }
   ],
   "source": [
    "forest = RandomForestRegressor(max_depth=1, n_estimators=20)\n",
    "\n",
    "rs = GradientBoostingRegressor(loss='ls', learning_rate=0.005, n_estimators=2)\n",
    "\n",
    "reg = LinearRegression()\n",
    "\n",
    "rs.fit(X_train, y_train)\n",
    "\n",
    "from sklearn.metrics import classification_report\n",
    "from sklearn.metrics import confusion_matrix\n",
    "\n",
    "expected = y_test\n",
    "predicted = rs.predict(X_test)\n",
    "\n",
    "train_expected = y_train\n",
    "train_predicted = rs.predict(X_train)\n",
    "\n",
    "print(\"Training:\\n%s\" % np.sqrt(mean_squared_error(train_expected, train_predicted)))\n",
    "print(\"Result:\\n%s\" % np.sqrt(mean_squared_error(expected, predicted)))"
   ]
  },
  {
   "cell_type": "markdown",
   "metadata": {},
   "source": [
    "### Computed Ratings on missing values"
   ]
  },
  {
   "cell_type": "code",
   "execution_count": 57,
   "metadata": {
    "collapsed": true
   },
   "outputs": [],
   "source": [
    "missing_test = test_rdd.subtractByKey(test)"
   ]
  },
  {
   "cell_type": "code",
   "execution_count": 58,
   "metadata": {
    "collapsed": true
   },
   "outputs": [],
   "source": [
    "missing_ratings_user = missing_test.map(lambda x: ((x[0][0]), (x[0][1], x[1]))).join(avg_rating).map(lambda x: ((x[0], x[1][0][0]), (x[1][1], x[1][0][1])))"
   ]
  },
  {
   "cell_type": "code",
   "execution_count": 59,
   "metadata": {},
   "outputs": [
    {
     "data": {
      "text/plain": [
       "[(('70sSlkooEgL_TEjWDQbr3A', 'afXMX5llxcMFzbaPaBBm6A'), (3.12, 4.0)),\n",
       " (('pr8_C12oHakeNB4ZPp_dig', '3ZcxnR9YkDVRqqkDJMRWBg'), (4.2, 5.0)),\n",
       " (('dz8CFWEWuR_4S1zlZhWCMQ', 'rKh_Nl5edIB9AevqnDmO6g'),\n",
       "  (3.7291666666666665, 3.0)),\n",
       " (('dz8CFWEWuR_4S1zlZhWCMQ', '_VYUU5HPLYasd-xdKLimNA'),\n",
       "  (3.7291666666666665, 3.0)),\n",
       " (('z4MQzyewTRzSoStg0NwL-w', 'lvZOJWiwNymeBhOAgoy11w'),\n",
       "  (3.911764705882353, 4.0))]"
      ]
     },
     "execution_count": 59,
     "metadata": {},
     "output_type": "execute_result"
    }
   ],
   "source": [
    "missing_ratings_user.take(5)"
   ]
  },
  {
   "cell_type": "markdown",
   "metadata": {},
   "source": [
    "Make predictions on test data using the trained regressor"
   ]
  },
  {
   "cell_type": "code",
   "execution_count": 60,
   "metadata": {
    "collapsed": true
   },
   "outputs": [],
   "source": [
    "predictions = test.map(lambda x: ((x[0]), (rs.predict(np.array(x[1][0]).reshape(1,-1))[0], x[1][1])))"
   ]
  },
  {
   "cell_type": "code",
   "execution_count": 61,
   "metadata": {
    "collapsed": true
   },
   "outputs": [],
   "source": [
    "final_predictions = predictions.union(missing_ratings_user)"
   ]
  },
  {
   "cell_type": "code",
   "execution_count": 68,
   "metadata": {},
   "outputs": [
    {
     "data": {
      "text/plain": [
       "12496"
      ]
     },
     "execution_count": 68,
     "metadata": {},
     "output_type": "execute_result"
    }
   ],
   "source": [
    "final_predictions.count()"
   ]
  },
  {
   "cell_type": "code",
   "execution_count": 69,
   "metadata": {
    "collapsed": true
   },
   "outputs": [],
   "source": [
    "mse = final_predictions.map(lambda x: (x[1][0]-x[1][1])**2)"
   ]
  },
  {
   "cell_type": "code",
   "execution_count": 70,
   "metadata": {},
   "outputs": [
    {
     "data": {
      "text/plain": [
       "1.0307912822424812"
      ]
     },
     "execution_count": 70,
     "metadata": {},
     "output_type": "execute_result"
    }
   ],
   "source": [
    "np.sqrt(mse.mean())"
   ]
  },
  {
   "cell_type": "code",
   "execution_count": 62,
   "metadata": {
    "collapsed": true
   },
   "outputs": [],
   "source": [
    "final_predictions = final_predictions.collect()"
   ]
  },
  {
   "cell_type": "markdown",
   "metadata": {},
   "source": [
    "### Save predictions file"
   ]
  },
  {
   "cell_type": "code",
   "execution_count": 63,
   "metadata": {
    "collapsed": true
   },
   "outputs": [],
   "source": [
    "with open(test_output, 'w') as f:\n",
    "    for item in final_predictions:\n",
    "        f.write(str(item[0][0])+\",\"+str(item[0][1])+\",\"+str(item[1][0])+\"\\n\")"
   ]
  },
  {
   "cell_type": "markdown",
   "metadata": {},
   "source": [
    "### Making predictions on training data"
   ]
  },
  {
   "cell_type": "code",
   "execution_count": 66,
   "metadata": {
    "collapsed": true
   },
   "outputs": [],
   "source": [
    "train_predict = train.map(lambda x: ((x[0]), (rs.predict(np.array(x[1][0]).reshape(1,-1))[0], x[1][1])))"
   ]
  },
  {
   "cell_type": "code",
   "execution_count": 67,
   "metadata": {},
   "outputs": [
    {
     "data": {
      "text/plain": [
       "[((u'hHqH_E9FCI_B6WubV0jPYA', u'ZNdV9ytExuxPTXSN8i2xhw'),\n",
       "  (3.8300646645018004, 3.0)),\n",
       " ((u'V0pP_PQnWdtyKpF-pifiaw', u'Fpm3WvqtrAg2ueh_4pz7iA'),\n",
       "  (3.8300646645018004, 4.0)),\n",
       " ((u'IKnLl7SbuP0u6HS34jwHhw', u'guQww9yGHP7rRTea6zTnDg'),\n",
       "  (3.8300646645018004, 3.0)),\n",
       " ((u'M9MXoSsb193m1g0QmmUYBQ', u'-i3pCgQi_Y9NiSSWs6G7bw'),\n",
       "  (3.8300646645018004, 5.0)),\n",
       " ((u'BkMqpJikNc3r5itc-ui6ww', u'x8WI_GkeGHGJCXggDm8flg'),\n",
       "  (3.8313020105375299, 3.0))]"
      ]
     },
     "execution_count": 67,
     "metadata": {},
     "output_type": "execute_result"
    }
   ],
   "source": [
    "train_predict.take(5)"
   ]
  },
  {
   "cell_type": "code",
   "execution_count": 73,
   "metadata": {
    "collapsed": true
   },
   "outputs": [],
   "source": [
    "train_predictions = train_predict.map(lambda x: (x[1][0]-x[1][1])**2)"
   ]
  },
  {
   "cell_type": "code",
   "execution_count": 74,
   "metadata": {},
   "outputs": [
    {
     "data": {
      "text/plain": [
       "1.0323727636048268"
      ]
     },
     "execution_count": 74,
     "metadata": {},
     "output_type": "execute_result"
    }
   ],
   "source": [
    "np.sqrt(train_predictions.mean())"
   ]
  },
  {
   "cell_type": "code",
   "execution_count": 68,
   "metadata": {
    "collapsed": true
   },
   "outputs": [],
   "source": [
    "train_predict = train_predict.collect()"
   ]
  },
  {
   "cell_type": "code",
   "execution_count": 69,
   "metadata": {
    "collapsed": true
   },
   "outputs": [],
   "source": [
    "with open(train_output, 'w') as f:\n",
    "    for item in train_predict:\n",
    "        f.write(str(item[0][0])+\",\"+str(item[0][1])+\",\"+str(item[1][0])+\"\\n\")"
   ]
  }
 ],
 "metadata": {
  "kernelspec": {
   "display_name": "Python 2",
   "language": "python",
   "name": "python2"
  },
  "language_info": {
   "codemirror_mode": {
    "name": "ipython",
    "version": 2
   },
   "file_extension": ".py",
   "mimetype": "text/x-python",
   "name": "python",
   "nbconvert_exporter": "python",
   "pygments_lexer": "ipython2",
   "version": "2.7.6"
  }
 },
 "nbformat": 4,
 "nbformat_minor": 1
}
