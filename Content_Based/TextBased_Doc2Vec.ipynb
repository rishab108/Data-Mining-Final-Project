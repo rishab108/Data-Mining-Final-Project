{
 "cells": [
  {
   "cell_type": "markdown",
   "metadata": {},
   "source": [
    "### Spark Initialization"
   ]
  },
  {
   "cell_type": "code",
   "execution_count": 1,
   "metadata": {
    "collapsed": true
   },
   "outputs": [],
   "source": [
    "import findspark\n",
    "findspark.init()"
   ]
  },
  {
   "cell_type": "code",
   "execution_count": 2,
   "metadata": {
    "collapsed": true
   },
   "outputs": [],
   "source": [
    "import sys\n",
    "import copy\n",
    "import csv\n",
    "\n",
    "from string import atoi\n",
    "from pyspark import SparkContext, SparkConf\n",
    "from pyspark.sql import SparkSession"
   ]
  },
  {
   "cell_type": "code",
   "execution_count": 3,
   "metadata": {
    "collapsed": true
   },
   "outputs": [],
   "source": [
    "import numpy as np"
   ]
  },
  {
   "cell_type": "code",
   "execution_count": 4,
   "metadata": {
    "collapsed": true
   },
   "outputs": [],
   "source": [
    "conf = SparkConf().setAppName(\"ContentBased\")\n",
    "conf = conf.setMaster(\"local[*]\")"
   ]
  },
  {
   "cell_type": "code",
   "execution_count": 5,
   "metadata": {
    "collapsed": true
   },
   "outputs": [],
   "source": [
    "sc  = SparkContext(conf=conf)"
   ]
  },
  {
   "cell_type": "markdown",
   "metadata": {},
   "source": [
    "### Train, Test and Output files"
   ]
  },
  {
   "cell_type": "code",
   "execution_count": null,
   "metadata": {
    "collapsed": true
   },
   "outputs": [],
   "source": [
    "train_file = \"/Users/lakshya/Desktop/INF-553/Project/pittsburgh_review_with_text_20_res_lemma_data_train.txt\"\n",
    "test_file = \"/Users/lakshya/Desktop/INF-553/Project/pittsburgh_review_with_text_20_res_lemma_data_test.txt\"\n",
    "train_output = '/Users/lakshya/Desktop/INF-553/Project/Pittsburgh_TextBased_Doc2Vec_train_predictions.txt'\n",
    "test_output = '/Users/lakshya/Desktop/INF-553/Project/Pittsburgh_TextBased_Doc2Vec_test_predictions.txt'"
   ]
  },
  {
   "cell_type": "markdown",
   "metadata": {},
   "source": [
    "### Load Train and Test Data"
   ]
  },
  {
   "cell_type": "code",
   "execution_count": 15,
   "metadata": {
    "collapsed": true
   },
   "outputs": [],
   "source": [
    "trainData = sc.textFile(train_file,use_unicode=False)\n",
    "testData = sc.textFile(test_file,use_unicode=False)"
   ]
  },
  {
   "cell_type": "code",
   "execution_count": 16,
   "metadata": {
    "collapsed": true
   },
   "outputs": [],
   "source": [
    "train_rdd = trainData.mapPartitions(lambda x: csv.reader(x)).map(lambda x: ((x[0], x[1]), float(x[2])))\n",
    "test_rdd = testData.mapPartitions(lambda x: csv.reader(x)).map(lambda x: ((x[0], x[1]), float(x[2])))"
   ]
  },
  {
   "cell_type": "code",
   "execution_count": 17,
   "metadata": {
    "collapsed": true
   },
   "outputs": [],
   "source": [
    "avg_rating = train_rdd.map(lambda x: (x[0][0], x[1])).groupByKey().map(lambda x: (x[0], list(x[1]))).map(lambda x: (x[0], sum(x[1])/len(x[1])))\n",
    "prod_rating = train_rdd.map(lambda x: (x[0][1], x[1])).groupByKey().map(lambda x: (x[0], list(x[1]))).map(lambda x: (x[0], sum(x[1])/len(x[1])))"
   ]
  },
  {
   "cell_type": "code",
   "execution_count": 18,
   "metadata": {
    "collapsed": true
   },
   "outputs": [],
   "source": [
    "avg_rating = avg_rating.map(lambda x: ((x[0]), x[1]))"
   ]
  },
  {
   "cell_type": "code",
   "execution_count": 19,
   "metadata": {},
   "outputs": [
    {
     "data": {
      "text/plain": [
       "[('AKqMnr1bEFIZDG_zQzX8sA', 3.45),\n",
       " ('S1cjSFKcS5NVc3o1MkfpwA', 3.574074074074074),\n",
       " ('bSvNU2vABlaBi1ooF4KNJg', 3.3684210526315788),\n",
       " ('8ye6-7YYMsp0YizCLyrxcA', 4.184210526315789),\n",
       " ('oIN1CjzbCCol4kPueU9WzQ', 3.5555555555555554)]"
      ]
     },
     "execution_count": 19,
     "metadata": {},
     "output_type": "execute_result"
    }
   ],
   "source": [
    "avg_rating.take(5)"
   ]
  },
  {
   "cell_type": "code",
   "execution_count": 20,
   "metadata": {
    "collapsed": true
   },
   "outputs": [],
   "source": [
    "train_temp = trainData.mapPartitions(lambda x: csv.reader(x)).map(lambda x: ((x[0], x[1]), 1))"
   ]
  },
  {
   "cell_type": "markdown",
   "metadata": {},
   "source": [
    "### Load review data"
   ]
  },
  {
   "cell_type": "code",
   "execution_count": 21,
   "metadata": {
    "collapsed": true
   },
   "outputs": [],
   "source": [
    "data = sc.textFile(train_file,use_unicode=False)"
   ]
  },
  {
   "cell_type": "code",
   "execution_count": 22,
   "metadata": {},
   "outputs": [
    {
     "data": {
      "text/plain": [
       "['1VVHf1BvtGC0aSCCIjQyiA,K5jY2W5Q3eNnwssV5UZtow,4,2016-11-16,2,2,2,past sunday one several time ive spirit its always eccentric fun time first music performance second hang recent visit sundays bingo bango spirit know pizza good drink also awesome last time get chard margarita time get tomatillo margarita hot ciders its always pleasant surprise see whats menu food drink drink little pricey drawback one coolest things spirit atmosphere its always super strange positive way really never know expect bingo bango definitely family appropriate its fun activity friends maybe even date doesnt mind something ordinary',\n",
       " 'QYKexxaOJQlseGWmc6soRg,rzByiKaj-bLeLz-zKNBQdg,2,2015-04-13,0,0,0,old cramp build lot enough employees staff keep demand cause long wait time',\n",
       " '-ARdx8hOcEWlMDjzwLYZ_g,3cbsPfoUUrysf-M8FI_0IA,4,2014-03-24,6,4,3,live long world without donut menu dont know group nine din three varieties donuts include lemon lavender chocolate espresso zeppolli amaze pepper donut concoction ever make donut order come five donut hole theyre big hole one two enough cant believe say thats even little true youll want entire order save room best yet come choose omelette day entr\\xc3\\xa9e couldnt tell goat cheese creamy goats cheese salad nice addition potatoes delightful touch underdone seat downstairs pretty frigid awesome space nonetheless warm joint bite its five star way cant wait visit e2 dinner serve donuts right',\n",
       " '2oTG2GrBpikkonRxQywI7Q,CFtZH4Skp9z3o4ToSywI4w,4,2015-04-02,0,0,0,month try place try years ago im actually quite surprise place get earlier review sample veggie burger goodness place event attend couple years ago become close top list try finally go friend couple weeks ago try veggie burger call hippie something another burger feel like tony tiger fry good beer good fry good venue wait staff pretty great around good yummy experience',\n",
       " 'B7aR8VlLMGzaJ7NHC-jeMQ,RC8NJlX3X2Eo240PU5zJWA,4,2013-02-16,1,0,0,food good find service tad slow italian place area would go first italian good yes excellent meatballs',\n",
       " 'UsmTxWbobLsI6WR1Db0W7A,hsDkxhc-_YYsVqAeQBJJjg,1,2013-02-26,7,4,2,really guy endorse place triple d put reputation line segment big jims wasnt impress food service worse order half veggie hoagy bowl vegetable soup friend ross order small pizza bowl wed soup sip pretty good rooney pale ale best part meal little later soup come cup tell bartender order bowl oops fight cold nice hot bowl vegetable soup would hit spot still wait soup come pizza look good tons cheese pepperoni veggie hoagy order wrong order half give whole hoagy biggie ill take half home midnight snack still sign soup pretty unremarkable hoagy lot flavorless lettuce green pepper onion huge unchewable chunk carrots worse cold kind hop eggplant roast red pepper grill zucchini know real veggie hoagy flavor texture oh well live learn still soup finally bartender finish watch tv saw beer ask soup apologize say forget say ross guess must make good hourly wage hes work good tip finally soup deliver push away lousy hoagy dive soup blow spoonful soup ross say dont its cold damn half eat hoagy full bowl soup sit ask check pay leave never big jim never guy lose point call']"
      ]
     },
     "execution_count": 22,
     "metadata": {},
     "output_type": "execute_result"
    }
   ],
   "source": [
    "data.take(6)"
   ]
  },
  {
   "cell_type": "code",
   "execution_count": 23,
   "metadata": {
    "collapsed": true
   },
   "outputs": [],
   "source": [
    "train_data = data.mapPartitions(lambda x: csv.reader(x)).map(lambda x: ((x[0], x[1]), x[7])).join(train_temp)"
   ]
  },
  {
   "cell_type": "code",
   "execution_count": 24,
   "metadata": {
    "collapsed": true
   },
   "outputs": [],
   "source": [
    "train_data = train_data.map(lambda x: (x[0][0], x[0][1], x[1][0]))"
   ]
  },
  {
   "cell_type": "markdown",
   "metadata": {},
   "source": [
    "### Collect user data from train data (User, Review)"
   ]
  },
  {
   "cell_type": "code",
   "execution_count": 25,
   "metadata": {
    "collapsed": true
   },
   "outputs": [],
   "source": [
    "userReview = train_data.map(lambda x: (x[0], x[2])).groupByKey().mapValues(list)"
   ]
  },
  {
   "cell_type": "code",
   "execution_count": 26,
   "metadata": {
    "collapsed": true
   },
   "outputs": [],
   "source": [
    "userReviewCollected = userReview.map(lambda x: (x[0], x[1][0].split(\" \")))"
   ]
  },
  {
   "cell_type": "code",
   "execution_count": 27,
   "metadata": {},
   "outputs": [
    {
     "data": {
      "text/plain": [
       "[('AKqMnr1bEFIZDG_zQzX8sA',\n",
       "  ['place',\n",
       "   'breathe',\n",
       "   'fresh',\n",
       "   'air',\n",
       "   'find',\n",
       "   'hot',\n",
       "   'dog',\n",
       "   'fantastic',\n",
       "   'buns',\n",
       "   'toppings',\n",
       "   'fresh',\n",
       "   'homemade',\n",
       "   'fresh',\n",
       "   'cut',\n",
       "   'french',\n",
       "   'fry',\n",
       "   'hot',\n",
       "   'crispy',\n",
       "   'staff',\n",
       "   'pleasant',\n",
       "   'friendly',\n",
       "   'chicago',\n",
       "   'dog',\n",
       "   'plain',\n",
       "   'dog',\n",
       "   'relish',\n",
       "   'ketchup',\n",
       "   'right',\n",
       "   'point',\n",
       "   'fry',\n",
       "   'yummmmmm',\n",
       "   'little',\n",
       "   'small',\n",
       "   'inside',\n",
       "   'serve',\n",
       "   'purpose',\n",
       "   'mood',\n",
       "   'fresh',\n",
       "   'fry',\n",
       "   'great',\n",
       "   'hot',\n",
       "   'dog',\n",
       "   'get',\n",
       "   'sure',\n",
       "   'definitely',\n",
       "   'go',\n",
       "   'back']),\n",
       " ('hg71CGHy9bwpgY8cGVVg4w',\n",
       "  ['wife',\n",
       "   'come',\n",
       "   'lunch',\n",
       "   'walk',\n",
       "   'buy',\n",
       "   'chocolate',\n",
       "   'moose',\n",
       "   'look',\n",
       "   'say',\n",
       "   'chocolate',\n",
       "   'get',\n",
       "   'ta',\n",
       "   'go',\n",
       "   'store',\n",
       "   'huge',\n",
       "   'sort',\n",
       "   'candy',\n",
       "   'handmade',\n",
       "   'huge',\n",
       "   'selection',\n",
       "   'kinds',\n",
       "   'great',\n",
       "   'totally',\n",
       "   'delicious',\n",
       "   'truffles',\n",
       "   'order',\n",
       "   '15',\n",
       "   'different',\n",
       "   'truffles',\n",
       "   'everyone',\n",
       "   'totally',\n",
       "   'delicious',\n",
       "   'would',\n",
       "   'definitely',\n",
       "   'go',\n",
       "   'also',\n",
       "   'would',\n",
       "   'highly',\n",
       "   'recommend',\n",
       "   'place',\n",
       "   'need',\n",
       "   'sugar',\n",
       "   'candy',\n",
       "   'rush']),\n",
       " ('S1cjSFKcS5NVc3o1MkfpwA',\n",
       "  ['would',\n",
       "   'think',\n",
       "   'vegan',\n",
       "   'friendly',\n",
       "   'hipster',\n",
       "   'restaurant',\n",
       "   'would',\n",
       "   'one',\n",
       "   'best',\n",
       "   'place',\n",
       "   'pittsburgh',\n",
       "   'fee',\n",
       "   'hangover',\n",
       "   'seriously',\n",
       "   'go',\n",
       "   'hungover',\n",
       "   'love',\n",
       "   'get',\n",
       "   'super',\n",
       "   'stuff',\n",
       "   'burrito',\n",
       "   'put',\n",
       "   'mash',\n",
       "   'potatoes',\n",
       "   'burritos',\n",
       "   'along',\n",
       "   'hearty',\n",
       "   'bean',\n",
       "   'scramble',\n",
       "   'egg',\n",
       "   'cheese',\n",
       "   'yummy',\n",
       "   'salsa',\n",
       "   'stomach',\n",
       "   'thank',\n",
       "   'youre',\n",
       "   'wait',\n",
       "   'coffee',\n",
       "   '10',\n",
       "   'fill',\n",
       "   'burrito',\n",
       "   'bottomless',\n",
       "   'cup',\n",
       "   'coffee',\n",
       "   'think',\n",
       "   'great',\n",
       "   'deal',\n",
       "   'addition',\n",
       "   'regular',\n",
       "   'menu',\n",
       "   'also',\n",
       "   'daily',\n",
       "   'specials',\n",
       "   'theme',\n",
       "   'brunch',\n",
       "   'cant',\n",
       "   'wait',\n",
       "   'go',\n",
       "   'back',\n",
       "   'try',\n",
       "   'things',\n",
       "   'menu',\n",
       "   'its',\n",
       "   'great',\n",
       "   'full',\n",
       "   'service',\n",
       "   'restaurant',\n",
       "   'get',\n",
       "   'oodles',\n",
       "   'vegetarian',\n",
       "   'items']),\n",
       " ('eYnS0WVYYykN_gRuMUzoOw',\n",
       "  ['stop',\n",
       "   'pittsburgh',\n",
       "   'home',\n",
       "   'garden',\n",
       "   'show',\n",
       "   'quick',\n",
       "   'drink',\n",
       "   'couldve',\n",
       "   'turn',\n",
       "   'meal',\n",
       "   'place',\n",
       "   'cool',\n",
       "   'mean',\n",
       "   'decor',\n",
       "   'design',\n",
       "   'lot',\n",
       "   'eye',\n",
       "   'catchers',\n",
       "   'around',\n",
       "   'room',\n",
       "   'get',\n",
       "   'seat',\n",
       "   'table',\n",
       "   'near',\n",
       "   'bar',\n",
       "   'felt',\n",
       "   'like',\n",
       "   'top',\n",
       "   'party',\n",
       "   'next',\n",
       "   'us',\n",
       "   'room',\n",
       "   'design',\n",
       "   'its',\n",
       "   'loud',\n",
       "   'best',\n",
       "   'ambiance',\n",
       "   'conversations',\n",
       "   'wait',\n",
       "   'server',\n",
       "   'finally',\n",
       "   'come',\n",
       "   'ask',\n",
       "   'want',\n",
       "   'drink',\n",
       "   'decent',\n",
       "   'cocktail',\n",
       "   'menu',\n",
       "   'friend',\n",
       "   'get',\n",
       "   'dirty',\n",
       "   'pickle',\n",
       "   'dose',\n",
       "   'good',\n",
       "   'give',\n",
       "   'late',\n",
       "   'night',\n",
       "   'snack',\n",
       "   'menu',\n",
       "   '4',\n",
       "   'pm',\n",
       "   'wasnt',\n",
       "   'sure',\n",
       "   'happy',\n",
       "   'hour',\n",
       "   'werent',\n",
       "   'tell',\n",
       "   'cocktails',\n",
       "   'plus',\n",
       "   'service',\n",
       "   'dud',\n",
       "   'fabulous',\n",
       "   'options',\n",
       "   'dinner',\n",
       "   'near',\n",
       "   'decide',\n",
       "   'move',\n",
       "   'hear',\n",
       "   'talk',\n",
       "   'cant',\n",
       "   'say',\n",
       "   'im',\n",
       "   'run',\n",
       "   'back',\n",
       "   'something',\n",
       "   'miss']),\n",
       " ('A0ssDikuj0SQr9mVqnh91Q',\n",
       "  ['sit',\n",
       "   'bar',\n",
       "   'good',\n",
       "   'drink',\n",
       "   'bunch',\n",
       "   'beer',\n",
       "   'options',\n",
       "   'rum',\n",
       "   'course',\n",
       "   'fish',\n",
       "   'tacos',\n",
       "   'quesadillas',\n",
       "   'good',\n",
       "   'seem',\n",
       "   'like',\n",
       "   'solid',\n",
       "   'choice',\n",
       "   'happy',\n",
       "   'hour',\n",
       "   'due',\n",
       "   'deck',\n",
       "   'much',\n",
       "   'need',\n",
       "   'area',\n",
       "   'need',\n",
       "   'options',\n",
       "   'ill',\n",
       "   'come',\n",
       "   'refresh',\n",
       "   'review',\n",
       "   'try',\n",
       "   'dinner'])]"
      ]
     },
     "execution_count": 27,
     "metadata": {},
     "output_type": "execute_result"
    }
   ],
   "source": [
    "userReviewCollected.take(5)"
   ]
  },
  {
   "cell_type": "markdown",
   "metadata": {},
   "source": [
    "### Collect product data from train data (Product, Review)"
   ]
  },
  {
   "cell_type": "code",
   "execution_count": 28,
   "metadata": {
    "collapsed": true
   },
   "outputs": [],
   "source": [
    "prodReview = train_data.map(lambda x: (x[1], x[2])).groupByKey().mapValues(list)"
   ]
  },
  {
   "cell_type": "code",
   "execution_count": 29,
   "metadata": {
    "collapsed": true
   },
   "outputs": [],
   "source": [
    "prodReviewCollected = prodReview.map(lambda x: (x[0], x[1][0].split(\" \")))"
   ]
  },
  {
   "cell_type": "code",
   "execution_count": 30,
   "metadata": {},
   "outputs": [
    {
     "data": {
      "text/plain": [
       "[('5REYrZfsX3m4E3FTwovp5Q',\n",
       "  ['try',\n",
       "   'first',\n",
       "   'time',\n",
       "   'last',\n",
       "   'night',\n",
       "   'pretty',\n",
       "   'good',\n",
       "   'one',\n",
       "   'thing',\n",
       "   'really',\n",
       "   'annoy',\n",
       "   'restaurant',\n",
       "   'see',\n",
       "   'review',\n",
       "   'verde',\n",
       "   'entire',\n",
       "   'restaurant',\n",
       "   'fill',\n",
       "   'reservations',\n",
       "   'can',\n",
       "   'not',\n",
       "   'even',\n",
       "   'seat',\n",
       "   'walk',\n",
       "   '2',\n",
       "   'people',\n",
       "   'restaurant',\n",
       "   'empty',\n",
       "   'really',\n",
       "   'avocado',\n",
       "   'corn',\n",
       "   'ceviche',\n",
       "   'mojo',\n",
       "   'criollo',\n",
       "   'nigiri',\n",
       "   'avocado',\n",
       "   'crab',\n",
       "   'delicious',\n",
       "   'mojo',\n",
       "   'criollo',\n",
       "   'favorite',\n",
       "   'everything',\n",
       "   'taste',\n",
       "   'super',\n",
       "   'fresh',\n",
       "   'flavorful',\n",
       "   'serve',\n",
       "   'good',\n",
       "   'size',\n",
       "   'date',\n",
       "   'share',\n",
       "   'wine',\n",
       "   'meh',\n",
       "   'would',\n",
       "   'think',\n",
       "   'place',\n",
       "   'thats',\n",
       "   'like',\n",
       "   'tapas',\n",
       "   'wine',\n",
       "   'bar',\n",
       "   'wine',\n",
       "   'would',\n",
       "   'better',\n",
       "   'order',\n",
       "   'frontera',\n",
       "   'sauvignon',\n",
       "   'blanc',\n",
       "   'often',\n",
       "   'buy',\n",
       "   'liquor',\n",
       "   'store',\n",
       "   'slo',\n",
       "   'wine',\n",
       "   'hm',\n",
       "   'lame',\n",
       "   'hate',\n",
       "   'pay',\n",
       "   '9',\n",
       "   'glass',\n",
       "   'wine',\n",
       "   'restaurant',\n",
       "   'easily',\n",
       "   'buy',\n",
       "   '10',\n",
       "   'liquor',\n",
       "   'store',\n",
       "   'seem',\n",
       "   'justify',\n",
       "   'least',\n",
       "   'slo',\n",
       "   'bottle',\n",
       "   'service',\n",
       "   'good',\n",
       "   'nice',\n",
       "   'time',\n",
       "   'would',\n",
       "   'come',\n",
       "   'back']),\n",
       " ('HWrbZS1mxVRj2Y2VwMmDMg',\n",
       "  ['oh',\n",
       "   'man',\n",
       "   'word',\n",
       "   'can',\n",
       "   'not',\n",
       "   'describe',\n",
       "   'excite',\n",
       "   'bakeshop',\n",
       "   'its',\n",
       "   'name',\n",
       "   'dulcinea',\n",
       "   'cool',\n",
       "   'owner',\n",
       "   'baker',\n",
       "   'super',\n",
       "   'cool',\n",
       "   'friendly',\n",
       "   'passionate',\n",
       "   'bake',\n",
       "   'experience',\n",
       "   'bake',\n",
       "   'several',\n",
       "   'businesses',\n",
       "   'open',\n",
       "   'shop',\n",
       "   'include',\n",
       "   'stint',\n",
       "   'head',\n",
       "   'pastry',\n",
       "   'chef',\n",
       "   'casbah',\n",
       "   'im',\n",
       "   'glad',\n",
       "   'open',\n",
       "   'bakeshop',\n",
       "   'though',\n",
       "   'im',\n",
       "   'sure',\n",
       "   'im',\n",
       "   'one',\n",
       "   'feel',\n",
       "   'way',\n",
       "   'kind',\n",
       "   'place',\n",
       "   'expect',\n",
       "   'creative',\n",
       "   'seasonally',\n",
       "   'inspire',\n",
       "   'twist',\n",
       "   'favorite',\n",
       "   'pastries',\n",
       "   'things',\n",
       "   'make',\n",
       "   'scratch',\n",
       "   'quality',\n",
       "   'ingredients',\n",
       "   'really',\n",
       "   'taste',\n",
       "   'difference',\n",
       "   'slice',\n",
       "   'cheesecake',\n",
       "   'dulce',\n",
       "   'de',\n",
       "   'leche',\n",
       "   'make',\n",
       "   'scratch',\n",
       "   'best',\n",
       "   'piece',\n",
       "   'cheesecake',\n",
       "   'far',\n",
       "   'back',\n",
       "   'remember',\n",
       "   'felt',\n",
       "   'like',\n",
       "   'die',\n",
       "   'go',\n",
       "   'heaven',\n",
       "   'also',\n",
       "   'two',\n",
       "   'slice',\n",
       "   'delicious',\n",
       "   'sausage',\n",
       "   'pepper',\n",
       "   'quiche',\n",
       "   'ask',\n",
       "   'one',\n",
       "   'shop',\n",
       "   'close',\n",
       "   'soon',\n",
       "   'owner',\n",
       "   'super',\n",
       "   'nice',\n",
       "   'give',\n",
       "   'extra',\n",
       "   'slice',\n",
       "   'extra',\n",
       "   'glad',\n",
       "   'try',\n",
       "   'crust',\n",
       "   'perfectly',\n",
       "   'do',\n",
       "   'super',\n",
       "   'crispy',\n",
       "   'buttery',\n",
       "   'fill',\n",
       "   'flavorful',\n",
       "   'good',\n",
       "   'texture',\n",
       "   'plus',\n",
       "   'love',\n",
       "   'high',\n",
       "   'crust',\n",
       "   'fill',\n",
       "   'ratio',\n",
       "   'since',\n",
       "   'crust',\n",
       "   'favorite',\n",
       "   'part',\n",
       "   'definitely',\n",
       "   'back',\n",
       "   'lot',\n",
       "   'lot',\n",
       "   'delightful',\n",
       "   'dangerous',\n",
       "   'bakery',\n",
       "   'mere',\n",
       "   '10',\n",
       "   'block',\n",
       "   'place']),\n",
       " ('MvlQo4bev1eqp1q0HYOLHg',\n",
       "  ['first',\n",
       "   'dance',\n",
       "   'class',\n",
       "   'probably',\n",
       "   'decade',\n",
       "   'probably',\n",
       "   'havent',\n",
       "   'exercise',\n",
       "   'year',\n",
       "   'adult',\n",
       "   'hip',\n",
       "   'hop',\n",
       "   'amaze',\n",
       "   'move',\n",
       "   'pittsburgh',\n",
       "   'its',\n",
       "   'really',\n",
       "   'great',\n",
       "   'find',\n",
       "   'place',\n",
       "   'exercise',\n",
       "   'still',\n",
       "   'keep',\n",
       "   'dance',\n",
       "   'skills',\n",
       "   'definitely',\n",
       "   'back']),\n",
       " ('X9Bql7RrPU5Mab5-hJsI8A',\n",
       "  ['2nd',\n",
       "   'visit',\n",
       "   'promise',\n",
       "   'first',\n",
       "   'time',\n",
       "   'order',\n",
       "   'feature',\n",
       "   'burger',\n",
       "   'spicy',\n",
       "   'cow',\n",
       "   'burger',\n",
       "   'side',\n",
       "   'fry',\n",
       "   'season',\n",
       "   'beef',\n",
       "   'arugula',\n",
       "   'tomato',\n",
       "   'pickle',\n",
       "   'jalape\\xc3\\xb1o',\n",
       "   'slice',\n",
       "   'pepper',\n",
       "   'jack',\n",
       "   'fry',\n",
       "   'jalape\\xc3\\xb1os',\n",
       "   'frank',\n",
       "   'red',\n",
       "   'hot',\n",
       "   'something',\n",
       "   'call',\n",
       "   'ask',\n",
       "   'want',\n",
       "   'cook',\n",
       "   'medium',\n",
       "   'burger',\n",
       "   'look',\n",
       "   'perfect',\n",
       "   'come',\n",
       "   'fry',\n",
       "   'bite',\n",
       "   'underdone',\n",
       "   'otherwise',\n",
       "   'pretty',\n",
       "   'tasty',\n",
       "   'messy',\n",
       "   'fry',\n",
       "   'werent',\n",
       "   'salt',\n",
       "   'lightly',\n",
       "   'like',\n",
       "   'dont',\n",
       "   'like',\n",
       "   'nicely',\n",
       "   'crisp',\n",
       "   'fry',\n",
       "   'arent',\n",
       "   'hot',\n",
       "   'thats',\n",
       "   'oh',\n",
       "   'well',\n",
       "   'may',\n",
       "   'give',\n",
       "   'another',\n",
       "   'try',\n",
       "   'sure',\n",
       "   'lot',\n",
       "   'options']),\n",
       " ('owO2UkNKk9qrWWd_PTYLDA',\n",
       "  ['feel',\n",
       "   'like',\n",
       "   'ive',\n",
       "   'random',\n",
       "   'experience',\n",
       "   'place',\n",
       "   'regulars',\n",
       "   'rowdys',\n",
       "   'bbq',\n",
       "   '51',\n",
       "   'decide',\n",
       "   'try',\n",
       "   'place',\n",
       "   'take',\n",
       "   'former',\n",
       "   'hair',\n",
       "   'stylists',\n",
       "   'salon',\n",
       "   'though',\n",
       "   'area',\n",
       "   '51',\n",
       "   'alien',\n",
       "   'theme',\n",
       "   'bright',\n",
       "   'color',\n",
       "   'order',\n",
       "   'near',\n",
       "   'close',\n",
       "   'time',\n",
       "   'hour',\n",
       "   'prior',\n",
       "   'woman',\n",
       "   'take',\n",
       "   'order',\n",
       "   'extremely',\n",
       "   'pleasant',\n",
       "   'process',\n",
       "   'quick',\n",
       "   'food',\n",
       "   'ready',\n",
       "   '15',\n",
       "   'minutes',\n",
       "   'live',\n",
       "   '1',\n",
       "   'minute',\n",
       "   'away',\n",
       "   'choose',\n",
       "   'pork',\n",
       "   'bbq',\n",
       "   'sandwich',\n",
       "   'bean',\n",
       "   'side',\n",
       "   'bbq',\n",
       "   'brisket',\n",
       "   'mac',\n",
       "   'cheese',\n",
       "   'regular',\n",
       "   'oppose',\n",
       "   'spicy',\n",
       "   'sandwich',\n",
       "   'werent',\n",
       "   'label',\n",
       "   'look',\n",
       "   'nearly',\n",
       "   'identical',\n",
       "   'taste',\n",
       "   'test',\n",
       "   'tell',\n",
       "   'apart',\n",
       "   'bbq',\n",
       "   'sauce',\n",
       "   'slightly',\n",
       "   'tangy',\n",
       "   'sweet',\n",
       "   'could',\n",
       "   'do',\n",
       "   'pork',\n",
       "   'thats',\n",
       "   'preference',\n",
       "   'fault',\n",
       "   'pork',\n",
       "   'warm',\n",
       "   'actually',\n",
       "   'taste',\n",
       "   'amaze',\n",
       "   'buttery',\n",
       "   'good',\n",
       "   'smoky',\n",
       "   'flavor',\n",
       "   'problem',\n",
       "   'actual',\n",
       "   'composition',\n",
       "   'sandwich',\n",
       "   'bottom',\n",
       "   'bun',\n",
       "   'soak',\n",
       "   'fat',\n",
       "   'juice',\n",
       "   'pork',\n",
       "   'inedible',\n",
       "   'make',\n",
       "   'sandwich',\n",
       "   'moot',\n",
       "   'point',\n",
       "   'smoke',\n",
       "   'bean',\n",
       "   'glob',\n",
       "   'thick',\n",
       "   'mash',\n",
       "   'bean',\n",
       "   'look',\n",
       "   'homemade',\n",
       "   'point',\n",
       "   'sauce',\n",
       "   'thick',\n",
       "   'gritty',\n",
       "   'salty',\n",
       "   'enjoyable',\n",
       "   'mac',\n",
       "   'cheese',\n",
       "   'also',\n",
       "   'mushy',\n",
       "   'flavorless',\n",
       "   'toddler',\n",
       "   'happy',\n",
       "   'cornbread',\n",
       "   'sweet',\n",
       "   'dry',\n",
       "   'though',\n",
       "   'highlight',\n",
       "   'dinner',\n",
       "   'well',\n",
       "   'probably',\n",
       "   'give',\n",
       "   'another',\n",
       "   'try',\n",
       "   'every',\n",
       "   'place',\n",
       "   'entitle',\n",
       "   'day',\n",
       "   'review',\n",
       "   'place',\n",
       "   'much',\n",
       "   'favorable',\n",
       "   'experience'])]"
      ]
     },
     "execution_count": 30,
     "metadata": {},
     "output_type": "execute_result"
    }
   ],
   "source": [
    "prodReviewCollected.take(5)"
   ]
  },
  {
   "cell_type": "markdown",
   "metadata": {},
   "source": [
    "### Doc2Vec model creation"
   ]
  },
  {
   "cell_type": "code",
   "execution_count": 31,
   "metadata": {},
   "outputs": [
    {
     "name": "stderr",
     "output_type": "stream",
     "text": [
      "/Users/lakshya/anaconda/lib/python2.7/site-packages/cffi/model.py:525: UserWarning: 'point_conversion_form_t' has no values explicitly defined; guessing that it is equivalent to 'unsigned int'\n",
      "  % self._get_c_name())\n"
     ]
    }
   ],
   "source": [
    "from collections import namedtuple\n",
    "from gensim.models.doc2vec import Doc2Vec, TaggedDocument"
   ]
  },
  {
   "cell_type": "markdown",
   "metadata": {},
   "source": [
    "Convert user and product rdd to pandas dataframe"
   ]
  },
  {
   "cell_type": "code",
   "execution_count": 33,
   "metadata": {
    "collapsed": true
   },
   "outputs": [],
   "source": [
    "spark = SparkSession(sc)\n",
    "\n",
    "userPandas = userReviewCollected.toDF().toPandas()\n",
    "prodPandas = prodReviewCollected.toDF().toPandas()"
   ]
  },
  {
   "cell_type": "markdown",
   "metadata": {},
   "source": [
    "Create Doc2Vec model on product review text"
   ]
  },
  {
   "cell_type": "code",
   "execution_count": 34,
   "metadata": {
    "collapsed": true
   },
   "outputs": [],
   "source": [
    "documents_prod = [TaggedDocument(doc, [i]) for i, doc in enumerate(prodPandas['_2'])]"
   ]
  },
  {
   "cell_type": "markdown",
   "metadata": {},
   "source": [
    "Create Doc2Vec model on user review text"
   ]
  },
  {
   "cell_type": "code",
   "execution_count": 36,
   "metadata": {
    "collapsed": true
   },
   "outputs": [],
   "source": [
    "documents_user = [TaggedDocument(doc, [i+len(documents_prod)]) for i, doc in enumerate(userPandas['_2'])]"
   ]
  },
  {
   "cell_type": "markdown",
   "metadata": {},
   "source": [
    "Combine both user and product documents"
   ]
  },
  {
   "cell_type": "code",
   "execution_count": 38,
   "metadata": {
    "collapsed": true
   },
   "outputs": [],
   "source": [
    "documents = documents_prod+documents_user"
   ]
  },
  {
   "cell_type": "code",
   "execution_count": 39,
   "metadata": {},
   "outputs": [
    {
     "name": "stderr",
     "output_type": "stream",
     "text": [
      "/Users/lakshya/anaconda/lib/python2.7/site-packages/gensim/models/doc2vec.py:570: UserWarning: The parameter `size` is deprecated, will be removed in 4.0.0, use `vector_size` instead.\n",
      "  warnings.warn(\"The parameter `size` is deprecated, will be removed in 4.0.0, use `vector_size` instead.\")\n"
     ]
    }
   ],
   "source": [
    "model = Doc2Vec(documents, size = 3000, min_count = 1, workers=4)"
   ]
  },
  {
   "cell_type": "code",
   "execution_count": 40,
   "metadata": {
    "collapsed": true
   },
   "outputs": [],
   "source": [
    "feature_vectors = []\n",
    "for i in range(0, len(documents_prod)):\n",
    "    feature_vectors.append(model.docvecs[i])"
   ]
  },
  {
   "cell_type": "code",
   "execution_count": 41,
   "metadata": {},
   "outputs": [
    {
     "data": {
      "text/plain": [
       "array([ 0.0174081 , -0.00577185, -0.01162341, ..., -0.00172507,\n",
       "       -0.00187236,  0.01294933], dtype=float32)"
      ]
     },
     "execution_count": 41,
     "metadata": {},
     "output_type": "execute_result"
    }
   ],
   "source": [
    "feature_vectors[0]"
   ]
  },
  {
   "cell_type": "markdown",
   "metadata": {},
   "source": [
    "Add Doc2Vec vectors to product dataframe"
   ]
  },
  {
   "cell_type": "code",
   "execution_count": 43,
   "metadata": {
    "collapsed": true
   },
   "outputs": [],
   "source": [
    "prodPandas['Vector'] = feature_vectors"
   ]
  },
  {
   "cell_type": "code",
   "execution_count": 44,
   "metadata": {},
   "outputs": [
    {
     "data": {
      "text/html": [
       "<div>\n",
       "<style>\n",
       "    .dataframe thead tr:only-child th {\n",
       "        text-align: right;\n",
       "    }\n",
       "\n",
       "    .dataframe thead th {\n",
       "        text-align: left;\n",
       "    }\n",
       "\n",
       "    .dataframe tbody tr th {\n",
       "        vertical-align: top;\n",
       "    }\n",
       "</style>\n",
       "<table border=\"1\" class=\"dataframe\">\n",
       "  <thead>\n",
       "    <tr style=\"text-align: right;\">\n",
       "      <th></th>\n",
       "      <th>_1</th>\n",
       "      <th>_2</th>\n",
       "      <th>Vector</th>\n",
       "    </tr>\n",
       "  </thead>\n",
       "  <tbody>\n",
       "    <tr>\n",
       "      <th>0</th>\n",
       "      <td>5REYrZfsX3m4E3FTwovp5Q</td>\n",
       "      <td>[try, first, time, last, night, pretty, good, ...</td>\n",
       "      <td>[0.0174081, -0.00577185, -0.0116234, -0.006113...</td>\n",
       "    </tr>\n",
       "    <tr>\n",
       "      <th>1</th>\n",
       "      <td>HWrbZS1mxVRj2Y2VwMmDMg</td>\n",
       "      <td>[oh, man, word, can, not, describe, excite, ba...</td>\n",
       "      <td>[0.0216439, -0.00462718, -0.0173346, -0.007567...</td>\n",
       "    </tr>\n",
       "    <tr>\n",
       "      <th>2</th>\n",
       "      <td>MvlQo4bev1eqp1q0HYOLHg</td>\n",
       "      <td>[first, dance, class, probably, decade, probab...</td>\n",
       "      <td>[0.00531396, -0.0021056, -0.00318673, -0.00173...</td>\n",
       "    </tr>\n",
       "    <tr>\n",
       "      <th>3</th>\n",
       "      <td>X9Bql7RrPU5Mab5-hJsI8A</td>\n",
       "      <td>[2nd, visit, promise, first, time, order, feat...</td>\n",
       "      <td>[0.0120019, -0.000385666, -0.0113439, -0.00413...</td>\n",
       "    </tr>\n",
       "    <tr>\n",
       "      <th>4</th>\n",
       "      <td>owO2UkNKk9qrWWd_PTYLDA</td>\n",
       "      <td>[feel, like, ive, random, experience, place, r...</td>\n",
       "      <td>[0.0357995, -0.0063142, -0.0298217, -0.0124923...</td>\n",
       "    </tr>\n",
       "    <tr>\n",
       "      <th>5</th>\n",
       "      <td>rc9SfYli96cnlPDMyJ7hyA</td>\n",
       "      <td>[go, lunch, friends, group, 7, round, table, b...</td>\n",
       "      <td>[0.00558426, 0.000327907, -0.00573921, -0.0018...</td>\n",
       "    </tr>\n",
       "    <tr>\n",
       "      <th>6</th>\n",
       "      <td>94VxE6XLTrXmz4yXWEJbAg</td>\n",
       "      <td>[come, instead, ds, need, buy, case, beer, the...</td>\n",
       "      <td>[0.00501451, -0.00120674, -0.00392044, -0.0016...</td>\n",
       "    </tr>\n",
       "    <tr>\n",
       "      <th>7</th>\n",
       "      <td>anfgvbiobw4M0Wnvx_os3Q</td>\n",
       "      <td>[its, good, place, try, ive, never, wow, prett...</td>\n",
       "      <td>[0.0115027, -0.00198811, -0.00907118, -0.00352...</td>\n",
       "    </tr>\n",
       "    <tr>\n",
       "      <th>8</th>\n",
       "      <td>vLGYQ96AjKV5zpW0q3795g</td>\n",
       "      <td>[breakfast, pizza, checkgood, pizza, accent, e...</td>\n",
       "      <td>[0.00933751, -0.00149994, -0.00754559, -0.0028...</td>\n",
       "    </tr>\n",
       "    <tr>\n",
       "      <th>9</th>\n",
       "      <td>7l-CCyNnvT86GMR5EtYjog</td>\n",
       "      <td>[jamaican, tacos, tonight, die, cant, speak, a...</td>\n",
       "      <td>[0.00645934, -0.0019303, -0.00462884, -0.00226...</td>\n",
       "    </tr>\n",
       "    <tr>\n",
       "      <th>10</th>\n",
       "      <td>rEuSmPPblKIcOzazlBwTcw</td>\n",
       "      <td>[picture, post, wrong, location, starbucks, lo...</td>\n",
       "      <td>[0.00687349, -0.00213635, -0.00494272, -0.0023...</td>\n",
       "    </tr>\n",
       "    <tr>\n",
       "      <th>11</th>\n",
       "      <td>V459sWYN02lwHgLnkNGRzg</td>\n",
       "      <td>[buy, large, delicious, cheap, gyro, man, nice...</td>\n",
       "      <td>[0.00435161, -0.000347706, -0.00421638, -0.001...</td>\n",
       "    </tr>\n",
       "    <tr>\n",
       "      <th>12</th>\n",
       "      <td>mNMVqHsgJq6YErFPfaUlig</td>\n",
       "      <td>[ever, since, work, build, cafe, shut, lose, a...</td>\n",
       "      <td>[0.0261482, -0.00436502, -0.0221234, -0.009165...</td>\n",
       "    </tr>\n",
       "    <tr>\n",
       "      <th>13</th>\n",
       "      <td>keOzwoc28Iac5mA8FD93uA</td>\n",
       "      <td>[keep, see, yelp, new, business, finally, oppo...</td>\n",
       "      <td>[0.04914, -0.0059137, -0.0443175, -0.0173104, ...</td>\n",
       "    </tr>\n",
       "    <tr>\n",
       "      <th>14</th>\n",
       "      <td>ejmq3qW34yxiEmNHQkov7A</td>\n",
       "      <td>[place, initially, remind, hugely, bar, champa...</td>\n",
       "      <td>[0.0145351, -0.0044495, -0.0105804, -0.0051927...</td>\n",
       "    </tr>\n",
       "    <tr>\n",
       "      <th>15</th>\n",
       "      <td>xZfPdAYeimiruXuGR4nSUA</td>\n",
       "      <td>[great, selection, products, consider, size, w...</td>\n",
       "      <td>[0.00786736, -0.00226025, -0.00587055, -0.0026...</td>\n",
       "    </tr>\n",
       "    <tr>\n",
       "      <th>16</th>\n",
       "      <td>T-4MZRvKlF3VLDcjCqqFEg</td>\n",
       "      <td>[amaze, food, must, try, tempura, shrimp, also...</td>\n",
       "      <td>[0.0094568, -0.00228182, -0.00709794, -0.00321...</td>\n",
       "    </tr>\n",
       "    <tr>\n",
       "      <th>17</th>\n",
       "      <td>NQN-ERs976mbnP6rkMwKtQ</td>\n",
       "      <td>[twice, change, say, yay, whilst, park, may, f...</td>\n",
       "      <td>[0.0184262, -0.00548253, -0.0130232, -0.006517...</td>\n",
       "    </tr>\n",
       "    <tr>\n",
       "      <th>18</th>\n",
       "      <td>e5i0_FVBlNfUZpJay2MH-Q</td>\n",
       "      <td>[best, hookah, lounge, pittsburgh, always, cle...</td>\n",
       "      <td>[0.00359549, -0.00107632, -0.00209915, -0.0009...</td>\n",
       "    </tr>\n",
       "    <tr>\n",
       "      <th>19</th>\n",
       "      <td>N7iOez1IbRc8wErxJLt5CQ</td>\n",
       "      <td>[former, waiter, son, former, waitress, know, ...</td>\n",
       "      <td>[0.0184403, -0.00630222, -0.0125587, -0.006665...</td>\n",
       "    </tr>\n",
       "    <tr>\n",
       "      <th>20</th>\n",
       "      <td>DwmAsemahJywywhuqv5J1Q</td>\n",
       "      <td>[favorite, chinese, place, pittsburgh, im, chi...</td>\n",
       "      <td>[0.0190023, -0.00274826, -0.0157617, -0.006071...</td>\n",
       "    </tr>\n",
       "    <tr>\n",
       "      <th>21</th>\n",
       "      <td>2dNjePYVp2AVei4ZoSDaaA</td>\n",
       "      <td>[sigh, think, place, potential, go, weekday, h...</td>\n",
       "      <td>[0.0326613, -0.0102827, -0.0227843, -0.0117645...</td>\n",
       "    </tr>\n",
       "    <tr>\n",
       "      <th>22</th>\n",
       "      <td>bnscF25BWatvO1Z-j87NXQ</td>\n",
       "      <td>[decent, size, store, tons, selection, even, d...</td>\n",
       "      <td>[0.00269419, -0.00053897, -0.00212791, -0.0010...</td>\n",
       "    </tr>\n",
       "    <tr>\n",
       "      <th>23</th>\n",
       "      <td>pVZdH35B95NKyXNA9rnW0w</td>\n",
       "      <td>[awesome, place, browse, really, cool, local, ...</td>\n",
       "      <td>[0.0197297, -0.00544279, -0.0142922, -0.006916...</td>\n",
       "    </tr>\n",
       "    <tr>\n",
       "      <th>24</th>\n",
       "      <td>VNOosvcE6HN_dqSTqRicXQ</td>\n",
       "      <td>[hide, gem, pittsburgh, need, challenge, imper...</td>\n",
       "      <td>[0.0304448, -0.00725244, -0.0233553, -0.010788...</td>\n",
       "    </tr>\n",
       "    <tr>\n",
       "      <th>25</th>\n",
       "      <td>h5XqYtEmRuQ6yI0IyG6oNQ</td>\n",
       "      <td>[youre, way, home, work, think, dinner, youre,...</td>\n",
       "      <td>[0.00783434, -0.00185035, -0.00591796, -0.0024...</td>\n",
       "    </tr>\n",
       "    <tr>\n",
       "      <th>26</th>\n",
       "      <td>gURBE4EKkytlOMuIqJHG8Q</td>\n",
       "      <td>[cant, say, much, interior, establishment, fil...</td>\n",
       "      <td>[0.0054076, -0.00172177, -0.00338798, -0.00169...</td>\n",
       "    </tr>\n",
       "    <tr>\n",
       "      <th>27</th>\n",
       "      <td>2BF45Gr_FiubZqfP-JgaRQ</td>\n",
       "      <td>[mostly, fan, convenience, free, food, happy, ...</td>\n",
       "      <td>[0.00475114, -0.00164374, -0.00327556, -0.0015...</td>\n",
       "    </tr>\n",
       "    <tr>\n",
       "      <th>28</th>\n",
       "      <td>0YA3RpY5KXcezPXcjdfOGQ</td>\n",
       "      <td>[even, open, go, go, tonight, monday, dinner, ...</td>\n",
       "      <td>[0.00161062, -0.000895204, -0.00120512, -0.000...</td>\n",
       "    </tr>\n",
       "    <tr>\n",
       "      <th>29</th>\n",
       "      <td>8L8QlR4XJeAblTKCqoDP0A</td>\n",
       "      <td>[go, lunch, today, mom, daughter, food, stand,...</td>\n",
       "      <td>[-9.97574e-05, 0.000211067, 1.39044e-05, -8.45...</td>\n",
       "    </tr>\n",
       "    <tr>\n",
       "      <th>...</th>\n",
       "      <td>...</td>\n",
       "      <td>...</td>\n",
       "      <td>...</td>\n",
       "    </tr>\n",
       "    <tr>\n",
       "      <th>3068</th>\n",
       "      <td>LNAI2hGXzAFq_9KFwpdshg</td>\n",
       "      <td>[cant, get, ticket, steeler, home, game, best,...</td>\n",
       "      <td>[0.00253873, -0.00164505, -0.000918445, -0.000...</td>\n",
       "    </tr>\n",
       "    <tr>\n",
       "      <th>3069</th>\n",
       "      <td>nKUohp6mCtnZl1ZoNvySkw</td>\n",
       "      <td>[like, typical, aldi, store, youd, find, anywh...</td>\n",
       "      <td>[0.0129145, -0.00381915, -0.00913247, -0.00460...</td>\n",
       "    </tr>\n",
       "    <tr>\n",
       "      <th>3070</th>\n",
       "      <td>Quh8Fjutyw15B6ZGZEf2gA</td>\n",
       "      <td>[much, want, like, give, place, one, even, two...</td>\n",
       "      <td>[0.0077731, -0.00283829, -0.00452243, -0.00262...</td>\n",
       "    </tr>\n",
       "    <tr>\n",
       "      <th>3071</th>\n",
       "      <td>yhoCIkTwHihWejVqGYZ4rw</td>\n",
       "      <td>[pretty, darn, good, order, hot, ham, sandwich...</td>\n",
       "      <td>[0.0106843, -0.000205519, -0.0100696, -0.00366...</td>\n",
       "    </tr>\n",
       "    <tr>\n",
       "      <th>3072</th>\n",
       "      <td>KsWGy-WuTUm5ve5lFUOCfg</td>\n",
       "      <td>[come, think, mf, full, fledge, museum, theres...</td>\n",
       "      <td>[0.016942, -0.00481444, -0.0121407, -0.0060753...</td>\n",
       "    </tr>\n",
       "    <tr>\n",
       "      <th>3073</th>\n",
       "      <td>dHgbL5EAEawIcqk6aXe2Ow</td>\n",
       "      <td>[ive, pgh, 7, years, never, urge, visit, peter...</td>\n",
       "      <td>[0.0243886, -0.00496499, -0.0189392, -0.008221...</td>\n",
       "    </tr>\n",
       "    <tr>\n",
       "      <th>3074</th>\n",
       "      <td>S6dARuOrrOXd4xSiTHti8g</td>\n",
       "      <td>[finally, come, last, night, recommendation, f...</td>\n",
       "      <td>[0.0160462, -0.00156623, -0.0140648, -0.005344...</td>\n",
       "    </tr>\n",
       "    <tr>\n",
       "      <th>3075</th>\n",
       "      <td>P6N8qIUlu2IEKr1_pdg00Q</td>\n",
       "      <td>[live, south, side, plenty, pizza, options, ne...</td>\n",
       "      <td>[0.0215184, -0.00509086, -0.0163391, -0.007605...</td>\n",
       "    </tr>\n",
       "    <tr>\n",
       "      <th>3076</th>\n",
       "      <td>7ifZDDd4-ROT-puhUo0btw</td>\n",
       "      <td>[aldi, bottom, dollar, like, long, lose, sibli...</td>\n",
       "      <td>[0.0249242, -0.00591167, -0.0192267, -0.008464...</td>\n",
       "    </tr>\n",
       "    <tr>\n",
       "      <th>3077</th>\n",
       "      <td>vLxpEHKZFzv8LYY5eeGjTg</td>\n",
       "      <td>[trust, one, although, place, look, like, comp...</td>\n",
       "      <td>[0.00651583, -0.00180353, -0.00429582, -0.0020...</td>\n",
       "    </tr>\n",
       "    <tr>\n",
       "      <th>3078</th>\n",
       "      <td>8cyyRk-cqecyB1ctnRsR1A</td>\n",
       "      <td>[skip, go, downtown, nice, dinner, come, intim...</td>\n",
       "      <td>[0.0157967, -0.00329505, -0.0124279, -0.005445...</td>\n",
       "    </tr>\n",
       "    <tr>\n",
       "      <th>3079</th>\n",
       "      <td>-8ILwSisSrTzcyy_Z0o9oA</td>\n",
       "      <td>[honestly, go, novelty, go, back, great, produ...</td>\n",
       "      <td>[0.00798395, -0.00376699, -0.00407696, -0.0028...</td>\n",
       "    </tr>\n",
       "    <tr>\n",
       "      <th>3080</th>\n",
       "      <td>MrlNl43mM8Y259tKzMj4Mw</td>\n",
       "      <td>[location, hit, miss, mostly, miss, stop, occa...</td>\n",
       "      <td>[0.0049279, -0.00233587, -0.00247604, -0.00170...</td>\n",
       "    </tr>\n",
       "    <tr>\n",
       "      <th>3081</th>\n",
       "      <td>KgI1lkFzsx3Fj1vzzKjNIQ</td>\n",
       "      <td>[great, selection, spirit, excellent, vodkas, ...</td>\n",
       "      <td>[0.0193437, -0.00550542, -0.0135312, -0.006604...</td>\n",
       "    </tr>\n",
       "    <tr>\n",
       "      <th>3082</th>\n",
       "      <td>iR7KBgAHgt1O2acHhfIviw</td>\n",
       "      <td>[its, taco, bell, much, write, place, cheep, f...</td>\n",
       "      <td>[0.00715977, -0.0025609, -0.00444718, -0.00255...</td>\n",
       "    </tr>\n",
       "    <tr>\n",
       "      <th>3083</th>\n",
       "      <td>yc1IZG2BL4WCYBHk5noj5g</td>\n",
       "      <td>[starbucks, one, ornate, locations, visit, enj...</td>\n",
       "      <td>[0.0130384, -0.00357188, -0.0092068, -0.004652...</td>\n",
       "    </tr>\n",
       "    <tr>\n",
       "      <th>3084</th>\n",
       "      <td>A-IqLvBfU5Gr_b9HVLETTw</td>\n",
       "      <td>[pizza, parma, many, characteristics, like, pi...</td>\n",
       "      <td>[0.0207389, -0.0033049, -0.0176685, -0.0070609...</td>\n",
       "    </tr>\n",
       "    <tr>\n",
       "      <th>3085</th>\n",
       "      <td>ocZv9DHZaf9tkJyzxL5tbg</td>\n",
       "      <td>[let, start, positive, lot, cute, italian, byo...</td>\n",
       "      <td>[0.0207509, -0.00374365, -0.0172899, -0.007099...</td>\n",
       "    </tr>\n",
       "    <tr>\n",
       "      <th>3086</th>\n",
       "      <td>qLy2F9EzCsFYIKd40OJvZA</td>\n",
       "      <td>[go, red, busy, night, pink, concert, despite,...</td>\n",
       "      <td>[0.088194, -0.021057, -0.0680669, -0.0310096, ...</td>\n",
       "    </tr>\n",
       "    <tr>\n",
       "      <th>3087</th>\n",
       "      <td>zpIybGTZ0RqArG8BOX0ALQ</td>\n",
       "      <td>[pretty, standard, italian, american, joint, k...</td>\n",
       "      <td>[0.0202439, -0.00297184, -0.0167949, -0.006886...</td>\n",
       "    </tr>\n",
       "    <tr>\n",
       "      <th>3088</th>\n",
       "      <td>WjJmjrfHJ5QKOTrKkChmtw</td>\n",
       "      <td>[small, cafe, n, side, one, cafes, area, its, ...</td>\n",
       "      <td>[0.011142, -0.00327112, -0.00744007, -0.003677...</td>\n",
       "    </tr>\n",
       "    <tr>\n",
       "      <th>3089</th>\n",
       "      <td>vEtE2CTl3rrDpTC20RUisQ</td>\n",
       "      <td>[place, sort, remind, buffalo, wild, wing, far...</td>\n",
       "      <td>[0.0142773, -0.00170599, -0.0120654, -0.004619...</td>\n",
       "    </tr>\n",
       "    <tr>\n",
       "      <th>3090</th>\n",
       "      <td>NG5qynmV0kzxQMFJG7mhEw</td>\n",
       "      <td>[use, order, place, time, last, 3, order, garb...</td>\n",
       "      <td>[0.00198007, -0.00144582, -0.000826339, -0.000...</td>\n",
       "    </tr>\n",
       "    <tr>\n",
       "      <th>3091</th>\n",
       "      <td>gHngt6zpP683GKe1i23LUg</td>\n",
       "      <td>[brunch, one, best, pittsburgh, atmosphere, am...</td>\n",
       "      <td>[0.00478637, -0.00262561, -0.00162454, -0.0015...</td>\n",
       "    </tr>\n",
       "    <tr>\n",
       "      <th>3092</th>\n",
       "      <td>gFyntTks-Qd5CjDU8_2Kog</td>\n",
       "      <td>[come, downtown, pittsburgh, annually, convent...</td>\n",
       "      <td>[0.00893131, -0.00214329, -0.00640732, -0.0030...</td>\n",
       "    </tr>\n",
       "    <tr>\n",
       "      <th>3093</th>\n",
       "      <td>hTZGMEKTtaY0wwB-czFxxA</td>\n",
       "      <td>[good, cheap, sushi, go, sushi, crave, always,...</td>\n",
       "      <td>[0.00990326, -0.000746514, -0.00898561, -0.003...</td>\n",
       "    </tr>\n",
       "    <tr>\n",
       "      <th>3094</th>\n",
       "      <td>bShze6_dNGwamcNPJgZILg</td>\n",
       "      <td>[get, ta, say, skeptical, ballet, get, free, t...</td>\n",
       "      <td>[0.0262821, -0.00821427, -0.0182544, -0.009462...</td>\n",
       "    </tr>\n",
       "    <tr>\n",
       "      <th>3095</th>\n",
       "      <td>TCL-2Mi_mZyHjEO9haiD2A</td>\n",
       "      <td>[divey, dive, bar, cheap, drink, bar, food, ca...</td>\n",
       "      <td>[0.00957174, -0.00295554, -0.00643366, -0.0032...</td>\n",
       "    </tr>\n",
       "    <tr>\n",
       "      <th>3096</th>\n",
       "      <td>W7gGZgcgzv-LFvk-s5csXg</td>\n",
       "      <td>[still, crappy, place, get, donuts, way, overp...</td>\n",
       "      <td>[0.00614555, -0.00121817, -0.00478792, -0.0021...</td>\n",
       "    </tr>\n",
       "    <tr>\n",
       "      <th>3097</th>\n",
       "      <td>99SN6hku1PToQ2E3-4h8CA</td>\n",
       "      <td>[favorite, coffee, shop, walnut, st, folks, re...</td>\n",
       "      <td>[0.00933781, -0.0026564, -0.006993, -0.0035671...</td>\n",
       "    </tr>\n",
       "  </tbody>\n",
       "</table>\n",
       "<p>3098 rows × 3 columns</p>\n",
       "</div>"
      ],
      "text/plain": [
       "                          _1  \\\n",
       "0     5REYrZfsX3m4E3FTwovp5Q   \n",
       "1     HWrbZS1mxVRj2Y2VwMmDMg   \n",
       "2     MvlQo4bev1eqp1q0HYOLHg   \n",
       "3     X9Bql7RrPU5Mab5-hJsI8A   \n",
       "4     owO2UkNKk9qrWWd_PTYLDA   \n",
       "5     rc9SfYli96cnlPDMyJ7hyA   \n",
       "6     94VxE6XLTrXmz4yXWEJbAg   \n",
       "7     anfgvbiobw4M0Wnvx_os3Q   \n",
       "8     vLGYQ96AjKV5zpW0q3795g   \n",
       "9     7l-CCyNnvT86GMR5EtYjog   \n",
       "10    rEuSmPPblKIcOzazlBwTcw   \n",
       "11    V459sWYN02lwHgLnkNGRzg   \n",
       "12    mNMVqHsgJq6YErFPfaUlig   \n",
       "13    keOzwoc28Iac5mA8FD93uA   \n",
       "14    ejmq3qW34yxiEmNHQkov7A   \n",
       "15    xZfPdAYeimiruXuGR4nSUA   \n",
       "16    T-4MZRvKlF3VLDcjCqqFEg   \n",
       "17    NQN-ERs976mbnP6rkMwKtQ   \n",
       "18    e5i0_FVBlNfUZpJay2MH-Q   \n",
       "19    N7iOez1IbRc8wErxJLt5CQ   \n",
       "20    DwmAsemahJywywhuqv5J1Q   \n",
       "21    2dNjePYVp2AVei4ZoSDaaA   \n",
       "22    bnscF25BWatvO1Z-j87NXQ   \n",
       "23    pVZdH35B95NKyXNA9rnW0w   \n",
       "24    VNOosvcE6HN_dqSTqRicXQ   \n",
       "25    h5XqYtEmRuQ6yI0IyG6oNQ   \n",
       "26    gURBE4EKkytlOMuIqJHG8Q   \n",
       "27    2BF45Gr_FiubZqfP-JgaRQ   \n",
       "28    0YA3RpY5KXcezPXcjdfOGQ   \n",
       "29    8L8QlR4XJeAblTKCqoDP0A   \n",
       "...                      ...   \n",
       "3068  LNAI2hGXzAFq_9KFwpdshg   \n",
       "3069  nKUohp6mCtnZl1ZoNvySkw   \n",
       "3070  Quh8Fjutyw15B6ZGZEf2gA   \n",
       "3071  yhoCIkTwHihWejVqGYZ4rw   \n",
       "3072  KsWGy-WuTUm5ve5lFUOCfg   \n",
       "3073  dHgbL5EAEawIcqk6aXe2Ow   \n",
       "3074  S6dARuOrrOXd4xSiTHti8g   \n",
       "3075  P6N8qIUlu2IEKr1_pdg00Q   \n",
       "3076  7ifZDDd4-ROT-puhUo0btw   \n",
       "3077  vLxpEHKZFzv8LYY5eeGjTg   \n",
       "3078  8cyyRk-cqecyB1ctnRsR1A   \n",
       "3079  -8ILwSisSrTzcyy_Z0o9oA   \n",
       "3080  MrlNl43mM8Y259tKzMj4Mw   \n",
       "3081  KgI1lkFzsx3Fj1vzzKjNIQ   \n",
       "3082  iR7KBgAHgt1O2acHhfIviw   \n",
       "3083  yc1IZG2BL4WCYBHk5noj5g   \n",
       "3084  A-IqLvBfU5Gr_b9HVLETTw   \n",
       "3085  ocZv9DHZaf9tkJyzxL5tbg   \n",
       "3086  qLy2F9EzCsFYIKd40OJvZA   \n",
       "3087  zpIybGTZ0RqArG8BOX0ALQ   \n",
       "3088  WjJmjrfHJ5QKOTrKkChmtw   \n",
       "3089  vEtE2CTl3rrDpTC20RUisQ   \n",
       "3090  NG5qynmV0kzxQMFJG7mhEw   \n",
       "3091  gHngt6zpP683GKe1i23LUg   \n",
       "3092  gFyntTks-Qd5CjDU8_2Kog   \n",
       "3093  hTZGMEKTtaY0wwB-czFxxA   \n",
       "3094  bShze6_dNGwamcNPJgZILg   \n",
       "3095  TCL-2Mi_mZyHjEO9haiD2A   \n",
       "3096  W7gGZgcgzv-LFvk-s5csXg   \n",
       "3097  99SN6hku1PToQ2E3-4h8CA   \n",
       "\n",
       "                                                     _2  \\\n",
       "0     [try, first, time, last, night, pretty, good, ...   \n",
       "1     [oh, man, word, can, not, describe, excite, ba...   \n",
       "2     [first, dance, class, probably, decade, probab...   \n",
       "3     [2nd, visit, promise, first, time, order, feat...   \n",
       "4     [feel, like, ive, random, experience, place, r...   \n",
       "5     [go, lunch, friends, group, 7, round, table, b...   \n",
       "6     [come, instead, ds, need, buy, case, beer, the...   \n",
       "7     [its, good, place, try, ive, never, wow, prett...   \n",
       "8     [breakfast, pizza, checkgood, pizza, accent, e...   \n",
       "9     [jamaican, tacos, tonight, die, cant, speak, a...   \n",
       "10    [picture, post, wrong, location, starbucks, lo...   \n",
       "11    [buy, large, delicious, cheap, gyro, man, nice...   \n",
       "12    [ever, since, work, build, cafe, shut, lose, a...   \n",
       "13    [keep, see, yelp, new, business, finally, oppo...   \n",
       "14    [place, initially, remind, hugely, bar, champa...   \n",
       "15    [great, selection, products, consider, size, w...   \n",
       "16    [amaze, food, must, try, tempura, shrimp, also...   \n",
       "17    [twice, change, say, yay, whilst, park, may, f...   \n",
       "18    [best, hookah, lounge, pittsburgh, always, cle...   \n",
       "19    [former, waiter, son, former, waitress, know, ...   \n",
       "20    [favorite, chinese, place, pittsburgh, im, chi...   \n",
       "21    [sigh, think, place, potential, go, weekday, h...   \n",
       "22    [decent, size, store, tons, selection, even, d...   \n",
       "23    [awesome, place, browse, really, cool, local, ...   \n",
       "24    [hide, gem, pittsburgh, need, challenge, imper...   \n",
       "25    [youre, way, home, work, think, dinner, youre,...   \n",
       "26    [cant, say, much, interior, establishment, fil...   \n",
       "27    [mostly, fan, convenience, free, food, happy, ...   \n",
       "28    [even, open, go, go, tonight, monday, dinner, ...   \n",
       "29    [go, lunch, today, mom, daughter, food, stand,...   \n",
       "...                                                 ...   \n",
       "3068  [cant, get, ticket, steeler, home, game, best,...   \n",
       "3069  [like, typical, aldi, store, youd, find, anywh...   \n",
       "3070  [much, want, like, give, place, one, even, two...   \n",
       "3071  [pretty, darn, good, order, hot, ham, sandwich...   \n",
       "3072  [come, think, mf, full, fledge, museum, theres...   \n",
       "3073  [ive, pgh, 7, years, never, urge, visit, peter...   \n",
       "3074  [finally, come, last, night, recommendation, f...   \n",
       "3075  [live, south, side, plenty, pizza, options, ne...   \n",
       "3076  [aldi, bottom, dollar, like, long, lose, sibli...   \n",
       "3077  [trust, one, although, place, look, like, comp...   \n",
       "3078  [skip, go, downtown, nice, dinner, come, intim...   \n",
       "3079  [honestly, go, novelty, go, back, great, produ...   \n",
       "3080  [location, hit, miss, mostly, miss, stop, occa...   \n",
       "3081  [great, selection, spirit, excellent, vodkas, ...   \n",
       "3082  [its, taco, bell, much, write, place, cheep, f...   \n",
       "3083  [starbucks, one, ornate, locations, visit, enj...   \n",
       "3084  [pizza, parma, many, characteristics, like, pi...   \n",
       "3085  [let, start, positive, lot, cute, italian, byo...   \n",
       "3086  [go, red, busy, night, pink, concert, despite,...   \n",
       "3087  [pretty, standard, italian, american, joint, k...   \n",
       "3088  [small, cafe, n, side, one, cafes, area, its, ...   \n",
       "3089  [place, sort, remind, buffalo, wild, wing, far...   \n",
       "3090  [use, order, place, time, last, 3, order, garb...   \n",
       "3091  [brunch, one, best, pittsburgh, atmosphere, am...   \n",
       "3092  [come, downtown, pittsburgh, annually, convent...   \n",
       "3093  [good, cheap, sushi, go, sushi, crave, always,...   \n",
       "3094  [get, ta, say, skeptical, ballet, get, free, t...   \n",
       "3095  [divey, dive, bar, cheap, drink, bar, food, ca...   \n",
       "3096  [still, crappy, place, get, donuts, way, overp...   \n",
       "3097  [favorite, coffee, shop, walnut, st, folks, re...   \n",
       "\n",
       "                                                 Vector  \n",
       "0     [0.0174081, -0.00577185, -0.0116234, -0.006113...  \n",
       "1     [0.0216439, -0.00462718, -0.0173346, -0.007567...  \n",
       "2     [0.00531396, -0.0021056, -0.00318673, -0.00173...  \n",
       "3     [0.0120019, -0.000385666, -0.0113439, -0.00413...  \n",
       "4     [0.0357995, -0.0063142, -0.0298217, -0.0124923...  \n",
       "5     [0.00558426, 0.000327907, -0.00573921, -0.0018...  \n",
       "6     [0.00501451, -0.00120674, -0.00392044, -0.0016...  \n",
       "7     [0.0115027, -0.00198811, -0.00907118, -0.00352...  \n",
       "8     [0.00933751, -0.00149994, -0.00754559, -0.0028...  \n",
       "9     [0.00645934, -0.0019303, -0.00462884, -0.00226...  \n",
       "10    [0.00687349, -0.00213635, -0.00494272, -0.0023...  \n",
       "11    [0.00435161, -0.000347706, -0.00421638, -0.001...  \n",
       "12    [0.0261482, -0.00436502, -0.0221234, -0.009165...  \n",
       "13    [0.04914, -0.0059137, -0.0443175, -0.0173104, ...  \n",
       "14    [0.0145351, -0.0044495, -0.0105804, -0.0051927...  \n",
       "15    [0.00786736, -0.00226025, -0.00587055, -0.0026...  \n",
       "16    [0.0094568, -0.00228182, -0.00709794, -0.00321...  \n",
       "17    [0.0184262, -0.00548253, -0.0130232, -0.006517...  \n",
       "18    [0.00359549, -0.00107632, -0.00209915, -0.0009...  \n",
       "19    [0.0184403, -0.00630222, -0.0125587, -0.006665...  \n",
       "20    [0.0190023, -0.00274826, -0.0157617, -0.006071...  \n",
       "21    [0.0326613, -0.0102827, -0.0227843, -0.0117645...  \n",
       "22    [0.00269419, -0.00053897, -0.00212791, -0.0010...  \n",
       "23    [0.0197297, -0.00544279, -0.0142922, -0.006916...  \n",
       "24    [0.0304448, -0.00725244, -0.0233553, -0.010788...  \n",
       "25    [0.00783434, -0.00185035, -0.00591796, -0.0024...  \n",
       "26    [0.0054076, -0.00172177, -0.00338798, -0.00169...  \n",
       "27    [0.00475114, -0.00164374, -0.00327556, -0.0015...  \n",
       "28    [0.00161062, -0.000895204, -0.00120512, -0.000...  \n",
       "29    [-9.97574e-05, 0.000211067, 1.39044e-05, -8.45...  \n",
       "...                                                 ...  \n",
       "3068  [0.00253873, -0.00164505, -0.000918445, -0.000...  \n",
       "3069  [0.0129145, -0.00381915, -0.00913247, -0.00460...  \n",
       "3070  [0.0077731, -0.00283829, -0.00452243, -0.00262...  \n",
       "3071  [0.0106843, -0.000205519, -0.0100696, -0.00366...  \n",
       "3072  [0.016942, -0.00481444, -0.0121407, -0.0060753...  \n",
       "3073  [0.0243886, -0.00496499, -0.0189392, -0.008221...  \n",
       "3074  [0.0160462, -0.00156623, -0.0140648, -0.005344...  \n",
       "3075  [0.0215184, -0.00509086, -0.0163391, -0.007605...  \n",
       "3076  [0.0249242, -0.00591167, -0.0192267, -0.008464...  \n",
       "3077  [0.00651583, -0.00180353, -0.00429582, -0.0020...  \n",
       "3078  [0.0157967, -0.00329505, -0.0124279, -0.005445...  \n",
       "3079  [0.00798395, -0.00376699, -0.00407696, -0.0028...  \n",
       "3080  [0.0049279, -0.00233587, -0.00247604, -0.00170...  \n",
       "3081  [0.0193437, -0.00550542, -0.0135312, -0.006604...  \n",
       "3082  [0.00715977, -0.0025609, -0.00444718, -0.00255...  \n",
       "3083  [0.0130384, -0.00357188, -0.0092068, -0.004652...  \n",
       "3084  [0.0207389, -0.0033049, -0.0176685, -0.0070609...  \n",
       "3085  [0.0207509, -0.00374365, -0.0172899, -0.007099...  \n",
       "3086  [0.088194, -0.021057, -0.0680669, -0.0310096, ...  \n",
       "3087  [0.0202439, -0.00297184, -0.0167949, -0.006886...  \n",
       "3088  [0.011142, -0.00327112, -0.00744007, -0.003677...  \n",
       "3089  [0.0142773, -0.00170599, -0.0120654, -0.004619...  \n",
       "3090  [0.00198007, -0.00144582, -0.000826339, -0.000...  \n",
       "3091  [0.00478637, -0.00262561, -0.00162454, -0.0015...  \n",
       "3092  [0.00893131, -0.00214329, -0.00640732, -0.0030...  \n",
       "3093  [0.00990326, -0.000746514, -0.00898561, -0.003...  \n",
       "3094  [0.0262821, -0.00821427, -0.0182544, -0.009462...  \n",
       "3095  [0.00957174, -0.00295554, -0.00643366, -0.0032...  \n",
       "3096  [0.00614555, -0.00121817, -0.00478792, -0.0021...  \n",
       "3097  [0.00933781, -0.0026564, -0.006993, -0.0035671...  \n",
       "\n",
       "[3098 rows x 3 columns]"
      ]
     },
     "execution_count": 44,
     "metadata": {},
     "output_type": "execute_result"
    }
   ],
   "source": [
    "prodPandas"
   ]
  },
  {
   "cell_type": "markdown",
   "metadata": {},
   "source": [
    "Add Doc2Vec vectors to user dataframe"
   ]
  },
  {
   "cell_type": "code",
   "execution_count": 45,
   "metadata": {
    "collapsed": true
   },
   "outputs": [],
   "source": [
    "feature_vectors = []\n",
    "for i in range(len(documents_prod), len(documents_prod)+len(documents_user)):\n",
    "    feature_vectors.append(model.docvecs[i])"
   ]
  },
  {
   "cell_type": "code",
   "execution_count": 46,
   "metadata": {
    "collapsed": true
   },
   "outputs": [],
   "source": [
    "userPandas['Vector'] = feature_vectors"
   ]
  },
  {
   "cell_type": "code",
   "execution_count": 47,
   "metadata": {},
   "outputs": [
    {
     "data": {
      "text/html": [
       "<div>\n",
       "<style>\n",
       "    .dataframe thead tr:only-child th {\n",
       "        text-align: right;\n",
       "    }\n",
       "\n",
       "    .dataframe thead th {\n",
       "        text-align: left;\n",
       "    }\n",
       "\n",
       "    .dataframe tbody tr th {\n",
       "        vertical-align: top;\n",
       "    }\n",
       "</style>\n",
       "<table border=\"1\" class=\"dataframe\">\n",
       "  <thead>\n",
       "    <tr style=\"text-align: right;\">\n",
       "      <th></th>\n",
       "      <th>_1</th>\n",
       "      <th>_2</th>\n",
       "      <th>Vector</th>\n",
       "    </tr>\n",
       "  </thead>\n",
       "  <tbody>\n",
       "    <tr>\n",
       "      <th>0</th>\n",
       "      <td>AKqMnr1bEFIZDG_zQzX8sA</td>\n",
       "      <td>[place, breathe, fresh, air, find, hot, dog, f...</td>\n",
       "      <td>[0.0149788, -0.00195833, -0.0130463, -0.004877...</td>\n",
       "    </tr>\n",
       "    <tr>\n",
       "      <th>1</th>\n",
       "      <td>hg71CGHy9bwpgY8cGVVg4w</td>\n",
       "      <td>[wife, come, lunch, walk, buy, chocolate, moos...</td>\n",
       "      <td>[0.00458378, -0.00100534, -0.00332994, -0.0013...</td>\n",
       "    </tr>\n",
       "    <tr>\n",
       "      <th>2</th>\n",
       "      <td>S1cjSFKcS5NVc3o1MkfpwA</td>\n",
       "      <td>[would, think, vegan, friendly, hipster, resta...</td>\n",
       "      <td>[0.0101831, -0.0035301, -0.00649505, -0.003455...</td>\n",
       "    </tr>\n",
       "    <tr>\n",
       "      <th>3</th>\n",
       "      <td>eYnS0WVYYykN_gRuMUzoOw</td>\n",
       "      <td>[stop, pittsburgh, home, garden, show, quick, ...</td>\n",
       "      <td>[0.00783149, -0.00560254, -0.0025686, -0.00320...</td>\n",
       "    </tr>\n",
       "    <tr>\n",
       "      <th>4</th>\n",
       "      <td>A0ssDikuj0SQr9mVqnh91Q</td>\n",
       "      <td>[sit, bar, good, drink, bunch, beer, options, ...</td>\n",
       "      <td>[0.00296203, -0.001174, -0.00157797, -0.001017...</td>\n",
       "    </tr>\n",
       "    <tr>\n",
       "      <th>5</th>\n",
       "      <td>TDOF4SZAh7MsFgfshOL66A</td>\n",
       "      <td>[three, days, later, neighbor, still, texting,...</td>\n",
       "      <td>[0.0338488, -0.00862429, -0.025496, -0.0121223...</td>\n",
       "    </tr>\n",
       "    <tr>\n",
       "      <th>6</th>\n",
       "      <td>MLf4JUa1uzQkDLrBJ5yJHA</td>\n",
       "      <td>[come, group, end, order, regular, size, pho, ...</td>\n",
       "      <td>[0.0078924, -0.00070032, -0.00698314, -0.00246...</td>\n",
       "    </tr>\n",
       "    <tr>\n",
       "      <th>7</th>\n",
       "      <td>6BnvEluqfazShd1tg9kqGg</td>\n",
       "      <td>[pleasantly, surprise, tequila, cowboy, never,...</td>\n",
       "      <td>[0.00993479, -0.00211394, -0.00728097, -0.0033...</td>\n",
       "    </tr>\n",
       "    <tr>\n",
       "      <th>8</th>\n",
       "      <td>DYqujEDnSMgwL7sFTRSv8w</td>\n",
       "      <td>[tasty, lunch, less, 10, close, universities, ...</td>\n",
       "      <td>[0.0288285, -0.00824692, -0.0207248, -0.010113...</td>\n",
       "    </tr>\n",
       "    <tr>\n",
       "      <th>9</th>\n",
       "      <td>zg6LAy9gGLVH9JtcYP9gJg</td>\n",
       "      <td>[5, star, experience, anyone, know, know, love...</td>\n",
       "      <td>[0.0147838, -0.00410555, -0.0106086, -0.005274...</td>\n",
       "    </tr>\n",
       "    <tr>\n",
       "      <th>10</th>\n",
       "      <td>8ye6-7YYMsp0YizCLyrxcA</td>\n",
       "      <td>[pamelas, consider, quintessential, pittsburgh...</td>\n",
       "      <td>[0.0260433, -0.00653004, -0.0195072, -0.009036...</td>\n",
       "    </tr>\n",
       "    <tr>\n",
       "      <th>11</th>\n",
       "      <td>3gwqM0K5iPDugcy75Qal5A</td>\n",
       "      <td>[india, best, indian, restaurant, city, pittsb...</td>\n",
       "      <td>[0.0119487, -0.0030895, -0.00868125, -0.003948...</td>\n",
       "    </tr>\n",
       "    <tr>\n",
       "      <th>12</th>\n",
       "      <td>u2GnE6Qz7djou3Es0pZ-rA</td>\n",
       "      <td>[somehow, able, grab, table, busy, saturday, m...</td>\n",
       "      <td>[0.0131706, -0.00264961, -0.0105345, -0.004813...</td>\n",
       "    </tr>\n",
       "    <tr>\n",
       "      <th>13</th>\n",
       "      <td>c8qFkI_VusWo0xZvkjfBWQ</td>\n",
       "      <td>[place, wide, variety, beverages, well, food, ...</td>\n",
       "      <td>[0.00726492, -0.000886725, -0.00658938, -0.002...</td>\n",
       "    </tr>\n",
       "    <tr>\n",
       "      <th>14</th>\n",
       "      <td>ObqVg5hj-OzGfP2obqBzlw</td>\n",
       "      <td>[love, waffallonia, its, locate, schenley, pla...</td>\n",
       "      <td>[0.020171, -0.00499816, -0.0153451, -0.0070037...</td>\n",
       "    </tr>\n",
       "    <tr>\n",
       "      <th>15</th>\n",
       "      <td>KWdoZnUajpwM-srjb6i_lg</td>\n",
       "      <td>[hide, group, friends, even, four, need, place...</td>\n",
       "      <td>[0.00855597, -0.00285242, -0.0054564, -0.00317...</td>\n",
       "    </tr>\n",
       "    <tr>\n",
       "      <th>16</th>\n",
       "      <td>gwUNrClCimj5Tk4lRmrPSQ</td>\n",
       "      <td>[go, tavern, friends, brunch, love, good, brun...</td>\n",
       "      <td>[0.01471, -0.0038714, -0.0104975, -0.005026, -...</td>\n",
       "    </tr>\n",
       "    <tr>\n",
       "      <th>17</th>\n",
       "      <td>HlFx562GFpbL9VmILh2Osg</td>\n",
       "      <td>[come, almost, every, day, summer, work, bloom...</td>\n",
       "      <td>[0.0191441, -0.00442317, -0.0143528, -0.006542...</td>\n",
       "    </tr>\n",
       "    <tr>\n",
       "      <th>18</th>\n",
       "      <td>-kE5zO-54cQUmcG6zvfZtA</td>\n",
       "      <td>[eye, place, finally, try, glad, despite, busy...</td>\n",
       "      <td>[0.00580585, -0.00096305, -0.00452279, -0.0020...</td>\n",
       "    </tr>\n",
       "    <tr>\n",
       "      <th>19</th>\n",
       "      <td>BBg_86FEejn3dNzj0JOR9Q</td>\n",
       "      <td>[really, like, atmosphere, go, wasnt, crowd, a...</td>\n",
       "      <td>[-0.00100907, -0.00014483, 0.00129859, 0.00038...</td>\n",
       "    </tr>\n",
       "    <tr>\n",
       "      <th>20</th>\n",
       "      <td>NAZzgDkNIL_DpHg6xu9APQ</td>\n",
       "      <td>[omg, dont, think, milkshakes, get, better, al...</td>\n",
       "      <td>[0.0135851, -0.00202548, -0.011955, -0.0045136...</td>\n",
       "    </tr>\n",
       "    <tr>\n",
       "      <th>21</th>\n",
       "      <td>zokgpfAn1onJ1DppA1DTDw</td>\n",
       "      <td>[get, new, pizza, ad, mail, week, order, heres...</td>\n",
       "      <td>[0.00536489, 0.00265675, -0.0077409, -0.001343...</td>\n",
       "    </tr>\n",
       "    <tr>\n",
       "      <th>22</th>\n",
       "      <td>tJiWkQtxSmr4UdfEp-EYHA</td>\n",
       "      <td>[im, go, go, 4, star, however, think, north, s...</td>\n",
       "      <td>[0.00635339, -0.00365224, -0.00276229, -0.0024...</td>\n",
       "    </tr>\n",
       "    <tr>\n",
       "      <th>23</th>\n",
       "      <td>hLVq7VSJBHZwqurwWoCmpg</td>\n",
       "      <td>[blah, food, blah, service, redeem, quality, f...</td>\n",
       "      <td>[0.00492407, -0.00224039, -0.00275485, -0.0017...</td>\n",
       "    </tr>\n",
       "    <tr>\n",
       "      <th>24</th>\n",
       "      <td>1_fwIUwAC5NEF3uhCXMaHg</td>\n",
       "      <td>[take, granddaughters, age, 2, 3, carnegie, mu...</td>\n",
       "      <td>[0.0149602, -0.00387019, -0.0111693, -0.004993...</td>\n",
       "    </tr>\n",
       "    <tr>\n",
       "      <th>25</th>\n",
       "      <td>YrAvAU68l_A0X6n6XHhH-w</td>\n",
       "      <td>[oh, thats, new, think, ive, one, spot, life, ...</td>\n",
       "      <td>[0.00886897, -0.00257826, -0.00611873, -0.0030...</td>\n",
       "    </tr>\n",
       "    <tr>\n",
       "      <th>26</th>\n",
       "      <td>5sPUDsdIxNNGfjsLrdLuCA</td>\n",
       "      <td>[great, place, go, youre, burgh, small, joint,...</td>\n",
       "      <td>[0.0201892, -0.00611931, -0.0137391, -0.006974...</td>\n",
       "    </tr>\n",
       "    <tr>\n",
       "      <th>27</th>\n",
       "      <td>JRwacA7kVVeP_L42hM8hlQ</td>\n",
       "      <td>[believe, rat, arent, higher, place, greek, sa...</td>\n",
       "      <td>[0.00248775, -0.000322169, -0.00204796, -0.000...</td>\n",
       "    </tr>\n",
       "    <tr>\n",
       "      <th>28</th>\n",
       "      <td>5W_LMSthT2jsQOqKFU6IKQ</td>\n",
       "      <td>[family, love, millies, chad, awesome, really,...</td>\n",
       "      <td>[0.0157257, -0.00436409, -0.0114705, -0.005609...</td>\n",
       "    </tr>\n",
       "    <tr>\n",
       "      <th>29</th>\n",
       "      <td>guvwUV9ci5Y1IbnAhG6GYQ</td>\n",
       "      <td>[love, vandals, vibe, order, pay, counter, aut...</td>\n",
       "      <td>[0.0200088, -0.00603972, -0.0138959, -0.007012...</td>\n",
       "    </tr>\n",
       "    <tr>\n",
       "      <th>...</th>\n",
       "      <td>...</td>\n",
       "      <td>...</td>\n",
       "      <td>...</td>\n",
       "    </tr>\n",
       "    <tr>\n",
       "      <th>957</th>\n",
       "      <td>QIJ3xg6ueER2R0zwQs7hQA</td>\n",
       "      <td>[dont, believe, hype, literally, still, sit, t...</td>\n",
       "      <td>[0.00813791, -0.00418902, -0.00460479, -0.0033...</td>\n",
       "    </tr>\n",
       "    <tr>\n",
       "      <th>958</th>\n",
       "      <td>-dV2GaHNJHhDYbrmu48ZDQ</td>\n",
       "      <td>[review, work, art, smokestack, its, unique, a...</td>\n",
       "      <td>[0.0414512, -0.00969915, -0.0324301, -0.014444...</td>\n",
       "    </tr>\n",
       "    <tr>\n",
       "      <th>959</th>\n",
       "      <td>9VDrCkfj0I_MDSDPgsPKFA</td>\n",
       "      <td>[show, age, say, several, dinners, location, b...</td>\n",
       "      <td>[0.0114049, -0.0039905, -0.00747897, -0.004018...</td>\n",
       "    </tr>\n",
       "    <tr>\n",
       "      <th>960</th>\n",
       "      <td>GvttvpDroFphQ8t_vYlJYw</td>\n",
       "      <td>[stop, dinner, weeks, ago, must, admit, wasnt,...</td>\n",
       "      <td>[0.0322492, -0.00881324, -0.0240335, -0.011784...</td>\n",
       "    </tr>\n",
       "    <tr>\n",
       "      <th>961</th>\n",
       "      <td>W0YPUUT-1jxzv0hjUi5mLw</td>\n",
       "      <td>[invite, recently, friend, go, huszar, thursda...</td>\n",
       "      <td>[0.0251738, -0.00561428, -0.0196255, -0.008710...</td>\n",
       "    </tr>\n",
       "    <tr>\n",
       "      <th>962</th>\n",
       "      <td>V_QUB1rSphi_n3drf1fUzQ</td>\n",
       "      <td>[ive, fan, napoli, years, last, 2, pizzas, und...</td>\n",
       "      <td>[0.00370402, -0.000806488, -0.0026011, -0.0013...</td>\n",
       "    </tr>\n",
       "    <tr>\n",
       "      <th>963</th>\n",
       "      <td>_Pn-EmWO-pFPFg81ZIEiDw</td>\n",
       "      <td>[arrive, wednesday, even, 6pm, 5, varieties, m...</td>\n",
       "      <td>[0.0228086, -0.00616791, -0.0171093, -0.008181...</td>\n",
       "    </tr>\n",
       "    <tr>\n",
       "      <th>964</th>\n",
       "      <td>QuLMz9jLUPTCM4OX9VBIHg</td>\n",
       "      <td>[first, time, try, thai, food, couldnt, please...</td>\n",
       "      <td>[0.00875564, -0.00265053, -0.00587238, -0.0029...</td>\n",
       "    </tr>\n",
       "    <tr>\n",
       "      <th>965</th>\n",
       "      <td>pf7MN9-UyT8jdpaclF1QbA</td>\n",
       "      <td>[best, thai, restaurant, pittsburgh, love, its...</td>\n",
       "      <td>[0.0052063, -0.00160708, -0.00341395, -0.00167...</td>\n",
       "    </tr>\n",
       "    <tr>\n",
       "      <th>966</th>\n",
       "      <td>3xSglGfW0ZxtJp0vbv3NhQ</td>\n",
       "      <td>[cool, drink, options, choose, lavender, latte...</td>\n",
       "      <td>[0.00702708, -0.00157485, -0.0055746, -0.00234...</td>\n",
       "    </tr>\n",
       "    <tr>\n",
       "      <th>967</th>\n",
       "      <td>e4V4WN6wSbCWl6BzyGBEuQ</td>\n",
       "      <td>[new, dj, hot, play, kinds, jam, bartenders, g...</td>\n",
       "      <td>[0.00415732, -0.000932652, -0.00299461, -0.001...</td>\n",
       "    </tr>\n",
       "    <tr>\n",
       "      <th>968</th>\n",
       "      <td>0N91KZHstHSnKwJVRa2p2g</td>\n",
       "      <td>[ive, hear, many, great, things, carmi, everyo...</td>\n",
       "      <td>[0.0106849, -0.00132423, -0.00904193, -0.00368...</td>\n",
       "    </tr>\n",
       "    <tr>\n",
       "      <th>969</th>\n",
       "      <td>mLDC0DjkT2IJkoppBze4eA</td>\n",
       "      <td>[place, look, like, would, fun, place, drink, ...</td>\n",
       "      <td>[0.0286853, -0.00596859, -0.0221186, -0.009703...</td>\n",
       "    </tr>\n",
       "    <tr>\n",
       "      <th>970</th>\n",
       "      <td>eTLy6TXDCCJiWloq0GSwig</td>\n",
       "      <td>[twice, far, first, time, owner, pay, everythi...</td>\n",
       "      <td>[0.0514515, -0.0131407, -0.038581, -0.0182874,...</td>\n",
       "    </tr>\n",
       "    <tr>\n",
       "      <th>971</th>\n",
       "      <td>2O_6Wku6xFCGoPTl8TjMWw</td>\n",
       "      <td>[ill, tell, emporio, become, one, place, like,...</td>\n",
       "      <td>[0.0222486, -0.00474072, -0.0176995, -0.007906...</td>\n",
       "    </tr>\n",
       "    <tr>\n",
       "      <th>972</th>\n",
       "      <td>LzRjY01bQAvA8cY4TUKFQQ</td>\n",
       "      <td>[love, place, good, job, give, low, key, littl...</td>\n",
       "      <td>[0.0143928, -0.00476159, -0.0096949, -0.004952...</td>\n",
       "    </tr>\n",
       "    <tr>\n",
       "      <th>973</th>\n",
       "      <td>fBO-AauqOjPX2UBp9RgeQQ</td>\n",
       "      <td>[ive, mean, come, place, years, ago, first, op...</td>\n",
       "      <td>[0.0259022, -0.00757945, -0.0182106, -0.009215...</td>\n",
       "    </tr>\n",
       "    <tr>\n",
       "      <th>974</th>\n",
       "      <td>XVTqV_zHUWC6BOfOsq3nRg</td>\n",
       "      <td>[cant, say, enough, positives, things, place, ...</td>\n",
       "      <td>[0.0069724, -0.00311558, -0.00407901, -0.00239...</td>\n",
       "    </tr>\n",
       "    <tr>\n",
       "      <th>975</th>\n",
       "      <td>b0CvLydqnhdDa6tsckVu8Q</td>\n",
       "      <td>[pretty, much, chinese, take, place, slightly,...</td>\n",
       "      <td>[0.00301354, -0.00148787, -0.00163865, -0.0010...</td>\n",
       "    </tr>\n",
       "    <tr>\n",
       "      <th>976</th>\n",
       "      <td>myKVt2Hf-FhuEBuLMDztbA</td>\n",
       "      <td>[authentic, japanese, restaurant, pittsburgh, ...</td>\n",
       "      <td>[0.0111954, -0.00272126, -0.00845476, -0.00386...</td>\n",
       "    </tr>\n",
       "    <tr>\n",
       "      <th>977</th>\n",
       "      <td>QtOUK5LFF23nl0UM7pncbg</td>\n",
       "      <td>[go, friday, night, another, couple, dinner, p...</td>\n",
       "      <td>[0.0179216, -0.00508974, -0.0129881, -0.006551...</td>\n",
       "    </tr>\n",
       "    <tr>\n",
       "      <th>978</th>\n",
       "      <td>71SyUUSQ-pbnKRAw3MamNw</td>\n",
       "      <td>[thoughtfully, prepare, food, coffee, make, so...</td>\n",
       "      <td>[0.00410302, -0.00100312, -0.00329172, -0.0015...</td>\n",
       "    </tr>\n",
       "    <tr>\n",
       "      <th>979</th>\n",
       "      <td>cFaHx-FkCnzdfF8BccukIg</td>\n",
       "      <td>[restaurant, location, change, hand, couple, t...</td>\n",
       "      <td>[0.0186875, -0.00625825, -0.0123679, -0.006524...</td>\n",
       "    </tr>\n",
       "    <tr>\n",
       "      <th>980</th>\n",
       "      <td>T5zzVFv-gwHax2SkSO5sgw</td>\n",
       "      <td>[perfect, spot, light, lunch, brunch, usually,...</td>\n",
       "      <td>[0.00647459, -0.00100998, -0.00574653, -0.0023...</td>\n",
       "    </tr>\n",
       "    <tr>\n",
       "      <th>981</th>\n",
       "      <td>EU5dSjk-UzILTp5kcg-dOQ</td>\n",
       "      <td>[care, its, fake, mexican, food, taste, great,...</td>\n",
       "      <td>[0.00624955, -0.00122943, -0.00462066, -0.0019...</td>\n",
       "    </tr>\n",
       "    <tr>\n",
       "      <th>982</th>\n",
       "      <td>9MU6L4v83qo9jmutekcWMQ</td>\n",
       "      <td>[great, customizable, options, well, pre, make...</td>\n",
       "      <td>[0.00362353, -0.000825469, -0.00274733, -0.001...</td>\n",
       "    </tr>\n",
       "    <tr>\n",
       "      <th>983</th>\n",
       "      <td>MWKGiMZIe2ZjDe8VgGkWwQ</td>\n",
       "      <td>[ive, want, come, delanies, awhile, never, get...</td>\n",
       "      <td>[0.0144254, -0.0038717, -0.0100915, -0.0052099...</td>\n",
       "    </tr>\n",
       "    <tr>\n",
       "      <th>984</th>\n",
       "      <td>JnC4Mba7FB2VStcnE6nIpA</td>\n",
       "      <td>[disappoint, myboyfriend, surprise, lunch, wal...</td>\n",
       "      <td>[0.0167489, -0.00465128, -0.0122928, -0.005847...</td>\n",
       "    </tr>\n",
       "    <tr>\n",
       "      <th>985</th>\n",
       "      <td>O__X_Mr0pHGcG7l1zK7h2g</td>\n",
       "      <td>[location, convenient, far, starbucks, go, oft...</td>\n",
       "      <td>[0.00881074, -0.00335345, -0.00547186, -0.0032...</td>\n",
       "    </tr>\n",
       "    <tr>\n",
       "      <th>986</th>\n",
       "      <td>HLhA0dL8xHz9HgvAs7HWSw</td>\n",
       "      <td>[best, bar, walnut, go, anytime, day, fix]</td>\n",
       "      <td>[0.00227717, -0.000528913, -0.00159448, -0.000...</td>\n",
       "    </tr>\n",
       "  </tbody>\n",
       "</table>\n",
       "<p>987 rows × 3 columns</p>\n",
       "</div>"
      ],
      "text/plain": [
       "                         _1  \\\n",
       "0    AKqMnr1bEFIZDG_zQzX8sA   \n",
       "1    hg71CGHy9bwpgY8cGVVg4w   \n",
       "2    S1cjSFKcS5NVc3o1MkfpwA   \n",
       "3    eYnS0WVYYykN_gRuMUzoOw   \n",
       "4    A0ssDikuj0SQr9mVqnh91Q   \n",
       "5    TDOF4SZAh7MsFgfshOL66A   \n",
       "6    MLf4JUa1uzQkDLrBJ5yJHA   \n",
       "7    6BnvEluqfazShd1tg9kqGg   \n",
       "8    DYqujEDnSMgwL7sFTRSv8w   \n",
       "9    zg6LAy9gGLVH9JtcYP9gJg   \n",
       "10   8ye6-7YYMsp0YizCLyrxcA   \n",
       "11   3gwqM0K5iPDugcy75Qal5A   \n",
       "12   u2GnE6Qz7djou3Es0pZ-rA   \n",
       "13   c8qFkI_VusWo0xZvkjfBWQ   \n",
       "14   ObqVg5hj-OzGfP2obqBzlw   \n",
       "15   KWdoZnUajpwM-srjb6i_lg   \n",
       "16   gwUNrClCimj5Tk4lRmrPSQ   \n",
       "17   HlFx562GFpbL9VmILh2Osg   \n",
       "18   -kE5zO-54cQUmcG6zvfZtA   \n",
       "19   BBg_86FEejn3dNzj0JOR9Q   \n",
       "20   NAZzgDkNIL_DpHg6xu9APQ   \n",
       "21   zokgpfAn1onJ1DppA1DTDw   \n",
       "22   tJiWkQtxSmr4UdfEp-EYHA   \n",
       "23   hLVq7VSJBHZwqurwWoCmpg   \n",
       "24   1_fwIUwAC5NEF3uhCXMaHg   \n",
       "25   YrAvAU68l_A0X6n6XHhH-w   \n",
       "26   5sPUDsdIxNNGfjsLrdLuCA   \n",
       "27   JRwacA7kVVeP_L42hM8hlQ   \n",
       "28   5W_LMSthT2jsQOqKFU6IKQ   \n",
       "29   guvwUV9ci5Y1IbnAhG6GYQ   \n",
       "..                      ...   \n",
       "957  QIJ3xg6ueER2R0zwQs7hQA   \n",
       "958  -dV2GaHNJHhDYbrmu48ZDQ   \n",
       "959  9VDrCkfj0I_MDSDPgsPKFA   \n",
       "960  GvttvpDroFphQ8t_vYlJYw   \n",
       "961  W0YPUUT-1jxzv0hjUi5mLw   \n",
       "962  V_QUB1rSphi_n3drf1fUzQ   \n",
       "963  _Pn-EmWO-pFPFg81ZIEiDw   \n",
       "964  QuLMz9jLUPTCM4OX9VBIHg   \n",
       "965  pf7MN9-UyT8jdpaclF1QbA   \n",
       "966  3xSglGfW0ZxtJp0vbv3NhQ   \n",
       "967  e4V4WN6wSbCWl6BzyGBEuQ   \n",
       "968  0N91KZHstHSnKwJVRa2p2g   \n",
       "969  mLDC0DjkT2IJkoppBze4eA   \n",
       "970  eTLy6TXDCCJiWloq0GSwig   \n",
       "971  2O_6Wku6xFCGoPTl8TjMWw   \n",
       "972  LzRjY01bQAvA8cY4TUKFQQ   \n",
       "973  fBO-AauqOjPX2UBp9RgeQQ   \n",
       "974  XVTqV_zHUWC6BOfOsq3nRg   \n",
       "975  b0CvLydqnhdDa6tsckVu8Q   \n",
       "976  myKVt2Hf-FhuEBuLMDztbA   \n",
       "977  QtOUK5LFF23nl0UM7pncbg   \n",
       "978  71SyUUSQ-pbnKRAw3MamNw   \n",
       "979  cFaHx-FkCnzdfF8BccukIg   \n",
       "980  T5zzVFv-gwHax2SkSO5sgw   \n",
       "981  EU5dSjk-UzILTp5kcg-dOQ   \n",
       "982  9MU6L4v83qo9jmutekcWMQ   \n",
       "983  MWKGiMZIe2ZjDe8VgGkWwQ   \n",
       "984  JnC4Mba7FB2VStcnE6nIpA   \n",
       "985  O__X_Mr0pHGcG7l1zK7h2g   \n",
       "986  HLhA0dL8xHz9HgvAs7HWSw   \n",
       "\n",
       "                                                    _2  \\\n",
       "0    [place, breathe, fresh, air, find, hot, dog, f...   \n",
       "1    [wife, come, lunch, walk, buy, chocolate, moos...   \n",
       "2    [would, think, vegan, friendly, hipster, resta...   \n",
       "3    [stop, pittsburgh, home, garden, show, quick, ...   \n",
       "4    [sit, bar, good, drink, bunch, beer, options, ...   \n",
       "5    [three, days, later, neighbor, still, texting,...   \n",
       "6    [come, group, end, order, regular, size, pho, ...   \n",
       "7    [pleasantly, surprise, tequila, cowboy, never,...   \n",
       "8    [tasty, lunch, less, 10, close, universities, ...   \n",
       "9    [5, star, experience, anyone, know, know, love...   \n",
       "10   [pamelas, consider, quintessential, pittsburgh...   \n",
       "11   [india, best, indian, restaurant, city, pittsb...   \n",
       "12   [somehow, able, grab, table, busy, saturday, m...   \n",
       "13   [place, wide, variety, beverages, well, food, ...   \n",
       "14   [love, waffallonia, its, locate, schenley, pla...   \n",
       "15   [hide, group, friends, even, four, need, place...   \n",
       "16   [go, tavern, friends, brunch, love, good, brun...   \n",
       "17   [come, almost, every, day, summer, work, bloom...   \n",
       "18   [eye, place, finally, try, glad, despite, busy...   \n",
       "19   [really, like, atmosphere, go, wasnt, crowd, a...   \n",
       "20   [omg, dont, think, milkshakes, get, better, al...   \n",
       "21   [get, new, pizza, ad, mail, week, order, heres...   \n",
       "22   [im, go, go, 4, star, however, think, north, s...   \n",
       "23   [blah, food, blah, service, redeem, quality, f...   \n",
       "24   [take, granddaughters, age, 2, 3, carnegie, mu...   \n",
       "25   [oh, thats, new, think, ive, one, spot, life, ...   \n",
       "26   [great, place, go, youre, burgh, small, joint,...   \n",
       "27   [believe, rat, arent, higher, place, greek, sa...   \n",
       "28   [family, love, millies, chad, awesome, really,...   \n",
       "29   [love, vandals, vibe, order, pay, counter, aut...   \n",
       "..                                                 ...   \n",
       "957  [dont, believe, hype, literally, still, sit, t...   \n",
       "958  [review, work, art, smokestack, its, unique, a...   \n",
       "959  [show, age, say, several, dinners, location, b...   \n",
       "960  [stop, dinner, weeks, ago, must, admit, wasnt,...   \n",
       "961  [invite, recently, friend, go, huszar, thursda...   \n",
       "962  [ive, fan, napoli, years, last, 2, pizzas, und...   \n",
       "963  [arrive, wednesday, even, 6pm, 5, varieties, m...   \n",
       "964  [first, time, try, thai, food, couldnt, please...   \n",
       "965  [best, thai, restaurant, pittsburgh, love, its...   \n",
       "966  [cool, drink, options, choose, lavender, latte...   \n",
       "967  [new, dj, hot, play, kinds, jam, bartenders, g...   \n",
       "968  [ive, hear, many, great, things, carmi, everyo...   \n",
       "969  [place, look, like, would, fun, place, drink, ...   \n",
       "970  [twice, far, first, time, owner, pay, everythi...   \n",
       "971  [ill, tell, emporio, become, one, place, like,...   \n",
       "972  [love, place, good, job, give, low, key, littl...   \n",
       "973  [ive, mean, come, place, years, ago, first, op...   \n",
       "974  [cant, say, enough, positives, things, place, ...   \n",
       "975  [pretty, much, chinese, take, place, slightly,...   \n",
       "976  [authentic, japanese, restaurant, pittsburgh, ...   \n",
       "977  [go, friday, night, another, couple, dinner, p...   \n",
       "978  [thoughtfully, prepare, food, coffee, make, so...   \n",
       "979  [restaurant, location, change, hand, couple, t...   \n",
       "980  [perfect, spot, light, lunch, brunch, usually,...   \n",
       "981  [care, its, fake, mexican, food, taste, great,...   \n",
       "982  [great, customizable, options, well, pre, make...   \n",
       "983  [ive, want, come, delanies, awhile, never, get...   \n",
       "984  [disappoint, myboyfriend, surprise, lunch, wal...   \n",
       "985  [location, convenient, far, starbucks, go, oft...   \n",
       "986         [best, bar, walnut, go, anytime, day, fix]   \n",
       "\n",
       "                                                Vector  \n",
       "0    [0.0149788, -0.00195833, -0.0130463, -0.004877...  \n",
       "1    [0.00458378, -0.00100534, -0.00332994, -0.0013...  \n",
       "2    [0.0101831, -0.0035301, -0.00649505, -0.003455...  \n",
       "3    [0.00783149, -0.00560254, -0.0025686, -0.00320...  \n",
       "4    [0.00296203, -0.001174, -0.00157797, -0.001017...  \n",
       "5    [0.0338488, -0.00862429, -0.025496, -0.0121223...  \n",
       "6    [0.0078924, -0.00070032, -0.00698314, -0.00246...  \n",
       "7    [0.00993479, -0.00211394, -0.00728097, -0.0033...  \n",
       "8    [0.0288285, -0.00824692, -0.0207248, -0.010113...  \n",
       "9    [0.0147838, -0.00410555, -0.0106086, -0.005274...  \n",
       "10   [0.0260433, -0.00653004, -0.0195072, -0.009036...  \n",
       "11   [0.0119487, -0.0030895, -0.00868125, -0.003948...  \n",
       "12   [0.0131706, -0.00264961, -0.0105345, -0.004813...  \n",
       "13   [0.00726492, -0.000886725, -0.00658938, -0.002...  \n",
       "14   [0.020171, -0.00499816, -0.0153451, -0.0070037...  \n",
       "15   [0.00855597, -0.00285242, -0.0054564, -0.00317...  \n",
       "16   [0.01471, -0.0038714, -0.0104975, -0.005026, -...  \n",
       "17   [0.0191441, -0.00442317, -0.0143528, -0.006542...  \n",
       "18   [0.00580585, -0.00096305, -0.00452279, -0.0020...  \n",
       "19   [-0.00100907, -0.00014483, 0.00129859, 0.00038...  \n",
       "20   [0.0135851, -0.00202548, -0.011955, -0.0045136...  \n",
       "21   [0.00536489, 0.00265675, -0.0077409, -0.001343...  \n",
       "22   [0.00635339, -0.00365224, -0.00276229, -0.0024...  \n",
       "23   [0.00492407, -0.00224039, -0.00275485, -0.0017...  \n",
       "24   [0.0149602, -0.00387019, -0.0111693, -0.004993...  \n",
       "25   [0.00886897, -0.00257826, -0.00611873, -0.0030...  \n",
       "26   [0.0201892, -0.00611931, -0.0137391, -0.006974...  \n",
       "27   [0.00248775, -0.000322169, -0.00204796, -0.000...  \n",
       "28   [0.0157257, -0.00436409, -0.0114705, -0.005609...  \n",
       "29   [0.0200088, -0.00603972, -0.0138959, -0.007012...  \n",
       "..                                                 ...  \n",
       "957  [0.00813791, -0.00418902, -0.00460479, -0.0033...  \n",
       "958  [0.0414512, -0.00969915, -0.0324301, -0.014444...  \n",
       "959  [0.0114049, -0.0039905, -0.00747897, -0.004018...  \n",
       "960  [0.0322492, -0.00881324, -0.0240335, -0.011784...  \n",
       "961  [0.0251738, -0.00561428, -0.0196255, -0.008710...  \n",
       "962  [0.00370402, -0.000806488, -0.0026011, -0.0013...  \n",
       "963  [0.0228086, -0.00616791, -0.0171093, -0.008181...  \n",
       "964  [0.00875564, -0.00265053, -0.00587238, -0.0029...  \n",
       "965  [0.0052063, -0.00160708, -0.00341395, -0.00167...  \n",
       "966  [0.00702708, -0.00157485, -0.0055746, -0.00234...  \n",
       "967  [0.00415732, -0.000932652, -0.00299461, -0.001...  \n",
       "968  [0.0106849, -0.00132423, -0.00904193, -0.00368...  \n",
       "969  [0.0286853, -0.00596859, -0.0221186, -0.009703...  \n",
       "970  [0.0514515, -0.0131407, -0.038581, -0.0182874,...  \n",
       "971  [0.0222486, -0.00474072, -0.0176995, -0.007906...  \n",
       "972  [0.0143928, -0.00476159, -0.0096949, -0.004952...  \n",
       "973  [0.0259022, -0.00757945, -0.0182106, -0.009215...  \n",
       "974  [0.0069724, -0.00311558, -0.00407901, -0.00239...  \n",
       "975  [0.00301354, -0.00148787, -0.00163865, -0.0010...  \n",
       "976  [0.0111954, -0.00272126, -0.00845476, -0.00386...  \n",
       "977  [0.0179216, -0.00508974, -0.0129881, -0.006551...  \n",
       "978  [0.00410302, -0.00100312, -0.00329172, -0.0015...  \n",
       "979  [0.0186875, -0.00625825, -0.0123679, -0.006524...  \n",
       "980  [0.00647459, -0.00100998, -0.00574653, -0.0023...  \n",
       "981  [0.00624955, -0.00122943, -0.00462066, -0.0019...  \n",
       "982  [0.00362353, -0.000825469, -0.00274733, -0.001...  \n",
       "983  [0.0144254, -0.0038717, -0.0100915, -0.0052099...  \n",
       "984  [0.0167489, -0.00465128, -0.0122928, -0.005847...  \n",
       "985  [0.00881074, -0.00335345, -0.00547186, -0.0032...  \n",
       "986  [0.00227717, -0.000528913, -0.00159448, -0.000...  \n",
       "\n",
       "[987 rows x 3 columns]"
      ]
     },
     "execution_count": 47,
     "metadata": {},
     "output_type": "execute_result"
    }
   ],
   "source": [
    "userPandas"
   ]
  },
  {
   "cell_type": "markdown",
   "metadata": {},
   "source": [
    "Review text not needed"
   ]
  },
  {
   "cell_type": "code",
   "execution_count": 48,
   "metadata": {
    "collapsed": true
   },
   "outputs": [],
   "source": [
    "del prodPandas['_2']\n",
    "del userPandas['_2']"
   ]
  },
  {
   "cell_type": "markdown",
   "metadata": {},
   "source": [
    "### Create user numpy matrix from feature vectors"
   ]
  },
  {
   "cell_type": "code",
   "execution_count": 49,
   "metadata": {
    "collapsed": true
   },
   "outputs": [],
   "source": [
    "user_matrix = np.zeros((len(userPandas), len(feature_vectors[0])))\n",
    "idx = 0\n",
    "for index, row in userPandas.iterrows():\n",
    "    vector = np.array(row['Vector'])\n",
    "    user_matrix[idx] = vector\n",
    "    idx += 1"
   ]
  },
  {
   "cell_type": "code",
   "execution_count": 50,
   "metadata": {},
   "outputs": [
    {
     "data": {
      "text/plain": [
       "array([[  1.49787962e-02,  -1.95832923e-03,  -1.30463475e-02, ...,\n",
       "         -6.94139104e-04,   2.92307744e-03,   9.58795566e-03],\n",
       "       [  4.58377600e-03,  -1.00533885e-03,  -3.32994387e-03, ...,\n",
       "         -2.92382407e-04,   1.48732670e-05,   3.65400664e-03],\n",
       "       [  1.01831248e-02,  -3.53010138e-03,  -6.49504736e-03, ...,\n",
       "         -1.05190906e-03,  -1.72721490e-03,   7.80070247e-03],\n",
       "       ..., \n",
       "       [  1.67488884e-02,  -4.65128245e-03,  -1.22928321e-02, ...,\n",
       "         -1.77616987e-03,  -1.78476737e-04,   1.28231868e-02],\n",
       "       [  8.81074183e-03,  -3.35345231e-03,  -5.47186099e-03, ...,\n",
       "         -9.22275649e-04,  -1.77641155e-03,   6.73798891e-03],\n",
       "       [  2.27717031e-03,  -5.28912875e-04,  -1.59447978e-03, ...,\n",
       "         -2.06869416e-04,   4.48589199e-05,   1.81625481e-03]])"
      ]
     },
     "execution_count": 50,
     "metadata": {},
     "output_type": "execute_result"
    }
   ],
   "source": [
    "user_matrix"
   ]
  },
  {
   "cell_type": "markdown",
   "metadata": {},
   "source": [
    "### Create product numpy matrix from feature vectors"
   ]
  },
  {
   "cell_type": "code",
   "execution_count": 51,
   "metadata": {
    "collapsed": true
   },
   "outputs": [],
   "source": [
    "prod_matrix = np.zeros((len(prodPandas), len(feature_vectors[0])))\n",
    "idx = 0\n",
    "for index, row in prodPandas.iterrows():\n",
    "    vector = np.array(row['Vector'])\n",
    "    prod_matrix[idx] = vector\n",
    "    idx += 1"
   ]
  },
  {
   "cell_type": "code",
   "execution_count": 52,
   "metadata": {},
   "outputs": [
    {
     "data": {
      "text/plain": [
       "array([[ 0.0174081 , -0.00577185, -0.01162341, ..., -0.00172507,\n",
       "        -0.00187236,  0.01294933],\n",
       "       [ 0.02164385, -0.00462718, -0.01733457, ..., -0.00181533,\n",
       "         0.00195026,  0.01563367],\n",
       "       [ 0.00531396, -0.0021056 , -0.00318673, ..., -0.00065144,\n",
       "        -0.00117965,  0.00447223],\n",
       "       ..., \n",
       "       [ 0.00957174, -0.00295554, -0.00643366, ..., -0.00082952,\n",
       "        -0.000999  ,  0.00654024],\n",
       "       [ 0.00614555, -0.00121817, -0.00478792, ..., -0.00064255,\n",
       "         0.00082209,  0.00472452],\n",
       "       [ 0.00933781, -0.0026564 , -0.006993  , ..., -0.00090229,\n",
       "        -0.00104649,  0.0059106 ]])"
      ]
     },
     "execution_count": 52,
     "metadata": {},
     "output_type": "execute_result"
    }
   ],
   "source": [
    "prod_matrix"
   ]
  },
  {
   "cell_type": "markdown",
   "metadata": {},
   "source": [
    "### Compute cosine similarity by taking dot product"
   ]
  },
  {
   "cell_type": "code",
   "execution_count": 53,
   "metadata": {
    "collapsed": true
   },
   "outputs": [],
   "source": [
    "similarity_matrix = np.dot(user_matrix, prod_matrix.T)"
   ]
  },
  {
   "cell_type": "code",
   "execution_count": 54,
   "metadata": {},
   "outputs": [
    {
     "data": {
      "text/plain": [
       "(987, 3098)"
      ]
     },
     "execution_count": 54,
     "metadata": {},
     "output_type": "execute_result"
    }
   ],
   "source": [
    "similarity_matrix.shape"
   ]
  },
  {
   "cell_type": "markdown",
   "metadata": {},
   "source": [
    "### Flatten similarity matrix to relate with user and products"
   ]
  },
  {
   "cell_type": "code",
   "execution_count": 55,
   "metadata": {
    "collapsed": true
   },
   "outputs": [],
   "source": [
    "prod = prodPandas['_1'].values\n",
    "user = userPandas['_1'].values"
   ]
  },
  {
   "cell_type": "code",
   "execution_count": 56,
   "metadata": {
    "collapsed": true
   },
   "outputs": [],
   "source": [
    "zf = similarity_matrix.flatten()\n",
    "xr = np.repeat(user, prod.size)\n",
    "yt = np.tile(prod, user.size)\n",
    "d = np.stack((xr, yt, zf), axis=-1)"
   ]
  },
  {
   "cell_type": "code",
   "execution_count": 57,
   "metadata": {},
   "outputs": [
    {
     "data": {
      "text/plain": [
       "(3057726, 3)"
      ]
     },
     "execution_count": 57,
     "metadata": {},
     "output_type": "execute_result"
    }
   ],
   "source": [
    "d.shape"
   ]
  },
  {
   "cell_type": "markdown",
   "metadata": {},
   "source": [
    "### Convert similarity matrix to RDD"
   ]
  },
  {
   "cell_type": "code",
   "execution_count": 58,
   "metadata": {
    "collapsed": true
   },
   "outputs": [],
   "source": [
    "similarity_rdd = sc.parallelize(d)"
   ]
  },
  {
   "cell_type": "code",
   "execution_count": 59,
   "metadata": {},
   "outputs": [
    {
     "data": {
      "text/plain": [
       "[array([u'AKqMnr1bEFIZDG_zQzX8sA', u'5REYrZfsX3m4E3FTwovp5Q',\n",
       "        0.11769174652622787], dtype=object),\n",
       " array([u'AKqMnr1bEFIZDG_zQzX8sA', u'HWrbZS1mxVRj2Y2VwMmDMg',\n",
       "        0.14141611749972535], dtype=object),\n",
       " array([u'AKqMnr1bEFIZDG_zQzX8sA', u'MvlQo4bev1eqp1q0HYOLHg',\n",
       "        0.03801341828643435], dtype=object),\n",
       " array([u'AKqMnr1bEFIZDG_zQzX8sA', u'X9Bql7RrPU5Mab5-hJsI8A',\n",
       "        0.07441758639759136], dtype=object),\n",
       " array([u'AKqMnr1bEFIZDG_zQzX8sA', u'owO2UkNKk9qrWWd_PTYLDA',\n",
       "        0.2354921480774784], dtype=object)]"
      ]
     },
     "execution_count": 59,
     "metadata": {},
     "output_type": "execute_result"
    }
   ],
   "source": [
    "similarity_rdd.take(5)"
   ]
  },
  {
   "cell_type": "markdown",
   "metadata": {},
   "source": [
    "### Use Train and Test Data for predictions"
   ]
  },
  {
   "cell_type": "code",
   "execution_count": 60,
   "metadata": {},
   "outputs": [
    {
     "data": {
      "text/plain": [
       "['1VVHf1BvtGC0aSCCIjQyiA,K5jY2W5Q3eNnwssV5UZtow,4,2016-11-16,2,2,2,past sunday one several time ive spirit its always eccentric fun time first music performance second hang recent visit sundays bingo bango spirit know pizza good drink also awesome last time get chard margarita time get tomatillo margarita hot ciders its always pleasant surprise see whats menu food drink drink little pricey drawback one coolest things spirit atmosphere its always super strange positive way really never know expect bingo bango definitely family appropriate its fun activity friends maybe even date doesnt mind something ordinary',\n",
       " 'QYKexxaOJQlseGWmc6soRg,rzByiKaj-bLeLz-zKNBQdg,2,2015-04-13,0,0,0,old cramp build lot enough employees staff keep demand cause long wait time',\n",
       " '-ARdx8hOcEWlMDjzwLYZ_g,3cbsPfoUUrysf-M8FI_0IA,4,2014-03-24,6,4,3,live long world without donut menu dont know group nine din three varieties donuts include lemon lavender chocolate espresso zeppolli amaze pepper donut concoction ever make donut order come five donut hole theyre big hole one two enough cant believe say thats even little true youll want entire order save room best yet come choose omelette day entr\\xc3\\xa9e couldnt tell goat cheese creamy goats cheese salad nice addition potatoes delightful touch underdone seat downstairs pretty frigid awesome space nonetheless warm joint bite its five star way cant wait visit e2 dinner serve donuts right',\n",
       " '2oTG2GrBpikkonRxQywI7Q,CFtZH4Skp9z3o4ToSywI4w,4,2015-04-02,0,0,0,month try place try years ago im actually quite surprise place get earlier review sample veggie burger goodness place event attend couple years ago become close top list try finally go friend couple weeks ago try veggie burger call hippie something another burger feel like tony tiger fry good beer good fry good venue wait staff pretty great around good yummy experience',\n",
       " 'B7aR8VlLMGzaJ7NHC-jeMQ,RC8NJlX3X2Eo240PU5zJWA,4,2013-02-16,1,0,0,food good find service tad slow italian place area would go first italian good yes excellent meatballs']"
      ]
     },
     "execution_count": 60,
     "metadata": {},
     "output_type": "execute_result"
    }
   ],
   "source": [
    "trainData.take(5)"
   ]
  },
  {
   "cell_type": "markdown",
   "metadata": {},
   "source": [
    "Create key on (user, product)"
   ]
  },
  {
   "cell_type": "code",
   "execution_count": 61,
   "metadata": {
    "collapsed": true
   },
   "outputs": [],
   "source": [
    "similarity_rdd = similarity_rdd.map(lambda x: ((x[0], x[1]), float(x[2])))"
   ]
  },
  {
   "cell_type": "code",
   "execution_count": 62,
   "metadata": {},
   "outputs": [
    {
     "data": {
      "text/plain": [
       "[((u'AKqMnr1bEFIZDG_zQzX8sA', u'5REYrZfsX3m4E3FTwovp5Q'), 0.11769174652622787),\n",
       " ((u'AKqMnr1bEFIZDG_zQzX8sA', u'HWrbZS1mxVRj2Y2VwMmDMg'), 0.14141611749972535),\n",
       " ((u'AKqMnr1bEFIZDG_zQzX8sA', u'MvlQo4bev1eqp1q0HYOLHg'), 0.03801341828643435),\n",
       " ((u'AKqMnr1bEFIZDG_zQzX8sA', u'X9Bql7RrPU5Mab5-hJsI8A'), 0.07441758639759136),\n",
       " ((u'AKqMnr1bEFIZDG_zQzX8sA', u'owO2UkNKk9qrWWd_PTYLDA'), 0.2354921480774784)]"
      ]
     },
     "execution_count": 62,
     "metadata": {},
     "output_type": "execute_result"
    }
   ],
   "source": [
    "similarity_rdd.take(5)"
   ]
  },
  {
   "cell_type": "markdown",
   "metadata": {},
   "source": [
    "Join similarity matrix with train and test RDD to take only similarity values for training and testing"
   ]
  },
  {
   "cell_type": "code",
   "execution_count": 63,
   "metadata": {
    "collapsed": true
   },
   "outputs": [],
   "source": [
    "train = similarity_rdd.join(train_rdd)\n",
    "test = similarity_rdd.join(test_rdd)"
   ]
  },
  {
   "cell_type": "code",
   "execution_count": 64,
   "metadata": {},
   "outputs": [
    {
     "data": {
      "text/plain": [
       "[((u'hHqH_E9FCI_B6WubV0jPYA', u'ZNdV9ytExuxPTXSN8i2xhw'),\n",
       "  (0.2963564521319387, 3.0)),\n",
       " ((u'V0pP_PQnWdtyKpF-pifiaw', u'Fpm3WvqtrAg2ueh_4pz7iA'),\n",
       "  (0.13118959472743053, 4.0)),\n",
       " ((u'IKnLl7SbuP0u6HS34jwHhw', u'guQww9yGHP7rRTea6zTnDg'),\n",
       "  (0.5975845360218869, 3.0)),\n",
       " ((u'M9MXoSsb193m1g0QmmUYBQ', u'-i3pCgQi_Y9NiSSWs6G7bw'),\n",
       "  (0.6600529920408007, 5.0)),\n",
       " ((u'BkMqpJikNc3r5itc-ui6ww', u'x8WI_GkeGHGJCXggDm8flg'),\n",
       "  (0.05050062491191396, 3.0))]"
      ]
     },
     "execution_count": 64,
     "metadata": {},
     "output_type": "execute_result"
    }
   ],
   "source": [
    "train.take(5)"
   ]
  },
  {
   "cell_type": "markdown",
   "metadata": {},
   "source": [
    "Convert RDD to List"
   ]
  },
  {
   "cell_type": "code",
   "execution_count": 65,
   "metadata": {
    "collapsed": true
   },
   "outputs": [],
   "source": [
    "train_ratings = train.collect()\n",
    "test_ratings = test.collect()"
   ]
  },
  {
   "cell_type": "markdown",
   "metadata": {},
   "source": [
    "### Training Regressor on similarity values"
   ]
  },
  {
   "cell_type": "code",
   "execution_count": 69,
   "metadata": {},
   "outputs": [
    {
     "name": "stderr",
     "output_type": "stream",
     "text": [
      "/Users/lakshya/anaconda/lib/python2.7/site-packages/sklearn/utils/fixes.py:313: FutureWarning: numpy not_equal will not check object identity in the future. The comparison did not return the same result as suggested by the identity (`is`)) and will change.\n",
      "  _nan_object_mask = _nan_object_array != _nan_object_array\n"
     ]
    }
   ],
   "source": [
    "from sklearn.ensemble import RandomForestRegressor\n",
    "from sklearn.ensemble import AdaBoostRegressor\n",
    "from sklearn.ensemble import GradientBoostingRegressor\n",
    "from sklearn.linear_model import LinearRegression\n",
    "from sklearn.datasets import make_regression\n",
    "from sklearn.metrics import mean_squared_error\n",
    "from sklearn.model_selection import train_test_split\n",
    "from sklearn.model_selection import GridSearchCV\n",
    "from sklearn.svm import SVR"
   ]
  },
  {
   "cell_type": "markdown",
   "metadata": {},
   "source": [
    "Convert data to numpy array for regressor"
   ]
  },
  {
   "cell_type": "code",
   "execution_count": 70,
   "metadata": {
    "collapsed": true
   },
   "outputs": [],
   "source": [
    "X_train = []\n",
    "y_train = []\n",
    "for ratings in train_ratings:\n",
    "    X_train.append(ratings[1][0])\n",
    "    y_train.append(ratings[1][1])\n",
    "\n",
    "X_train = np.array(X_train)\n",
    "X_train = X_train.reshape(-1,1)"
   ]
  },
  {
   "cell_type": "code",
   "execution_count": 71,
   "metadata": {
    "collapsed": true
   },
   "outputs": [],
   "source": [
    "X_test = []\n",
    "y_test = []\n",
    "for ratings in test_ratings:\n",
    "    X_test.append(ratings[1][0])\n",
    "    y_test.append(ratings[1][1])\n",
    "\n",
    "X_test = np.array(X_test)\n",
    "X_test = X_test.reshape(-1,1)"
   ]
  },
  {
   "cell_type": "code",
   "execution_count": 72,
   "metadata": {},
   "outputs": [
    {
     "data": {
      "text/plain": [
       "array([[ 0.00764388],\n",
       "       [ 0.01788623],\n",
       "       [ 0.03135834],\n",
       "       ..., \n",
       "       [ 0.00922155],\n",
       "       [ 0.2620674 ],\n",
       "       [ 0.04164859]])"
      ]
     },
     "execution_count": 72,
     "metadata": {},
     "output_type": "execute_result"
    }
   ],
   "source": [
    "X_test"
   ]
  },
  {
   "cell_type": "markdown",
   "metadata": {},
   "source": [
    "Train regressor on training data and make prediction on Test data<br>\n",
    "Computed Mean Squared Error on predicted values"
   ]
  },
  {
   "cell_type": "code",
   "execution_count": 88,
   "metadata": {},
   "outputs": [
    {
     "name": "stdout",
     "output_type": "stream",
     "text": [
      "Training:\n",
      "1.03201521992\n",
      "Result:\n",
      "1.03783474054\n"
     ]
    }
   ],
   "source": [
    "forest = RandomForestRegressor(max_depth=10, n_estimators=20)\n",
    "\n",
    "rs = GradientBoostingRegressor(loss='ls', learning_rate=0.005, n_estimators=5)\n",
    "\n",
    "reg = LinearRegression()\n",
    "\n",
    "rs.fit(X_train, y_train)\n",
    "\n",
    "from sklearn.metrics import classification_report\n",
    "from sklearn.metrics import confusion_matrix\n",
    "\n",
    "expected = y_test\n",
    "predicted = rs.predict(X_test)\n",
    "\n",
    "train_expected = y_train\n",
    "train_predicted = rs.predict(X_train)\n",
    "\n",
    "print(\"Training:\\n%s\" % np.sqrt(mean_squared_error(train_expected, train_predicted)))\n",
    "print(\"Result:\\n%s\" % np.sqrt(mean_squared_error(expected, predicted)))"
   ]
  },
  {
   "cell_type": "markdown",
   "metadata": {},
   "source": [
    "### Computed Ratings on missing values"
   ]
  },
  {
   "cell_type": "code",
   "execution_count": 89,
   "metadata": {
    "collapsed": true
   },
   "outputs": [],
   "source": [
    "missing_test = test_rdd.subtractByKey(test)"
   ]
  },
  {
   "cell_type": "code",
   "execution_count": 90,
   "metadata": {
    "collapsed": true
   },
   "outputs": [],
   "source": [
    "missing_ratings_user = missing_test.map(lambda x: ((x[0][0]), (x[0][1], x[1]))).join(avg_rating).map(lambda x: ((x[0], x[1][0][0]), (x[1][1], x[1][0][1])))"
   ]
  },
  {
   "cell_type": "code",
   "execution_count": 91,
   "metadata": {},
   "outputs": [
    {
     "data": {
      "text/plain": [
       "[(('70sSlkooEgL_TEjWDQbr3A', 'afXMX5llxcMFzbaPaBBm6A'), (3.12, 4.0)),\n",
       " (('pr8_C12oHakeNB4ZPp_dig', '3ZcxnR9YkDVRqqkDJMRWBg'), (4.2, 5.0)),\n",
       " (('dz8CFWEWuR_4S1zlZhWCMQ', 'rKh_Nl5edIB9AevqnDmO6g'),\n",
       "  (3.7291666666666665, 3.0)),\n",
       " (('dz8CFWEWuR_4S1zlZhWCMQ', '_VYUU5HPLYasd-xdKLimNA'),\n",
       "  (3.7291666666666665, 3.0)),\n",
       " (('z4MQzyewTRzSoStg0NwL-w', 'lvZOJWiwNymeBhOAgoy11w'),\n",
       "  (3.911764705882353, 4.0))]"
      ]
     },
     "execution_count": 91,
     "metadata": {},
     "output_type": "execute_result"
    }
   ],
   "source": [
    "missing_ratings_user.take(5)"
   ]
  },
  {
   "cell_type": "markdown",
   "metadata": {},
   "source": [
    "Make predictions on test data using the trained regressor"
   ]
  },
  {
   "cell_type": "code",
   "execution_count": 92,
   "metadata": {
    "collapsed": true
   },
   "outputs": [],
   "source": [
    "predictions = test.map(lambda x: ((x[0]), (rs.predict(np.array(x[1][0]).reshape(1,-1))[0], x[1][1])))"
   ]
  },
  {
   "cell_type": "code",
   "execution_count": 93,
   "metadata": {
    "collapsed": true
   },
   "outputs": [],
   "source": [
    "final_predictions = predictions.union(missing_ratings_user)"
   ]
  },
  {
   "cell_type": "code",
   "execution_count": 68,
   "metadata": {},
   "outputs": [
    {
     "data": {
      "text/plain": [
       "12496"
      ]
     },
     "execution_count": 68,
     "metadata": {},
     "output_type": "execute_result"
    }
   ],
   "source": [
    "final_predictions.count()"
   ]
  },
  {
   "cell_type": "code",
   "execution_count": 69,
   "metadata": {
    "collapsed": true
   },
   "outputs": [],
   "source": [
    "mse = final_predictions.map(lambda x: (x[1][0]-x[1][1])**2)"
   ]
  },
  {
   "cell_type": "code",
   "execution_count": 70,
   "metadata": {},
   "outputs": [
    {
     "data": {
      "text/plain": [
       "1.0307912822424812"
      ]
     },
     "execution_count": 70,
     "metadata": {},
     "output_type": "execute_result"
    }
   ],
   "source": [
    "np.sqrt(mse.mean())"
   ]
  },
  {
   "cell_type": "code",
   "execution_count": 94,
   "metadata": {
    "collapsed": true
   },
   "outputs": [],
   "source": [
    "final_predictions = final_predictions.collect()"
   ]
  },
  {
   "cell_type": "markdown",
   "metadata": {},
   "source": [
    "### Save predictions file"
   ]
  },
  {
   "cell_type": "code",
   "execution_count": 96,
   "metadata": {
    "collapsed": true
   },
   "outputs": [],
   "source": [
    "with open(test_output, 'w') as f:\n",
    "    for item in final_predictions:\n",
    "        f.write(str(item[0][0])+\",\"+str(item[0][1])+\",\"+str(item[1][0])+\"\\n\")"
   ]
  },
  {
   "cell_type": "markdown",
   "metadata": {},
   "source": [
    "### Making predictions on training data for Hybrid model"
   ]
  },
  {
   "cell_type": "code",
   "execution_count": 99,
   "metadata": {
    "collapsed": true
   },
   "outputs": [],
   "source": [
    "train_predict = train.map(lambda x: ((x[0]), (rs.predict(np.array(x[1][0]).reshape(1,-1))[0], x[1][1])))"
   ]
  },
  {
   "cell_type": "code",
   "execution_count": 100,
   "metadata": {},
   "outputs": [
    {
     "data": {
      "text/plain": [
       "[((u'hHqH_E9FCI_B6WubV0jPYA', u'ZNdV9ytExuxPTXSN8i2xhw'),\n",
       "  (3.8301495633074758, 3.0)),\n",
       " ((u'V0pP_PQnWdtyKpF-pifiaw', u'Fpm3WvqtrAg2ueh_4pz7iA'),\n",
       "  (3.8301495633074758, 4.0)),\n",
       " ((u'IKnLl7SbuP0u6HS34jwHhw', u'guQww9yGHP7rRTea6zTnDg'),\n",
       "  (3.8301495633074758, 3.0)),\n",
       " ((u'M9MXoSsb193m1g0QmmUYBQ', u'-i3pCgQi_Y9NiSSWs6G7bw'),\n",
       "  (3.8301495633074758, 5.0)),\n",
       " ((u'BkMqpJikNc3r5itc-ui6ww', u'x8WI_GkeGHGJCXggDm8flg'),\n",
       "  (3.8301495633074758, 3.0))]"
      ]
     },
     "execution_count": 100,
     "metadata": {},
     "output_type": "execute_result"
    }
   ],
   "source": [
    "train_predict.take(5)"
   ]
  },
  {
   "cell_type": "code",
   "execution_count": 73,
   "metadata": {
    "collapsed": true
   },
   "outputs": [],
   "source": [
    "train_predictions = train_predict.map(lambda x: (x[1][0]-x[1][1])**2)"
   ]
  },
  {
   "cell_type": "code",
   "execution_count": 74,
   "metadata": {},
   "outputs": [
    {
     "data": {
      "text/plain": [
       "1.0323727636048268"
      ]
     },
     "execution_count": 74,
     "metadata": {},
     "output_type": "execute_result"
    }
   ],
   "source": [
    "np.sqrt(train_predictions.mean())"
   ]
  },
  {
   "cell_type": "code",
   "execution_count": 101,
   "metadata": {
    "collapsed": true
   },
   "outputs": [],
   "source": [
    "train_predict = train_predict.collect()"
   ]
  },
  {
   "cell_type": "code",
   "execution_count": 102,
   "metadata": {
    "collapsed": true
   },
   "outputs": [],
   "source": [
    "with open(train_output, 'w') as f:\n",
    "    for item in train_predict:\n",
    "        f.write(str(item[0][0])+\",\"+str(item[0][1])+\",\"+str(item[1][0])+\"\\n\")"
   ]
  }
 ],
 "metadata": {
  "kernelspec": {
   "display_name": "Python 2",
   "language": "python",
   "name": "python2"
  },
  "language_info": {
   "codemirror_mode": {
    "name": "ipython",
    "version": 2
   },
   "file_extension": ".py",
   "mimetype": "text/x-python",
   "name": "python",
   "nbconvert_exporter": "python",
   "pygments_lexer": "ipython2",
   "version": "2.7.6"
  }
 },
 "nbformat": 4,
 "nbformat_minor": 1
}
