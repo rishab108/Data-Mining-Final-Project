{
 "cells": [
  {
   "cell_type": "markdown",
   "metadata": {},
   "source": [
    "### Spark Initialization"
   ]
  },
  {
   "cell_type": "code",
   "execution_count": 1,
   "metadata": {
    "collapsed": true
   },
   "outputs": [],
   "source": [
    "import findspark\n",
    "findspark.init()"
   ]
  },
  {
   "cell_type": "code",
   "execution_count": 2,
   "metadata": {
    "collapsed": true
   },
   "outputs": [],
   "source": [
    "import sys\n",
    "import copy\n",
    "import csv\n",
    "\n",
    "from string import atoi\n",
    "from pyspark import SparkContext, SparkConf\n",
    "from pyspark.sql import SparkSession"
   ]
  },
  {
   "cell_type": "code",
   "execution_count": 3,
   "metadata": {
    "collapsed": true
   },
   "outputs": [],
   "source": [
    "import numpy as np"
   ]
  },
  {
   "cell_type": "code",
   "execution_count": 4,
   "metadata": {
    "collapsed": true
   },
   "outputs": [],
   "source": [
    "conf = SparkConf().setAppName(\"ContentBased\")\n",
    "conf = conf.setMaster(\"local[*]\")"
   ]
  },
  {
   "cell_type": "code",
   "execution_count": 5,
   "metadata": {
    "collapsed": true
   },
   "outputs": [],
   "source": [
    "sc  = SparkContext(conf=conf)"
   ]
  },
  {
   "cell_type": "markdown",
   "metadata": {},
   "source": [
    "### Load Train and Test Data"
   ]
  },
  {
   "cell_type": "code",
   "execution_count": 6,
   "metadata": {
    "collapsed": true
   },
   "outputs": [],
   "source": [
    "trainData = sc.textFile(\"/Users/lakshya/Desktop/INF-553/Project/las_vegas_review_with_text_without_rare_20_res_lemma_data_train.csv\",use_unicode=False)\n",
    "testData = sc.textFile(\"/Users/lakshya/Desktop/INF-553/Project/las_vegas_review_with_text_without_rare_20_res_lemma_data_test.csv\",use_unicode=False)"
   ]
  },
  {
   "cell_type": "code",
   "execution_count": 7,
   "metadata": {
    "collapsed": true
   },
   "outputs": [],
   "source": [
    "train_rdd = trainData.mapPartitions(lambda x: csv.reader(x)).map(lambda x: ((x[0], x[1]), float(x[2])))\n",
    "test_rdd = testData.mapPartitions(lambda x: csv.reader(x)).map(lambda x: ((x[0], x[1]), float(x[2])))"
   ]
  },
  {
   "cell_type": "code",
   "execution_count": 8,
   "metadata": {
    "collapsed": true
   },
   "outputs": [],
   "source": [
    "avg_rating = train_rdd.map(lambda x: (x[0][0], x[1])).groupByKey().map(lambda x: (x[0], list(x[1]))).map(lambda x: (x[0], sum(x[1])/len(x[1])))\n",
    "prod_rating = train_rdd.map(lambda x: (x[0][1], x[1])).groupByKey().map(lambda x: (x[0], list(x[1]))).map(lambda x: (x[0], sum(x[1])/len(x[1])))"
   ]
  },
  {
   "cell_type": "code",
   "execution_count": 9,
   "metadata": {
    "collapsed": true
   },
   "outputs": [],
   "source": [
    "train_temp = trainData.mapPartitions(lambda x: csv.reader(x)).map(lambda x: ((x[0], x[1]), 1))"
   ]
  },
  {
   "cell_type": "markdown",
   "metadata": {},
   "source": [
    "### Load review data"
   ]
  },
  {
   "cell_type": "code",
   "execution_count": 10,
   "metadata": {
    "collapsed": true
   },
   "outputs": [],
   "source": [
    "data = sc.textFile(\"/Users/lakshya/Desktop/INF-553/Project/las_vegas_review_with_text_without_rare_20_res_lemma_data.csv\",use_unicode=False)"
   ]
  },
  {
   "cell_type": "code",
   "execution_count": 11,
   "metadata": {},
   "outputs": [
    {
     "data": {
      "text/plain": [
       "['\"---1lKK3aKOuomHnwAkAow\",\"A0X1baHPgw9IiBRivu0G9g\",\"5\",\"2010-12-02 \",\"5\",\"2\",\"1\",\"holy bread you have cometh to the sin consumerism summerlin set we be unworthy of your artisan gift but hopefully there be enough foodie fringe to sustain thee ps be rude be be french a rise by any other name we get a truffle cake for xmas and it be wonderful this seem to be a hub for french people in town most of the folks in line be speak french \"',\n",
       " '\"---1lKK3aKOuomHnwAkAow\",\"AZlnpvILz5cEWJifjr2CSQ\",\"5\",\"2010-11-25 \",\"3\",\"1\",\"1\",\"i come here for pesto i use pesto like most people use salt it go on veggies bread pasta ect they also make freeze pasta include my husband covet gnocchi they also have a great deli selection include ny favorite boars head they have in house ricotta and mozzarella as well as all sort of pepper and olives there be a little cafe and it be nothing fancy it be however simple and good not much on presentation but big on taste they also have arborio which apparently be hard to get here whole foods only have lundberg which be not great \"',\n",
       " '\"---1lKK3aKOuomHnwAkAow\",\"gHoP4eJimaMltfUlp6EP4Q\",\"4\",\"2011-05-01 \",\"0\",\"0\",\"0\",\"this be a fave place for our daughters they be always well treat by the staff and there be something both of them like to eat on the menu it be also next to a yogurt shop which sweeten the deal \"',\n",
       " '\"---1lKK3aKOuomHnwAkAow\",\"5cbsjFtrntUAeUx51FaFTg\",\"1\",\"2010-11-05 \",\"1\",\"0\",\"0\",\"so i be come here once a month or so maybe more however after happy hour disaster i will not be back i go to happy hour and ask if they could do a veggie taco instead of a meat one they seriously deliver a tortilla with pepper in it thats it no cheese salsa sour cream just some sorry pepper then boy wonder manager start tell me the about the bulk price of meat really timberlake knock off you think i care if you dont do veggie taco then dont do them maybe a mea culpa would be we dont do veggie tacos but let me take 2 buck off the potato tacos we actually make say goodbye to my 140 dollars a month too bad because i like your food i always recommend agave to hungry rock climbers as it be close to red rock but no more \"',\n",
       " '\"---1lKK3aKOuomHnwAkAow\",\"YCEZLECK9IToE8Mysorbhw\",\"5\",\"2011-12-11 \",\"3\",\"0\",\"2\",\"they be in the spot where rachels kitchen use to be on town center and 215 they completely redo the inside and it be so beautiful in there they make tasty fresh juice include green apple juice and yummy healthy meals it be a great place to bunker down with a computer and work the staff be so nice and the owners make the round they dont have a website yet but you can like them on facebook http www facebook com dailykitchen sk info \"',\n",
       " '\"---1lKK3aKOuomHnwAkAow\",\"1JgaRBX0oiRsvEhHF3ZMjw\",\"1\",\"2011-02-16 \",\"5\",\"7\",\"1\",\"food be 30 mins late and the pizza guy think i be go to tip him 18 dollars on a 20 dollar order or perhaps he be two spring short of a slinky and cant add then one bite into the mozzarella stick revel a cheese that be not melt seriously i could have peel it off like straight up gas station string cheese how can you deep fry something and actually avoid cook it then when i call them to complain they leave me on hold and then start laugh about me call them stellar managerial skills do you get your kellogg mba from the back of some frost flake i think my husband order from them if he be in a pinch for food for the kid however i declare a moratorium on this lower crust can you put pizza in cement shoe who else deliver in summerlin \"']"
      ]
     },
     "execution_count": 11,
     "metadata": {},
     "output_type": "execute_result"
    }
   ],
   "source": [
    "data.take(6)"
   ]
  },
  {
   "cell_type": "code",
   "execution_count": 12,
   "metadata": {
    "collapsed": true
   },
   "outputs": [],
   "source": [
    "train_data = data.mapPartitions(lambda x: csv.reader(x)).map(lambda x: ((x[0], x[1]), (x[2],x[7]))).join(train_temp)"
   ]
  },
  {
   "cell_type": "code",
   "execution_count": 13,
   "metadata": {},
   "outputs": [
    {
     "data": {
      "text/plain": [
       "[(('ik3YuDGRcNo9G24U0eG19A', 'q3oJ6bNRV3OoJrwc95GOwg'),\n",
       "  (('5',\n",
       "    'i have be want to go here for awhile i must have see it on tv i get the veggie dog red i know what i think to be a portuguese roll i be from chicago so we be quite big on our hotdogs this be nothing like i be use to but it be sooooo good we also get an order of dirty fry and while we be sit there eat somebody come out and say the kitchen make too much french fry would we like another my friend and i be already split the container of fry yes i say container i tell my friend just go ahead and bring those home for herself because i still have an almost full container after two people eat them the hot dog be so humongous that i bring some of that home as well have your appetite ready if you go to this place '),\n",
       "   1)),\n",
       " (('1JW3rbxP2WpnXYOeMyKEWg', 'kZspuWnM0Y-Losvk2Rl0lA'),\n",
       "  (('1',\n",
       "    'i ask um amellie i think she say her name be what come with the tzadziki appetizer and she proceed to tell me what tzadziki be not what come with as i ask so i say for 6 you only get sauce and she say bak no it come with pita shake my head i mean god forbid this idiot actually listen to the question ask this be the new state of affairs of the world there be another genius stand next to her who answer my question too which be so fascinate that when twenty freak minutes later genius 2 hand me my food without the pita bread these two couldnt come up with 5 iq point between the two of them just before get my food i get up to ask for my money back because i have zero faith the food would be good and i be refuse a refund no manager or owner be on site so genius 1 call the owner who say i could not have a refund as he didnt want to waste food but its ok to have terrible customer service '),\n",
       "   1)),\n",
       " (('sELpZpITOy9abQB3YY2Ugg', 'tveb-DkZ0lnwgKb_oavl6A'),\n",
       "  (('5',\n",
       "    'smiths supermarkets be probably the best price non ethnic market in the valley make sure you download their smiths app and each friday you get a friday download coupon for a free item you have to get the coupon on friday and friday only but you can redeem the free item for about a week after usually they have chocolate bar juice or energy drink stuff thats usually around 1 2 dollars also if you stack your smiths save and coupons with apps like ibotta you can get really great deal this particular smiths have the best sushi their sushi be run by a different company afc instead of skyfox all the others have the price be a bite better and they be a little more generous with the fish the guy that run the sushi counter be really friendly too and will make you a fresh roll or a special order for you if you want the cheese counter be new with lot of higher end offer pat antipastos specialty cheese and of course the guy at there be really helpful and always have sample out too talk to them they be friendly most days they even have wine and cheese pair sample with the main cheese counter guy and the wine guy on the back side of that be a new olive bar that put the whole foods olive bar to shame and a bite cheaper too lastly dont forget about your gas point usually in the summer they do double point on the weekend but costco be still cheaper '),\n",
       "   1))]"
      ]
     },
     "execution_count": 13,
     "metadata": {},
     "output_type": "execute_result"
    }
   ],
   "source": [
    "train_data.take(3)"
   ]
  },
  {
   "cell_type": "markdown",
   "metadata": {},
   "source": [
    "### Collect user data from train data (User, Product, Rating)"
   ]
  },
  {
   "cell_type": "code",
   "execution_count": 14,
   "metadata": {
    "collapsed": true
   },
   "outputs": [],
   "source": [
    "userReview = train_data.map(lambda x: (x[0][0], x[0][1], x[1][0][0]))"
   ]
  },
  {
   "cell_type": "code",
   "execution_count": 15,
   "metadata": {
    "collapsed": true
   },
   "outputs": [],
   "source": [
    "userReviewCollected = userReview.map(lambda x: (x[0], x[1], x[2]))"
   ]
  },
  {
   "cell_type": "code",
   "execution_count": 16,
   "metadata": {},
   "outputs": [
    {
     "data": {
      "text/plain": [
       "[('ik3YuDGRcNo9G24U0eG19A', 'q3oJ6bNRV3OoJrwc95GOwg', '5'),\n",
       " ('1JW3rbxP2WpnXYOeMyKEWg', 'kZspuWnM0Y-Losvk2Rl0lA', '1'),\n",
       " ('sELpZpITOy9abQB3YY2Ugg', 'tveb-DkZ0lnwgKb_oavl6A', '5'),\n",
       " ('1M7qbeQoL8O5r_cUVEuKEw', 'PSUOncuqfqHulYj_fusthw', '5'),\n",
       " ('iS4m_LE7f2oEzYl09HiIuw', 'fL-b760btOaGa85OJ9ut3w', '5')]"
      ]
     },
     "execution_count": 16,
     "metadata": {},
     "output_type": "execute_result"
    }
   ],
   "source": [
    "userReviewCollected.take(5)"
   ]
  },
  {
   "cell_type": "markdown",
   "metadata": {},
   "source": [
    "### Collect product data (Product, Review Text)"
   ]
  },
  {
   "cell_type": "code",
   "execution_count": 17,
   "metadata": {
    "collapsed": true
   },
   "outputs": [],
   "source": [
    "prodReview = train_data.map(lambda x: (x[0][1], x[1][0][1])).groupByKey().mapValues(list)"
   ]
  },
  {
   "cell_type": "code",
   "execution_count": 18,
   "metadata": {
    "collapsed": true
   },
   "outputs": [],
   "source": [
    "prodReviewCollected = prodReview.map(lambda x: (x[0], \" \".join(x[1])))"
   ]
  },
  {
   "cell_type": "code",
   "execution_count": 19,
   "metadata": {},
   "outputs": [
    {
     "data": {
      "text/plain": [
       "[('ZHRBiaHmqdwyXPNsETqKCw',\n",
       "  'huge annual event with plenty of panel and photo ops good range of price from discount single day to weeklong package definitely worth a visit  man this convention be funner than watch a klingon knick himself with his batleth battle sword for a star trek gather in las vegas this convention be u s s enterprise huge be always intend to come to this convention since its right at home and present and past intermingle with fan great gather of nerds and geeks alike i get star strike by folks like levar burton marina sirtis brent spiner and jonathan frakes no picard though this round for a nominal fee you could get a pic and auto from each of them and these folks be friendly as ever just pass by there be no divas in the house hell even the original shaft richard roundtree be there shut yo mouthlots of convention space and a number of dealers to get your star trek swag no joke i buy no star trek swag but score big time with some star war memorabilia ive be want for years and pay a pittance for them ha ha it be fun to roam around the hall and see what everyone be offer ive be mean to get to this convention thank to groupon i finally answer the call only a mere 10 to get in wasnt all that bad consider its hold at the rio hotel casino every year fun place to play see some ladies in teeny bikinis only this trip it be people in star trek cosplay and a lot of folks wear red shirt if you dont know star trek a red shirt in an episode mean you be mark for death later sucka not the biggest convention ive be to thank to san diego comic con but definitely one of the funnest trekkies and trekkers yes there be a difference abound everywhere after all the passerbys and the requite live long and prosper hand signal stuff i be inside the inner sanctum it be cool just walk the convention floor and see all the amaze stuff i would probably never be able to afford show use prop phaser anyone but this convention be about bring star trek to the fan and there be a lot of seminars and show abound the highlight of the day for me be witness the shit william shatner and kate mulgrew together both captain kirk and captain janeway on one stage it be a great interview between the two and they keep folks engage by let people in the entire hall audience ask any star trek relate question they want really great great conversation i score some great swag learn some new things and have a ton of nerd fun i will be back again star trek convention to boldly go where middle age bald men have go before '),\n",
       " ('X11JfeIVH9d6qMrDqA-N7A',\n",
       "  'i come to scooters to watch las vegas wranglers home game theres usually a good energetic crowd and they put the game on almost all the tvs so you can watch it from anywhere in the bar otherwise the location be far from my house but thats fair for a one location business in our giant city the food be good but service can be slow if the place be really busy the servers do a good job of try to check on you though one of my friends swear by the potato skin ive never have a bad meal there part of the bar have a big screen projector which be a nice touch for game you can also play shuffleboard in the same room so you feel like an athlete as well  awesome bar food be good love the happy hour price during football season game days wife and i go there 4 time and always have good food and good service cant complain its a seahawks bar the sport bar part be awesome and the sit down resturant part be good too it just need more big screen tv overall i will always go back to support scooters pub and the seahawks go hawk  love this place for seahawks game great drink and nikki the bartender be cool and attentive the food be quality bar food and the price be reasonable so the nfl season look great on ample lcds and big screen so now can the seahawks win i will be at scooters to see if they can  pretty decent bar food fun atmoshphere and reasonable drink price esp during ufc night  scooters be a cool bar especially if youre a seahawks fan i recall a few year ago before the seahawks be even good this bar would get pack on sundays i can only imagine how busy it will get now that they be the defend champ i use to go and watch the ufc fight here all the time stand room only and you get to get there early the bar as well as din room get jam pack there be several old school video game here most notably a street fighter ii champion edition game this machine alone be enough for my friends and i to drop by they also have dart board a pool table and a shuffle board table as far as the bar go its your typical setup not much different from a pts or putter where i feel scooters excel at be their food i can recall the first time i go in my friend and i be in the neighborhood look for a quick bite at that time scooters be new i dont recall what we order but i remember the both of us think wow this food be good and i have never be disappoint since the appetizer sampler platter be huge and only 16 you get wing finger potato skin and mozzarella stick the nachos be also enormous best part be at the end youre not leave with a pile of chip they put a ton of toppings on these bad boys if you get their wing i highly recommend the spicy garlic another favorite of mine be the pastrami burger fry egg i believe it be a 1 2lb patty with a heap help of pastrami lettuce tomato onion and mozzarella cheese this burger be so big i couldnt even bite it i have to take out the veggies and eat it as a side salad if youre look for a chill bar to grab a cold one crazy fun atmosphere for the ufc or feel nostalgic for some street fighter ii this be a great alternative to the big boy chain who know you may even be lucky enough to have heather as your bartender she be fantastic  come here for ufc 217 the website and poster say there would be drink specials with your pay cover charge for the event which turn out not to be true the only thing stop this place from get a 5 out of 5 our waitress be awesome and the pizza be great plenty of tvs and not too rowdy at all for an event we will definitely come back but hope in the future they mention that there arent the specials which be list for the event before pay  stop by to watch a ufc fight there be 2 bouncers at the door one politely inform me the place be full as i be reach for my phone to call my bf the other bouncer clearly drink say but youre hot if youre alone you can come in he move on quickly and start have a conversation with one of the servers about some customers they be rude and unprofessional if you need to vent and talk s about customers go to the kitchen or to a place where no one can hear you  great atmosphere great bar food super friendly service bartender be very attentive we usually come here after work late night early morning crowd already go front door be lock for safety must ring bell for entrance my favorite items from menu grill chicken and avocado sandwich with fry chicken be tender cheese be perfectly melt tomato slice red onions and avocado be greatly enhance the sandwich steak and egg with hash brown and a choice of toast the breakfast steak be 6 oz and it can be a hit or miss i never have any problems but last weekend my bf didnt like the steak at all it have a very sour taste i guess to vinegary i dont know anyway bartender immediately apologize for not like the meat and offer something else from the menu also take it off from the bill no arguments no ifs and no buts very easy transaction his attitude make the whole experience absolutely great its all about service we be definitely keep come back here  since this be the pub for seattle seahawk fan decide to stop in and catch the preseason game against the vikings arrive about 6 30 and have no trouble find a seat order a beer and my girlfriend order a margarita for dinner we order burgers my girlfriend order hers well do it arrive nearly raw in the middle we send it back and she get one that be cook properly the second time other than that the food be great and really good service have a fun time cheer on the seahawks  the group i be with have a great time at this local pub last night 7 24 16 once you enter the pub you will notice the main din room and to the leave be the entry way to the bar that be spacious and make to accomadate large group the third room that be adjacent to the bar be a game room with bar stool and table plus a pool table shuffleboard various arcade game along the wall the food be great and the service be on point give that they have a few servers at the time since it be a sunday some of the items that we have that be notable be the chicken finger they come in two large piece that look like fish fillet but the bread be light and crispy with a good amount of chicken with curly fry but you have the option of get plain fry or tater tot other items that our group enjoy be the southwest eggrolls and the homemade chip and fresh salsa that come with 3 sauce mild spicy guacamole portion size be great for share especially the small size chicken nachos that my friend order be delicious great place to catch a game since they approximately have about 22 flat screen throughout the bar game room and main din room since the din room be seperated from the bar with large windows its good to bring families that want to catch a game together will be back if im in the area or to hangout with friends  i have be go here since they open and i suggest to one of the owners he need to get buzz time trivia and he listen i love it that they still have the trivia i know a lot of people who will go to a place just because of trivia anyway havent be here in a while and i notice they take off their ahi tuna salad entree and appetizer noooooo those items be the best things on the menu arrrgggghhh settle for the pretzel bite i love nacho sauce and warm pretzels they be very good my friend and i split the nachos order vegetarian and they be huge delicious too this place be pretty big with shuffleboard and dart in a big man cave room huge projector tv it be very invite and good for big group a  stop by to watch a game i didnt gamble but do eat pretty solid menu and big cold beer i be happy staff be friendly lot of tvs to watch the llws  smokey water taste ehh local joint its not horrible but when youd rather drink the beer than the water then theres a bite something that need to be do with filter as with everywhere if the ventilation isnt good the place just pile up with smoke and for someone that doesnt like smoke its not fun time no fun time we stop by because a colleague of mine be in town stay at the holiday inn that be right there next to scooters and so we want to find a place we could talk drink and not have to drive too far this place suffice but i have to say that there be a lot of local joint and this be just an okay place unfortunately not my first pick of taverns or pubs  1st time go to scooters yesterday after wait almost 5 minutes to order a drink i have to ask 3 time after give the bartender my order for a drink to please get it for me she keep forget finally the food server get it for me the service be extremely slow food be fair be really bum because i be expect more after read the review by others before me will not be return on to greener pasture  a group of yelpers come here after an event at shine i be not expect this place to be anything different than any other bar for the most part they serve the same kind of food as the rest but how much i enjoy it surprise me carolyn m have order the french dip with curly fry and i keep sneak a few bite here and there the fry be crispy and not drench in oil win the sandwich be also delicious the meat be tender the bread have a garlic bread flavor to it and soak up all the au jus they also have fry oreos here go downtown for this treat be for the experience come to scooters be for quality each order come with six of these fatty morsels and ice cream i eat half of one and stop it be ungodly the cookie inside soften but still retain a chewiness it be so good i might drink green smoothies practice yoga and exercise five time a week and eat healthy 75 of the time but i do it to let myself indulge in these type of days i might make fun of my friend for her work out to fee her horrible eat habit but i be really no better my body be a temple it clearly love me for give it deep fry anything and hat me for put it through hell to make up for it  i visit this establishment look for a place to sit with friends and enjoy a couple of drink i think this bar have great drink price especially during happy hour or when football be play i have a 20 onz miller lite for 3 even though there be a lot of game play the place wasnt too noisy i actually be able to talk with my friends and enjoy the game the only thing that deter me from come back be that the bar be very smokey there be not a lot of people smoke yet the whole place smell like smoke most of the time it just felt like there be someone smoke right next to me when in reality the closest smoker be nowhere close overall great price do not try the food but it do look good  7 28 17 always enjoy come here food be great awesome happy hour specials staff be very friendly best part its a seahawks bar be here many time and will continue to come here for seahawks game  this be the new home for the las vegas seahawkers so i will probably spend a lot of time here in the future they have a ton of beer to choose from and the price be decent also the food be fairly decent i have the cajun burger with curly fry and it be very juicy and solid the fry be good too probably the cleanest dive bar i have ever be my only complaint be that even though they have a lot of tvs they be fairly small except for the projection tv that be not very clear however this be defiantlyan upgrade from the previous seahawks bar torinos that be probably as bad as it could be  weve have a restaurant com certificate for scooters for a long time but since its not near us we wait until we be within strike distance as it turn out we didnt use it we enter a big room that be completely empty no gamblers no diners we didnt think it be go to bode well but the very friendly waiter bartender say that in his four years there he have never see anything like it we believe him there be a lot to choose from on the menu i order the sirloin sandwich with a side of slaw and my husband choose the chicken blta salad which have grill chicken with bacon tomatoes avocado and shred cheese it be huge and he have half of it for lunch the next day i think the chicken on his salad look dry but when i taste it it be surprisingly moist and not oversalted my steak sandwich be another story the steak be tough gristly and taste as if it have be marinate in a salt bath it be inedible the waiter offer to bring me something else but i wasnt very hungry to start with so i fill up on the cole slaw and nurse my apple orchard cider the cole slaw be very different it be creamy without be mayonnaise y and i deduce that it be make with greek yogurt but after congratulate myself on order a healthier alternative to fry the waiter put me in my place when he tell me it be make with bleu cheese dress so much for healthy since my steak sandwich be a fiasco i be go to give scooters three star i like the place despite the woeful sandwich experience the waiter deduct it from the bill so of course we werent go to use the certificate but because the service be so excellent and hubbys salad be so terrific ive bump it up to four  niners and their fan like to say whos get it better than us nobody but clearly heres one more thing seahawks and their fan have better than them besides a super bowl win in this century haha seriously this bar serve way better food and have a way better environment than the niners bar down the road order the pastrami burger you wont regret it its a burger with pastrami pile on top in a bun its not small sorry i didnt take a good pic so didnt it be delicious on a its own but i dump some of your typical condiments a1 ketchup hot sauce on it which also double as what i dip my curly fry in im sure if there be an option to throw an egg on it id do it next time this be already do but now will they throw on some bacon haha i dont like to usually change things especially when theyre already good but why not the curly fry come season they have a decent happy hour that go monday friday 3pm 7pm and 12am 3am 5 on various apps like wing finger a mini nacho ive have the potato skin and mozzarella stick 50 off domestic draft they have a separate din area from the bar area but really why would you not sit at the bar i didnt notice a smoke smell the bar be decorate in a lot of sport memorabilia include a joe montana niners jersey they have various bar activities like dart billiards and shuffle board a number of tvs and from what i hear free show of ufc events which it get pack for their beer selection be ok not a lot of craft beers but the service the pastrami burger and the environment be all they need to make me a fan niners fan dont fill bad cause i think theres a bar in henderson that have a very nice selection of craft beers  saw their coupon in lv weekly for march madness which advertise 4 nachos 2 for 2 sliders and 1 hot dog along with 20 match play so what better place to sweat my ncaa bracket which all fell to piece this past weekend but thats what i get for watch less than an hour of cbball the entire year my wife get deal a 9 high straight flush on a 3 play machine the first time we go which take care of the food and then some i end up break even but still get 20 profit because of the match play that just go to overtipping the super friendly staff anyways the food be definitely better than the average bar with the sliders be some of the best ive ever have how be they that juicy my wife love the chicken finger here since they bread and fry them to order she joke that the finger be so big they should just start call them chicken hand unfortunately they get rid of the 20 match play our next time there since a ton of people be abuse the hell out of it figure as much so basically they would only give players another 20 if they lose the first 20 no big deal  i come here to watch the ufc on pay per view and love the way the bar be set up for it you have a bunch of high boy table and chair in one room and the bar in the other the room with the table chair start fill up about 3 hours before the main event i like to get there early to make sure i get a good spot i also dont pay a cover by come that early though i more than make up for the money on my bar tab waitress be friendly and attentive though they get really busy by the main event and the entire bar area be full of patrons friends of mine who be big seahawks fan come here whenever theyre in town to watch the game i hear its a riot and the bar be fill with seahawk fan food be good but standard bar food nothing extraordinary the portion be quite big  absolutely one of the best burgers in the whole city come monday through friday between 11 a m and 2 p m for the amaze lunch specials its a little smokey because its a bar but that staff be always very very nice and customer friendly i also like come here to watch the ufc fight the place be one various award for its bar food which be all amaze  its tough to let go of the good food and the good people who be here one thing i can say for sure be im go to keep come in until we get out right thank rich for go the extra mile on customer service and misty 1 and misti 2 your smile and welcome hearts keep bring me back  stop in with my boyfriend to check this place out and sit at the bar we be immediately greet by crystal who be just a super nice and outgo host she guide us through the menu get us our drink and chat for quite a while she appear to know most of the other customers and be very attentive i will absolutely be back in soon to visit with her again the nachos be my favorite food item that we try and the beer be nice and cold very refresh on a hot day the staff be by far the best part of our experience if you havent check out scooters youre miss out  typical chain type bar less than average food quality although it appear scratch make the taste resemble freeze pre make on the higher price range of the same freeze bar food you can get anywhere else 10 00 for potato skin really some items be scratch make but the quality leave a lot to be desire pizza crust have no flavor seem pre make mass produce burgers be average and not season no test of the entrees as i have no desire to go any farther host ufc fight yet they be never prepare for the crowd understaffed be an understatement take 10 15 minutes to get a drink food take close to 30 minutes on both occasion untrained staff operate sound system continuously turn sound off and turn music on only a 5 cover charge for ufc fight be the cheapest in vegas next to buffalo wild wing and that be about the only positive that stand out they let the place get way over capacity to where you can not walk through the place to get to the restrooms  dont let the name fool yaive visit this place a few time each time for a little something different and each time ive be pleasantly reward they have video game pool and shuffle board dart and drink even game machine for those feelin lucky ducky today i swing by to try the foodand let me tell you chicken caesar salad the way its intend on a cold plate cool lettuce evenly coat with dress top with hot chickens nicely dice from young to oldthis place have a little something for everyone include chill shots of j\\xc3\\xa4ger and patron if your local and need a spot this be the place for you ps anyone need a good cook our chef at scooters pub be a talented man his veggie pizza be outstanding  so i come here on a thursday night to check this place out after hear about it from a friend who work here this review be strictly for the bar area as we do not come here for food the drink be reasonably price as a pitcher of bud light be 9 and stoli be 5 so i cant complain they also have arcade game in the bar area which be kind of nostalgic especially see street fighter 2 and mortal kombat they have some great specials when the phillies be play but i didnt ask why the phillies maybe the owner be from philly i would have give scooters 4 star but we come here on karaoke night and the talent be mediocre at best see the reason i dont do karaoke be because i know i cant carry a tune and would prefer not to torture the other patrons in the place i guess after a few drink all logic go out the window and people will sing no matter how it sound anyways id probably come back on a non karaoke night  i be happy to see that scooters become the seahawks bar the location be convenient for me while the food be ok and the service be generally ok the whole experience be taint by one moment my brother in law be play the machine and in several hundred dollars after hit something not too big about 400 he cash out whenever he hit something about that size he cash out then start over eventually feed it all back in and then some one of the bartenders pay out the cash out and walk away he give the other bartender 20 and go back to play this be the third time that night that this have occur to my dismay the first bartender go to the other and ask how much he have tip he didnt indicate whether he think this be enough or not but either way that be not the point of course they be primarily work for tip but to ask this in front of us be rude and unacceptable this bartender may have think he be be discrete but it be loud enough for me to hear by the end of the night the bartenders be tip 140 but my brother in law be down 700 this may be the only seahawks bar in town but id rather watch at home than be insult like that  this tend to be a group happy hour spot with my coworkers so ive become pseudo regular not to the point where everybody know your name just yet but its become familiar just good ol sport bar fun the 2 bartenders i see when we go be both great good service and friendly the waitress on our happy hour day be awesome pretty good bar food cold beers in clean glass comps for game and a shuffle board table to top it all off any game you can play without have to put your drink down rank high in my book o fun  probably one the cleanest local bar i have ever be to meet up with some friends here the other night they have a ton of beers and you can join a beer club free and if you drink all the beers on there in like a 3 month period you get draft beers for free for the next 6 months or something like that it get you out of your comfort zone of normal beers bud light anyone and get you to try stuff you probably wouldnt food be better than normal bar i have the nachos good and there be a massive amount my husband have the pull pork sandwich with onion ring which he say be fine and our friends love the mac cheese the bartenders be great and very attentive i put in 20 into a machine which i usually dont do and of course all of my 3 beers be free they have tvs everywhere and pool table oh the bathroom be really clean i will definitely be head back  one of the bar that have ufc good drink but chicken wing could be more spicy than sweet  great place to catch a fight they pull down a large screen and have tvs all around the bar there isnt really a bad spot in the place i attend a ufc fight and they do charge a 10 cover most place charge cover though for the fight so it be ok the food be pretty good as well i have some nachos and a wedge salad i saw some people order burgers as well and they look really good the bartenders be all really nice and attentive as well the place be usually pretty quiet unless a big event be go on there be one pool table and 1 dart table chill place to hang out the knock on the star be because the people that hang out there be somewhat questionable i be watch my purse all night  first time i ever go to scooters pub be for a monday night football game it wasnt much of a game pittsburgh vs cincy but they have halftime and post game raffle and i end up win an authentic yes authentic not the cheap replica stuff bww give out jersey so that be pretty cool every time i go there the staff be always top notch and one of the bartenders even remember me after months of not be there there beer specials be usually really good and theyre food be really good i completely recommend have the sampler platter to try a little of everything but no matter what you do leave room for dessert because you must have the deep fry oreos they be unbelievable i love go to scooters and if youre a local hockey fan its a great place to watch wranglers away game check it out you wont be disappoint  sport bar what else can i say the bar area be huge with some game machine this place get crowd at time the bartenders be cool and the vibe be friendly i order the kobe dog footlong hot dog with all the trimmings it be really really good the chicken wing be also pretty good i browse through the menu and everything look so appetizing i like this place 4 star for food service and fun  i didnt sample the food but sometimes you go to a bar for one purpose to have a cold adult beverage with your bud and thats exactly what i do the environment be clean and open thank to super high ceilings and concrete floor the high ceilings help prevent the stale smoke smell you encounter at most pubs around vegas yes there be smoke but its not as thick as your average video poker hang we go in on a friday even and there be plenty of table for our large group plus there be electronic dart shuffle board and tvs to keep the restless ones entertain the beer be ice cold and the service be friendly and prompt i would definitely head back for some late night eat or to catch a game  decent look place on the inside but service be very slow nothing special nachos be okay they may want to consider have more than bartender on a friday night  come here because i be look for a hockey bar and some of the review say this be the place to go um no that wasnt the case i would have ask if she could turn one on but after she give me my first beer when i arrive i be pretty much ignore and the place be dead they have a lot of tvs show the same 2 college football game pretty standard otherwise no different than a pts or lodge couldnt say how the food be didnt stick around wont be back  i have family come into town and they want a lay back place where they could enjoy good food and a baseball game or two we jump on yelp and find scooters and think to give it a try we arrive just in time for happy hour the waitress we have be great she answer all our question and give input into what she think the best things to order on the menu be we receive our food promptly and enjoy a nice relax meal while watch some of our favorite team a downside to din here be they do allow smoke inside at the bar and as we all know there be no way of keep the smoke from travel throughout the restaurant overall great experience and i would recommend it to others look to just have fun and relax  a first visit to this casual bar and eatery yield mix result mozzarella stick be gooey spicy nachos be excellent along with very good potatoey potato skin spicy chicken noodle soup be very good with well cook noodles and carrots and a caesar salad with chicken and candy pecans include big chunk of brown chicken with mostly romaine leave cover by tasty bleu cheese vinaigrette dress garlic bread be creamy service be very good and portion be large but diane do not like her haddock fish chip at all 3 1 2 star overall  me and my buddy go here on a whim try to find some new place around the neighborhood and we be please with the service as well as the food although it be a sunday so it wasnt busy we be give more than enough attention by the staff who make sure we be happy with the food their burger be tasty as be there chicken avocado sandwich though they could both use considerably more avocado i order avocado for my burger i have a potato salad and my friend have curly fry nothing be special but everything be good we also have some wing which be drench in spicy garlic sauce a good thing we will definitely be try some more stuff here because its 24 hours and have a decent number of options to try  good eat ample tvs and projectors and nice beer selection unfortunately the liquor selection be small so if your look to party with cocktails id pass however be you love beer and sport this be definitely a bar to check out i have always have a great time at scooters and wont be shy of return  bartender be the sweetest she make awesome bloody marys too i come in for breakfast and be blow away the food be so good and its dirt cheap i have two pancakes two strip of bacon two piece of sausage two egg hash brown and biscuits with delicious gravy for 8 99 i will definitely be back to try the rest of their menu and hang with my new buddy  stop in to watch ufc 189 not a bad setup 5 entry for the fight and you should get there early if you want a seat separate din area to the bar so you can have your children with you if need be only order the nachos and they be edible but nothing super impressive but its nachos coffee wasnt terrible and the service be again on par its a sport pub that didnt have anything great that make me want to come back but its not terrible either so if your look for a place to gather and watch a sport event give it a look  this place be always outstanding fun friendly people come here all others stay away the staff be always fast friendly and prompt the burgers be all really tasty and the clam chowder look delicious the happy hour price be incredible and cheap great sport bar and they have shuffle board and pool table '),\n",
       " ('1ROp6NSMYaXPqAjo8ubAtA',\n",
       "  'thank god for you brother you be an example to me in so many ways 1 your artistry you have find your call your splendor 2 your business acumen you run a tight ship i peep that first 10 00 bill the mayan the aztec be business people your ancestors be proud 3 you get out of cali and more importantly out of l a 4 you future you be opensource the fact that you see my vision of unity umoja bless you i know you dont have any idea what you tattoo on my right forearm http oto usa org all i can say be it have be a long time come i will be back mijo i hope you dont mind if i call you that you be so young you could be mine i would be a proud muejer yelp meet my artist he do it all consultation artistry i will travel now from sfo 415 to las 702 for my ink i have about 5 more in mind for now readers do you have a cool tattoo idea you want to see realize go to beneath the surface do you want to market your brand moniker logo etc my man also do other graphic service from graphic design to web site design i do not spend enough time here i be so happy i get my tatt here gabriel have a technique like no one i have ever meet he be dub the gentlest in the west he be deploy some jedi trick i felt the tattoo but i be amaze it be over so quickly he be the ghost tattoo er smooooooooooooooooooooth operator there be two other artists on staff they be hella cool too i felt the most relax i have ever felt get a tattoo i love the family atmoshpere la raza there be this cute little girl there cindy lou she tell me she do not work there i do believe gabby be sow the seed for the future this old girl love that i be at your disposal bts infodiva connection yelp look at the intricacy of my tattoo i be charge 80 buck i be quote as high as 200 00 some fool tell me he be the only artist who could do the tatto in las vegas gabriel do not break a sweat orale black and brown have to stick together 2008 be just the begin let look to 2017 caveat emptor buyer beware you have to educate yourself before you ink if you meet an artist like gabriel then you be bless alot of fool take advantage of the tattoo consumer the artists the majority of them white males like to take advantage of females viva las vegas this be yelp official tattoo parlor f ck the strip head to e flamingo i get a free tee shirt too and smut101 com stickers i want to know when i model hahaha '),\n",
       " ('J121PGT4oi5AqVbtMoEfVw',\n",
       "  'food have no taste i order the asado taco and as soon as i pick it up it fell apart the hard shell taco be very thin i take a bite and the meat have no taste pour some mild sauce to maybe bring out the flavor nothing pour the hot sauce nothing no taste  delicious homemade ice cream my favorites be the rise cheese and pistachio flavor their service be always great and theyll let you sample as many flavor as youd like i be very impress by how nice they be their aguas frescas be also very very good i try their pupusas and they be just ok not my favorite i will definitely be back for some sweets though '),\n",
       " ('WsIJixo-2iDc-V078c_afQ',\n",
       "  'raack n roll be a topless adults only comedy show that be locate in the showroom on the second level of the d las vegas hotel casino downtown on fremont street there be 5 girls and 1 comedian in the show that run about 80 minutes with 75 of the time base around sexy girls and 25 on the comedian host robert nash robert be an impressionist comedian the costume be skimpy of course but well put together expect to see dance cowgirls naughty nurse barely there bondage outfit and schoolgirls in short skirt i be impress with the choreography of the performers they make the show very enjoyable this be not just a bunch of ladies bounce around topless the act be well put together and orchestrate my favorite act be the slot machine that hit the jackpot with a nice set of win boobies a nice vegas twist or perhaps my favorite be the bath scene real water on what give the impression to be a fully nude entertainer have every man in the place star music alice cooper metalica alice in chain shinedown the beatles papa roach lead zeppelin korn and ac dc show days thursday mondayshow time 10 30pmtickets ticket 43 95 54 95 76 66 tax fee locals get buy one get one free ticket house seat have this show a lot if you want a good free show to check out  well there be good music ill give it that let start with the theater the way its design with the stage about 18 below the front row of table if youre not in the very front row the show consist of the back of the head of the people in front of you since they spend about 3 4 of the show roll around on the floor it be more like listen to old rock and roll in a dark room not that it matter those few time that my view wasnt obstruct it be of three women who would need implant to get up to an a cup and one who have the implant but they be clearly implant with concrete the comedian be just awful if i have pay for the ticket id have be extremely upset as it be i be just bore  fun show with a small stage you put you close to the action the girls have fun and the comedian be great his impersonations where spot on begin to end i get ticket to the show from a friend and be entertain begin to end  one of the benefit of live in las vegas be the large amount of talent and opportunity to see show raack n roll be a newer topless revue that move from hooters to the d the show be open by robert nash a look and sound alike for robert de niro he provide some comedy relief and quiet throughout the show hes quite good at what he do as with all impersonators hes much better with some than others of course he do de niro well his marlon brando be a little off but funny nonetheless now to the reason why i come to the show this be a topless revue and its well do the ladies be quite attractive and their dance be pretty good the big problem with the show be the venue the d have spend a lot of money renovate the property since they purchase it the showroom have a new entrance but the room itself remain pretty much unchanged that mean theres a low stage perhaps 2 feet raise from the floor when the ladies be do some move that have them low on the stage its difficult to see what theyre do if you really want to see them without anyone in your way get there early and hope for front seat the music be loud too loud i think basically hard rock of course im not the demographic to which theyre appeal the younger folks in the audience last night seem to be move with the beat a couple of my favorite scenes the woman on the swing to feelin good the mini bondage scene and of course the classroom scene where an audience member male get to join in the fun at school a few change to the show and a higher stage would earn this revue one more star ')]"
      ]
     },
     "execution_count": 19,
     "metadata": {},
     "output_type": "execute_result"
    }
   ],
   "source": [
    "prodReviewCollected.take(5)"
   ]
  },
  {
   "cell_type": "markdown",
   "metadata": {},
   "source": [
    "### Doc2Vec model creation"
   ]
  },
  {
   "cell_type": "code",
   "execution_count": 20,
   "metadata": {},
   "outputs": [
    {
     "name": "stderr",
     "output_type": "stream",
     "text": [
      "/Users/lakshya/anaconda/lib/python2.7/site-packages/sklearn/utils/fixes.py:313: FutureWarning: numpy not_equal will not check object identity in the future. The comparison did not return the same result as suggested by the identity (`is`)) and will change.\n",
      "  _nan_object_mask = _nan_object_array != _nan_object_array\n"
     ]
    }
   ],
   "source": [
    "from collections import namedtuple\n",
    "from gensim.models.doc2vec import Doc2Vec, TaggedDocument"
   ]
  },
  {
   "cell_type": "markdown",
   "metadata": {},
   "source": [
    "Convert user and product rdd to pandas dataframe"
   ]
  },
  {
   "cell_type": "code",
   "execution_count": 22,
   "metadata": {
    "collapsed": true
   },
   "outputs": [],
   "source": [
    "spark = SparkSession(sc)\n",
    "\n",
    "userPandas = userReviewCollected.toDF().toPandas()\n",
    "prodPandas = prodReviewCollected.toDF().toPandas()"
   ]
  },
  {
   "cell_type": "markdown",
   "metadata": {},
   "source": [
    "Create Doc2Vec model on product category text"
   ]
  },
  {
   "cell_type": "code",
   "execution_count": 23,
   "metadata": {
    "collapsed": true
   },
   "outputs": [],
   "source": [
    "documents = [TaggedDocument(doc, [i]) for i, doc in enumerate(prodPandas['_2'])]"
   ]
  },
  {
   "cell_type": "code",
   "execution_count": 24,
   "metadata": {},
   "outputs": [
    {
     "data": {
      "text/plain": [
       "(9067, 138470)"
      ]
     },
     "execution_count": 24,
     "metadata": {},
     "output_type": "execute_result"
    }
   ],
   "source": [
    "documents"
   ]
  },
  {
   "cell_type": "code",
   "execution_count": null,
   "metadata": {
    "collapsed": true
   },
   "outputs": [],
   "source": [
    "model = Doc2Vec(documents, size = 2000, min_count = 1, workers=4)"
   ]
  },
  {
   "cell_type": "code",
   "execution_count": null,
   "metadata": {
    "collapsed": true
   },
   "outputs": [],
   "source": [
    "feature_vectors = []\n",
    "for i in range(0, len(model.docvecs)):\n",
    "    feature_vectors.append(model.docvecs[i])"
   ]
  },
  {
   "cell_type": "markdown",
   "metadata": {},
   "source": [
    "Add Doc2Vec vectors to product dataframe"
   ]
  },
  {
   "cell_type": "code",
   "execution_count": 25,
   "metadata": {
    "collapsed": true
   },
   "outputs": [],
   "source": [
    "prodPandas['Vector'] = feature_vectors"
   ]
  },
  {
   "cell_type": "code",
   "execution_count": 26,
   "metadata": {},
   "outputs": [
    {
     "data": {
      "text/html": [
       "<div>\n",
       "<style>\n",
       "    .dataframe thead tr:only-child th {\n",
       "        text-align: right;\n",
       "    }\n",
       "\n",
       "    .dataframe thead th {\n",
       "        text-align: left;\n",
       "    }\n",
       "\n",
       "    .dataframe tbody tr th {\n",
       "        vertical-align: top;\n",
       "    }\n",
       "</style>\n",
       "<table border=\"1\" class=\"dataframe\">\n",
       "  <thead>\n",
       "    <tr style=\"text-align: right;\">\n",
       "      <th></th>\n",
       "      <th>_1</th>\n",
       "      <th>_2</th>\n",
       "      <th>Vector</th>\n",
       "    </tr>\n",
       "  </thead>\n",
       "  <tbody>\n",
       "    <tr>\n",
       "      <th>0</th>\n",
       "      <td>ZHRBiaHmqdwyXPNsETqKCw</td>\n",
       "      <td>huge annual event with plenty of panel and pho...</td>\n",
       "      <td>[0.0, 0.0, 0.0, 0.0, 0.0, 0.0, 0.0, 0.0, 0.0, ...</td>\n",
       "    </tr>\n",
       "    <tr>\n",
       "      <th>1</th>\n",
       "      <td>X11JfeIVH9d6qMrDqA-N7A</td>\n",
       "      <td>i come to scooters to watch las vegas wrangler...</td>\n",
       "      <td>[0.00353394626436, 0.0, 0.0, 0.0, 0.0, 0.0, 0....</td>\n",
       "    </tr>\n",
       "    <tr>\n",
       "      <th>2</th>\n",
       "      <td>1ROp6NSMYaXPqAjo8ubAtA</td>\n",
       "      <td>thank god for you brother you be an example to...</td>\n",
       "      <td>[0.0490698325252, 0.0, 0.0, 0.0, 0.0, 0.0, 0.0...</td>\n",
       "    </tr>\n",
       "    <tr>\n",
       "      <th>3</th>\n",
       "      <td>J121PGT4oi5AqVbtMoEfVw</td>\n",
       "      <td>food have no taste i order the asado taco and ...</td>\n",
       "      <td>[0.0, 0.0, 0.0, 0.0, 0.0, 0.0, 0.0, 0.0, 0.0, ...</td>\n",
       "    </tr>\n",
       "    <tr>\n",
       "      <th>4</th>\n",
       "      <td>WsIJixo-2iDc-V078c_afQ</td>\n",
       "      <td>raack n roll be a topless adults only comedy s...</td>\n",
       "      <td>[0.0, 0.0, 0.0, 0.0, 0.0, 0.0, 0.0, 0.0, 0.0, ...</td>\n",
       "    </tr>\n",
       "    <tr>\n",
       "      <th>5</th>\n",
       "      <td>7RidnmyYyH0cfcX2x7buag</td>\n",
       "      <td>my mother live in this community so ive eat he...</td>\n",
       "      <td>[0.0, 0.0, 0.0, 0.0, 0.0, 0.0, 0.0, 0.05750714...</td>\n",
       "    </tr>\n",
       "    <tr>\n",
       "      <th>6</th>\n",
       "      <td>BjPph9SbmEfox2vip326PQ</td>\n",
       "      <td>this be the second time ive be in the last few...</td>\n",
       "      <td>[0.0, 0.0, 0.0, 0.0, 0.0, 0.0, 0.0, 0.0, 0.0, ...</td>\n",
       "    </tr>\n",
       "    <tr>\n",
       "      <th>7</th>\n",
       "      <td>rfwJFFzW6xW2qYfJh14OTA</td>\n",
       "      <td>oh man this show be a strip show a really real...</td>\n",
       "      <td>[0.0110202632102, 0.0, 0.0, 0.0, 0.0, 0.0, 0.0...</td>\n",
       "    </tr>\n",
       "    <tr>\n",
       "      <th>8</th>\n",
       "      <td>i_pI9XnOgJ93cq85Ot06OQ</td>\n",
       "      <td>when i think about this place think about smal...</td>\n",
       "      <td>[0.0, 0.0, 0.0, 0.0, 0.0, 0.0, 0.0, 0.0, 0.0, ...</td>\n",
       "    </tr>\n",
       "    <tr>\n",
       "      <th>9</th>\n",
       "      <td>CxzUdREgfS4ymtXFSREf8Q</td>\n",
       "      <td>so be drive down the road and we see this sign...</td>\n",
       "      <td>[0.0, 0.0, 0.0, 0.0, 0.0, 0.0, 0.0, 0.0, 0.0, ...</td>\n",
       "    </tr>\n",
       "    <tr>\n",
       "      <th>10</th>\n",
       "      <td>YBNmWKk0c_yMGGv24gCrXQ</td>\n",
       "      <td>i would not return without strong coax the foo...</td>\n",
       "      <td>[0.0, 0.0, 0.0, 0.0, 0.0, 0.0, 0.0, 0.0, 0.0, ...</td>\n",
       "    </tr>\n",
       "    <tr>\n",
       "      <th>11</th>\n",
       "      <td>uGcC3CKAolcwfOTMjjoexQ</td>\n",
       "      <td>ive be to several smashburgers and to this one...</td>\n",
       "      <td>[0.0014367543066, 0.0, 0.0, 0.0, 0.0, 0.0, 0.0...</td>\n",
       "    </tr>\n",
       "    <tr>\n",
       "      <th>12</th>\n",
       "      <td>8tMy7yEeNVYylVVFRlPmdQ</td>\n",
       "      <td>while i give boteco five star and they certain...</td>\n",
       "      <td>[0.0, 0.0, 0.0, 0.0, 0.0, 0.0, 0.0, 0.0, 0.0, ...</td>\n",
       "    </tr>\n",
       "    <tr>\n",
       "      <th>13</th>\n",
       "      <td>lINk_EU_elY6iTrfUGcRqg</td>\n",
       "      <td>i usually dont like chicken but when i do its ...</td>\n",
       "      <td>[0.0128972708075, 0.0, 0.0, 0.0, 0.0, 0.0, 0.0...</td>\n",
       "    </tr>\n",
       "    <tr>\n",
       "      <th>14</th>\n",
       "      <td>CWh5Jvne98_jz0GO7hbzHw</td>\n",
       "      <td>this tour be fun we stop at 6 different place ...</td>\n",
       "      <td>[0.0, 0.0, 0.0, 0.0, 0.0, 0.0, 0.0, 0.0, 0.0, ...</td>\n",
       "    </tr>\n",
       "    <tr>\n",
       "      <th>15</th>\n",
       "      <td>DyYS-JKXlW2PCr_Gt5JOvQ</td>\n",
       "      <td>hey what can you say its a 9ers bar love the s...</td>\n",
       "      <td>[0.0, 0.0, 0.0, 0.0, 0.0, 0.0, 0.0, 0.0, 0.0, ...</td>\n",
       "    </tr>\n",
       "    <tr>\n",
       "      <th>16</th>\n",
       "      <td>SHxC7w-cTfgsBk6KnSokNg</td>\n",
       "      <td>i frequent this f e because i work in this nei...</td>\n",
       "      <td>[0.0, 0.0, 0.0, 0.0, 0.0, 0.0, 0.0, 0.0, 0.0, ...</td>\n",
       "    </tr>\n",
       "    <tr>\n",
       "      <th>17</th>\n",
       "      <td>5I8VE_KBcDhh6uzdt5hwTg</td>\n",
       "      <td>im really not sure where to start but a millio...</td>\n",
       "      <td>[0.0, 0.0, 0.0, 0.0, 0.0, 0.0, 0.0, 0.0, 0.0, ...</td>\n",
       "    </tr>\n",
       "    <tr>\n",
       "      <th>18</th>\n",
       "      <td>QRiD5K1s91_zuWyAEvKwig</td>\n",
       "      <td>i saw angelas review and it perk my interest s...</td>\n",
       "      <td>[0.0, 0.0, 0.0, 0.0, 0.0, 0.0, 0.0, 0.0, 0.0, ...</td>\n",
       "    </tr>\n",
       "    <tr>\n",
       "      <th>19</th>\n",
       "      <td>jV-p3USnEP9WwOGDgzkYTA</td>\n",
       "      <td>we love subways here at home in ca this one be...</td>\n",
       "      <td>[0.0, 0.0, 0.0, 0.0, 0.0, 0.0, 0.0, 0.0, 0.0, ...</td>\n",
       "    </tr>\n",
       "    <tr>\n",
       "      <th>20</th>\n",
       "      <td>YK5eFV8uS1bCmp8GeiQ-Qg</td>\n",
       "      <td>on my visit to asd k i have the pleasure of ge...</td>\n",
       "      <td>[0.0, 0.0, 0.0, 0.0, 0.0, 0.0, 0.0, 0.0, 0.0, ...</td>\n",
       "    </tr>\n",
       "    <tr>\n",
       "      <th>21</th>\n",
       "      <td>UV2Jt8slktGu14gLZeNCjA</td>\n",
       "      <td>mint be my go to place for indian food in town...</td>\n",
       "      <td>[0.00143879885195, 0.0, 0.0, 0.0, 0.0, 0.0, 0....</td>\n",
       "    </tr>\n",
       "    <tr>\n",
       "      <th>22</th>\n",
       "      <td>7PtKr_0IX3bLbTbIT6_HrA</td>\n",
       "      <td>try this place out for the first time a little...</td>\n",
       "      <td>[0.0, 0.0, 0.0, 0.0, 0.0, 0.0, 0.0, 0.0, 0.0, ...</td>\n",
       "    </tr>\n",
       "    <tr>\n",
       "      <th>23</th>\n",
       "      <td>D2t3yDnG-HI17YOsiiWIuw</td>\n",
       "      <td>ask for a burger plain get the burger wasnt pl...</td>\n",
       "      <td>[0.0307894975407, 0.0, 0.0, 0.0, 0.0, 0.0, 0.0...</td>\n",
       "    </tr>\n",
       "    <tr>\n",
       "      <th>24</th>\n",
       "      <td>Zx4iQCmQfAaXvwPc3TlF9Q</td>\n",
       "      <td>this place be like go back to the 50s bar or e...</td>\n",
       "      <td>[0.0, 0.0, 0.0, 0.0, 0.0, 0.0, 0.0, 0.0, 0.0, ...</td>\n",
       "    </tr>\n",
       "    <tr>\n",
       "      <th>25</th>\n",
       "      <td>pybIuTluqRhH_BQ3CJHlLw</td>\n",
       "      <td>well here we go like the pad thai like the spa...</td>\n",
       "      <td>[0.0, 0.0, 0.0, 0.0, 0.0, 0.0, 0.0, 0.0, 0.0, ...</td>\n",
       "    </tr>\n",
       "    <tr>\n",
       "      <th>26</th>\n",
       "      <td>Ls89UV4aSRE8eW2Pj_LaWg</td>\n",
       "      <td>we have ticket for a show at the house of blue...</td>\n",
       "      <td>[0.0, 0.0, 0.0, 0.0, 0.0, 0.0, 0.0, 0.0, 0.0, ...</td>\n",
       "    </tr>\n",
       "    <tr>\n",
       "      <th>27</th>\n",
       "      <td>PgJgpW4TKQ8IoALH2Yq-zA</td>\n",
       "      <td>we go at lunch and for a major vegas buffet th...</td>\n",
       "      <td>[0.0102641253785, 0.0, 0.0, 0.0, 0.0, 0.0, 0.0...</td>\n",
       "    </tr>\n",
       "    <tr>\n",
       "      <th>28</th>\n",
       "      <td>A81a8oV8DAxnGLY2_r8dUQ</td>\n",
       "      <td>be a full time college student im always on a ...</td>\n",
       "      <td>[0.0, 0.0, 0.0, 0.0, 0.0, 0.0, 0.0, 0.0, 0.0, ...</td>\n",
       "    </tr>\n",
       "    <tr>\n",
       "      <th>29</th>\n",
       "      <td>apATPHcdiWr-Tgywu6mvHg</td>\n",
       "      <td>i have always have good food at this location ...</td>\n",
       "      <td>[0.0, 0.0, 0.0, 0.0, 0.0, 0.0, 0.0, 0.0, 0.0, ...</td>\n",
       "    </tr>\n",
       "    <tr>\n",
       "      <th>...</th>\n",
       "      <td>...</td>\n",
       "      <td>...</td>\n",
       "      <td>...</td>\n",
       "    </tr>\n",
       "    <tr>\n",
       "      <th>9037</th>\n",
       "      <td>A5_opCP5Gq_x1pI8ZbVa2g</td>\n",
       "      <td>great cast i love musicals and ive see many ov...</td>\n",
       "      <td>[0.00574514668171, 0.0, 0.0, 0.0, 0.0, 0.0, 0....</td>\n",
       "    </tr>\n",
       "    <tr>\n",
       "      <th>9038</th>\n",
       "      <td>k1PkpDm5d5pYJI1K_3UYpw</td>\n",
       "      <td>this be a national chain hot doggery they neve...</td>\n",
       "      <td>[0.0, 0.0, 0.0, 0.0, 0.0, 0.0, 0.0, 0.0, 0.0, ...</td>\n",
       "    </tr>\n",
       "    <tr>\n",
       "      <th>9039</th>\n",
       "      <td>CyOzPbebpXrvWPCMVWrb0Q</td>\n",
       "      <td>gnc general nutrition center they have be arou...</td>\n",
       "      <td>[0.0, 0.0, 0.0, 0.0, 0.0, 0.0, 0.0, 0.0, 0.0, ...</td>\n",
       "    </tr>\n",
       "    <tr>\n",
       "      <th>9040</th>\n",
       "      <td>WY630Bgo202sOpiT57EN5g</td>\n",
       "      <td>i be about to risk lose all of my yelp credibi...</td>\n",
       "      <td>[0.0, 0.0, 0.0, 0.0, 0.0, 0.0, 0.0, 0.0, 0.0, ...</td>\n",
       "    </tr>\n",
       "    <tr>\n",
       "      <th>9041</th>\n",
       "      <td>jVYWAgzNifzNXRsGf2lTGA</td>\n",
       "      <td>im not even go to attempt to describe the plot...</td>\n",
       "      <td>[0.0, 0.0, 0.0, 0.0, 0.0, 0.0, 0.0, 0.0, 0.0, ...</td>\n",
       "    </tr>\n",
       "    <tr>\n",
       "      <th>9042</th>\n",
       "      <td>snijUVBxAMcFR4w-qHrYLw</td>\n",
       "      <td>friday night in search of a jazz bad we find t...</td>\n",
       "      <td>[0.0192045715378, 0.0, 0.0, 0.0, 0.0, 0.0, 0.0...</td>\n",
       "    </tr>\n",
       "    <tr>\n",
       "      <th>9043</th>\n",
       "      <td>b24sTA2JkHB4joNlNkBkfQ</td>\n",
       "      <td>huge panini but it be mostly bread it do not h...</td>\n",
       "      <td>[0.0, 0.0, 0.0, 0.0, 0.0, 0.0, 0.0, 0.0, 0.0, ...</td>\n",
       "    </tr>\n",
       "    <tr>\n",
       "      <th>9044</th>\n",
       "      <td>picDofnpIoVEqGmQiRiyOg</td>\n",
       "      <td>this jamba juice be locate in the miracle mile...</td>\n",
       "      <td>[0.0, 0.0, 0.0, 0.0, 0.0, 0.0, 0.0, 0.0, 0.0, ...</td>\n",
       "    </tr>\n",
       "    <tr>\n",
       "      <th>9045</th>\n",
       "      <td>pTUXKIaqVulbHKW9VS3sBw</td>\n",
       "      <td>this place have great coffee if you can find i...</td>\n",
       "      <td>[0.0, 0.0, 0.0, 0.0, 0.0, 0.0, 0.0, 0.0, 0.0, ...</td>\n",
       "    </tr>\n",
       "    <tr>\n",
       "      <th>9046</th>\n",
       "      <td>0AZCpDQpbi83NHh9uEpggQ</td>\n",
       "      <td>overall not bad just a bite institutional park...</td>\n",
       "      <td>[0.016036516977, 0.0, 0.0, 0.0, 0.0, 0.0, 0.0,...</td>\n",
       "    </tr>\n",
       "    <tr>\n",
       "      <th>9047</th>\n",
       "      <td>AQKOuwrOCacAhd-jfFMABA</td>\n",
       "      <td>yikes and meh be the two word that come to min...</td>\n",
       "      <td>[0.0, 0.0, 0.0, 0.0, 0.0, 0.0, 0.0, 0.0, 0.0, ...</td>\n",
       "    </tr>\n",
       "    <tr>\n",
       "      <th>9048</th>\n",
       "      <td>BIBWGO_r_1znnlmLbp4Nxg</td>\n",
       "      <td>all downtown casinos be smelly filthy bore sma...</td>\n",
       "      <td>[0.00529595306989, 0.0, 0.0, 0.0, 0.0, 0.0, 0....</td>\n",
       "    </tr>\n",
       "    <tr>\n",
       "      <th>9049</th>\n",
       "      <td>5O7qB4gNmr3NgdYAuYbP4Q</td>\n",
       "      <td>i be so glad this curry house replace the toky...</td>\n",
       "      <td>[0.011204051349, 0.0, 0.0, 0.0, 0.0, 0.0, 0.0,...</td>\n",
       "    </tr>\n",
       "    <tr>\n",
       "      <th>9050</th>\n",
       "      <td>26qWU1er-B1ofp47_ZjD0w</td>\n",
       "      <td>i go here last saturday and be expect an older...</td>\n",
       "      <td>[0.0, 0.0, 0.0, 0.0, 0.0, 0.0, 0.0, 0.0, 0.0, ...</td>\n",
       "    </tr>\n",
       "    <tr>\n",
       "      <th>9051</th>\n",
       "      <td>Agii0kB27oRycEaLCE-4lQ</td>\n",
       "      <td>i have to knock one star off for the less than...</td>\n",
       "      <td>[0.0, 0.0, 0.0, 0.0, 0.0, 0.0, 0.0, 0.0, 0.0, ...</td>\n",
       "    </tr>\n",
       "    <tr>\n",
       "      <th>9052</th>\n",
       "      <td>YI08egmS9lWWB6N6MmrePw</td>\n",
       "      <td>update i love their salmon bowl i dont know wh...</td>\n",
       "      <td>[0.0, 0.0, 0.0, 0.0, 0.0, 0.0, 0.0, 0.0, 0.0, ...</td>\n",
       "    </tr>\n",
       "    <tr>\n",
       "      <th>9053</th>\n",
       "      <td>Atl8iOP1SVvt2sJ-Z3wfMQ</td>\n",
       "      <td>we just stop once but as far as i can tell the...</td>\n",
       "      <td>[0.0, 0.0, 0.0, 0.0, 0.0, 0.0, 0.0, 0.0, 0.0, ...</td>\n",
       "    </tr>\n",
       "    <tr>\n",
       "      <th>9054</th>\n",
       "      <td>TeROyt2GK3VuGnuKIq1fwg</td>\n",
       "      <td>i love this festival and come each year unfort...</td>\n",
       "      <td>[0.0, 0.0, 0.0, 0.0, 0.0, 0.0, 0.0, 0.0, 0.0, ...</td>\n",
       "    </tr>\n",
       "    <tr>\n",
       "      <th>9055</th>\n",
       "      <td>4GXII-GU7S0ZyU6ElkhscQ</td>\n",
       "      <td>the casino after more than 12 trip to vegas in...</td>\n",
       "      <td>[0.00316895896762, 0.00188527967879, 0.0, 0.0,...</td>\n",
       "    </tr>\n",
       "    <tr>\n",
       "      <th>9056</th>\n",
       "      <td>Rhh2B67FhtwGUfWaaOzzVg</td>\n",
       "      <td>there be not many place in the legal district ...</td>\n",
       "      <td>[0.0, 0.0, 0.0, 0.0, 0.0, 0.0, 0.0, 0.0, 0.0, ...</td>\n",
       "    </tr>\n",
       "    <tr>\n",
       "      <th>9057</th>\n",
       "      <td>PQQQKu5lD8F0Rg9MxrGcgQ</td>\n",
       "      <td>extremely cheap and good drink pool table musi...</td>\n",
       "      <td>[0.0, 0.0, 0.0, 0.0, 0.0, 0.0, 0.0, 0.0, 0.0, ...</td>\n",
       "    </tr>\n",
       "    <tr>\n",
       "      <th>9058</th>\n",
       "      <td>yYkvonvBGZB6UMnpzr6Ryw</td>\n",
       "      <td>this location can never get my order right i a...</td>\n",
       "      <td>[0.0, 0.0, 0.0, 0.0, 0.0, 0.0, 0.0, 0.0, 0.0, ...</td>\n",
       "    </tr>\n",
       "    <tr>\n",
       "      <th>9059</th>\n",
       "      <td>4s_kb5VXnx96fEJLZ_AkIQ</td>\n",
       "      <td>by far one of the fanciest mcdonalds i have ev...</td>\n",
       "      <td>[0.0, 0.0, 0.0, 0.0, 0.0, 0.0, 0.0, 0.0, 0.0, ...</td>\n",
       "    </tr>\n",
       "    <tr>\n",
       "      <th>9060</th>\n",
       "      <td>bw4X3r0UKGHdhDjawLZp5g</td>\n",
       "      <td>not sure why this place have only two review i...</td>\n",
       "      <td>[0.0, 0.0, 0.0, 0.0, 0.0, 0.0, 0.0, 0.0, 0.0, ...</td>\n",
       "    </tr>\n",
       "    <tr>\n",
       "      <th>9061</th>\n",
       "      <td>85VsT6NwmbnN1zd_U47TzA</td>\n",
       "      <td>this be my favorite of two starbucks at the mg...</td>\n",
       "      <td>[0.0, 0.0, 0.0, 0.0, 0.0, 0.0, 0.0, 0.0, 0.0, ...</td>\n",
       "    </tr>\n",
       "    <tr>\n",
       "      <th>9062</th>\n",
       "      <td>Fib1pHk5oeh_9iwObSNgEQ</td>\n",
       "      <td>what an amaze experience i be worry about play...</td>\n",
       "      <td>[0.0, 0.0, 0.0, 0.0, 0.0, 0.0, 0.0, 0.0, 0.0, ...</td>\n",
       "    </tr>\n",
       "    <tr>\n",
       "      <th>9063</th>\n",
       "      <td>S1Bs_x9aHFFZozwJLCNTgQ</td>\n",
       "      <td>i cant believe i have never review chicken bon...</td>\n",
       "      <td>[0.0, 0.0, 0.0, 0.0, 0.0, 0.0, 0.0, 0.0, 0.0, ...</td>\n",
       "    </tr>\n",
       "    <tr>\n",
       "      <th>9064</th>\n",
       "      <td>MMvrkQsrZJviAz2sLd_voQ</td>\n",
       "      <td>with a name like kung fu chef this place doesn...</td>\n",
       "      <td>[0.0, 0.0, 0.0, 0.0, 0.0, 0.0, 0.0, 0.0, 0.0, ...</td>\n",
       "    </tr>\n",
       "    <tr>\n",
       "      <th>9065</th>\n",
       "      <td>zsQk990PubOHjr1YcLkQFw</td>\n",
       "      <td>my family and i order 4 sandwich 3 special and...</td>\n",
       "      <td>[0.00149054129047, 0.0, 0.0, 0.0, 0.0, 0.0, 0....</td>\n",
       "    </tr>\n",
       "    <tr>\n",
       "      <th>9066</th>\n",
       "      <td>qls0Ah0A95RkvKd8yA1GLA</td>\n",
       "      <td>my first review back after a long hiatus now h...</td>\n",
       "      <td>[0.0, 0.0, 0.0, 0.0, 0.0, 0.0, 0.0, 0.0, 0.0, ...</td>\n",
       "    </tr>\n",
       "  </tbody>\n",
       "</table>\n",
       "<p>9067 rows × 3 columns</p>\n",
       "</div>"
      ],
      "text/plain": [
       "                          _1  \\\n",
       "0     ZHRBiaHmqdwyXPNsETqKCw   \n",
       "1     X11JfeIVH9d6qMrDqA-N7A   \n",
       "2     1ROp6NSMYaXPqAjo8ubAtA   \n",
       "3     J121PGT4oi5AqVbtMoEfVw   \n",
       "4     WsIJixo-2iDc-V078c_afQ   \n",
       "5     7RidnmyYyH0cfcX2x7buag   \n",
       "6     BjPph9SbmEfox2vip326PQ   \n",
       "7     rfwJFFzW6xW2qYfJh14OTA   \n",
       "8     i_pI9XnOgJ93cq85Ot06OQ   \n",
       "9     CxzUdREgfS4ymtXFSREf8Q   \n",
       "10    YBNmWKk0c_yMGGv24gCrXQ   \n",
       "11    uGcC3CKAolcwfOTMjjoexQ   \n",
       "12    8tMy7yEeNVYylVVFRlPmdQ   \n",
       "13    lINk_EU_elY6iTrfUGcRqg   \n",
       "14    CWh5Jvne98_jz0GO7hbzHw   \n",
       "15    DyYS-JKXlW2PCr_Gt5JOvQ   \n",
       "16    SHxC7w-cTfgsBk6KnSokNg   \n",
       "17    5I8VE_KBcDhh6uzdt5hwTg   \n",
       "18    QRiD5K1s91_zuWyAEvKwig   \n",
       "19    jV-p3USnEP9WwOGDgzkYTA   \n",
       "20    YK5eFV8uS1bCmp8GeiQ-Qg   \n",
       "21    UV2Jt8slktGu14gLZeNCjA   \n",
       "22    7PtKr_0IX3bLbTbIT6_HrA   \n",
       "23    D2t3yDnG-HI17YOsiiWIuw   \n",
       "24    Zx4iQCmQfAaXvwPc3TlF9Q   \n",
       "25    pybIuTluqRhH_BQ3CJHlLw   \n",
       "26    Ls89UV4aSRE8eW2Pj_LaWg   \n",
       "27    PgJgpW4TKQ8IoALH2Yq-zA   \n",
       "28    A81a8oV8DAxnGLY2_r8dUQ   \n",
       "29    apATPHcdiWr-Tgywu6mvHg   \n",
       "...                      ...   \n",
       "9037  A5_opCP5Gq_x1pI8ZbVa2g   \n",
       "9038  k1PkpDm5d5pYJI1K_3UYpw   \n",
       "9039  CyOzPbebpXrvWPCMVWrb0Q   \n",
       "9040  WY630Bgo202sOpiT57EN5g   \n",
       "9041  jVYWAgzNifzNXRsGf2lTGA   \n",
       "9042  snijUVBxAMcFR4w-qHrYLw   \n",
       "9043  b24sTA2JkHB4joNlNkBkfQ   \n",
       "9044  picDofnpIoVEqGmQiRiyOg   \n",
       "9045  pTUXKIaqVulbHKW9VS3sBw   \n",
       "9046  0AZCpDQpbi83NHh9uEpggQ   \n",
       "9047  AQKOuwrOCacAhd-jfFMABA   \n",
       "9048  BIBWGO_r_1znnlmLbp4Nxg   \n",
       "9049  5O7qB4gNmr3NgdYAuYbP4Q   \n",
       "9050  26qWU1er-B1ofp47_ZjD0w   \n",
       "9051  Agii0kB27oRycEaLCE-4lQ   \n",
       "9052  YI08egmS9lWWB6N6MmrePw   \n",
       "9053  Atl8iOP1SVvt2sJ-Z3wfMQ   \n",
       "9054  TeROyt2GK3VuGnuKIq1fwg   \n",
       "9055  4GXII-GU7S0ZyU6ElkhscQ   \n",
       "9056  Rhh2B67FhtwGUfWaaOzzVg   \n",
       "9057  PQQQKu5lD8F0Rg9MxrGcgQ   \n",
       "9058  yYkvonvBGZB6UMnpzr6Ryw   \n",
       "9059  4s_kb5VXnx96fEJLZ_AkIQ   \n",
       "9060  bw4X3r0UKGHdhDjawLZp5g   \n",
       "9061  85VsT6NwmbnN1zd_U47TzA   \n",
       "9062  Fib1pHk5oeh_9iwObSNgEQ   \n",
       "9063  S1Bs_x9aHFFZozwJLCNTgQ   \n",
       "9064  MMvrkQsrZJviAz2sLd_voQ   \n",
       "9065  zsQk990PubOHjr1YcLkQFw   \n",
       "9066  qls0Ah0A95RkvKd8yA1GLA   \n",
       "\n",
       "                                                     _2  \\\n",
       "0     huge annual event with plenty of panel and pho...   \n",
       "1     i come to scooters to watch las vegas wrangler...   \n",
       "2     thank god for you brother you be an example to...   \n",
       "3     food have no taste i order the asado taco and ...   \n",
       "4     raack n roll be a topless adults only comedy s...   \n",
       "5     my mother live in this community so ive eat he...   \n",
       "6     this be the second time ive be in the last few...   \n",
       "7     oh man this show be a strip show a really real...   \n",
       "8     when i think about this place think about smal...   \n",
       "9     so be drive down the road and we see this sign...   \n",
       "10    i would not return without strong coax the foo...   \n",
       "11    ive be to several smashburgers and to this one...   \n",
       "12    while i give boteco five star and they certain...   \n",
       "13    i usually dont like chicken but when i do its ...   \n",
       "14    this tour be fun we stop at 6 different place ...   \n",
       "15    hey what can you say its a 9ers bar love the s...   \n",
       "16    i frequent this f e because i work in this nei...   \n",
       "17    im really not sure where to start but a millio...   \n",
       "18    i saw angelas review and it perk my interest s...   \n",
       "19    we love subways here at home in ca this one be...   \n",
       "20    on my visit to asd k i have the pleasure of ge...   \n",
       "21    mint be my go to place for indian food in town...   \n",
       "22    try this place out for the first time a little...   \n",
       "23    ask for a burger plain get the burger wasnt pl...   \n",
       "24    this place be like go back to the 50s bar or e...   \n",
       "25    well here we go like the pad thai like the spa...   \n",
       "26    we have ticket for a show at the house of blue...   \n",
       "27    we go at lunch and for a major vegas buffet th...   \n",
       "28    be a full time college student im always on a ...   \n",
       "29    i have always have good food at this location ...   \n",
       "...                                                 ...   \n",
       "9037  great cast i love musicals and ive see many ov...   \n",
       "9038  this be a national chain hot doggery they neve...   \n",
       "9039  gnc general nutrition center they have be arou...   \n",
       "9040  i be about to risk lose all of my yelp credibi...   \n",
       "9041  im not even go to attempt to describe the plot...   \n",
       "9042  friday night in search of a jazz bad we find t...   \n",
       "9043  huge panini but it be mostly bread it do not h...   \n",
       "9044  this jamba juice be locate in the miracle mile...   \n",
       "9045  this place have great coffee if you can find i...   \n",
       "9046  overall not bad just a bite institutional park...   \n",
       "9047  yikes and meh be the two word that come to min...   \n",
       "9048  all downtown casinos be smelly filthy bore sma...   \n",
       "9049  i be so glad this curry house replace the toky...   \n",
       "9050  i go here last saturday and be expect an older...   \n",
       "9051  i have to knock one star off for the less than...   \n",
       "9052  update i love their salmon bowl i dont know wh...   \n",
       "9053  we just stop once but as far as i can tell the...   \n",
       "9054  i love this festival and come each year unfort...   \n",
       "9055  the casino after more than 12 trip to vegas in...   \n",
       "9056  there be not many place in the legal district ...   \n",
       "9057  extremely cheap and good drink pool table musi...   \n",
       "9058  this location can never get my order right i a...   \n",
       "9059  by far one of the fanciest mcdonalds i have ev...   \n",
       "9060  not sure why this place have only two review i...   \n",
       "9061  this be my favorite of two starbucks at the mg...   \n",
       "9062  what an amaze experience i be worry about play...   \n",
       "9063  i cant believe i have never review chicken bon...   \n",
       "9064  with a name like kung fu chef this place doesn...   \n",
       "9065  my family and i order 4 sandwich 3 special and...   \n",
       "9066  my first review back after a long hiatus now h...   \n",
       "\n",
       "                                                 Vector  \n",
       "0     [0.0, 0.0, 0.0, 0.0, 0.0, 0.0, 0.0, 0.0, 0.0, ...  \n",
       "1     [0.00353394626436, 0.0, 0.0, 0.0, 0.0, 0.0, 0....  \n",
       "2     [0.0490698325252, 0.0, 0.0, 0.0, 0.0, 0.0, 0.0...  \n",
       "3     [0.0, 0.0, 0.0, 0.0, 0.0, 0.0, 0.0, 0.0, 0.0, ...  \n",
       "4     [0.0, 0.0, 0.0, 0.0, 0.0, 0.0, 0.0, 0.0, 0.0, ...  \n",
       "5     [0.0, 0.0, 0.0, 0.0, 0.0, 0.0, 0.0, 0.05750714...  \n",
       "6     [0.0, 0.0, 0.0, 0.0, 0.0, 0.0, 0.0, 0.0, 0.0, ...  \n",
       "7     [0.0110202632102, 0.0, 0.0, 0.0, 0.0, 0.0, 0.0...  \n",
       "8     [0.0, 0.0, 0.0, 0.0, 0.0, 0.0, 0.0, 0.0, 0.0, ...  \n",
       "9     [0.0, 0.0, 0.0, 0.0, 0.0, 0.0, 0.0, 0.0, 0.0, ...  \n",
       "10    [0.0, 0.0, 0.0, 0.0, 0.0, 0.0, 0.0, 0.0, 0.0, ...  \n",
       "11    [0.0014367543066, 0.0, 0.0, 0.0, 0.0, 0.0, 0.0...  \n",
       "12    [0.0, 0.0, 0.0, 0.0, 0.0, 0.0, 0.0, 0.0, 0.0, ...  \n",
       "13    [0.0128972708075, 0.0, 0.0, 0.0, 0.0, 0.0, 0.0...  \n",
       "14    [0.0, 0.0, 0.0, 0.0, 0.0, 0.0, 0.0, 0.0, 0.0, ...  \n",
       "15    [0.0, 0.0, 0.0, 0.0, 0.0, 0.0, 0.0, 0.0, 0.0, ...  \n",
       "16    [0.0, 0.0, 0.0, 0.0, 0.0, 0.0, 0.0, 0.0, 0.0, ...  \n",
       "17    [0.0, 0.0, 0.0, 0.0, 0.0, 0.0, 0.0, 0.0, 0.0, ...  \n",
       "18    [0.0, 0.0, 0.0, 0.0, 0.0, 0.0, 0.0, 0.0, 0.0, ...  \n",
       "19    [0.0, 0.0, 0.0, 0.0, 0.0, 0.0, 0.0, 0.0, 0.0, ...  \n",
       "20    [0.0, 0.0, 0.0, 0.0, 0.0, 0.0, 0.0, 0.0, 0.0, ...  \n",
       "21    [0.00143879885195, 0.0, 0.0, 0.0, 0.0, 0.0, 0....  \n",
       "22    [0.0, 0.0, 0.0, 0.0, 0.0, 0.0, 0.0, 0.0, 0.0, ...  \n",
       "23    [0.0307894975407, 0.0, 0.0, 0.0, 0.0, 0.0, 0.0...  \n",
       "24    [0.0, 0.0, 0.0, 0.0, 0.0, 0.0, 0.0, 0.0, 0.0, ...  \n",
       "25    [0.0, 0.0, 0.0, 0.0, 0.0, 0.0, 0.0, 0.0, 0.0, ...  \n",
       "26    [0.0, 0.0, 0.0, 0.0, 0.0, 0.0, 0.0, 0.0, 0.0, ...  \n",
       "27    [0.0102641253785, 0.0, 0.0, 0.0, 0.0, 0.0, 0.0...  \n",
       "28    [0.0, 0.0, 0.0, 0.0, 0.0, 0.0, 0.0, 0.0, 0.0, ...  \n",
       "29    [0.0, 0.0, 0.0, 0.0, 0.0, 0.0, 0.0, 0.0, 0.0, ...  \n",
       "...                                                 ...  \n",
       "9037  [0.00574514668171, 0.0, 0.0, 0.0, 0.0, 0.0, 0....  \n",
       "9038  [0.0, 0.0, 0.0, 0.0, 0.0, 0.0, 0.0, 0.0, 0.0, ...  \n",
       "9039  [0.0, 0.0, 0.0, 0.0, 0.0, 0.0, 0.0, 0.0, 0.0, ...  \n",
       "9040  [0.0, 0.0, 0.0, 0.0, 0.0, 0.0, 0.0, 0.0, 0.0, ...  \n",
       "9041  [0.0, 0.0, 0.0, 0.0, 0.0, 0.0, 0.0, 0.0, 0.0, ...  \n",
       "9042  [0.0192045715378, 0.0, 0.0, 0.0, 0.0, 0.0, 0.0...  \n",
       "9043  [0.0, 0.0, 0.0, 0.0, 0.0, 0.0, 0.0, 0.0, 0.0, ...  \n",
       "9044  [0.0, 0.0, 0.0, 0.0, 0.0, 0.0, 0.0, 0.0, 0.0, ...  \n",
       "9045  [0.0, 0.0, 0.0, 0.0, 0.0, 0.0, 0.0, 0.0, 0.0, ...  \n",
       "9046  [0.016036516977, 0.0, 0.0, 0.0, 0.0, 0.0, 0.0,...  \n",
       "9047  [0.0, 0.0, 0.0, 0.0, 0.0, 0.0, 0.0, 0.0, 0.0, ...  \n",
       "9048  [0.00529595306989, 0.0, 0.0, 0.0, 0.0, 0.0, 0....  \n",
       "9049  [0.011204051349, 0.0, 0.0, 0.0, 0.0, 0.0, 0.0,...  \n",
       "9050  [0.0, 0.0, 0.0, 0.0, 0.0, 0.0, 0.0, 0.0, 0.0, ...  \n",
       "9051  [0.0, 0.0, 0.0, 0.0, 0.0, 0.0, 0.0, 0.0, 0.0, ...  \n",
       "9052  [0.0, 0.0, 0.0, 0.0, 0.0, 0.0, 0.0, 0.0, 0.0, ...  \n",
       "9053  [0.0, 0.0, 0.0, 0.0, 0.0, 0.0, 0.0, 0.0, 0.0, ...  \n",
       "9054  [0.0, 0.0, 0.0, 0.0, 0.0, 0.0, 0.0, 0.0, 0.0, ...  \n",
       "9055  [0.00316895896762, 0.00188527967879, 0.0, 0.0,...  \n",
       "9056  [0.0, 0.0, 0.0, 0.0, 0.0, 0.0, 0.0, 0.0, 0.0, ...  \n",
       "9057  [0.0, 0.0, 0.0, 0.0, 0.0, 0.0, 0.0, 0.0, 0.0, ...  \n",
       "9058  [0.0, 0.0, 0.0, 0.0, 0.0, 0.0, 0.0, 0.0, 0.0, ...  \n",
       "9059  [0.0, 0.0, 0.0, 0.0, 0.0, 0.0, 0.0, 0.0, 0.0, ...  \n",
       "9060  [0.0, 0.0, 0.0, 0.0, 0.0, 0.0, 0.0, 0.0, 0.0, ...  \n",
       "9061  [0.0, 0.0, 0.0, 0.0, 0.0, 0.0, 0.0, 0.0, 0.0, ...  \n",
       "9062  [0.0, 0.0, 0.0, 0.0, 0.0, 0.0, 0.0, 0.0, 0.0, ...  \n",
       "9063  [0.0, 0.0, 0.0, 0.0, 0.0, 0.0, 0.0, 0.0, 0.0, ...  \n",
       "9064  [0.0, 0.0, 0.0, 0.0, 0.0, 0.0, 0.0, 0.0, 0.0, ...  \n",
       "9065  [0.00149054129047, 0.0, 0.0, 0.0, 0.0, 0.0, 0....  \n",
       "9066  [0.0, 0.0, 0.0, 0.0, 0.0, 0.0, 0.0, 0.0, 0.0, ...  \n",
       "\n",
       "[9067 rows x 3 columns]"
      ]
     },
     "execution_count": 26,
     "metadata": {},
     "output_type": "execute_result"
    }
   ],
   "source": [
    "prodPandas"
   ]
  },
  {
   "cell_type": "markdown",
   "metadata": {},
   "source": [
    "Product category text not needed"
   ]
  },
  {
   "cell_type": "code",
   "execution_count": 27,
   "metadata": {
    "collapsed": true
   },
   "outputs": [],
   "source": [
    "del prodPandas['_2']"
   ]
  },
  {
   "cell_type": "markdown",
   "metadata": {},
   "source": [
    "### Weighted Linear Combination of product vectors for users"
   ]
  },
  {
   "cell_type": "code",
   "execution_count": null,
   "metadata": {
    "collapsed": true
   },
   "outputs": [],
   "source": [
    "userPandas['Vector'] = [[] for _ in range(len(userPandas))]"
   ]
  },
  {
   "cell_type": "code",
   "execution_count": 33,
   "metadata": {
    "collapsed": true
   },
   "outputs": [],
   "source": [
    "userPandas['_3'] = userPandas['_3'].astype(float)"
   ]
  },
  {
   "cell_type": "code",
   "execution_count": 34,
   "metadata": {
    "collapsed": true
   },
   "outputs": [],
   "source": [
    "for index, row in userPandas.iterrows():\n",
    "    vector = np.array(prodPandas.loc[prodPandas['_1'] == row['_2'], 'Vector'].values[0])\n",
    "    rating = row['_3']\n",
    "    userPandas.at[index,'Vector'] = rating*vector"
   ]
  },
  {
   "cell_type": "code",
   "execution_count": 35,
   "metadata": {},
   "outputs": [
    {
     "data": {
      "text/html": [
       "<div>\n",
       "<style>\n",
       "    .dataframe thead tr:only-child th {\n",
       "        text-align: right;\n",
       "    }\n",
       "\n",
       "    .dataframe thead th {\n",
       "        text-align: left;\n",
       "    }\n",
       "\n",
       "    .dataframe tbody tr th {\n",
       "        vertical-align: top;\n",
       "    }\n",
       "</style>\n",
       "<table border=\"1\" class=\"dataframe\">\n",
       "  <thead>\n",
       "    <tr style=\"text-align: right;\">\n",
       "      <th></th>\n",
       "      <th>_1</th>\n",
       "      <th>_2</th>\n",
       "      <th>_3</th>\n",
       "      <th>Vector</th>\n",
       "    </tr>\n",
       "  </thead>\n",
       "  <tbody>\n",
       "    <tr>\n",
       "      <th>0</th>\n",
       "      <td>3egcdazws_x1wW35jgXfNw</td>\n",
       "      <td>gae9LAyt7Qvf_OgAkWASxA</td>\n",
       "      <td>4.0</td>\n",
       "      <td>[0.0, 0.0, 0.0, 0.0, 0.0, 0.0, 0.0, 0.0, 0.0, ...</td>\n",
       "    </tr>\n",
       "    <tr>\n",
       "      <th>1</th>\n",
       "      <td>2JjI8DCyrpabtg36iL5lrw</td>\n",
       "      <td>YN8pgoAGNfk8J3LKmSVJ2w</td>\n",
       "      <td>3.0</td>\n",
       "      <td>[0.0, 0.0, 0.0, 0.0, 0.0, 0.0, 0.0, 0.0, 0.0, ...</td>\n",
       "    </tr>\n",
       "    <tr>\n",
       "      <th>2</th>\n",
       "      <td>eA-KLkSEq9RYt9-RfNZXCA</td>\n",
       "      <td>RYBGhnFtyZGjlREEfcRFrg</td>\n",
       "      <td>4.0</td>\n",
       "      <td>[0.0, 0.0, 0.0, 0.0, 0.0, 0.0, 0.0, 0.0, 0.0, ...</td>\n",
       "    </tr>\n",
       "    <tr>\n",
       "      <th>3</th>\n",
       "      <td>BxDsaVNeWxc5mNyA1HtSHQ</td>\n",
       "      <td>oeW0vIYd3rUnAPgmD4fEFg</td>\n",
       "      <td>5.0</td>\n",
       "      <td>[0.0469108080909, 0.0, 0.0, 0.0, 0.0, 0.0, 0.0...</td>\n",
       "    </tr>\n",
       "    <tr>\n",
       "      <th>4</th>\n",
       "      <td>jlWYqr9IGLQrSRowtsKf4g</td>\n",
       "      <td>CsbNmQqu9dKFrgcIItevYA</td>\n",
       "      <td>1.0</td>\n",
       "      <td>[0.00549316759098, 0.0, 0.0, 0.0, 0.0, 0.0, 0....</td>\n",
       "    </tr>\n",
       "    <tr>\n",
       "      <th>5</th>\n",
       "      <td>4r33dXcE1oYZxjONrhxTiA</td>\n",
       "      <td>9gNko6cFCMZbvy1zhJ7-Xg</td>\n",
       "      <td>5.0</td>\n",
       "      <td>[0.0, 0.0, 0.0, 0.0, 0.0, 0.0, 0.0, 0.0, 0.0, ...</td>\n",
       "    </tr>\n",
       "    <tr>\n",
       "      <th>6</th>\n",
       "      <td>Bwa7MWEM88FtiNLaXWCkww</td>\n",
       "      <td>X2X3n0PutSNonQQj2cjsCw</td>\n",
       "      <td>4.0</td>\n",
       "      <td>[0.0, 0.0, 0.0, 0.0, 0.0, 0.0, 0.0, 0.0, 0.0, ...</td>\n",
       "    </tr>\n",
       "    <tr>\n",
       "      <th>7</th>\n",
       "      <td>cUUCMncwWZm57s95iUX1Gg</td>\n",
       "      <td>dW79jPJVpzlTKGF-1JAsaw</td>\n",
       "      <td>3.0</td>\n",
       "      <td>[0.0, 0.0, 0.0, 0.0, 0.0, 0.0, 0.0, 0.0, 0.0, ...</td>\n",
       "    </tr>\n",
       "    <tr>\n",
       "      <th>8</th>\n",
       "      <td>vd5wfQ2L8fszYBHDPza9yw</td>\n",
       "      <td>yPcAdikNrXEsfbHNBQUjkQ</td>\n",
       "      <td>3.0</td>\n",
       "      <td>[0.0264315048363, 0.0, 0.0, 0.0, 0.0, 0.0, 0.0...</td>\n",
       "    </tr>\n",
       "    <tr>\n",
       "      <th>9</th>\n",
       "      <td>91koVXu54Y6tIiZKKxVmrw</td>\n",
       "      <td>N8FdrKl0y_E_mUOj8VSFuA</td>\n",
       "      <td>5.0</td>\n",
       "      <td>[0.0, 0.0, 0.0, 0.0, 0.0, 0.0, 0.0, 0.0, 0.0, ...</td>\n",
       "    </tr>\n",
       "    <tr>\n",
       "      <th>10</th>\n",
       "      <td>3z1EttCePzDn9OZbudD5VA</td>\n",
       "      <td>hDD6-yk1yuuRIvfdtHsISg</td>\n",
       "      <td>2.0</td>\n",
       "      <td>[0.0, 0.0, 0.0, 0.0, 0.0, 0.0, 0.0, 0.0, 0.0, ...</td>\n",
       "    </tr>\n",
       "    <tr>\n",
       "      <th>11</th>\n",
       "      <td>GvttvpDroFphQ8t_vYlJYw</td>\n",
       "      <td>cNCXUYQd3kFR_AyfjTejQQ</td>\n",
       "      <td>2.0</td>\n",
       "      <td>[0.0, 0.0, 0.0, 0.0, 0.0, 0.0, 0.0, 0.0, 0.0, ...</td>\n",
       "    </tr>\n",
       "    <tr>\n",
       "      <th>12</th>\n",
       "      <td>war8vMvCDNuVaB5FQ-ObcQ</td>\n",
       "      <td>mc5Ha4QyQZvU7fzr-ubhhw</td>\n",
       "      <td>4.0</td>\n",
       "      <td>[0.0, 0.0, 0.0, 0.0, 0.0, 0.0, 0.0, 0.0, 0.0, ...</td>\n",
       "    </tr>\n",
       "    <tr>\n",
       "      <th>13</th>\n",
       "      <td>M9MXoSsb193m1g0QmmUYBQ</td>\n",
       "      <td>y19xFolCozaRA-gGmHwkQA</td>\n",
       "      <td>5.0</td>\n",
       "      <td>[0.0, 0.0, 0.0, 0.0, 0.0, 0.0, 0.0, 0.0, 0.0, ...</td>\n",
       "    </tr>\n",
       "    <tr>\n",
       "      <th>14</th>\n",
       "      <td>rs3pq6wRmaSIADCInQXp9g</td>\n",
       "      <td>eC-duRpbiVsCD14oGYiDOA</td>\n",
       "      <td>4.0</td>\n",
       "      <td>[0.0, 0.0, 0.0, 0.0, 0.0, 0.0, 0.0, 0.0, 0.0, ...</td>\n",
       "    </tr>\n",
       "    <tr>\n",
       "      <th>15</th>\n",
       "      <td>ciXjBfJrAEteIKpzZg4I9g</td>\n",
       "      <td>X-b4-QvZLENnf3yFwhpSXQ</td>\n",
       "      <td>5.0</td>\n",
       "      <td>[0.038170153771, 0.022185984578, 0.0, 0.0, 0.0...</td>\n",
       "    </tr>\n",
       "    <tr>\n",
       "      <th>16</th>\n",
       "      <td>IOYbJgL67pkodqDGr1rIXg</td>\n",
       "      <td>qIyj7PNUSA1B6_rOkc8nIQ</td>\n",
       "      <td>4.0</td>\n",
       "      <td>[0.0, 0.0, 0.0, 0.0, 0.0, 0.0, 0.0, 0.0, 0.0, ...</td>\n",
       "    </tr>\n",
       "    <tr>\n",
       "      <th>17</th>\n",
       "      <td>Mrudkq5duCOoiuhL61ZBcQ</td>\n",
       "      <td>q0n4I-zqiI47xispOqc1lA</td>\n",
       "      <td>4.0</td>\n",
       "      <td>[0.0, 0.0, 0.0, 0.0, 0.0, 0.0, 0.0, 0.0, 0.0, ...</td>\n",
       "    </tr>\n",
       "    <tr>\n",
       "      <th>18</th>\n",
       "      <td>MLf4JUa1uzQkDLrBJ5yJHA</td>\n",
       "      <td>X2X3n0PutSNonQQj2cjsCw</td>\n",
       "      <td>2.0</td>\n",
       "      <td>[0.0, 0.0, 0.0, 0.0, 0.0, 0.0, 0.0, 0.0, 0.0, ...</td>\n",
       "    </tr>\n",
       "    <tr>\n",
       "      <th>19</th>\n",
       "      <td>NIu6vXbuw6qcv9kLkjy1lQ</td>\n",
       "      <td>7S3F3udDoxqYq3ZEFDU8iw</td>\n",
       "      <td>4.0</td>\n",
       "      <td>[0.0, 0.0, 0.0, 0.0, 0.0, 0.0, 0.0, 0.0, 0.0, ...</td>\n",
       "    </tr>\n",
       "    <tr>\n",
       "      <th>20</th>\n",
       "      <td>21W8iTZGWdCk1utgudcToQ</td>\n",
       "      <td>p_2Q6ebOtBOHCpBrvb78lg</td>\n",
       "      <td>4.0</td>\n",
       "      <td>[0.143358053836, 0.0, 0.0, 0.0, 0.0, 0.0, 0.0,...</td>\n",
       "    </tr>\n",
       "    <tr>\n",
       "      <th>21</th>\n",
       "      <td>qDgApqioN9qReeLiNytQqw</td>\n",
       "      <td>JALpYzMTlwiIcp1s9R4QIw</td>\n",
       "      <td>3.0</td>\n",
       "      <td>[0.0740897785932, 0.0, 0.0, 0.0, 0.0, 0.0, 0.0...</td>\n",
       "    </tr>\n",
       "    <tr>\n",
       "      <th>22</th>\n",
       "      <td>63lZ3an8YiKOncMmy4VY3w</td>\n",
       "      <td>3GuqcEYaF1d1WXcwOX5xPw</td>\n",
       "      <td>4.0</td>\n",
       "      <td>[0.0320426016583, 0.0, 0.0, 0.0, 0.0, 0.0, 0.0...</td>\n",
       "    </tr>\n",
       "    <tr>\n",
       "      <th>23</th>\n",
       "      <td>CYTpi63Tv_UTjsaTMCZUvg</td>\n",
       "      <td>ejaUQ1hYo7Q7xCL1HdPINw</td>\n",
       "      <td>4.0</td>\n",
       "      <td>[0.0154024863824, 0.0, 0.0, 0.0, 0.0, 0.0, 0.0...</td>\n",
       "    </tr>\n",
       "    <tr>\n",
       "      <th>24</th>\n",
       "      <td>d0D7L-vfQDIADolnPAcb9A</td>\n",
       "      <td>8edTRAKWTzd0B_sfb8ekeQ</td>\n",
       "      <td>4.0</td>\n",
       "      <td>[0.111002278742, 0.0, 0.0, 0.0, 0.0, 0.0, 0.0,...</td>\n",
       "    </tr>\n",
       "    <tr>\n",
       "      <th>25</th>\n",
       "      <td>Kw5RHGNWA3ByBPzMv5oaRg</td>\n",
       "      <td>OFdMlXxtkU_nUh8jJ4W6GA</td>\n",
       "      <td>5.0</td>\n",
       "      <td>[0.0, 0.0, 0.0, 0.0, 0.0, 0.0, 0.0, 0.0, 0.0, ...</td>\n",
       "    </tr>\n",
       "    <tr>\n",
       "      <th>26</th>\n",
       "      <td>3SrvQNZ1d1D5ynOP2LTVpw</td>\n",
       "      <td>m_zeXzkj3btfvRJiPVw8Ug</td>\n",
       "      <td>4.0</td>\n",
       "      <td>[0.0, 0.0, 0.0, 0.0, 0.0, 0.0, 0.0, 0.0, 0.0, ...</td>\n",
       "    </tr>\n",
       "    <tr>\n",
       "      <th>27</th>\n",
       "      <td>UsmTxWbobLsI6WR1Db0W7A</td>\n",
       "      <td>rJHMVTCjCHXfZ7AboUL5Qg</td>\n",
       "      <td>4.0</td>\n",
       "      <td>[0.0, 0.0, 0.0, 0.0, 0.0, 0.0, 0.0, 0.0, 0.0, ...</td>\n",
       "    </tr>\n",
       "    <tr>\n",
       "      <th>28</th>\n",
       "      <td>tu5AwWOh6QlSvpi5CXalQg</td>\n",
       "      <td>8B7A5KqrrbxOlCX66hqfOg</td>\n",
       "      <td>4.0</td>\n",
       "      <td>[0.171006906361, 0.0, 0.0, 0.0, 0.0, 0.0, 0.0,...</td>\n",
       "    </tr>\n",
       "    <tr>\n",
       "      <th>29</th>\n",
       "      <td>JVJOfFqPmZEvkRznzF8w-w</td>\n",
       "      <td>7odNqxZDSR6ZVgxjp2r39A</td>\n",
       "      <td>3.0</td>\n",
       "      <td>[0.0, 0.0, 0.0, 0.0, 0.0, 0.0, 0.0, 0.0, 0.0, ...</td>\n",
       "    </tr>\n",
       "    <tr>\n",
       "      <th>...</th>\n",
       "      <td>...</td>\n",
       "      <td>...</td>\n",
       "      <td>...</td>\n",
       "      <td>...</td>\n",
       "    </tr>\n",
       "    <tr>\n",
       "      <th>38367</th>\n",
       "      <td>bu1mtWwxuayzV6b3VScWLw</td>\n",
       "      <td>KTPRYqiFdLowAUEAnN7e3g</td>\n",
       "      <td>4.0</td>\n",
       "      <td>[0.0362340772244, 0.0, 0.0, 0.0, 0.0, 0.0, 0.0...</td>\n",
       "    </tr>\n",
       "    <tr>\n",
       "      <th>38368</th>\n",
       "      <td>RZ3byPx6SO194CrG58IGWA</td>\n",
       "      <td>bCa0CY4F74N5lCEVOquKkg</td>\n",
       "      <td>4.0</td>\n",
       "      <td>[0.0116678659192, 0.0, 0.0, 0.0, 0.0, 0.0, 0.0...</td>\n",
       "    </tr>\n",
       "    <tr>\n",
       "      <th>38369</th>\n",
       "      <td>2JjI8DCyrpabtg36iL5lrw</td>\n",
       "      <td>J5JzAUd2wzyArZ-qHT0A4A</td>\n",
       "      <td>4.0</td>\n",
       "      <td>[0.0, 0.0, 0.0, 0.0, 0.0, 0.0, 0.0, 0.0, 0.0, ...</td>\n",
       "    </tr>\n",
       "    <tr>\n",
       "      <th>38370</th>\n",
       "      <td>135DbbQnr3BEkQbBzZ9T1A</td>\n",
       "      <td>hDRjIbbseWN7ZSVZy2t2fA</td>\n",
       "      <td>3.0</td>\n",
       "      <td>[0.0, 0.0, 0.0, 0.0, 0.0, 0.0, 0.0, 0.0, 0.0, ...</td>\n",
       "    </tr>\n",
       "    <tr>\n",
       "      <th>38371</th>\n",
       "      <td>Tf2UEmgBq1q5PNXJYjDYWQ</td>\n",
       "      <td>usFNFsaaHFxEbnBO4FaFHA</td>\n",
       "      <td>4.0</td>\n",
       "      <td>[0.0326896821217, 0.0, 0.0, 0.0, 0.01978544911...</td>\n",
       "    </tr>\n",
       "    <tr>\n",
       "      <th>38372</th>\n",
       "      <td>L5dKFysiA53KMxAshNTb0w</td>\n",
       "      <td>6LTV9xxwSlrUzFGWx1A8EQ</td>\n",
       "      <td>4.0</td>\n",
       "      <td>[0.0, 0.0, 0.0, 0.0, 0.0, 0.0, 0.0, 0.0, 0.0, ...</td>\n",
       "    </tr>\n",
       "    <tr>\n",
       "      <th>38373</th>\n",
       "      <td>MDeA-Gx8NScCyAdziq7IeA</td>\n",
       "      <td>D6vRifMTw7hxUZCpNHknsw</td>\n",
       "      <td>4.0</td>\n",
       "      <td>[0.0, 0.0, 0.0, 0.0, 0.0, 0.0, 0.0, 0.0, 0.0, ...</td>\n",
       "    </tr>\n",
       "    <tr>\n",
       "      <th>38374</th>\n",
       "      <td>LsWpfxWjLQcazDqnZ_A62g</td>\n",
       "      <td>bqW0f0RigwpYyz1lbxhHlw</td>\n",
       "      <td>3.0</td>\n",
       "      <td>[0.0, 0.0, 0.0, 0.0, 0.0, 0.0, 0.0, 0.0, 0.0, ...</td>\n",
       "    </tr>\n",
       "    <tr>\n",
       "      <th>38375</th>\n",
       "      <td>X2AiYF7z32_0Oitl4aYXwg</td>\n",
       "      <td>JrrY4v21k7_qYxIidhi-aw</td>\n",
       "      <td>4.0</td>\n",
       "      <td>[0.0, 0.0, 0.0, 0.0, 0.0, 0.0, 0.0, 0.0, 0.0, ...</td>\n",
       "    </tr>\n",
       "    <tr>\n",
       "      <th>38376</th>\n",
       "      <td>67IMqiMGTTlobnDMEWszmw</td>\n",
       "      <td>F8ZdHw7rhyp3FRqQpqQNTg</td>\n",
       "      <td>4.0</td>\n",
       "      <td>[0.0, 0.0, 0.0, 0.0, 0.0, 0.0, 0.0, 0.0, 0.0, ...</td>\n",
       "    </tr>\n",
       "    <tr>\n",
       "      <th>38377</th>\n",
       "      <td>JeIVRtZiwUnSP9qR4AmfEQ</td>\n",
       "      <td>rXKzE4Iraz7vGWovWW-aBA</td>\n",
       "      <td>5.0</td>\n",
       "      <td>[0.0, 0.0, 0.0, 0.0, 0.0, 0.0, 0.0, 0.0, 0.0, ...</td>\n",
       "    </tr>\n",
       "    <tr>\n",
       "      <th>38378</th>\n",
       "      <td>a0-Lv095eNh5r5ghtl7d4g</td>\n",
       "      <td>-wXyBph4d0IQlQrS8H1rDw</td>\n",
       "      <td>2.0</td>\n",
       "      <td>[0.021019429695, 0.0, 0.0, 0.0, 0.0, 0.0, 0.0,...</td>\n",
       "    </tr>\n",
       "    <tr>\n",
       "      <th>38379</th>\n",
       "      <td>CR0D39AqYLrClEpLU31OkQ</td>\n",
       "      <td>tpJrlhn5QPI0ehDyYjN7qg</td>\n",
       "      <td>5.0</td>\n",
       "      <td>[0.0, 0.0, 0.0, 0.0, 0.0, 0.0, 0.0, 0.0, 0.0, ...</td>\n",
       "    </tr>\n",
       "    <tr>\n",
       "      <th>38380</th>\n",
       "      <td>v1L-ehinZ9ZXhwmdm4S_Lw</td>\n",
       "      <td>-8F04F54iDT6VgWPCgybug</td>\n",
       "      <td>3.0</td>\n",
       "      <td>[0.0, 0.0, 0.0, 0.0, 0.0, 0.0, 0.0, 0.0, 0.0, ...</td>\n",
       "    </tr>\n",
       "    <tr>\n",
       "      <th>38381</th>\n",
       "      <td>TvVbOGdF4V0RqcKc1dVXCQ</td>\n",
       "      <td>mc5Ha4QyQZvU7fzr-ubhhw</td>\n",
       "      <td>5.0</td>\n",
       "      <td>[0.0, 0.0, 0.0, 0.0, 0.0, 0.0, 0.0, 0.0, 0.0, ...</td>\n",
       "    </tr>\n",
       "    <tr>\n",
       "      <th>38382</th>\n",
       "      <td>lt_-V_6_l_wJ8gM8d8J7WQ</td>\n",
       "      <td>TmGxQgFdiG585PCs_2hCew</td>\n",
       "      <td>4.0</td>\n",
       "      <td>[0.0, 0.0, 0.0, 0.0, 0.0, 0.0, 0.0, 0.0, 0.0, ...</td>\n",
       "    </tr>\n",
       "    <tr>\n",
       "      <th>38383</th>\n",
       "      <td>BPL8bDIem9Dfx6JeV8KJLg</td>\n",
       "      <td>XxmziAeRqMKwsDjyyjVgeg</td>\n",
       "      <td>5.0</td>\n",
       "      <td>[0.0, 0.0, 0.0, 0.0, 0.0, 0.0, 0.0, 0.0, 0.0, ...</td>\n",
       "    </tr>\n",
       "    <tr>\n",
       "      <th>38384</th>\n",
       "      <td>rCWrxuRC8_pfagpchtHp6A</td>\n",
       "      <td>QqbZA4r5g1vCbOxOAKJgWg</td>\n",
       "      <td>5.0</td>\n",
       "      <td>[0.0290208554797, 0.0, 0.0, 0.0, 0.0, 0.0, 0.0...</td>\n",
       "    </tr>\n",
       "    <tr>\n",
       "      <th>38385</th>\n",
       "      <td>JgOcyMF1lTwSVCarSZrrrA</td>\n",
       "      <td>X-b4-QvZLENnf3yFwhpSXQ</td>\n",
       "      <td>4.0</td>\n",
       "      <td>[0.0305361230168, 0.0177487876624, 0.0, 0.0, 0...</td>\n",
       "    </tr>\n",
       "    <tr>\n",
       "      <th>38386</th>\n",
       "      <td>gWLeQBH2tgHk6OsBAUzNxA</td>\n",
       "      <td>xULATz2siGXOPia614mg2A</td>\n",
       "      <td>1.0</td>\n",
       "      <td>[0.00410042435634, 0.0, 0.0, 0.0, 0.0, 0.0, 0....</td>\n",
       "    </tr>\n",
       "    <tr>\n",
       "      <th>38387</th>\n",
       "      <td>FQzMahuwloL7r44Gl_lNNA</td>\n",
       "      <td>vpwyL6NHm-pTWJ5IeJb9yw</td>\n",
       "      <td>4.0</td>\n",
       "      <td>[0.0980805693712, 0.0, 0.0, 0.0, 0.0, 0.0, 0.0...</td>\n",
       "    </tr>\n",
       "    <tr>\n",
       "      <th>38388</th>\n",
       "      <td>PZNJFD35ex91hk7IPo1wmQ</td>\n",
       "      <td>mRZCTkOgDc28VWYMvo3nVQ</td>\n",
       "      <td>4.0</td>\n",
       "      <td>[0.0272394946935, 0.0, 0.0, 0.0, 0.0, 0.0, 0.0...</td>\n",
       "    </tr>\n",
       "    <tr>\n",
       "      <th>38389</th>\n",
       "      <td>g3V76Ja0XgWS1rqx0gxL_A</td>\n",
       "      <td>Iam7tYWhssw_rscSBkeRIQ</td>\n",
       "      <td>3.0</td>\n",
       "      <td>[0.0, 0.0, 0.0, 0.0, 0.0, 0.0, 0.0, 0.0, 0.0, ...</td>\n",
       "    </tr>\n",
       "    <tr>\n",
       "      <th>38390</th>\n",
       "      <td>hnVXeRIxCf6CQc1wcRx3tg</td>\n",
       "      <td>bCa0CY4F74N5lCEVOquKkg</td>\n",
       "      <td>3.0</td>\n",
       "      <td>[0.00875089943942, 0.0, 0.0, 0.0, 0.0, 0.0, 0....</td>\n",
       "    </tr>\n",
       "    <tr>\n",
       "      <th>38391</th>\n",
       "      <td>tmvYYqXiz3I235x-SSOeTw</td>\n",
       "      <td>6XQKCJO-52pjQssVCrw06A</td>\n",
       "      <td>5.0</td>\n",
       "      <td>[0.0, 0.0, 0.0, 0.0, 0.0, 0.0, 0.0, 0.0, 0.0, ...</td>\n",
       "    </tr>\n",
       "    <tr>\n",
       "      <th>38392</th>\n",
       "      <td>M3My5CtVoToHpDH0HcbhmA</td>\n",
       "      <td>ZYof0WYlilJ3pgWNSgmYKQ</td>\n",
       "      <td>5.0</td>\n",
       "      <td>[0.0, 0.0, 0.0, 0.0, 0.0, 0.0, 0.0, 0.0, 0.0, ...</td>\n",
       "    </tr>\n",
       "    <tr>\n",
       "      <th>38393</th>\n",
       "      <td>H5U7NJWU7pA3-xLQg70OFw</td>\n",
       "      <td>K3lYaKPdaBim-LCOcmi6Jg</td>\n",
       "      <td>4.0</td>\n",
       "      <td>[0.151280011192, 0.0, 0.0, 0.0, 0.0, 0.0, 0.0,...</td>\n",
       "    </tr>\n",
       "    <tr>\n",
       "      <th>38394</th>\n",
       "      <td>4wp4XI9AxKNqJima-xahlg</td>\n",
       "      <td>vg55SAkrEmuHpWfIMtJjBQ</td>\n",
       "      <td>5.0</td>\n",
       "      <td>[0.0, 0.0, 0.0, 0.0, 0.0, 0.0, 0.0, 0.0, 0.038...</td>\n",
       "    </tr>\n",
       "    <tr>\n",
       "      <th>38395</th>\n",
       "      <td>bkr_Mo4Ns_k5TB4ei6VELw</td>\n",
       "      <td>oS96aJIHFWcFAlGHKKXjaw</td>\n",
       "      <td>5.0</td>\n",
       "      <td>[0.0, 0.0, 0.0, 0.0330407733831, 0.0, 0.0, 0.0...</td>\n",
       "    </tr>\n",
       "    <tr>\n",
       "      <th>38396</th>\n",
       "      <td>3DltS5Wr9MOntnc8StBFBA</td>\n",
       "      <td>X4CRPHvv-33kjxVJISZpUg</td>\n",
       "      <td>4.0</td>\n",
       "      <td>[0.0, 0.0, 0.0, 0.0, 0.0, 0.0, 0.0, 0.0, 0.0, ...</td>\n",
       "    </tr>\n",
       "  </tbody>\n",
       "</table>\n",
       "<p>38397 rows × 4 columns</p>\n",
       "</div>"
      ],
      "text/plain": [
       "                           _1                      _2   _3  \\\n",
       "0      3egcdazws_x1wW35jgXfNw  gae9LAyt7Qvf_OgAkWASxA  4.0   \n",
       "1      2JjI8DCyrpabtg36iL5lrw  YN8pgoAGNfk8J3LKmSVJ2w  3.0   \n",
       "2      eA-KLkSEq9RYt9-RfNZXCA  RYBGhnFtyZGjlREEfcRFrg  4.0   \n",
       "3      BxDsaVNeWxc5mNyA1HtSHQ  oeW0vIYd3rUnAPgmD4fEFg  5.0   \n",
       "4      jlWYqr9IGLQrSRowtsKf4g  CsbNmQqu9dKFrgcIItevYA  1.0   \n",
       "5      4r33dXcE1oYZxjONrhxTiA  9gNko6cFCMZbvy1zhJ7-Xg  5.0   \n",
       "6      Bwa7MWEM88FtiNLaXWCkww  X2X3n0PutSNonQQj2cjsCw  4.0   \n",
       "7      cUUCMncwWZm57s95iUX1Gg  dW79jPJVpzlTKGF-1JAsaw  3.0   \n",
       "8      vd5wfQ2L8fszYBHDPza9yw  yPcAdikNrXEsfbHNBQUjkQ  3.0   \n",
       "9      91koVXu54Y6tIiZKKxVmrw  N8FdrKl0y_E_mUOj8VSFuA  5.0   \n",
       "10     3z1EttCePzDn9OZbudD5VA  hDD6-yk1yuuRIvfdtHsISg  2.0   \n",
       "11     GvttvpDroFphQ8t_vYlJYw  cNCXUYQd3kFR_AyfjTejQQ  2.0   \n",
       "12     war8vMvCDNuVaB5FQ-ObcQ  mc5Ha4QyQZvU7fzr-ubhhw  4.0   \n",
       "13     M9MXoSsb193m1g0QmmUYBQ  y19xFolCozaRA-gGmHwkQA  5.0   \n",
       "14     rs3pq6wRmaSIADCInQXp9g  eC-duRpbiVsCD14oGYiDOA  4.0   \n",
       "15     ciXjBfJrAEteIKpzZg4I9g  X-b4-QvZLENnf3yFwhpSXQ  5.0   \n",
       "16     IOYbJgL67pkodqDGr1rIXg  qIyj7PNUSA1B6_rOkc8nIQ  4.0   \n",
       "17     Mrudkq5duCOoiuhL61ZBcQ  q0n4I-zqiI47xispOqc1lA  4.0   \n",
       "18     MLf4JUa1uzQkDLrBJ5yJHA  X2X3n0PutSNonQQj2cjsCw  2.0   \n",
       "19     NIu6vXbuw6qcv9kLkjy1lQ  7S3F3udDoxqYq3ZEFDU8iw  4.0   \n",
       "20     21W8iTZGWdCk1utgudcToQ  p_2Q6ebOtBOHCpBrvb78lg  4.0   \n",
       "21     qDgApqioN9qReeLiNytQqw  JALpYzMTlwiIcp1s9R4QIw  3.0   \n",
       "22     63lZ3an8YiKOncMmy4VY3w  3GuqcEYaF1d1WXcwOX5xPw  4.0   \n",
       "23     CYTpi63Tv_UTjsaTMCZUvg  ejaUQ1hYo7Q7xCL1HdPINw  4.0   \n",
       "24     d0D7L-vfQDIADolnPAcb9A  8edTRAKWTzd0B_sfb8ekeQ  4.0   \n",
       "25     Kw5RHGNWA3ByBPzMv5oaRg  OFdMlXxtkU_nUh8jJ4W6GA  5.0   \n",
       "26     3SrvQNZ1d1D5ynOP2LTVpw  m_zeXzkj3btfvRJiPVw8Ug  4.0   \n",
       "27     UsmTxWbobLsI6WR1Db0W7A  rJHMVTCjCHXfZ7AboUL5Qg  4.0   \n",
       "28     tu5AwWOh6QlSvpi5CXalQg  8B7A5KqrrbxOlCX66hqfOg  4.0   \n",
       "29     JVJOfFqPmZEvkRznzF8w-w  7odNqxZDSR6ZVgxjp2r39A  3.0   \n",
       "...                       ...                     ...  ...   \n",
       "38367  bu1mtWwxuayzV6b3VScWLw  KTPRYqiFdLowAUEAnN7e3g  4.0   \n",
       "38368  RZ3byPx6SO194CrG58IGWA  bCa0CY4F74N5lCEVOquKkg  4.0   \n",
       "38369  2JjI8DCyrpabtg36iL5lrw  J5JzAUd2wzyArZ-qHT0A4A  4.0   \n",
       "38370  135DbbQnr3BEkQbBzZ9T1A  hDRjIbbseWN7ZSVZy2t2fA  3.0   \n",
       "38371  Tf2UEmgBq1q5PNXJYjDYWQ  usFNFsaaHFxEbnBO4FaFHA  4.0   \n",
       "38372  L5dKFysiA53KMxAshNTb0w  6LTV9xxwSlrUzFGWx1A8EQ  4.0   \n",
       "38373  MDeA-Gx8NScCyAdziq7IeA  D6vRifMTw7hxUZCpNHknsw  4.0   \n",
       "38374  LsWpfxWjLQcazDqnZ_A62g  bqW0f0RigwpYyz1lbxhHlw  3.0   \n",
       "38375  X2AiYF7z32_0Oitl4aYXwg  JrrY4v21k7_qYxIidhi-aw  4.0   \n",
       "38376  67IMqiMGTTlobnDMEWszmw  F8ZdHw7rhyp3FRqQpqQNTg  4.0   \n",
       "38377  JeIVRtZiwUnSP9qR4AmfEQ  rXKzE4Iraz7vGWovWW-aBA  5.0   \n",
       "38378  a0-Lv095eNh5r5ghtl7d4g  -wXyBph4d0IQlQrS8H1rDw  2.0   \n",
       "38379  CR0D39AqYLrClEpLU31OkQ  tpJrlhn5QPI0ehDyYjN7qg  5.0   \n",
       "38380  v1L-ehinZ9ZXhwmdm4S_Lw  -8F04F54iDT6VgWPCgybug  3.0   \n",
       "38381  TvVbOGdF4V0RqcKc1dVXCQ  mc5Ha4QyQZvU7fzr-ubhhw  5.0   \n",
       "38382  lt_-V_6_l_wJ8gM8d8J7WQ  TmGxQgFdiG585PCs_2hCew  4.0   \n",
       "38383  BPL8bDIem9Dfx6JeV8KJLg  XxmziAeRqMKwsDjyyjVgeg  5.0   \n",
       "38384  rCWrxuRC8_pfagpchtHp6A  QqbZA4r5g1vCbOxOAKJgWg  5.0   \n",
       "38385  JgOcyMF1lTwSVCarSZrrrA  X-b4-QvZLENnf3yFwhpSXQ  4.0   \n",
       "38386  gWLeQBH2tgHk6OsBAUzNxA  xULATz2siGXOPia614mg2A  1.0   \n",
       "38387  FQzMahuwloL7r44Gl_lNNA  vpwyL6NHm-pTWJ5IeJb9yw  4.0   \n",
       "38388  PZNJFD35ex91hk7IPo1wmQ  mRZCTkOgDc28VWYMvo3nVQ  4.0   \n",
       "38389  g3V76Ja0XgWS1rqx0gxL_A  Iam7tYWhssw_rscSBkeRIQ  3.0   \n",
       "38390  hnVXeRIxCf6CQc1wcRx3tg  bCa0CY4F74N5lCEVOquKkg  3.0   \n",
       "38391  tmvYYqXiz3I235x-SSOeTw  6XQKCJO-52pjQssVCrw06A  5.0   \n",
       "38392  M3My5CtVoToHpDH0HcbhmA  ZYof0WYlilJ3pgWNSgmYKQ  5.0   \n",
       "38393  H5U7NJWU7pA3-xLQg70OFw  K3lYaKPdaBim-LCOcmi6Jg  4.0   \n",
       "38394  4wp4XI9AxKNqJima-xahlg  vg55SAkrEmuHpWfIMtJjBQ  5.0   \n",
       "38395  bkr_Mo4Ns_k5TB4ei6VELw  oS96aJIHFWcFAlGHKKXjaw  5.0   \n",
       "38396  3DltS5Wr9MOntnc8StBFBA  X4CRPHvv-33kjxVJISZpUg  4.0   \n",
       "\n",
       "                                                  Vector  \n",
       "0      [0.0, 0.0, 0.0, 0.0, 0.0, 0.0, 0.0, 0.0, 0.0, ...  \n",
       "1      [0.0, 0.0, 0.0, 0.0, 0.0, 0.0, 0.0, 0.0, 0.0, ...  \n",
       "2      [0.0, 0.0, 0.0, 0.0, 0.0, 0.0, 0.0, 0.0, 0.0, ...  \n",
       "3      [0.0469108080909, 0.0, 0.0, 0.0, 0.0, 0.0, 0.0...  \n",
       "4      [0.00549316759098, 0.0, 0.0, 0.0, 0.0, 0.0, 0....  \n",
       "5      [0.0, 0.0, 0.0, 0.0, 0.0, 0.0, 0.0, 0.0, 0.0, ...  \n",
       "6      [0.0, 0.0, 0.0, 0.0, 0.0, 0.0, 0.0, 0.0, 0.0, ...  \n",
       "7      [0.0, 0.0, 0.0, 0.0, 0.0, 0.0, 0.0, 0.0, 0.0, ...  \n",
       "8      [0.0264315048363, 0.0, 0.0, 0.0, 0.0, 0.0, 0.0...  \n",
       "9      [0.0, 0.0, 0.0, 0.0, 0.0, 0.0, 0.0, 0.0, 0.0, ...  \n",
       "10     [0.0, 0.0, 0.0, 0.0, 0.0, 0.0, 0.0, 0.0, 0.0, ...  \n",
       "11     [0.0, 0.0, 0.0, 0.0, 0.0, 0.0, 0.0, 0.0, 0.0, ...  \n",
       "12     [0.0, 0.0, 0.0, 0.0, 0.0, 0.0, 0.0, 0.0, 0.0, ...  \n",
       "13     [0.0, 0.0, 0.0, 0.0, 0.0, 0.0, 0.0, 0.0, 0.0, ...  \n",
       "14     [0.0, 0.0, 0.0, 0.0, 0.0, 0.0, 0.0, 0.0, 0.0, ...  \n",
       "15     [0.038170153771, 0.022185984578, 0.0, 0.0, 0.0...  \n",
       "16     [0.0, 0.0, 0.0, 0.0, 0.0, 0.0, 0.0, 0.0, 0.0, ...  \n",
       "17     [0.0, 0.0, 0.0, 0.0, 0.0, 0.0, 0.0, 0.0, 0.0, ...  \n",
       "18     [0.0, 0.0, 0.0, 0.0, 0.0, 0.0, 0.0, 0.0, 0.0, ...  \n",
       "19     [0.0, 0.0, 0.0, 0.0, 0.0, 0.0, 0.0, 0.0, 0.0, ...  \n",
       "20     [0.143358053836, 0.0, 0.0, 0.0, 0.0, 0.0, 0.0,...  \n",
       "21     [0.0740897785932, 0.0, 0.0, 0.0, 0.0, 0.0, 0.0...  \n",
       "22     [0.0320426016583, 0.0, 0.0, 0.0, 0.0, 0.0, 0.0...  \n",
       "23     [0.0154024863824, 0.0, 0.0, 0.0, 0.0, 0.0, 0.0...  \n",
       "24     [0.111002278742, 0.0, 0.0, 0.0, 0.0, 0.0, 0.0,...  \n",
       "25     [0.0, 0.0, 0.0, 0.0, 0.0, 0.0, 0.0, 0.0, 0.0, ...  \n",
       "26     [0.0, 0.0, 0.0, 0.0, 0.0, 0.0, 0.0, 0.0, 0.0, ...  \n",
       "27     [0.0, 0.0, 0.0, 0.0, 0.0, 0.0, 0.0, 0.0, 0.0, ...  \n",
       "28     [0.171006906361, 0.0, 0.0, 0.0, 0.0, 0.0, 0.0,...  \n",
       "29     [0.0, 0.0, 0.0, 0.0, 0.0, 0.0, 0.0, 0.0, 0.0, ...  \n",
       "...                                                  ...  \n",
       "38367  [0.0362340772244, 0.0, 0.0, 0.0, 0.0, 0.0, 0.0...  \n",
       "38368  [0.0116678659192, 0.0, 0.0, 0.0, 0.0, 0.0, 0.0...  \n",
       "38369  [0.0, 0.0, 0.0, 0.0, 0.0, 0.0, 0.0, 0.0, 0.0, ...  \n",
       "38370  [0.0, 0.0, 0.0, 0.0, 0.0, 0.0, 0.0, 0.0, 0.0, ...  \n",
       "38371  [0.0326896821217, 0.0, 0.0, 0.0, 0.01978544911...  \n",
       "38372  [0.0, 0.0, 0.0, 0.0, 0.0, 0.0, 0.0, 0.0, 0.0, ...  \n",
       "38373  [0.0, 0.0, 0.0, 0.0, 0.0, 0.0, 0.0, 0.0, 0.0, ...  \n",
       "38374  [0.0, 0.0, 0.0, 0.0, 0.0, 0.0, 0.0, 0.0, 0.0, ...  \n",
       "38375  [0.0, 0.0, 0.0, 0.0, 0.0, 0.0, 0.0, 0.0, 0.0, ...  \n",
       "38376  [0.0, 0.0, 0.0, 0.0, 0.0, 0.0, 0.0, 0.0, 0.0, ...  \n",
       "38377  [0.0, 0.0, 0.0, 0.0, 0.0, 0.0, 0.0, 0.0, 0.0, ...  \n",
       "38378  [0.021019429695, 0.0, 0.0, 0.0, 0.0, 0.0, 0.0,...  \n",
       "38379  [0.0, 0.0, 0.0, 0.0, 0.0, 0.0, 0.0, 0.0, 0.0, ...  \n",
       "38380  [0.0, 0.0, 0.0, 0.0, 0.0, 0.0, 0.0, 0.0, 0.0, ...  \n",
       "38381  [0.0, 0.0, 0.0, 0.0, 0.0, 0.0, 0.0, 0.0, 0.0, ...  \n",
       "38382  [0.0, 0.0, 0.0, 0.0, 0.0, 0.0, 0.0, 0.0, 0.0, ...  \n",
       "38383  [0.0, 0.0, 0.0, 0.0, 0.0, 0.0, 0.0, 0.0, 0.0, ...  \n",
       "38384  [0.0290208554797, 0.0, 0.0, 0.0, 0.0, 0.0, 0.0...  \n",
       "38385  [0.0305361230168, 0.0177487876624, 0.0, 0.0, 0...  \n",
       "38386  [0.00410042435634, 0.0, 0.0, 0.0, 0.0, 0.0, 0....  \n",
       "38387  [0.0980805693712, 0.0, 0.0, 0.0, 0.0, 0.0, 0.0...  \n",
       "38388  [0.0272394946935, 0.0, 0.0, 0.0, 0.0, 0.0, 0.0...  \n",
       "38389  [0.0, 0.0, 0.0, 0.0, 0.0, 0.0, 0.0, 0.0, 0.0, ...  \n",
       "38390  [0.00875089943942, 0.0, 0.0, 0.0, 0.0, 0.0, 0....  \n",
       "38391  [0.0, 0.0, 0.0, 0.0, 0.0, 0.0, 0.0, 0.0, 0.0, ...  \n",
       "38392  [0.0, 0.0, 0.0, 0.0, 0.0, 0.0, 0.0, 0.0, 0.0, ...  \n",
       "38393  [0.151280011192, 0.0, 0.0, 0.0, 0.0, 0.0, 0.0,...  \n",
       "38394  [0.0, 0.0, 0.0, 0.0, 0.0, 0.0, 0.0, 0.0, 0.038...  \n",
       "38395  [0.0, 0.0, 0.0, 0.0330407733831, 0.0, 0.0, 0.0...  \n",
       "38396  [0.0, 0.0, 0.0, 0.0, 0.0, 0.0, 0.0, 0.0, 0.0, ...  \n",
       "\n",
       "[38397 rows x 4 columns]"
      ]
     },
     "execution_count": 35,
     "metadata": {},
     "output_type": "execute_result"
    }
   ],
   "source": [
    "userPandas"
   ]
  },
  {
   "cell_type": "markdown",
   "metadata": {},
   "source": [
    "Product and rating column not needed"
   ]
  },
  {
   "cell_type": "code",
   "execution_count": 36,
   "metadata": {
    "collapsed": true
   },
   "outputs": [],
   "source": [
    "del userPandas['_2']\n",
    "del userPandas['_3']"
   ]
  },
  {
   "cell_type": "markdown",
   "metadata": {},
   "source": [
    "Linear combination of feature vectors"
   ]
  },
  {
   "cell_type": "code",
   "execution_count": 37,
   "metadata": {
    "collapsed": true
   },
   "outputs": [],
   "source": [
    "userPandas = userPandas.groupby(['_1']).sum()"
   ]
  },
  {
   "cell_type": "markdown",
   "metadata": {},
   "source": [
    "Normalize the user feature vectors"
   ]
  },
  {
   "cell_type": "code",
   "execution_count": 38,
   "metadata": {
    "collapsed": true
   },
   "outputs": [],
   "source": [
    "from sklearn.preprocessing import Normalizer"
   ]
  },
  {
   "cell_type": "code",
   "execution_count": 39,
   "metadata": {
    "collapsed": true
   },
   "outputs": [],
   "source": [
    "for index, row in userPandas.iterrows():\n",
    "    vector = np.array(row['Vector']).reshape(1, -1)\n",
    "    transformer = Normalizer().fit(vector)\n",
    "    userPandas.at[index,'Vector'] = transformer.transform(vector)"
   ]
  },
  {
   "cell_type": "code",
   "execution_count": 40,
   "metadata": {},
   "outputs": [
    {
     "data": {
      "text/html": [
       "<div>\n",
       "<style>\n",
       "    .dataframe thead tr:only-child th {\n",
       "        text-align: right;\n",
       "    }\n",
       "\n",
       "    .dataframe thead th {\n",
       "        text-align: left;\n",
       "    }\n",
       "\n",
       "    .dataframe tbody tr th {\n",
       "        vertical-align: top;\n",
       "    }\n",
       "</style>\n",
       "<table border=\"1\" class=\"dataframe\">\n",
       "  <thead>\n",
       "    <tr style=\"text-align: right;\">\n",
       "      <th></th>\n",
       "      <th>Vector</th>\n",
       "    </tr>\n",
       "    <tr>\n",
       "      <th>_1</th>\n",
       "      <th></th>\n",
       "    </tr>\n",
       "  </thead>\n",
       "  <tbody>\n",
       "    <tr>\n",
       "      <th>-0-hVEpwWEcJLJoGq3rE3g</th>\n",
       "      <td>[[0.00615835412603, 0.0, 0.0, 0.0, 0.000922140...</td>\n",
       "    </tr>\n",
       "    <tr>\n",
       "      <th>-2OB54nQ6FsGLUM-R1KXnA</th>\n",
       "      <td>[[0.00754647464141, 0.000816293149086, 0.0, 0....</td>\n",
       "    </tr>\n",
       "    <tr>\n",
       "      <th>-ARdx8hOcEWlMDjzwLYZ_g</th>\n",
       "      <td>[[0.00936276793327, 0.00118454361657, 0.0, 0.0...</td>\n",
       "    </tr>\n",
       "    <tr>\n",
       "      <th>-Pk25bOBsvemFaWKDBVBzA</th>\n",
       "      <td>[[0.00520853482007, 0.0, 0.0, 0.0, 0.000951302...</td>\n",
       "    </tr>\n",
       "    <tr>\n",
       "      <th>-Q2wBtscwW6JOqlBndji4A</th>\n",
       "      <td>[[0.00347866771189, 0.000394463441461, 0.0, 0....</td>\n",
       "    </tr>\n",
       "    <tr>\n",
       "      <th>-Q4bjWlbxmb1yKP4U7OODg</th>\n",
       "      <td>[[0.00748184620648, 0.00111679982221, 0.0, 0.0...</td>\n",
       "    </tr>\n",
       "    <tr>\n",
       "      <th>-SDx-d5jppC4OBBosLVpYw</th>\n",
       "      <td>[[0.0145795139085, 0.000867873056934, 0.0, 0.0...</td>\n",
       "    </tr>\n",
       "    <tr>\n",
       "      <th>-XgVXGJnOnW0kQEol6O3Pg</th>\n",
       "      <td>[[0.00924828001642, 0.0, 0.0, 0.0, 0.000691329...</td>\n",
       "    </tr>\n",
       "    <tr>\n",
       "      <th>-Y6tXYPYqeVy37-L5p0rMw</th>\n",
       "      <td>[[0.00924447837274, 0.0015946375716, 0.0, 0.00...</td>\n",
       "    </tr>\n",
       "    <tr>\n",
       "      <th>-a873HRQxWRRobMNT4xOKg</th>\n",
       "      <td>[[0.00849843776588, 0.00145316584715, 0.0, 0.0...</td>\n",
       "    </tr>\n",
       "    <tr>\n",
       "      <th>-c_t-8ORqOZBuKE-jdY8aQ</th>\n",
       "      <td>[[0.00561749917336, 0.0012291149716, 0.0, 0.00...</td>\n",
       "    </tr>\n",
       "    <tr>\n",
       "      <th>-dV2GaHNJHhDYbrmu48ZDQ</th>\n",
       "      <td>[[0.00840640540236, 0.00143877430268, 0.0, 0.0...</td>\n",
       "    </tr>\n",
       "    <tr>\n",
       "      <th>-hietrA8M58asfpyJkCyiA</th>\n",
       "      <td>[[0.00950223939044, 0.0009994979329, 0.0, 0.0,...</td>\n",
       "    </tr>\n",
       "    <tr>\n",
       "      <th>-hnBzgVoRoqLrGVSxO0ilg</th>\n",
       "      <td>[[0.00670888130422, 0.00401636327663, 0.0, 0.0...</td>\n",
       "    </tr>\n",
       "    <tr>\n",
       "      <th>-kE5zO-54cQUmcG6zvfZtA</th>\n",
       "      <td>[[0.00962959982715, 0.00251615648304, 0.0, 0.0...</td>\n",
       "    </tr>\n",
       "    <tr>\n",
       "      <th>-sv8-a09Psq5CMzmg6E4OQ</th>\n",
       "      <td>[[0.00639671945763, 0.000279185319938, 0.0, 0....</td>\n",
       "    </tr>\n",
       "    <tr>\n",
       "      <th>-t9kQSbZ0Hnehu-L8GmSZA</th>\n",
       "      <td>[[0.00537500331209, 0.00125666385609, 0.0, 0.0...</td>\n",
       "    </tr>\n",
       "    <tr>\n",
       "      <th>-x8cmjyJoeBQhC9XySyUzQ</th>\n",
       "      <td>[[0.0171048193534, 0.0, 0.0, 0.0, 0.0017760419...</td>\n",
       "    </tr>\n",
       "    <tr>\n",
       "      <th>-zoKnhRd4Knnj_P-qO0GPQ</th>\n",
       "      <td>[[0.0117964429879, 0.000524635305069, 0.0, 0.0...</td>\n",
       "    </tr>\n",
       "    <tr>\n",
       "      <th>0-zHvlwR7ZmVeasLRGwpag</th>\n",
       "      <td>[[0.0234562809144, 0.00112134612749, 0.0, 0.00...</td>\n",
       "    </tr>\n",
       "    <tr>\n",
       "      <th>01bmnye5yXRyDZ5Je6tnKg</th>\n",
       "      <td>[[0.0128006358133, 0.00112231319543, 0.0, 0.00...</td>\n",
       "    </tr>\n",
       "    <tr>\n",
       "      <th>04Yay6wY_leHMTxLV7h4WA</th>\n",
       "      <td>[[0.00326525266288, 0.0, 0.0, 0.0, 0.002846658...</td>\n",
       "    </tr>\n",
       "    <tr>\n",
       "      <th>0BxF-X_WBAoL6Zk46RzhYQ</th>\n",
       "      <td>[[0.010054980292, 0.00206517396864, 0.0, 0.0, ...</td>\n",
       "    </tr>\n",
       "    <tr>\n",
       "      <th>0EhPIlDozxGKpbbHRr6vZg</th>\n",
       "      <td>[[0.0128378222553, 0.000655345792785, 0.0, 0.0...</td>\n",
       "    </tr>\n",
       "    <tr>\n",
       "      <th>0JIiQelaItruoV6F9pWHvw</th>\n",
       "      <td>[[0.0154614154806, 0.0, 0.0, 0.000887690718627...</td>\n",
       "    </tr>\n",
       "    <tr>\n",
       "      <th>0KhRPd66BZGHCtsb9mGh_g</th>\n",
       "      <td>[[0.00779169170485, 0.0, 0.0, 0.0, 0.0, 0.0, 0...</td>\n",
       "    </tr>\n",
       "    <tr>\n",
       "      <th>0KihFGLcS_O2sb7XaCUZ-w</th>\n",
       "      <td>[[0.0091596964278, 0.00043558298721, 0.0, 0.0,...</td>\n",
       "    </tr>\n",
       "    <tr>\n",
       "      <th>0N91KZHstHSnKwJVRa2p2g</th>\n",
       "      <td>[[0.0131240321396, 0.0, 0.0, 0.0, 0.0, 0.0, 0....</td>\n",
       "    </tr>\n",
       "    <tr>\n",
       "      <th>0N9bSCmoJMoGmR0EldzjQg</th>\n",
       "      <td>[[0.00919279907978, 0.000524690440838, 0.0, 0....</td>\n",
       "    </tr>\n",
       "    <tr>\n",
       "      <th>0Pj91NFPtXWeIDaLp2kuyw</th>\n",
       "      <td>[[0.00865738029555, 0.0, 0.0, 0.00265354352605...</td>\n",
       "    </tr>\n",
       "    <tr>\n",
       "      <th>...</th>\n",
       "      <td>...</td>\n",
       "    </tr>\n",
       "    <tr>\n",
       "      <th>yQsX1CXh8rhpcm9Hg3L94A</th>\n",
       "      <td>[[0.00924275833947, 0.000407653192294, 0.0, 0....</td>\n",
       "    </tr>\n",
       "    <tr>\n",
       "      <th>yR2Ck_FztBOWA66oV16OEw</th>\n",
       "      <td>[[0.0104764780593, 0.000938020441867, 0.0, 0.0...</td>\n",
       "    </tr>\n",
       "    <tr>\n",
       "      <th>yVMvS4Q7JTxHALm8CTwSZQ</th>\n",
       "      <td>[[0.00645791501158, 0.00154757706248, 0.0, 0.0...</td>\n",
       "    </tr>\n",
       "    <tr>\n",
       "      <th>y_XgW02VKRwDKGhHq17yuA</th>\n",
       "      <td>[[0.00776411298666, 0.00532984776632, 0.0, 0.0...</td>\n",
       "    </tr>\n",
       "    <tr>\n",
       "      <th>yaBIVHDxaUBN2YHQ8-YiuQ</th>\n",
       "      <td>[[0.00883867543438, 0.00143773113898, 0.0, 0.0...</td>\n",
       "    </tr>\n",
       "    <tr>\n",
       "      <th>yeQ_7p0DoGcHtRC71mE60w</th>\n",
       "      <td>[[0.00778735301784, 0.00033484921174, 0.0, 0.0...</td>\n",
       "    </tr>\n",
       "    <tr>\n",
       "      <th>yfK0Od09W_D5jzXBzRgnlA</th>\n",
       "      <td>[[0.00709026431223, 0.0, 0.0, 0.00046889394034...</td>\n",
       "    </tr>\n",
       "    <tr>\n",
       "      <th>yo0a5UXcvWt_WxPF_lgiag</th>\n",
       "      <td>[[0.0123107595737, 0.00208470403637, 0.0, 0.00...</td>\n",
       "    </tr>\n",
       "    <tr>\n",
       "      <th>yuSuzAo5BcJLono1klyY8w</th>\n",
       "      <td>[[0.007296780849, 0.000790253130035, 0.0, 0.0,...</td>\n",
       "    </tr>\n",
       "    <tr>\n",
       "      <th>yvGd8gLYJX5UH-I2CUzUQw</th>\n",
       "      <td>[[0.0102087119507, 0.000609933206296, 0.0, 0.0...</td>\n",
       "    </tr>\n",
       "    <tr>\n",
       "      <th>yyGp1_3i_zhfpBVIY4Xaww</th>\n",
       "      <td>[[0.0183980986186, 0.00124046989329, 0.0, 0.0,...</td>\n",
       "    </tr>\n",
       "    <tr>\n",
       "      <th>z2YVGKKcup6mjQmDQ6arEg</th>\n",
       "      <td>[[0.0131135956635, 0.0, 0.0, 0.000276456141092...</td>\n",
       "    </tr>\n",
       "    <tr>\n",
       "      <th>z4MQzyewTRzSoStg0NwL-w</th>\n",
       "      <td>[[0.00797902359147, 0.00241845988613, 0.0, 0.0...</td>\n",
       "    </tr>\n",
       "    <tr>\n",
       "      <th>zATgdMp_5gL4kYPu7aVdUg</th>\n",
       "      <td>[[0.0124102924677, 0.00151151116519, 0.0, 0.0,...</td>\n",
       "    </tr>\n",
       "    <tr>\n",
       "      <th>zAzCOnCSS1DiceIWXKQQWw</th>\n",
       "      <td>[[0.00794865375585, 0.000978731871596, 0.0, 0....</td>\n",
       "    </tr>\n",
       "    <tr>\n",
       "      <th>zC70QZxr3nhQP3TKF3uTjA</th>\n",
       "      <td>[[0.00769990099046, 0.0101921785137, 0.0, 0.0,...</td>\n",
       "    </tr>\n",
       "    <tr>\n",
       "      <th>zCNkLqHEImSxUlhljSXKEg</th>\n",
       "      <td>[[0.00590524493262, 0.0, 0.0, 0.0, 0.0, 0.0, 0...</td>\n",
       "    </tr>\n",
       "    <tr>\n",
       "      <th>zFCuveEe6M-ijY1iy23IJg</th>\n",
       "      <td>[[0.00729476695576, 0.00141565331398, 0.0, 0.0...</td>\n",
       "    </tr>\n",
       "    <tr>\n",
       "      <th>zPwZQEVmFg9cbmsEwLpA6g</th>\n",
       "      <td>[[0.0103479534347, 0.00018634778086, 0.0, 0.00...</td>\n",
       "    </tr>\n",
       "    <tr>\n",
       "      <th>zTCC1-ITmJvo14PxINcw6g</th>\n",
       "      <td>[[0.00685591628735, 0.0, 0.0, 0.0, 0.005688977...</td>\n",
       "    </tr>\n",
       "    <tr>\n",
       "      <th>zTCwJg0hPY_cb3vWY0XMbg</th>\n",
       "      <td>[[0.0108012235608, 0.0, 0.0, 0.0, 0.0004855599...</td>\n",
       "    </tr>\n",
       "    <tr>\n",
       "      <th>zUQVfRIwoDJb_-8qiWUNwA</th>\n",
       "      <td>[[0.0140288435741, 0.0108000726201, 0.0, 0.003...</td>\n",
       "    </tr>\n",
       "    <tr>\n",
       "      <th>z_ueJdSU51z4RTU9Fg5Ikg</th>\n",
       "      <td>[[0.00945957980181, 0.000957483854081, 0.0, 0....</td>\n",
       "    </tr>\n",
       "    <tr>\n",
       "      <th>zaNUeZZ-Xm21o3fZ0CUbXA</th>\n",
       "      <td>[[0.00669121415874, 0.0, 0.0, 0.00067091239227...</td>\n",
       "    </tr>\n",
       "    <tr>\n",
       "      <th>zg6LAy9gGLVH9JtcYP9gJg</th>\n",
       "      <td>[[0.00614993011432, 0.000329638438245, 0.0, 0....</td>\n",
       "    </tr>\n",
       "    <tr>\n",
       "      <th>zg6lm7DLKJArzFxLDILhwQ</th>\n",
       "      <td>[[0.00795194891821, 0.0, 0.0, 0.0, 0.000344473...</td>\n",
       "    </tr>\n",
       "    <tr>\n",
       "      <th>zg84sSf8RSC4bKfSHO6rpA</th>\n",
       "      <td>[[0.00667384886346, 0.000557514448928, 0.0, 0....</td>\n",
       "    </tr>\n",
       "    <tr>\n",
       "      <th>zgo6ehbfeMOcsG9bgofMNg</th>\n",
       "      <td>[[0.0117775484149, 0.0, 0.0, 0.00151161083327,...</td>\n",
       "    </tr>\n",
       "    <tr>\n",
       "      <th>zh8-XfjqlwAxf--RS4azzg</th>\n",
       "      <td>[[0.010246162873, 0.00118617866345, 0.0, 0.0, ...</td>\n",
       "    </tr>\n",
       "    <tr>\n",
       "      <th>zokgpfAn1onJ1DppA1DTDw</th>\n",
       "      <td>[[0.00568815393292, 0.00037770737195, 0.0, 0.0...</td>\n",
       "    </tr>\n",
       "  </tbody>\n",
       "</table>\n",
       "<p>987 rows × 1 columns</p>\n",
       "</div>"
      ],
      "text/plain": [
       "                                                                   Vector\n",
       "_1                                                                       \n",
       "-0-hVEpwWEcJLJoGq3rE3g  [[0.00615835412603, 0.0, 0.0, 0.0, 0.000922140...\n",
       "-2OB54nQ6FsGLUM-R1KXnA  [[0.00754647464141, 0.000816293149086, 0.0, 0....\n",
       "-ARdx8hOcEWlMDjzwLYZ_g  [[0.00936276793327, 0.00118454361657, 0.0, 0.0...\n",
       "-Pk25bOBsvemFaWKDBVBzA  [[0.00520853482007, 0.0, 0.0, 0.0, 0.000951302...\n",
       "-Q2wBtscwW6JOqlBndji4A  [[0.00347866771189, 0.000394463441461, 0.0, 0....\n",
       "-Q4bjWlbxmb1yKP4U7OODg  [[0.00748184620648, 0.00111679982221, 0.0, 0.0...\n",
       "-SDx-d5jppC4OBBosLVpYw  [[0.0145795139085, 0.000867873056934, 0.0, 0.0...\n",
       "-XgVXGJnOnW0kQEol6O3Pg  [[0.00924828001642, 0.0, 0.0, 0.0, 0.000691329...\n",
       "-Y6tXYPYqeVy37-L5p0rMw  [[0.00924447837274, 0.0015946375716, 0.0, 0.00...\n",
       "-a873HRQxWRRobMNT4xOKg  [[0.00849843776588, 0.00145316584715, 0.0, 0.0...\n",
       "-c_t-8ORqOZBuKE-jdY8aQ  [[0.00561749917336, 0.0012291149716, 0.0, 0.00...\n",
       "-dV2GaHNJHhDYbrmu48ZDQ  [[0.00840640540236, 0.00143877430268, 0.0, 0.0...\n",
       "-hietrA8M58asfpyJkCyiA  [[0.00950223939044, 0.0009994979329, 0.0, 0.0,...\n",
       "-hnBzgVoRoqLrGVSxO0ilg  [[0.00670888130422, 0.00401636327663, 0.0, 0.0...\n",
       "-kE5zO-54cQUmcG6zvfZtA  [[0.00962959982715, 0.00251615648304, 0.0, 0.0...\n",
       "-sv8-a09Psq5CMzmg6E4OQ  [[0.00639671945763, 0.000279185319938, 0.0, 0....\n",
       "-t9kQSbZ0Hnehu-L8GmSZA  [[0.00537500331209, 0.00125666385609, 0.0, 0.0...\n",
       "-x8cmjyJoeBQhC9XySyUzQ  [[0.0171048193534, 0.0, 0.0, 0.0, 0.0017760419...\n",
       "-zoKnhRd4Knnj_P-qO0GPQ  [[0.0117964429879, 0.000524635305069, 0.0, 0.0...\n",
       "0-zHvlwR7ZmVeasLRGwpag  [[0.0234562809144, 0.00112134612749, 0.0, 0.00...\n",
       "01bmnye5yXRyDZ5Je6tnKg  [[0.0128006358133, 0.00112231319543, 0.0, 0.00...\n",
       "04Yay6wY_leHMTxLV7h4WA  [[0.00326525266288, 0.0, 0.0, 0.0, 0.002846658...\n",
       "0BxF-X_WBAoL6Zk46RzhYQ  [[0.010054980292, 0.00206517396864, 0.0, 0.0, ...\n",
       "0EhPIlDozxGKpbbHRr6vZg  [[0.0128378222553, 0.000655345792785, 0.0, 0.0...\n",
       "0JIiQelaItruoV6F9pWHvw  [[0.0154614154806, 0.0, 0.0, 0.000887690718627...\n",
       "0KhRPd66BZGHCtsb9mGh_g  [[0.00779169170485, 0.0, 0.0, 0.0, 0.0, 0.0, 0...\n",
       "0KihFGLcS_O2sb7XaCUZ-w  [[0.0091596964278, 0.00043558298721, 0.0, 0.0,...\n",
       "0N91KZHstHSnKwJVRa2p2g  [[0.0131240321396, 0.0, 0.0, 0.0, 0.0, 0.0, 0....\n",
       "0N9bSCmoJMoGmR0EldzjQg  [[0.00919279907978, 0.000524690440838, 0.0, 0....\n",
       "0Pj91NFPtXWeIDaLp2kuyw  [[0.00865738029555, 0.0, 0.0, 0.00265354352605...\n",
       "...                                                                   ...\n",
       "yQsX1CXh8rhpcm9Hg3L94A  [[0.00924275833947, 0.000407653192294, 0.0, 0....\n",
       "yR2Ck_FztBOWA66oV16OEw  [[0.0104764780593, 0.000938020441867, 0.0, 0.0...\n",
       "yVMvS4Q7JTxHALm8CTwSZQ  [[0.00645791501158, 0.00154757706248, 0.0, 0.0...\n",
       "y_XgW02VKRwDKGhHq17yuA  [[0.00776411298666, 0.00532984776632, 0.0, 0.0...\n",
       "yaBIVHDxaUBN2YHQ8-YiuQ  [[0.00883867543438, 0.00143773113898, 0.0, 0.0...\n",
       "yeQ_7p0DoGcHtRC71mE60w  [[0.00778735301784, 0.00033484921174, 0.0, 0.0...\n",
       "yfK0Od09W_D5jzXBzRgnlA  [[0.00709026431223, 0.0, 0.0, 0.00046889394034...\n",
       "yo0a5UXcvWt_WxPF_lgiag  [[0.0123107595737, 0.00208470403637, 0.0, 0.00...\n",
       "yuSuzAo5BcJLono1klyY8w  [[0.007296780849, 0.000790253130035, 0.0, 0.0,...\n",
       "yvGd8gLYJX5UH-I2CUzUQw  [[0.0102087119507, 0.000609933206296, 0.0, 0.0...\n",
       "yyGp1_3i_zhfpBVIY4Xaww  [[0.0183980986186, 0.00124046989329, 0.0, 0.0,...\n",
       "z2YVGKKcup6mjQmDQ6arEg  [[0.0131135956635, 0.0, 0.0, 0.000276456141092...\n",
       "z4MQzyewTRzSoStg0NwL-w  [[0.00797902359147, 0.00241845988613, 0.0, 0.0...\n",
       "zATgdMp_5gL4kYPu7aVdUg  [[0.0124102924677, 0.00151151116519, 0.0, 0.0,...\n",
       "zAzCOnCSS1DiceIWXKQQWw  [[0.00794865375585, 0.000978731871596, 0.0, 0....\n",
       "zC70QZxr3nhQP3TKF3uTjA  [[0.00769990099046, 0.0101921785137, 0.0, 0.0,...\n",
       "zCNkLqHEImSxUlhljSXKEg  [[0.00590524493262, 0.0, 0.0, 0.0, 0.0, 0.0, 0...\n",
       "zFCuveEe6M-ijY1iy23IJg  [[0.00729476695576, 0.00141565331398, 0.0, 0.0...\n",
       "zPwZQEVmFg9cbmsEwLpA6g  [[0.0103479534347, 0.00018634778086, 0.0, 0.00...\n",
       "zTCC1-ITmJvo14PxINcw6g  [[0.00685591628735, 0.0, 0.0, 0.0, 0.005688977...\n",
       "zTCwJg0hPY_cb3vWY0XMbg  [[0.0108012235608, 0.0, 0.0, 0.0, 0.0004855599...\n",
       "zUQVfRIwoDJb_-8qiWUNwA  [[0.0140288435741, 0.0108000726201, 0.0, 0.003...\n",
       "z_ueJdSU51z4RTU9Fg5Ikg  [[0.00945957980181, 0.000957483854081, 0.0, 0....\n",
       "zaNUeZZ-Xm21o3fZ0CUbXA  [[0.00669121415874, 0.0, 0.0, 0.00067091239227...\n",
       "zg6LAy9gGLVH9JtcYP9gJg  [[0.00614993011432, 0.000329638438245, 0.0, 0....\n",
       "zg6lm7DLKJArzFxLDILhwQ  [[0.00795194891821, 0.0, 0.0, 0.0, 0.000344473...\n",
       "zg84sSf8RSC4bKfSHO6rpA  [[0.00667384886346, 0.000557514448928, 0.0, 0....\n",
       "zgo6ehbfeMOcsG9bgofMNg  [[0.0117775484149, 0.0, 0.0, 0.00151161083327,...\n",
       "zh8-XfjqlwAxf--RS4azzg  [[0.010246162873, 0.00118617866345, 0.0, 0.0, ...\n",
       "zokgpfAn1onJ1DppA1DTDw  [[0.00568815393292, 0.00037770737195, 0.0, 0.0...\n",
       "\n",
       "[987 rows x 1 columns]"
      ]
     },
     "execution_count": 40,
     "metadata": {},
     "output_type": "execute_result"
    }
   ],
   "source": [
    "userPandas"
   ]
  },
  {
   "cell_type": "markdown",
   "metadata": {},
   "source": [
    "### Create user numpy matrix from feature vectors"
   ]
  },
  {
   "cell_type": "code",
   "execution_count": 41,
   "metadata": {
    "collapsed": true
   },
   "outputs": [],
   "source": [
    "user_matrix = np.zeros((len(userPandas), tfidf_prod.shape[1]))\n",
    "idx = 0\n",
    "for index, row in userPandas.iterrows():\n",
    "    vector = np.array(row['Vector'])[0]\n",
    "    user_matrix[idx] = vector\n",
    "    idx += 1\n",
    "    "
   ]
  },
  {
   "cell_type": "code",
   "execution_count": 42,
   "metadata": {},
   "outputs": [
    {
     "data": {
      "text/plain": [
       "array([[ 0.00615835,  0.        ,  0.        , ...,  0.        ,\n",
       "         0.        ,  0.        ],\n",
       "       [ 0.00754647,  0.00081629,  0.        , ...,  0.        ,\n",
       "         0.        ,  0.        ],\n",
       "       [ 0.00936277,  0.00118454,  0.        , ...,  0.        ,\n",
       "         0.00030528,  0.        ],\n",
       "       ..., \n",
       "       [ 0.01177755,  0.        ,  0.        , ...,  0.        ,\n",
       "         0.        ,  0.        ],\n",
       "       [ 0.01024616,  0.00118618,  0.        , ...,  0.        ,\n",
       "         0.        ,  0.        ],\n",
       "       [ 0.00568815,  0.00037771,  0.        , ...,  0.        ,\n",
       "         0.        ,  0.        ]])"
      ]
     },
     "execution_count": 42,
     "metadata": {},
     "output_type": "execute_result"
    }
   ],
   "source": [
    "user_matrix"
   ]
  },
  {
   "cell_type": "markdown",
   "metadata": {},
   "source": [
    "### Create product numpy matrix from feature vectors"
   ]
  },
  {
   "cell_type": "code",
   "execution_count": 43,
   "metadata": {
    "collapsed": true
   },
   "outputs": [],
   "source": [
    "prod_matrix = np.zeros((len(prodPandas), tfidf_prod.shape[1]))\n",
    "idx = 0\n",
    "for index, row in prodPandas.iterrows():\n",
    "    vector = np.array(row['Vector'])\n",
    "    prod_matrix[idx] = vector\n",
    "    idx += 1"
   ]
  },
  {
   "cell_type": "code",
   "execution_count": 44,
   "metadata": {},
   "outputs": [
    {
     "data": {
      "text/plain": [
       "array([[ 0.,  0.,  0., ...,  0.,  0.,  0.],\n",
       "       [ 0.,  0.,  0., ...,  0.,  0.,  0.],\n",
       "       [ 0.,  0.,  0., ...,  0.,  0.,  0.],\n",
       "       ..., \n",
       "       [ 0.,  0.,  0., ...,  0.,  0.,  0.],\n",
       "       [ 0.,  0.,  0., ...,  0.,  0.,  0.],\n",
       "       [ 0.,  0.,  0., ...,  0.,  0.,  0.]])"
      ]
     },
     "execution_count": 44,
     "metadata": {},
     "output_type": "execute_result"
    }
   ],
   "source": [
    "prod_matrix"
   ]
  },
  {
   "cell_type": "markdown",
   "metadata": {},
   "source": [
    "### Compute cosine similarity by taking dot product"
   ]
  },
  {
   "cell_type": "code",
   "execution_count": 1,
   "metadata": {},
   "outputs": [
    {
     "ename": "NameError",
     "evalue": "name 'np' is not defined",
     "output_type": "error",
     "traceback": [
      "\u001b[0;31m---------------------------------------------------------------------------\u001b[0m",
      "\u001b[0;31mNameError\u001b[0m                                 Traceback (most recent call last)",
      "\u001b[0;32m<ipython-input-1-eb803e55191b>\u001b[0m in \u001b[0;36m<module>\u001b[0;34m()\u001b[0m\n\u001b[0;32m----> 1\u001b[0;31m \u001b[0msimilarity_matrix\u001b[0m \u001b[0;34m=\u001b[0m \u001b[0mnp\u001b[0m\u001b[0;34m.\u001b[0m\u001b[0mdot\u001b[0m\u001b[0;34m(\u001b[0m\u001b[0muser_matrix\u001b[0m\u001b[0;34m,\u001b[0m \u001b[0mprod_matrix\u001b[0m\u001b[0;34m.\u001b[0m\u001b[0mT\u001b[0m\u001b[0;34m)\u001b[0m\u001b[0;34m\u001b[0m\u001b[0m\n\u001b[0m",
      "\u001b[0;31mNameError\u001b[0m: name 'np' is not defined"
     ]
    }
   ],
   "source": [
    "similarity_matrix = np.dot(user_matrix, prod_matrix.T)"
   ]
  },
  {
   "cell_type": "code",
   "execution_count": 46,
   "metadata": {},
   "outputs": [
    {
     "data": {
      "text/plain": [
       "(987, 3076)"
      ]
     },
     "execution_count": 46,
     "metadata": {},
     "output_type": "execute_result"
    }
   ],
   "source": [
    "similarity_matrix.shape"
   ]
  },
  {
   "cell_type": "markdown",
   "metadata": {},
   "source": [
    "### Flatten similarity matrix to related with user and products"
   ]
  },
  {
   "cell_type": "code",
   "execution_count": 47,
   "metadata": {
    "collapsed": true
   },
   "outputs": [],
   "source": [
    "prod = prodPandas['_1'].values\n",
    "user = userPandas.index.values"
   ]
  },
  {
   "cell_type": "code",
   "execution_count": 48,
   "metadata": {
    "collapsed": true
   },
   "outputs": [],
   "source": [
    "zf = similarity_matrix.flatten()\n",
    "xr = np.repeat(user, prod.size)\n",
    "yt = np.tile(prod, user.size)\n",
    "d = np.stack((xr, yt, zf), axis=-1)"
   ]
  },
  {
   "cell_type": "code",
   "execution_count": 49,
   "metadata": {},
   "outputs": [
    {
     "data": {
      "text/plain": [
       "(3036012, 3)"
      ]
     },
     "execution_count": 49,
     "metadata": {},
     "output_type": "execute_result"
    }
   ],
   "source": [
    "d.shape"
   ]
  },
  {
   "cell_type": "markdown",
   "metadata": {},
   "source": [
    "### Convert similarity matrix to RDD"
   ]
  },
  {
   "cell_type": "code",
   "execution_count": 50,
   "metadata": {
    "collapsed": true
   },
   "outputs": [],
   "source": [
    "similarity_rdd = sc.parallelize(d)"
   ]
  },
  {
   "cell_type": "code",
   "execution_count": 51,
   "metadata": {},
   "outputs": [
    {
     "data": {
      "text/plain": [
       "[array([u'-0-hVEpwWEcJLJoGq3rE3g', u'5REYrZfsX3m4E3FTwovp5Q',\n",
       "        0.5049527633273366], dtype=object),\n",
       " array([u'-0-hVEpwWEcJLJoGq3rE3g', u'HWrbZS1mxVRj2Y2VwMmDMg',\n",
       "        0.20888810243149972], dtype=object),\n",
       " array([u'-0-hVEpwWEcJLJoGq3rE3g', u'MvlQo4bev1eqp1q0HYOLHg',\n",
       "        0.13913650161619856], dtype=object),\n",
       " array([u'-0-hVEpwWEcJLJoGq3rE3g', u'2BF45Gr_FiubZqfP-JgaRQ',\n",
       "        0.09994331031112633], dtype=object),\n",
       " array([u'-0-hVEpwWEcJLJoGq3rE3g', u'X9Bql7RrPU5Mab5-hJsI8A',\n",
       "        0.40960488027192626], dtype=object)]"
      ]
     },
     "execution_count": 51,
     "metadata": {},
     "output_type": "execute_result"
    }
   ],
   "source": [
    "similarity_rdd.take(5)"
   ]
  },
  {
   "cell_type": "markdown",
   "metadata": {},
   "source": [
    "### Group Users "
   ]
  },
  {
   "cell_type": "code",
   "execution_count": null,
   "metadata": {
    "collapsed": true
   },
   "outputs": [],
   "source": [
    "userGrouped = similarity_rdd.map(lambda x: (x[0], (x[1], float(x[2])))).groupByKey().mapValues(lambda x: list(x))"
   ]
  },
  {
   "cell_type": "code",
   "execution_count": null,
   "metadata": {
    "collapsed": true
   },
   "outputs": [],
   "source": [
    "userGrouped.take(5)"
   ]
  },
  {
   "cell_type": "markdown",
   "metadata": {},
   "source": [
    "### Sort businesses for each user on the basis of similarity value"
   ]
  },
  {
   "cell_type": "code",
   "execution_count": null,
   "metadata": {
    "collapsed": true
   },
   "outputs": [],
   "source": [
    "similaritySorted = userGrouped.map(lambda x: (x[0], sorted(x[1], key=lambda y: y[1], reverse=True)))"
   ]
  },
  {
   "cell_type": "code",
   "execution_count": null,
   "metadata": {
    "collapsed": true
   },
   "outputs": [],
   "source": [
    "similaritySorted.take(2)"
   ]
  },
  {
   "cell_type": "markdown",
   "metadata": {},
   "source": [
    "### Take top N recommendations"
   ]
  },
  {
   "cell_type": "code",
   "execution_count": null,
   "metadata": {
    "collapsed": true
   },
   "outputs": [],
   "source": [
    "numKeep = 300"
   ]
  },
  {
   "cell_type": "code",
   "execution_count": null,
   "metadata": {
    "collapsed": true
   },
   "outputs": [],
   "source": [
    "topProds = similaritySorted.map(lambda x: (x[0], x[1][:numKeep])).mapValues(lambda x: [idx[0] for idx in x])"
   ]
  },
  {
   "cell_type": "code",
   "execution_count": null,
   "metadata": {
    "collapsed": true
   },
   "outputs": [],
   "source": [
    "topProds.take(2)"
   ]
  },
  {
   "cell_type": "code",
   "execution_count": null,
   "metadata": {
    "collapsed": true
   },
   "outputs": [],
   "source": [
    "topProds = topProds.collect()"
   ]
  },
  {
   "cell_type": "markdown",
   "metadata": {},
   "source": [
    "### Save similarity values"
   ]
  },
  {
   "cell_type": "code",
   "execution_count": null,
   "metadata": {
    "collapsed": true
   },
   "outputs": [],
   "source": [
    "with open('/Users/lakshya/Desktop/INF-553/Project/ReviewBasedSorted.txt', 'w') as f:\n",
    "    for item in topProds:\n",
    "        f.write(str(item[0])+\",\")\n",
    "        prodList = \"\"\n",
    "        for prod in item[1]:\n",
    "            prodList += str(prod)+\",\"\n",
    "        prodList = prodList[:-1]\n",
    "        f.write(prodList+\"\\n\")"
   ]
  }
 ],
 "metadata": {
  "kernelspec": {
   "display_name": "Python 2",
   "language": "python",
   "name": "python2"
  },
  "language_info": {
   "codemirror_mode": {
    "name": "ipython",
    "version": 2
   },
   "file_extension": ".py",
   "mimetype": "text/x-python",
   "name": "python",
   "nbconvert_exporter": "python",
   "pygments_lexer": "ipython2",
   "version": "2.7.6"
  }
 },
 "nbformat": 4,
 "nbformat_minor": 1
}
